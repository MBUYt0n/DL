{
 "cells": [
  {
   "cell_type": "code",
   "execution_count": null,
   "metadata": {
    "editable": false,
    "execution": {
     "iopub.execute_input": "2025-02-16T02:24:03.767175Z",
     "iopub.status.busy": "2025-02-16T02:24:03.766875Z",
     "iopub.status.idle": "2025-02-16T02:24:09.453355Z",
     "shell.execute_reply": "2025-02-16T02:24:09.452499Z",
     "shell.execute_reply.started": "2025-02-16T02:24:03.767147Z"
    },
    "trusted": true
   },
   "outputs": [],
   "source": [
    "import torch\n",
    "import torchvision\n",
    "\n",
    "mobilenetv2 = torchvision.models.mobilenet_v2(weights=\"MobileNet_V2_Weights.IMAGENET1K_V1\")"
   ]
  },
  {
   "cell_type": "code",
   "execution_count": null,
   "metadata": {
    "editable": false,
    "execution": {
     "iopub.execute_input": "2025-02-16T02:24:09.454772Z",
     "iopub.status.busy": "2025-02-16T02:24:09.454466Z",
     "iopub.status.idle": "2025-02-16T02:24:09.459358Z",
     "shell.execute_reply": "2025-02-16T02:24:09.458636Z",
     "shell.execute_reply.started": "2025-02-16T02:24:09.454752Z"
    },
    "trusted": true
   },
   "outputs": [],
   "source": [
    "import torchvision.transforms as transforms\n",
    "\n",
    "transform_train = transforms.Compose(\n",
    "    [\n",
    "        transforms.Resize((224, 224)),\n",
    "        transforms.RandomAffine(10, translate=(0.1, 0.1), scale=(0.9, 1.1), shear=10),\n",
    "        transforms.RandomHorizontalFlip(),\n",
    "        transforms.ToTensor(),\n",
    "        transforms.Normalize((0.485, 0.456, 0.406), (0.229, 0.224, 0.225)),\n",
    "    ]\n",
    ")\n",
    "\n",
    "transform_test = transforms.Compose(\n",
    "    [\n",
    "        transforms.Resize((224, 224)),\n",
    "        transforms.ToTensor(),\n",
    "        transforms.Normalize((0.485, 0.456, 0.406), (0.229, 0.224, 0.225)),\n",
    "    ]\n",
    ")"
   ]
  },
  {
   "cell_type": "code",
   "execution_count": null,
   "metadata": {
    "editable": false,
    "execution": {
     "iopub.execute_input": "2025-02-16T02:24:09.461110Z",
     "iopub.status.busy": "2025-02-16T02:24:09.460880Z",
     "iopub.status.idle": "2025-02-16T02:24:14.404610Z",
     "shell.execute_reply": "2025-02-16T02:24:14.403740Z",
     "shell.execute_reply.started": "2025-02-16T02:24:09.461090Z"
    },
    "trusted": true
   },
   "outputs": [],
   "source": [
    "train = torchvision.datasets.CIFAR10(\n",
    "    root=\"./data\", train=True, download=True, transform=transform_train\n",
    ")\n",
    "test = torchvision.datasets.CIFAR10(\n",
    "    root=\"./data\", train=False, download=False, transform=transform_test\n",
    ")"
   ]
  },
  {
   "cell_type": "code",
   "execution_count": null,
   "metadata": {
    "editable": false,
    "execution": {
     "iopub.execute_input": "2025-02-16T02:24:14.406188Z",
     "iopub.status.busy": "2025-02-16T02:24:14.405889Z",
     "iopub.status.idle": "2025-02-16T02:24:14.411710Z",
     "shell.execute_reply": "2025-02-16T02:24:14.410848Z",
     "shell.execute_reply.started": "2025-02-16T02:24:14.406160Z"
    },
    "trusted": true
   },
   "outputs": [],
   "source": [
    "class MobNetCustom(torch.nn.Module):\n",
    "    def __init__(self, model):\n",
    "        super(MobNetCustom, self).__init__()\n",
    "        self.features = model.features\n",
    "        self.avgpool1 = torch.nn.AvgPool2d(4)\n",
    "        self.fc1 = torch.nn.Linear(1280, 128)\n",
    "        self.fc2 = torch.nn.Linear(128, 10)\n",
    "        self.dropout = torch.nn.Dropout(0.3)\n",
    "\n",
    "    def forward(self, x):\n",
    "        x = self.features(x)\n",
    "        x = self.avgpool1(x)\n",
    "        x = torch.flatten(x, 1)\n",
    "        x = self.fc1(x)\n",
    "        x = self.dropout(x)\n",
    "        x = torch.nn.functional.relu(x)\n",
    "        return self.fc2(x)"
   ]
  },
  {
   "cell_type": "code",
   "execution_count": null,
   "metadata": {
    "editable": false,
    "execution": {
     "iopub.execute_input": "2025-02-16T02:24:14.412603Z",
     "iopub.status.busy": "2025-02-16T02:24:14.412413Z",
     "iopub.status.idle": "2025-02-16T02:24:14.449557Z",
     "shell.execute_reply": "2025-02-16T02:24:14.448843Z",
     "shell.execute_reply.started": "2025-02-16T02:24:14.412585Z"
    },
    "trusted": true
   },
   "outputs": [],
   "source": [
    "model = MobNetCustom(mobilenetv2)\n",
    "for i in model.features.parameters():\n",
    "    i.requires_grad = False"
   ]
  },
  {
   "cell_type": "code",
   "execution_count": null,
   "metadata": {
    "editable": false,
    "execution": {
     "iopub.execute_input": "2025-02-16T02:24:14.450672Z",
     "iopub.status.busy": "2025-02-16T02:24:14.450436Z",
     "iopub.status.idle": "2025-02-16T02:24:14.455401Z",
     "shell.execute_reply": "2025-02-16T02:24:14.454862Z",
     "shell.execute_reply.started": "2025-02-16T02:24:14.450651Z"
    },
    "trusted": true
   },
   "outputs": [],
   "source": [
    "train_loader = torch.utils.data.DataLoader(train, batch_size=192, shuffle=True)\n",
    "test_loader = torch.utils.data.DataLoader(test, batch_size=192, shuffle=False)"
   ]
  },
  {
   "cell_type": "code",
   "execution_count": null,
   "metadata": {
    "editable": false,
    "execution": {
     "iopub.execute_input": "2025-02-16T02:24:14.456604Z",
     "iopub.status.busy": "2025-02-16T02:24:14.456393Z",
     "iopub.status.idle": "2025-02-16T02:24:14.741462Z",
     "shell.execute_reply": "2025-02-16T02:24:14.740812Z",
     "shell.execute_reply.started": "2025-02-16T02:24:14.456585Z"
    },
    "trusted": true
   },
   "outputs": [],
   "source": [
    "from tqdm import tqdm\n",
    "\n",
    "device = torch.device(\"cuda\" if torch.cuda.is_available() else \"cpu\")\n",
    "model.to(device)\n",
    "criterion = torch.nn.CrossEntropyLoss()\n",
    "optimizer = torch.optim.Adam(model.parameters(), lr=0.005)"
   ]
  },
  {
   "cell_type": "code",
   "execution_count": null,
   "metadata": {
    "editable": false,
    "execution": {
     "iopub.execute_input": "2025-02-16T02:24:14.872951Z",
     "iopub.status.busy": "2025-02-16T02:24:14.872628Z",
     "iopub.status.idle": "2025-02-16T02:24:27.222680Z",
     "shell.execute_reply": "2025-02-16T02:24:27.222042Z",
     "shell.execute_reply.started": "2025-02-16T02:24:14.872914Z"
    },
    "trusted": true
   },
   "outputs": [],
   "source": [
    "import torch\n",
    "from torch.utils.tensorboard import SummaryWriter\n",
    "from tqdm import tqdm\n",
    "\n",
    "def train_loop(\n",
    "    model,\n",
    "    run_name,\n",
    "    num_epochs=10,\n",
    "    train_loader=train_loader,\n",
    "    test_loader=test_loader,\n",
    "    optimizer=optimizer,\n",
    "    criterion=criterion,\n",
    "    device=\"cuda\",\n",
    "):\n",
    "    writer = SummaryWriter(log_dir=f\"runs/{run_name}\")\n",
    "\n",
    "    for epoch in range(num_epochs):\n",
    "        model.train()\n",
    "        total_train_loss, correct_train, total_train = 0.0, 0, 0\n",
    "\n",
    "        train_loader_tqdm = tqdm(train_loader, desc=f\"Epoch {epoch+1} [Train]\", leave=True)\n",
    "        for images, labels in train_loader_tqdm:\n",
    "            images, labels = images.to(device), labels.to(device)\n",
    "            optimizer.zero_grad()\n",
    "            outputs = model(images)\n",
    "            loss = criterion(outputs, labels)\n",
    "            loss.backward()\n",
    "            optimizer.step()\n",
    "\n",
    "            total_train_loss += loss.item()\n",
    "            _, predicted = torch.max(outputs, 1)\n",
    "            correct_train += (predicted == labels).sum().item()\n",
    "            total_train += labels.size(0)\n",
    "\n",
    "        avg_train_loss = total_train_loss / len(train_loader)\n",
    "        train_accuracy = 100 * correct_train / total_train\n",
    "        \n",
    "        print(f\"Epoch {epoch+1} Train - Loss: {avg_train_loss:.4f}, Accuracy: {train_accuracy:.2f}%\")\n",
    "        writer.add_scalar(\"Loss/train\", avg_train_loss, epoch)\n",
    "        writer.add_scalar(\"Accuracy/train\", train_accuracy, epoch)\n",
    "\n",
    "        model.eval()\n",
    "        total_test_loss, correct_test, total_test = 0.0, 0, 0\n",
    "        \n",
    "        test_loader_tqdm = tqdm(test_loader, desc=f\"Epoch {epoch+1} [Test]\", leave=True)\n",
    "        with torch.no_grad():\n",
    "            for images, labels in test_loader_tqdm:\n",
    "                images, labels = images.to(device), labels.to(device)\n",
    "                outputs = model(images)\n",
    "                loss = criterion(outputs, labels)\n",
    "\n",
    "                total_test_loss += loss.item()\n",
    "                _, predicted = torch.max(outputs, 1)\n",
    "                correct_test += (predicted == labels).sum().item()\n",
    "                total_test += labels.size(0)\n",
    "\n",
    "        avg_test_loss = total_test_loss / len(test_loader)\n",
    "        test_accuracy = 100 * correct_test / total_test\n",
    "        \n",
    "        print(f\"Epoch {epoch+1} Test - Loss: {avg_test_loss:.4f}, Accuracy: {test_accuracy:.2f}%\")\n",
    "        writer.add_scalar(\"Loss/test\", avg_test_loss, epoch)\n",
    "        writer.add_scalar(\"Accuracy/test\", test_accuracy, epoch)\n",
    "\n",
    "    writer.close()"
   ]
  },
  {
   "cell_type": "code",
   "execution_count": null,
   "metadata": {
    "editable": false,
    "trusted": true
   },
   "outputs": [],
   "source": [
    "train_loop(model, \"initial\", num_epochs=5)"
   ]
  },
  {
   "cell_type": "code",
   "execution_count": null,
   "metadata": {
    "editable": false,
    "execution": {
     "iopub.execute_input": "2025-02-16T02:24:37.059688Z",
     "iopub.status.busy": "2025-02-16T02:24:37.059367Z",
     "iopub.status.idle": "2025-02-16T02:24:37.063693Z",
     "shell.execute_reply": "2025-02-16T02:24:37.062883Z",
     "shell.execute_reply.started": "2025-02-16T02:24:37.059661Z"
    },
    "trusted": true
   },
   "outputs": [],
   "source": [
    "def adjust_layers(model, num_layers):\n",
    "    for i in model.features[:num_layers].parameters():\n",
    "        i.requires_grad = True\n",
    "    return model"
   ]
  },
  {
   "cell_type": "code",
   "execution_count": null,
   "metadata": {
    "editable": false,
    "trusted": true
   },
   "outputs": [],
   "source": [
    "model = adjust_layers(model, 10)\n",
    "train_loop(model, \"final\", num_epochs=10)"
   ]
  },
  {
   "cell_type": "markdown",
   "metadata": {
    "editable": false
   },
   "source": [
    "# layers"
   ]
  },
  {
   "cell_type": "code",
   "execution_count": null,
   "metadata": {
    "editable": false,
    "execution": {
     "iopub.execute_input": "2025-02-16T02:26:43.656432Z",
     "iopub.status.busy": "2025-02-16T02:26:43.656158Z",
     "iopub.status.idle": "2025-02-16T02:30:48.510512Z",
     "shell.execute_reply": "2025-02-16T02:30:48.509632Z",
     "shell.execute_reply.started": "2025-02-16T02:26:43.656412Z"
    },
    "trusted": true
   },
   "outputs": [],
   "source": [
    "for i in [2, 5, 10]:\n",
    "    model = MobNetCustom(mobilenetv2).to(\"cuda\")\n",
    "    model = adjust_layers(model, i)\n",
    "    print(i)\n",
    "    train_loop(model, f\"{i}-layers\", num_epochs=5)"
   ]
  },
  {
   "cell_type": "markdown",
   "metadata": {
    "editable": false
   },
   "source": [
    "# lr"
   ]
  },
  {
   "cell_type": "code",
   "execution_count": null,
   "metadata": {
    "editable": false,
    "execution": {
     "iopub.execute_input": "2025-02-16T02:30:51.501602Z",
     "iopub.status.busy": "2025-02-16T02:30:51.501306Z",
     "iopub.status.idle": "2025-02-16T02:36:19.769995Z",
     "shell.execute_reply": "2025-02-16T02:36:19.769179Z",
     "shell.execute_reply.started": "2025-02-16T02:30:51.501578Z"
    },
    "trusted": true
   },
   "outputs": [],
   "source": [
    "for i in [0.01, 0.05, 0.001, 0.005]:\n",
    "    model = MobNetCustom(mobilenetv2).to(\"cuda\")\n",
    "    optimizer = torch.optim.Adam(model.parameters(), lr=i)\n",
    "    train_loop(model, f\"lr-{i}\", num_epochs=5, optimizer=optimizer)"
   ]
  },
  {
   "cell_type": "markdown",
   "metadata": {
    "editable": false
   },
   "source": [
    "# batch size"
   ]
  },
  {
   "cell_type": "code",
   "execution_count": null,
   "metadata": {
    "editable": false,
    "execution": {
     "iopub.execute_input": "2025-02-16T02:36:25.050707Z",
     "iopub.status.busy": "2025-02-16T02:36:25.050433Z",
     "iopub.status.idle": "2025-02-16T02:37:10.175289Z",
     "shell.execute_reply": "2025-02-16T02:37:10.174345Z",
     "shell.execute_reply.started": "2025-02-16T02:36:25.050685Z"
    },
    "trusted": true
   },
   "outputs": [],
   "source": [
    "for i in [32, 64, 128]:\n",
    "    train_loader = torch.utils.data.DataLoader(train, batch_size=i, shuffle=True)\n",
    "    test_loader = torch.utils.data.DataLoader(test, batch_size=i, shuffle=False)\n",
    "    model = MobNetCustom(mobilenetv2).to(\"cuda\")\n",
    "    train_loop(model, f\"batchsize-{i}\", num_epochs=5, train_loader=train_loader, test_loader=test_loader)"
   ]
  },
  {
   "cell_type": "markdown",
   "metadata": {
    "editable": false
   },
   "source": [
    "# final"
   ]
  },
  {
   "cell_type": "code",
   "execution_count": null,
   "metadata": {
    "editable": false,
    "trusted": true
   },
   "outputs": [],
   "source": [
    "model = MobNetCustom(mobilenetv2).to(\"cuda\")\n",
    "model = adjust_layers(model, 10)\n",
    "optimizer = torch.optim.Adam(model.parameters(), lr=0.005)\n",
    "train_loader = torch.utils.data.DataLoader(train, batch_size=192, shuffle=True)\n",
    "test_loader = torch.utils.data.DataLoader(test, batch_size=192, shuffle=False)\n",
    "train_loop(\n",
    "    model,\n",
    "    \"final\",\n",
    "    num_epochs=10,\n",
    "    optimizer=optimizer,\n",
    "    train_loader=train_loader,\n",
    "    test_loader=test_loader,\n",
    ")"
   ]
  }
 ],
 "metadata": {
  "kaggle": {
   "accelerator": "nvidiaTeslaT4",
   "dataSources": [],
   "dockerImageVersionId": 30887,
   "isGpuEnabled": true,
   "isInternetEnabled": true,
   "language": "python",
   "sourceType": "notebook"
  },
  "kernelspec": {
   "display_name": "Python (myenv)",
   "language": "python",
   "name": "torch"
  },
  "language_info": {
   "codemirror_mode": {
    "name": "ipython",
    "version": 3
   },
   "file_extension": ".py",
   "mimetype": "text/x-python",
   "name": "python",
   "nbconvert_exporter": "python",
   "pygments_lexer": "ipython3",
   "version": "3.12.3"
  }
 },
 "nbformat": 4,
 "nbformat_minor": 4
}
