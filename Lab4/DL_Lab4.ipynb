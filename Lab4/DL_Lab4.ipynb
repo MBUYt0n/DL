{
  "cells": [
    {
      "cell_type": "code",
      "execution_count": 1,
      "metadata": {
        "colab": {
          "base_uri": "https://localhost:8080/"
        },
        "id": "dTT00DCSEdjN",
        "outputId": "f633f31c-8653-4431-ffed-04e61548d358"
      },
      "outputs": [],
      "source": [
        "import torch\n",
        "import torchvision\n",
        "train = torchvision.datasets.CIFAR10(root='./data',train=True,download=False,transform=torchvision.transforms.ToTensor())\n",
        "test = torchvision.datasets.CIFAR10(root='./data',train=False,download=False,transform=torchvision.transforms.ToTensor())"
      ]
    },
    {
      "cell_type": "code",
      "execution_count": 2,
      "metadata": {
        "id": "VUtKWwQOEybl"
      },
      "outputs": [],
      "source": [
        "trainloader = torch.utils.data.DataLoader(train,batch_size=512,shuffle=True)\n",
        "testloader = torch.utils.data.DataLoader(test,batch_size=512,shuffle=False)"
      ]
    },
    {
      "cell_type": "code",
      "execution_count": 36,
      "metadata": {
        "id": "jT8fOzR0Fcat"
      },
      "outputs": [],
      "source": [
        "import torch.nn as nn\n",
        "import torch.nn.functional as F\n",
        "import torch\n",
        "\n",
        "class ImprovedCNN(nn.Module):\n",
        "    def __init__(self, num_classes=10):\n",
        "        super(ImprovedCNN, self).__init__()\n",
        "\n",
        "        self.conv1 = nn.Conv2d(3, 32, kernel_size=3, padding=1)\n",
        "        self.bn1 = nn.BatchNorm2d(32)\n",
        "\n",
        "        self.conv2 = nn.Conv2d(32, 64, kernel_size=3, stride=2, padding=1)  \n",
        "        self.bn2 = nn.BatchNorm2d(64)\n",
        "\n",
        "        self.conv3 = nn.Conv2d(64, 128, kernel_size=3, stride=3, padding=1)\n",
        "        self.bn3 = nn.BatchNorm2d(128)\n",
        "\n",
        "        self.conv4 = nn.Conv2d(128, 256, kernel_size=5, stride=3, padding=1)  \n",
        "        self.bn4 = nn.BatchNorm2d(256)\n",
        "\n",
        "        self.fc1 = nn.Linear(256*4, 256)\n",
        "        self.bn_fc1 = nn.BatchNorm1d(256)  \n",
        "        self.fc2 = nn.Linear(256, num_classes)\n",
        "\n",
        "        self.dropout = nn.Dropout(0.3)  \n",
        "\n",
        "    def forward(self, x):\n",
        "        x = F.silu(self.bn1(self.conv1(x)))\n",
        "        x = F.silu(self.bn2(self.conv2(x)))\n",
        "\n",
        "        x = F.silu(self.bn3(self.conv3(x)))\n",
        "        x = F.silu(self.bn4(self.conv4(x)))\n",
        "\n",
        "        x = x.flatten(1)\n",
        "        x = self.dropout(F.silu(self.bn_fc1(self.fc1(x))))\n",
        "        return self.fc2(x)\n",
        "        return x\n",
        "\n",
        "model = ImprovedCNN(num_classes=10)"
      ]
    },
    {
      "cell_type": "code",
      "execution_count": 37,
      "metadata": {
        "colab": {
          "base_uri": "https://localhost:8080/"
        },
        "id": "ZVSPYUTuHaqT",
        "outputId": "831dd5ef-03bf-4f15-e602-0b1975c80a8f"
      },
      "outputs": [
        {
          "name": "stdout",
          "output_type": "stream",
          "text": [
            "torch.Size([512, 3, 32, 32])\n",
            "torch.Size([512, 10])\n"
          ]
        }
      ],
      "source": [
        "with torch.no_grad():\n",
        "  a = next(iter(trainloader))\n",
        "  print(a[0].shape)\n",
        "  a = model(a[0])\n",
        "  print(a.shape)"
      ]
    },
    {
      "cell_type": "code",
      "execution_count": 38,
      "metadata": {
        "colab": {
          "base_uri": "https://localhost:8080/",
          "height": 381
        },
        "id": "vwE5V7hCHnl0",
        "outputId": "cc5e89a7-9acf-48dd-899e-f0ea5e1ade29"
      },
      "outputs": [
        {
          "name": "stderr",
          "output_type": "stream",
          "text": [
            "Train Epoch 0: 100%|██████████| 98/98 [00:04<00:00, 24.15it/s, acc=51.8, loss=0.00263]\n",
            "Test Epoch 0: 100%|██████████| 20/20 [00:00<00:00, 39.47it/s, acc=60.9, loss=0.00219]\n",
            "Train Epoch 1: 100%|██████████| 98/98 [00:03<00:00, 25.08it/s, acc=66.2, loss=0.00187]\n",
            "Test Epoch 1: 100%|██████████| 20/20 [00:00<00:00, 40.41it/s, acc=66.6, loss=0.00189]\n",
            "Train Epoch 2: 100%|██████████| 98/98 [00:03<00:00, 24.95it/s, acc=75.1, loss=0.00141]\n",
            "Test Epoch 2: 100%|██████████| 20/20 [00:00<00:00, 39.81it/s, acc=68.5, loss=0.00179]\n",
            "Train Epoch 3: 100%|██████████| 98/98 [00:03<00:00, 24.99it/s, acc=80.7, loss=0.00109]\n",
            "Test Epoch 3: 100%|██████████| 20/20 [00:00<00:00, 40.10it/s, acc=70, loss=0.0018]   \n",
            "Train Epoch 4:  52%|█████▏    | 51/98 [00:02<00:01, 24.30it/s, acc=87, loss=0.000748]  \n"
          ]
        },
        {
          "ename": "KeyboardInterrupt",
          "evalue": "",
          "output_type": "error",
          "traceback": [
            "\u001b[0;31m---------------------------------------------------------------------------\u001b[0m",
            "\u001b[0;31mKeyboardInterrupt\u001b[0m                         Traceback (most recent call last)",
            "Cell \u001b[0;32mIn[38], line 25\u001b[0m\n\u001b[1;32m     22\u001b[0m optimizer\u001b[38;5;241m.\u001b[39mstep()\n\u001b[1;32m     24\u001b[0m predictions \u001b[38;5;241m=\u001b[39m out\u001b[38;5;241m.\u001b[39margmax(dim\u001b[38;5;241m=\u001b[39m\u001b[38;5;241m1\u001b[39m)\n\u001b[0;32m---> 25\u001b[0m correct \u001b[38;5;241m+\u001b[39m\u001b[38;5;241m=\u001b[39m \u001b[43m(\u001b[49m\u001b[43mpredictions\u001b[49m\u001b[43m \u001b[49m\u001b[38;5;241;43m==\u001b[39;49m\u001b[43m \u001b[49m\u001b[43mlabel\u001b[49m\u001b[43m)\u001b[49m\u001b[38;5;241;43m.\u001b[39;49m\u001b[43msum\u001b[49m\u001b[43m(\u001b[49m\u001b[43m)\u001b[49m\u001b[38;5;241;43m.\u001b[39;49m\u001b[43mitem\u001b[49m\u001b[43m(\u001b[49m\u001b[43m)\u001b[49m\n\u001b[1;32m     26\u001b[0m total \u001b[38;5;241m+\u001b[39m\u001b[38;5;241m=\u001b[39m label\u001b[38;5;241m.\u001b[39msize(\u001b[38;5;241m0\u001b[39m)\n\u001b[1;32m     27\u001b[0m running_loss \u001b[38;5;241m+\u001b[39m\u001b[38;5;241m=\u001b[39m loss_value\u001b[38;5;241m.\u001b[39mitem()\n",
            "\u001b[0;31mKeyboardInterrupt\u001b[0m: "
          ]
        }
      ],
      "source": [
        "device = \"cuda\"\n",
        "loss = nn.CrossEntropyLoss()\n",
        "optimizer = torch.optim.Adam(model.parameters(), lr=0.001)\n",
        "model = model.to(device)\n",
        "from tqdm import tqdm\n",
        "from tqdm import tqdm\n",
        "\n",
        "from tqdm import tqdm\n",
        "\n",
        "for i in range(100):\n",
        "    correct, total, running_loss = 0, 0, 0\n",
        "    train_bar = tqdm(trainloader, desc=f'Train Epoch {i}')\n",
        "\n",
        "    for image, label in train_bar:\n",
        "        image, label = image.to(device), label.to(device)\n",
        "\n",
        "        out = model(image)\n",
        "        loss_value = loss(out, label)\n",
        "\n",
        "        optimizer.zero_grad()\n",
        "        loss_value.backward()\n",
        "        optimizer.step()\n",
        "\n",
        "        predictions = out.argmax(dim=1)\n",
        "        correct += (predictions == label).sum().item()\n",
        "        total += label.size(0)\n",
        "        running_loss += loss_value.item()\n",
        "\n",
        "        train_bar.set_postfix(loss=running_loss / total, acc=100 * correct / total)\n",
        "\n",
        "    correct, total, test_loss = 0, 0, 0\n",
        "    test_bar = tqdm(testloader, desc=f'Test Epoch {i}')\n",
        "\n",
        "    with torch.no_grad():\n",
        "        for test, test_label in test_bar:\n",
        "            test, test_label = test.to(device), test_label.to(device)\n",
        "\n",
        "            test_out = model(test)\n",
        "            loss_value = loss(test_out, test_label)\n",
        "            test_loss += loss_value.item()\n",
        "\n",
        "            predictions = test_out.argmax(dim=1)\n",
        "            correct += (predictions == test_label).sum().item()\n",
        "            total += test_label.size(0)\n",
        "\n",
        "            test_bar.set_postfix(loss=test_loss / total, acc=100 * correct / total)"
      ]
    },
    {
      "cell_type": "code",
      "execution_count": null,
      "metadata": {},
      "outputs": [],
      "source": []
    }
  ],
  "metadata": {
    "accelerator": "GPU",
    "colab": {
      "gpuType": "T4",
      "provenance": []
    },
    "kernelspec": {
      "display_name": "Python (myenv)",
      "language": "python",
      "name": "torch"
    },
    "language_info": {
      "codemirror_mode": {
        "name": "ipython",
        "version": 3
      },
      "file_extension": ".py",
      "mimetype": "text/x-python",
      "name": "python",
      "nbconvert_exporter": "python",
      "pygments_lexer": "ipython3",
      "version": "3.12.3"
    }
  },
  "nbformat": 4,
  "nbformat_minor": 0
}
