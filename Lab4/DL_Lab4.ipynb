{
  "cells": [
    {
      "cell_type": "code",
      "execution_count": 2,
      "metadata": {
        "colab": {
          "base_uri": "https://localhost:8080/"
        },
        "id": "dTT00DCSEdjN",
        "outputId": "f633f31c-8653-4431-ffed-04e61548d358"
      },
      "outputs": [],
      "source": [
        "import torch\n",
        "import torchvision\n",
        "train = torchvision.datasets.CIFAR10(root='./data',train=True,download=False,transform=torchvision.transforms.ToTensor())\n",
        "test = torchvision.datasets.CIFAR10(root='./data',train=False,download=False,transform=torchvision.transforms.ToTensor())"
      ]
    },
    {
      "cell_type": "code",
      "execution_count": 3,
      "metadata": {
        "id": "VUtKWwQOEybl"
      },
      "outputs": [],
      "source": [
        "trainloader = torch.utils.data.DataLoader(train,batch_size=512,shuffle=True)\n",
        "testloader = torch.utils.data.DataLoader(test,batch_size=512,shuffle=False)"
      ]
    },
    {
      "cell_type": "code",
      "execution_count": 15,
      "metadata": {
        "id": "jT8fOzR0Fcat"
      },
      "outputs": [],
      "source": [
        "import torch.nn as nn\n",
        "import torch.nn.functional as F\n",
        "import torch\n",
        "\n",
        "class SEBlock(nn.Module):\n",
        "    \"\"\" Squeeze-and-Excitation Block \"\"\"\n",
        "    def __init__(self, channels, reduction=16):\n",
        "        super(SEBlock, self).__init__()\n",
        "        self.fc1 = nn.Linear(channels, channels // reduction)\n",
        "        self.fc2 = nn.Linear(channels // reduction, channels)\n",
        "\n",
        "    def forward(self, x):\n",
        "        batch, channels, _, _ = x.size()\n",
        "        y = x.mean(dim=[2, 3])  # Global Average Pooling\n",
        "        y = F.silu(self.fc1(y))\n",
        "        y = torch.sigmoid(self.fc2(y)).view(batch, channels, 1, 1)\n",
        "        return x * y\n",
        "\n",
        "class ImprovedCNN(nn.Module):\n",
        "    def __init__(self, num_classes=10):\n",
        "        super(ImprovedCNN, self).__init__()\n",
        "\n",
        "        self.conv1 = nn.Conv2d(3, 32, kernel_size=3, padding=1)\n",
        "        self.bn1 = nn.BatchNorm2d(32)\n",
        "\n",
        "        self.conv2 = nn.Conv2d(32, 64, kernel_size=3, stride=2, padding=1)  # Downsample\n",
        "        self.bn2 = nn.BatchNorm2d(64)\n",
        "        self.se1 = SEBlock(64)  # Squeeze-and-Excitation\n",
        "\n",
        "        self.conv3 = nn.Conv2d(64, 128, kernel_size=3, padding=1)\n",
        "        self.bn3 = nn.BatchNorm2d(128)\n",
        "\n",
        "        self.conv4 = nn.Conv2d(128, 256, kernel_size=3, stride=2, padding=1)  # Downsample\n",
        "        self.bn4 = nn.BatchNorm2d(256)\n",
        "        self.se2 = SEBlock(256)\n",
        "\n",
        "        self.fc1 = nn.Linear(16384, 4096)\n",
        "        self.bn_fc1 = nn.BatchNorm1d(4096)  # BatchNorm for stability\n",
        "        self.fc2 = nn.Linear(4096, 128)\n",
        "        self.bn_fc2 = nn.BatchNorm1d(128)\n",
        "        self.fc3 = nn.Linear(128, num_classes)\n",
        "\n",
        "        self.dropout = nn.Dropout(0.3)  # Increased Dropout\n",
        "\n",
        "    def forward(self, x):\n",
        "        x = F.silu(self.bn1(self.conv1(x)))\n",
        "        x = self.se1(F.silu(self.bn2(self.conv2(x))))\n",
        "\n",
        "        x = F.silu(self.bn3(self.conv3(x)))\n",
        "        x = self.se2(F.silu(self.bn4(self.conv4(x))))\n",
        "\n",
        "        x = x.flatten(1)\n",
        "        x = self.dropout(F.silu(self.bn_fc1(self.fc1(x))))\n",
        "        x = self.dropout(F.silu(self.bn_fc2(self.fc2(x))))\n",
        "        return self.fc3(x)\n",
        "\n",
        "model = ImprovedCNN(num_classes=10)"
      ]
    },
    {
      "cell_type": "code",
      "execution_count": 16,
      "metadata": {
        "colab": {
          "base_uri": "https://localhost:8080/"
        },
        "id": "ZVSPYUTuHaqT",
        "outputId": "831dd5ef-03bf-4f15-e602-0b1975c80a8f"
      },
      "outputs": [
        {
          "name": "stdout",
          "output_type": "stream",
          "text": [
            "torch.Size([512, 3, 32, 32])\n",
            "torch.Size([512, 10])\n"
          ]
        }
      ],
      "source": [
        "with torch.no_grad():\n",
        "  a = next(iter(trainloader))\n",
        "  print(a[0].shape)\n",
        "  a = model(a[0])\n",
        "  print(a.shape)"
      ]
    },
    {
      "cell_type": "code",
      "execution_count": 17,
      "metadata": {
        "colab": {
          "base_uri": "https://localhost:8080/",
          "height": 381
        },
        "id": "vwE5V7hCHnl0",
        "outputId": "cc5e89a7-9acf-48dd-899e-f0ea5e1ade29"
      },
      "outputs": [
        {
          "name": "stderr",
          "output_type": "stream",
          "text": [
            "Train Epoch 0: 100%|██████████| 98/98 [00:12<00:00,  7.63it/s, acc=54.2, loss=0.00254]\n",
            "Test Epoch 0: 100%|██████████| 20/20 [00:00<00:00, 22.66it/s, acc=64, loss=0.00205]  \n",
            "Train Epoch 1: 100%|██████████| 98/98 [00:13<00:00,  7.29it/s, acc=69.9, loss=0.00168]\n",
            "Test Epoch 1: 100%|██████████| 20/20 [00:00<00:00, 21.46it/s, acc=71.2, loss=0.00166]\n",
            "Train Epoch 2:  98%|█████████▊| 96/98 [00:13<00:00,  7.29it/s, acc=78, loss=0.00124]  \n"
          ]
        },
        {
          "ename": "KeyboardInterrupt",
          "evalue": "",
          "output_type": "error",
          "traceback": [
            "\u001b[0;31m---------------------------------------------------------------------------\u001b[0m",
            "\u001b[0;31mKeyboardInterrupt\u001b[0m                         Traceback (most recent call last)",
            "Cell \u001b[0;32mIn[17], line 25\u001b[0m\n\u001b[1;32m     22\u001b[0m optimizer\u001b[38;5;241m.\u001b[39mstep()\n\u001b[1;32m     24\u001b[0m predictions \u001b[38;5;241m=\u001b[39m out\u001b[38;5;241m.\u001b[39margmax(dim\u001b[38;5;241m=\u001b[39m\u001b[38;5;241m1\u001b[39m)\n\u001b[0;32m---> 25\u001b[0m correct \u001b[38;5;241m+\u001b[39m\u001b[38;5;241m=\u001b[39m \u001b[43m(\u001b[49m\u001b[43mpredictions\u001b[49m\u001b[43m \u001b[49m\u001b[38;5;241;43m==\u001b[39;49m\u001b[43m \u001b[49m\u001b[43mlabel\u001b[49m\u001b[43m)\u001b[49m\u001b[38;5;241;43m.\u001b[39;49m\u001b[43msum\u001b[49m\u001b[43m(\u001b[49m\u001b[43m)\u001b[49m\u001b[38;5;241;43m.\u001b[39;49m\u001b[43mitem\u001b[49m\u001b[43m(\u001b[49m\u001b[43m)\u001b[49m\n\u001b[1;32m     26\u001b[0m total \u001b[38;5;241m+\u001b[39m\u001b[38;5;241m=\u001b[39m label\u001b[38;5;241m.\u001b[39msize(\u001b[38;5;241m0\u001b[39m)\n\u001b[1;32m     27\u001b[0m running_loss \u001b[38;5;241m+\u001b[39m\u001b[38;5;241m=\u001b[39m loss_value\u001b[38;5;241m.\u001b[39mitem()\n",
            "\u001b[0;31mKeyboardInterrupt\u001b[0m: "
          ]
        }
      ],
      "source": [
        "device = \"cuda\"\n",
        "loss = nn.CrossEntropyLoss()\n",
        "optimizer = torch.optim.Adam(model.parameters(), lr=0.001)\n",
        "model = model.to(device)\n",
        "from tqdm import tqdm\n",
        "from tqdm import tqdm\n",
        "\n",
        "from tqdm import tqdm\n",
        "\n",
        "for i in range(100):\n",
        "    correct, total, running_loss = 0, 0, 0\n",
        "    train_bar = tqdm(trainloader, desc=f'Train Epoch {i}')\n",
        "\n",
        "    for image, label in train_bar:\n",
        "        image, label = image.to(device), label.to(device)\n",
        "\n",
        "        out = model(image)\n",
        "        loss_value = loss(out, label)\n",
        "\n",
        "        optimizer.zero_grad()\n",
        "        loss_value.backward()\n",
        "        optimizer.step()\n",
        "\n",
        "        predictions = out.argmax(dim=1)\n",
        "        correct += (predictions == label).sum().item()\n",
        "        total += label.size(0)\n",
        "        running_loss += loss_value.item()\n",
        "\n",
        "        train_bar.set_postfix(loss=running_loss / total, acc=100 * correct / total)\n",
        "\n",
        "    correct, total, test_loss = 0, 0, 0\n",
        "    test_bar = tqdm(testloader, desc=f'Test Epoch {i}')\n",
        "\n",
        "    with torch.no_grad():\n",
        "        for test, test_label in test_bar:\n",
        "            test, test_label = test.to(device), test_label.to(device)\n",
        "\n",
        "            test_out = model(test)\n",
        "            loss_value = loss(test_out, test_label)\n",
        "            test_loss += loss_value.item()\n",
        "\n",
        "            predictions = test_out.argmax(dim=1)\n",
        "            correct += (predictions == test_label).sum().item()\n",
        "            total += test_label.size(0)\n",
        "\n",
        "            test_bar.set_postfix(loss=test_loss / total, acc=100 * correct / total)"
      ]
    },
    {
      "cell_type": "code",
      "execution_count": null,
      "metadata": {
        "id": "h1EXtr_wKZKx"
      },
      "outputs": [],
      "source": []
    }
  ],
  "metadata": {
    "accelerator": "GPU",
    "colab": {
      "gpuType": "T4",
      "provenance": []
    },
    "kernelspec": {
      "display_name": "Python (myenv)",
      "language": "python",
      "name": "torch"
    },
    "language_info": {
      "codemirror_mode": {
        "name": "ipython",
        "version": 3
      },
      "file_extension": ".py",
      "mimetype": "text/x-python",
      "name": "python",
      "nbconvert_exporter": "python",
      "pygments_lexer": "ipython3",
      "version": "3.12.3"
    }
  },
  "nbformat": 4,
  "nbformat_minor": 0
}
