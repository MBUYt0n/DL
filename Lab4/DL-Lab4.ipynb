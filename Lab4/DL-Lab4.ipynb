{
 "cells": [
  {
   "cell_type": "code",
   "execution_count": 1,
   "id": "148bbb71",
   "metadata": {
    "execution": {
     "iopub.execute_input": "2025-02-09T13:36:31.074452Z",
     "iopub.status.busy": "2025-02-09T13:36:31.074218Z",
     "iopub.status.idle": "2025-02-09T13:36:39.947117Z",
     "shell.execute_reply": "2025-02-09T13:36:39.946441Z"
    },
    "papermill": {
     "duration": 8.877675,
     "end_time": "2025-02-09T13:36:39.948720",
     "exception": false,
     "start_time": "2025-02-09T13:36:31.071045",
     "status": "completed"
    },
    "tags": []
   },
   "outputs": [],
   "source": [
    "import torchvision.transforms as transforms\n",
    "\n",
    "transform_train = transforms.Compose(\n",
    "    [\n",
    "        transforms.RandomCrop(32, padding=4),\n",
    "        transforms.RandomHorizontalFlip(),\n",
    "        transforms.ToTensor(),\n",
    "        transforms.Normalize((0.4914, 0.4822, 0.4465), (0.2470, 0.2435, 0.2616)),\n",
    "    ]\n",
    ")\n",
    "\n",
    "transform_test = transforms.Compose(\n",
    "    [\n",
    "        transforms.ToTensor(),\n",
    "        transforms.Normalize((0.4914, 0.4822, 0.4465), (0.2470, 0.2435, 0.2616)),\n",
    "    ]\n",
    ")"
   ]
  },
  {
   "cell_type": "code",
   "execution_count": 2,
   "id": "f06308aa",
   "metadata": {
    "execution": {
     "iopub.execute_input": "2025-02-09T13:36:39.954142Z",
     "iopub.status.busy": "2025-02-09T13:36:39.953817Z",
     "iopub.status.idle": "2025-02-09T13:36:45.819131Z",
     "shell.execute_reply": "2025-02-09T13:36:45.818417Z"
    },
    "papermill": {
     "duration": 5.869314,
     "end_time": "2025-02-09T13:36:45.820583",
     "exception": false,
     "start_time": "2025-02-09T13:36:39.951269",
     "status": "completed"
    },
    "tags": []
   },
   "outputs": [
    {
     "name": "stdout",
     "output_type": "stream",
     "text": [
      "Downloading https://www.cs.toronto.edu/~kriz/cifar-10-python.tar.gz to ./data/cifar-10-python.tar.gz\n"
     ]
    },
    {
     "name": "stderr",
     "output_type": "stream",
     "text": [
      "100%|██████████| 170M/170M [00:02<00:00, 60.6MB/s]\n"
     ]
    },
    {
     "name": "stdout",
     "output_type": "stream",
     "text": [
      "Extracting ./data/cifar-10-python.tar.gz to ./data\n"
     ]
    }
   ],
   "source": [
    "import torch\n",
    "import torchvision\n",
    "train = torchvision.datasets.CIFAR10(root='./data',train=True,download=True,transform=transform_train)\n",
    "test = torchvision.datasets.CIFAR10(root='./data',train=False,download=False,transform=transform_test)"
   ]
  },
  {
   "cell_type": "code",
   "execution_count": 3,
   "id": "95632ff4",
   "metadata": {
    "execution": {
     "iopub.execute_input": "2025-02-09T13:36:45.828737Z",
     "iopub.status.busy": "2025-02-09T13:36:45.828449Z",
     "iopub.status.idle": "2025-02-09T13:36:45.832090Z",
     "shell.execute_reply": "2025-02-09T13:36:45.831462Z"
    },
    "id": "VUtKWwQOEybl",
    "papermill": {
     "duration": 0.008921,
     "end_time": "2025-02-09T13:36:45.833314",
     "exception": false,
     "start_time": "2025-02-09T13:36:45.824393",
     "status": "completed"
    },
    "tags": []
   },
   "outputs": [],
   "source": [
    "trainloader = torch.utils.data.DataLoader(train,batch_size=128,shuffle=True)\n",
    "testloader = torch.utils.data.DataLoader(test,batch_size=128,shuffle=False)"
   ]
  },
  {
   "cell_type": "code",
   "execution_count": 4,
   "id": "dd6cb4c2",
   "metadata": {
    "execution": {
     "iopub.execute_input": "2025-02-09T13:36:45.840776Z",
     "iopub.status.busy": "2025-02-09T13:36:45.840556Z",
     "iopub.status.idle": "2025-02-09T13:36:45.848708Z",
     "shell.execute_reply": "2025-02-09T13:36:45.848089Z"
    },
    "id": "jT8fOzR0Fcat",
    "papermill": {
     "duration": 0.013093,
     "end_time": "2025-02-09T13:36:45.849850",
     "exception": false,
     "start_time": "2025-02-09T13:36:45.836757",
     "status": "completed"
    },
    "tags": []
   },
   "outputs": [],
   "source": [
    "import torch.nn as nn\n",
    "\n",
    "class ResidualBlock(nn.Module):\n",
    "    def __init__(self, in_channels, out_channels, stride=1):\n",
    "        super(ResidualBlock, self).__init__()\n",
    "        self.conv1 = nn.Conv2d(\n",
    "            in_channels,\n",
    "            out_channels,\n",
    "            kernel_size=3,\n",
    "            stride=stride,\n",
    "            padding=1,\n",
    "            bias=False,\n",
    "        )\n",
    "        self.bn1 = nn.BatchNorm2d(out_channels)\n",
    "        self.conv2 = nn.Conv2d(\n",
    "            out_channels, out_channels, kernel_size=3, stride=1, padding=1, bias=False\n",
    "        )\n",
    "        self.bn2 = nn.BatchNorm2d(out_channels)\n",
    "\n",
    "        self.shortcut = nn.Sequential()\n",
    "        if stride != 1 or in_channels != out_channels:\n",
    "            self.shortcut = nn.Sequential(\n",
    "                nn.Conv2d(\n",
    "                    in_channels, out_channels, kernel_size=1, stride=stride, bias=False\n",
    "                ),\n",
    "                nn.BatchNorm2d(out_channels),\n",
    "            )\n",
    "\n",
    "    def forward(self, x):\n",
    "        out = torch.relu(self.bn1(self.conv1(x)))\n",
    "        out = self.bn2(self.conv2(out))\n",
    "        out += self.shortcut(x)  \n",
    "        return torch.relu(out)\n",
    "\n",
    "\n",
    "class CNN(nn.Module):\n",
    "    def __init__(self):\n",
    "        super(CNN, self).__init__()\n",
    "        self.conv1 = nn.Conv2d(3, 64, kernel_size=3, stride=1, padding=1, bias=False)\n",
    "        self.bn1 = nn.BatchNorm2d(64)\n",
    "\n",
    "        self.layer1 = ResidualBlock(64, 128, stride=2)\n",
    "        self.layer2 = ResidualBlock(128, 256, stride=2)\n",
    "        self.layer3 = ResidualBlock(256, 512, stride=2)\n",
    "\n",
    "        self.avg_pool = nn.AdaptiveAvgPool2d((1, 1))\n",
    "        self.fc = nn.Linear(512, 10)\n",
    "\n",
    "    def forward(self, x):\n",
    "        x = torch.relu(self.bn1(self.conv1(x)))\n",
    "        x = self.layer1(x)\n",
    "        x = self.layer2(x)\n",
    "        x = self.layer3(x)\n",
    "        x = self.avg_pool(x)\n",
    "        x = torch.flatten(x, 1)\n",
    "        return self.fc(x)"
   ]
  },
  {
   "cell_type": "code",
   "execution_count": 5,
   "id": "b4b5c1e0",
   "metadata": {
    "execution": {
     "iopub.execute_input": "2025-02-09T13:36:45.857371Z",
     "iopub.status.busy": "2025-02-09T13:36:45.857174Z",
     "iopub.status.idle": "2025-02-09T13:36:45.956120Z",
     "shell.execute_reply": "2025-02-09T13:36:45.955565Z"
    },
    "papermill": {
     "duration": 0.10397,
     "end_time": "2025-02-09T13:36:45.957238",
     "exception": false,
     "start_time": "2025-02-09T13:36:45.853268",
     "status": "completed"
    },
    "tags": []
   },
   "outputs": [],
   "source": [
    "model = CNN()"
   ]
  },
  {
   "cell_type": "code",
   "execution_count": 6,
   "id": "6a21c59d",
   "metadata": {
    "execution": {
     "iopub.execute_input": "2025-02-09T13:36:45.964874Z",
     "iopub.status.busy": "2025-02-09T13:36:45.964669Z",
     "iopub.status.idle": "2025-02-09T13:36:46.612051Z",
     "shell.execute_reply": "2025-02-09T13:36:46.611058Z"
    },
    "id": "ZVSPYUTuHaqT",
    "outputId": "831dd5ef-03bf-4f15-e602-0b1975c80a8f",
    "papermill": {
     "duration": 0.652914,
     "end_time": "2025-02-09T13:36:46.613668",
     "exception": false,
     "start_time": "2025-02-09T13:36:45.960754",
     "status": "completed"
    },
    "tags": []
   },
   "outputs": [
    {
     "name": "stdout",
     "output_type": "stream",
     "text": [
      "torch.Size([128, 3, 32, 32])\n",
      "torch.Size([128, 10])\n"
     ]
    }
   ],
   "source": [
    "with torch.no_grad():\n",
    "  a = next(iter(trainloader))\n",
    "  print(a[0].shape)\n",
    "  a = model(a[0])\n",
    "  print(a.shape)"
   ]
  },
  {
   "cell_type": "code",
   "execution_count": 7,
   "id": "949b413e",
   "metadata": {
    "execution": {
     "iopub.execute_input": "2025-02-09T13:36:46.623811Z",
     "iopub.status.busy": "2025-02-09T13:36:46.623570Z",
     "iopub.status.idle": "2025-02-09T14:07:59.631918Z",
     "shell.execute_reply": "2025-02-09T14:07:59.630923Z"
    },
    "id": "vwE5V7hCHnl0",
    "outputId": "cc5e89a7-9acf-48dd-899e-f0ea5e1ade29",
    "papermill": {
     "duration": 1873.01481,
     "end_time": "2025-02-09T14:07:59.633267",
     "exception": false,
     "start_time": "2025-02-09T13:36:46.618457",
     "status": "completed"
    },
    "tags": []
   },
   "outputs": [
    {
     "name": "stderr",
     "output_type": "stream",
     "text": [
      "Train Epoch 0: 100%|██████████| 391/391 [00:35<00:00, 11.08it/s, acc=50.1, loss=0.0107]\n",
      "Test Epoch 0: 100%|██████████| 79/79 [00:03<00:00, 24.07it/s, acc=62, loss=0.00838]\n",
      "Train Epoch 1: 100%|██████████| 391/391 [00:33<00:00, 11.67it/s, acc=66.1, loss=0.00745]\n",
      "Test Epoch 1: 100%|██████████| 79/79 [00:03<00:00, 25.16it/s, acc=69, loss=0.00691]\n",
      "Train Epoch 2: 100%|██████████| 391/391 [00:33<00:00, 11.66it/s, acc=73.2, loss=0.00597]\n",
      "Test Epoch 2: 100%|██████████| 79/79 [00:03<00:00, 24.49it/s, acc=74.6, loss=0.0058]\n",
      "Train Epoch 3: 100%|██████████| 391/391 [00:33<00:00, 11.58it/s, acc=76.7, loss=0.0052]\n",
      "Test Epoch 3: 100%|██████████| 79/79 [00:03<00:00, 25.32it/s, acc=76.6, loss=0.00532]\n",
      "Train Epoch 4: 100%|██████████| 391/391 [00:34<00:00, 11.47it/s, acc=79.7, loss=0.00459]\n",
      "Test Epoch 4: 100%|██████████| 79/79 [00:03<00:00, 25.61it/s, acc=78.1, loss=0.00503]\n",
      "Train Epoch 5: 100%|██████████| 391/391 [00:34<00:00, 11.42it/s, acc=81.5, loss=0.0042]\n",
      "Test Epoch 5: 100%|██████████| 79/79 [00:03<00:00, 25.40it/s, acc=79.4, loss=0.00466]\n",
      "Train Epoch 6: 100%|██████████| 391/391 [00:33<00:00, 11.56it/s, acc=83, loss=0.00384]\n",
      "Test Epoch 6: 100%|██████████| 79/79 [00:03<00:00, 25.23it/s, acc=80.3, loss=0.00453]\n",
      "Train Epoch 7: 100%|██████████| 391/391 [00:33<00:00, 11.57it/s, acc=84.1, loss=0.0036]\n",
      "Test Epoch 7: 100%|██████████| 79/79 [00:03<00:00, 25.65it/s, acc=81.3, loss=0.00434]\n",
      "Train Epoch 8: 100%|██████████| 391/391 [00:33<00:00, 11.52it/s, acc=84.8, loss=0.00342]\n",
      "Test Epoch 8: 100%|██████████| 79/79 [00:03<00:00, 25.04it/s, acc=81.1, loss=0.0044]\n",
      "Train Epoch 9: 100%|██████████| 391/391 [00:34<00:00, 11.49it/s, acc=85.9, loss=0.00319]\n",
      "Test Epoch 9: 100%|██████████| 79/79 [00:03<00:00, 24.83it/s, acc=82.5, loss=0.00406]\n",
      "Train Epoch 10: 100%|██████████| 391/391 [00:33<00:00, 11.53it/s, acc=86.7, loss=0.00302]\n",
      "Test Epoch 10: 100%|██████████| 79/79 [00:03<00:00, 25.25it/s, acc=82, loss=0.00412]\n",
      "Train Epoch 11: 100%|██████████| 391/391 [00:33<00:00, 11.50it/s, acc=87.3, loss=0.00286]\n",
      "Test Epoch 11: 100%|██████████| 79/79 [00:03<00:00, 24.76it/s, acc=83.3, loss=0.00386]\n",
      "Train Epoch 12: 100%|██████████| 391/391 [00:34<00:00, 11.47it/s, acc=88, loss=0.00271]\n",
      "Test Epoch 12: 100%|██████████| 79/79 [00:03<00:00, 24.83it/s, acc=83.5, loss=0.00393]\n",
      "Train Epoch 13: 100%|██████████| 391/391 [00:34<00:00, 11.41it/s, acc=88.4, loss=0.00262]\n",
      "Test Epoch 13: 100%|██████████| 79/79 [00:03<00:00, 24.76it/s, acc=84.7, loss=0.00359]\n",
      "Train Epoch 14: 100%|██████████| 391/391 [00:34<00:00, 11.47it/s, acc=89.1, loss=0.00249]\n",
      "Test Epoch 14: 100%|██████████| 79/79 [00:03<00:00, 25.28it/s, acc=85.1, loss=0.00352]\n",
      "Train Epoch 15: 100%|██████████| 391/391 [00:34<00:00, 11.45it/s, acc=89.5, loss=0.00237]\n",
      "Test Epoch 15: 100%|██████████| 79/79 [00:03<00:00, 25.47it/s, acc=85.3, loss=0.00359]\n",
      "Train Epoch 16: 100%|██████████| 391/391 [00:34<00:00, 11.49it/s, acc=89.8, loss=0.00232]\n",
      "Test Epoch 16: 100%|██████████| 79/79 [00:03<00:00, 25.02it/s, acc=85, loss=0.00351]\n",
      "Train Epoch 17: 100%|██████████| 391/391 [00:34<00:00, 11.47it/s, acc=90, loss=0.00225]\n",
      "Test Epoch 17: 100%|██████████| 79/79 [00:03<00:00, 24.45it/s, acc=84.5, loss=0.00366]\n",
      "Train Epoch 18: 100%|██████████| 391/391 [00:34<00:00, 11.48it/s, acc=90.5, loss=0.00215]\n",
      "Test Epoch 18: 100%|██████████| 79/79 [00:03<00:00, 25.58it/s, acc=85.3, loss=0.00353]\n",
      "Train Epoch 19: 100%|██████████| 391/391 [00:34<00:00, 11.45it/s, acc=90.8, loss=0.00208]\n",
      "Test Epoch 19: 100%|██████████| 79/79 [00:03<00:00, 25.06it/s, acc=85.5, loss=0.00345]\n",
      "Train Epoch 20: 100%|██████████| 391/391 [00:34<00:00, 11.45it/s, acc=91.1, loss=0.00199]\n",
      "Test Epoch 20: 100%|██████████| 79/79 [00:03<00:00, 25.28it/s, acc=85.9, loss=0.00341]\n",
      "Train Epoch 21: 100%|██████████| 391/391 [00:34<00:00, 11.45it/s, acc=91.4, loss=0.00194]\n",
      "Test Epoch 21: 100%|██████████| 79/79 [00:03<00:00, 24.77it/s, acc=85.8, loss=0.0034]\n",
      "Train Epoch 22: 100%|██████████| 391/391 [00:34<00:00, 11.45it/s, acc=91.5, loss=0.00189]\n",
      "Test Epoch 22: 100%|██████████| 79/79 [00:03<00:00, 24.55it/s, acc=85.5, loss=0.00352]\n",
      "Train Epoch 23: 100%|██████████| 391/391 [00:33<00:00, 11.52it/s, acc=91.8, loss=0.00184]\n",
      "Test Epoch 23: 100%|██████████| 79/79 [00:03<00:00, 25.18it/s, acc=85.3, loss=0.00348]\n",
      "Train Epoch 24: 100%|██████████| 391/391 [00:34<00:00, 11.49it/s, acc=92, loss=0.00179]\n",
      "Test Epoch 24: 100%|██████████| 79/79 [00:03<00:00, 24.43it/s, acc=85.4, loss=0.00348]\n",
      "Train Epoch 25: 100%|██████████| 391/391 [00:34<00:00, 11.49it/s, acc=92.3, loss=0.00175]\n",
      "Test Epoch 25: 100%|██████████| 79/79 [00:03<00:00, 25.36it/s, acc=86.6, loss=0.00324]\n",
      "Train Epoch 26: 100%|██████████| 391/391 [00:34<00:00, 11.47it/s, acc=92.5, loss=0.0017]\n",
      "Test Epoch 26: 100%|██████████| 79/79 [00:03<00:00, 25.18it/s, acc=86.1, loss=0.00326]\n",
      "Train Epoch 27: 100%|██████████| 391/391 [00:34<00:00, 11.50it/s, acc=92.5, loss=0.00168]\n",
      "Test Epoch 27: 100%|██████████| 79/79 [00:03<00:00, 25.07it/s, acc=86, loss=0.00332]\n",
      "Train Epoch 28: 100%|██████████| 391/391 [00:34<00:00, 11.49it/s, acc=92.6, loss=0.00165]\n",
      "Test Epoch 28: 100%|██████████| 79/79 [00:03<00:00, 24.63it/s, acc=86.7, loss=0.00326]\n",
      "Train Epoch 29: 100%|██████████| 391/391 [00:34<00:00, 11.41it/s, acc=92.8, loss=0.0016]\n",
      "Test Epoch 29: 100%|██████████| 79/79 [00:03<00:00, 24.59it/s, acc=86.5, loss=0.00342]\n",
      "Train Epoch 30: 100%|██████████| 391/391 [00:34<00:00, 11.44it/s, acc=92.8, loss=0.00161]\n",
      "Test Epoch 30: 100%|██████████| 79/79 [00:03<00:00, 25.33it/s, acc=86.4, loss=0.00326]\n",
      "Train Epoch 31: 100%|██████████| 391/391 [00:33<00:00, 11.53it/s, acc=93.1, loss=0.00154]\n",
      "Test Epoch 31: 100%|██████████| 79/79 [00:03<00:00, 25.21it/s, acc=87.4, loss=0.00315]\n",
      "Train Epoch 32: 100%|██████████| 391/391 [00:33<00:00, 11.55it/s, acc=93.2, loss=0.00151]\n",
      "Test Epoch 32: 100%|██████████| 79/79 [00:03<00:00, 25.76it/s, acc=86.2, loss=0.00348]\n",
      "Train Epoch 33: 100%|██████████| 391/391 [00:33<00:00, 11.55it/s, acc=93.3, loss=0.00152]\n",
      "Test Epoch 33: 100%|██████████| 79/79 [00:03<00:00, 25.05it/s, acc=86.4, loss=0.00342]\n",
      "Train Epoch 34: 100%|██████████| 391/391 [00:33<00:00, 11.60it/s, acc=93.5, loss=0.00146]\n",
      "Test Epoch 34: 100%|██████████| 79/79 [00:03<00:00, 25.41it/s, acc=86.1, loss=0.00346]\n",
      "Train Epoch 35: 100%|██████████| 391/391 [00:33<00:00, 11.56it/s, acc=93.5, loss=0.00145]\n",
      "Test Epoch 35: 100%|██████████| 79/79 [00:03<00:00, 24.93it/s, acc=86.7, loss=0.00326]\n",
      "Train Epoch 36: 100%|██████████| 391/391 [00:33<00:00, 11.54it/s, acc=93.4, loss=0.00144]\n",
      "Test Epoch 36: 100%|██████████| 79/79 [00:03<00:00, 25.14it/s, acc=86.3, loss=0.00345]\n",
      "Train Epoch 37: 100%|██████████| 391/391 [00:34<00:00, 11.49it/s, acc=93.7, loss=0.00143]\n",
      "Test Epoch 37: 100%|██████████| 79/79 [00:03<00:00, 25.55it/s, acc=86.8, loss=0.00336]\n",
      "Train Epoch 38: 100%|██████████| 391/391 [00:33<00:00, 11.51it/s, acc=94, loss=0.00134]\n",
      "Test Epoch 38: 100%|██████████| 79/79 [00:03<00:00, 25.29it/s, acc=86.5, loss=0.0035]\n",
      "Train Epoch 39: 100%|██████████| 391/391 [00:33<00:00, 11.53it/s, acc=93.8, loss=0.00139]\n",
      "Test Epoch 39: 100%|██████████| 79/79 [00:03<00:00, 25.39it/s, acc=86.9, loss=0.00322]\n",
      "Train Epoch 40: 100%|██████████| 391/391 [00:34<00:00, 11.40it/s, acc=94, loss=0.00134]\n",
      "Test Epoch 40: 100%|██████████| 79/79 [00:03<00:00, 25.46it/s, acc=86.6, loss=0.00331]\n",
      "Train Epoch 41: 100%|██████████| 391/391 [00:34<00:00, 11.48it/s, acc=93.9, loss=0.00134]\n",
      "Test Epoch 41: 100%|██████████| 79/79 [00:03<00:00, 25.28it/s, acc=87.1, loss=0.00333]\n",
      "Train Epoch 42: 100%|██████████| 391/391 [00:33<00:00, 11.54it/s, acc=94.1, loss=0.00133]\n",
      "Test Epoch 42: 100%|██████████| 79/79 [00:03<00:00, 25.12it/s, acc=86.1, loss=0.0036]\n"
     ]
    },
    {
     "name": "stdout",
     "output_type": "stream",
     "text": [
      "Updated learning rate: 0.0001\n"
     ]
    },
    {
     "name": "stderr",
     "output_type": "stream",
     "text": [
      "Train Epoch 43: 100%|██████████| 391/391 [00:33<00:00, 11.55it/s, acc=96.2, loss=0.000876]\n",
      "Test Epoch 43: 100%|██████████| 79/79 [00:03<00:00, 24.67it/s, acc=88.5, loss=0.00295]\n",
      "Train Epoch 44: 100%|██████████| 391/391 [00:33<00:00, 11.52it/s, acc=97.2, loss=0.000677]\n",
      "Test Epoch 44: 100%|██████████| 79/79 [00:03<00:00, 25.08it/s, acc=88.6, loss=0.00297]\n",
      "Train Epoch 45: 100%|██████████| 391/391 [00:33<00:00, 11.61it/s, acc=97.7, loss=0.00057]\n",
      "Test Epoch 45: 100%|██████████| 79/79 [00:03<00:00, 25.00it/s, acc=88.5, loss=0.00301]\n",
      "Train Epoch 46: 100%|██████████| 391/391 [00:33<00:00, 11.53it/s, acc=97.8, loss=0.000522]\n",
      "Test Epoch 46: 100%|██████████| 79/79 [00:03<00:00, 25.40it/s, acc=88.6, loss=0.00299]\n",
      "Train Epoch 47: 100%|██████████| 391/391 [00:33<00:00, 11.63it/s, acc=98, loss=0.000477]\n",
      "Test Epoch 47: 100%|██████████| 79/79 [00:03<00:00, 25.66it/s, acc=88.8, loss=0.00302]\n",
      "Train Epoch 48: 100%|██████████| 391/391 [00:33<00:00, 11.58it/s, acc=98.1, loss=0.000455]\n",
      "Test Epoch 48: 100%|██████████| 79/79 [00:03<00:00, 24.87it/s, acc=89, loss=0.00301]\n",
      "Train Epoch 49: 100%|██████████| 391/391 [00:33<00:00, 11.61it/s, acc=98.3, loss=0.000415]\n",
      "Test Epoch 49: 100%|██████████| 79/79 [00:03<00:00, 25.81it/s, acc=89.2, loss=0.00305]\n"
     ]
    }
   ],
   "source": [
    "from torch.utils.tensorboard import SummaryWriter\n",
    "writer = SummaryWriter()\n",
    "\n",
    "device = \"cuda\"\n",
    "loss = nn.CrossEntropyLoss()\n",
    "optimizer = torch.optim.Adam(model.parameters(), lr=0.001, weight_decay=1e-4)\n",
    "scheduler = torch.optim.lr_scheduler.ReduceLROnPlateau(optimizer, mode='min', factor=0.1, patience=10)\n",
    "model = model.to(device)\n",
    "from tqdm import tqdm\n",
    "from tqdm import tqdm\n",
    "\n",
    "from tqdm import tqdm\n",
    "lr = 0.001\n",
    "for i in range(50):\n",
    "    correct, total, running_loss = 0, 0, 0\n",
    "    train_bar = tqdm(trainloader, desc=f'Train Epoch {i}')\n",
    "\n",
    "    for image, label in train_bar:\n",
    "        image, label = image.to(device), label.to(device)\n",
    "\n",
    "        out = model(image)\n",
    "        loss_value = loss(out, label)\n",
    "\n",
    "        optimizer.zero_grad()\n",
    "        loss_value.backward()\n",
    "        optimizer.step()\n",
    "\n",
    "        predictions = out.argmax(dim=1)\n",
    "        correct += (predictions == label).sum().item()\n",
    "        total += label.size(0)\n",
    "        running_loss += loss_value.item()\n",
    "\n",
    "        train_bar.set_postfix(loss=running_loss / total, acc=100 * correct / total)\n",
    "        writer.add_scalar('Loss/train', running_loss / total, i)    \n",
    "        writer.add_scalar('Accuracy/train', 100 * correct / total, i)\n",
    "    correct, total, test_loss = 0, 0, 0\n",
    "    test_bar = tqdm(testloader, desc=f'Test Epoch {i}')\n",
    "\n",
    "    with torch.no_grad():\n",
    "        for test, test_label in test_bar:\n",
    "            test, test_label = test.to(device), test_label.to(device)\n",
    "\n",
    "            test_out = model(test)\n",
    "            loss_value = loss(test_out, test_label)\n",
    "            test_loss += loss_value.item()\n",
    "\n",
    "            predictions = test_out.argmax(dim=1)\n",
    "            correct += (predictions == test_label).sum().item()\n",
    "            total += test_label.size(0)\n",
    "\n",
    "            test_bar.set_postfix(loss=test_loss / total, acc=100 * correct / total)\n",
    "            writer.add_scalar('Loss/test', test_loss / total, i)\n",
    "            writer.add_scalar('Accuracy/test', 100 * correct / total, i)\n",
    "    scheduler.step(test_loss)\n",
    "    if optimizer.param_groups[0][\"lr\"] != lr:\n",
    "        lr = optimizer.param_groups[0][\"lr\"]\n",
    "        print(f\"Updated learning rate: {lr}\")"
   ]
  },
  {
   "cell_type": "code",
   "execution_count": 8,
   "id": "e7132730",
   "metadata": {
    "execution": {
     "iopub.execute_input": "2025-02-09T14:08:02.950035Z",
     "iopub.status.busy": "2025-02-09T14:08:02.949331Z",
     "iopub.status.idle": "2025-02-09T14:08:02.989704Z",
     "shell.execute_reply": "2025-02-09T14:08:02.988796Z"
    },
    "papermill": {
     "duration": 1.722472,
     "end_time": "2025-02-09T14:08:02.991223",
     "exception": false,
     "start_time": "2025-02-09T14:08:01.268751",
     "status": "completed"
    },
    "tags": []
   },
   "outputs": [],
   "source": [
    "torch.save(model.state_dict(), 'cifar10_cnn.pth')"
   ]
  },
  {
   "cell_type": "code",
   "execution_count": 9,
   "id": "97c8f9ba",
   "metadata": {
    "execution": {
     "iopub.execute_input": "2025-02-09T14:08:06.414399Z",
     "iopub.status.busy": "2025-02-09T14:08:06.414105Z",
     "iopub.status.idle": "2025-02-09T14:08:06.432337Z",
     "shell.execute_reply": "2025-02-09T14:08:06.431591Z"
    },
    "papermill": {
     "duration": 1.662518,
     "end_time": "2025-02-09T14:08:06.433500",
     "exception": false,
     "start_time": "2025-02-09T14:08:04.770982",
     "status": "completed"
    },
    "tags": []
   },
   "outputs": [
    {
     "data": {
      "text/plain": [
       "(5, 3, 3, 3)"
      ]
     },
     "execution_count": 9,
     "metadata": {},
     "output_type": "execute_result"
    }
   ],
   "source": [
    "filters = model.conv1.weight[:5]\n",
    "filters = filters.detach().cpu()\n",
    "filters = filters - filters.min()\n",
    "filters = filters / filters.max()\n",
    "filters = filters.permute(0, 2, 3, 1).numpy()\n",
    "filters.shape"
   ]
  },
  {
   "cell_type": "code",
   "execution_count": 10,
   "id": "ba1f0348",
   "metadata": {
    "execution": {
     "iopub.execute_input": "2025-02-09T14:08:09.723961Z",
     "iopub.status.busy": "2025-02-09T14:08:09.723638Z",
     "iopub.status.idle": "2025-02-09T14:08:10.232919Z",
     "shell.execute_reply": "2025-02-09T14:08:10.232052Z"
    },
    "papermill": {
     "duration": 2.149285,
     "end_time": "2025-02-09T14:08:10.234344",
     "exception": false,
     "start_time": "2025-02-09T14:08:08.085059",
     "status": "completed"
    },
    "tags": []
   },
   "outputs": [
    {
     "data": {
      "image/png": "[encoded data removed]",
      "text/plain": [
       "<Figure size 2000x500 with 5 Axes>"
      ]
     },
     "metadata": {},
     "output_type": "display_data"
    }
   ],
   "source": [
    "import matplotlib.pyplot as plt\n",
    "import numpy as np\n",
    "\n",
    "fig, axs = plt.subplots(1, 5, figsize=(20, 5))\n",
    "for i, filter in enumerate(filters):\n",
    "    axs[i].imshow(np.mean(filter, axis=0), cmap='gray')\n",
    "    axs[i].axis('off')\n",
    "    axs[i].set_title(f'Layer {i + 1}')"
   ]
  }
 ],
 "metadata": {
  "kaggle": {
   "accelerator": "nvidiaTeslaT4",
   "dataSources": [],
   "dockerImageVersionId": 30887,
   "isGpuEnabled": true,
   "isInternetEnabled": true,
   "language": "python",
   "sourceType": "notebook"
  },
  "kernelspec": {
   "display_name": "Python 3",
   "language": "python",
   "name": "python3"
  },
  "language_info": {
   "codemirror_mode": {
    "name": "ipython",
    "version": 3
   },
   "file_extension": ".py",
   "mimetype": "text/x-python",
   "name": "python",
   "nbconvert_exporter": "python",
   "pygments_lexer": "ipython3",
   "version": "3.10.12"
  },
  "papermill": {
   "default_parameters": {},
   "duration": 1907.413803,
   "end_time": "2025-02-09T14:08:15.470720",
   "environment_variables": {},
   "exception": null,
   "input_path": "__notebook__.ipynb",
   "output_path": "__notebook__.ipynb",
   "parameters": {},
   "start_time": "2025-02-09T13:36:28.056917",
   "version": "2.6.0"
  }
 },
 "nbformat": 4,
 "nbformat_minor": 5
}
