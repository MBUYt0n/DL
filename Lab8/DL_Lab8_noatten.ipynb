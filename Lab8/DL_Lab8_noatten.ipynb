{
  "cells": [
    {
      "cell_type": "code",
      "execution_count": 1,
      "id": "c0c485ea",
      "metadata": {
        "colab": {
          "base_uri": "https://localhost:8080/"
        },
        "execution": {
          "iopub.execute_input": "2025-03-13T10:47:57.550675Z",
          "iopub.status.busy": "2025-03-13T10:47:57.550438Z",
          "iopub.status.idle": "2025-03-13T10:47:58.039821Z",
          "shell.execute_reply": "2025-03-13T10:47:58.038948Z"
        },
        "id": "c0c485ea",
        "outputId": "655445e5-4b1d-4263-e1a2-e9b074591d15",
        "papermill": {
          "duration": 0.494432,
          "end_time": "2025-03-13T10:47:58.041156",
          "exception": false,
          "start_time": "2025-03-13T10:47:57.546724",
          "status": "completed"
        },
        "tags": []
      },
      "outputs": [],
      "source": [
        "# import kagglehub\n",
        "\n",
        "# # Download latest version\n",
        "# path = kagglehub.dataset_download(\"shusrith/machine-trainslation\")\n",
        "\n",
        "# print(\"Path to dataset files:\", path)"
      ]
    },
    {
      "cell_type": "code",
      "execution_count": 2,
      "id": "73361d89",
      "metadata": {
        "colab": {
          "base_uri": "https://localhost:8080/"
        },
        "execution": {
          "iopub.execute_input": "2025-03-13T10:47:58.047678Z",
          "iopub.status.busy": "2025-03-13T10:47:58.047398Z",
          "iopub.status.idle": "2025-03-13T10:47:58.171494Z",
          "shell.execute_reply": "2025-03-13T10:47:58.170617Z"
        },
        "id": "73361d89",
        "outputId": "fe73f694-52c8-4f03-c7a9-8d9b5aa0f414",
        "papermill": {
          "duration": 0.128806,
          "end_time": "2025-03-13T10:47:58.173012",
          "exception": false,
          "start_time": "2025-03-13T10:47:58.044206",
          "status": "completed"
        },
        "tags": []
      },
      "outputs": [],
      "source": [
        "# !ls $path/EnglishOrSpanish"
      ]
    },
    {
      "cell_type": "code",
      "execution_count": 3,
      "id": "d0145768",
      "metadata": {
        "colab": {
          "base_uri": "https://localhost:8080/",
          "height": 424
        },
        "execution": {
          "iopub.execute_input": "2025-03-13T10:47:58.180127Z",
          "iopub.status.busy": "2025-03-13T10:47:58.179870Z",
          "iopub.status.idle": "2025-03-13T10:47:59.370514Z",
          "shell.execute_reply": "2025-03-13T10:47:59.369665Z"
        },
        "id": "d0145768",
        "outputId": "83af7e41-96d0-4368-cbc0-996710256066",
        "papermill": {
          "duration": 1.195894,
          "end_time": "2025-03-13T10:47:59.371972",
          "exception": false,
          "start_time": "2025-03-13T10:47:58.176078",
          "status": "completed"
        },
        "tags": []
      },
      "outputs": [
        {
          "data": {
            "text/html": [
              "<div>\n",
              "<style scoped>\n",
              "    .dataframe tbody tr th:only-of-type {\n",
              "        vertical-align: middle;\n",
              "    }\n",
              "\n",
              "    .dataframe tbody tr th {\n",
              "        vertical-align: top;\n",
              "    }\n",
              "\n",
              "    .dataframe thead th {\n",
              "        text-align: right;\n",
              "    }\n",
              "</style>\n",
              "<table border=\"1\" class=\"dataframe\">\n",
              "  <thead>\n",
              "    <tr style=\"text-align: right;\">\n",
              "      <th></th>\n",
              "      <th>English</th>\n",
              "      <th>Spanish</th>\n",
              "    </tr>\n",
              "  </thead>\n",
              "  <tbody>\n",
              "    <tr>\n",
              "      <th>58526</th>\n",
              "      <td>[2, 1185, 300, 1609, 391, 300, 2101, 224, 3, 0...</td>\n",
              "      <td>[2, 6133, 321, 1622, 1086, 321, 2113, 224, 3, ...</td>\n",
              "    </tr>\n",
              "    <tr>\n",
              "      <th>61040</th>\n",
              "      <td>[2, 449, 304, 3230, 362, 448, 1105, 224, 3, 0,...</td>\n",
              "      <td>[2, 393, 4462, 294, 352, 1121, 224, 3, 0, 0, 0...</td>\n",
              "    </tr>\n",
              "    <tr>\n",
              "      <th>55871</th>\n",
              "      <td>[2, 426, 1664, 362, 1903, 334, 404, 224, 3, 0,...</td>\n",
              "      <td>[2, 444, 1834, 294, 1791, 318, 589, 224, 3, 0,...</td>\n",
              "    </tr>\n",
              "    <tr>\n",
              "      <th>103847</th>\n",
              "      <td>[2, 568, 449, 989, 904, 370, 431, 498, 328, 22...</td>\n",
              "      <td>[2, 664, 1875, 1702, 265, 11069, 302, 1407, 60...</td>\n",
              "    </tr>\n",
              "    <tr>\n",
              "      <th>72195</th>\n",
              "      <td>[2, 300, 1066, 5955, 328, 272, 402, 804, 224, ...</td>\n",
              "      <td>[2, 331, 1233, 328, 4065, 1207, 644, 224, 3, 0...</td>\n",
              "    </tr>\n",
              "    <tr>\n",
              "      <th>...</th>\n",
              "      <td>...</td>\n",
              "      <td>...</td>\n",
              "    </tr>\n",
              "    <tr>\n",
              "      <th>80241</th>\n",
              "      <td>[2, 442, 996, 272, 300, 1827, 722, 2735, 224, ...</td>\n",
              "      <td>[2, 463, 620, 322, 2735, 355, 1827, 224, 3, 0,...</td>\n",
              "    </tr>\n",
              "    <tr>\n",
              "      <th>9001</th>\n",
              "      <td>[2, 270, 498, 370, 1066, 224, 3, 0, 0, 0, 0, 0...</td>\n",
              "      <td>[2, 328, 731, 3318, 1233, 224, 3, 0, 0, 0, 0, ...</td>\n",
              "    </tr>\n",
              "    <tr>\n",
              "      <th>62406</th>\n",
              "      <td>[2, 270, 1167, 265, 6204, 976, 300, 1366, 224,...</td>\n",
              "      <td>[2, 4329, 410, 8242, 4833, 294, 321, 1429, 224...</td>\n",
              "    </tr>\n",
              "    <tr>\n",
              "      <th>54914</th>\n",
              "      <td>[2, 538, 826, 465, 473, 611, 361, 224, 3, 0, 0...</td>\n",
              "      <td>[2, 11376, 302, 6470, 224, 3, 0, 0, 0, 0, 0, 0...</td>\n",
              "    </tr>\n",
              "    <tr>\n",
              "      <th>15815</th>\n",
              "      <td>[2, 1124, 612, 300, 2120, 224, 3, 0, 0, 0, 0, ...</td>\n",
              "      <td>[2, 7640, 321, 2838, 224, 3, 0, 0, 0, 0, 0, 0,...</td>\n",
              "    </tr>\n",
              "  </tbody>\n",
              "</table>\n",
              "<p>128982 rows × 2 columns</p>\n",
              "</div>"
            ],
            "text/plain": [
              "                                                  English  \\\n",
              "58526   [2, 1185, 300, 1609, 391, 300, 2101, 224, 3, 0...   \n",
              "61040   [2, 449, 304, 3230, 362, 448, 1105, 224, 3, 0,...   \n",
              "55871   [2, 426, 1664, 362, 1903, 334, 404, 224, 3, 0,...   \n",
              "103847  [2, 568, 449, 989, 904, 370, 431, 498, 328, 22...   \n",
              "72195   [2, 300, 1066, 5955, 328, 272, 402, 804, 224, ...   \n",
              "...                                                   ...   \n",
              "80241   [2, 442, 996, 272, 300, 1827, 722, 2735, 224, ...   \n",
              "9001    [2, 270, 498, 370, 1066, 224, 3, 0, 0, 0, 0, 0...   \n",
              "62406   [2, 270, 1167, 265, 6204, 976, 300, 1366, 224,...   \n",
              "54914   [2, 538, 826, 465, 473, 611, 361, 224, 3, 0, 0...   \n",
              "15815   [2, 1124, 612, 300, 2120, 224, 3, 0, 0, 0, 0, ...   \n",
              "\n",
              "                                                  Spanish  \n",
              "58526   [2, 6133, 321, 1622, 1086, 321, 2113, 224, 3, ...  \n",
              "61040   [2, 393, 4462, 294, 352, 1121, 224, 3, 0, 0, 0...  \n",
              "55871   [2, 444, 1834, 294, 1791, 318, 589, 224, 3, 0,...  \n",
              "103847  [2, 664, 1875, 1702, 265, 11069, 302, 1407, 60...  \n",
              "72195   [2, 331, 1233, 328, 4065, 1207, 644, 224, 3, 0...  \n",
              "...                                                   ...  \n",
              "80241   [2, 463, 620, 322, 2735, 355, 1827, 224, 3, 0,...  \n",
              "9001    [2, 328, 731, 3318, 1233, 224, 3, 0, 0, 0, 0, ...  \n",
              "62406   [2, 4329, 410, 8242, 4833, 294, 321, 1429, 224...  \n",
              "54914   [2, 11376, 302, 6470, 224, 3, 0, 0, 0, 0, 0, 0...  \n",
              "15815   [2, 7640, 321, 2838, 224, 3, 0, 0, 0, 0, 0, 0,...  \n",
              "\n",
              "[128982 rows x 2 columns]"
            ]
          },
          "execution_count": 3,
          "metadata": {},
          "output_type": "execute_result"
        }
      ],
      "source": [
        "import pandas as pd\n",
        "from sklearn.utils import shuffle\n",
        "df = pd.read_csv(f\"EnglishOrSpanish/output_joint1.csv\")\n",
        "df = shuffle(df)\n",
        "df"
      ]
    },
    {
      "cell_type": "code",
      "execution_count": 4,
      "id": "7109b156",
      "metadata": {
        "colab": {
          "base_uri": "https://localhost:8080/",
          "height": 424
        },
        "execution": {
          "iopub.execute_input": "2025-03-13T10:47:59.380062Z",
          "iopub.status.busy": "2025-03-13T10:47:59.379827Z",
          "iopub.status.idle": "2025-03-13T10:48:05.458226Z",
          "shell.execute_reply": "2025-03-13T10:48:05.457363Z"
        },
        "id": "7109b156",
        "outputId": "5b92d6a5-48cf-4a1b-e00f-7c2db2dee860",
        "papermill": {
          "duration": 6.084367,
          "end_time": "2025-03-13T10:48:05.459670",
          "exception": false,
          "start_time": "2025-03-13T10:47:59.375303",
          "status": "completed"
        },
        "tags": []
      },
      "outputs": [
        {
          "data": {
            "text/html": [
              "<div>\n",
              "<style scoped>\n",
              "    .dataframe tbody tr th:only-of-type {\n",
              "        vertical-align: middle;\n",
              "    }\n",
              "\n",
              "    .dataframe tbody tr th {\n",
              "        vertical-align: top;\n",
              "    }\n",
              "\n",
              "    .dataframe thead th {\n",
              "        text-align: right;\n",
              "    }\n",
              "</style>\n",
              "<table border=\"1\" class=\"dataframe\">\n",
              "  <thead>\n",
              "    <tr style=\"text-align: right;\">\n",
              "      <th></th>\n",
              "      <th>English</th>\n",
              "      <th>Spanish</th>\n",
              "    </tr>\n",
              "  </thead>\n",
              "  <tbody>\n",
              "    <tr>\n",
              "      <th>58526</th>\n",
              "      <td>[2, 1185, 300, 1609, 391, 300, 2101, 224, 3, 0...</td>\n",
              "      <td>[2, 6133, 321, 1622, 1086, 321, 2113, 224, 3, ...</td>\n",
              "    </tr>\n",
              "    <tr>\n",
              "      <th>61040</th>\n",
              "      <td>[2, 449, 304, 3230, 362, 448, 1105, 224, 3, 0,...</td>\n",
              "      <td>[2, 393, 4462, 294, 352, 1121, 224, 3, 0, 0, 0...</td>\n",
              "    </tr>\n",
              "    <tr>\n",
              "      <th>55871</th>\n",
              "      <td>[2, 426, 1664, 362, 1903, 334, 404, 224, 3, 0,...</td>\n",
              "      <td>[2, 444, 1834, 294, 1791, 318, 589, 224, 3, 0,...</td>\n",
              "    </tr>\n",
              "    <tr>\n",
              "      <th>103847</th>\n",
              "      <td>[2, 568, 449, 989, 904, 370, 431, 498, 328, 22...</td>\n",
              "      <td>[2, 664, 1875, 1702, 265, 11069, 302, 1407, 60...</td>\n",
              "    </tr>\n",
              "    <tr>\n",
              "      <th>72195</th>\n",
              "      <td>[2, 300, 1066, 5955, 328, 272, 402, 804, 224, ...</td>\n",
              "      <td>[2, 331, 1233, 328, 4065, 1207, 644, 224, 3, 0...</td>\n",
              "    </tr>\n",
              "    <tr>\n",
              "      <th>...</th>\n",
              "      <td>...</td>\n",
              "      <td>...</td>\n",
              "    </tr>\n",
              "    <tr>\n",
              "      <th>80241</th>\n",
              "      <td>[2, 442, 996, 272, 300, 1827, 722, 2735, 224, ...</td>\n",
              "      <td>[2, 463, 620, 322, 2735, 355, 1827, 224, 3, 0,...</td>\n",
              "    </tr>\n",
              "    <tr>\n",
              "      <th>9001</th>\n",
              "      <td>[2, 270, 498, 370, 1066, 224, 3, 0, 0, 0, 0, 0...</td>\n",
              "      <td>[2, 328, 731, 3318, 1233, 224, 3, 0, 0, 0, 0, ...</td>\n",
              "    </tr>\n",
              "    <tr>\n",
              "      <th>62406</th>\n",
              "      <td>[2, 270, 1167, 265, 6204, 976, 300, 1366, 224,...</td>\n",
              "      <td>[2, 4329, 410, 8242, 4833, 294, 321, 1429, 224...</td>\n",
              "    </tr>\n",
              "    <tr>\n",
              "      <th>54914</th>\n",
              "      <td>[2, 538, 826, 465, 473, 611, 361, 224, 3, 0, 0...</td>\n",
              "      <td>[2, 11376, 302, 6470, 224, 3, 0, 0, 0, 0, 0, 0...</td>\n",
              "    </tr>\n",
              "    <tr>\n",
              "      <th>15815</th>\n",
              "      <td>[2, 1124, 612, 300, 2120, 224, 3, 0, 0, 0, 0, ...</td>\n",
              "      <td>[2, 7640, 321, 2838, 224, 3, 0, 0, 0, 0, 0, 0,...</td>\n",
              "    </tr>\n",
              "  </tbody>\n",
              "</table>\n",
              "<p>128982 rows × 2 columns</p>\n",
              "</div>"
            ],
            "text/plain": [
              "                                                  English  \\\n",
              "58526   [2, 1185, 300, 1609, 391, 300, 2101, 224, 3, 0...   \n",
              "61040   [2, 449, 304, 3230, 362, 448, 1105, 224, 3, 0,...   \n",
              "55871   [2, 426, 1664, 362, 1903, 334, 404, 224, 3, 0,...   \n",
              "103847  [2, 568, 449, 989, 904, 370, 431, 498, 328, 22...   \n",
              "72195   [2, 300, 1066, 5955, 328, 272, 402, 804, 224, ...   \n",
              "...                                                   ...   \n",
              "80241   [2, 442, 996, 272, 300, 1827, 722, 2735, 224, ...   \n",
              "9001    [2, 270, 498, 370, 1066, 224, 3, 0, 0, 0, 0, 0...   \n",
              "62406   [2, 270, 1167, 265, 6204, 976, 300, 1366, 224,...   \n",
              "54914   [2, 538, 826, 465, 473, 611, 361, 224, 3, 0, 0...   \n",
              "15815   [2, 1124, 612, 300, 2120, 224, 3, 0, 0, 0, 0, ...   \n",
              "\n",
              "                                                  Spanish  \n",
              "58526   [2, 6133, 321, 1622, 1086, 321, 2113, 224, 3, ...  \n",
              "61040   [2, 393, 4462, 294, 352, 1121, 224, 3, 0, 0, 0...  \n",
              "55871   [2, 444, 1834, 294, 1791, 318, 589, 224, 3, 0,...  \n",
              "103847  [2, 664, 1875, 1702, 265, 11069, 302, 1407, 60...  \n",
              "72195   [2, 331, 1233, 328, 4065, 1207, 644, 224, 3, 0...  \n",
              "...                                                   ...  \n",
              "80241   [2, 463, 620, 322, 2735, 355, 1827, 224, 3, 0,...  \n",
              "9001    [2, 328, 731, 3318, 1233, 224, 3, 0, 0, 0, 0, ...  \n",
              "62406   [2, 4329, 410, 8242, 4833, 294, 321, 1429, 224...  \n",
              "54914   [2, 11376, 302, 6470, 224, 3, 0, 0, 0, 0, 0, 0...  \n",
              "15815   [2, 7640, 321, 2838, 224, 3, 0, 0, 0, 0, 0, 0,...  \n",
              "\n",
              "[128982 rows x 2 columns]"
            ]
          },
          "execution_count": 4,
          "metadata": {},
          "output_type": "execute_result"
        }
      ],
      "source": [
        "import ast\n",
        "\n",
        "df[\"English\"] = df[\"English\"].apply(ast.literal_eval)\n",
        "df[\"Spanish\"] = df[\"Spanish\"].apply(ast.literal_eval)\n",
        "df"
      ]
    },
    {
      "cell_type": "code",
      "execution_count": 5,
      "id": "c303ca41",
      "metadata": {
        "execution": {
          "iopub.execute_input": "2025-03-13T10:48:05.466982Z",
          "iopub.status.busy": "2025-03-13T10:48:05.466759Z",
          "iopub.status.idle": "2025-03-13T10:48:08.909453Z",
          "shell.execute_reply": "2025-03-13T10:48:08.908740Z"
        },
        "id": "c303ca41",
        "papermill": {
          "duration": 3.447969,
          "end_time": "2025-03-13T10:48:08.910980",
          "exception": false,
          "start_time": "2025-03-13T10:48:05.463011",
          "status": "completed"
        },
        "tags": []
      },
      "outputs": [],
      "source": [
        "import torch\n",
        "from torch.utils.data import DataLoader, TensorDataset\n",
        "\n",
        "train = TensorDataset(\n",
        "    torch.tensor(df[\"English\"][:100000].tolist(), dtype=torch.long),\n",
        "    torch.tensor(df[\"Spanish\"][:100000].tolist(), dtype=torch.long),\n",
        ")\n",
        "test = TensorDataset(\n",
        "    torch.tensor(df[\"English\"][100000:].tolist(), dtype=torch.long),\n",
        "    torch.tensor(df[\"Spanish\"][100000:].tolist(), dtype=torch.long),\n",
        ")\n",
        "train_loader = DataLoader(train, batch_size=256, shuffle=True, drop_last=True)\n",
        "test_loader = DataLoader(test, batch_size=256, shuffle=False, drop_last=True)"
      ]
    },
    {
      "cell_type": "code",
      "execution_count": 6,
      "id": "4b15a79c",
      "metadata": {
        "execution": {
          "iopub.execute_input": "2025-03-13T10:48:08.918622Z",
          "iopub.status.busy": "2025-03-13T10:48:08.918261Z",
          "iopub.status.idle": "2025-03-13T10:48:08.959614Z",
          "shell.execute_reply": "2025-03-13T10:48:08.958953Z"
        },
        "id": "4b15a79c",
        "papermill": {
          "duration": 0.046354,
          "end_time": "2025-03-13T10:48:08.960915",
          "exception": false,
          "start_time": "2025-03-13T10:48:08.914561",
          "status": "completed"
        },
        "tags": []
      },
      "outputs": [],
      "source": [
        "import json\n",
        "with open(f\"EnglishOrSpanish/vocab.json\", \"r\") as f:\n",
        "    vocab = json.load(f)"
      ]
    },
    {
      "cell_type": "code",
      "execution_count": 7,
      "id": "e29c682e",
      "metadata": {
        "execution": {
          "iopub.execute_input": "2025-03-13T10:48:08.967926Z",
          "iopub.status.busy": "2025-03-13T10:48:08.967712Z",
          "iopub.status.idle": "2025-03-13T10:48:08.973280Z",
          "shell.execute_reply": "2025-03-13T10:48:08.972684Z"
        },
        "id": "e29c682e",
        "papermill": {
          "duration": 0.01032,
          "end_time": "2025-03-13T10:48:08.974405",
          "exception": false,
          "start_time": "2025-03-13T10:48:08.964085",
          "status": "completed"
        },
        "tags": []
      },
      "outputs": [],
      "source": [
        "import torch\n",
        "import torch.nn as nn\n",
        "\n",
        "class Encoder(nn.Module):\n",
        "    def __init__(self, vocab_size, embedding_dim, hidden_size, num_layers=2, dropout=0.3):\n",
        "        super(Encoder, self).__init__()\n",
        "        self.hidden_size = hidden_size\n",
        "        self.num_layers = num_layers\n",
        "        self.vocab_size = vocab_size\n",
        "\n",
        "        self.embedding = nn.Embedding(vocab_size, embedding_dim, padding_idx=0)\n",
        "        self.lstm = nn.LSTM(embedding_dim, hidden_size, num_layers=num_layers,\n",
        "                            batch_first=True, bidirectional=True, dropout=dropout)\n",
        "        self.dropout = nn.Dropout(dropout)\n",
        "\n",
        "        self.apply(self._init_weights)\n",
        "\n",
        "    def _init_weights(self, module):\n",
        "        if isinstance(module, nn.LSTM):\n",
        "            for name, param in module.named_parameters():\n",
        "                if 'weight' in name:\n",
        "                    nn.init.xavier_uniform_(param)\n",
        "                elif 'bias' in name:\n",
        "                    nn.init.zeros_(param)\n",
        "\n",
        "    def forward(self, x):\n",
        "        embedded = self.dropout(self.embedding(x))\n",
        "        output, (hidden, cell) = self.lstm(embedded)\n",
        "        return output, hidden, cell"
      ]
    },
    {
      "cell_type": "code",
      "execution_count": 8,
      "id": "cada738e",
      "metadata": {
        "execution": {
          "iopub.execute_input": "2025-03-13T10:48:08.981157Z",
          "iopub.status.busy": "2025-03-13T10:48:08.980966Z",
          "iopub.status.idle": "2025-03-13T10:48:08.985493Z",
          "shell.execute_reply": "2025-03-13T10:48:08.984942Z"
        },
        "id": "cada738e",
        "papermill": {
          "duration": 0.009156,
          "end_time": "2025-03-13T10:48:08.986692",
          "exception": false,
          "start_time": "2025-03-13T10:48:08.977536",
          "status": "completed"
        },
        "tags": []
      },
      "outputs": [],
      "source": [
        "import torch\n",
        "import torch.nn as nn\n",
        "\n",
        "class Decoder(nn.Module):\n",
        "    def __init__(self, vocab_size, embedding_dim, hidden_size, num_layers=2, dropout=0.3):\n",
        "        super(Decoder, self).__init__()\n",
        "        self.hidden_size = hidden_size\n",
        "        self.num_layers = num_layers\n",
        "        self.vocab_size = vocab_size\n",
        "\n",
        "        self.embedding = nn.Embedding(vocab_size, embedding_dim, padding_idx=0)\n",
        "\n",
        "        self.lstm = nn.LSTM(embedding_dim, hidden_size, num_layers=num_layers,\n",
        "                            batch_first=True, dropout=dropout, bidirectional=True)\n",
        "        self.fc = nn.Linear(hidden_size * 2, vocab_size)\n",
        "        self.dropout = nn.Dropout(dropout)\n",
        "        self.apply(self._init_weights)\n",
        "\n",
        "    def _init_weights(self, module):\n",
        "        if isinstance(module, nn.LSTM):\n",
        "            for name, param in module.named_parameters():\n",
        "                if 'weight' in name:\n",
        "                    nn.init.xavier_uniform_(param)\n",
        "                elif 'bias' in name:\n",
        "                    nn.init.zeros_(param)\n",
        "\n",
        "    def forward(self, x, hidden, cell):\n",
        "        x = x.unsqueeze(1)\n",
        "        embedded = self.dropout(self.embedding(x))\n",
        "        output, (hidden, cell) = self.lstm(embedded, (hidden, cell))\n",
        "        output = self.fc(output).squeeze(1)\n",
        "        return output, hidden, cell"
      ]
    },
    {
      "cell_type": "code",
      "execution_count": 9,
      "id": "ac8cc2ad",
      "metadata": {
        "execution": {
          "iopub.execute_input": "2025-03-13T10:48:08.993442Z",
          "iopub.status.busy": "2025-03-13T10:48:08.993247Z",
          "iopub.status.idle": "2025-03-13T10:48:09.004310Z",
          "shell.execute_reply": "2025-03-13T10:48:09.003585Z"
        },
        "id": "ac8cc2ad",
        "papermill": {
          "duration": 0.015709,
          "end_time": "2025-03-13T10:48:09.005397",
          "exception": false,
          "start_time": "2025-03-13T10:48:08.989688",
          "status": "completed"
        },
        "tags": []
      },
      "outputs": [],
      "source": [
        "import random\n",
        "\n",
        "class Seq2Seq(nn.Module):\n",
        "    def __init__(self, encoder, decoder, device, teacher_forcing_ratio):\n",
        "        super(Seq2Seq, self).__init__()\n",
        "        self.encoder = encoder\n",
        "        self.decoder = decoder\n",
        "        self.device = device\n",
        "        self.vocab_size = self.decoder.vocab_size\n",
        "        self.teacher_forcing_ratio = teacher_forcing_ratio\n",
        "\n",
        "    def forward(self, source, target):\n",
        "        _, hidden, cell = self.encoder(source)\n",
        "        x = target[:, 0]\n",
        "        outputs = torch.zeros(target.shape[0], target.shape[1], self.vocab_size).to(self.device)\n",
        "        for t in range(1, target.shape[1]):\n",
        "            output, hidden, cell = self.decoder(x, hidden, cell)\n",
        "            outputs[:, t] = output\n",
        "            teacher_force = random.random() < self.teacher_forcing_ratio\n",
        "            top1 = output.argmax(1)\n",
        "            x = target[:, t] if teacher_force else top1\n",
        "    \n",
        "        return outputs\n",
        "    \n",
        "    def predict(self, source):\n",
        "        _, hidden, cell = self.encoder(source)\n",
        "        x = source[:, 0]\n",
        "        outputs = torch.zeros(source.shape[0], source.shape[1], self.vocab_size).to(self.device)\n",
        "        for t in range(1, source.shape[1]):\n",
        "            output, hidden, cell = self.decoder(x, hidden, cell)\n",
        "            outputs[:, t] = output\n",
        "            top1 = output.argmax(1)\n",
        "            x = top1\n",
        "    \n",
        "        return outputs"
      ]
    },
    {
      "cell_type": "code",
      "execution_count": 10,
      "id": "3bb4d951",
      "metadata": {},
      "outputs": [],
      "source": [
        "def train(\n",
        "        model,\n",
        "        train_loader,\n",
        "        test_loader,\n",
        "        optimizer,\n",
        "        criterion,\n",
        "        device,\n",
        "        scheduler,\n",
        "        num_epochs,\n",
        "    ):\n",
        "        vocab_size = model.decoder.vocab_size\n",
        "        for epoch in range(num_epochs):\n",
        "            print(f\"\\nEpoch {epoch+1}/{num_epochs}\")\n",
        "            model.train()\n",
        "            epoch_loss = 0\n",
        "            progress_bar = tqdm(train_loader, desc=\"Training\", leave=False)\n",
        "\n",
        "            for src, trg in progress_bar:\n",
        "                src, trg = src.to(device), trg.to(device)\n",
        "\n",
        "                batch_size, trg_len = trg.shape\n",
        "\n",
        "                optimizer.zero_grad()\n",
        "\n",
        "                outputs = model(src, trg)\n",
        "                loss = criterion(\n",
        "                    outputs[:, 1:].reshape(-1, vocab_size), trg[:, 1:].reshape(-1)\n",
        "                )\n",
        "                loss.backward()\n",
        "                optimizer.step()\n",
        "\n",
        "                epoch_loss += loss.item()\n",
        "\n",
        "                progress_bar.set_postfix(\n",
        "                    loss=f\"{loss.item():.4f}\"\n",
        "                )\n",
        "\n",
        "            train_loss = epoch_loss / len(train_loader)\n",
        "\n",
        "            # ---------------- VALIDATION ---------------- #\n",
        "            model.eval()\n",
        "            val_epoch_loss = 0\n",
        "            val_epoch_acc = 0\n",
        "            progress_bar = tqdm(test_loader, desc=\"Validating\", leave=False)\n",
        "\n",
        "            with torch.no_grad():\n",
        "                for src, trg in progress_bar:\n",
        "                    src, trg = src.to(device), trg.to(device)\n",
        "                    outputs = model(src, trg)\n",
        "                    loss = criterion(\n",
        "                        outputs[:, 1:].reshape(-1, vocab_size),\n",
        "                        trg[:, 1:].reshape(-1),\n",
        "                    )\n",
        "                    val_epoch_loss += loss.item()\n",
        "\n",
        "                    progress_bar.set_postfix(\n",
        "                        loss=f\"{loss.item():.4f}\"\n",
        "                    )\n",
        "\n",
        "            val_loss = val_epoch_loss / len(test_loader)\n",
        "            print(\n",
        "                f\"Train loss : {train_loss}, Val_loss : {val_loss}\"\n",
        "            )\n",
        "            scheduler.step(val_loss)\n",
        "        return train_loss, val_loss"
      ]
    },
    {
      "cell_type": "code",
      "execution_count": 13,
      "id": "32613de9",
      "metadata": {
        "execution": {
          "iopub.execute_input": "2025-03-13T10:48:09.012020Z",
          "iopub.status.busy": "2025-03-13T10:48:09.011812Z",
          "iopub.status.idle": "2025-03-13T10:48:13.021377Z",
          "shell.execute_reply": "2025-03-13T10:48:13.020490Z"
        },
        "id": "32613de9",
        "papermill": {
          "duration": 4.014625,
          "end_time": "2025-03-13T10:48:13.023033",
          "exception": false,
          "start_time": "2025-03-13T10:48:09.008408",
          "status": "completed"
        },
        "tags": []
      },
      "outputs": [],
      "source": [
        "import torch\n",
        "import torch.nn as nn\n",
        "import torch.optim as optim\n",
        "from tqdm import tqdm\n",
        "\n",
        "device = torch.device(\"cuda\" if torch.cuda.is_available() else \"cpu\")\n",
        "\n",
        "vocab_size = len(vocab)\n",
        "\n",
        "embedding_dim = 384\n",
        "hidden_size = 64\n",
        "encoder = Encoder(vocab_size, embedding_dim, hidden_size).to(device)\n",
        "decoder = Decoder(vocab_size, embedding_dim, hidden_size).to(device)\n",
        "seq2seq = Seq2Seq(encoder, decoder, device, 0.5).to(device)\n",
        "criterion = nn.CrossEntropyLoss(ignore_index=0)\n",
        "optimizer = optim.Adam(encoder.parameters(), lr=0.05, weight_decay=1e-5)\n",
        "scheduler = optim.lr_scheduler.ReduceLROnPlateau(optimizer, mode='min', factor=0.5, patience=2)"
      ]
    },
    {
      "cell_type": "code",
      "execution_count": null,
      "id": "a6da8eb8",
      "metadata": {
        "colab": {
          "base_uri": "https://localhost:8080/"
        },
        "execution": {
          "iopub.execute_input": "2025-03-13T10:48:13.030818Z",
          "iopub.status.busy": "2025-03-13T10:48:13.030314Z",
          "iopub.status.idle": "2025-03-13T11:43:43.302080Z",
          "shell.execute_reply": "2025-03-13T11:43:43.301324Z"
        },
        "id": "a6da8eb8",
        "outputId": "624e6f77-00eb-462d-b8ca-6dc5e3b0e0cb",
        "papermill": {
          "duration": 3330.276878,
          "end_time": "2025-03-13T11:43:43.303309",
          "exception": false,
          "start_time": "2025-03-13T10:48:13.026431",
          "status": "completed"
        },
        "tags": []
      },
      "outputs": [
        {
          "name": "stdout",
          "output_type": "stream",
          "text": [
            "\n",
            "Epoch 1/30\n"
          ]
        },
        {
          "name": "stderr",
          "output_type": "stream",
          "text": [
            "                                                                           \r"
          ]
        },
        {
          "name": "stdout",
          "output_type": "stream",
          "text": [
            "Train loss : 10.227347498673659, Val_loss : 10.196668515163186\n",
            "\n",
            "Epoch 2/30\n"
          ]
        },
        {
          "name": "stderr",
          "output_type": "stream",
          "text": [
            "                                                                       \r"
          ]
        },
        {
          "ename": "KeyboardInterrupt",
          "evalue": "",
          "output_type": "error",
          "traceback": [
            "\u001b[0;31m---------------------------------------------------------------------------\u001b[0m",
            "\u001b[0;31mKeyboardInterrupt\u001b[0m                         Traceback (most recent call last)",
            "Cell \u001b[0;32mIn[14], line 5\u001b[0m\n\u001b[1;32m      2\u001b[0m \u001b[38;5;28;01mimport\u001b[39;00m\u001b[38;5;250m \u001b[39m\u001b[38;5;21;01mtorch\u001b[39;00m\u001b[38;5;21;01m.\u001b[39;00m\u001b[38;5;21;01mnn\u001b[39;00m\u001b[38;5;21;01m.\u001b[39;00m\u001b[38;5;21;01mfunctional\u001b[39;00m\u001b[38;5;250m \u001b[39m\u001b[38;5;28;01mas\u001b[39;00m\u001b[38;5;250m \u001b[39m\u001b[38;5;21;01mF\u001b[39;00m\n\u001b[1;32m      3\u001b[0m \u001b[38;5;28;01mfrom\u001b[39;00m\u001b[38;5;250m \u001b[39m\u001b[38;5;21;01mtqdm\u001b[39;00m\u001b[38;5;250m \u001b[39m\u001b[38;5;28;01mimport\u001b[39;00m tqdm\n\u001b[0;32m----> 5\u001b[0m \u001b[43mtrain\u001b[49m\u001b[43m(\u001b[49m\u001b[43mseq2seq\u001b[49m\u001b[43m,\u001b[49m\u001b[43m \u001b[49m\u001b[43mtrain_loader\u001b[49m\u001b[43m,\u001b[49m\u001b[43m \u001b[49m\u001b[43mtest_loader\u001b[49m\u001b[43m,\u001b[49m\u001b[43m \u001b[49m\u001b[43moptimizer\u001b[49m\u001b[43m,\u001b[49m\u001b[43m \u001b[49m\u001b[43mcriterion\u001b[49m\u001b[43m,\u001b[49m\u001b[43m \u001b[49m\u001b[43mdevice\u001b[49m\u001b[43m,\u001b[49m\u001b[43m \u001b[49m\u001b[43mscheduler\u001b[49m\u001b[43m,\u001b[49m\u001b[43m \u001b[49m\u001b[38;5;241;43m30\u001b[39;49m\u001b[43m)\u001b[49m\n",
            "Cell \u001b[0;32mIn[10], line 32\u001b[0m, in \u001b[0;36mtrain\u001b[0;34m(model, train_loader, test_loader, optimizer, criterion, device, scheduler, num_epochs)\u001b[0m\n\u001b[1;32m     29\u001b[0m     loss\u001b[38;5;241m.\u001b[39mbackward()\n\u001b[1;32m     30\u001b[0m     optimizer\u001b[38;5;241m.\u001b[39mstep()\n\u001b[0;32m---> 32\u001b[0m     epoch_loss \u001b[38;5;241m+\u001b[39m\u001b[38;5;241m=\u001b[39m \u001b[43mloss\u001b[49m\u001b[38;5;241;43m.\u001b[39;49m\u001b[43mitem\u001b[49m\u001b[43m(\u001b[49m\u001b[43m)\u001b[49m\n\u001b[1;32m     34\u001b[0m     progress_bar\u001b[38;5;241m.\u001b[39mset_postfix(\n\u001b[1;32m     35\u001b[0m         loss\u001b[38;5;241m=\u001b[39m\u001b[38;5;124mf\u001b[39m\u001b[38;5;124m\"\u001b[39m\u001b[38;5;132;01m{\u001b[39;00mloss\u001b[38;5;241m.\u001b[39mitem()\u001b[38;5;132;01m:\u001b[39;00m\u001b[38;5;124m.4f\u001b[39m\u001b[38;5;132;01m}\u001b[39;00m\u001b[38;5;124m\"\u001b[39m\n\u001b[1;32m     36\u001b[0m     )\n\u001b[1;32m     38\u001b[0m train_loss \u001b[38;5;241m=\u001b[39m epoch_loss \u001b[38;5;241m/\u001b[39m \u001b[38;5;28mlen\u001b[39m(train_loader)\n",
            "\u001b[0;31mKeyboardInterrupt\u001b[0m: "
          ]
        },
        {
          "ename": "",
          "evalue": "",
          "output_type": "error",
          "traceback": [
            "\u001b[1;31mThe Kernel crashed while executing code in the current cell or a previous cell. \n",
            "\u001b[1;31mPlease review the code in the cell(s) to identify a possible cause of the failure. \n",
            "\u001b[1;31mClick <a href='https://aka.ms/vscodeJupyterKernelCrash'>here</a> for more info. \n",
            "\u001b[1;31mView Jupyter <a href='command:jupyter.viewOutput'>log</a> for further details."
          ]
        }
      ],
      "source": [
        "import torch\n",
        "import torch.nn.functional as F\n",
        "from tqdm import tqdm\n",
        "\n",
        "train(seq2seq, train_loader, test_loader, optimizer, criterion, device, scheduler, 30)"
      ]
    },
    {
      "cell_type": "code",
      "execution_count": null,
      "id": "a331db15",
      "metadata": {},
      "outputs": [],
      "source": [
        "torch.save(seq2seq.state_dict(), \"seq2seq-noatten-bidir.pth\")"
      ]
    }
  ],
  "metadata": {
    "accelerator": "GPU",
    "colab": {
      "gpuType": "T4",
      "provenance": []
    },
    "kaggle": {
      "accelerator": "nvidiaTeslaT4",
      "dataSources": [
        {
          "datasetId": 6838673,
          "sourceId": 11016226,
          "sourceType": "datasetVersion"
        }
      ],
      "dockerImageVersionId": 30919,
      "isGpuEnabled": true,
      "isInternetEnabled": true,
      "language": "python",
      "sourceType": "notebook"
    },
    "kernelspec": {
      "display_name": "Python (myenv)",
      "language": "python",
      "name": "torch"
    },
    "language_info": {
      "codemirror_mode": {
        "name": "ipython",
        "version": 3
      },
      "file_extension": ".py",
      "mimetype": "text/x-python",
      "name": "python",
      "nbconvert_exporter": "python",
      "pygments_lexer": "ipython3",
      "version": "3.12.3"
    },
    "papermill": {
      "default_parameters": {},
      "duration": 3351.376965,
      "end_time": "2025-03-13T11:43:46.339865",
      "environment_variables": {},
      "exception": null,
      "input_path": "__notebook__.ipynb",
      "output_path": "__notebook__.ipynb",
      "parameters": {},
      "start_time": "2025-03-13T10:47:54.962900",
      "version": "2.6.0"
    }
  },
  "nbformat": 4,
  "nbformat_minor": 5
}
