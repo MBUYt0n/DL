{
  "cells": [
    {
      "cell_type": "code",
      "execution_count": 1,
      "id": "c0c485ea",
      "metadata": {
        "colab": {
          "base_uri": "https://localhost:8080/"
        },
        "execution": {
          "iopub.execute_input": "2025-03-13T10:47:57.550675Z",
          "iopub.status.busy": "2025-03-13T10:47:57.550438Z",
          "iopub.status.idle": "2025-03-13T10:47:58.039821Z",
          "shell.execute_reply": "2025-03-13T10:47:58.038948Z"
        },
        "id": "c0c485ea",
        "outputId": "655445e5-4b1d-4263-e1a2-e9b074591d15",
        "papermill": {
          "duration": 0.494432,
          "end_time": "2025-03-13T10:47:58.041156",
          "exception": false,
          "start_time": "2025-03-13T10:47:57.546724",
          "status": "completed"
        },
        "tags": []
      },
      "outputs": [],
      "source": [
        "# import kagglehub\n",
        "\n",
        "# # Download latest version\n",
        "# path = kagglehub.dataset_download(\"shusrith/machine-trainslation\")\n",
        "\n",
        "# print(\"Path to dataset files:\", path)"
      ]
    },
    {
      "cell_type": "code",
      "execution_count": 2,
      "id": "73361d89",
      "metadata": {
        "colab": {
          "base_uri": "https://localhost:8080/"
        },
        "execution": {
          "iopub.execute_input": "2025-03-13T10:47:58.047678Z",
          "iopub.status.busy": "2025-03-13T10:47:58.047398Z",
          "iopub.status.idle": "2025-03-13T10:47:58.171494Z",
          "shell.execute_reply": "2025-03-13T10:47:58.170617Z"
        },
        "id": "73361d89",
        "outputId": "fe73f694-52c8-4f03-c7a9-8d9b5aa0f414",
        "papermill": {
          "duration": 0.128806,
          "end_time": "2025-03-13T10:47:58.173012",
          "exception": false,
          "start_time": "2025-03-13T10:47:58.044206",
          "status": "completed"
        },
        "tags": []
      },
      "outputs": [],
      "source": [
        "# !ls $path/EnglishOrSpanish"
      ]
    },
    {
      "cell_type": "code",
      "execution_count": 1,
      "id": "d0145768",
      "metadata": {
        "colab": {
          "base_uri": "https://localhost:8080/",
          "height": 424
        },
        "execution": {
          "iopub.execute_input": "2025-03-13T10:47:58.180127Z",
          "iopub.status.busy": "2025-03-13T10:47:58.179870Z",
          "iopub.status.idle": "2025-03-13T10:47:59.370514Z",
          "shell.execute_reply": "2025-03-13T10:47:59.369665Z"
        },
        "id": "d0145768",
        "outputId": "83af7e41-96d0-4368-cbc0-996710256066",
        "papermill": {
          "duration": 1.195894,
          "end_time": "2025-03-13T10:47:59.371972",
          "exception": false,
          "start_time": "2025-03-13T10:47:58.176078",
          "status": "completed"
        },
        "tags": []
      },
      "outputs": [
        {
          "data": {
            "text/html": [
              "<div>\n",
              "<style scoped>\n",
              "    .dataframe tbody tr th:only-of-type {\n",
              "        vertical-align: middle;\n",
              "    }\n",
              "\n",
              "    .dataframe tbody tr th {\n",
              "        vertical-align: top;\n",
              "    }\n",
              "\n",
              "    .dataframe thead th {\n",
              "        text-align: right;\n",
              "    }\n",
              "</style>\n",
              "<table border=\"1\" class=\"dataframe\">\n",
              "  <thead>\n",
              "    <tr style=\"text-align: right;\">\n",
              "      <th></th>\n",
              "      <th>English</th>\n",
              "      <th>Spanish</th>\n",
              "    </tr>\n",
              "  </thead>\n",
              "  <tbody>\n",
              "    <tr>\n",
              "      <th>37238</th>\n",
              "      <td>[2, 290, 506, 302, 4187, 272, 382, 224, 3, 0, ...</td>\n",
              "      <td>[2, 927, 302, 590, 11051, 632, 224, 3, 0, 0, 0...</td>\n",
              "    </tr>\n",
              "    <tr>\n",
              "      <th>16313</th>\n",
              "      <td>[2, 404, 334, 479, 977, 224, 3, 0, 0, 0, 0, 0,...</td>\n",
              "      <td>[2, 4794, 318, 352, 644, 224, 3, 0, 0, 0, 0, 0...</td>\n",
              "    </tr>\n",
              "    <tr>\n",
              "      <th>119558</th>\n",
              "      <td>[2, 272, 4285, 265, 4942, 10980, 391, 300, 293...</td>\n",
              "      <td>[2, 470, 13559, 410, 5529, 2502, 14723, 322, 3...</td>\n",
              "    </tr>\n",
              "    <tr>\n",
              "      <th>77063</th>\n",
              "      <td>[2, 290, 1581, 265, 8717, 1092, 9923, 224, 3, ...</td>\n",
              "      <td>[2, 290, 5329, 323, 9350, 387, 4920, 294, 352,...</td>\n",
              "    </tr>\n",
              "    <tr>\n",
              "      <th>117062</th>\n",
              "      <td>[2, 1041, 6743, 270, 1038, 1245, 2274, 7257, 3...</td>\n",
              "      <td>[2, 1458, 294, 1147, 954, 328, 1319, 2542, 224...</td>\n",
              "    </tr>\n",
              "    <tr>\n",
              "      <th>...</th>\n",
              "      <td>...</td>\n",
              "      <td>...</td>\n",
              "    </tr>\n",
              "    <tr>\n",
              "      <th>86927</th>\n",
              "      <td>[2, 818, 803, 982, 611, 5959, 609, 224, 3, 0, ...</td>\n",
              "      <td>[2, 831, 328, 311, 1464, 387, 321, 2518, 27400...</td>\n",
              "    </tr>\n",
              "    <tr>\n",
              "      <th>50420</th>\n",
              "      <td>[2, 300, 2077, 2324, 391, 582, 224, 3, 0, 0, 0...</td>\n",
              "      <td>[2, 331, 2743, 2350, 8040, 224, 3, 0, 0, 0, 0,...</td>\n",
              "    </tr>\n",
              "    <tr>\n",
              "      <th>83302</th>\n",
              "      <td>[2, 900, 803, 921, 843, 498, 370, 224, 3, 0, 0...</td>\n",
              "      <td>[2, 535, 2984, 7162, 704, 1323, 224, 3, 0, 0, ...</td>\n",
              "    </tr>\n",
              "    <tr>\n",
              "      <th>64192</th>\n",
              "      <td>[2, 290, 20104, 300, 1182, 272, 369, 224, 3, 0...</td>\n",
              "      <td>[2, 290, 372, 26803, 331, 874, 265, 369, 224, ...</td>\n",
              "    </tr>\n",
              "    <tr>\n",
              "      <th>58702</th>\n",
              "      <td>[2, 1972, 384, 2794, 4474, 328, 224, 3, 0, 0, ...</td>\n",
              "      <td>[2, 6003, 535, 962, 1132, 2916, 224, 3, 0, 0, ...</td>\n",
              "    </tr>\n",
              "  </tbody>\n",
              "</table>\n",
              "<p>128982 rows × 2 columns</p>\n",
              "</div>"
            ],
            "text/plain": [
              "                                                  English                                            Spanish\n",
              "37238   [2, 290, 506, 302, 4187, 272, 382, 224, 3, 0, ...  [2, 927, 302, 590, 11051, 632, 224, 3, 0, 0, 0...\n",
              "16313   [2, 404, 334, 479, 977, 224, 3, 0, 0, 0, 0, 0,...  [2, 4794, 318, 352, 644, 224, 3, 0, 0, 0, 0, 0...\n",
              "119558  [2, 272, 4285, 265, 4942, 10980, 391, 300, 293...  [2, 470, 13559, 410, 5529, 2502, 14723, 322, 3...\n",
              "77063   [2, 290, 1581, 265, 8717, 1092, 9923, 224, 3, ...  [2, 290, 5329, 323, 9350, 387, 4920, 294, 352,...\n",
              "117062  [2, 1041, 6743, 270, 1038, 1245, 2274, 7257, 3...  [2, 1458, 294, 1147, 954, 328, 1319, 2542, 224...\n",
              "...                                                   ...                                                ...\n",
              "86927   [2, 818, 803, 982, 611, 5959, 609, 224, 3, 0, ...  [2, 831, 328, 311, 1464, 387, 321, 2518, 27400...\n",
              "50420   [2, 300, 2077, 2324, 391, 582, 224, 3, 0, 0, 0...  [2, 331, 2743, 2350, 8040, 224, 3, 0, 0, 0, 0,...\n",
              "83302   [2, 900, 803, 921, 843, 498, 370, 224, 3, 0, 0...  [2, 535, 2984, 7162, 704, 1323, 224, 3, 0, 0, ...\n",
              "64192   [2, 290, 20104, 300, 1182, 272, 369, 224, 3, 0...  [2, 290, 372, 26803, 331, 874, 265, 369, 224, ...\n",
              "58702   [2, 1972, 384, 2794, 4474, 328, 224, 3, 0, 0, ...  [2, 6003, 535, 962, 1132, 2916, 224, 3, 0, 0, ...\n",
              "\n",
              "[128982 rows x 2 columns]"
            ]
          },
          "execution_count": 1,
          "metadata": {},
          "output_type": "execute_result"
        }
      ],
      "source": [
        "import pandas as pd\n",
        "from sklearn.utils import shuffle\n",
        "df = pd.read_csv(f\"EnglishOrSpanish/output_joint1.csv\")\n",
        "df = shuffle(df)\n",
        "df"
      ]
    },
    {
      "cell_type": "code",
      "execution_count": 3,
      "id": "7109b156",
      "metadata": {
        "colab": {
          "base_uri": "https://localhost:8080/",
          "height": 424
        },
        "execution": {
          "iopub.execute_input": "2025-03-13T10:47:59.380062Z",
          "iopub.status.busy": "2025-03-13T10:47:59.379827Z",
          "iopub.status.idle": "2025-03-13T10:48:05.458226Z",
          "shell.execute_reply": "2025-03-13T10:48:05.457363Z"
        },
        "id": "7109b156",
        "outputId": "5b92d6a5-48cf-4a1b-e00f-7c2db2dee860",
        "papermill": {
          "duration": 6.084367,
          "end_time": "2025-03-13T10:48:05.459670",
          "exception": false,
          "start_time": "2025-03-13T10:47:59.375303",
          "status": "completed"
        },
        "tags": []
      },
      "outputs": [
        {
          "data": {
            "text/html": [
              "<div>\n",
              "<style scoped>\n",
              "    .dataframe tbody tr th:only-of-type {\n",
              "        vertical-align: middle;\n",
              "    }\n",
              "\n",
              "    .dataframe tbody tr th {\n",
              "        vertical-align: top;\n",
              "    }\n",
              "\n",
              "    .dataframe thead th {\n",
              "        text-align: right;\n",
              "    }\n",
              "</style>\n",
              "<table border=\"1\" class=\"dataframe\">\n",
              "  <thead>\n",
              "    <tr style=\"text-align: right;\">\n",
              "      <th></th>\n",
              "      <th>English</th>\n",
              "      <th>Spanish</th>\n",
              "    </tr>\n",
              "  </thead>\n",
              "  <tbody>\n",
              "    <tr>\n",
              "      <th>37238</th>\n",
              "      <td>[2, 290, 506, 302, 4187, 272, 382, 224, 3, 0, ...</td>\n",
              "      <td>[2, 927, 302, 590, 11051, 632, 224, 3, 0, 0, 0...</td>\n",
              "    </tr>\n",
              "    <tr>\n",
              "      <th>16313</th>\n",
              "      <td>[2, 404, 334, 479, 977, 224, 3, 0, 0, 0, 0, 0,...</td>\n",
              "      <td>[2, 4794, 318, 352, 644, 224, 3, 0, 0, 0, 0, 0...</td>\n",
              "    </tr>\n",
              "    <tr>\n",
              "      <th>119558</th>\n",
              "      <td>[2, 272, 4285, 265, 4942, 10980, 391, 300, 293...</td>\n",
              "      <td>[2, 470, 13559, 410, 5529, 2502, 14723, 322, 3...</td>\n",
              "    </tr>\n",
              "    <tr>\n",
              "      <th>77063</th>\n",
              "      <td>[2, 290, 1581, 265, 8717, 1092, 9923, 224, 3, ...</td>\n",
              "      <td>[2, 290, 5329, 323, 9350, 387, 4920, 294, 352,...</td>\n",
              "    </tr>\n",
              "    <tr>\n",
              "      <th>117062</th>\n",
              "      <td>[2, 1041, 6743, 270, 1038, 1245, 2274, 7257, 3...</td>\n",
              "      <td>[2, 1458, 294, 1147, 954, 328, 1319, 2542, 224...</td>\n",
              "    </tr>\n",
              "    <tr>\n",
              "      <th>...</th>\n",
              "      <td>...</td>\n",
              "      <td>...</td>\n",
              "    </tr>\n",
              "    <tr>\n",
              "      <th>86927</th>\n",
              "      <td>[2, 818, 803, 982, 611, 5959, 609, 224, 3, 0, ...</td>\n",
              "      <td>[2, 831, 328, 311, 1464, 387, 321, 2518, 27400...</td>\n",
              "    </tr>\n",
              "    <tr>\n",
              "      <th>50420</th>\n",
              "      <td>[2, 300, 2077, 2324, 391, 582, 224, 3, 0, 0, 0...</td>\n",
              "      <td>[2, 331, 2743, 2350, 8040, 224, 3, 0, 0, 0, 0,...</td>\n",
              "    </tr>\n",
              "    <tr>\n",
              "      <th>83302</th>\n",
              "      <td>[2, 900, 803, 921, 843, 498, 370, 224, 3, 0, 0...</td>\n",
              "      <td>[2, 535, 2984, 7162, 704, 1323, 224, 3, 0, 0, ...</td>\n",
              "    </tr>\n",
              "    <tr>\n",
              "      <th>64192</th>\n",
              "      <td>[2, 290, 20104, 300, 1182, 272, 369, 224, 3, 0...</td>\n",
              "      <td>[2, 290, 372, 26803, 331, 874, 265, 369, 224, ...</td>\n",
              "    </tr>\n",
              "    <tr>\n",
              "      <th>58702</th>\n",
              "      <td>[2, 1972, 384, 2794, 4474, 328, 224, 3, 0, 0, ...</td>\n",
              "      <td>[2, 6003, 535, 962, 1132, 2916, 224, 3, 0, 0, ...</td>\n",
              "    </tr>\n",
              "  </tbody>\n",
              "</table>\n",
              "<p>128982 rows × 2 columns</p>\n",
              "</div>"
            ],
            "text/plain": [
              "                                                  English                                            Spanish\n",
              "37238   [2, 290, 506, 302, 4187, 272, 382, 224, 3, 0, ...  [2, 927, 302, 590, 11051, 632, 224, 3, 0, 0, 0...\n",
              "16313   [2, 404, 334, 479, 977, 224, 3, 0, 0, 0, 0, 0,...  [2, 4794, 318, 352, 644, 224, 3, 0, 0, 0, 0, 0...\n",
              "119558  [2, 272, 4285, 265, 4942, 10980, 391, 300, 293...  [2, 470, 13559, 410, 5529, 2502, 14723, 322, 3...\n",
              "77063   [2, 290, 1581, 265, 8717, 1092, 9923, 224, 3, ...  [2, 290, 5329, 323, 9350, 387, 4920, 294, 352,...\n",
              "117062  [2, 1041, 6743, 270, 1038, 1245, 2274, 7257, 3...  [2, 1458, 294, 1147, 954, 328, 1319, 2542, 224...\n",
              "...                                                   ...                                                ...\n",
              "86927   [2, 818, 803, 982, 611, 5959, 609, 224, 3, 0, ...  [2, 831, 328, 311, 1464, 387, 321, 2518, 27400...\n",
              "50420   [2, 300, 2077, 2324, 391, 582, 224, 3, 0, 0, 0...  [2, 331, 2743, 2350, 8040, 224, 3, 0, 0, 0, 0,...\n",
              "83302   [2, 900, 803, 921, 843, 498, 370, 224, 3, 0, 0...  [2, 535, 2984, 7162, 704, 1323, 224, 3, 0, 0, ...\n",
              "64192   [2, 290, 20104, 300, 1182, 272, 369, 224, 3, 0...  [2, 290, 372, 26803, 331, 874, 265, 369, 224, ...\n",
              "58702   [2, 1972, 384, 2794, 4474, 328, 224, 3, 0, 0, ...  [2, 6003, 535, 962, 1132, 2916, 224, 3, 0, 0, ...\n",
              "\n",
              "[128982 rows x 2 columns]"
            ]
          },
          "execution_count": 3,
          "metadata": {},
          "output_type": "execute_result"
        }
      ],
      "source": [
        "import ast\n",
        "\n",
        "df[\"English\"] = df[\"English\"].apply(ast.literal_eval)\n",
        "df[\"Spanish\"] = df[\"Spanish\"].apply(ast.literal_eval)\n",
        "df"
      ]
    },
    {
      "cell_type": "code",
      "execution_count": 4,
      "id": "c303ca41",
      "metadata": {
        "execution": {
          "iopub.execute_input": "2025-03-13T10:48:05.466982Z",
          "iopub.status.busy": "2025-03-13T10:48:05.466759Z",
          "iopub.status.idle": "2025-03-13T10:48:08.909453Z",
          "shell.execute_reply": "2025-03-13T10:48:08.908740Z"
        },
        "id": "c303ca41",
        "papermill": {
          "duration": 3.447969,
          "end_time": "2025-03-13T10:48:08.910980",
          "exception": false,
          "start_time": "2025-03-13T10:48:05.463011",
          "status": "completed"
        },
        "tags": []
      },
      "outputs": [],
      "source": [
        "import torch\n",
        "from torch.utils.data import DataLoader, TensorDataset\n",
        "\n",
        "train = TensorDataset(\n",
        "    torch.tensor(df[\"English\"][:100000].tolist(), dtype=torch.long),\n",
        "    torch.tensor(df[\"Spanish\"][:100000].tolist(), dtype=torch.long),\n",
        ")\n",
        "test = TensorDataset(\n",
        "    torch.tensor(df[\"English\"][100000:].tolist(), dtype=torch.long),\n",
        "    torch.tensor(df[\"Spanish\"][100000:].tolist(), dtype=torch.long),\n",
        ")\n",
        "train_loader = DataLoader(train, batch_size=256, shuffle=True, drop_last=True)\n",
        "test_loader = DataLoader(test, batch_size=256, shuffle=False, drop_last=True)"
      ]
    },
    {
      "cell_type": "code",
      "execution_count": 5,
      "id": "4b15a79c",
      "metadata": {
        "execution": {
          "iopub.execute_input": "2025-03-13T10:48:08.918622Z",
          "iopub.status.busy": "2025-03-13T10:48:08.918261Z",
          "iopub.status.idle": "2025-03-13T10:48:08.959614Z",
          "shell.execute_reply": "2025-03-13T10:48:08.958953Z"
        },
        "id": "4b15a79c",
        "papermill": {
          "duration": 0.046354,
          "end_time": "2025-03-13T10:48:08.960915",
          "exception": false,
          "start_time": "2025-03-13T10:48:08.914561",
          "status": "completed"
        },
        "tags": []
      },
      "outputs": [],
      "source": [
        "import json\n",
        "with open(f\"EnglishOrSpanish/vocab.json\", \"r\") as f:\n",
        "    vocab = json.load(f)"
      ]
    },
    {
      "cell_type": "code",
      "execution_count": 6,
      "id": "e29c682e",
      "metadata": {
        "execution": {
          "iopub.execute_input": "2025-03-13T10:48:08.967926Z",
          "iopub.status.busy": "2025-03-13T10:48:08.967712Z",
          "iopub.status.idle": "2025-03-13T10:48:08.973280Z",
          "shell.execute_reply": "2025-03-13T10:48:08.972684Z"
        },
        "id": "e29c682e",
        "papermill": {
          "duration": 0.01032,
          "end_time": "2025-03-13T10:48:08.974405",
          "exception": false,
          "start_time": "2025-03-13T10:48:08.964085",
          "status": "completed"
        },
        "tags": []
      },
      "outputs": [],
      "source": [
        "import torch\n",
        "import torch.nn as nn\n",
        "\n",
        "class Encoder(nn.Module):\n",
        "    def __init__(self, vocab_size, hidden_size, num_layers=4, dropout=0.3):\n",
        "        super(Encoder, self).__init__()\n",
        "        self.hidden_size = hidden_size\n",
        "        self.num_layers = num_layers\n",
        "        self.vocab_size = vocab_size\n",
        "\n",
        "        self.embedding = nn.Embedding(vocab_size, hidden_size, padding_idx=14453)\n",
        "        self.lstm = nn.LSTM(hidden_size, hidden_size, num_layers=num_layers,\n",
        "                            batch_first=True, bidirectional=True, dropout=dropout)\n",
        "\n",
        "        self.layer_norm = nn.LayerNorm(2 * hidden_size)\n",
        "        self.hidden_norm = nn.LayerNorm(hidden_size)\n",
        "        self.cell_norm = nn.LayerNorm(hidden_size)\n",
        "        self.dropout = nn.Dropout(dropout)\n",
        "\n",
        "        self.apply(self._init_weights)\n",
        "\n",
        "    def _init_weights(self, module):\n",
        "        if isinstance(module, nn.LSTM):\n",
        "            for name, param in module.named_parameters():\n",
        "                if 'weight' in name:\n",
        "                    nn.init.xavier_uniform_(param)\n",
        "                elif 'bias' in name:\n",
        "                    nn.init.zeros_(param)\n",
        "\n",
        "    def forward(self, x):\n",
        "        embedded = self.dropout(self.embedding(x))\n",
        "        output, (hidden, cell) = self.lstm(embedded)\n",
        "        output = self.layer_norm(output)\n",
        "        hidden = self.hidden_norm(\n",
        "            hidden\n",
        "        )\n",
        "        cell = self.cell_norm(cell)\n",
        "        return output, hidden, cell"
      ]
    },
    {
      "cell_type": "code",
      "execution_count": 7,
      "id": "cada738e",
      "metadata": {
        "execution": {
          "iopub.execute_input": "2025-03-13T10:48:08.981157Z",
          "iopub.status.busy": "2025-03-13T10:48:08.980966Z",
          "iopub.status.idle": "2025-03-13T10:48:08.985493Z",
          "shell.execute_reply": "2025-03-13T10:48:08.984942Z"
        },
        "id": "cada738e",
        "papermill": {
          "duration": 0.009156,
          "end_time": "2025-03-13T10:48:08.986692",
          "exception": false,
          "start_time": "2025-03-13T10:48:08.977536",
          "status": "completed"
        },
        "tags": []
      },
      "outputs": [],
      "source": [
        "import torch\n",
        "import torch.nn as nn\n",
        "\n",
        "class Decoder(nn.Module):\n",
        "    def __init__(self, vocab_size, hidden_size, num_layers=4, dropout=0.3):\n",
        "        super(Decoder, self).__init__()\n",
        "        self.hidden_size = hidden_size\n",
        "        self.num_layers = num_layers\n",
        "        self.vocab_size = vocab_size\n",
        "        self.num_directions = 2\n",
        "\n",
        "        self.embedding = nn.Embedding(vocab_size, hidden_size, padding_idx=23722)\n",
        "\n",
        "        self.lstm = nn.LSTM(hidden_size, hidden_size, num_layers=num_layers,\n",
        "                            batch_first=True, dropout=dropout, bidirectional=True)\n",
        "\n",
        "        self.layer_norm = nn.LayerNorm(2 * hidden_size)\n",
        "        self.hidden_norm = nn.LayerNorm(hidden_size)\n",
        "        self.cell_norm = nn.LayerNorm(hidden_size)\n",
        "\n",
        "        self.fc = nn.Linear(hidden_size * 2, vocab_size)\n",
        "        self.dropout = nn.Dropout(dropout)\n",
        "        self.apply(self._init_weights)\n",
        "\n",
        "    def _init_weights(self, module):\n",
        "        if isinstance(module, nn.LSTM):\n",
        "            for name, param in module.named_parameters():\n",
        "                if 'weight' in name:\n",
        "                    nn.init.xavier_uniform_(param)\n",
        "                elif 'bias' in name:\n",
        "                    nn.init.zeros_(param)\n",
        "\n",
        "    def forward(self, x, hidden, cell):\n",
        "        x = x.unsqueeze(1)\n",
        "        embedded = self.dropout(self.embedding(x))\n",
        "        output, (hidden, cell) = self.lstm(embedded, (hidden, cell))\n",
        "        output = self.layer_norm(output)\n",
        "        hidden = self.hidden_norm(\n",
        "            hidden\n",
        "        )\n",
        "        cell = self.cell_norm(cell)\n",
        "        output = self.fc(output).squeeze(1)\n",
        "        return output, hidden, cell"
      ]
    },
    {
      "cell_type": "code",
      "execution_count": 8,
      "id": "ac8cc2ad",
      "metadata": {
        "execution": {
          "iopub.execute_input": "2025-03-13T10:48:08.993442Z",
          "iopub.status.busy": "2025-03-13T10:48:08.993247Z",
          "iopub.status.idle": "2025-03-13T10:48:09.004310Z",
          "shell.execute_reply": "2025-03-13T10:48:09.003585Z"
        },
        "id": "ac8cc2ad",
        "papermill": {
          "duration": 0.015709,
          "end_time": "2025-03-13T10:48:09.005397",
          "exception": false,
          "start_time": "2025-03-13T10:48:08.989688",
          "status": "completed"
        },
        "tags": []
      },
      "outputs": [],
      "source": [
        "class Seq2Seq:\n",
        "    def __init__(self, encoder, decoder, device, teacher_forcing_ratio):\n",
        "        super(Seq2Seq, self).__init__()\n",
        "        self.encoder = encoder\n",
        "        self.decoder = decoder\n",
        "        self.device = device\n",
        "        self.vocab_size = self.decoder.vocab_size\n",
        "        self.teacher_forcing_ratio = teacher_forcing_ratio\n",
        "\n",
        "    def train(\n",
        "        self,\n",
        "        train_loader,\n",
        "        test_loader,\n",
        "        enc_optimizer,\n",
        "        dec_optimizer,\n",
        "        criterion,\n",
        "        device,\n",
        "        encoder_scheduler,\n",
        "        decoder_scheduler,\n",
        "        num_epochs,\n",
        "    ):\n",
        "        for epoch in range(num_epochs):\n",
        "            print(f\"\\nEpoch {epoch+1}/{num_epochs}\")\n",
        "            self.encoder.train()\n",
        "            self.decoder.train()\n",
        "            epoch_loss = 0\n",
        "            epoch_acc = 0\n",
        "            progress_bar = tqdm(train_loader, desc=\"Training\", leave=False)\n",
        "\n",
        "            for src, trg in progress_bar:\n",
        "                src, trg = src.to(device), trg.to(device)\n",
        "\n",
        "                batch_size, trg_len = trg.shape\n",
        "\n",
        "                enc_optimizer.zero_grad()\n",
        "                dec_optimizer.zero_grad()\n",
        "\n",
        "                _, hidden, cell = self.encoder(src)\n",
        "                outputs = torch.zeros(batch_size, trg_len, self.vocab_size).to(\n",
        "                    self.device\n",
        "                )\n",
        "                x = trg[:, 0]\n",
        "                for t in range(1, trg_len):\n",
        "                    output, hidden, cell = self.decoder(x, hidden, cell)\n",
        "                    outputs[:, t, :] = output\n",
        "                    teacher_force = torch.rand(1).item() < self.teacher_forcing_ratio\n",
        "                    x = trg[:, t] if teacher_force else output.argmax(dim=1)\n",
        "                loss = criterion(\n",
        "                    outputs[:, 1:].reshape(-1, self.vocab_size), trg[:, 1:].reshape(-1)\n",
        "                )\n",
        "                loss.backward()\n",
        "                enc_optimizer.step()\n",
        "                dec_optimizer.step()\n",
        "\n",
        "                epoch_loss += loss.item()\n",
        "\n",
        "                preds = outputs.argmax(dim=2)\n",
        "                correct = (preds == trg).float().sum().item()\n",
        "                total = trg.numel()\n",
        "                batch_acc = correct / total\n",
        "                epoch_acc += batch_acc\n",
        "\n",
        "                progress_bar.set_postfix(\n",
        "                    loss=f\"{loss.item():.4f}\", acc=f\"{batch_acc:.4f}\"\n",
        "                )\n",
        "\n",
        "            train_loss = epoch_loss / len(train_loader)\n",
        "            train_acc = epoch_acc / len(train_loader)\n",
        "\n",
        "            # ---------------- VALIDATION ---------------- #\n",
        "            self.encoder.eval()\n",
        "            self.decoder.eval()\n",
        "            val_epoch_loss = 0\n",
        "            val_epoch_acc = 0\n",
        "            progress_bar = tqdm(test_loader, desc=\"Validating\", leave=False)\n",
        "\n",
        "            with torch.no_grad():\n",
        "                for src, trg in progress_bar:\n",
        "                    src, trg = src.to(device), trg.to(device)\n",
        "                    batch_size, trg_len = trg.shape\n",
        "                    _, hidden, cell = self.encoder(src)\n",
        "                    outputs = torch.zeros(batch_size, trg_len, self.vocab_size).to(\n",
        "                        self.device\n",
        "                    )\n",
        "                    x = trg[:, 0]\n",
        "                    for t in range(1, trg_len):\n",
        "                        output, hidden, cell = self.decoder(x, hidden, cell)\n",
        "                        outputs[:, t, :] = output\n",
        "                        x = output.argmax(dim=1)\n",
        "\n",
        "                    loss = criterion(\n",
        "                        outputs[:, 1:].reshape(-1, self.vocab_size),\n",
        "                        trg[:, 1:].reshape(-1),\n",
        "                    )\n",
        "                    val_epoch_loss += loss.item()\n",
        "\n",
        "                    preds = outputs.argmax(dim=2)\n",
        "                    correct = (preds == trg).float().sum().item()\n",
        "                    total = trg.numel()\n",
        "                    batch_acc = correct / total\n",
        "                    val_epoch_acc += batch_acc\n",
        "\n",
        "                    progress_bar.set_postfix(\n",
        "                        loss=f\"{loss.item():.4f}\", acc=f\"{batch_acc:.4f}\"\n",
        "                    )\n",
        "\n",
        "            val_loss = val_epoch_loss / len(test_loader)\n",
        "            val_acc = val_epoch_acc / len(test_loader)\n",
        "            print(\n",
        "                f\"Train loss : {train_loss}, Train accuracy : {train_acc}, Val_loss : {val_loss}, val accuracy : {val_acc}\"\n",
        "            )\n",
        "            encoder_scheduler.step(val_loss)\n",
        "            decoder_scheduler.step(val_loss)\n",
        "        return train_loss, train_acc, val_loss, val_acc\n",
        "\n",
        "    def predict(self, src, trg):\n",
        "        self.encoder.eval()\n",
        "        self.decoder.eval()\n",
        "        with torch.no_grad():\n",
        "            src, trg = src.to(self.device), trg.to(self.device)\n",
        "            batch_size, trg_len = trg.shape\n",
        "            _, hidden, cell = self.encoder(src)\n",
        "            outputs = torch.zeros(batch_size, trg_len, self.vocab_size).to(self.device)\n",
        "            x = trg[:, 0]\n",
        "            for t in range(1, trg_len):\n",
        "                output, hidden, cell = self.decoder(x, hidden, cell)\n",
        "                outputs[:, t, :] = output\n",
        "                x = output.argmax(dim=1)\n",
        "            return outputs"
      ]
    },
    {
      "cell_type": "code",
      "execution_count": 9,
      "id": "32613de9",
      "metadata": {
        "execution": {
          "iopub.execute_input": "2025-03-13T10:48:09.012020Z",
          "iopub.status.busy": "2025-03-13T10:48:09.011812Z",
          "iopub.status.idle": "2025-03-13T10:48:13.021377Z",
          "shell.execute_reply": "2025-03-13T10:48:13.020490Z"
        },
        "id": "32613de9",
        "papermill": {
          "duration": 4.014625,
          "end_time": "2025-03-13T10:48:13.023033",
          "exception": false,
          "start_time": "2025-03-13T10:48:09.008408",
          "status": "completed"
        },
        "tags": []
      },
      "outputs": [],
      "source": [
        "import torch\n",
        "import torch.nn as nn\n",
        "import torch.optim as optim\n",
        "from tqdm import tqdm\n",
        "\n",
        "device = torch.device(\"cuda\" if torch.cuda.is_available() else \"cpu\")\n",
        "\n",
        "vocab_size = len(vocab)\n",
        "\n",
        "hidden_size = 256\n",
        "encoder = Encoder(vocab_size, hidden_size).to(device)\n",
        "decoder = Decoder(vocab_size, hidden_size).to(device)\n",
        "seq2seq = Seq2Seq(encoder, decoder, device, 0.5)\n",
        "criterion = nn.CrossEntropyLoss(ignore_index=23722)\n",
        "encoder_optimizer = optim.Adam(encoder.parameters(), lr=0.001, weight_decay=1e-5)\n",
        "decoder_optimizer = optim.Adam(decoder.parameters(), lr=0.001, weight_decay=1e-5)\n",
        "encoder_scheduler = optim.lr_scheduler.ReduceLROnPlateau(encoder_optimizer, mode='min', factor=0.9, patience=2)\n",
        "decoder_scheduler = optim.lr_scheduler.ReduceLROnPlateau(decoder_optimizer, mode='min', factor=0.9, patience=2)"
      ]
    },
    {
      "cell_type": "code",
      "execution_count": 10,
      "id": "a6da8eb8",
      "metadata": {
        "colab": {
          "base_uri": "https://localhost:8080/"
        },
        "execution": {
          "iopub.execute_input": "2025-03-13T10:48:13.030818Z",
          "iopub.status.busy": "2025-03-13T10:48:13.030314Z",
          "iopub.status.idle": "2025-03-13T11:43:43.302080Z",
          "shell.execute_reply": "2025-03-13T11:43:43.301324Z"
        },
        "id": "a6da8eb8",
        "outputId": "624e6f77-00eb-462d-b8ca-6dc5e3b0e0cb",
        "papermill": {
          "duration": 3330.276878,
          "end_time": "2025-03-13T11:43:43.303309",
          "exception": false,
          "start_time": "2025-03-13T10:48:13.026431",
          "status": "completed"
        },
        "tags": []
      },
      "outputs": [
        {
          "name": "stdout",
          "output_type": "stream",
          "text": [
            "\n",
            "Epoch 1/20\n"
          ]
        },
        {
          "name": "stderr",
          "output_type": "stream",
          "text": [
            "                                                                                      \r"
          ]
        },
        {
          "name": "stdout",
          "output_type": "stream",
          "text": [
            "Train loss : 2.5850319620890496, Train accuracy : 0.5941589877136748, Val_loss : 2.3108001113992875, val accuracy : 0.5887145095870208\n",
            "\n",
            "Epoch 2/20\n"
          ]
        },
        {
          "name": "stderr",
          "output_type": "stream",
          "text": [
            "                                                                                      \r"
          ]
        },
        {
          "name": "stdout",
          "output_type": "stream",
          "text": [
            "Train loss : 1.9146389190967266, Train accuracy : 0.6561314770299149, Val_loss : 2.0735966452455097, val accuracy : 0.6055628533677484\n",
            "\n",
            "Epoch 3/20\n"
          ]
        },
        {
          "name": "stderr",
          "output_type": "stream",
          "text": [
            "                                                                                      \r"
          ]
        },
        {
          "name": "stdout",
          "output_type": "stream",
          "text": [
            "Train loss : 1.5671368112930886, Train accuracy : 0.6836399350071221, Val_loss : 1.8267605557905888, val accuracy : 0.6337420108161258\n",
            "\n",
            "Epoch 4/20\n"
          ]
        },
        {
          "name": "stderr",
          "output_type": "stream",
          "text": [
            "                                                                                      \r"
          ]
        },
        {
          "name": "stdout",
          "output_type": "stream",
          "text": [
            "Train loss : 1.3352552673755549, Train accuracy : 0.7047971198361823, Val_loss : 1.8034481084452265, val accuracy : 0.6410359820550642\n",
            "\n",
            "Epoch 5/20\n"
          ]
        },
        {
          "name": "stderr",
          "output_type": "stream",
          "text": [
            "                                                                                      \r"
          ]
        },
        {
          "name": "stdout",
          "output_type": "stream",
          "text": [
            "Train loss : 1.1610599326781736, Train accuracy : 0.7227747729700855, Val_loss : 1.6866204495978567, val accuracy : 0.6516677421337266\n",
            "\n",
            "Epoch 6/20\n"
          ]
        },
        {
          "name": "stderr",
          "output_type": "stream",
          "text": [
            "                                                                                      \r"
          ]
        },
        {
          "name": "stdout",
          "output_type": "stream",
          "text": [
            "Train loss : 1.0345048783681332, Train accuracy : 0.7364689058048437, Val_loss : 1.6030545677758952, val accuracy : 0.6608783493117016\n",
            "\n",
            "Epoch 7/20\n"
          ]
        },
        {
          "name": "stderr",
          "output_type": "stream",
          "text": [
            "                                                                                      \r"
          ]
        },
        {
          "name": "stdout",
          "output_type": "stream",
          "text": [
            "Train loss : 0.9314266131474421, Train accuracy : 0.7498503160612537, Val_loss : 1.5771567209631996, val accuracy : 0.6645675854228121\n",
            "\n",
            "Epoch 8/20\n"
          ]
        },
        {
          "name": "stderr",
          "output_type": "stream",
          "text": [
            "                                                                                      \r"
          ]
        },
        {
          "name": "stdout",
          "output_type": "stream",
          "text": [
            "Train loss : 0.8434301730913993, Train accuracy : 0.76317051727208, Val_loss : 1.6207304412284784, val accuracy : 0.6671583087512291\n",
            "\n",
            "Epoch 9/20\n"
          ]
        },
        {
          "name": "stderr",
          "output_type": "stream",
          "text": [
            "                                                                                      \r"
          ]
        },
        {
          "name": "stdout",
          "output_type": "stream",
          "text": [
            "Train loss : 0.776840113218014, Train accuracy : 0.7735159588675209, Val_loss : 1.6315208188200419, val accuracy : 0.6695531434365782\n",
            "\n",
            "Epoch 10/20\n"
          ]
        },
        {
          "name": "stderr",
          "output_type": "stream",
          "text": [
            "                                                                                      \r"
          ]
        },
        {
          "name": "stdout",
          "output_type": "stream",
          "text": [
            "Train loss : 0.7225963971553705, Train accuracy : 0.7828058226495732, Val_loss : 1.614835838300992, val accuracy : 0.6714294493608653\n",
            "\n",
            "Epoch 11/20\n"
          ]
        },
        {
          "name": "stderr",
          "output_type": "stream",
          "text": [
            "                                                                                      \r"
          ]
        },
        {
          "name": "stdout",
          "output_type": "stream",
          "text": [
            "Train loss : 0.6602103517605709, Train accuracy : 0.7938540553774929, Val_loss : 1.5813413816215718, val accuracy : 0.6755776794493611\n",
            "\n",
            "Epoch 12/20\n"
          ]
        },
        {
          "name": "stderr",
          "output_type": "stream",
          "text": [
            "                                                                                      \r"
          ]
        },
        {
          "name": "stdout",
          "output_type": "stream",
          "text": [
            "Train loss : 0.6168150427249762, Train accuracy : 0.802025462962963, Val_loss : 1.6068678978270134, val accuracy : 0.675253118854474\n",
            "\n",
            "Epoch 13/20\n"
          ]
        },
        {
          "name": "stderr",
          "output_type": "stream",
          "text": [
            "                                                                                      \r"
          ]
        },
        {
          "name": "stdout",
          "output_type": "stream",
          "text": [
            "Train loss : 0.5876071939101586, Train accuracy : 0.8073089164886034, Val_loss : 1.646065522084194, val accuracy : 0.6742410275319564\n",
            "\n",
            "Epoch 14/20\n"
          ]
        },
        {
          "name": "stderr",
          "output_type": "stream",
          "text": [
            "                                                                                      \r"
          ]
        },
        {
          "name": "stdout",
          "output_type": "stream",
          "text": [
            "Train loss : 0.5497800891215985, Train accuracy : 0.8146462117165245, Val_loss : 1.612605035832498, val accuracy : 0.6769335361356931\n",
            "\n",
            "Epoch 15/20\n"
          ]
        },
        {
          "name": "stderr",
          "output_type": "stream",
          "text": [
            "                                                                                      \r"
          ]
        },
        {
          "name": "stdout",
          "output_type": "stream",
          "text": [
            "Train loss : 0.5216977678048305, Train accuracy : 0.8198489805911684, Val_loss : 1.6480811327959584, val accuracy : 0.6767645341691249\n",
            "\n",
            "Epoch 16/20\n"
          ]
        },
        {
          "name": "stderr",
          "output_type": "stream",
          "text": [
            "                                                                                      \r"
          ]
        },
        {
          "name": "stdout",
          "output_type": "stream",
          "text": [
            "Train loss : 0.5025678758437817, Train accuracy : 0.8238208912037037, Val_loss : 1.6489785371628483, val accuracy : 0.6759829000737464\n",
            "\n",
            "Epoch 17/20\n"
          ]
        },
        {
          "name": "stderr",
          "output_type": "stream",
          "text": [
            "                                                                                      \r"
          ]
        },
        {
          "name": "stdout",
          "output_type": "stream",
          "text": [
            "Train loss : 0.4634282137338932, Train accuracy : 0.8321558938746438, Val_loss : 1.677240277813599, val accuracy : 0.6764726216814158\n",
            "\n",
            "Epoch 18/20\n"
          ]
        },
        {
          "name": "stderr",
          "output_type": "stream",
          "text": [
            "                                                                                      \r"
          ]
        },
        {
          "name": "stdout",
          "output_type": "stream",
          "text": [
            "Train loss : 0.4462985096833645, Train accuracy : 0.8358534766737894, Val_loss : 1.6673911219149564, val accuracy : 0.6771217428711898\n",
            "\n",
            "Epoch 19/20\n"
          ]
        },
        {
          "name": "stderr",
          "output_type": "stream",
          "text": [
            "                                                                                      \r"
          ]
        },
        {
          "name": "stdout",
          "output_type": "stream",
          "text": [
            "Train loss : 0.4335475116968155, Train accuracy : 0.8380074786324785, Val_loss : 1.7000859163503732, val accuracy : 0.6767760570304819\n",
            "\n",
            "Epoch 20/20\n"
          ]
        },
        {
          "name": "stderr",
          "output_type": "stream",
          "text": [
            "                                                                                      "
          ]
        },
        {
          "name": "stdout",
          "output_type": "stream",
          "text": [
            "Train loss : 0.40797262283471913, Train accuracy : 0.843958667200855, Val_loss : 1.6996232788119696, val accuracy : 0.6764822240658803\n"
          ]
        },
        {
          "name": "stderr",
          "output_type": "stream",
          "text": [
            "\r"
          ]
        },
        {
          "data": {
            "text/plain": [
              "(0.40797262283471913,\n",
              " 0.843958667200855,\n",
              " 1.6996232788119696,\n",
              " 0.6764822240658803)"
            ]
          },
          "execution_count": 10,
          "metadata": {},
          "output_type": "execute_result"
        }
      ],
      "source": [
        "import torch\n",
        "import torch.nn.functional as F\n",
        "from tqdm import tqdm\n",
        "\n",
        "seq2seq.train(train_loader, test_loader, encoder_optimizer, decoder_optimizer, criterion, device, encoder_scheduler, decoder_scheduler, 20)"
      ]
    }
  ],
  "metadata": {
    "accelerator": "GPU",
    "colab": {
      "gpuType": "T4",
      "provenance": []
    },
    "kaggle": {
      "accelerator": "nvidiaTeslaT4",
      "dataSources": [
        {
          "datasetId": 6838673,
          "sourceId": 11016226,
          "sourceType": "datasetVersion"
        }
      ],
      "dockerImageVersionId": 30919,
      "isGpuEnabled": true,
      "isInternetEnabled": true,
      "language": "python",
      "sourceType": "notebook"
    },
    "kernelspec": {
      "display_name": "Python (myenv)",
      "language": "python",
      "name": "torch"
    },
    "language_info": {
      "codemirror_mode": {
        "name": "ipython",
        "version": 3
      },
      "file_extension": ".py",
      "mimetype": "text/x-python",
      "name": "python",
      "nbconvert_exporter": "python",
      "pygments_lexer": "ipython3",
      "version": "3.12.3"
    },
    "papermill": {
      "default_parameters": {},
      "duration": 3351.376965,
      "end_time": "2025-03-13T11:43:46.339865",
      "environment_variables": {},
      "exception": null,
      "input_path": "__notebook__.ipynb",
      "output_path": "__notebook__.ipynb",
      "parameters": {},
      "start_time": "2025-03-13T10:47:54.962900",
      "version": "2.6.0"
    }
  },
  "nbformat": 4,
  "nbformat_minor": 5
}
