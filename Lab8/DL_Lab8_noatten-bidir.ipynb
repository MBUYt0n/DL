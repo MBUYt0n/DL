{
  "cells": [
    {
      "cell_type": "code",
      "execution_count": 1,
      "id": "c0c485ea",
      "metadata": {
        "colab": {
          "base_uri": "https://localhost:8080/"
        },
        "execution": {
          "iopub.execute_input": "2025-03-13T10:47:57.550675Z",
          "iopub.status.busy": "2025-03-13T10:47:57.550438Z",
          "iopub.status.idle": "2025-03-13T10:47:58.039821Z",
          "shell.execute_reply": "2025-03-13T10:47:58.038948Z"
        },
        "id": "c0c485ea",
        "outputId": "655445e5-4b1d-4263-e1a2-e9b074591d15",
        "papermill": {
          "duration": 0.494432,
          "end_time": "2025-03-13T10:47:58.041156",
          "exception": false,
          "start_time": "2025-03-13T10:47:57.546724",
          "status": "completed"
        },
        "tags": []
      },
      "outputs": [],
      "source": [
        "# import kagglehub\n",
        "\n",
        "# # Download latest version\n",
        "# path = kagglehub.dataset_download(\"shusrith/machine-trainslation\")\n",
        "\n",
        "# print(\"Path to dataset files:\", path)"
      ]
    },
    {
      "cell_type": "code",
      "execution_count": 2,
      "id": "73361d89",
      "metadata": {
        "colab": {
          "base_uri": "https://localhost:8080/"
        },
        "execution": {
          "iopub.execute_input": "2025-03-13T10:47:58.047678Z",
          "iopub.status.busy": "2025-03-13T10:47:58.047398Z",
          "iopub.status.idle": "2025-03-13T10:47:58.171494Z",
          "shell.execute_reply": "2025-03-13T10:47:58.170617Z"
        },
        "id": "73361d89",
        "outputId": "fe73f694-52c8-4f03-c7a9-8d9b5aa0f414",
        "papermill": {
          "duration": 0.128806,
          "end_time": "2025-03-13T10:47:58.173012",
          "exception": false,
          "start_time": "2025-03-13T10:47:58.044206",
          "status": "completed"
        },
        "tags": []
      },
      "outputs": [],
      "source": [
        "# !ls $path/EnglishOrSpanish"
      ]
    },
    {
      "cell_type": "code",
      "execution_count": 3,
      "id": "d0145768",
      "metadata": {
        "colab": {
          "base_uri": "https://localhost:8080/",
          "height": 424
        },
        "execution": {
          "iopub.execute_input": "2025-03-13T10:47:58.180127Z",
          "iopub.status.busy": "2025-03-13T10:47:58.179870Z",
          "iopub.status.idle": "2025-03-13T10:47:59.370514Z",
          "shell.execute_reply": "2025-03-13T10:47:59.369665Z"
        },
        "id": "d0145768",
        "outputId": "83af7e41-96d0-4368-cbc0-996710256066",
        "papermill": {
          "duration": 1.195894,
          "end_time": "2025-03-13T10:47:59.371972",
          "exception": false,
          "start_time": "2025-03-13T10:47:58.176078",
          "status": "completed"
        },
        "tags": []
      },
      "outputs": [
        {
          "data": {
            "text/html": [
              "<div>\n",
              "<style scoped>\n",
              "    .dataframe tbody tr th:only-of-type {\n",
              "        vertical-align: middle;\n",
              "    }\n",
              "\n",
              "    .dataframe tbody tr th {\n",
              "        vertical-align: top;\n",
              "    }\n",
              "\n",
              "    .dataframe thead th {\n",
              "        text-align: right;\n",
              "    }\n",
              "</style>\n",
              "<table border=\"1\" class=\"dataframe\">\n",
              "  <thead>\n",
              "    <tr style=\"text-align: right;\">\n",
              "      <th></th>\n",
              "      <th>English</th>\n",
              "      <th>Spanish</th>\n",
              "    </tr>\n",
              "  </thead>\n",
              "  <tbody>\n",
              "    <tr>\n",
              "      <th>75834</th>\n",
              "      <td>[2, 716, 763, 290, 426, 395, 1578, 612, 224, 3...</td>\n",
              "      <td>[2, 1656, 4084, 265, 290, 294, 349, 316, 653, ...</td>\n",
              "    </tr>\n",
              "    <tr>\n",
              "      <th>5946</th>\n",
              "      <td>[2, 395, 774, 437, 2485, 224, 3, 0, 0, 0, 0, 0...</td>\n",
              "      <td>[2, 10933, 265, 492, 2581, 224, 3, 0, 0, 0, 0,...</td>\n",
              "    </tr>\n",
              "    <tr>\n",
              "      <th>111011</th>\n",
              "      <td>[2, 2295, 2294, 4505, 1349, 716, 791, 27697, 2...</td>\n",
              "      <td>[2, 434, 2330, 372, 20410, 265, 1439, 321, 127...</td>\n",
              "    </tr>\n",
              "    <tr>\n",
              "      <th>106385</th>\n",
              "      <td>[2, 426, 582, 580, 300, 1643, 398, 760, 1185, ...</td>\n",
              "      <td>[2, 265, 444, 1171, 3585, 331, 1707, 2456, 760...</td>\n",
              "    </tr>\n",
              "    <tr>\n",
              "      <th>118170</th>\n",
              "      <td>[2, 333, 384, 822, 3322, 272, 1411, 272, 3568,...</td>\n",
              "      <td>[2, 401, 2668, 4641, 292, 3985, 4758, 321, 142...</td>\n",
              "    </tr>\n",
              "    <tr>\n",
              "      <th>...</th>\n",
              "      <td>...</td>\n",
              "      <td>...</td>\n",
              "    </tr>\n",
              "    <tr>\n",
              "      <th>106051</th>\n",
              "      <td>[2, 290, 2240, 272, 763, 369, 370, 3882, 356, ...</td>\n",
              "      <td>[2, 290, 3691, 470, 3713, 265, 369, 316, 7999,...</td>\n",
              "    </tr>\n",
              "    <tr>\n",
              "      <th>42579</th>\n",
              "      <td>[2, 575, 304, 1344, 391, 300, 1971, 224, 3, 0,...</td>\n",
              "      <td>[2, 937, 13941, 331, 6561, 224, 3, 0, 0, 0, 0,...</td>\n",
              "    </tr>\n",
              "    <tr>\n",
              "      <th>29271</th>\n",
              "      <td>[2, 304, 473, 414, 1605, 224, 3, 0, 0, 0, 0, 0...</td>\n",
              "      <td>[2, 898, 1062, 316, 535, 566, 5994, 224, 3, 0,...</td>\n",
              "    </tr>\n",
              "    <tr>\n",
              "      <th>11750</th>\n",
              "      <td>[2, 270, 431, 663, 304, 224, 3, 0, 0, 0, 0, 0,...</td>\n",
              "      <td>[2, 302, 375, 1227, 224, 3, 0, 0, 0, 0, 0, 0, ...</td>\n",
              "    </tr>\n",
              "    <tr>\n",
              "      <th>91318</th>\n",
              "      <td>[2, 290, 1690, 426, 369, 1126, 521, 272, 341, ...</td>\n",
              "      <td>[2, 290, 1381, 349, 316, 369, 1079, 316, 401, ...</td>\n",
              "    </tr>\n",
              "  </tbody>\n",
              "</table>\n",
              "<p>128982 rows × 2 columns</p>\n",
              "</div>"
            ],
            "text/plain": [
              "                                                  English  \\\n",
              "75834   [2, 716, 763, 290, 426, 395, 1578, 612, 224, 3...   \n",
              "5946    [2, 395, 774, 437, 2485, 224, 3, 0, 0, 0, 0, 0...   \n",
              "111011  [2, 2295, 2294, 4505, 1349, 716, 791, 27697, 2...   \n",
              "106385  [2, 426, 582, 580, 300, 1643, 398, 760, 1185, ...   \n",
              "118170  [2, 333, 384, 822, 3322, 272, 1411, 272, 3568,...   \n",
              "...                                                   ...   \n",
              "106051  [2, 290, 2240, 272, 763, 369, 370, 3882, 356, ...   \n",
              "42579   [2, 575, 304, 1344, 391, 300, 1971, 224, 3, 0,...   \n",
              "29271   [2, 304, 473, 414, 1605, 224, 3, 0, 0, 0, 0, 0...   \n",
              "11750   [2, 270, 431, 663, 304, 224, 3, 0, 0, 0, 0, 0,...   \n",
              "91318   [2, 290, 1690, 426, 369, 1126, 521, 272, 341, ...   \n",
              "\n",
              "                                                  Spanish  \n",
              "75834   [2, 1656, 4084, 265, 290, 294, 349, 316, 653, ...  \n",
              "5946    [2, 10933, 265, 492, 2581, 224, 3, 0, 0, 0, 0,...  \n",
              "111011  [2, 434, 2330, 372, 20410, 265, 1439, 321, 127...  \n",
              "106385  [2, 265, 444, 1171, 3585, 331, 1707, 2456, 760...  \n",
              "118170  [2, 401, 2668, 4641, 292, 3985, 4758, 321, 142...  \n",
              "...                                                   ...  \n",
              "106051  [2, 290, 3691, 470, 3713, 265, 369, 316, 7999,...  \n",
              "42579   [2, 937, 13941, 331, 6561, 224, 3, 0, 0, 0, 0,...  \n",
              "29271   [2, 898, 1062, 316, 535, 566, 5994, 224, 3, 0,...  \n",
              "11750   [2, 302, 375, 1227, 224, 3, 0, 0, 0, 0, 0, 0, ...  \n",
              "91318   [2, 290, 1381, 349, 316, 369, 1079, 316, 401, ...  \n",
              "\n",
              "[128982 rows x 2 columns]"
            ]
          },
          "execution_count": 3,
          "metadata": {},
          "output_type": "execute_result"
        }
      ],
      "source": [
        "import pandas as pd\n",
        "from sklearn.utils import shuffle\n",
        "df = pd.read_csv(f\"EnglishOrSpanish/output_joint1.csv\")\n",
        "df = shuffle(df)\n",
        "df"
      ]
    },
    {
      "cell_type": "code",
      "execution_count": 4,
      "id": "7109b156",
      "metadata": {
        "colab": {
          "base_uri": "https://localhost:8080/",
          "height": 424
        },
        "execution": {
          "iopub.execute_input": "2025-03-13T10:47:59.380062Z",
          "iopub.status.busy": "2025-03-13T10:47:59.379827Z",
          "iopub.status.idle": "2025-03-13T10:48:05.458226Z",
          "shell.execute_reply": "2025-03-13T10:48:05.457363Z"
        },
        "id": "7109b156",
        "outputId": "5b92d6a5-48cf-4a1b-e00f-7c2db2dee860",
        "papermill": {
          "duration": 6.084367,
          "end_time": "2025-03-13T10:48:05.459670",
          "exception": false,
          "start_time": "2025-03-13T10:47:59.375303",
          "status": "completed"
        },
        "tags": []
      },
      "outputs": [
        {
          "data": {
            "text/html": [
              "<div>\n",
              "<style scoped>\n",
              "    .dataframe tbody tr th:only-of-type {\n",
              "        vertical-align: middle;\n",
              "    }\n",
              "\n",
              "    .dataframe tbody tr th {\n",
              "        vertical-align: top;\n",
              "    }\n",
              "\n",
              "    .dataframe thead th {\n",
              "        text-align: right;\n",
              "    }\n",
              "</style>\n",
              "<table border=\"1\" class=\"dataframe\">\n",
              "  <thead>\n",
              "    <tr style=\"text-align: right;\">\n",
              "      <th></th>\n",
              "      <th>English</th>\n",
              "      <th>Spanish</th>\n",
              "    </tr>\n",
              "  </thead>\n",
              "  <tbody>\n",
              "    <tr>\n",
              "      <th>75834</th>\n",
              "      <td>[2, 716, 763, 290, 426, 395, 1578, 612, 224, 3...</td>\n",
              "      <td>[2, 1656, 4084, 265, 290, 294, 349, 316, 653, ...</td>\n",
              "    </tr>\n",
              "    <tr>\n",
              "      <th>5946</th>\n",
              "      <td>[2, 395, 774, 437, 2485, 224, 3, 0, 0, 0, 0, 0...</td>\n",
              "      <td>[2, 10933, 265, 492, 2581, 224, 3, 0, 0, 0, 0,...</td>\n",
              "    </tr>\n",
              "    <tr>\n",
              "      <th>111011</th>\n",
              "      <td>[2, 2295, 2294, 4505, 1349, 716, 791, 27697, 2...</td>\n",
              "      <td>[2, 434, 2330, 372, 20410, 265, 1439, 321, 127...</td>\n",
              "    </tr>\n",
              "    <tr>\n",
              "      <th>106385</th>\n",
              "      <td>[2, 426, 582, 580, 300, 1643, 398, 760, 1185, ...</td>\n",
              "      <td>[2, 265, 444, 1171, 3585, 331, 1707, 2456, 760...</td>\n",
              "    </tr>\n",
              "    <tr>\n",
              "      <th>118170</th>\n",
              "      <td>[2, 333, 384, 822, 3322, 272, 1411, 272, 3568,...</td>\n",
              "      <td>[2, 401, 2668, 4641, 292, 3985, 4758, 321, 142...</td>\n",
              "    </tr>\n",
              "    <tr>\n",
              "      <th>...</th>\n",
              "      <td>...</td>\n",
              "      <td>...</td>\n",
              "    </tr>\n",
              "    <tr>\n",
              "      <th>106051</th>\n",
              "      <td>[2, 290, 2240, 272, 763, 369, 370, 3882, 356, ...</td>\n",
              "      <td>[2, 290, 3691, 470, 3713, 265, 369, 316, 7999,...</td>\n",
              "    </tr>\n",
              "    <tr>\n",
              "      <th>42579</th>\n",
              "      <td>[2, 575, 304, 1344, 391, 300, 1971, 224, 3, 0,...</td>\n",
              "      <td>[2, 937, 13941, 331, 6561, 224, 3, 0, 0, 0, 0,...</td>\n",
              "    </tr>\n",
              "    <tr>\n",
              "      <th>29271</th>\n",
              "      <td>[2, 304, 473, 414, 1605, 224, 3, 0, 0, 0, 0, 0...</td>\n",
              "      <td>[2, 898, 1062, 316, 535, 566, 5994, 224, 3, 0,...</td>\n",
              "    </tr>\n",
              "    <tr>\n",
              "      <th>11750</th>\n",
              "      <td>[2, 270, 431, 663, 304, 224, 3, 0, 0, 0, 0, 0,...</td>\n",
              "      <td>[2, 302, 375, 1227, 224, 3, 0, 0, 0, 0, 0, 0, ...</td>\n",
              "    </tr>\n",
              "    <tr>\n",
              "      <th>91318</th>\n",
              "      <td>[2, 290, 1690, 426, 369, 1126, 521, 272, 341, ...</td>\n",
              "      <td>[2, 290, 1381, 349, 316, 369, 1079, 316, 401, ...</td>\n",
              "    </tr>\n",
              "  </tbody>\n",
              "</table>\n",
              "<p>128982 rows × 2 columns</p>\n",
              "</div>"
            ],
            "text/plain": [
              "                                                  English  \\\n",
              "75834   [2, 716, 763, 290, 426, 395, 1578, 612, 224, 3...   \n",
              "5946    [2, 395, 774, 437, 2485, 224, 3, 0, 0, 0, 0, 0...   \n",
              "111011  [2, 2295, 2294, 4505, 1349, 716, 791, 27697, 2...   \n",
              "106385  [2, 426, 582, 580, 300, 1643, 398, 760, 1185, ...   \n",
              "118170  [2, 333, 384, 822, 3322, 272, 1411, 272, 3568,...   \n",
              "...                                                   ...   \n",
              "106051  [2, 290, 2240, 272, 763, 369, 370, 3882, 356, ...   \n",
              "42579   [2, 575, 304, 1344, 391, 300, 1971, 224, 3, 0,...   \n",
              "29271   [2, 304, 473, 414, 1605, 224, 3, 0, 0, 0, 0, 0...   \n",
              "11750   [2, 270, 431, 663, 304, 224, 3, 0, 0, 0, 0, 0,...   \n",
              "91318   [2, 290, 1690, 426, 369, 1126, 521, 272, 341, ...   \n",
              "\n",
              "                                                  Spanish  \n",
              "75834   [2, 1656, 4084, 265, 290, 294, 349, 316, 653, ...  \n",
              "5946    [2, 10933, 265, 492, 2581, 224, 3, 0, 0, 0, 0,...  \n",
              "111011  [2, 434, 2330, 372, 20410, 265, 1439, 321, 127...  \n",
              "106385  [2, 265, 444, 1171, 3585, 331, 1707, 2456, 760...  \n",
              "118170  [2, 401, 2668, 4641, 292, 3985, 4758, 321, 142...  \n",
              "...                                                   ...  \n",
              "106051  [2, 290, 3691, 470, 3713, 265, 369, 316, 7999,...  \n",
              "42579   [2, 937, 13941, 331, 6561, 224, 3, 0, 0, 0, 0,...  \n",
              "29271   [2, 898, 1062, 316, 535, 566, 5994, 224, 3, 0,...  \n",
              "11750   [2, 302, 375, 1227, 224, 3, 0, 0, 0, 0, 0, 0, ...  \n",
              "91318   [2, 290, 1381, 349, 316, 369, 1079, 316, 401, ...  \n",
              "\n",
              "[128982 rows x 2 columns]"
            ]
          },
          "execution_count": 4,
          "metadata": {},
          "output_type": "execute_result"
        }
      ],
      "source": [
        "import ast\n",
        "\n",
        "df[\"English\"] = df[\"English\"].apply(ast.literal_eval)\n",
        "df[\"Spanish\"] = df[\"Spanish\"].apply(ast.literal_eval)\n",
        "df"
      ]
    },
    {
      "cell_type": "code",
      "execution_count": 5,
      "id": "c303ca41",
      "metadata": {
        "execution": {
          "iopub.execute_input": "2025-03-13T10:48:05.466982Z",
          "iopub.status.busy": "2025-03-13T10:48:05.466759Z",
          "iopub.status.idle": "2025-03-13T10:48:08.909453Z",
          "shell.execute_reply": "2025-03-13T10:48:08.908740Z"
        },
        "id": "c303ca41",
        "papermill": {
          "duration": 3.447969,
          "end_time": "2025-03-13T10:48:08.910980",
          "exception": false,
          "start_time": "2025-03-13T10:48:05.463011",
          "status": "completed"
        },
        "tags": []
      },
      "outputs": [],
      "source": [
        "import torch\n",
        "from torch.utils.data import DataLoader, TensorDataset\n",
        "\n",
        "train = TensorDataset(\n",
        "    torch.tensor(df[\"English\"][:100000].tolist(), dtype=torch.long),\n",
        "    torch.tensor(df[\"Spanish\"][:100000].tolist(), dtype=torch.long),\n",
        ")\n",
        "test = TensorDataset(\n",
        "    torch.tensor(df[\"English\"][100000:].tolist(), dtype=torch.long),\n",
        "    torch.tensor(df[\"Spanish\"][100000:].tolist(), dtype=torch.long),\n",
        ")\n",
        "train_loader = DataLoader(train, batch_size=256, shuffle=True, drop_last=True)\n",
        "test_loader = DataLoader(test, batch_size=256, shuffle=False, drop_last=True)"
      ]
    },
    {
      "cell_type": "code",
      "execution_count": 6,
      "id": "4b15a79c",
      "metadata": {
        "execution": {
          "iopub.execute_input": "2025-03-13T10:48:08.918622Z",
          "iopub.status.busy": "2025-03-13T10:48:08.918261Z",
          "iopub.status.idle": "2025-03-13T10:48:08.959614Z",
          "shell.execute_reply": "2025-03-13T10:48:08.958953Z"
        },
        "id": "4b15a79c",
        "papermill": {
          "duration": 0.046354,
          "end_time": "2025-03-13T10:48:08.960915",
          "exception": false,
          "start_time": "2025-03-13T10:48:08.914561",
          "status": "completed"
        },
        "tags": []
      },
      "outputs": [],
      "source": [
        "import json\n",
        "with open(f\"EnglishOrSpanish/vocab.json\", \"r\") as f:\n",
        "    vocab = json.load(f)"
      ]
    },
    {
      "cell_type": "code",
      "execution_count": 7,
      "id": "e29c682e",
      "metadata": {
        "execution": {
          "iopub.execute_input": "2025-03-13T10:48:08.967926Z",
          "iopub.status.busy": "2025-03-13T10:48:08.967712Z",
          "iopub.status.idle": "2025-03-13T10:48:08.973280Z",
          "shell.execute_reply": "2025-03-13T10:48:08.972684Z"
        },
        "id": "e29c682e",
        "papermill": {
          "duration": 0.01032,
          "end_time": "2025-03-13T10:48:08.974405",
          "exception": false,
          "start_time": "2025-03-13T10:48:08.964085",
          "status": "completed"
        },
        "tags": []
      },
      "outputs": [],
      "source": [
        "import torch\n",
        "import torch.nn as nn\n",
        "\n",
        "\n",
        "class Encoder(nn.Module):\n",
        "    def __init__(\n",
        "        self, vocab_size, embedding_dim, hidden_size, num_layers=2, dropout=0.3\n",
        "    ):\n",
        "        super(Encoder, self).__init__()\n",
        "        self.hidden_size = hidden_size\n",
        "        self.num_layers = num_layers\n",
        "        self.vocab_size = vocab_size\n",
        "\n",
        "        self.embedding = nn.Embedding(vocab_size, embedding_dim, padding_idx=0)\n",
        "        self.lstm = nn.LSTM(\n",
        "            embedding_dim,\n",
        "            hidden_size,\n",
        "            num_layers=num_layers,\n",
        "            batch_first=True,\n",
        "            bidirectional=True,\n",
        "            dropout=dropout,\n",
        "        )\n",
        "\n",
        "        self.apply(self._init_weights)\n",
        "\n",
        "    def _init_weights(self, module):\n",
        "        if isinstance(module, nn.LSTM):\n",
        "            for name, param in module.named_parameters():\n",
        "                if \"weight\" in name:\n",
        "                    nn.init.xavier_uniform_(param)\n",
        "                elif \"bias\" in name:\n",
        "                    nn.init.zeros_(param)\n",
        "\n",
        "    def forward(self, x):\n",
        "        embedded = self.embedding(x)\n",
        "        output, (hidden, cell) = self.lstm(embedded)\n",
        "        return output, hidden, cell"
      ]
    },
    {
      "cell_type": "code",
      "execution_count": 8,
      "id": "cada738e",
      "metadata": {
        "execution": {
          "iopub.execute_input": "2025-03-13T10:48:08.981157Z",
          "iopub.status.busy": "2025-03-13T10:48:08.980966Z",
          "iopub.status.idle": "2025-03-13T10:48:08.985493Z",
          "shell.execute_reply": "2025-03-13T10:48:08.984942Z"
        },
        "id": "cada738e",
        "papermill": {
          "duration": 0.009156,
          "end_time": "2025-03-13T10:48:08.986692",
          "exception": false,
          "start_time": "2025-03-13T10:48:08.977536",
          "status": "completed"
        },
        "tags": []
      },
      "outputs": [],
      "source": [
        "import torch\n",
        "import torch.nn as nn\n",
        "\n",
        "\n",
        "class Decoder(nn.Module):\n",
        "    def __init__(\n",
        "        self, vocab_size, embedding_dim, hidden_size, num_layers=2, dropout=0.3\n",
        "    ):\n",
        "        super(Decoder, self).__init__()\n",
        "        self.hidden_size = hidden_size\n",
        "        self.num_layers = num_layers\n",
        "        self.vocab_size = vocab_size\n",
        "\n",
        "        self.embedding = nn.Embedding(vocab_size, embedding_dim, padding_idx=0)\n",
        "\n",
        "        self.lstm = nn.LSTM(\n",
        "            embedding_dim,\n",
        "            hidden_size,\n",
        "            num_layers=num_layers,\n",
        "            batch_first=True,\n",
        "            dropout=dropout,\n",
        "            bidirectional=True,\n",
        "        )\n",
        "        self.fc = nn.Linear(hidden_size * 2, vocab_size)\n",
        "        self.dropout = nn.Dropout(dropout)\n",
        "        self.apply(self._init_weights)\n",
        "\n",
        "    def _init_weights(self, module):\n",
        "        if isinstance(module, nn.LSTM):\n",
        "            for name, param in module.named_parameters():\n",
        "                if \"weight\" in name:\n",
        "                    nn.init.xavier_uniform_(param)\n",
        "                elif \"bias\" in name:\n",
        "                    nn.init.zeros_(param)\n",
        "\n",
        "    def forward(self, x, hidden, cell):\n",
        "        x = x.unsqueeze(1)\n",
        "        embedded = self.embedding(x)\n",
        "        output, (hidden, cell) = self.lstm(embedded, (hidden, cell))\n",
        "        output = self.dropout(output)\n",
        "        output = self.fc(output).squeeze(1)\n",
        "        return output, hidden, cell"
      ]
    },
    {
      "cell_type": "code",
      "execution_count": 9,
      "id": "ac8cc2ad",
      "metadata": {
        "execution": {
          "iopub.execute_input": "2025-03-13T10:48:08.993442Z",
          "iopub.status.busy": "2025-03-13T10:48:08.993247Z",
          "iopub.status.idle": "2025-03-13T10:48:09.004310Z",
          "shell.execute_reply": "2025-03-13T10:48:09.003585Z"
        },
        "id": "ac8cc2ad",
        "papermill": {
          "duration": 0.015709,
          "end_time": "2025-03-13T10:48:09.005397",
          "exception": false,
          "start_time": "2025-03-13T10:48:08.989688",
          "status": "completed"
        },
        "tags": []
      },
      "outputs": [],
      "source": [
        "import random\n",
        "\n",
        "class Seq2Seq(nn.Module):\n",
        "    def __init__(self, encoder, decoder, device, teacher_forcing_ratio):\n",
        "        super(Seq2Seq, self).__init__()\n",
        "        self.encoder = encoder\n",
        "        self.decoder = decoder\n",
        "        self.device = device\n",
        "        self.vocab_size = self.decoder.vocab_size\n",
        "        self.teacher_forcing_ratio = teacher_forcing_ratio\n",
        "\n",
        "    def forward(self, source, target):\n",
        "        _, hidden, cell = self.encoder(source)\n",
        "        x = target[:, 0]\n",
        "        outputs = torch.zeros(target.shape[0], target.shape[1], self.vocab_size).to(self.device)\n",
        "        for t in range(1, target.shape[1]):\n",
        "            output, hidden, cell = self.decoder(x, hidden, cell)\n",
        "            outputs[:, t] = output\n",
        "            teacher_force = random.random() < self.teacher_forcing_ratio\n",
        "            top1 = output.argmax(1)\n",
        "            x = target[:, t] if teacher_force else top1\n",
        "    \n",
        "        return outputs\n",
        "    \n",
        "    def predict(self, source):\n",
        "        _, hidden, cell = self.encoder(source)\n",
        "        x = source[:, 0]\n",
        "        outputs = torch.zeros(source.shape[0], source.shape[1], self.vocab_size).to(self.device)\n",
        "        for t in range(1, source.shape[1]):\n",
        "            output, hidden, cell = self.decoder(x, hidden, cell)\n",
        "            outputs[:, t] = output\n",
        "            top1 = output.argmax(1)\n",
        "            x = top1\n",
        "    \n",
        "        return outputs"
      ]
    },
    {
      "cell_type": "code",
      "execution_count": 10,
      "id": "3bb4d951",
      "metadata": {},
      "outputs": [],
      "source": [
        "def train(\n",
        "        model,\n",
        "        train_loader,\n",
        "        test_loader,\n",
        "        optimizer,\n",
        "        criterion,\n",
        "        device,\n",
        "        scheduler,\n",
        "        num_epochs,\n",
        "    ):\n",
        "        vocab_size = model.decoder.vocab_size\n",
        "        for epoch in range(num_epochs):\n",
        "            print(f\"\\nEpoch {epoch+1}/{num_epochs}\")\n",
        "            model.train()\n",
        "            epoch_loss = 0\n",
        "            progress_bar = tqdm(train_loader, desc=\"Training\", leave=False)\n",
        "\n",
        "            for src, trg in progress_bar:\n",
        "                src, trg = src.to(device), trg.to(device)\n",
        "                optimizer.zero_grad()\n",
        "\n",
        "                outputs = model(src, trg)\n",
        "                loss = criterion(\n",
        "                    outputs[:, 1:].reshape(-1, vocab_size), trg[:, 1:].reshape(-1)\n",
        "                )\n",
        "                loss.backward()\n",
        "                optimizer.step()\n",
        "\n",
        "                epoch_loss += loss.item()\n",
        "\n",
        "                progress_bar.set_postfix(\n",
        "                    loss=f\"{loss.item():.4f}\"\n",
        "                )\n",
        "\n",
        "            train_loss = epoch_loss / len(train_loader)\n",
        "\n",
        "            # ---------------- VALIDATION ---------------- #\n",
        "            model.eval()\n",
        "            val_epoch_loss = 0\n",
        "            progress_bar = tqdm(test_loader, desc=\"Validating\", leave=False)\n",
        "\n",
        "            with torch.no_grad():\n",
        "                for src, trg in progress_bar:\n",
        "                    src, trg = src.to(device), trg.to(device)\n",
        "                    outputs = model(src, trg)\n",
        "                    loss = criterion(\n",
        "                        outputs[:, 1:].reshape(-1, vocab_size),\n",
        "                        trg[:, 1:].reshape(-1),\n",
        "                    )\n",
        "                    val_epoch_loss += loss.item()\n",
        "\n",
        "                    progress_bar.set_postfix(\n",
        "                        loss=f\"{loss.item():.4f}\"\n",
        "                    )\n",
        "\n",
        "            val_loss = val_epoch_loss / len(test_loader)\n",
        "            print(\n",
        "                f\"Train loss : {train_loss}, Val_loss : {val_loss}\"\n",
        "            )\n",
        "            scheduler.step(val_loss)\n",
        "        return train_loss, val_loss"
      ]
    },
    {
      "cell_type": "code",
      "execution_count": 13,
      "id": "32613de9",
      "metadata": {
        "execution": {
          "iopub.execute_input": "2025-03-13T10:48:09.012020Z",
          "iopub.status.busy": "2025-03-13T10:48:09.011812Z",
          "iopub.status.idle": "2025-03-13T10:48:13.021377Z",
          "shell.execute_reply": "2025-03-13T10:48:13.020490Z"
        },
        "id": "32613de9",
        "papermill": {
          "duration": 4.014625,
          "end_time": "2025-03-13T10:48:13.023033",
          "exception": false,
          "start_time": "2025-03-13T10:48:09.008408",
          "status": "completed"
        },
        "tags": []
      },
      "outputs": [],
      "source": [
        "import torch\n",
        "import torch.nn as nn\n",
        "import torch.optim as optim\n",
        "from tqdm import tqdm\n",
        "\n",
        "device = torch.device(\"cuda\" if torch.cuda.is_available() else \"cpu\")\n",
        "\n",
        "vocab_size = len(vocab)\n",
        "\n",
        "embedding_dim = 256\n",
        "hidden_size = 64\n",
        "encoder = Encoder(vocab_size, embedding_dim, hidden_size).to(device)\n",
        "decoder = Decoder(vocab_size, embedding_dim, hidden_size).to(device)\n",
        "seq2seq = Seq2Seq(encoder, decoder, device, 0.5).to(device)\n",
        "criterion = nn.CrossEntropyLoss(ignore_index=0)\n",
        "optimizer = optim.Adam(encoder.parameters(), lr=0.001, weight_decay=1e-5)\n",
        "scheduler = optim.lr_scheduler.ReduceLROnPlateau(optimizer, mode='min', factor=0.5, patience=2)"
      ]
    },
    {
      "cell_type": "code",
      "execution_count": 14,
      "id": "a6da8eb8",
      "metadata": {
        "colab": {
          "base_uri": "https://localhost:8080/"
        },
        "execution": {
          "iopub.execute_input": "2025-03-13T10:48:13.030818Z",
          "iopub.status.busy": "2025-03-13T10:48:13.030314Z",
          "iopub.status.idle": "2025-03-13T11:43:43.302080Z",
          "shell.execute_reply": "2025-03-13T11:43:43.301324Z"
        },
        "id": "a6da8eb8",
        "outputId": "624e6f77-00eb-462d-b8ca-6dc5e3b0e0cb",
        "papermill": {
          "duration": 3330.276878,
          "end_time": "2025-03-13T11:43:43.303309",
          "exception": false,
          "start_time": "2025-03-13T10:48:13.026431",
          "status": "completed"
        },
        "tags": []
      },
      "outputs": [
        {
          "name": "stderr",
          "output_type": "stream",
          "text": [
            "                                                                         \r"
          ]
        },
        {
          "ename": "KeyboardInterrupt",
          "evalue": "",
          "output_type": "error",
          "traceback": [
            "\u001b[0;31m---------------------------------------------------------------------------\u001b[0m",
            "\u001b[0;31mKeyboardInterrupt\u001b[0m                         Traceback (most recent call last)",
            "Cell \u001b[0;32mIn[14], line 5\u001b[0m\n\u001b[1;32m      2\u001b[0m \u001b[38;5;28;01mimport\u001b[39;00m\u001b[38;5;250m \u001b[39m\u001b[38;5;21;01mtorch\u001b[39;00m\u001b[38;5;21;01m.\u001b[39;00m\u001b[38;5;21;01mnn\u001b[39;00m\u001b[38;5;21;01m.\u001b[39;00m\u001b[38;5;21;01mfunctional\u001b[39;00m\u001b[38;5;250m \u001b[39m\u001b[38;5;28;01mas\u001b[39;00m\u001b[38;5;250m \u001b[39m\u001b[38;5;21;01mF\u001b[39;00m\n\u001b[1;32m      3\u001b[0m \u001b[38;5;28;01mfrom\u001b[39;00m\u001b[38;5;250m \u001b[39m\u001b[38;5;21;01mtqdm\u001b[39;00m\u001b[38;5;250m \u001b[39m\u001b[38;5;28;01mimport\u001b[39;00m tqdm\n\u001b[0;32m----> 5\u001b[0m \u001b[43mtrain\u001b[49m\u001b[43m(\u001b[49m\u001b[43mseq2seq\u001b[49m\u001b[43m,\u001b[49m\u001b[43m \u001b[49m\u001b[43mtrain_loader\u001b[49m\u001b[43m,\u001b[49m\u001b[43m \u001b[49m\u001b[43mtest_loader\u001b[49m\u001b[43m,\u001b[49m\u001b[43m \u001b[49m\u001b[43moptimizer\u001b[49m\u001b[43m,\u001b[49m\u001b[43m \u001b[49m\u001b[43mcriterion\u001b[49m\u001b[43m,\u001b[49m\u001b[43m \u001b[49m\u001b[43mdevice\u001b[49m\u001b[43m,\u001b[49m\u001b[43m \u001b[49m\u001b[43mscheduler\u001b[49m\u001b[43m,\u001b[49m\u001b[43m \u001b[49m\u001b[38;5;241;43m30\u001b[39;49m\u001b[43m)\u001b[49m\n",
            "Cell \u001b[0;32mIn[10], line 22\u001b[0m, in \u001b[0;36mtrain\u001b[0;34m(model, train_loader, test_loader, optimizer, criterion, device, scheduler, num_epochs)\u001b[0m\n\u001b[1;32m     19\u001b[0m src, trg \u001b[38;5;241m=\u001b[39m src\u001b[38;5;241m.\u001b[39mto(device), trg\u001b[38;5;241m.\u001b[39mto(device)\n\u001b[1;32m     20\u001b[0m optimizer\u001b[38;5;241m.\u001b[39mzero_grad()\n\u001b[0;32m---> 22\u001b[0m outputs \u001b[38;5;241m=\u001b[39m \u001b[43mmodel\u001b[49m\u001b[43m(\u001b[49m\u001b[43msrc\u001b[49m\u001b[43m,\u001b[49m\u001b[43m \u001b[49m\u001b[43mtrg\u001b[49m\u001b[43m)\u001b[49m\n\u001b[1;32m     23\u001b[0m loss \u001b[38;5;241m=\u001b[39m criterion(\n\u001b[1;32m     24\u001b[0m     outputs[:, \u001b[38;5;241m1\u001b[39m:]\u001b[38;5;241m.\u001b[39mreshape(\u001b[38;5;241m-\u001b[39m\u001b[38;5;241m1\u001b[39m, vocab_size), trg[:, \u001b[38;5;241m1\u001b[39m:]\u001b[38;5;241m.\u001b[39mreshape(\u001b[38;5;241m-\u001b[39m\u001b[38;5;241m1\u001b[39m)\n\u001b[1;32m     25\u001b[0m )\n\u001b[1;32m     26\u001b[0m loss\u001b[38;5;241m.\u001b[39mbackward()\n",
            "File \u001b[0;32m~/projects/torch/lib/python3.12/site-packages/torch/nn/modules/module.py:1739\u001b[0m, in \u001b[0;36mModule._wrapped_call_impl\u001b[0;34m(self, *args, **kwargs)\u001b[0m\n\u001b[1;32m   1737\u001b[0m     \u001b[38;5;28;01mreturn\u001b[39;00m \u001b[38;5;28mself\u001b[39m\u001b[38;5;241m.\u001b[39m_compiled_call_impl(\u001b[38;5;241m*\u001b[39margs, \u001b[38;5;241m*\u001b[39m\u001b[38;5;241m*\u001b[39mkwargs)  \u001b[38;5;66;03m# type: ignore[misc]\u001b[39;00m\n\u001b[1;32m   1738\u001b[0m \u001b[38;5;28;01melse\u001b[39;00m:\n\u001b[0;32m-> 1739\u001b[0m     \u001b[38;5;28;01mreturn\u001b[39;00m \u001b[38;5;28;43mself\u001b[39;49m\u001b[38;5;241;43m.\u001b[39;49m\u001b[43m_call_impl\u001b[49m\u001b[43m(\u001b[49m\u001b[38;5;241;43m*\u001b[39;49m\u001b[43margs\u001b[49m\u001b[43m,\u001b[49m\u001b[43m \u001b[49m\u001b[38;5;241;43m*\u001b[39;49m\u001b[38;5;241;43m*\u001b[39;49m\u001b[43mkwargs\u001b[49m\u001b[43m)\u001b[49m\n",
            "File \u001b[0;32m~/projects/torch/lib/python3.12/site-packages/torch/nn/modules/module.py:1750\u001b[0m, in \u001b[0;36mModule._call_impl\u001b[0;34m(self, *args, **kwargs)\u001b[0m\n\u001b[1;32m   1745\u001b[0m \u001b[38;5;66;03m# If we don't have any hooks, we want to skip the rest of the logic in\u001b[39;00m\n\u001b[1;32m   1746\u001b[0m \u001b[38;5;66;03m# this function, and just call forward.\u001b[39;00m\n\u001b[1;32m   1747\u001b[0m \u001b[38;5;28;01mif\u001b[39;00m \u001b[38;5;129;01mnot\u001b[39;00m (\u001b[38;5;28mself\u001b[39m\u001b[38;5;241m.\u001b[39m_backward_hooks \u001b[38;5;129;01mor\u001b[39;00m \u001b[38;5;28mself\u001b[39m\u001b[38;5;241m.\u001b[39m_backward_pre_hooks \u001b[38;5;129;01mor\u001b[39;00m \u001b[38;5;28mself\u001b[39m\u001b[38;5;241m.\u001b[39m_forward_hooks \u001b[38;5;129;01mor\u001b[39;00m \u001b[38;5;28mself\u001b[39m\u001b[38;5;241m.\u001b[39m_forward_pre_hooks\n\u001b[1;32m   1748\u001b[0m         \u001b[38;5;129;01mor\u001b[39;00m _global_backward_pre_hooks \u001b[38;5;129;01mor\u001b[39;00m _global_backward_hooks\n\u001b[1;32m   1749\u001b[0m         \u001b[38;5;129;01mor\u001b[39;00m _global_forward_hooks \u001b[38;5;129;01mor\u001b[39;00m _global_forward_pre_hooks):\n\u001b[0;32m-> 1750\u001b[0m     \u001b[38;5;28;01mreturn\u001b[39;00m \u001b[43mforward_call\u001b[49m\u001b[43m(\u001b[49m\u001b[38;5;241;43m*\u001b[39;49m\u001b[43margs\u001b[49m\u001b[43m,\u001b[49m\u001b[43m \u001b[49m\u001b[38;5;241;43m*\u001b[39;49m\u001b[38;5;241;43m*\u001b[39;49m\u001b[43mkwargs\u001b[49m\u001b[43m)\u001b[49m\n\u001b[1;32m   1752\u001b[0m result \u001b[38;5;241m=\u001b[39m \u001b[38;5;28;01mNone\u001b[39;00m\n\u001b[1;32m   1753\u001b[0m called_always_called_hooks \u001b[38;5;241m=\u001b[39m \u001b[38;5;28mset\u001b[39m()\n",
            "Cell \u001b[0;32mIn[9], line 15\u001b[0m, in \u001b[0;36mSeq2Seq.forward\u001b[0;34m(self, source, target)\u001b[0m\n\u001b[1;32m     13\u001b[0m _, hidden, cell \u001b[38;5;241m=\u001b[39m \u001b[38;5;28mself\u001b[39m\u001b[38;5;241m.\u001b[39mencoder(source)\n\u001b[1;32m     14\u001b[0m x \u001b[38;5;241m=\u001b[39m target[:, \u001b[38;5;241m0\u001b[39m]\n\u001b[0;32m---> 15\u001b[0m outputs \u001b[38;5;241m=\u001b[39m \u001b[43mtorch\u001b[49m\u001b[38;5;241;43m.\u001b[39;49m\u001b[43mzeros\u001b[49m\u001b[43m(\u001b[49m\u001b[43mtarget\u001b[49m\u001b[38;5;241;43m.\u001b[39;49m\u001b[43mshape\u001b[49m\u001b[43m[\u001b[49m\u001b[38;5;241;43m0\u001b[39;49m\u001b[43m]\u001b[49m\u001b[43m,\u001b[49m\u001b[43m \u001b[49m\u001b[43mtarget\u001b[49m\u001b[38;5;241;43m.\u001b[39;49m\u001b[43mshape\u001b[49m\u001b[43m[\u001b[49m\u001b[38;5;241;43m1\u001b[39;49m\u001b[43m]\u001b[49m\u001b[43m,\u001b[49m\u001b[43m \u001b[49m\u001b[38;5;28;43mself\u001b[39;49m\u001b[38;5;241;43m.\u001b[39;49m\u001b[43mvocab_size\u001b[49m\u001b[43m)\u001b[49m\u001b[38;5;241;43m.\u001b[39;49m\u001b[43mto\u001b[49m\u001b[43m(\u001b[49m\u001b[38;5;28;43mself\u001b[39;49m\u001b[38;5;241;43m.\u001b[39;49m\u001b[43mdevice\u001b[49m\u001b[43m)\u001b[49m\n\u001b[1;32m     16\u001b[0m \u001b[38;5;28;01mfor\u001b[39;00m t \u001b[38;5;129;01min\u001b[39;00m \u001b[38;5;28mrange\u001b[39m(\u001b[38;5;241m1\u001b[39m, target\u001b[38;5;241m.\u001b[39mshape[\u001b[38;5;241m1\u001b[39m]):\n\u001b[1;32m     17\u001b[0m     output, hidden, cell \u001b[38;5;241m=\u001b[39m \u001b[38;5;28mself\u001b[39m\u001b[38;5;241m.\u001b[39mdecoder(x, hidden, cell)\n",
            "\u001b[0;31mKeyboardInterrupt\u001b[0m: "
          ]
        }
      ],
      "source": [
        "import torch\n",
        "import torch.nn.functional as F\n",
        "from tqdm import tqdm\n",
        "\n",
        "train(seq2seq, train_loader, test_loader, optimizer, criterion, device, scheduler, 30)"
      ]
    },
    {
      "cell_type": "code",
      "execution_count": null,
      "id": "a331db15",
      "metadata": {},
      "outputs": [],
      "source": [
        "torch.save(seq2seq.state_dict(), \"seq2seq-noatten-bidir.pth\")"
      ]
    }
  ],
  "metadata": {
    "accelerator": "GPU",
    "colab": {
      "gpuType": "T4",
      "provenance": []
    },
    "kaggle": {
      "accelerator": "nvidiaTeslaT4",
      "dataSources": [
        {
          "datasetId": 6838673,
          "sourceId": 11016226,
          "sourceType": "datasetVersion"
        }
      ],
      "dockerImageVersionId": 30919,
      "isGpuEnabled": true,
      "isInternetEnabled": true,
      "language": "python",
      "sourceType": "notebook"
    },
    "kernelspec": {
      "display_name": "Python (myenv)",
      "language": "python",
      "name": "torch"
    },
    "language_info": {
      "codemirror_mode": {
        "name": "ipython",
        "version": 3
      },
      "file_extension": ".py",
      "mimetype": "text/x-python",
      "name": "python",
      "nbconvert_exporter": "python",
      "pygments_lexer": "ipython3",
      "version": "3.12.3"
    },
    "papermill": {
      "default_parameters": {},
      "duration": 3351.376965,
      "end_time": "2025-03-13T11:43:46.339865",
      "environment_variables": {},
      "exception": null,
      "input_path": "__notebook__.ipynb",
      "output_path": "__notebook__.ipynb",
      "parameters": {},
      "start_time": "2025-03-13T10:47:54.962900",
      "version": "2.6.0"
    }
  },
  "nbformat": 4,
  "nbformat_minor": 5
}
