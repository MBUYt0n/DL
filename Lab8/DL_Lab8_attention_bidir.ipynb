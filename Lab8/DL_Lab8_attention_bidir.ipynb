{
 "cells": [
  {
   "cell_type": "code",
   "execution_count": 1,
   "id": "f1cb791c",
   "metadata": {
    "execution": {
     "iopub.execute_input": "2025-03-22T08:33:03.641178Z",
     "iopub.status.busy": "2025-03-22T08:33:03.640949Z",
     "iopub.status.idle": "2025-03-22T08:33:04.068920Z",
     "shell.execute_reply": "2025-03-22T08:33:04.068022Z"
    },
    "papermill": {
     "duration": 0.434136,
     "end_time": "2025-03-22T08:33:04.070215",
     "exception": false,
     "start_time": "2025-03-22T08:33:03.636079",
     "status": "completed"
    },
    "tags": []
   },
   "outputs": [],
   "source": [
    "# import kagglehub\n",
    "\n",
    "# # Download latest version\n",
    "# path = kagglehub.dataset_download(\"shusrith/machine-trainslation\")\n",
    "\n",
    "# print(\"Path to dataset files:\", path)"
   ]
  },
  {
   "cell_type": "code",
   "execution_count": 2,
   "id": "452960d5",
   "metadata": {
    "execution": {
     "iopub.execute_input": "2025-03-22T08:33:04.078715Z",
     "iopub.status.busy": "2025-03-22T08:33:04.078435Z",
     "iopub.status.idle": "2025-03-22T08:33:06.101549Z",
     "shell.execute_reply": "2025-03-22T08:33:06.100812Z"
    },
    "id": "ZjgPhK4yAU3W",
    "outputId": "4ab7d36a-ce19-4580-9eee-bcf62a2d3bfe",
    "papermill": {
     "duration": 2.028917,
     "end_time": "2025-03-22T08:33:06.103063",
     "exception": false,
     "start_time": "2025-03-22T08:33:04.074146",
     "status": "completed"
    },
    "tags": []
   },
   "outputs": [
    {
     "data": {
      "text/html": [
       "<div>\n",
       "<style scoped>\n",
       "    .dataframe tbody tr th:only-of-type {\n",
       "        vertical-align: middle;\n",
       "    }\n",
       "\n",
       "    .dataframe tbody tr th {\n",
       "        vertical-align: top;\n",
       "    }\n",
       "\n",
       "    .dataframe thead th {\n",
       "        text-align: right;\n",
       "    }\n",
       "</style>\n",
       "<table border=\"1\" class=\"dataframe\">\n",
       "  <thead>\n",
       "    <tr style=\"text-align: right;\">\n",
       "      <th></th>\n",
       "      <th>English</th>\n",
       "      <th>Spanish</th>\n",
       "    </tr>\n",
       "  </thead>\n",
       "  <tbody>\n",
       "    <tr>\n",
       "      <th>117633</th>\n",
       "      <td>[2, 6140, 265, 2914, 458, 290, 1452, 2145, 265...</td>\n",
       "      <td>[2, 3937, 410, 6575, 346, 290, 302, 620, 410, ...</td>\n",
       "    </tr>\n",
       "    <tr>\n",
       "      <th>128829</th>\n",
       "      <td>[2, 1972, 506, 1154, 304, 272, 3279, 768, 588,...</td>\n",
       "      <td>[2, 962, 375, 311, 6933, 316, 4021, 294, 1986,...</td>\n",
       "    </tr>\n",
       "    <tr>\n",
       "      <th>127698</th>\n",
       "      <td>[2, 2131, 414, 465, 497, 705, 437, 3351, 270, ...</td>\n",
       "      <td>[2, 669, 302, 11683, 573, 757, 20053, 14335, 2...</td>\n",
       "    </tr>\n",
       "    <tr>\n",
       "      <th>48804</th>\n",
       "      <td>[2, 270, 411, 437, 3342, 425, 1807, 224, 3, 0,...</td>\n",
       "      <td>[2, 616, 355, 1543, 1953, 1836, 224, 3, 0, 0, ...</td>\n",
       "    </tr>\n",
       "    <tr>\n",
       "      <th>18518</th>\n",
       "      <td>[2, 270, 4715, 290, 1496, 582, 224, 3, 0, 0, 0...</td>\n",
       "      <td>[2, 372, 2498, 782, 265, 290, 224, 3, 0, 0, 0,...</td>\n",
       "    </tr>\n",
       "    <tr>\n",
       "      <th>...</th>\n",
       "      <td>...</td>\n",
       "      <td>...</td>\n",
       "    </tr>\n",
       "    <tr>\n",
       "      <th>31662</th>\n",
       "      <td>[2, 878, 3645, 300, 1817, 224, 3, 0, 0, 0, 0, ...</td>\n",
       "      <td>[2, 331, 895, 12970, 331, 1423, 224, 3, 0, 0, ...</td>\n",
       "    </tr>\n",
       "    <tr>\n",
       "      <th>80887</th>\n",
       "      <td>[2, 290, 588, 3520, 300, 1961, 2196, 224, 3, 0...</td>\n",
       "      <td>[2, 290, 302, 772, 6866, 500, 321, 882, 224, 3...</td>\n",
       "    </tr>\n",
       "    <tr>\n",
       "      <th>27680</th>\n",
       "      <td>[2, 3351, 334, 402, 5623, 224, 3, 0, 0, 0, 0, ...</td>\n",
       "      <td>[2, 2088, 318, 403, 7198, 224, 3, 0, 0, 0, 0, ...</td>\n",
       "    </tr>\n",
       "    <tr>\n",
       "      <th>12260</th>\n",
       "      <td>[2, 818, 775, 8203, 224, 3, 0, 0, 0, 0, 0, 0, ...</td>\n",
       "      <td>[2, 333, 1289, 12419, 224, 3, 0, 0, 0, 0, 0, 0...</td>\n",
       "    </tr>\n",
       "    <tr>\n",
       "      <th>70885</th>\n",
       "      <td>[2, 270, 1167, 1201, 391, 300, 17816, 224, 3, ...</td>\n",
       "      <td>[2, 4329, 691, 322, 331, 21506, 224, 3, 0, 0, ...</td>\n",
       "    </tr>\n",
       "  </tbody>\n",
       "</table>\n",
       "<p>128982 rows × 2 columns</p>\n",
       "</div>"
      ],
      "text/plain": [
       "                                                  English  \\\n",
       "117633  [2, 6140, 265, 2914, 458, 290, 1452, 2145, 265...   \n",
       "128829  [2, 1972, 506, 1154, 304, 272, 3279, 768, 588,...   \n",
       "127698  [2, 2131, 414, 465, 497, 705, 437, 3351, 270, ...   \n",
       "48804   [2, 270, 411, 437, 3342, 425, 1807, 224, 3, 0,...   \n",
       "18518   [2, 270, 4715, 290, 1496, 582, 224, 3, 0, 0, 0...   \n",
       "...                                                   ...   \n",
       "31662   [2, 878, 3645, 300, 1817, 224, 3, 0, 0, 0, 0, ...   \n",
       "80887   [2, 290, 588, 3520, 300, 1961, 2196, 224, 3, 0...   \n",
       "27680   [2, 3351, 334, 402, 5623, 224, 3, 0, 0, 0, 0, ...   \n",
       "12260   [2, 818, 775, 8203, 224, 3, 0, 0, 0, 0, 0, 0, ...   \n",
       "70885   [2, 270, 1167, 1201, 391, 300, 17816, 224, 3, ...   \n",
       "\n",
       "                                                  Spanish  \n",
       "117633  [2, 3937, 410, 6575, 346, 290, 302, 620, 410, ...  \n",
       "128829  [2, 962, 375, 311, 6933, 316, 4021, 294, 1986,...  \n",
       "127698  [2, 669, 302, 11683, 573, 757, 20053, 14335, 2...  \n",
       "48804   [2, 616, 355, 1543, 1953, 1836, 224, 3, 0, 0, ...  \n",
       "18518   [2, 372, 2498, 782, 265, 290, 224, 3, 0, 0, 0,...  \n",
       "...                                                   ...  \n",
       "31662   [2, 331, 895, 12970, 331, 1423, 224, 3, 0, 0, ...  \n",
       "80887   [2, 290, 302, 772, 6866, 500, 321, 882, 224, 3...  \n",
       "27680   [2, 2088, 318, 403, 7198, 224, 3, 0, 0, 0, 0, ...  \n",
       "12260   [2, 333, 1289, 12419, 224, 3, 0, 0, 0, 0, 0, 0...  \n",
       "70885   [2, 4329, 691, 322, 331, 21506, 224, 3, 0, 0, ...  \n",
       "\n",
       "[128982 rows x 2 columns]"
      ]
     },
     "execution_count": 2,
     "metadata": {},
     "output_type": "execute_result"
    }
   ],
   "source": [
    "import pandas as pd\n",
    "from sklearn.utils import shuffle\n",
    "\n",
    "df = pd.read_csv(f\"EnglishOrSpanish/output_joint1.csv\")\n",
    "df = shuffle(df)\n",
    "df"
   ]
  },
  {
   "cell_type": "code",
   "execution_count": 3,
   "id": "0749342f",
   "metadata": {
    "execution": {
     "iopub.execute_input": "2025-03-22T08:33:06.112927Z",
     "iopub.status.busy": "2025-03-22T08:33:06.112663Z",
     "iopub.status.idle": "2025-03-22T08:33:13.903769Z",
     "shell.execute_reply": "2025-03-22T08:33:13.902890Z"
    },
    "id": "3l1WLpiLAU3W",
    "outputId": "01736df9-0470-48b7-cad1-3f67d4934b66",
    "papermill": {
     "duration": 7.797798,
     "end_time": "2025-03-22T08:33:13.905172",
     "exception": false,
     "start_time": "2025-03-22T08:33:06.107374",
     "status": "completed"
    },
    "tags": []
   },
   "outputs": [
    {
     "data": {
      "text/html": [
       "<div>\n",
       "<style scoped>\n",
       "    .dataframe tbody tr th:only-of-type {\n",
       "        vertical-align: middle;\n",
       "    }\n",
       "\n",
       "    .dataframe tbody tr th {\n",
       "        vertical-align: top;\n",
       "    }\n",
       "\n",
       "    .dataframe thead th {\n",
       "        text-align: right;\n",
       "    }\n",
       "</style>\n",
       "<table border=\"1\" class=\"dataframe\">\n",
       "  <thead>\n",
       "    <tr style=\"text-align: right;\">\n",
       "      <th></th>\n",
       "      <th>English</th>\n",
       "      <th>Spanish</th>\n",
       "    </tr>\n",
       "  </thead>\n",
       "  <tbody>\n",
       "    <tr>\n",
       "      <th>117633</th>\n",
       "      <td>[2, 6140, 265, 2914, 458, 290, 1452, 2145, 265...</td>\n",
       "      <td>[2, 3937, 410, 6575, 346, 290, 302, 620, 410, ...</td>\n",
       "    </tr>\n",
       "    <tr>\n",
       "      <th>128829</th>\n",
       "      <td>[2, 1972, 506, 1154, 304, 272, 3279, 768, 588,...</td>\n",
       "      <td>[2, 962, 375, 311, 6933, 316, 4021, 294, 1986,...</td>\n",
       "    </tr>\n",
       "    <tr>\n",
       "      <th>127698</th>\n",
       "      <td>[2, 2131, 414, 465, 497, 705, 437, 3351, 270, ...</td>\n",
       "      <td>[2, 669, 302, 11683, 573, 757, 20053, 14335, 2...</td>\n",
       "    </tr>\n",
       "    <tr>\n",
       "      <th>48804</th>\n",
       "      <td>[2, 270, 411, 437, 3342, 425, 1807, 224, 3, 0,...</td>\n",
       "      <td>[2, 616, 355, 1543, 1953, 1836, 224, 3, 0, 0, ...</td>\n",
       "    </tr>\n",
       "    <tr>\n",
       "      <th>18518</th>\n",
       "      <td>[2, 270, 4715, 290, 1496, 582, 224, 3, 0, 0, 0...</td>\n",
       "      <td>[2, 372, 2498, 782, 265, 290, 224, 3, 0, 0, 0,...</td>\n",
       "    </tr>\n",
       "    <tr>\n",
       "      <th>...</th>\n",
       "      <td>...</td>\n",
       "      <td>...</td>\n",
       "    </tr>\n",
       "    <tr>\n",
       "      <th>31662</th>\n",
       "      <td>[2, 878, 3645, 300, 1817, 224, 3, 0, 0, 0, 0, ...</td>\n",
       "      <td>[2, 331, 895, 12970, 331, 1423, 224, 3, 0, 0, ...</td>\n",
       "    </tr>\n",
       "    <tr>\n",
       "      <th>80887</th>\n",
       "      <td>[2, 290, 588, 3520, 300, 1961, 2196, 224, 3, 0...</td>\n",
       "      <td>[2, 290, 302, 772, 6866, 500, 321, 882, 224, 3...</td>\n",
       "    </tr>\n",
       "    <tr>\n",
       "      <th>27680</th>\n",
       "      <td>[2, 3351, 334, 402, 5623, 224, 3, 0, 0, 0, 0, ...</td>\n",
       "      <td>[2, 2088, 318, 403, 7198, 224, 3, 0, 0, 0, 0, ...</td>\n",
       "    </tr>\n",
       "    <tr>\n",
       "      <th>12260</th>\n",
       "      <td>[2, 818, 775, 8203, 224, 3, 0, 0, 0, 0, 0, 0, ...</td>\n",
       "      <td>[2, 333, 1289, 12419, 224, 3, 0, 0, 0, 0, 0, 0...</td>\n",
       "    </tr>\n",
       "    <tr>\n",
       "      <th>70885</th>\n",
       "      <td>[2, 270, 1167, 1201, 391, 300, 17816, 224, 3, ...</td>\n",
       "      <td>[2, 4329, 691, 322, 331, 21506, 224, 3, 0, 0, ...</td>\n",
       "    </tr>\n",
       "  </tbody>\n",
       "</table>\n",
       "<p>128982 rows × 2 columns</p>\n",
       "</div>"
      ],
      "text/plain": [
       "                                                  English  \\\n",
       "117633  [2, 6140, 265, 2914, 458, 290, 1452, 2145, 265...   \n",
       "128829  [2, 1972, 506, 1154, 304, 272, 3279, 768, 588,...   \n",
       "127698  [2, 2131, 414, 465, 497, 705, 437, 3351, 270, ...   \n",
       "48804   [2, 270, 411, 437, 3342, 425, 1807, 224, 3, 0,...   \n",
       "18518   [2, 270, 4715, 290, 1496, 582, 224, 3, 0, 0, 0...   \n",
       "...                                                   ...   \n",
       "31662   [2, 878, 3645, 300, 1817, 224, 3, 0, 0, 0, 0, ...   \n",
       "80887   [2, 290, 588, 3520, 300, 1961, 2196, 224, 3, 0...   \n",
       "27680   [2, 3351, 334, 402, 5623, 224, 3, 0, 0, 0, 0, ...   \n",
       "12260   [2, 818, 775, 8203, 224, 3, 0, 0, 0, 0, 0, 0, ...   \n",
       "70885   [2, 270, 1167, 1201, 391, 300, 17816, 224, 3, ...   \n",
       "\n",
       "                                                  Spanish  \n",
       "117633  [2, 3937, 410, 6575, 346, 290, 302, 620, 410, ...  \n",
       "128829  [2, 962, 375, 311, 6933, 316, 4021, 294, 1986,...  \n",
       "127698  [2, 669, 302, 11683, 573, 757, 20053, 14335, 2...  \n",
       "48804   [2, 616, 355, 1543, 1953, 1836, 224, 3, 0, 0, ...  \n",
       "18518   [2, 372, 2498, 782, 265, 290, 224, 3, 0, 0, 0,...  \n",
       "...                                                   ...  \n",
       "31662   [2, 331, 895, 12970, 331, 1423, 224, 3, 0, 0, ...  \n",
       "80887   [2, 290, 302, 772, 6866, 500, 321, 882, 224, 3...  \n",
       "27680   [2, 2088, 318, 403, 7198, 224, 3, 0, 0, 0, 0, ...  \n",
       "12260   [2, 333, 1289, 12419, 224, 3, 0, 0, 0, 0, 0, 0...  \n",
       "70885   [2, 4329, 691, 322, 331, 21506, 224, 3, 0, 0, ...  \n",
       "\n",
       "[128982 rows x 2 columns]"
      ]
     },
     "execution_count": 3,
     "metadata": {},
     "output_type": "execute_result"
    }
   ],
   "source": [
    "import ast\n",
    "\n",
    "df[\"English\"] = df[\"English\"].apply(ast.literal_eval)\n",
    "df[\"Spanish\"] = df[\"Spanish\"].apply(ast.literal_eval)\n",
    "df"
   ]
  },
  {
   "cell_type": "code",
   "execution_count": 4,
   "id": "00e57664",
   "metadata": {
    "execution": {
     "iopub.execute_input": "2025-03-22T08:33:13.913838Z",
     "iopub.status.busy": "2025-03-22T08:33:13.913610Z",
     "iopub.status.idle": "2025-03-22T08:33:17.462804Z",
     "shell.execute_reply": "2025-03-22T08:33:17.462115Z"
    },
    "id": "p8fPYQBWAU3X",
    "papermill": {
     "duration": 3.555074,
     "end_time": "2025-03-22T08:33:17.464352",
     "exception": false,
     "start_time": "2025-03-22T08:33:13.909278",
     "status": "completed"
    },
    "tags": []
   },
   "outputs": [],
   "source": [
    "import torch\n",
    "from torch.utils.data import DataLoader, TensorDataset\n",
    "\n",
    "train_data = TensorDataset(\n",
    "    torch.tensor(df[\"English\"][:100000].tolist(), dtype=torch.long),\n",
    "    torch.tensor(df[\"Spanish\"][:100000].tolist(), dtype=torch.long),\n",
    ")\n",
    "test_data = TensorDataset(\n",
    "    torch.tensor(df[\"English\"][100000:].tolist(), dtype=torch.long),\n",
    "    torch.tensor(df[\"Spanish\"][100000:].tolist(), dtype=torch.long),\n",
    ")\n",
    "train_loader = DataLoader(train_data, batch_size=256, shuffle=True, drop_last=True)\n",
    "test_loader = DataLoader(test_data, batch_size=256, shuffle=False, drop_last=True)"
   ]
  },
  {
   "cell_type": "code",
   "execution_count": 5,
   "id": "7c909238",
   "metadata": {
    "execution": {
     "iopub.execute_input": "2025-03-22T08:33:17.473267Z",
     "iopub.status.busy": "2025-03-22T08:33:17.472900Z",
     "iopub.status.idle": "2025-03-22T08:33:17.505118Z",
     "shell.execute_reply": "2025-03-22T08:33:17.504544Z"
    },
    "id": "_9tn5YdUAU3X",
    "papermill": {
     "duration": 0.037676,
     "end_time": "2025-03-22T08:33:17.506191",
     "exception": false,
     "start_time": "2025-03-22T08:33:17.468515",
     "status": "completed"
    },
    "tags": []
   },
   "outputs": [],
   "source": [
    "import json\n",
    "\n",
    "with open(f\"EnglishOrSpanish/vocab.json\", \"r\") as f:\n",
    "    vocab = json.load(f)"
   ]
  },
  {
   "cell_type": "code",
   "execution_count": 6,
   "id": "c447b98e",
   "metadata": {
    "execution": {
     "iopub.execute_input": "2025-03-22T08:33:17.514533Z",
     "iopub.status.busy": "2025-03-22T08:33:17.514276Z",
     "iopub.status.idle": "2025-03-22T08:33:17.519538Z",
     "shell.execute_reply": "2025-03-22T08:33:17.518960Z"
    },
    "id": "KIMlq-cdAU3Y",
    "papermill": {
     "duration": 0.010536,
     "end_time": "2025-03-22T08:33:17.520630",
     "exception": false,
     "start_time": "2025-03-22T08:33:17.510094",
     "status": "completed"
    },
    "tags": []
   },
   "outputs": [],
   "source": [
    "import torch\n",
    "import torch.nn as nn\n",
    "\n",
    "\n",
    "class Encoder(nn.Module):\n",
    "    def __init__(\n",
    "        self, vocab_size, embedding_dim, hidden_size, num_layers=2, dropout=0.3\n",
    "    ):\n",
    "        super(Encoder, self).__init__()\n",
    "        self.hidden_size = hidden_size\n",
    "        self.num_layers = num_layers\n",
    "        self.vocab_size = vocab_size\n",
    "\n",
    "        self.embedding = nn.Embedding(vocab_size, embedding_dim, padding_idx=0)\n",
    "        self.lstm = nn.LSTM(\n",
    "            embedding_dim,\n",
    "            hidden_size,\n",
    "            num_layers=num_layers,\n",
    "            batch_first=True,\n",
    "            bidirectional=True,\n",
    "            dropout=dropout,\n",
    "        )\n",
    "        self.dropout = nn.Dropout(dropout)\n",
    "\n",
    "        self.apply(self._init_weights)\n",
    "\n",
    "    def _init_weights(self, module):\n",
    "        if isinstance(module, nn.LSTM):\n",
    "            for name, param in module.named_parameters():\n",
    "                if \"weight\" in name:\n",
    "                    nn.init.xavier_uniform_(param)\n",
    "                elif \"bias\" in name:\n",
    "                    nn.init.zeros_(param)\n",
    "\n",
    "    def forward(self, x):\n",
    "        embedded = self.dropout(self.embedding(x))\n",
    "        output, (hidden, cell) = self.lstm(embedded)\n",
    "        return output, hidden, cell"
   ]
  },
  {
   "cell_type": "code",
   "execution_count": 7,
   "id": "23cca2e1",
   "metadata": {
    "execution": {
     "iopub.execute_input": "2025-03-22T08:33:17.528599Z",
     "iopub.status.busy": "2025-03-22T08:33:17.528355Z",
     "iopub.status.idle": "2025-03-22T08:33:17.532832Z",
     "shell.execute_reply": "2025-03-22T08:33:17.532212Z"
    },
    "id": "7MEXFtjhAU3Y",
    "papermill": {
     "duration": 0.00976,
     "end_time": "2025-03-22T08:33:17.534001",
     "exception": false,
     "start_time": "2025-03-22T08:33:17.524241",
     "status": "completed"
    },
    "tags": []
   },
   "outputs": [],
   "source": [
    "class Attention(nn.Module):\n",
    "    def __init__(self, hidden_size):\n",
    "        super(Attention, self).__init__()\n",
    "        self.hidden_size = hidden_size\n",
    "\n",
    "        self.W1 = nn.Linear(hidden_size, hidden_size)\n",
    "        self.W2 = nn.Linear(hidden_size * 2, hidden_size)\n",
    "        self.v = nn.Linear(hidden_size, 1, bias=False)\n",
    "\n",
    "    def forward(self, hidden, enc_out):\n",
    "        hidden = hidden.unsqueeze(1)\n",
    "        score = self.v(torch.tanh(self.W1(hidden) + self.W2(enc_out)))\n",
    "        attention_weights = torch.softmax(score, dim=1)\n",
    "        context_vector = torch.sum(attention_weights * enc_out, dim=1)\n",
    "        return context_vector, attention_weights"
   ]
  },
  {
   "cell_type": "code",
   "execution_count": 8,
   "id": "284fcfc3",
   "metadata": {
    "execution": {
     "iopub.execute_input": "2025-03-22T08:33:17.542159Z",
     "iopub.status.busy": "2025-03-22T08:33:17.541957Z",
     "iopub.status.idle": "2025-03-22T08:33:17.547997Z",
     "shell.execute_reply": "2025-03-22T08:33:17.547405Z"
    },
    "id": "B-kd_lvxAU3Y",
    "papermill": {
     "duration": 0.011398,
     "end_time": "2025-03-22T08:33:17.549178",
     "exception": false,
     "start_time": "2025-03-22T08:33:17.537780",
     "status": "completed"
    },
    "tags": []
   },
   "outputs": [],
   "source": [
    "import torch\n",
    "import torch.nn as nn\n",
    "\n",
    "\n",
    "class Decoder(nn.Module):\n",
    "    def __init__(\n",
    "        self, vocab_size, embedding_dim, hidden_size, num_layers=2, dropout=0.3\n",
    "    ):\n",
    "        super(Decoder, self).__init__()\n",
    "        self.hidden_size = hidden_size\n",
    "        self.num_layers = num_layers\n",
    "        self.vocab_size = vocab_size\n",
    "\n",
    "        self.embedding = nn.Embedding(vocab_size, embedding_dim, padding_idx=0)\n",
    "\n",
    "        self.lstm = nn.LSTM(\n",
    "            embedding_dim + hidden_size * 2,\n",
    "            hidden_size,\n",
    "            num_layers=num_layers,\n",
    "            batch_first=True,\n",
    "            dropout=dropout,\n",
    "            bidirectional=True,\n",
    "        )\n",
    "        self.fc = nn.Linear(hidden_size * 2, vocab_size)\n",
    "        self.dropout = nn.Dropout(dropout)\n",
    "        self.attention = Attention(hidden_size)\n",
    "        self.apply(self._init_weights)\n",
    "\n",
    "    def _init_weights(self, module):\n",
    "        if isinstance(module, nn.LSTM):\n",
    "            for name, param in module.named_parameters():\n",
    "                if \"weight\" in name:\n",
    "                    nn.init.xavier_uniform_(param)\n",
    "                elif \"bias\" in name:\n",
    "                    nn.init.zeros_(param)\n",
    "\n",
    "    def forward(self, x, hidden, cell, enc_out):\n",
    "        attention_vector, _ = self.attention(hidden[0], enc_out)\n",
    "        x = self.embedding(x)\n",
    "        x = torch.cat((attention_vector, x), dim=-1)\n",
    "        x = x.unsqueeze(1)\n",
    "        output, (hidden, cell) = self.lstm(x, (hidden, cell))\n",
    "        output = self.dropout(output)\n",
    "        output = self.fc(output)\n",
    "        return output, hidden, cell"
   ]
  },
  {
   "cell_type": "code",
   "execution_count": 9,
   "id": "1975efd7",
   "metadata": {
    "execution": {
     "iopub.execute_input": "2025-03-22T08:33:17.557283Z",
     "iopub.status.busy": "2025-03-22T08:33:17.557085Z",
     "iopub.status.idle": "2025-03-22T08:33:17.563462Z",
     "shell.execute_reply": "2025-03-22T08:33:17.562864Z"
    },
    "id": "-pWuqe9Fvw4o",
    "papermill": {
     "duration": 0.011824,
     "end_time": "2025-03-22T08:33:17.564703",
     "exception": false,
     "start_time": "2025-03-22T08:33:17.552879",
     "status": "completed"
    },
    "tags": []
   },
   "outputs": [],
   "source": [
    "import torch.nn as nn\n",
    "import torch\n",
    "import random\n",
    "\n",
    "class Seq2Seq(nn.Module):\n",
    "    def __init__(self, encoder, decoder, vocab_size, teacher_forcing_ratio=0.5):\n",
    "        super(Seq2Seq, self).__init__()\n",
    "        self.encoder = encoder\n",
    "        self.decoder = decoder\n",
    "        self.vocab_size = vocab_size\n",
    "        self.teacher_forcing_ratio = teacher_forcing_ratio\n",
    "\n",
    "    def forward(self, src, trg):\n",
    "        enc_out, hidden, cell = self.encoder(src)\n",
    "        outputs = torch.zeros(trg.shape[0], trg.shape[1], self.decoder.vocab_size).to(\"cuda\")\n",
    "        x = trg[:, 0]\n",
    "        for t in range(1, trg.shape[1]):\n",
    "            output, hidden, cell = self.decoder(x, hidden, cell, enc_out)\n",
    "            output = output.squeeze(1)\n",
    "            outputs[:, t, :] = output\n",
    "            use_teacher_forcing = random.random() < self.teacher_forcing_ratio\n",
    "            x = trg[:, t] if use_teacher_forcing else output.argmax(dim=1)\n",
    "\n",
    "        return outputs\n",
    "    \n",
    "    def predict(self, src):\n",
    "        enc_out, hidden, cell = self.encoder(src)\n",
    "        outputs = torch.zeros(src.shape[0], src.shape[1], self.decoder.vocab_size).to(\"cuda\")\n",
    "        x = src[:, 0]\n",
    "        for i in range(1, src.shape[1]):\n",
    "            output, hidden, cell = self.decoder(x, hidden, cell, enc_out)\n",
    "            output = output.squeeze(1)\n",
    "            outputs[:, i, :] = output\n",
    "            x = output.argmax(dim=1)\n",
    "        \n",
    "        return outputs"
   ]
  },
  {
   "cell_type": "code",
   "execution_count": null,
   "id": "58ee5e17",
   "metadata": {
    "execution": {
     "iopub.execute_input": "2025-03-22T08:33:17.573006Z",
     "iopub.status.busy": "2025-03-22T08:33:17.572809Z",
     "iopub.status.idle": "2025-03-22T08:33:28.576477Z",
     "shell.execute_reply": "2025-03-22T08:33:28.575803Z"
    },
    "id": "oZnO_wztAU3Y",
    "papermill": {
     "duration": 11.009511,
     "end_time": "2025-03-22T08:33:28.578034",
     "exception": false,
     "start_time": "2025-03-22T08:33:17.568523",
     "status": "completed"
    },
    "tags": []
   },
   "outputs": [
    {
     "name": "stderr",
     "output_type": "stream",
     "text": [
      "2025-03-23 00:06:16.804905: I tensorflow/core/util/port.cc:153] oneDNN custom operations are on. You may see slightly different numerical results due to floating-point round-off errors from different computation orders. To turn them off, set the environment variable `TF_ENABLE_ONEDNN_OPTS=0`.\n",
      "2025-03-23 00:06:16.826606: E external/local_xla/xla/stream_executor/cuda/cuda_fft.cc:477] Unable to register cuFFT factory: Attempting to register factory for plugin cuFFT when one has already been registered\n",
      "WARNING: All log messages before absl::InitializeLog() is called are written to STDERR\n",
      "E0000 00:00:1742668576.857692   10912 cuda_dnn.cc:8310] Unable to register cuDNN factory: Attempting to register factory for plugin cuDNN when one has already been registered\n",
      "E0000 00:00:1742668576.864500   10912 cuda_blas.cc:1418] Unable to register cuBLAS factory: Attempting to register factory for plugin cuBLAS when one has already been registered\n",
      "2025-03-23 00:06:16.887164: I tensorflow/core/platform/cpu_feature_guard.cc:210] This TensorFlow binary is optimized to use available CPU instructions in performance-critical operations.\n",
      "To enable the following instructions: AVX2 AVX_VNNI FMA, in other operations, rebuild TensorFlow with the appropriate compiler flags.\n"
     ]
    }
   ],
   "source": [
    "from torch.utils.tensorboard import SummaryWriter\n",
    "from tqdm import tqdm\n",
    "\n",
    "def train(\n",
    "        model,\n",
    "        train_loader,\n",
    "        test_loader,\n",
    "        optimizer,\n",
    "        criterion,\n",
    "        device,\n",
    "        scheduler, \n",
    "        num_epochs,\n",
    "    ):\n",
    "    writer = SummaryWriter()\n",
    "\n",
    "    for epoch in range(num_epochs):\n",
    "        print(f\"\\nEpoch {epoch+1}/{num_epochs}\")\n",
    "        model.train()\n",
    "        epoch_loss = 0\n",
    "        progress_bar = tqdm(train_loader, desc=\"Training\", leave=False)\n",
    "\n",
    "        for src, trg in progress_bar:\n",
    "            src, trg = src.to(device), trg.to(device)\n",
    "            optimizer.zero_grad()\n",
    "            outputs = model(src, trg)\n",
    "            loss = criterion(\n",
    "                    outputs[:, 1:].reshape(-1, model.vocab_size), trg[:, 1:].reshape(-1)\n",
    "                )\n",
    "            loss.backward()\n",
    "            optimizer.step()\n",
    "\n",
    "            epoch_loss += loss.item()\n",
    "\n",
    "            progress_bar.set_postfix(\n",
    "                    loss=f\"{loss.item():.4f}\"\n",
    "                )\n",
    "\n",
    "        train_loss = epoch_loss / len(train_loader)\n",
    "\n",
    "        # ---------------- VALIDATION ---------------- #\n",
    "        model.eval()\n",
    "        val_epoch_loss = 0\n",
    "        progress_bar = tqdm(test_loader, desc=\"Validating\", leave=False)\n",
    "\n",
    "        with torch.no_grad():\n",
    "            for src, trg in progress_bar:\n",
    "                src, trg = src.to(device), trg.to(device)\n",
    "                outputs = model(src, trg)\n",
    "                loss = criterion(\n",
    "                        outputs[:, 1:].reshape(-1, model.vocab_size),\n",
    "                        trg[:, 1:].reshape(-1),\n",
    "                    )\n",
    "                val_epoch_loss += loss.item()\n",
    "\n",
    "                progress_bar.set_postfix(\n",
    "                        loss=f\"{loss.item():.4f}\"\n",
    "                    )\n",
    "\n",
    "        val_loss = val_epoch_loss / len(test_loader)\n",
    "        scheduler.step(val_loss)\n",
    "\n",
    "        # Log metrics to TensorBoard\n",
    "        writer.add_scalar(\"Loss/Train\", train_loss, epoch)\n",
    "        writer.add_scalar(\"Loss/Validation\", val_loss, epoch)\n",
    "        writer.add_scalar(\"Learning Rate\", scheduler.get_last_lr()[0], epoch)\n",
    "\n",
    "        print(\n",
    "            f\"Train loss : {train_loss}, Val_loss : {val_loss}, lr: {scheduler.get_last_lr()[0]}\"\n",
    "        )\n",
    "\n",
    "    writer.close()\n",
    "    return train_loss, val_loss"
   ]
  },
  {
   "cell_type": "code",
   "execution_count": 11,
   "id": "c1209626",
   "metadata": {
    "execution": {
     "iopub.execute_input": "2025-03-22T08:33:28.587034Z",
     "iopub.status.busy": "2025-03-22T08:33:28.586585Z",
     "iopub.status.idle": "2025-03-22T08:33:32.654256Z",
     "shell.execute_reply": "2025-03-22T08:33:32.653597Z"
    },
    "id": "rXj3XkiAAU3a",
    "papermill": {
     "duration": 4.073618,
     "end_time": "2025-03-22T08:33:32.655739",
     "exception": false,
     "start_time": "2025-03-22T08:33:28.582121",
     "status": "completed"
    },
    "tags": []
   },
   "outputs": [],
   "source": [
    "import torch\n",
    "import torch.nn as nn\n",
    "import torch.optim as optim\n",
    "from tqdm import tqdm\n",
    "\n",
    "device = torch.device(\"cuda\" if torch.cuda.is_available() else \"cpu\")\n",
    "\n",
    "vocab_size = len(vocab)\n",
    "embedding_dim = 256\n",
    "hidden_size = 64\n",
    "encoder = Encoder(vocab_size, embedding_dim, hidden_size).to(device)\n",
    "decoder = Decoder(vocab_size, embedding_dim, hidden_size).to(device)\n",
    "seq2seq = Seq2Seq(encoder, decoder, vocab_size).to(device)\n",
    "criterion = nn.CrossEntropyLoss(ignore_index=0)\n",
    "optimizer = optim.Adam(seq2seq.parameters(), lr=0.005, weight_decay=1e-5)\n",
    "scheduler = optim.lr_scheduler.ReduceLROnPlateau(\n",
    "    optimizer, mode=\"min\", factor=0.5, patience=2\n",
    ")"
   ]
  },
  {
   "cell_type": "code",
   "execution_count": 12,
   "id": "dbbbb061",
   "metadata": {
    "execution": {
     "iopub.execute_input": "2025-03-22T08:33:32.664753Z",
     "iopub.status.busy": "2025-03-22T08:33:32.664259Z",
     "iopub.status.idle": "2025-03-22T13:39:55.700683Z",
     "shell.execute_reply": "2025-03-22T13:39:55.699901Z"
    },
    "id": "wsk2HEv5AU3a",
    "outputId": "3018e54b-2be5-411e-f471-b6f8e41ac256",
    "papermill": {
     "duration": 18383.042068,
     "end_time": "2025-03-22T13:39:55.701920",
     "exception": false,
     "start_time": "2025-03-22T08:33:32.659852",
     "status": "completed"
    },
    "tags": []
   },
   "outputs": [
    {
     "name": "stdout",
     "output_type": "stream",
     "text": [
      "\n",
      "Epoch 1/60\n"
     ]
    },
    {
     "name": "stderr",
     "output_type": "stream",
     "text": [
      "                                                                          \r"
     ]
    },
    {
     "name": "stdout",
     "output_type": "stream",
     "text": [
      "Train loss : 5.398456978186583, Val_loss : 4.6444296077289415, lr: 0.005\n",
      "\n",
      "Epoch 2/60\n"
     ]
    },
    {
     "name": "stderr",
     "output_type": "stream",
     "text": [
      "                                                                          \r"
     ]
    },
    {
     "name": "stdout",
     "output_type": "stream",
     "text": [
      "Train loss : 4.4553677999056305, Val_loss : 4.00223692328529, lr: 0.005\n",
      "\n",
      "Epoch 3/60\n"
     ]
    },
    {
     "name": "stderr",
     "output_type": "stream",
     "text": [
      "                                                                          \r"
     ]
    },
    {
     "name": "stdout",
     "output_type": "stream",
     "text": [
      "Train loss : 3.9469068808433336, Val_loss : 3.54923131191625, lr: 0.005\n",
      "\n",
      "Epoch 4/60\n"
     ]
    },
    {
     "name": "stderr",
     "output_type": "stream",
     "text": [
      "                                                                          \r"
     ]
    },
    {
     "name": "stdout",
     "output_type": "stream",
     "text": [
      "Train loss : 3.557183112242283, Val_loss : 3.2092477220349607, lr: 0.005\n",
      "\n",
      "Epoch 5/60\n"
     ]
    },
    {
     "name": "stderr",
     "output_type": "stream",
     "text": [
      "                                                                          \r"
     ]
    },
    {
     "name": "stdout",
     "output_type": "stream",
     "text": [
      "Train loss : 3.2803707153369217, Val_loss : 2.9788911722402656, lr: 0.005\n",
      "\n",
      "Epoch 6/60\n"
     ]
    },
    {
     "name": "stderr",
     "output_type": "stream",
     "text": [
      "                                                                          \r"
     ]
    },
    {
     "name": "stdout",
     "output_type": "stream",
     "text": [
      "Train loss : 3.066326252008096, Val_loss : 2.7927831021030394, lr: 0.005\n",
      "\n",
      "Epoch 7/60\n"
     ]
    },
    {
     "name": "stderr",
     "output_type": "stream",
     "text": [
      "                                                                          \r"
     ]
    },
    {
     "name": "stdout",
     "output_type": "stream",
     "text": [
      "Train loss : 2.910721849783873, Val_loss : 2.680024222990053, lr: 0.005\n",
      "\n",
      "Epoch 8/60\n"
     ]
    },
    {
     "name": "stderr",
     "output_type": "stream",
     "text": [
      "                                                                          \r"
     ]
    },
    {
     "name": "stdout",
     "output_type": "stream",
     "text": [
      "Train loss : 2.81575026451013, Val_loss : 2.581795133320631, lr: 0.005\n",
      "\n",
      "Epoch 9/60\n"
     ]
    },
    {
     "name": "stderr",
     "output_type": "stream",
     "text": [
      "                                                                          \r"
     ]
    },
    {
     "name": "stdout",
     "output_type": "stream",
     "text": [
      "Train loss : 2.715116331516168, Val_loss : 2.53244538222794, lr: 0.005\n",
      "\n",
      "Epoch 10/60\n"
     ]
    },
    {
     "name": "stderr",
     "output_type": "stream",
     "text": [
      "                                                                          \r"
     ]
    },
    {
     "name": "stdout",
     "output_type": "stream",
     "text": [
      "Train loss : 2.6516647008749157, Val_loss : 2.482578079257391, lr: 0.005\n",
      "\n",
      "Epoch 11/60\n"
     ]
    },
    {
     "name": "stderr",
     "output_type": "stream",
     "text": [
      "                                                                          \r"
     ]
    },
    {
     "name": "stdout",
     "output_type": "stream",
     "text": [
      "Train loss : 2.6027147244184445, Val_loss : 2.415061994991471, lr: 0.005\n",
      "\n",
      "Epoch 12/60\n"
     ]
    },
    {
     "name": "stderr",
     "output_type": "stream",
     "text": [
      "                                                                          \r"
     ]
    },
    {
     "name": "stdout",
     "output_type": "stream",
     "text": [
      "Train loss : 2.548879899734106, Val_loss : 2.4120212761701736, lr: 0.005\n",
      "\n",
      "Epoch 13/60\n"
     ]
    },
    {
     "name": "stderr",
     "output_type": "stream",
     "text": [
      "                                                                          \r"
     ]
    },
    {
     "name": "stdout",
     "output_type": "stream",
     "text": [
      "Train loss : 2.520582443017226, Val_loss : 2.3966853703017783, lr: 0.005\n",
      "\n",
      "Epoch 14/60\n"
     ]
    },
    {
     "name": "stderr",
     "output_type": "stream",
     "text": [
      "                                                                          \r"
     ]
    },
    {
     "name": "stdout",
     "output_type": "stream",
     "text": [
      "Train loss : 2.4777613853796936, Val_loss : 2.3741126482465624, lr: 0.005\n",
      "\n",
      "Epoch 15/60\n"
     ]
    },
    {
     "name": "stderr",
     "output_type": "stream",
     "text": [
      "                                                                          \r"
     ]
    },
    {
     "name": "stdout",
     "output_type": "stream",
     "text": [
      "Train loss : 2.459987807885194, Val_loss : 2.3373464272085545, lr: 0.005\n",
      "\n",
      "Epoch 16/60\n"
     ]
    },
    {
     "name": "stderr",
     "output_type": "stream",
     "text": [
      "                                                                          \r"
     ]
    },
    {
     "name": "stdout",
     "output_type": "stream",
     "text": [
      "Train loss : 2.435475818316142, Val_loss : 2.306995743143875, lr: 0.005\n",
      "\n",
      "Epoch 17/60\n"
     ]
    },
    {
     "name": "stderr",
     "output_type": "stream",
     "text": [
      "                                                                          \r"
     ]
    },
    {
     "name": "stdout",
     "output_type": "stream",
     "text": [
      "Train loss : 2.412485931775509, Val_loss : 2.3356082165135748, lr: 0.005\n",
      "\n",
      "Epoch 18/60\n"
     ]
    },
    {
     "name": "stderr",
     "output_type": "stream",
     "text": [
      "                                                                          \r"
     ]
    },
    {
     "name": "stdout",
     "output_type": "stream",
     "text": [
      "Train loss : 2.3796257553956446, Val_loss : 2.278501580246782, lr: 0.005\n",
      "\n",
      "Epoch 19/60\n"
     ]
    },
    {
     "name": "stderr",
     "output_type": "stream",
     "text": [
      "                                                                          \r"
     ]
    },
    {
     "name": "stdout",
     "output_type": "stream",
     "text": [
      "Train loss : 2.35996735676741, Val_loss : 2.292058798064173, lr: 0.005\n",
      "\n",
      "Epoch 20/60\n"
     ]
    },
    {
     "name": "stderr",
     "output_type": "stream",
     "text": [
      "                                                                          \r"
     ]
    },
    {
     "name": "stdout",
     "output_type": "stream",
     "text": [
      "Train loss : 2.3498346264545735, Val_loss : 2.2519915874025465, lr: 0.005\n",
      "\n",
      "Epoch 21/60\n"
     ]
    },
    {
     "name": "stderr",
     "output_type": "stream",
     "text": [
      "                                                                          \r"
     ]
    },
    {
     "name": "stdout",
     "output_type": "stream",
     "text": [
      "Train loss : 2.341459852609879, Val_loss : 2.2702632625546078, lr: 0.005\n",
      "\n",
      "Epoch 22/60\n"
     ]
    },
    {
     "name": "stderr",
     "output_type": "stream",
     "text": [
      "                                                                          \r"
     ]
    },
    {
     "name": "stdout",
     "output_type": "stream",
     "text": [
      "Train loss : 2.312810076811375, Val_loss : 2.23373059044897, lr: 0.005\n",
      "\n",
      "Epoch 23/60\n"
     ]
    },
    {
     "name": "stderr",
     "output_type": "stream",
     "text": [
      "                                                                          \r"
     ]
    },
    {
     "name": "stdout",
     "output_type": "stream",
     "text": [
      "Train loss : 2.298126581387642, Val_loss : 2.2353562644097655, lr: 0.005\n",
      "\n",
      "Epoch 24/60\n"
     ]
    },
    {
     "name": "stderr",
     "output_type": "stream",
     "text": [
      "                                                                          \r"
     ]
    },
    {
     "name": "stdout",
     "output_type": "stream",
     "text": [
      "Train loss : 2.2933347200736023, Val_loss : 2.2261213612767445, lr: 0.005\n",
      "\n",
      "Epoch 25/60\n"
     ]
    },
    {
     "name": "stderr",
     "output_type": "stream",
     "text": [
      "                                                                          \r"
     ]
    },
    {
     "name": "stdout",
     "output_type": "stream",
     "text": [
      "Train loss : 2.2864191724703864, Val_loss : 2.2349064371227163, lr: 0.005\n",
      "\n",
      "Epoch 26/60\n"
     ]
    },
    {
     "name": "stderr",
     "output_type": "stream",
     "text": [
      "                                                                          \r"
     ]
    },
    {
     "name": "stdout",
     "output_type": "stream",
     "text": [
      "Train loss : 2.2628605836477034, Val_loss : 2.2169263025300694, lr: 0.005\n",
      "\n",
      "Epoch 27/60\n"
     ]
    },
    {
     "name": "stderr",
     "output_type": "stream",
     "text": [
      "                                                                          \r"
     ]
    },
    {
     "name": "stdout",
     "output_type": "stream",
     "text": [
      "Train loss : 2.254252044359843, Val_loss : 2.2322471120716196, lr: 0.005\n",
      "\n",
      "Epoch 28/60\n"
     ]
    },
    {
     "name": "stderr",
     "output_type": "stream",
     "text": [
      "                                                                          \r"
     ]
    },
    {
     "name": "stdout",
     "output_type": "stream",
     "text": [
      "Train loss : 2.2509205555304503, Val_loss : 2.1964069900259506, lr: 0.005\n",
      "\n",
      "Epoch 29/60\n"
     ]
    },
    {
     "name": "stderr",
     "output_type": "stream",
     "text": [
      "                                                                          \r"
     ]
    },
    {
     "name": "stdout",
     "output_type": "stream",
     "text": [
      "Train loss : 2.225737711099478, Val_loss : 2.1975157461335173, lr: 0.005\n",
      "\n",
      "Epoch 30/60\n"
     ]
    },
    {
     "name": "stderr",
     "output_type": "stream",
     "text": [
      "                                                                          \r"
     ]
    },
    {
     "name": "stdout",
     "output_type": "stream",
     "text": [
      "Train loss : 2.2376599917045006, Val_loss : 2.195589998127085, lr: 0.005\n",
      "\n",
      "Epoch 31/60\n"
     ]
    },
    {
     "name": "stderr",
     "output_type": "stream",
     "text": [
      "                                                                          \r"
     ]
    },
    {
     "name": "stdout",
     "output_type": "stream",
     "text": [
      "Train loss : 2.2149676533845755, Val_loss : 2.197866728875489, lr: 0.005\n",
      "\n",
      "Epoch 32/60\n"
     ]
    },
    {
     "name": "stderr",
     "output_type": "stream",
     "text": [
      "                                                                          \r"
     ]
    },
    {
     "name": "stdout",
     "output_type": "stream",
     "text": [
      "Train loss : 2.2185200058496917, Val_loss : 2.184984509923817, lr: 0.005\n",
      "\n",
      "Epoch 33/60\n"
     ]
    },
    {
     "name": "stderr",
     "output_type": "stream",
     "text": [
      "                                                                          \r"
     ]
    },
    {
     "name": "stdout",
     "output_type": "stream",
     "text": [
      "Train loss : 2.203610423283699, Val_loss : 2.1883838102880833, lr: 0.005\n",
      "\n",
      "Epoch 34/60\n"
     ]
    },
    {
     "name": "stderr",
     "output_type": "stream",
     "text": [
      "                                                                          \r"
     ]
    },
    {
     "name": "stdout",
     "output_type": "stream",
     "text": [
      "Train loss : 2.2014743129412335, Val_loss : 2.177044713391667, lr: 0.005\n",
      "\n",
      "Epoch 35/60\n"
     ]
    },
    {
     "name": "stderr",
     "output_type": "stream",
     "text": [
      "                                                                          \r"
     ]
    },
    {
     "name": "stdout",
     "output_type": "stream",
     "text": [
      "Train loss : 2.1831682358032616, Val_loss : 2.2099141789748606, lr: 0.005\n",
      "\n",
      "Epoch 36/60\n"
     ]
    },
    {
     "name": "stderr",
     "output_type": "stream",
     "text": [
      "                                                                          \r"
     ]
    },
    {
     "name": "stdout",
     "output_type": "stream",
     "text": [
      "Train loss : 2.2014468706571138, Val_loss : 2.19014001209124, lr: 0.005\n",
      "\n",
      "Epoch 37/60\n"
     ]
    },
    {
     "name": "stderr",
     "output_type": "stream",
     "text": [
      "                                                                          \r"
     ]
    },
    {
     "name": "stdout",
     "output_type": "stream",
     "text": [
      "Train loss : 2.1592295658894076, Val_loss : 2.155659317970276, lr: 0.005\n",
      "\n",
      "Epoch 38/60\n"
     ]
    },
    {
     "name": "stderr",
     "output_type": "stream",
     "text": [
      "                                                                          \r"
     ]
    },
    {
     "name": "stdout",
     "output_type": "stream",
     "text": [
      "Train loss : 2.161361927863879, Val_loss : 2.1386252747172803, lr: 0.005\n",
      "\n",
      "Epoch 39/60\n"
     ]
    },
    {
     "name": "stderr",
     "output_type": "stream",
     "text": [
      "                                                                          \r"
     ]
    },
    {
     "name": "stdout",
     "output_type": "stream",
     "text": [
      "Train loss : 2.1684206968698745, Val_loss : 2.1441068332807154, lr: 0.005\n",
      "\n",
      "Epoch 40/60\n"
     ]
    },
    {
     "name": "stderr",
     "output_type": "stream",
     "text": [
      "                                                                          \r"
     ]
    },
    {
     "name": "stdout",
     "output_type": "stream",
     "text": [
      "Train loss : 2.1643929671018554, Val_loss : 2.1469616668414226, lr: 0.005\n",
      "\n",
      "Epoch 41/60\n"
     ]
    },
    {
     "name": "stderr",
     "output_type": "stream",
     "text": [
      "                                                                          \r"
     ]
    },
    {
     "name": "stdout",
     "output_type": "stream",
     "text": [
      "Train loss : 2.1527476237370418, Val_loss : 2.1505478462286756, lr: 0.0025\n",
      "\n",
      "Epoch 42/60\n"
     ]
    },
    {
     "name": "stderr",
     "output_type": "stream",
     "text": [
      "                                                                          \r"
     ]
    },
    {
     "name": "stdout",
     "output_type": "stream",
     "text": [
      "Train loss : 2.015419987531809, Val_loss : 2.072085740291967, lr: 0.0025\n",
      "\n",
      "Epoch 43/60\n"
     ]
    },
    {
     "name": "stderr",
     "output_type": "stream",
     "text": [
      "                                                                          \r"
     ]
    },
    {
     "name": "stdout",
     "output_type": "stream",
     "text": [
      "Train loss : 1.9561490538792732, Val_loss : 2.0557947728486186, lr: 0.0025\n",
      "\n",
      "Epoch 44/60\n"
     ]
    },
    {
     "name": "stderr",
     "output_type": "stream",
     "text": [
      "                                                                          \r"
     ]
    },
    {
     "name": "stdout",
     "output_type": "stream",
     "text": [
      "Train loss : 1.9460854588410794, Val_loss : 2.057917602294314, lr: 0.0025\n",
      "\n",
      "Epoch 45/60\n"
     ]
    },
    {
     "name": "stderr",
     "output_type": "stream",
     "text": [
      "                                                                          \r"
     ]
    },
    {
     "name": "stdout",
     "output_type": "stream",
     "text": [
      "Train loss : 1.9291170349487892, Val_loss : 2.0479225795880884, lr: 0.0025\n",
      "\n",
      "Epoch 46/60\n"
     ]
    },
    {
     "name": "stderr",
     "output_type": "stream",
     "text": [
      "                                                                          \r"
     ]
    },
    {
     "name": "stdout",
     "output_type": "stream",
     "text": [
      "Train loss : 1.9242138865666512, Val_loss : 2.0628936121949053, lr: 0.0025\n",
      "\n",
      "Epoch 47/60\n"
     ]
    },
    {
     "name": "stderr",
     "output_type": "stream",
     "text": [
      "                                                                          \r"
     ]
    },
    {
     "name": "stdout",
     "output_type": "stream",
     "text": [
      "Train loss : 1.9133011976877847, Val_loss : 2.0802281493634247, lr: 0.0025\n",
      "\n",
      "Epoch 48/60\n"
     ]
    },
    {
     "name": "stderr",
     "output_type": "stream",
     "text": [
      "                                                                          \r"
     ]
    },
    {
     "name": "stdout",
     "output_type": "stream",
     "text": [
      "Train loss : 1.9215977087999, Val_loss : 2.098077142133122, lr: 0.00125\n",
      "\n",
      "Epoch 49/60\n"
     ]
    },
    {
     "name": "stderr",
     "output_type": "stream",
     "text": [
      "                                                                          \r"
     ]
    },
    {
     "name": "stdout",
     "output_type": "stream",
     "text": [
      "Train loss : 1.8279445061316857, Val_loss : 2.046991122507416, lr: 0.00125\n",
      "\n",
      "Epoch 50/60\n"
     ]
    },
    {
     "name": "stderr",
     "output_type": "stream",
     "text": [
      "                                                                          \r"
     ]
    },
    {
     "name": "stdout",
     "output_type": "stream",
     "text": [
      "Train loss : 1.7998924655792041, Val_loss : 2.042541569313117, lr: 0.00125\n",
      "\n",
      "Epoch 51/60\n"
     ]
    },
    {
     "name": "stderr",
     "output_type": "stream",
     "text": [
      "                                                                          \r"
     ]
    },
    {
     "name": "stdout",
     "output_type": "stream",
     "text": [
      "Train loss : 1.7717543660066066, Val_loss : 2.022099302933279, lr: 0.00125\n",
      "\n",
      "Epoch 52/60\n"
     ]
    },
    {
     "name": "stderr",
     "output_type": "stream",
     "text": [
      "                                                                          \r"
     ]
    },
    {
     "name": "stdout",
     "output_type": "stream",
     "text": [
      "Train loss : 1.7613182388819182, Val_loss : 2.037732826924957, lr: 0.00125\n",
      "\n",
      "Epoch 53/60\n"
     ]
    },
    {
     "name": "stderr",
     "output_type": "stream",
     "text": [
      "                                                                          \r"
     ]
    },
    {
     "name": "stdout",
     "output_type": "stream",
     "text": [
      "Train loss : 1.7684732715288798, Val_loss : 2.04855791340887, lr: 0.00125\n",
      "\n",
      "Epoch 54/60\n"
     ]
    },
    {
     "name": "stderr",
     "output_type": "stream",
     "text": [
      "                                                                          \r"
     ]
    },
    {
     "name": "stdout",
     "output_type": "stream",
     "text": [
      "Train loss : 1.7664343745280535, Val_loss : 2.0461571132187295, lr: 0.000625\n",
      "\n",
      "Epoch 55/60\n"
     ]
    },
    {
     "name": "stderr",
     "output_type": "stream",
     "text": [
      "                                                                          \r"
     ]
    },
    {
     "name": "stdout",
     "output_type": "stream",
     "text": [
      "Train loss : 1.7181421506099213, Val_loss : 2.0080356313064036, lr: 0.000625\n",
      "\n",
      "Epoch 56/60\n"
     ]
    },
    {
     "name": "stderr",
     "output_type": "stream",
     "text": [
      "                                                                          \r"
     ]
    },
    {
     "name": "stdout",
     "output_type": "stream",
     "text": [
      "Train loss : 1.70082893432715, Val_loss : 2.007900820369214, lr: 0.000625\n",
      "\n",
      "Epoch 57/60\n"
     ]
    },
    {
     "name": "stderr",
     "output_type": "stream",
     "text": [
      "                                                                          \r"
     ]
    },
    {
     "name": "stdout",
     "output_type": "stream",
     "text": [
      "Train loss : 1.6974349764677195, Val_loss : 2.0174991462082987, lr: 0.000625\n",
      "\n",
      "Epoch 58/60\n"
     ]
    },
    {
     "name": "stderr",
     "output_type": "stream",
     "text": [
      "                                                                          \r"
     ]
    },
    {
     "name": "stdout",
     "output_type": "stream",
     "text": [
      "Train loss : 1.6741172179197654, Val_loss : 2.012294535088328, lr: 0.0003125\n",
      "\n",
      "Epoch 59/60\n"
     ]
    },
    {
     "name": "stderr",
     "output_type": "stream",
     "text": [
      "                                                                          \r"
     ]
    },
    {
     "name": "stdout",
     "output_type": "stream",
     "text": [
      "Train loss : 1.6385820404077187, Val_loss : 2.0219949842554277, lr: 0.0003125\n",
      "\n",
      "Epoch 60/60\n"
     ]
    },
    {
     "name": "stderr",
     "output_type": "stream",
     "text": [
      "                                                                          "
     ]
    },
    {
     "name": "stdout",
     "output_type": "stream",
     "text": [
      "Train loss : 1.6478714777873114, Val_loss : 2.018457844194058, lr: 0.0003125\n"
     ]
    },
    {
     "name": "stderr",
     "output_type": "stream",
     "text": [
      "\r"
     ]
    },
    {
     "data": {
      "text/plain": [
       "(1.6478714777873114, 2.018457844194058)"
      ]
     },
     "execution_count": 12,
     "metadata": {},
     "output_type": "execute_result"
    }
   ],
   "source": [
    "import torch\n",
    "import torch.nn.functional as F\n",
    "from tqdm import tqdm\n",
    "\n",
    "train(\n",
    "    seq2seq,\n",
    "    train_loader,\n",
    "    test_loader,\n",
    "    optimizer,\n",
    "    criterion,\n",
    "    device,\n",
    "    scheduler,\n",
    "    60,\n",
    ")"
   ]
  },
  {
   "cell_type": "code",
   "execution_count": 13,
   "id": "e2dee907",
   "metadata": {
    "execution": {
     "iopub.execute_input": "2025-03-22T13:39:58.699290Z",
     "iopub.status.busy": "2025-03-22T13:39:58.698987Z",
     "iopub.status.idle": "2025-03-22T13:39:59.033389Z",
     "shell.execute_reply": "2025-03-22T13:39:59.032657Z"
    },
    "id": "QcRGUFEp6EXC",
    "papermill": {
     "duration": 1.794293,
     "end_time": "2025-03-22T13:39:59.034902",
     "exception": false,
     "start_time": "2025-03-22T13:39:57.240609",
     "status": "completed"
    },
    "tags": []
   },
   "outputs": [],
   "source": [
    "torch.save(seq2seq.state_dict(), \"seq2seq-bidir-attention.pth\")"
   ]
  },
  {
   "cell_type": "code",
   "execution_count": 14,
   "id": "bcd90367",
   "metadata": {
    "execution": {
     "iopub.execute_input": "2025-03-22T13:40:01.838653Z",
     "iopub.status.busy": "2025-03-22T13:40:01.838299Z",
     "iopub.status.idle": "2025-03-22T13:40:02.120190Z",
     "shell.execute_reply": "2025-03-22T13:40:02.119433Z"
    },
    "papermill": {
     "duration": 1.733419,
     "end_time": "2025-03-22T13:40:02.121643",
     "exception": false,
     "start_time": "2025-03-22T13:40:00.388224",
     "status": "completed"
    },
    "tags": []
   },
   "outputs": [
    {
     "data": {
      "text/plain": [
       "<All keys matched successfully>"
      ]
     },
     "execution_count": 14,
     "metadata": {},
     "output_type": "execute_result"
    }
   ],
   "source": [
    "device = torch.device(\"cuda\" if torch.cuda.is_available() else \"cpu\")\n",
    "\n",
    "vocab_size = len(vocab)\n",
    "embedding_dim = 256\n",
    "hidden_size = 64\n",
    "encoder = Encoder(vocab_size, embedding_dim, hidden_size).to(device)\n",
    "decoder = Decoder(vocab_size, embedding_dim, hidden_size).to(device)\n",
    "seq2seq = Seq2Seq(encoder, decoder, vocab_size).to(device)\n",
    "seq2seq.load_state_dict(torch.load(\"seq2seq-bidir-attention.pth\", weights_only=True))"
   ]
  },
  {
   "cell_type": "code",
   "execution_count": 15,
   "id": "7f1d7ea2",
   "metadata": {
    "execution": {
     "iopub.execute_input": "2025-03-22T13:40:04.919840Z",
     "iopub.status.busy": "2025-03-22T13:40:04.919468Z",
     "iopub.status.idle": "2025-03-22T13:40:05.827035Z",
     "shell.execute_reply": "2025-03-22T13:40:05.826133Z"
    },
    "papermill": {
     "duration": 2.259685,
     "end_time": "2025-03-22T13:40:05.828388",
     "exception": false,
     "start_time": "2025-03-22T13:40:03.568703",
     "status": "completed"
    },
    "tags": []
   },
   "outputs": [
    {
     "data": {
      "text/plain": [
       "torch.Size([256, 18])"
      ]
     },
     "execution_count": 15,
     "metadata": {},
     "output_type": "execute_result"
    }
   ],
   "source": [
    "seq2seq.eval()\n",
    "# with torch.no_grad():\n",
    "a, b = next(iter(train_loader))\n",
    "a = a.to(device)\n",
    "b = b.to(device)\n",
    "with torch.no_grad():\n",
    "    x = seq2seq.predict(a)\n",
    "\n",
    "x = x.argmax(dim=2)\n",
    "x.shape"
   ]
  },
  {
   "cell_type": "code",
   "execution_count": 16,
   "id": "698ad5f1",
   "metadata": {
    "execution": {
     "iopub.execute_input": "2025-03-22T13:40:08.753801Z",
     "iopub.status.busy": "2025-03-22T13:40:08.753429Z",
     "iopub.status.idle": "2025-03-22T13:40:08.887051Z",
     "shell.execute_reply": "2025-03-22T13:40:08.886141Z"
    },
    "papermill": {
     "duration": 1.587873,
     "end_time": "2025-03-22T13:40:08.888724",
     "exception": false,
     "start_time": "2025-03-22T13:40:07.300851",
     "status": "completed"
    },
    "tags": []
   },
   "outputs": [],
   "source": [
    "from tokenizers import ByteLevelBPETokenizer\n",
    "tokenizer = ByteLevelBPETokenizer(\n",
    "    f\"EnglishOrSpanish/vocab.json\", f\"EnglishOrSpanish/merges.txt\"\n",
    ")"
   ]
  },
  {
   "cell_type": "code",
   "execution_count": 17,
   "id": "209ec26b",
   "metadata": {
    "execution": {
     "iopub.execute_input": "2025-03-22T13:40:11.712812Z",
     "iopub.status.busy": "2025-03-22T13:40:11.712376Z",
     "iopub.status.idle": "2025-03-22T13:40:11.719426Z",
     "shell.execute_reply": "2025-03-22T13:40:11.718517Z"
    },
    "papermill": {
     "duration": 1.388413,
     "end_time": "2025-03-22T13:40:11.720876",
     "exception": false,
     "start_time": "2025-03-22T13:40:10.332463",
     "status": "completed"
    },
    "tags": []
   },
   "outputs": [
    {
     "name": "stdout",
     "output_type": "stream",
     "text": [
      "<SOS> nunca me dijiste nada sobre el accidente <EOS><PAD><PAD><PAD><PAD><PAD><PAD><PAD><PAD>\n",
      "<PAD> nunca me dijiste nada acerca del accidente <EOS><EOS><EOS><EOS><EOS><EOS><EOS><EOS><EOS>\n"
     ]
    }
   ],
   "source": [
    "print(tokenizer.decode(b.tolist()[8]))\n",
    "print(tokenizer.decode(x.tolist()[8]))"
   ]
  }
 ],
 "metadata": {
  "colab": {
   "provenance": []
  },
  "kaggle": {
   "accelerator": "nvidiaTeslaT4",
   "dataSources": [
    {
     "datasetId": 6838673,
     "sourceId": 11036243,
     "sourceType": "datasetVersion"
    }
   ],
   "dockerImageVersionId": 30918,
   "isGpuEnabled": true,
   "isInternetEnabled": true,
   "language": "python",
   "sourceType": "notebook"
  },
  "kernelspec": {
   "display_name": "Python (myenv)",
   "language": "python",
   "name": "torch"
  },
  "language_info": {
   "codemirror_mode": {
    "name": "ipython",
    "version": 3
   },
   "file_extension": ".py",
   "mimetype": "text/x-python",
   "name": "python",
   "nbconvert_exporter": "python",
   "pygments_lexer": "ipython3",
   "version": "3.12.3"
  },
  "papermill": {
   "default_parameters": {},
   "duration": 18437.638477,
   "end_time": "2025-03-22T13:40:18.678424",
   "environment_variables": {},
   "exception": null,
   "input_path": "__notebook__.ipynb",
   "output_path": "__notebook__.ipynb",
   "parameters": {},
   "start_time": "2025-03-22T08:33:01.039947",
   "version": "2.6.0"
  }
 },
 "nbformat": 4,
 "nbformat_minor": 5
}
