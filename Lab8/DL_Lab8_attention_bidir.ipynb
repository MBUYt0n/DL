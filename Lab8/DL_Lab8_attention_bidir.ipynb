{
 "cells": [
  {
   "cell_type": "code",
   "execution_count": 1,
   "id": "452960d5",
   "metadata": {
    "execution": {
     "iopub.execute_input": "2025-03-22T08:33:04.078715Z",
     "iopub.status.busy": "2025-03-22T08:33:04.078435Z",
     "iopub.status.idle": "2025-03-22T08:33:06.101549Z",
     "shell.execute_reply": "2025-03-22T08:33:06.100812Z"
    },
    "id": "ZjgPhK4yAU3W",
    "outputId": "4ab7d36a-ce19-4580-9eee-bcf62a2d3bfe",
    "papermill": {
     "duration": 2.028917,
     "end_time": "2025-03-22T08:33:06.103063",
     "exception": false,
     "start_time": "2025-03-22T08:33:04.074146",
     "status": "completed"
    },
    "tags": []
   },
   "outputs": [
    {
     "data": {
      "text/html": [
       "<div>\n",
       "<style scoped>\n",
       "    .dataframe tbody tr th:only-of-type {\n",
       "        vertical-align: middle;\n",
       "    }\n",
       "\n",
       "    .dataframe tbody tr th {\n",
       "        vertical-align: top;\n",
       "    }\n",
       "\n",
       "    .dataframe thead th {\n",
       "        text-align: right;\n",
       "    }\n",
       "</style>\n",
       "<table border=\"1\" class=\"dataframe\">\n",
       "  <thead>\n",
       "    <tr style=\"text-align: right;\">\n",
       "      <th></th>\n",
       "      <th>English</th>\n",
       "      <th>Spanish</th>\n",
       "    </tr>\n",
       "  </thead>\n",
       "  <tbody>\n",
       "    <tr>\n",
       "      <th>31434</th>\n",
       "      <td>[2, 361, 1220, 979, 272, 328, 224, 3, 0, 0, 0,...</td>\n",
       "      <td>[2, 302, 328, 745, 265, 2135, 265, 958, 224, 3...</td>\n",
       "    </tr>\n",
       "    <tr>\n",
       "      <th>4210</th>\n",
       "      <td>[2, 701, 6740, 224, 3, 0, 0, 0, 0, 0, 0, 0, 0,...</td>\n",
       "      <td>[2, 2187, 7301, 224, 3, 0, 0, 0, 0, 0, 0, 0, 0...</td>\n",
       "    </tr>\n",
       "    <tr>\n",
       "      <th>38154</th>\n",
       "      <td>[2, 575, 304, 2149, 328, 804, 224, 3, 0, 0, 0,...</td>\n",
       "      <td>[2, 328, 6552, 265, 321, 644, 224, 3, 0, 0, 0,...</td>\n",
       "    </tr>\n",
       "    <tr>\n",
       "      <th>6026</th>\n",
       "      <td>[2, 576, 2345, 224, 3, 0, 0, 0, 0, 0, 0, 0, 0,...</td>\n",
       "      <td>[2, 1368, 3457, 224, 3, 0, 0, 0, 0, 0, 0, 0, 0...</td>\n",
       "    </tr>\n",
       "    <tr>\n",
       "      <th>18470</th>\n",
       "      <td>[2, 270, 1056, 448, 8255, 224, 3, 0, 0, 0, 0, ...</td>\n",
       "      <td>[2, 328, 2816, 474, 5297, 224, 3, 0, 0, 0, 0, ...</td>\n",
       "    </tr>\n",
       "    <tr>\n",
       "      <th>...</th>\n",
       "      <td>...</td>\n",
       "      <td>...</td>\n",
       "    </tr>\n",
       "    <tr>\n",
       "      <th>51305</th>\n",
       "      <td>[2, 395, 449, 7510, 9745, 224, 3, 0, 0, 0, 0, ...</td>\n",
       "      <td>[2, 2434, 10370, 294, 7921, 224, 3, 0, 0, 0, 0...</td>\n",
       "    </tr>\n",
       "    <tr>\n",
       "      <th>71408</th>\n",
       "      <td>[2, 818, 1521, 265, 11859, 2489, 1057, 224, 3,...</td>\n",
       "      <td>[2, 311, 1308, 410, 2019, 4332, 7268, 224, 3, ...</td>\n",
       "    </tr>\n",
       "    <tr>\n",
       "      <th>126632</th>\n",
       "      <td>[2, 300, 1020, 18612, 370, 300, 2178, 1578, 39...</td>\n",
       "      <td>[2, 492, 18258, 14174, 1319, 438, 2523, 298, 3...</td>\n",
       "    </tr>\n",
       "    <tr>\n",
       "      <th>72307</th>\n",
       "      <td>[2, 300, 2337, 384, 585, 2579, 224, 3, 0, 0, 0...</td>\n",
       "      <td>[2, 321, 2055, 767, 573, 2722, 224, 3, 0, 0, 0...</td>\n",
       "    </tr>\n",
       "    <tr>\n",
       "      <th>122143</th>\n",
       "      <td>[2, 568, 449, 822, 989, 904, 606, 1111, 382, 4...</td>\n",
       "      <td>[2, 664, 7408, 1295, 627, 5153, 265, 1566, 179...</td>\n",
       "    </tr>\n",
       "  </tbody>\n",
       "</table>\n",
       "<p>128982 rows × 2 columns</p>\n",
       "</div>"
      ],
      "text/plain": [
       "                                                  English  \\\n",
       "31434   [2, 361, 1220, 979, 272, 328, 224, 3, 0, 0, 0,...   \n",
       "4210    [2, 701, 6740, 224, 3, 0, 0, 0, 0, 0, 0, 0, 0,...   \n",
       "38154   [2, 575, 304, 2149, 328, 804, 224, 3, 0, 0, 0,...   \n",
       "6026    [2, 576, 2345, 224, 3, 0, 0, 0, 0, 0, 0, 0, 0,...   \n",
       "18470   [2, 270, 1056, 448, 8255, 224, 3, 0, 0, 0, 0, ...   \n",
       "...                                                   ...   \n",
       "51305   [2, 395, 449, 7510, 9745, 224, 3, 0, 0, 0, 0, ...   \n",
       "71408   [2, 818, 1521, 265, 11859, 2489, 1057, 224, 3,...   \n",
       "126632  [2, 300, 1020, 18612, 370, 300, 2178, 1578, 39...   \n",
       "72307   [2, 300, 2337, 384, 585, 2579, 224, 3, 0, 0, 0...   \n",
       "122143  [2, 568, 449, 822, 989, 904, 606, 1111, 382, 4...   \n",
       "\n",
       "                                                  Spanish  \n",
       "31434   [2, 302, 328, 745, 265, 2135, 265, 958, 224, 3...  \n",
       "4210    [2, 2187, 7301, 224, 3, 0, 0, 0, 0, 0, 0, 0, 0...  \n",
       "38154   [2, 328, 6552, 265, 321, 644, 224, 3, 0, 0, 0,...  \n",
       "6026    [2, 1368, 3457, 224, 3, 0, 0, 0, 0, 0, 0, 0, 0...  \n",
       "18470   [2, 328, 2816, 474, 5297, 224, 3, 0, 0, 0, 0, ...  \n",
       "...                                                   ...  \n",
       "51305   [2, 2434, 10370, 294, 7921, 224, 3, 0, 0, 0, 0...  \n",
       "71408   [2, 311, 1308, 410, 2019, 4332, 7268, 224, 3, ...  \n",
       "126632  [2, 492, 18258, 14174, 1319, 438, 2523, 298, 3...  \n",
       "72307   [2, 321, 2055, 767, 573, 2722, 224, 3, 0, 0, 0...  \n",
       "122143  [2, 664, 7408, 1295, 627, 5153, 265, 1566, 179...  \n",
       "\n",
       "[128982 rows x 2 columns]"
      ]
     },
     "execution_count": 1,
     "metadata": {},
     "output_type": "execute_result"
    }
   ],
   "source": [
    "import pandas as pd\n",
    "from sklearn.utils import shuffle\n",
    "\n",
    "df = pd.read_csv(f\"EnglishOrSpanish/output_joint1.csv\")\n",
    "df = shuffle(df)\n",
    "df"
   ]
  },
  {
   "cell_type": "code",
   "execution_count": 2,
   "id": "0749342f",
   "metadata": {
    "execution": {
     "iopub.execute_input": "2025-03-22T08:33:06.112927Z",
     "iopub.status.busy": "2025-03-22T08:33:06.112663Z",
     "iopub.status.idle": "2025-03-22T08:33:13.903769Z",
     "shell.execute_reply": "2025-03-22T08:33:13.902890Z"
    },
    "id": "3l1WLpiLAU3W",
    "outputId": "01736df9-0470-48b7-cad1-3f67d4934b66",
    "papermill": {
     "duration": 7.797798,
     "end_time": "2025-03-22T08:33:13.905172",
     "exception": false,
     "start_time": "2025-03-22T08:33:06.107374",
     "status": "completed"
    },
    "tags": []
   },
   "outputs": [
    {
     "data": {
      "text/html": [
       "<div>\n",
       "<style scoped>\n",
       "    .dataframe tbody tr th:only-of-type {\n",
       "        vertical-align: middle;\n",
       "    }\n",
       "\n",
       "    .dataframe tbody tr th {\n",
       "        vertical-align: top;\n",
       "    }\n",
       "\n",
       "    .dataframe thead th {\n",
       "        text-align: right;\n",
       "    }\n",
       "</style>\n",
       "<table border=\"1\" class=\"dataframe\">\n",
       "  <thead>\n",
       "    <tr style=\"text-align: right;\">\n",
       "      <th></th>\n",
       "      <th>English</th>\n",
       "      <th>Spanish</th>\n",
       "    </tr>\n",
       "  </thead>\n",
       "  <tbody>\n",
       "    <tr>\n",
       "      <th>31434</th>\n",
       "      <td>[2, 361, 1220, 979, 272, 328, 224, 3, 0, 0, 0,...</td>\n",
       "      <td>[2, 302, 328, 745, 265, 2135, 265, 958, 224, 3...</td>\n",
       "    </tr>\n",
       "    <tr>\n",
       "      <th>4210</th>\n",
       "      <td>[2, 701, 6740, 224, 3, 0, 0, 0, 0, 0, 0, 0, 0,...</td>\n",
       "      <td>[2, 2187, 7301, 224, 3, 0, 0, 0, 0, 0, 0, 0, 0...</td>\n",
       "    </tr>\n",
       "    <tr>\n",
       "      <th>38154</th>\n",
       "      <td>[2, 575, 304, 2149, 328, 804, 224, 3, 0, 0, 0,...</td>\n",
       "      <td>[2, 328, 6552, 265, 321, 644, 224, 3, 0, 0, 0,...</td>\n",
       "    </tr>\n",
       "    <tr>\n",
       "      <th>6026</th>\n",
       "      <td>[2, 576, 2345, 224, 3, 0, 0, 0, 0, 0, 0, 0, 0,...</td>\n",
       "      <td>[2, 1368, 3457, 224, 3, 0, 0, 0, 0, 0, 0, 0, 0...</td>\n",
       "    </tr>\n",
       "    <tr>\n",
       "      <th>18470</th>\n",
       "      <td>[2, 270, 1056, 448, 8255, 224, 3, 0, 0, 0, 0, ...</td>\n",
       "      <td>[2, 328, 2816, 474, 5297, 224, 3, 0, 0, 0, 0, ...</td>\n",
       "    </tr>\n",
       "    <tr>\n",
       "      <th>...</th>\n",
       "      <td>...</td>\n",
       "      <td>...</td>\n",
       "    </tr>\n",
       "    <tr>\n",
       "      <th>51305</th>\n",
       "      <td>[2, 395, 449, 7510, 9745, 224, 3, 0, 0, 0, 0, ...</td>\n",
       "      <td>[2, 2434, 10370, 294, 7921, 224, 3, 0, 0, 0, 0...</td>\n",
       "    </tr>\n",
       "    <tr>\n",
       "      <th>71408</th>\n",
       "      <td>[2, 818, 1521, 265, 11859, 2489, 1057, 224, 3,...</td>\n",
       "      <td>[2, 311, 1308, 410, 2019, 4332, 7268, 224, 3, ...</td>\n",
       "    </tr>\n",
       "    <tr>\n",
       "      <th>126632</th>\n",
       "      <td>[2, 300, 1020, 18612, 370, 300, 2178, 1578, 39...</td>\n",
       "      <td>[2, 492, 18258, 14174, 1319, 438, 2523, 298, 3...</td>\n",
       "    </tr>\n",
       "    <tr>\n",
       "      <th>72307</th>\n",
       "      <td>[2, 300, 2337, 384, 585, 2579, 224, 3, 0, 0, 0...</td>\n",
       "      <td>[2, 321, 2055, 767, 573, 2722, 224, 3, 0, 0, 0...</td>\n",
       "    </tr>\n",
       "    <tr>\n",
       "      <th>122143</th>\n",
       "      <td>[2, 568, 449, 822, 989, 904, 606, 1111, 382, 4...</td>\n",
       "      <td>[2, 664, 7408, 1295, 627, 5153, 265, 1566, 179...</td>\n",
       "    </tr>\n",
       "  </tbody>\n",
       "</table>\n",
       "<p>128982 rows × 2 columns</p>\n",
       "</div>"
      ],
      "text/plain": [
       "                                                  English  \\\n",
       "31434   [2, 361, 1220, 979, 272, 328, 224, 3, 0, 0, 0,...   \n",
       "4210    [2, 701, 6740, 224, 3, 0, 0, 0, 0, 0, 0, 0, 0,...   \n",
       "38154   [2, 575, 304, 2149, 328, 804, 224, 3, 0, 0, 0,...   \n",
       "6026    [2, 576, 2345, 224, 3, 0, 0, 0, 0, 0, 0, 0, 0,...   \n",
       "18470   [2, 270, 1056, 448, 8255, 224, 3, 0, 0, 0, 0, ...   \n",
       "...                                                   ...   \n",
       "51305   [2, 395, 449, 7510, 9745, 224, 3, 0, 0, 0, 0, ...   \n",
       "71408   [2, 818, 1521, 265, 11859, 2489, 1057, 224, 3,...   \n",
       "126632  [2, 300, 1020, 18612, 370, 300, 2178, 1578, 39...   \n",
       "72307   [2, 300, 2337, 384, 585, 2579, 224, 3, 0, 0, 0...   \n",
       "122143  [2, 568, 449, 822, 989, 904, 606, 1111, 382, 4...   \n",
       "\n",
       "                                                  Spanish  \n",
       "31434   [2, 302, 328, 745, 265, 2135, 265, 958, 224, 3...  \n",
       "4210    [2, 2187, 7301, 224, 3, 0, 0, 0, 0, 0, 0, 0, 0...  \n",
       "38154   [2, 328, 6552, 265, 321, 644, 224, 3, 0, 0, 0,...  \n",
       "6026    [2, 1368, 3457, 224, 3, 0, 0, 0, 0, 0, 0, 0, 0...  \n",
       "18470   [2, 328, 2816, 474, 5297, 224, 3, 0, 0, 0, 0, ...  \n",
       "...                                                   ...  \n",
       "51305   [2, 2434, 10370, 294, 7921, 224, 3, 0, 0, 0, 0...  \n",
       "71408   [2, 311, 1308, 410, 2019, 4332, 7268, 224, 3, ...  \n",
       "126632  [2, 492, 18258, 14174, 1319, 438, 2523, 298, 3...  \n",
       "72307   [2, 321, 2055, 767, 573, 2722, 224, 3, 0, 0, 0...  \n",
       "122143  [2, 664, 7408, 1295, 627, 5153, 265, 1566, 179...  \n",
       "\n",
       "[128982 rows x 2 columns]"
      ]
     },
     "execution_count": 2,
     "metadata": {},
     "output_type": "execute_result"
    }
   ],
   "source": [
    "import ast\n",
    "\n",
    "df[\"English\"] = df[\"English\"].apply(ast.literal_eval)\n",
    "df[\"Spanish\"] = df[\"Spanish\"].apply(ast.literal_eval)\n",
    "df"
   ]
  },
  {
   "cell_type": "code",
   "execution_count": 3,
   "id": "00e57664",
   "metadata": {
    "execution": {
     "iopub.execute_input": "2025-03-22T08:33:13.913838Z",
     "iopub.status.busy": "2025-03-22T08:33:13.913610Z",
     "iopub.status.idle": "2025-03-22T08:33:17.462804Z",
     "shell.execute_reply": "2025-03-22T08:33:17.462115Z"
    },
    "id": "p8fPYQBWAU3X",
    "papermill": {
     "duration": 3.555074,
     "end_time": "2025-03-22T08:33:17.464352",
     "exception": false,
     "start_time": "2025-03-22T08:33:13.909278",
     "status": "completed"
    },
    "tags": []
   },
   "outputs": [],
   "source": [
    "import torch\n",
    "from torch.utils.data import DataLoader, TensorDataset\n",
    "\n",
    "train_data = TensorDataset(\n",
    "    torch.tensor(df[\"English\"][:100000].tolist(), dtype=torch.long),\n",
    "    torch.tensor(df[\"Spanish\"][:100000].tolist(), dtype=torch.long),\n",
    ")\n",
    "test_data = TensorDataset(\n",
    "    torch.tensor(df[\"English\"][100000:].tolist(), dtype=torch.long),\n",
    "    torch.tensor(df[\"Spanish\"][100000:].tolist(), dtype=torch.long),\n",
    ")\n",
    "train_loader = DataLoader(train_data, batch_size=256, shuffle=True, drop_last=True)\n",
    "test_loader = DataLoader(test_data, batch_size=256, shuffle=False, drop_last=True)"
   ]
  },
  {
   "cell_type": "code",
   "execution_count": 4,
   "id": "7c909238",
   "metadata": {
    "execution": {
     "iopub.execute_input": "2025-03-22T08:33:17.473267Z",
     "iopub.status.busy": "2025-03-22T08:33:17.472900Z",
     "iopub.status.idle": "2025-03-22T08:33:17.505118Z",
     "shell.execute_reply": "2025-03-22T08:33:17.504544Z"
    },
    "id": "_9tn5YdUAU3X",
    "papermill": {
     "duration": 0.037676,
     "end_time": "2025-03-22T08:33:17.506191",
     "exception": false,
     "start_time": "2025-03-22T08:33:17.468515",
     "status": "completed"
    },
    "tags": []
   },
   "outputs": [],
   "source": [
    "import json\n",
    "\n",
    "with open(f\"EnglishOrSpanish/vocab.json\", \"r\") as f:\n",
    "    vocab = json.load(f)"
   ]
  },
  {
   "cell_type": "code",
   "execution_count": 66,
   "id": "c447b98e",
   "metadata": {
    "execution": {
     "iopub.execute_input": "2025-03-22T08:33:17.514533Z",
     "iopub.status.busy": "2025-03-22T08:33:17.514276Z",
     "iopub.status.idle": "2025-03-22T08:33:17.519538Z",
     "shell.execute_reply": "2025-03-22T08:33:17.518960Z"
    },
    "id": "KIMlq-cdAU3Y",
    "papermill": {
     "duration": 0.010536,
     "end_time": "2025-03-22T08:33:17.520630",
     "exception": false,
     "start_time": "2025-03-22T08:33:17.510094",
     "status": "completed"
    },
    "tags": []
   },
   "outputs": [],
   "source": [
    "import torch\n",
    "import torch.nn as nn\n",
    "\n",
    "\n",
    "class Encoder(nn.Module):\n",
    "    def __init__(\n",
    "        self, vocab_size, embedding_dim, hidden_size, num_layers=2, dropout=0.3\n",
    "    ):\n",
    "        super(Encoder, self).__init__()\n",
    "        self.hidden_size = hidden_size\n",
    "        self.num_layers = num_layers\n",
    "        self.vocab_size = vocab_size\n",
    "\n",
    "        self.embedding = nn.Embedding(vocab_size, embedding_dim, padding_idx=0)\n",
    "        self.lstm = nn.LSTM(\n",
    "            embedding_dim,\n",
    "            hidden_size,\n",
    "            num_layers=num_layers,\n",
    "            batch_first=True,\n",
    "            bidirectional=True,\n",
    "            dropout=dropout,\n",
    "        )\n",
    "        self.dropout = nn.Dropout(dropout)\n",
    "\n",
    "        self.apply(self._init_weights)\n",
    "\n",
    "    def _init_weights(self, module):\n",
    "        if isinstance(module, nn.LSTM):\n",
    "            for name, param in module.named_parameters():\n",
    "                if \"weight\" in name:\n",
    "                    nn.init.xavier_uniform_(param)\n",
    "                elif \"bias\" in name:\n",
    "                    nn.init.zeros_(param)\n",
    "\n",
    "    def forward(self, x):\n",
    "        embedded = self.dropout(self.embedding(x))\n",
    "        output, (hidden, cell) = self.lstm(embedded)\n",
    "        return output, hidden, cell"
   ]
  },
  {
   "cell_type": "code",
   "execution_count": 67,
   "id": "23cca2e1",
   "metadata": {
    "execution": {
     "iopub.execute_input": "2025-03-22T08:33:17.528599Z",
     "iopub.status.busy": "2025-03-22T08:33:17.528355Z",
     "iopub.status.idle": "2025-03-22T08:33:17.532832Z",
     "shell.execute_reply": "2025-03-22T08:33:17.532212Z"
    },
    "id": "7MEXFtjhAU3Y",
    "papermill": {
     "duration": 0.00976,
     "end_time": "2025-03-22T08:33:17.534001",
     "exception": false,
     "start_time": "2025-03-22T08:33:17.524241",
     "status": "completed"
    },
    "tags": []
   },
   "outputs": [],
   "source": [
    "class Attention(nn.Module):\n",
    "    def __init__(self, hidden_size):\n",
    "        super(Attention, self).__init__()\n",
    "        self.hidden_size = hidden_size\n",
    "\n",
    "        self.W1 = nn.Linear(hidden_size, hidden_size)\n",
    "        self.W2 = nn.Linear(hidden_size * 2, hidden_size)\n",
    "        self.v = nn.Linear(hidden_size, 1, bias=False)\n",
    "\n",
    "    def forward(self, hidden, enc_out):\n",
    "        hidden = hidden.unsqueeze(1)\n",
    "        score = self.v(torch.tanh(self.W1(hidden) + self.W2(enc_out)))\n",
    "        attention_weights = torch.softmax(score, dim=1)\n",
    "        context_vector = torch.sum(attention_weights * enc_out, dim=1)\n",
    "        return context_vector, attention_weights"
   ]
  },
  {
   "cell_type": "code",
   "execution_count": 68,
   "id": "284fcfc3",
   "metadata": {
    "execution": {
     "iopub.execute_input": "2025-03-22T08:33:17.542159Z",
     "iopub.status.busy": "2025-03-22T08:33:17.541957Z",
     "iopub.status.idle": "2025-03-22T08:33:17.547997Z",
     "shell.execute_reply": "2025-03-22T08:33:17.547405Z"
    },
    "id": "B-kd_lvxAU3Y",
    "papermill": {
     "duration": 0.011398,
     "end_time": "2025-03-22T08:33:17.549178",
     "exception": false,
     "start_time": "2025-03-22T08:33:17.537780",
     "status": "completed"
    },
    "tags": []
   },
   "outputs": [],
   "source": [
    "import torch\n",
    "import torch.nn as nn\n",
    "\n",
    "\n",
    "class Decoder(nn.Module):\n",
    "    def __init__(\n",
    "        self, vocab_size, embedding_dim, hidden_size, num_layers=2, dropout=0.3\n",
    "    ):\n",
    "        super(Decoder, self).__init__()\n",
    "        self.hidden_size = hidden_size\n",
    "        self.num_layers = num_layers\n",
    "        self.vocab_size = vocab_size\n",
    "\n",
    "        self.embedding = nn.Embedding(vocab_size, embedding_dim, padding_idx=0)\n",
    "\n",
    "        self.lstm = nn.LSTM(\n",
    "            embedding_dim + hidden_size * 2,\n",
    "            hidden_size,\n",
    "            num_layers=num_layers,\n",
    "            batch_first=True,\n",
    "            dropout=dropout,\n",
    "            bidirectional=True,\n",
    "        )\n",
    "        self.fc = nn.Linear(hidden_size * 2, vocab_size)\n",
    "        self.dropout = nn.Dropout(dropout)\n",
    "        self.attention = Attention(hidden_size)\n",
    "        self.apply(self._init_weights)\n",
    "\n",
    "    def _init_weights(self, module):\n",
    "        if isinstance(module, nn.LSTM):\n",
    "            for name, param in module.named_parameters():\n",
    "                if \"weight\" in name:\n",
    "                    nn.init.xavier_uniform_(param)\n",
    "                elif \"bias\" in name:\n",
    "                    nn.init.zeros_(param)\n",
    "\n",
    "    def forward(self, x, hidden, cell, enc_out):\n",
    "        attention_vector, _ = self.attention(hidden[0], enc_out)\n",
    "        x = self.embedding(x)\n",
    "        x = torch.cat((attention_vector, x), dim=-1)\n",
    "        x = x.unsqueeze(1)\n",
    "        output, (hidden, cell) = self.lstm(x, (hidden, cell))\n",
    "        output = self.dropout(output)\n",
    "        output = self.fc(output)\n",
    "        return output, hidden, cell"
   ]
  },
  {
   "cell_type": "code",
   "execution_count": 69,
   "id": "1975efd7",
   "metadata": {
    "execution": {
     "iopub.execute_input": "2025-03-22T08:33:17.557283Z",
     "iopub.status.busy": "2025-03-22T08:33:17.557085Z",
     "iopub.status.idle": "2025-03-22T08:33:17.563462Z",
     "shell.execute_reply": "2025-03-22T08:33:17.562864Z"
    },
    "id": "-pWuqe9Fvw4o",
    "papermill": {
     "duration": 0.011824,
     "end_time": "2025-03-22T08:33:17.564703",
     "exception": false,
     "start_time": "2025-03-22T08:33:17.552879",
     "status": "completed"
    },
    "tags": []
   },
   "outputs": [],
   "source": [
    "import torch.nn as nn\n",
    "import torch\n",
    "import random\n",
    "\n",
    "class Seq2Seq(nn.Module):\n",
    "    def __init__(self, encoder, decoder, vocab_size, teacher_forcing_ratio=0.5):\n",
    "        super(Seq2Seq, self).__init__()\n",
    "        self.encoder = encoder\n",
    "        self.decoder = decoder\n",
    "        self.vocab_size = vocab_size\n",
    "        self.teacher_forcing_ratio = teacher_forcing_ratio\n",
    "\n",
    "    def forward(self, src, trg):\n",
    "        enc_out, hidden, cell = self.encoder(src)\n",
    "        outputs = torch.zeros(trg.shape[0], trg.shape[1], self.decoder.vocab_size).to(\"cuda\")\n",
    "        x = trg[:, 0]\n",
    "        for t in range(1, trg.shape[1]):\n",
    "            output, hidden, cell = self.decoder(x, hidden, cell, enc_out)\n",
    "            output = output.squeeze(1)\n",
    "            outputs[:, t, :] = output\n",
    "            use_teacher_forcing = random.random() < self.teacher_forcing_ratio\n",
    "            x = trg[:, t] if use_teacher_forcing else output.argmax(dim=1)\n",
    "\n",
    "        return outputs\n",
    "    \n",
    "    def predict(self, src):\n",
    "        enc_out, hidden, cell = self.encoder(src)\n",
    "        outputs = torch.zeros(src.shape[0], src.shape[1], self.decoder.vocab_size).to(\"cuda\")\n",
    "        x = src[:, 0]\n",
    "        for i in range(1, src.shape[1]):\n",
    "            output, hidden, cell = self.decoder(x, hidden, cell, enc_out)\n",
    "            output = output.squeeze(1)\n",
    "            outputs[:, i, :] = output\n",
    "            x = output.argmax(dim=1)\n",
    "        \n",
    "        return outputs"
   ]
  },
  {
   "cell_type": "code",
   "execution_count": null,
   "id": "58ee5e17",
   "metadata": {
    "execution": {
     "iopub.execute_input": "2025-03-22T08:33:17.573006Z",
     "iopub.status.busy": "2025-03-22T08:33:17.572809Z",
     "iopub.status.idle": "2025-03-22T08:33:28.576477Z",
     "shell.execute_reply": "2025-03-22T08:33:28.575803Z"
    },
    "id": "oZnO_wztAU3Y",
    "papermill": {
     "duration": 11.009511,
     "end_time": "2025-03-22T08:33:28.578034",
     "exception": false,
     "start_time": "2025-03-22T08:33:17.568523",
     "status": "completed"
    },
    "tags": []
   },
   "outputs": [
    {
     "name": "stderr",
     "output_type": "stream",
     "text": [
      "2025-03-23 00:06:16.804905: I tensorflow/core/util/port.cc:153] oneDNN custom operations are on. You may see slightly different numerical results due to floating-point round-off errors from different computation orders. To turn them off, set the environment variable `TF_ENABLE_ONEDNN_OPTS=0`.\n",
      "2025-03-23 00:06:16.826606: E external/local_xla/xla/stream_executor/cuda/cuda_fft.cc:477] Unable to register cuFFT factory: Attempting to register factory for plugin cuFFT when one has already been registered\n",
      "WARNING: All log messages before absl::InitializeLog() is called are written to STDERR\n",
      "E0000 00:00:1742668576.857692   10912 cuda_dnn.cc:8310] Unable to register cuDNN factory: Attempting to register factory for plugin cuDNN when one has already been registered\n",
      "E0000 00:00:1742668576.864500   10912 cuda_blas.cc:1418] Unable to register cuBLAS factory: Attempting to register factory for plugin cuBLAS when one has already been registered\n",
      "2025-03-23 00:06:16.887164: I tensorflow/core/platform/cpu_feature_guard.cc:210] This TensorFlow binary is optimized to use available CPU instructions in performance-critical operations.\n",
      "To enable the following instructions: AVX2 AVX_VNNI FMA, in other operations, rebuild TensorFlow with the appropriate compiler flags.\n"
     ]
    }
   ],
   "source": [
    "from torch.utils.tensorboard import SummaryWriter\n",
    "from tqdm import tqdm\n",
    "\n",
    "def train(\n",
    "        model,\n",
    "        train_loader,\n",
    "        test_loader,\n",
    "        optimizer,\n",
    "        criterion,\n",
    "        device,\n",
    "        scheduler, \n",
    "        num_epochs,\n",
    "    ):\n",
    "    writer = SummaryWriter()\n",
    "\n",
    "    for epoch in range(num_epochs):\n",
    "        print(f\"\\nEpoch {epoch+1}/{num_epochs}\")\n",
    "        model.train()\n",
    "        epoch_loss = 0\n",
    "        progress_bar = tqdm(train_loader, desc=\"Training\", leave=False)\n",
    "\n",
    "        for src, trg in progress_bar:\n",
    "            src, trg = src.to(device), trg.to(device)\n",
    "            optimizer.zero_grad()\n",
    "            outputs = model(src, trg)\n",
    "            loss = criterion(\n",
    "                    outputs[:, 1:].reshape(-1, model.vocab_size), trg[:, 1:].reshape(-1)\n",
    "                )\n",
    "            loss.backward()\n",
    "            optimizer.step()\n",
    "\n",
    "            epoch_loss += loss.item()\n",
    "\n",
    "            progress_bar.set_postfix(\n",
    "                    loss=f\"{loss.item():.4f}\"\n",
    "                )\n",
    "\n",
    "        train_loss = epoch_loss / len(train_loader)\n",
    "\n",
    "        # ---------------- VALIDATION ---------------- #\n",
    "        model.eval()\n",
    "        val_epoch_loss = 0\n",
    "        progress_bar = tqdm(test_loader, desc=\"Validating\", leave=False)\n",
    "\n",
    "        with torch.no_grad():\n",
    "            for src, trg in progress_bar:\n",
    "                src, trg = src.to(device), trg.to(device)\n",
    "                outputs = model(src, trg)\n",
    "                loss = criterion(\n",
    "                        outputs[:, 1:].reshape(-1, model.vocab_size),\n",
    "                        trg[:, 1:].reshape(-1),\n",
    "                    )\n",
    "                val_epoch_loss += loss.item()\n",
    "\n",
    "                progress_bar.set_postfix(\n",
    "                        loss=f\"{loss.item():.4f}\"\n",
    "                    )\n",
    "\n",
    "        val_loss = val_epoch_loss / len(test_loader)\n",
    "        scheduler.step(val_loss)\n",
    "\n",
    "        # Log metrics to TensorBoard\n",
    "        writer.add_scalar(\"Loss/Train\", train_loss, epoch)\n",
    "        writer.add_scalar(\"Loss/Validation\", val_loss, epoch)\n",
    "        writer.add_scalar(\"Learning Rate\", scheduler.get_last_lr()[0], epoch)\n",
    "\n",
    "        print(\n",
    "            f\"Train loss : {train_loss}, Val_loss : {val_loss}, lr: {scheduler.get_last_lr()[0]}\"\n",
    "        )\n",
    "\n",
    "    writer.close()\n",
    "    return train_loss, val_loss"
   ]
  },
  {
   "cell_type": "code",
   "execution_count": 11,
   "id": "c1209626",
   "metadata": {
    "execution": {
     "iopub.execute_input": "2025-03-22T08:33:28.587034Z",
     "iopub.status.busy": "2025-03-22T08:33:28.586585Z",
     "iopub.status.idle": "2025-03-22T08:33:32.654256Z",
     "shell.execute_reply": "2025-03-22T08:33:32.653597Z"
    },
    "id": "rXj3XkiAAU3a",
    "papermill": {
     "duration": 4.073618,
     "end_time": "2025-03-22T08:33:32.655739",
     "exception": false,
     "start_time": "2025-03-22T08:33:28.582121",
     "status": "completed"
    },
    "tags": []
   },
   "outputs": [],
   "source": [
    "import torch\n",
    "import torch.nn as nn\n",
    "import torch.optim as optim\n",
    "from tqdm import tqdm\n",
    "\n",
    "device = torch.device(\"cuda\" if torch.cuda.is_available() else \"cpu\")\n",
    "\n",
    "vocab_size = len(vocab)\n",
    "embedding_dim = 256\n",
    "hidden_size = 64\n",
    "encoder = Encoder(vocab_size, embedding_dim, hidden_size).to(device)\n",
    "decoder = Decoder(vocab_size, embedding_dim, hidden_size).to(device)\n",
    "seq2seq = Seq2Seq(encoder, decoder, vocab_size).to(device)\n",
    "criterion = nn.CrossEntropyLoss(ignore_index=0)\n",
    "optimizer = optim.Adam(seq2seq.parameters(), lr=0.005, weight_decay=1e-5)\n",
    "scheduler = optim.lr_scheduler.ReduceLROnPlateau(\n",
    "    optimizer, mode=\"min\", factor=0.5, patience=2\n",
    ")"
   ]
  },
  {
   "cell_type": "code",
   "execution_count": 12,
   "id": "dbbbb061",
   "metadata": {
    "execution": {
     "iopub.execute_input": "2025-03-22T08:33:32.664753Z",
     "iopub.status.busy": "2025-03-22T08:33:32.664259Z",
     "iopub.status.idle": "2025-03-22T13:39:55.700683Z",
     "shell.execute_reply": "2025-03-22T13:39:55.699901Z"
    },
    "id": "wsk2HEv5AU3a",
    "outputId": "3018e54b-2be5-411e-f471-b6f8e41ac256",
    "papermill": {
     "duration": 18383.042068,
     "end_time": "2025-03-22T13:39:55.701920",
     "exception": false,
     "start_time": "2025-03-22T08:33:32.659852",
     "status": "completed"
    },
    "tags": []
   },
   "outputs": [
    {
     "name": "stdout",
     "output_type": "stream",
     "text": [
      "\n",
      "Epoch 1/60\n"
     ]
    },
    {
     "name": "stderr",
     "output_type": "stream",
     "text": [
      "                                                                          \r"
     ]
    },
    {
     "name": "stdout",
     "output_type": "stream",
     "text": [
      "Train loss : 5.398456978186583, Val_loss : 4.6444296077289415, lr: 0.005\n",
      "\n",
      "Epoch 2/60\n"
     ]
    },
    {
     "name": "stderr",
     "output_type": "stream",
     "text": [
      "                                                                          \r"
     ]
    },
    {
     "name": "stdout",
     "output_type": "stream",
     "text": [
      "Train loss : 4.4553677999056305, Val_loss : 4.00223692328529, lr: 0.005\n",
      "\n",
      "Epoch 3/60\n"
     ]
    },
    {
     "name": "stderr",
     "output_type": "stream",
     "text": [
      "                                                                          \r"
     ]
    },
    {
     "name": "stdout",
     "output_type": "stream",
     "text": [
      "Train loss : 3.9469068808433336, Val_loss : 3.54923131191625, lr: 0.005\n",
      "\n",
      "Epoch 4/60\n"
     ]
    },
    {
     "name": "stderr",
     "output_type": "stream",
     "text": [
      "                                                                          \r"
     ]
    },
    {
     "name": "stdout",
     "output_type": "stream",
     "text": [
      "Train loss : 3.557183112242283, Val_loss : 3.2092477220349607, lr: 0.005\n",
      "\n",
      "Epoch 5/60\n"
     ]
    },
    {
     "name": "stderr",
     "output_type": "stream",
     "text": [
      "                                                                          \r"
     ]
    },
    {
     "name": "stdout",
     "output_type": "stream",
     "text": [
      "Train loss : 3.2803707153369217, Val_loss : 2.9788911722402656, lr: 0.005\n",
      "\n",
      "Epoch 6/60\n"
     ]
    },
    {
     "name": "stderr",
     "output_type": "stream",
     "text": [
      "                                                                          \r"
     ]
    },
    {
     "name": "stdout",
     "output_type": "stream",
     "text": [
      "Train loss : 3.066326252008096, Val_loss : 2.7927831021030394, lr: 0.005\n",
      "\n",
      "Epoch 7/60\n"
     ]
    },
    {
     "name": "stderr",
     "output_type": "stream",
     "text": [
      "                                                                          \r"
     ]
    },
    {
     "name": "stdout",
     "output_type": "stream",
     "text": [
      "Train loss : 2.910721849783873, Val_loss : 2.680024222990053, lr: 0.005\n",
      "\n",
      "Epoch 8/60\n"
     ]
    },
    {
     "name": "stderr",
     "output_type": "stream",
     "text": [
      "                                                                          \r"
     ]
    },
    {
     "name": "stdout",
     "output_type": "stream",
     "text": [
      "Train loss : 2.81575026451013, Val_loss : 2.581795133320631, lr: 0.005\n",
      "\n",
      "Epoch 9/60\n"
     ]
    },
    {
     "name": "stderr",
     "output_type": "stream",
     "text": [
      "                                                                          \r"
     ]
    },
    {
     "name": "stdout",
     "output_type": "stream",
     "text": [
      "Train loss : 2.715116331516168, Val_loss : 2.53244538222794, lr: 0.005\n",
      "\n",
      "Epoch 10/60\n"
     ]
    },
    {
     "name": "stderr",
     "output_type": "stream",
     "text": [
      "                                                                          \r"
     ]
    },
    {
     "name": "stdout",
     "output_type": "stream",
     "text": [
      "Train loss : 2.6516647008749157, Val_loss : 2.482578079257391, lr: 0.005\n",
      "\n",
      "Epoch 11/60\n"
     ]
    },
    {
     "name": "stderr",
     "output_type": "stream",
     "text": [
      "                                                                          \r"
     ]
    },
    {
     "name": "stdout",
     "output_type": "stream",
     "text": [
      "Train loss : 2.6027147244184445, Val_loss : 2.415061994991471, lr: 0.005\n",
      "\n",
      "Epoch 12/60\n"
     ]
    },
    {
     "name": "stderr",
     "output_type": "stream",
     "text": [
      "                                                                          \r"
     ]
    },
    {
     "name": "stdout",
     "output_type": "stream",
     "text": [
      "Train loss : 2.548879899734106, Val_loss : 2.4120212761701736, lr: 0.005\n",
      "\n",
      "Epoch 13/60\n"
     ]
    },
    {
     "name": "stderr",
     "output_type": "stream",
     "text": [
      "                                                                          \r"
     ]
    },
    {
     "name": "stdout",
     "output_type": "stream",
     "text": [
      "Train loss : 2.520582443017226, Val_loss : 2.3966853703017783, lr: 0.005\n",
      "\n",
      "Epoch 14/60\n"
     ]
    },
    {
     "name": "stderr",
     "output_type": "stream",
     "text": [
      "                                                                          \r"
     ]
    },
    {
     "name": "stdout",
     "output_type": "stream",
     "text": [
      "Train loss : 2.4777613853796936, Val_loss : 2.3741126482465624, lr: 0.005\n",
      "\n",
      "Epoch 15/60\n"
     ]
    },
    {
     "name": "stderr",
     "output_type": "stream",
     "text": [
      "                                                                          \r"
     ]
    },
    {
     "name": "stdout",
     "output_type": "stream",
     "text": [
      "Train loss : 2.459987807885194, Val_loss : 2.3373464272085545, lr: 0.005\n",
      "\n",
      "Epoch 16/60\n"
     ]
    },
    {
     "name": "stderr",
     "output_type": "stream",
     "text": [
      "                                                                          \r"
     ]
    },
    {
     "name": "stdout",
     "output_type": "stream",
     "text": [
      "Train loss : 2.435475818316142, Val_loss : 2.306995743143875, lr: 0.005\n",
      "\n",
      "Epoch 17/60\n"
     ]
    },
    {
     "name": "stderr",
     "output_type": "stream",
     "text": [
      "                                                                          \r"
     ]
    },
    {
     "name": "stdout",
     "output_type": "stream",
     "text": [
      "Train loss : 2.412485931775509, Val_loss : 2.3356082165135748, lr: 0.005\n",
      "\n",
      "Epoch 18/60\n"
     ]
    },
    {
     "name": "stderr",
     "output_type": "stream",
     "text": [
      "                                                                          \r"
     ]
    },
    {
     "name": "stdout",
     "output_type": "stream",
     "text": [
      "Train loss : 2.3796257553956446, Val_loss : 2.278501580246782, lr: 0.005\n",
      "\n",
      "Epoch 19/60\n"
     ]
    },
    {
     "name": "stderr",
     "output_type": "stream",
     "text": [
      "                                                                          \r"
     ]
    },
    {
     "name": "stdout",
     "output_type": "stream",
     "text": [
      "Train loss : 2.35996735676741, Val_loss : 2.292058798064173, lr: 0.005\n",
      "\n",
      "Epoch 20/60\n"
     ]
    },
    {
     "name": "stderr",
     "output_type": "stream",
     "text": [
      "                                                                          \r"
     ]
    },
    {
     "name": "stdout",
     "output_type": "stream",
     "text": [
      "Train loss : 2.3498346264545735, Val_loss : 2.2519915874025465, lr: 0.005\n",
      "\n",
      "Epoch 21/60\n"
     ]
    },
    {
     "name": "stderr",
     "output_type": "stream",
     "text": [
      "                                                                          \r"
     ]
    },
    {
     "name": "stdout",
     "output_type": "stream",
     "text": [
      "Train loss : 2.341459852609879, Val_loss : 2.2702632625546078, lr: 0.005\n",
      "\n",
      "Epoch 22/60\n"
     ]
    },
    {
     "name": "stderr",
     "output_type": "stream",
     "text": [
      "                                                                          \r"
     ]
    },
    {
     "name": "stdout",
     "output_type": "stream",
     "text": [
      "Train loss : 2.312810076811375, Val_loss : 2.23373059044897, lr: 0.005\n",
      "\n",
      "Epoch 23/60\n"
     ]
    },
    {
     "name": "stderr",
     "output_type": "stream",
     "text": [
      "                                                                          \r"
     ]
    },
    {
     "name": "stdout",
     "output_type": "stream",
     "text": [
      "Train loss : 2.298126581387642, Val_loss : 2.2353562644097655, lr: 0.005\n",
      "\n",
      "Epoch 24/60\n"
     ]
    },
    {
     "name": "stderr",
     "output_type": "stream",
     "text": [
      "                                                                          \r"
     ]
    },
    {
     "name": "stdout",
     "output_type": "stream",
     "text": [
      "Train loss : 2.2933347200736023, Val_loss : 2.2261213612767445, lr: 0.005\n",
      "\n",
      "Epoch 25/60\n"
     ]
    },
    {
     "name": "stderr",
     "output_type": "stream",
     "text": [
      "                                                                          \r"
     ]
    },
    {
     "name": "stdout",
     "output_type": "stream",
     "text": [
      "Train loss : 2.2864191724703864, Val_loss : 2.2349064371227163, lr: 0.005\n",
      "\n",
      "Epoch 26/60\n"
     ]
    },
    {
     "name": "stderr",
     "output_type": "stream",
     "text": [
      "                                                                          \r"
     ]
    },
    {
     "name": "stdout",
     "output_type": "stream",
     "text": [
      "Train loss : 2.2628605836477034, Val_loss : 2.2169263025300694, lr: 0.005\n",
      "\n",
      "Epoch 27/60\n"
     ]
    },
    {
     "name": "stderr",
     "output_type": "stream",
     "text": [
      "                                                                          \r"
     ]
    },
    {
     "name": "stdout",
     "output_type": "stream",
     "text": [
      "Train loss : 2.254252044359843, Val_loss : 2.2322471120716196, lr: 0.005\n",
      "\n",
      "Epoch 28/60\n"
     ]
    },
    {
     "name": "stderr",
     "output_type": "stream",
     "text": [
      "                                                                          \r"
     ]
    },
    {
     "name": "stdout",
     "output_type": "stream",
     "text": [
      "Train loss : 2.2509205555304503, Val_loss : 2.1964069900259506, lr: 0.005\n",
      "\n",
      "Epoch 29/60\n"
     ]
    },
    {
     "name": "stderr",
     "output_type": "stream",
     "text": [
      "                                                                          \r"
     ]
    },
    {
     "name": "stdout",
     "output_type": "stream",
     "text": [
      "Train loss : 2.225737711099478, Val_loss : 2.1975157461335173, lr: 0.005\n",
      "\n",
      "Epoch 30/60\n"
     ]
    },
    {
     "name": "stderr",
     "output_type": "stream",
     "text": [
      "                                                                          \r"
     ]
    },
    {
     "name": "stdout",
     "output_type": "stream",
     "text": [
      "Train loss : 2.2376599917045006, Val_loss : 2.195589998127085, lr: 0.005\n",
      "\n",
      "Epoch 31/60\n"
     ]
    },
    {
     "name": "stderr",
     "output_type": "stream",
     "text": [
      "                                                                          \r"
     ]
    },
    {
     "name": "stdout",
     "output_type": "stream",
     "text": [
      "Train loss : 2.2149676533845755, Val_loss : 2.197866728875489, lr: 0.005\n",
      "\n",
      "Epoch 32/60\n"
     ]
    },
    {
     "name": "stderr",
     "output_type": "stream",
     "text": [
      "                                                                          \r"
     ]
    },
    {
     "name": "stdout",
     "output_type": "stream",
     "text": [
      "Train loss : 2.2185200058496917, Val_loss : 2.184984509923817, lr: 0.005\n",
      "\n",
      "Epoch 33/60\n"
     ]
    },
    {
     "name": "stderr",
     "output_type": "stream",
     "text": [
      "                                                                          \r"
     ]
    },
    {
     "name": "stdout",
     "output_type": "stream",
     "text": [
      "Train loss : 2.203610423283699, Val_loss : 2.1883838102880833, lr: 0.005\n",
      "\n",
      "Epoch 34/60\n"
     ]
    },
    {
     "name": "stderr",
     "output_type": "stream",
     "text": [
      "                                                                          \r"
     ]
    },
    {
     "name": "stdout",
     "output_type": "stream",
     "text": [
      "Train loss : 2.2014743129412335, Val_loss : 2.177044713391667, lr: 0.005\n",
      "\n",
      "Epoch 35/60\n"
     ]
    },
    {
     "name": "stderr",
     "output_type": "stream",
     "text": [
      "                                                                          \r"
     ]
    },
    {
     "name": "stdout",
     "output_type": "stream",
     "text": [
      "Train loss : 2.1831682358032616, Val_loss : 2.2099141789748606, lr: 0.005\n",
      "\n",
      "Epoch 36/60\n"
     ]
    },
    {
     "name": "stderr",
     "output_type": "stream",
     "text": [
      "                                                                          \r"
     ]
    },
    {
     "name": "stdout",
     "output_type": "stream",
     "text": [
      "Train loss : 2.2014468706571138, Val_loss : 2.19014001209124, lr: 0.005\n",
      "\n",
      "Epoch 37/60\n"
     ]
    },
    {
     "name": "stderr",
     "output_type": "stream",
     "text": [
      "                                                                          \r"
     ]
    },
    {
     "name": "stdout",
     "output_type": "stream",
     "text": [
      "Train loss : 2.1592295658894076, Val_loss : 2.155659317970276, lr: 0.005\n",
      "\n",
      "Epoch 38/60\n"
     ]
    },
    {
     "name": "stderr",
     "output_type": "stream",
     "text": [
      "                                                                          \r"
     ]
    },
    {
     "name": "stdout",
     "output_type": "stream",
     "text": [
      "Train loss : 2.161361927863879, Val_loss : 2.1386252747172803, lr: 0.005\n",
      "\n",
      "Epoch 39/60\n"
     ]
    },
    {
     "name": "stderr",
     "output_type": "stream",
     "text": [
      "                                                                          \r"
     ]
    },
    {
     "name": "stdout",
     "output_type": "stream",
     "text": [
      "Train loss : 2.1684206968698745, Val_loss : 2.1441068332807154, lr: 0.005\n",
      "\n",
      "Epoch 40/60\n"
     ]
    },
    {
     "name": "stderr",
     "output_type": "stream",
     "text": [
      "                                                                          \r"
     ]
    },
    {
     "name": "stdout",
     "output_type": "stream",
     "text": [
      "Train loss : 2.1643929671018554, Val_loss : 2.1469616668414226, lr: 0.005\n",
      "\n",
      "Epoch 41/60\n"
     ]
    },
    {
     "name": "stderr",
     "output_type": "stream",
     "text": [
      "                                                                          \r"
     ]
    },
    {
     "name": "stdout",
     "output_type": "stream",
     "text": [
      "Train loss : 2.1527476237370418, Val_loss : 2.1505478462286756, lr: 0.0025\n",
      "\n",
      "Epoch 42/60\n"
     ]
    },
    {
     "name": "stderr",
     "output_type": "stream",
     "text": [
      "                                                                          \r"
     ]
    },
    {
     "name": "stdout",
     "output_type": "stream",
     "text": [
      "Train loss : 2.015419987531809, Val_loss : 2.072085740291967, lr: 0.0025\n",
      "\n",
      "Epoch 43/60\n"
     ]
    },
    {
     "name": "stderr",
     "output_type": "stream",
     "text": [
      "                                                                          \r"
     ]
    },
    {
     "name": "stdout",
     "output_type": "stream",
     "text": [
      "Train loss : 1.9561490538792732, Val_loss : 2.0557947728486186, lr: 0.0025\n",
      "\n",
      "Epoch 44/60\n"
     ]
    },
    {
     "name": "stderr",
     "output_type": "stream",
     "text": [
      "                                                                          \r"
     ]
    },
    {
     "name": "stdout",
     "output_type": "stream",
     "text": [
      "Train loss : 1.9460854588410794, Val_loss : 2.057917602294314, lr: 0.0025\n",
      "\n",
      "Epoch 45/60\n"
     ]
    },
    {
     "name": "stderr",
     "output_type": "stream",
     "text": [
      "                                                                          \r"
     ]
    },
    {
     "name": "stdout",
     "output_type": "stream",
     "text": [
      "Train loss : 1.9291170349487892, Val_loss : 2.0479225795880884, lr: 0.0025\n",
      "\n",
      "Epoch 46/60\n"
     ]
    },
    {
     "name": "stderr",
     "output_type": "stream",
     "text": [
      "                                                                          \r"
     ]
    },
    {
     "name": "stdout",
     "output_type": "stream",
     "text": [
      "Train loss : 1.9242138865666512, Val_loss : 2.0628936121949053, lr: 0.0025\n",
      "\n",
      "Epoch 47/60\n"
     ]
    },
    {
     "name": "stderr",
     "output_type": "stream",
     "text": [
      "                                                                          \r"
     ]
    },
    {
     "name": "stdout",
     "output_type": "stream",
     "text": [
      "Train loss : 1.9133011976877847, Val_loss : 2.0802281493634247, lr: 0.0025\n",
      "\n",
      "Epoch 48/60\n"
     ]
    },
    {
     "name": "stderr",
     "output_type": "stream",
     "text": [
      "                                                                          \r"
     ]
    },
    {
     "name": "stdout",
     "output_type": "stream",
     "text": [
      "Train loss : 1.9215977087999, Val_loss : 2.098077142133122, lr: 0.00125\n",
      "\n",
      "Epoch 49/60\n"
     ]
    },
    {
     "name": "stderr",
     "output_type": "stream",
     "text": [
      "                                                                          \r"
     ]
    },
    {
     "name": "stdout",
     "output_type": "stream",
     "text": [
      "Train loss : 1.8279445061316857, Val_loss : 2.046991122507416, lr: 0.00125\n",
      "\n",
      "Epoch 50/60\n"
     ]
    },
    {
     "name": "stderr",
     "output_type": "stream",
     "text": [
      "                                                                          \r"
     ]
    },
    {
     "name": "stdout",
     "output_type": "stream",
     "text": [
      "Train loss : 1.7998924655792041, Val_loss : 2.042541569313117, lr: 0.00125\n",
      "\n",
      "Epoch 51/60\n"
     ]
    },
    {
     "name": "stderr",
     "output_type": "stream",
     "text": [
      "                                                                          \r"
     ]
    },
    {
     "name": "stdout",
     "output_type": "stream",
     "text": [
      "Train loss : 1.7717543660066066, Val_loss : 2.022099302933279, lr: 0.00125\n",
      "\n",
      "Epoch 52/60\n"
     ]
    },
    {
     "name": "stderr",
     "output_type": "stream",
     "text": [
      "                                                                          \r"
     ]
    },
    {
     "name": "stdout",
     "output_type": "stream",
     "text": [
      "Train loss : 1.7613182388819182, Val_loss : 2.037732826924957, lr: 0.00125\n",
      "\n",
      "Epoch 53/60\n"
     ]
    },
    {
     "name": "stderr",
     "output_type": "stream",
     "text": [
      "                                                                          \r"
     ]
    },
    {
     "name": "stdout",
     "output_type": "stream",
     "text": [
      "Train loss : 1.7684732715288798, Val_loss : 2.04855791340887, lr: 0.00125\n",
      "\n",
      "Epoch 54/60\n"
     ]
    },
    {
     "name": "stderr",
     "output_type": "stream",
     "text": [
      "                                                                          \r"
     ]
    },
    {
     "name": "stdout",
     "output_type": "stream",
     "text": [
      "Train loss : 1.7664343745280535, Val_loss : 2.0461571132187295, lr: 0.000625\n",
      "\n",
      "Epoch 55/60\n"
     ]
    },
    {
     "name": "stderr",
     "output_type": "stream",
     "text": [
      "                                                                          \r"
     ]
    },
    {
     "name": "stdout",
     "output_type": "stream",
     "text": [
      "Train loss : 1.7181421506099213, Val_loss : 2.0080356313064036, lr: 0.000625\n",
      "\n",
      "Epoch 56/60\n"
     ]
    },
    {
     "name": "stderr",
     "output_type": "stream",
     "text": [
      "                                                                          \r"
     ]
    },
    {
     "name": "stdout",
     "output_type": "stream",
     "text": [
      "Train loss : 1.70082893432715, Val_loss : 2.007900820369214, lr: 0.000625\n",
      "\n",
      "Epoch 57/60\n"
     ]
    },
    {
     "name": "stderr",
     "output_type": "stream",
     "text": [
      "                                                                          \r"
     ]
    },
    {
     "name": "stdout",
     "output_type": "stream",
     "text": [
      "Train loss : 1.6974349764677195, Val_loss : 2.0174991462082987, lr: 0.000625\n",
      "\n",
      "Epoch 58/60\n"
     ]
    },
    {
     "name": "stderr",
     "output_type": "stream",
     "text": [
      "                                                                          \r"
     ]
    },
    {
     "name": "stdout",
     "output_type": "stream",
     "text": [
      "Train loss : 1.6741172179197654, Val_loss : 2.012294535088328, lr: 0.0003125\n",
      "\n",
      "Epoch 59/60\n"
     ]
    },
    {
     "name": "stderr",
     "output_type": "stream",
     "text": [
      "                                                                          \r"
     ]
    },
    {
     "name": "stdout",
     "output_type": "stream",
     "text": [
      "Train loss : 1.6385820404077187, Val_loss : 2.0219949842554277, lr: 0.0003125\n",
      "\n",
      "Epoch 60/60\n"
     ]
    },
    {
     "name": "stderr",
     "output_type": "stream",
     "text": [
      "                                                                          "
     ]
    },
    {
     "name": "stdout",
     "output_type": "stream",
     "text": [
      "Train loss : 1.6478714777873114, Val_loss : 2.018457844194058, lr: 0.0003125\n"
     ]
    },
    {
     "name": "stderr",
     "output_type": "stream",
     "text": [
      "\r"
     ]
    },
    {
     "data": {
      "text/plain": [
       "(1.6478714777873114, 2.018457844194058)"
      ]
     },
     "execution_count": 12,
     "metadata": {},
     "output_type": "execute_result"
    }
   ],
   "source": [
    "import torch\n",
    "import torch.nn.functional as F\n",
    "from tqdm import tqdm\n",
    "\n",
    "train(\n",
    "    seq2seq,\n",
    "    train_loader,\n",
    "    test_loader,\n",
    "    optimizer,\n",
    "    criterion,\n",
    "    device,\n",
    "    scheduler,\n",
    "    60,\n",
    ")"
   ]
  },
  {
   "cell_type": "code",
   "execution_count": 13,
   "id": "e2dee907",
   "metadata": {
    "execution": {
     "iopub.execute_input": "2025-03-22T13:39:58.699290Z",
     "iopub.status.busy": "2025-03-22T13:39:58.698987Z",
     "iopub.status.idle": "2025-03-22T13:39:59.033389Z",
     "shell.execute_reply": "2025-03-22T13:39:59.032657Z"
    },
    "id": "QcRGUFEp6EXC",
    "papermill": {
     "duration": 1.794293,
     "end_time": "2025-03-22T13:39:59.034902",
     "exception": false,
     "start_time": "2025-03-22T13:39:57.240609",
     "status": "completed"
    },
    "tags": []
   },
   "outputs": [],
   "source": [
    "torch.save(seq2seq.state_dict(), \"seq2seq-bidir-attention.pth\")"
   ]
  },
  {
   "cell_type": "markdown",
   "id": "ae08b2a6",
   "metadata": {},
   "source": [
    "# Evaluation"
   ]
  },
  {
   "cell_type": "code",
   "execution_count": 70,
   "id": "bcd90367",
   "metadata": {
    "execution": {
     "iopub.execute_input": "2025-03-22T13:40:01.838653Z",
     "iopub.status.busy": "2025-03-22T13:40:01.838299Z",
     "iopub.status.idle": "2025-03-22T13:40:02.120190Z",
     "shell.execute_reply": "2025-03-22T13:40:02.119433Z"
    },
    "papermill": {
     "duration": 1.733419,
     "end_time": "2025-03-22T13:40:02.121643",
     "exception": false,
     "start_time": "2025-03-22T13:40:00.388224",
     "status": "completed"
    },
    "tags": []
   },
   "outputs": [
    {
     "data": {
      "text/plain": [
       "<All keys matched successfully>"
      ]
     },
     "execution_count": 70,
     "metadata": {},
     "output_type": "execute_result"
    }
   ],
   "source": [
    "device = torch.device(\"cuda\" if torch.cuda.is_available() else \"cpu\")\n",
    "\n",
    "vocab_size = len(vocab)\n",
    "embedding_dim = 256\n",
    "hidden_size = 64\n",
    "encoder = Encoder(vocab_size, embedding_dim, hidden_size).to(device)\n",
    "decoder = Decoder(vocab_size, embedding_dim, hidden_size).to(device)\n",
    "seq2seq = Seq2Seq(encoder, decoder, vocab_size).to(device)\n",
    "seq2seq.load_state_dict(torch.load(\"seq2seq-bidir-attention.pth\", weights_only=True))"
   ]
  },
  {
   "cell_type": "code",
   "execution_count": 71,
   "id": "7f1d7ea2",
   "metadata": {
    "execution": {
     "iopub.execute_input": "2025-03-22T13:40:04.919840Z",
     "iopub.status.busy": "2025-03-22T13:40:04.919468Z",
     "iopub.status.idle": "2025-03-22T13:40:05.827035Z",
     "shell.execute_reply": "2025-03-22T13:40:05.826133Z"
    },
    "papermill": {
     "duration": 2.259685,
     "end_time": "2025-03-22T13:40:05.828388",
     "exception": false,
     "start_time": "2025-03-22T13:40:03.568703",
     "status": "completed"
    },
    "tags": []
   },
   "outputs": [
    {
     "data": {
      "text/plain": [
       "torch.Size([256, 18])"
      ]
     },
     "execution_count": 71,
     "metadata": {},
     "output_type": "execute_result"
    }
   ],
   "source": [
    "seq2seq.eval()\n",
    "# with torch.no_grad():\n",
    "a, b = next(iter(test_loader))\n",
    "a = a.to(device)\n",
    "b = b.to(device)\n",
    "with torch.no_grad():\n",
    "    x = seq2seq.predict(a)\n",
    "\n",
    "x = x.argmax(dim=2)\n",
    "x.shape"
   ]
  },
  {
   "cell_type": "code",
   "execution_count": 72,
   "id": "698ad5f1",
   "metadata": {
    "execution": {
     "iopub.execute_input": "2025-03-22T13:40:08.753801Z",
     "iopub.status.busy": "2025-03-22T13:40:08.753429Z",
     "iopub.status.idle": "2025-03-22T13:40:08.887051Z",
     "shell.execute_reply": "2025-03-22T13:40:08.886141Z"
    },
    "papermill": {
     "duration": 1.587873,
     "end_time": "2025-03-22T13:40:08.888724",
     "exception": false,
     "start_time": "2025-03-22T13:40:07.300851",
     "status": "completed"
    },
    "tags": []
   },
   "outputs": [],
   "source": [
    "from tokenizers import ByteLevelBPETokenizer\n",
    "tokenizer = ByteLevelBPETokenizer(\n",
    "    f\"EnglishOrSpanish/vocab.json\", f\"EnglishOrSpanish/merges.txt\"\n",
    ")"
   ]
  },
  {
   "cell_type": "code",
   "execution_count": 73,
   "id": "1c708e6c",
   "metadata": {},
   "outputs": [],
   "source": [
    "x = x.cpu().numpy()\n",
    "b = b.cpu().numpy()\n",
    "a = a.cpu().numpy()\n",
    "preds = []\n",
    "targets = []\n",
    "originals = []\n",
    "for i in range(x.shape[0]):\n",
    "    preds.append(tokenizer.decode(x[i]))\n",
    "    targets.append(tokenizer.decode(b[i]))\n",
    "    originals.append(tokenizer.decode(a[i]))"
   ]
  },
  {
   "cell_type": "code",
   "execution_count": 76,
   "id": "5df71f1c",
   "metadata": {},
   "outputs": [
    {
     "data": {
      "text/html": [
       "<div>\n",
       "<style scoped>\n",
       "    .dataframe tbody tr th:only-of-type {\n",
       "        vertical-align: middle;\n",
       "    }\n",
       "\n",
       "    .dataframe tbody tr th {\n",
       "        vertical-align: top;\n",
       "    }\n",
       "\n",
       "    .dataframe thead th {\n",
       "        text-align: right;\n",
       "    }\n",
       "</style>\n",
       "<table border=\"1\" class=\"dataframe\">\n",
       "  <thead>\n",
       "    <tr style=\"text-align: right;\">\n",
       "      <th></th>\n",
       "      <th>Original</th>\n",
       "      <th>Prediction</th>\n",
       "      <th>Target</th>\n",
       "    </tr>\n",
       "  </thead>\n",
       "  <tbody>\n",
       "    <tr>\n",
       "      <th>0</th>\n",
       "      <td>&lt;SOS&gt; so tom what can i do for you today &lt;EOS&gt;...</td>\n",
       "      <td>&lt;PAD&gt; así que tom qué puedo hacer por hoy &lt;EOS...</td>\n",
       "      <td>&lt;SOS&gt; así que tom qué puedo hacer hoy por ti &lt;...</td>\n",
       "    </tr>\n",
       "    <tr>\n",
       "      <th>1</th>\n",
       "      <td>&lt;SOS&gt; he has a camera &lt;EOS&gt;&lt;PAD&gt;&lt;PAD&gt;&lt;PAD&gt;&lt;PAD...</td>\n",
       "      <td>&lt;PAD&gt; él tiene una cámara &lt;EOS&gt;&lt;EOS&gt;&lt;EOS&gt;&lt;EOS&gt;...</td>\n",
       "      <td>&lt;SOS&gt; él tiene una cámara &lt;EOS&gt;&lt;PAD&gt;&lt;PAD&gt;&lt;PAD&gt;...</td>\n",
       "    </tr>\n",
       "    <tr>\n",
       "      <th>2</th>\n",
       "      <td>&lt;SOS&gt; everybody admired his courage &lt;EOS&gt;&lt;PAD&gt;...</td>\n",
       "      <td>&lt;PAD&gt; todos los mundo su su valor &lt;EOS&gt;&lt;EOS&gt;&lt;E...</td>\n",
       "      <td>&lt;SOS&gt; todo el mundo admiraba su coraje &lt;EOS&gt;&lt;P...</td>\n",
       "    </tr>\n",
       "    <tr>\n",
       "      <th>3</th>\n",
       "      <td>&lt;SOS&gt; i havent found my keys yet &lt;EOS&gt;&lt;PAD&gt;&lt;PA...</td>\n",
       "      <td>&lt;PAD&gt; todavía no he encontrado mis llaves &lt;EOS...</td>\n",
       "      <td>&lt;SOS&gt; todavía no he encontrado mis llaves &lt;EOS...</td>\n",
       "    </tr>\n",
       "    <tr>\n",
       "      <th>4</th>\n",
       "      <td>&lt;SOS&gt; where exactly is tom &lt;EOS&gt;&lt;PAD&gt;&lt;PAD&gt;&lt;PAD...</td>\n",
       "      <td>&lt;PAD&gt; dónde está exactamente tom &lt;EOS&gt;&lt;EOS&gt;&lt;EO...</td>\n",
       "      <td>&lt;SOS&gt; dónde está exactamente tom &lt;EOS&gt;&lt;PAD&gt;&lt;PA...</td>\n",
       "    </tr>\n",
       "    <tr>\n",
       "      <th>5</th>\n",
       "      <td>&lt;SOS&gt; what are you going to see &lt;EOS&gt;&lt;PAD&gt;&lt;PAD...</td>\n",
       "      <td>&lt;PAD&gt; qué vas a ver &lt;EOS&gt;&lt;EOS&gt;&lt;EOS&gt;&lt;EOS&gt;&lt;EOS&gt;&lt;...</td>\n",
       "      <td>&lt;SOS&gt; qué vais a ver &lt;EOS&gt;&lt;PAD&gt;&lt;PAD&gt;&lt;PAD&gt;&lt;PAD&gt;...</td>\n",
       "    </tr>\n",
       "    <tr>\n",
       "      <th>6</th>\n",
       "      <td>&lt;SOS&gt; i dont know if youll be here when i retu...</td>\n",
       "      <td>&lt;PAD&gt; no sé si estarás aquí cuando vuelva &lt;EOS...</td>\n",
       "      <td>&lt;SOS&gt; no sé si estarás aquí cuando vuelva &lt;EOS...</td>\n",
       "    </tr>\n",
       "    <tr>\n",
       "      <th>7</th>\n",
       "      <td>&lt;SOS&gt; im going to tell you everything &lt;EOS&gt;&lt;PA...</td>\n",
       "      <td>&lt;PAD&gt; te voy a decir todo &lt;EOS&gt;&lt;EOS&gt;&lt;EOS&gt;&lt;EOS&gt;...</td>\n",
       "      <td>&lt;SOS&gt; te lo voy a contar todo &lt;EOS&gt;&lt;PAD&gt;&lt;PAD&gt;&lt;...</td>\n",
       "    </tr>\n",
       "    <tr>\n",
       "      <th>8</th>\n",
       "      <td>&lt;SOS&gt; do you snore &lt;EOS&gt;&lt;PAD&gt;&lt;PAD&gt;&lt;PAD&gt;&lt;PAD&gt;&lt;P...</td>\n",
       "      <td>&lt;PAD&gt; tú  &lt;EOS&gt;&lt;EOS&gt;&lt;EOS&gt;&lt;EOS&gt;&lt;EOS&gt;&lt;EOS&gt;&lt;EOS&gt;&lt;...</td>\n",
       "      <td>&lt;SOS&gt; tú roncas &lt;EOS&gt;&lt;PAD&gt;&lt;PAD&gt;&lt;PAD&gt;&lt;PAD&gt;&lt;PAD&gt;...</td>\n",
       "    </tr>\n",
       "    <tr>\n",
       "      <th>9</th>\n",
       "      <td>&lt;SOS&gt; i love kids &lt;EOS&gt;&lt;PAD&gt;&lt;PAD&gt;&lt;PAD&gt;&lt;PAD&gt;&lt;PA...</td>\n",
       "      <td>&lt;PAD&gt; me encantan los niños &lt;EOS&gt;&lt;EOS&gt;&lt;EOS&gt;&lt;EO...</td>\n",
       "      <td>&lt;SOS&gt; me encantan los niños &lt;EOS&gt;&lt;PAD&gt;&lt;PAD&gt;&lt;PA...</td>\n",
       "    </tr>\n",
       "  </tbody>\n",
       "</table>\n",
       "</div>"
      ],
      "text/plain": [
       "                                            Original  \\\n",
       "0  <SOS> so tom what can i do for you today <EOS>...   \n",
       "1  <SOS> he has a camera <EOS><PAD><PAD><PAD><PAD...   \n",
       "2  <SOS> everybody admired his courage <EOS><PAD>...   \n",
       "3  <SOS> i havent found my keys yet <EOS><PAD><PA...   \n",
       "4  <SOS> where exactly is tom <EOS><PAD><PAD><PAD...   \n",
       "5  <SOS> what are you going to see <EOS><PAD><PAD...   \n",
       "6  <SOS> i dont know if youll be here when i retu...   \n",
       "7  <SOS> im going to tell you everything <EOS><PA...   \n",
       "8  <SOS> do you snore <EOS><PAD><PAD><PAD><PAD><P...   \n",
       "9  <SOS> i love kids <EOS><PAD><PAD><PAD><PAD><PA...   \n",
       "\n",
       "                                          Prediction  \\\n",
       "0  <PAD> así que tom qué puedo hacer por hoy <EOS...   \n",
       "1  <PAD> él tiene una cámara <EOS><EOS><EOS><EOS>...   \n",
       "2  <PAD> todos los mundo su su valor <EOS><EOS><E...   \n",
       "3  <PAD> todavía no he encontrado mis llaves <EOS...   \n",
       "4  <PAD> dónde está exactamente tom <EOS><EOS><EO...   \n",
       "5  <PAD> qué vas a ver <EOS><EOS><EOS><EOS><EOS><...   \n",
       "6  <PAD> no sé si estarás aquí cuando vuelva <EOS...   \n",
       "7  <PAD> te voy a decir todo <EOS><EOS><EOS><EOS>...   \n",
       "8  <PAD> tú  <EOS><EOS><EOS><EOS><EOS><EOS><EOS><...   \n",
       "9  <PAD> me encantan los niños <EOS><EOS><EOS><EO...   \n",
       "\n",
       "                                              Target  \n",
       "0  <SOS> así que tom qué puedo hacer hoy por ti <...  \n",
       "1  <SOS> él tiene una cámara <EOS><PAD><PAD><PAD>...  \n",
       "2  <SOS> todo el mundo admiraba su coraje <EOS><P...  \n",
       "3  <SOS> todavía no he encontrado mis llaves <EOS...  \n",
       "4  <SOS> dónde está exactamente tom <EOS><PAD><PA...  \n",
       "5  <SOS> qué vais a ver <EOS><PAD><PAD><PAD><PAD>...  \n",
       "6  <SOS> no sé si estarás aquí cuando vuelva <EOS...  \n",
       "7  <SOS> te lo voy a contar todo <EOS><PAD><PAD><...  \n",
       "8  <SOS> tú roncas <EOS><PAD><PAD><PAD><PAD><PAD>...  \n",
       "9  <SOS> me encantan los niños <EOS><PAD><PAD><PA...  "
      ]
     },
     "execution_count": 76,
     "metadata": {},
     "output_type": "execute_result"
    }
   ],
   "source": [
    "import pandas as pd\n",
    "\n",
    "df = pd.DataFrame({\"Original\": originals[:10], \"Prediction\": preds[:10], \"Target\": targets[:10]})\n",
    "df.to_csv(\"attention-bidir.csv\", index=False)\n",
    "df"
   ]
  },
  {
   "cell_type": "code",
   "execution_count": null,
   "id": "209ec26b",
   "metadata": {
    "execution": {
     "iopub.execute_input": "2025-03-22T13:40:11.712812Z",
     "iopub.status.busy": "2025-03-22T13:40:11.712376Z",
     "iopub.status.idle": "2025-03-22T13:40:11.719426Z",
     "shell.execute_reply": "2025-03-22T13:40:11.718517Z"
    },
    "papermill": {
     "duration": 1.388413,
     "end_time": "2025-03-22T13:40:11.720876",
     "exception": false,
     "start_time": "2025-03-22T13:40:10.332463",
     "status": "completed"
    },
    "tags": []
   },
   "outputs": [
    {
     "data": {
      "text/plain": [
       "27.67598470386799"
      ]
     },
     "execution_count": 12,
     "metadata": {},
     "output_type": "execute_result"
    }
   ],
   "source": [
    "import sacrebleu\n",
    "\n",
    "def calculate_bleu_score(preds, targets):\n",
    "    bleu = sacrebleu.corpus_bleu(\n",
    "        preds, [targets], force=True\n",
    "    )\n",
    "    return bleu.score\n",
    "\n",
    "\n",
    "calculate_bleu_score(preds, targets)"
   ]
  },
  {
   "cell_type": "code",
   "execution_count": 13,
   "id": "62884010",
   "metadata": {},
   "outputs": [
    {
     "data": {
      "text/plain": [
       "{'rouge-1': {'r': 0.5297945231596426,\n",
       "  'p': 0.5543545538662722,\n",
       "  'f': 0.540189756660357},\n",
       " 'rouge-2': {'r': 0.3669931197274949,\n",
       "  'p': 0.3761023590125156,\n",
       "  'f': 0.37077918330939874},\n",
       " 'rouge-l': {'r': 0.5218424855373384,\n",
       "  'p': 0.5452970423673544,\n",
       "  'f': 0.5317817493086623}}"
      ]
     },
     "execution_count": 13,
     "metadata": {},
     "output_type": "execute_result"
    }
   ],
   "source": [
    "import rouge\n",
    "\n",
    "rouge = rouge.Rouge()\n",
    "scores = rouge.get_scores(preds, targets, avg=True)\n",
    "scores"
   ]
  },
  {
   "cell_type": "code",
   "execution_count": 14,
   "id": "13d72604",
   "metadata": {},
   "outputs": [
    {
     "data": {
      "text/plain": [
       "49.0272373540856"
      ]
     },
     "execution_count": 14,
     "metadata": {},
     "output_type": "execute_result"
    }
   ],
   "source": [
    "def ter(preds, targets):\n",
    "    return sacrebleu.corpus_ter(preds, [targets]).score\n",
    "\n",
    "\n",
    "ter(preds, targets)"
   ]
  },
  {
   "cell_type": "markdown",
   "id": "d9059672",
   "metadata": {},
   "source": [
    "# Visualizing attention weights"
   ]
  },
  {
   "cell_type": "code",
   "execution_count": 7,
   "id": "3bf28a77",
   "metadata": {},
   "outputs": [],
   "source": [
    "import torch\n",
    "import torch.nn as nn\n",
    "\n",
    "\n",
    "class Decoder(nn.Module):\n",
    "    def __init__(\n",
    "        self, vocab_size, embedding_dim, hidden_size, num_layers=2, dropout=0.3\n",
    "    ):\n",
    "        super(Decoder, self).__init__()\n",
    "        self.hidden_size = hidden_size\n",
    "        self.num_layers = num_layers\n",
    "        self.vocab_size = vocab_size\n",
    "\n",
    "        self.embedding = nn.Embedding(vocab_size, embedding_dim, padding_idx=0)\n",
    "\n",
    "        self.lstm = nn.LSTM(\n",
    "            embedding_dim + hidden_size * 2,\n",
    "            hidden_size,\n",
    "            num_layers=num_layers,\n",
    "            batch_first=True,\n",
    "            dropout=dropout,\n",
    "            bidirectional=True,\n",
    "        )\n",
    "        self.fc = nn.Linear(hidden_size * 2, vocab_size)\n",
    "        self.dropout = nn.Dropout(dropout)\n",
    "        self.attention = Attention(hidden_size)\n",
    "        self.apply(self._init_weights)\n",
    "\n",
    "    def _init_weights(self, module):\n",
    "        if isinstance(module, nn.LSTM):\n",
    "            for name, param in module.named_parameters():\n",
    "                if \"weight\" in name:\n",
    "                    nn.init.xavier_uniform_(param)\n",
    "                elif \"bias\" in name:\n",
    "                    nn.init.zeros_(param)\n",
    "\n",
    "    def forward(self, x, hidden, cell, enc_out):\n",
    "        attention_vector, attention_weights = self.attention(hidden[0], enc_out)\n",
    "        x = self.embedding(x)\n",
    "        x = torch.cat((attention_vector, x), dim=-1)\n",
    "        x = x.unsqueeze(1)\n",
    "        output, (hidden, cell) = self.lstm(x, (hidden, cell))\n",
    "        output = self.dropout(output)\n",
    "        output = self.fc(output)\n",
    "        return output, hidden, cell, attention_weights\n",
    "\n",
    "\n",
    "class Seq2Seq(nn.Module):\n",
    "    def __init__(self, encoder, decoder, vocab_size, teacher_forcing_ratio=0.5):\n",
    "        super(Seq2Seq, self).__init__()\n",
    "        self.encoder = encoder\n",
    "        self.decoder = decoder\n",
    "        self.vocab_size = vocab_size\n",
    "        self.teacher_forcing_ratio = teacher_forcing_ratio\n",
    "\n",
    "    def forward(self, src, trg):\n",
    "        enc_out, hidden, cell = self.encoder(src)\n",
    "        outputs = torch.zeros(trg.shape[0], trg.shape[1], self.decoder.vocab_size).to(\n",
    "            \"cuda\"\n",
    "        )\n",
    "        x = trg[:, 0]\n",
    "        for t in range(1, trg.shape[1]):\n",
    "            output, hidden, cell = self.decoder(x, hidden, cell, enc_out)\n",
    "            output = output.squeeze(1)\n",
    "            outputs[:, t, :] = output\n",
    "            use_teacher_forcing = random.random() < self.teacher_forcing_ratio\n",
    "            x = trg[:, t] if use_teacher_forcing else output.argmax(dim=1)\n",
    "\n",
    "        return outputs\n",
    "\n",
    "    def predict(self, src):\n",
    "        enc_out, hidden, cell = self.encoder(src)\n",
    "        outputs = torch.zeros(src.shape[0], src.shape[1], self.decoder.vocab_size).to(\n",
    "            \"cuda\"\n",
    "        )\n",
    "        attentions = []\n",
    "        x = src[:, 0]\n",
    "        for i in range(1, src.shape[1]):\n",
    "            output, hidden, cell, attention_weights = self.decoder(x, hidden, cell, enc_out)\n",
    "            output = output.squeeze(1)\n",
    "            outputs[:, i, :] = output\n",
    "            x = output.argmax(dim=1)\n",
    "            attentions.append(attention_weights.squeeze(0).cpu().detach().numpy())  \n",
    "\n",
    "        return outputs, attentions"
   ]
  },
  {
   "cell_type": "code",
   "execution_count": 8,
   "id": "a74e62e8",
   "metadata": {},
   "outputs": [
    {
     "data": {
      "text/plain": [
       "<All keys matched successfully>"
      ]
     },
     "execution_count": 8,
     "metadata": {},
     "output_type": "execute_result"
    }
   ],
   "source": [
    "device = torch.device(\"cuda\" if torch.cuda.is_available() else \"cpu\")\n",
    "\n",
    "vocab_size = len(vocab)\n",
    "embedding_dim = 256\n",
    "hidden_size = 64\n",
    "encoder = Encoder(vocab_size, embedding_dim, hidden_size).to(device)\n",
    "decoder = Decoder(vocab_size, embedding_dim, hidden_size).to(device)\n",
    "seq2seq = Seq2Seq(encoder, decoder, vocab_size).to(device)\n",
    "seq2seq.load_state_dict(torch.load(\"seq2seq-bidir-attention.pth\", weights_only=True))"
   ]
  },
  {
   "cell_type": "code",
   "execution_count": 61,
   "id": "6948d821",
   "metadata": {},
   "outputs": [
    {
     "data": {
      "text/plain": [
       "torch.Size([1, 18])"
      ]
     },
     "execution_count": 61,
     "metadata": {},
     "output_type": "execute_result"
    }
   ],
   "source": [
    "seq2seq.eval()\n",
    "# with torch.no_grad():\n",
    "a, b = next(iter(test_loader))\n",
    "a, b = a[0], b[0]\n",
    "a, b = a.unsqueeze(0).to(device), b.unsqueeze(0).to(device)\n",
    "with torch.no_grad():\n",
    "    x, attention_matrices = seq2seq.predict(a)\n",
    "\n",
    "x = x.argmax(dim=2)\n",
    "x.shape"
   ]
  },
  {
   "cell_type": "code",
   "execution_count": 62,
   "id": "fb3ff6bf",
   "metadata": {},
   "outputs": [],
   "source": [
    "from tokenizers import ByteLevelBPETokenizer\n",
    "\n",
    "tokenizer = ByteLevelBPETokenizer(\n",
    "    f\"EnglishOrSpanish/vocab.json\", f\"EnglishOrSpanish/merges.txt\"\n",
    ")\n",
    "x = x.cpu().numpy()\n",
    "a = a.cpu().numpy()\n",
    "preds = []\n",
    "targets = []\n",
    "for i in range(x.shape[0]):\n",
    "    preds.append(tokenizer.decode(x[i]))\n",
    "    targets.append(tokenizer.decode(a[i]))"
   ]
  },
  {
   "cell_type": "code",
   "execution_count": 63,
   "id": "450b8faa",
   "metadata": {},
   "outputs": [
    {
     "data": {
      "text/plain": [
       "(['<PAD> así que tom qué puedo hacer por hoy <EOS><EOS><EOS><EOS><EOS><EOS><EOS><EOS>'],\n",
       " ['<SOS> so tom what can i do for you today <EOS><PAD><PAD><PAD><PAD><PAD><PAD>'])"
      ]
     },
     "execution_count": 63,
     "metadata": {},
     "output_type": "execute_result"
    }
   ],
   "source": [
    "preds, targets"
   ]
  },
  {
   "cell_type": "code",
   "execution_count": 64,
   "id": "ca00b9da",
   "metadata": {},
   "outputs": [
    {
     "data": {
      "text/plain": [
       "(9, 8)"
      ]
     },
     "execution_count": 64,
     "metadata": {},
     "output_type": "execute_result"
    }
   ],
   "source": [
    "import numpy as np\n",
    "\n",
    "input_words = preds[0].split()[1:-1]\n",
    "output_words = targets[0].split()[1:-1]\n",
    "attention_matrices = np.array(attention_matrices)[\n",
    "    1 : len(input_words) + 1, 1 : len(output_words) + 1, 0\n",
    "].T\n",
    "attention_matrices.shape"
   ]
  },
  {
   "cell_type": "code",
   "execution_count": null,
   "id": "b02791fc",
   "metadata": {},
   "outputs": [
    {
     "data": {
      "image/png": "[encoded data removed]",
      "text/plain": [
       "<Figure size 1000x600 with 2 Axes>"
      ]
     },
     "metadata": {},
     "output_type": "display_data"
    }
   ],
   "source": [
    "import matplotlib.pyplot as plt\n",
    "import seaborn as sns\n",
    "import numpy as np\n",
    "\n",
    "\n",
    "def plot_attention(attention, input_words, output_words):\n",
    "    fig, ax = plt.subplots(figsize=(10, 6))\n",
    "    attention = np.array(attention)\n",
    "    sns.heatmap(\n",
    "        attention,\n",
    "        xticklabels=input_words,\n",
    "        yticklabels=output_words,\n",
    "        cmap=\"Blues\",\n",
    "        annot=True,\n",
    "    )\n",
    "\n",
    "    plt.xlabel(\"Input Words\")\n",
    "    plt.ylabel(\"Output Words\")\n",
    "    plt.title(\"Attention Heatmap\")\n",
    "    plt.show()\n",
    "\n",
    "\n",
    "plot_attention(attention_matrices, input_words, output_words)"
   ]
  },
  {
   "cell_type": "code",
   "execution_count": null,
   "id": "835e6852",
   "metadata": {},
   "outputs": [],
   "source": []
  }
 ],
 "metadata": {
  "colab": {
   "provenance": []
  },
  "kaggle": {
   "accelerator": "nvidiaTeslaT4",
   "dataSources": [
    {
     "datasetId": 6838673,
     "sourceId": 11036243,
     "sourceType": "datasetVersion"
    }
   ],
   "dockerImageVersionId": 30918,
   "isGpuEnabled": true,
   "isInternetEnabled": true,
   "language": "python",
   "sourceType": "notebook"
  },
  "kernelspec": {
   "display_name": "Python (myenv)",
   "language": "python",
   "name": "torch"
  },
  "language_info": {
   "codemirror_mode": {
    "name": "ipython",
    "version": 3
   },
   "file_extension": ".py",
   "mimetype": "text/x-python",
   "name": "python",
   "nbconvert_exporter": "python",
   "pygments_lexer": "ipython3",
   "version": "3.12.3"
  },
  "papermill": {
   "default_parameters": {},
   "duration": 18437.638477,
   "end_time": "2025-03-22T13:40:18.678424",
   "environment_variables": {},
   "exception": null,
   "input_path": "__notebook__.ipynb",
   "output_path": "__notebook__.ipynb",
   "parameters": {},
   "start_time": "2025-03-22T08:33:01.039947",
   "version": "2.6.0"
  }
 },
 "nbformat": 4,
 "nbformat_minor": 5
}
