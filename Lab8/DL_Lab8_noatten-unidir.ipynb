{
  "cells": [
    {
      "cell_type": "code",
      "execution_count": 1,
      "id": "c0c485ea",
      "metadata": {
        "colab": {
          "base_uri": "https://localhost:8080/"
        },
        "execution": {
          "iopub.execute_input": "2025-03-13T10:47:57.550675Z",
          "iopub.status.busy": "2025-03-13T10:47:57.550438Z",
          "iopub.status.idle": "2025-03-13T10:47:58.039821Z",
          "shell.execute_reply": "2025-03-13T10:47:58.038948Z"
        },
        "id": "c0c485ea",
        "outputId": "655445e5-4b1d-4263-e1a2-e9b074591d15",
        "papermill": {
          "duration": 0.494432,
          "end_time": "2025-03-13T10:47:58.041156",
          "exception": false,
          "start_time": "2025-03-13T10:47:57.546724",
          "status": "completed"
        },
        "tags": []
      },
      "outputs": [],
      "source": [
        "# import kagglehub\n",
        "\n",
        "# # Download latest version\n",
        "# path = kagglehub.dataset_download(\"shusrith/machine-trainslation\")\n",
        "\n",
        "# print(\"Path to dataset files:\", path)"
      ]
    },
    {
      "cell_type": "code",
      "execution_count": 2,
      "id": "73361d89",
      "metadata": {
        "colab": {
          "base_uri": "https://localhost:8080/"
        },
        "execution": {
          "iopub.execute_input": "2025-03-13T10:47:58.047678Z",
          "iopub.status.busy": "2025-03-13T10:47:58.047398Z",
          "iopub.status.idle": "2025-03-13T10:47:58.171494Z",
          "shell.execute_reply": "2025-03-13T10:47:58.170617Z"
        },
        "id": "73361d89",
        "outputId": "fe73f694-52c8-4f03-c7a9-8d9b5aa0f414",
        "papermill": {
          "duration": 0.128806,
          "end_time": "2025-03-13T10:47:58.173012",
          "exception": false,
          "start_time": "2025-03-13T10:47:58.044206",
          "status": "completed"
        },
        "tags": []
      },
      "outputs": [],
      "source": [
        "# !ls $path/EnglishOrSpanish"
      ]
    },
    {
      "cell_type": "code",
      "execution_count": 3,
      "id": "d0145768",
      "metadata": {
        "colab": {
          "base_uri": "https://localhost:8080/",
          "height": 424
        },
        "execution": {
          "iopub.execute_input": "2025-03-13T10:47:58.180127Z",
          "iopub.status.busy": "2025-03-13T10:47:58.179870Z",
          "iopub.status.idle": "2025-03-13T10:47:59.370514Z",
          "shell.execute_reply": "2025-03-13T10:47:59.369665Z"
        },
        "id": "d0145768",
        "outputId": "83af7e41-96d0-4368-cbc0-996710256066",
        "papermill": {
          "duration": 1.195894,
          "end_time": "2025-03-13T10:47:59.371972",
          "exception": false,
          "start_time": "2025-03-13T10:47:58.176078",
          "status": "completed"
        },
        "tags": []
      },
      "outputs": [
        {
          "data": {
            "text/html": [
              "<div>\n",
              "<style scoped>\n",
              "    .dataframe tbody tr th:only-of-type {\n",
              "        vertical-align: middle;\n",
              "    }\n",
              "\n",
              "    .dataframe tbody tr th {\n",
              "        vertical-align: top;\n",
              "    }\n",
              "\n",
              "    .dataframe thead th {\n",
              "        text-align: right;\n",
              "    }\n",
              "</style>\n",
              "<table border=\"1\" class=\"dataframe\">\n",
              "  <thead>\n",
              "    <tr style=\"text-align: right;\">\n",
              "      <th></th>\n",
              "      <th>English</th>\n",
              "      <th>Spanish</th>\n",
              "    </tr>\n",
              "  </thead>\n",
              "  <tbody>\n",
              "    <tr>\n",
              "      <th>5655</th>\n",
              "      <td>[2, 538, 1013, 1384, 224, 3, 0, 0, 0, 0, 0, 0,...</td>\n",
              "      <td>[2, 6208, 3673, 224, 3, 0, 0, 0, 0, 0, 0, 0, 0...</td>\n",
              "    </tr>\n",
              "    <tr>\n",
              "      <th>12843</th>\n",
              "      <td>[2, 1298, 2954, 370, 224, 3, 0, 0, 0, 0, 0, 0,...</td>\n",
              "      <td>[2, 470, 294, 1014, 563, 224, 3, 0, 0, 0, 0, 0...</td>\n",
              "    </tr>\n",
              "    <tr>\n",
              "      <th>40899</th>\n",
              "      <td>[2, 744, 4263, 328, 448, 505, 224, 3, 0, 0, 0,...</td>\n",
              "      <td>[2, 12765, 331, 1301, 387, 636, 224, 3, 0, 0, ...</td>\n",
              "    </tr>\n",
              "    <tr>\n",
              "      <th>108332</th>\n",
              "      <td>[2, 304, 461, 411, 3662, 362, 1359, 768, 465, ...</td>\n",
              "      <td>[2, 937, 1720, 5155, 294, 434, 896, 913, 302, ...</td>\n",
              "    </tr>\n",
              "    <tr>\n",
              "      <th>120835</th>\n",
              "      <td>[2, 744, 12291, 300, 4557, 9396, 33297, 332, 3...</td>\n",
              "      <td>[2, 387, 636, 26950, 331, 35451, 294, 9368, 84...</td>\n",
              "    </tr>\n",
              "    <tr>\n",
              "      <th>...</th>\n",
              "      <td>...</td>\n",
              "      <td>...</td>\n",
              "    </tr>\n",
              "    <tr>\n",
              "      <th>24073</th>\n",
              "      <td>[2, 404, 3205, 334, 9978, 224, 3, 0, 0, 0, 0, ...</td>\n",
              "      <td>[2, 589, 3484, 318, 34416, 224, 3, 0, 0, 0, 0,...</td>\n",
              "    </tr>\n",
              "    <tr>\n",
              "      <th>25221</th>\n",
              "      <td>[2, 701, 976, 3105, 224, 3, 0, 0, 0, 0, 0, 0, ...</td>\n",
              "      <td>[2, 6915, 18572, 224, 3, 0, 0, 0, 0, 0, 0, 0, ...</td>\n",
              "    </tr>\n",
              "    <tr>\n",
              "      <th>15998</th>\n",
              "      <td>[2, 1298, 1738, 2489, 224, 3, 0, 0, 0, 0, 0, 0...</td>\n",
              "      <td>[2, 2491, 294, 602, 3636, 224, 3, 0, 0, 0, 0, ...</td>\n",
              "    </tr>\n",
              "    <tr>\n",
              "      <th>5949</th>\n",
              "      <td>[2, 395, 807, 7998, 224, 3, 0, 0, 0, 0, 0, 0, ...</td>\n",
              "      <td>[2, 653, 6150, 224, 3, 0, 0, 0, 0, 0, 0, 0, 0,...</td>\n",
              "    </tr>\n",
              "    <tr>\n",
              "      <th>98112</th>\n",
              "      <td>[2, 270, 431, 429, 272, 1120, 498, 404, 2196, ...</td>\n",
              "      <td>[2, 302, 328, 619, 5109, 1323, 831, 500, 224, ...</td>\n",
              "    </tr>\n",
              "  </tbody>\n",
              "</table>\n",
              "<p>128084 rows × 2 columns</p>\n",
              "</div>"
            ],
            "text/plain": [
              "                                                  English  \\\n",
              "5655    [2, 538, 1013, 1384, 224, 3, 0, 0, 0, 0, 0, 0,...   \n",
              "12843   [2, 1298, 2954, 370, 224, 3, 0, 0, 0, 0, 0, 0,...   \n",
              "40899   [2, 744, 4263, 328, 448, 505, 224, 3, 0, 0, 0,...   \n",
              "108332  [2, 304, 461, 411, 3662, 362, 1359, 768, 465, ...   \n",
              "120835  [2, 744, 12291, 300, 4557, 9396, 33297, 332, 3...   \n",
              "...                                                   ...   \n",
              "24073   [2, 404, 3205, 334, 9978, 224, 3, 0, 0, 0, 0, ...   \n",
              "25221   [2, 701, 976, 3105, 224, 3, 0, 0, 0, 0, 0, 0, ...   \n",
              "15998   [2, 1298, 1738, 2489, 224, 3, 0, 0, 0, 0, 0, 0...   \n",
              "5949    [2, 395, 807, 7998, 224, 3, 0, 0, 0, 0, 0, 0, ...   \n",
              "98112   [2, 270, 431, 429, 272, 1120, 498, 404, 2196, ...   \n",
              "\n",
              "                                                  Spanish  \n",
              "5655    [2, 6208, 3673, 224, 3, 0, 0, 0, 0, 0, 0, 0, 0...  \n",
              "12843   [2, 470, 294, 1014, 563, 224, 3, 0, 0, 0, 0, 0...  \n",
              "40899   [2, 12765, 331, 1301, 387, 636, 224, 3, 0, 0, ...  \n",
              "108332  [2, 937, 1720, 5155, 294, 434, 896, 913, 302, ...  \n",
              "120835  [2, 387, 636, 26950, 331, 35451, 294, 9368, 84...  \n",
              "...                                                   ...  \n",
              "24073   [2, 589, 3484, 318, 34416, 224, 3, 0, 0, 0, 0,...  \n",
              "25221   [2, 6915, 18572, 224, 3, 0, 0, 0, 0, 0, 0, 0, ...  \n",
              "15998   [2, 2491, 294, 602, 3636, 224, 3, 0, 0, 0, 0, ...  \n",
              "5949    [2, 653, 6150, 224, 3, 0, 0, 0, 0, 0, 0, 0, 0,...  \n",
              "98112   [2, 302, 328, 619, 5109, 1323, 831, 500, 224, ...  \n",
              "\n",
              "[128084 rows x 2 columns]"
            ]
          },
          "execution_count": 3,
          "metadata": {},
          "output_type": "execute_result"
        }
      ],
      "source": [
        "import pandas as pd\n",
        "from sklearn.utils import shuffle\n",
        "df = pd.read_csv(f\"EnglishOrSpanish/output_joint2.csv\")\n",
        "df = shuffle(df)\n",
        "df"
      ]
    },
    {
      "cell_type": "code",
      "execution_count": 4,
      "id": "7109b156",
      "metadata": {
        "colab": {
          "base_uri": "https://localhost:8080/",
          "height": 424
        },
        "execution": {
          "iopub.execute_input": "2025-03-13T10:47:59.380062Z",
          "iopub.status.busy": "2025-03-13T10:47:59.379827Z",
          "iopub.status.idle": "2025-03-13T10:48:05.458226Z",
          "shell.execute_reply": "2025-03-13T10:48:05.457363Z"
        },
        "id": "7109b156",
        "outputId": "5b92d6a5-48cf-4a1b-e00f-7c2db2dee860",
        "papermill": {
          "duration": 6.084367,
          "end_time": "2025-03-13T10:48:05.459670",
          "exception": false,
          "start_time": "2025-03-13T10:47:59.375303",
          "status": "completed"
        },
        "tags": []
      },
      "outputs": [
        {
          "data": {
            "text/html": [
              "<div>\n",
              "<style scoped>\n",
              "    .dataframe tbody tr th:only-of-type {\n",
              "        vertical-align: middle;\n",
              "    }\n",
              "\n",
              "    .dataframe tbody tr th {\n",
              "        vertical-align: top;\n",
              "    }\n",
              "\n",
              "    .dataframe thead th {\n",
              "        text-align: right;\n",
              "    }\n",
              "</style>\n",
              "<table border=\"1\" class=\"dataframe\">\n",
              "  <thead>\n",
              "    <tr style=\"text-align: right;\">\n",
              "      <th></th>\n",
              "      <th>English</th>\n",
              "      <th>Spanish</th>\n",
              "    </tr>\n",
              "  </thead>\n",
              "  <tbody>\n",
              "    <tr>\n",
              "      <th>5655</th>\n",
              "      <td>[2, 538, 1013, 1384, 224, 3, 0, 0, 0, 0, 0, 0,...</td>\n",
              "      <td>[2, 6208, 3673, 224, 3, 0, 0, 0, 0, 0, 0, 0, 0...</td>\n",
              "    </tr>\n",
              "    <tr>\n",
              "      <th>12843</th>\n",
              "      <td>[2, 1298, 2954, 370, 224, 3, 0, 0, 0, 0, 0, 0,...</td>\n",
              "      <td>[2, 470, 294, 1014, 563, 224, 3, 0, 0, 0, 0, 0...</td>\n",
              "    </tr>\n",
              "    <tr>\n",
              "      <th>40899</th>\n",
              "      <td>[2, 744, 4263, 328, 448, 505, 224, 3, 0, 0, 0,...</td>\n",
              "      <td>[2, 12765, 331, 1301, 387, 636, 224, 3, 0, 0, ...</td>\n",
              "    </tr>\n",
              "    <tr>\n",
              "      <th>108332</th>\n",
              "      <td>[2, 304, 461, 411, 3662, 362, 1359, 768, 465, ...</td>\n",
              "      <td>[2, 937, 1720, 5155, 294, 434, 896, 913, 302, ...</td>\n",
              "    </tr>\n",
              "    <tr>\n",
              "      <th>120835</th>\n",
              "      <td>[2, 744, 12291, 300, 4557, 9396, 33297, 332, 3...</td>\n",
              "      <td>[2, 387, 636, 26950, 331, 35451, 294, 9368, 84...</td>\n",
              "    </tr>\n",
              "    <tr>\n",
              "      <th>...</th>\n",
              "      <td>...</td>\n",
              "      <td>...</td>\n",
              "    </tr>\n",
              "    <tr>\n",
              "      <th>24073</th>\n",
              "      <td>[2, 404, 3205, 334, 9978, 224, 3, 0, 0, 0, 0, ...</td>\n",
              "      <td>[2, 589, 3484, 318, 34416, 224, 3, 0, 0, 0, 0,...</td>\n",
              "    </tr>\n",
              "    <tr>\n",
              "      <th>25221</th>\n",
              "      <td>[2, 701, 976, 3105, 224, 3, 0, 0, 0, 0, 0, 0, ...</td>\n",
              "      <td>[2, 6915, 18572, 224, 3, 0, 0, 0, 0, 0, 0, 0, ...</td>\n",
              "    </tr>\n",
              "    <tr>\n",
              "      <th>15998</th>\n",
              "      <td>[2, 1298, 1738, 2489, 224, 3, 0, 0, 0, 0, 0, 0...</td>\n",
              "      <td>[2, 2491, 294, 602, 3636, 224, 3, 0, 0, 0, 0, ...</td>\n",
              "    </tr>\n",
              "    <tr>\n",
              "      <th>5949</th>\n",
              "      <td>[2, 395, 807, 7998, 224, 3, 0, 0, 0, 0, 0, 0, ...</td>\n",
              "      <td>[2, 653, 6150, 224, 3, 0, 0, 0, 0, 0, 0, 0, 0,...</td>\n",
              "    </tr>\n",
              "    <tr>\n",
              "      <th>98112</th>\n",
              "      <td>[2, 270, 431, 429, 272, 1120, 498, 404, 2196, ...</td>\n",
              "      <td>[2, 302, 328, 619, 5109, 1323, 831, 500, 224, ...</td>\n",
              "    </tr>\n",
              "  </tbody>\n",
              "</table>\n",
              "<p>128084 rows × 2 columns</p>\n",
              "</div>"
            ],
            "text/plain": [
              "                                                  English  \\\n",
              "5655    [2, 538, 1013, 1384, 224, 3, 0, 0, 0, 0, 0, 0,...   \n",
              "12843   [2, 1298, 2954, 370, 224, 3, 0, 0, 0, 0, 0, 0,...   \n",
              "40899   [2, 744, 4263, 328, 448, 505, 224, 3, 0, 0, 0,...   \n",
              "108332  [2, 304, 461, 411, 3662, 362, 1359, 768, 465, ...   \n",
              "120835  [2, 744, 12291, 300, 4557, 9396, 33297, 332, 3...   \n",
              "...                                                   ...   \n",
              "24073   [2, 404, 3205, 334, 9978, 224, 3, 0, 0, 0, 0, ...   \n",
              "25221   [2, 701, 976, 3105, 224, 3, 0, 0, 0, 0, 0, 0, ...   \n",
              "15998   [2, 1298, 1738, 2489, 224, 3, 0, 0, 0, 0, 0, 0...   \n",
              "5949    [2, 395, 807, 7998, 224, 3, 0, 0, 0, 0, 0, 0, ...   \n",
              "98112   [2, 270, 431, 429, 272, 1120, 498, 404, 2196, ...   \n",
              "\n",
              "                                                  Spanish  \n",
              "5655    [2, 6208, 3673, 224, 3, 0, 0, 0, 0, 0, 0, 0, 0...  \n",
              "12843   [2, 470, 294, 1014, 563, 224, 3, 0, 0, 0, 0, 0...  \n",
              "40899   [2, 12765, 331, 1301, 387, 636, 224, 3, 0, 0, ...  \n",
              "108332  [2, 937, 1720, 5155, 294, 434, 896, 913, 302, ...  \n",
              "120835  [2, 387, 636, 26950, 331, 35451, 294, 9368, 84...  \n",
              "...                                                   ...  \n",
              "24073   [2, 589, 3484, 318, 34416, 224, 3, 0, 0, 0, 0,...  \n",
              "25221   [2, 6915, 18572, 224, 3, 0, 0, 0, 0, 0, 0, 0, ...  \n",
              "15998   [2, 2491, 294, 602, 3636, 224, 3, 0, 0, 0, 0, ...  \n",
              "5949    [2, 653, 6150, 224, 3, 0, 0, 0, 0, 0, 0, 0, 0,...  \n",
              "98112   [2, 302, 328, 619, 5109, 1323, 831, 500, 224, ...  \n",
              "\n",
              "[128084 rows x 2 columns]"
            ]
          },
          "execution_count": 4,
          "metadata": {},
          "output_type": "execute_result"
        }
      ],
      "source": [
        "import ast\n",
        "\n",
        "df[\"English\"] = df[\"English\"].apply(ast.literal_eval)\n",
        "df[\"Spanish\"] = df[\"Spanish\"].apply(ast.literal_eval)\n",
        "df"
      ]
    },
    {
      "cell_type": "code",
      "execution_count": 5,
      "id": "c303ca41",
      "metadata": {
        "execution": {
          "iopub.execute_input": "2025-03-13T10:48:05.466982Z",
          "iopub.status.busy": "2025-03-13T10:48:05.466759Z",
          "iopub.status.idle": "2025-03-13T10:48:08.909453Z",
          "shell.execute_reply": "2025-03-13T10:48:08.908740Z"
        },
        "id": "c303ca41",
        "papermill": {
          "duration": 3.447969,
          "end_time": "2025-03-13T10:48:08.910980",
          "exception": false,
          "start_time": "2025-03-13T10:48:05.463011",
          "status": "completed"
        },
        "tags": []
      },
      "outputs": [],
      "source": [
        "import torch\n",
        "from torch.utils.data import DataLoader, TensorDataset\n",
        "\n",
        "train = TensorDataset(\n",
        "    torch.tensor(df[\"English\"][:100000].tolist(), dtype=torch.long),\n",
        "    torch.tensor(df[\"Spanish\"][:100000].tolist(), dtype=torch.long),\n",
        ")\n",
        "test = TensorDataset(\n",
        "    torch.tensor(df[\"English\"][100000:].tolist(), dtype=torch.long),\n",
        "    torch.tensor(df[\"Spanish\"][100000:].tolist(), dtype=torch.long),\n",
        ")\n",
        "train_loader = DataLoader(train, batch_size=128, shuffle=True, drop_last=True)\n",
        "test_loader = DataLoader(test, batch_size=128, shuffle=False, drop_last=True)"
      ]
    },
    {
      "cell_type": "code",
      "execution_count": 6,
      "id": "4b15a79c",
      "metadata": {
        "execution": {
          "iopub.execute_input": "2025-03-13T10:48:08.918622Z",
          "iopub.status.busy": "2025-03-13T10:48:08.918261Z",
          "iopub.status.idle": "2025-03-13T10:48:08.959614Z",
          "shell.execute_reply": "2025-03-13T10:48:08.958953Z"
        },
        "id": "4b15a79c",
        "papermill": {
          "duration": 0.046354,
          "end_time": "2025-03-13T10:48:08.960915",
          "exception": false,
          "start_time": "2025-03-13T10:48:08.914561",
          "status": "completed"
        },
        "tags": []
      },
      "outputs": [],
      "source": [
        "import json\n",
        "with open(f\"EnglishOrSpanish/vocab.json\", \"r\") as f:\n",
        "    vocab = json.load(f)"
      ]
    },
    {
      "cell_type": "code",
      "execution_count": 7,
      "id": "e29c682e",
      "metadata": {
        "execution": {
          "iopub.execute_input": "2025-03-13T10:48:08.967926Z",
          "iopub.status.busy": "2025-03-13T10:48:08.967712Z",
          "iopub.status.idle": "2025-03-13T10:48:08.973280Z",
          "shell.execute_reply": "2025-03-13T10:48:08.972684Z"
        },
        "id": "e29c682e",
        "papermill": {
          "duration": 0.01032,
          "end_time": "2025-03-13T10:48:08.974405",
          "exception": false,
          "start_time": "2025-03-13T10:48:08.964085",
          "status": "completed"
        },
        "tags": []
      },
      "outputs": [],
      "source": [
        "import torch\n",
        "import torch.nn as nn\n",
        "\n",
        "\n",
        "class Encoder(nn.Module):\n",
        "    def __init__(self, vocab_size, hidden_size, num_layers=4, dropout=0.3):\n",
        "        super(Encoder, self).__init__()\n",
        "        self.hidden_size = hidden_size\n",
        "        self.num_layers = num_layers\n",
        "        self.vocab_size = vocab_size\n",
        "\n",
        "        self.embedding = nn.Embedding(vocab_size, hidden_size, padding_idx=14453)\n",
        "        self.lstm = nn.LSTM(\n",
        "            hidden_size,\n",
        "            hidden_size,\n",
        "            num_layers=num_layers,\n",
        "            batch_first=True,\n",
        "            dropout=dropout,\n",
        "        )\n",
        "\n",
        "        self.layer_norm = nn.LayerNorm(hidden_size)\n",
        "        self.hidden_norm = nn.LayerNorm(hidden_size)\n",
        "        self.cell_norm = nn.LayerNorm(hidden_size)\n",
        "        self.dropout = nn.Dropout(dropout)\n",
        "\n",
        "        self.apply(self._init_weights)\n",
        "\n",
        "    def _init_weights(self, module):\n",
        "        if isinstance(module, nn.LSTM):\n",
        "            for name, param in module.named_parameters():\n",
        "                if \"weight\" in name:\n",
        "                    nn.init.xavier_uniform_(param)\n",
        "                elif \"bias\" in name:\n",
        "                    nn.init.zeros_(param)\n",
        "\n",
        "    def forward(self, x):\n",
        "        embedded = self.dropout(self.embedding(x))\n",
        "        output, (hidden, cell) = self.lstm(embedded)\n",
        "        output = self.layer_norm(output)\n",
        "        hidden = self.hidden_norm(hidden)\n",
        "        cell = self.cell_norm(cell)\n",
        "        return output, hidden, cell"
      ]
    },
    {
      "cell_type": "code",
      "execution_count": 8,
      "id": "cada738e",
      "metadata": {
        "execution": {
          "iopub.execute_input": "2025-03-13T10:48:08.981157Z",
          "iopub.status.busy": "2025-03-13T10:48:08.980966Z",
          "iopub.status.idle": "2025-03-13T10:48:08.985493Z",
          "shell.execute_reply": "2025-03-13T10:48:08.984942Z"
        },
        "id": "cada738e",
        "papermill": {
          "duration": 0.009156,
          "end_time": "2025-03-13T10:48:08.986692",
          "exception": false,
          "start_time": "2025-03-13T10:48:08.977536",
          "status": "completed"
        },
        "tags": []
      },
      "outputs": [],
      "source": [
        "import torch\n",
        "import torch.nn as nn\n",
        "\n",
        "\n",
        "class Decoder(nn.Module):\n",
        "    def __init__(self, vocab_size, hidden_size, num_layers=4, dropout=0.3):\n",
        "        super(Decoder, self).__init__()\n",
        "        self.hidden_size = hidden_size\n",
        "        self.num_layers = num_layers\n",
        "        self.vocab_size = vocab_size\n",
        "\n",
        "        self.embedding = nn.Embedding(vocab_size, hidden_size, padding_idx=23722)\n",
        "\n",
        "        self.lstm = nn.LSTM(\n",
        "            hidden_size,\n",
        "            hidden_size,\n",
        "            num_layers=num_layers,\n",
        "            batch_first=True,\n",
        "            dropout=dropout,\n",
        "        )\n",
        "\n",
        "        self.layer_norm = nn.LayerNorm(hidden_size)\n",
        "        self.hidden_norm = nn.LayerNorm(hidden_size)\n",
        "        self.cell_norm = nn.LayerNorm(hidden_size)\n",
        "\n",
        "        self.fc = nn.Linear(hidden_size, vocab_size)\n",
        "        self.dropout = nn.Dropout(dropout)\n",
        "        self.apply(self._init_weights)\n",
        "\n",
        "    def _init_weights(self, module):\n",
        "        if isinstance(module, nn.LSTM):\n",
        "            for name, param in module.named_parameters():\n",
        "                if \"weight\" in name:\n",
        "                    nn.init.xavier_uniform_(param)\n",
        "                elif \"bias\" in name:\n",
        "                    nn.init.zeros_(param)\n",
        "\n",
        "    def forward(self, x, hidden, cell):\n",
        "        x = x.unsqueeze(1)\n",
        "        embedded = self.dropout(self.embedding(x))\n",
        "        output, (hidden, cell) = self.lstm(embedded, (hidden, cell))\n",
        "        output = self.layer_norm(output)\n",
        "        hidden = self.hidden_norm(hidden)\n",
        "        cell = self.cell_norm(cell)\n",
        "        output = self.fc(output).squeeze(1)\n",
        "        return output, hidden, cell"
      ]
    },
    {
      "cell_type": "code",
      "execution_count": 9,
      "id": "ac8cc2ad",
      "metadata": {
        "execution": {
          "iopub.execute_input": "2025-03-13T10:48:08.993442Z",
          "iopub.status.busy": "2025-03-13T10:48:08.993247Z",
          "iopub.status.idle": "2025-03-13T10:48:09.004310Z",
          "shell.execute_reply": "2025-03-13T10:48:09.003585Z"
        },
        "id": "ac8cc2ad",
        "papermill": {
          "duration": 0.015709,
          "end_time": "2025-03-13T10:48:09.005397",
          "exception": false,
          "start_time": "2025-03-13T10:48:08.989688",
          "status": "completed"
        },
        "tags": []
      },
      "outputs": [],
      "source": [
        "class Seq2Seq:\n",
        "    def __init__(self, encoder, decoder, device, teacher_forcing_ratio):\n",
        "        super(Seq2Seq, self).__init__()\n",
        "        self.encoder = encoder\n",
        "        self.decoder = decoder\n",
        "        self.device = device\n",
        "        self.vocab_size = self.decoder.vocab_size\n",
        "        self.teacher_forcing_ratio = teacher_forcing_ratio\n",
        "\n",
        "    def train(\n",
        "        self,\n",
        "        train_loader,\n",
        "        test_loader,\n",
        "        enc_optimizer,\n",
        "        dec_optimizer,\n",
        "        criterion,\n",
        "        device,\n",
        "        encoder_scheduler,\n",
        "        decoder_scheduler,\n",
        "        num_epochs,\n",
        "    ):\n",
        "        for epoch in range(num_epochs):\n",
        "            print(f\"\\nEpoch {epoch+1}/{num_epochs}\")\n",
        "            self.encoder.train()\n",
        "            self.decoder.train()\n",
        "            epoch_loss = 0\n",
        "            epoch_acc = 0\n",
        "            progress_bar = tqdm(train_loader, desc=\"Training\", leave=False)\n",
        "\n",
        "            for src, trg in progress_bar:\n",
        "                src, trg = src.to(device), trg.to(device)\n",
        "\n",
        "                batch_size, trg_len = trg.shape\n",
        "\n",
        "                enc_optimizer.zero_grad()\n",
        "                dec_optimizer.zero_grad()\n",
        "\n",
        "                _, hidden, cell = self.encoder(src)\n",
        "                outputs = torch.zeros(batch_size, trg_len, self.vocab_size).to(\n",
        "                    self.device\n",
        "                )\n",
        "                x = trg[:, 0]\n",
        "                for t in range(1, trg_len):\n",
        "                    output, hidden, cell = self.decoder(x, hidden, cell)\n",
        "                    outputs[:, t, :] = output\n",
        "                    teacher_force = torch.rand(1).item() < self.teacher_forcing_ratio\n",
        "                    x = trg[:, t] if teacher_force else output.argmax(dim=1)\n",
        "                loss = criterion(\n",
        "                    outputs[:, 1:].reshape(-1, self.vocab_size), trg[:, 1:].reshape(-1)\n",
        "                )\n",
        "                loss.backward()\n",
        "                enc_optimizer.step()\n",
        "                dec_optimizer.step()\n",
        "\n",
        "                epoch_loss += loss.item()\n",
        "\n",
        "                preds = outputs.argmax(dim=2)\n",
        "                correct = (preds == trg).float().sum().item()\n",
        "                total = trg.numel()\n",
        "                batch_acc = correct / total\n",
        "                epoch_acc += batch_acc\n",
        "\n",
        "                progress_bar.set_postfix(\n",
        "                    loss=f\"{loss.item():.4f}\", acc=f\"{batch_acc:.4f}\"\n",
        "                )\n",
        "\n",
        "            train_loss = epoch_loss / len(train_loader)\n",
        "            train_acc = epoch_acc / len(train_loader)\n",
        "\n",
        "            # ---------------- VALIDATION ---------------- #\n",
        "            self.encoder.eval()\n",
        "            self.decoder.eval()\n",
        "            val_epoch_loss = 0\n",
        "            val_epoch_acc = 0\n",
        "            progress_bar = tqdm(test_loader, desc=\"Validating\", leave=False)\n",
        "\n",
        "            with torch.no_grad():\n",
        "                for src, trg in progress_bar:\n",
        "                    src, trg = src.to(device), trg.to(device)\n",
        "                    batch_size, trg_len = trg.shape\n",
        "                    _, hidden, cell = self.encoder(src)\n",
        "                    outputs = torch.zeros(batch_size, trg_len, self.vocab_size).to(\n",
        "                        self.device\n",
        "                    )\n",
        "                    x = trg[:, 0]\n",
        "                    for t in range(1, trg_len):\n",
        "                        output, hidden, cell = self.decoder(x, hidden, cell)\n",
        "                        outputs[:, t, :] = output\n",
        "                        x = output.argmax(dim=1)\n",
        "\n",
        "                    loss = criterion(\n",
        "                        outputs[:, 1:].reshape(-1, self.vocab_size),\n",
        "                        trg[:, 1:].reshape(-1),\n",
        "                    )\n",
        "                    val_epoch_loss += loss.item()\n",
        "\n",
        "                    preds = outputs.argmax(dim=2)\n",
        "                    correct = (preds == trg).float().sum().item()\n",
        "                    total = trg.numel()\n",
        "                    batch_acc = correct / total\n",
        "                    val_epoch_acc += batch_acc\n",
        "\n",
        "                    progress_bar.set_postfix(\n",
        "                        loss=f\"{loss.item():.4f}\", acc=f\"{batch_acc:.4f}\"\n",
        "                    )\n",
        "\n",
        "            val_loss = val_epoch_loss / len(test_loader)\n",
        "            val_acc = val_epoch_acc / len(test_loader)\n",
        "            print(\n",
        "                f\"Train loss : {train_loss}, Train accuracy : {train_acc}, Val_loss : {val_loss}, val accuracy : {val_acc}\"\n",
        "            )\n",
        "            encoder_scheduler.step(val_loss)\n",
        "            decoder_scheduler.step(val_loss)\n",
        "        return train_loss, train_acc, val_loss, val_acc\n",
        "\n",
        "    def predict(self, src, trg):\n",
        "        self.encoder.eval()\n",
        "        self.decoder.eval()\n",
        "        with torch.no_grad():\n",
        "            src, trg = src.to(self.device), trg.to(self.device)\n",
        "            batch_size, trg_len = trg.shape\n",
        "            _, hidden, cell = self.encoder(src)\n",
        "            outputs = torch.zeros(batch_size, trg_len, self.vocab_size).to(self.device)\n",
        "            x = trg[:, 0]\n",
        "            for t in range(1, trg_len):\n",
        "                output, hidden, cell = self.decoder(x, hidden, cell)\n",
        "                outputs[:, t, :] = output\n",
        "                x = output.argmax(dim=1)\n",
        "            return outputs"
      ]
    },
    {
      "cell_type": "code",
      "execution_count": 10,
      "id": "32613de9",
      "metadata": {
        "execution": {
          "iopub.execute_input": "2025-03-13T10:48:09.012020Z",
          "iopub.status.busy": "2025-03-13T10:48:09.011812Z",
          "iopub.status.idle": "2025-03-13T10:48:13.021377Z",
          "shell.execute_reply": "2025-03-13T10:48:13.020490Z"
        },
        "id": "32613de9",
        "papermill": {
          "duration": 4.014625,
          "end_time": "2025-03-13T10:48:13.023033",
          "exception": false,
          "start_time": "2025-03-13T10:48:09.008408",
          "status": "completed"
        },
        "tags": []
      },
      "outputs": [],
      "source": [
        "import torch\n",
        "import torch.nn as nn\n",
        "import torch.optim as optim\n",
        "from tqdm import tqdm\n",
        "\n",
        "device = torch.device(\"cuda\" if torch.cuda.is_available() else \"cpu\")\n",
        "\n",
        "vocab_size = len(vocab)\n",
        "\n",
        "hidden_size = 128\n",
        "encoder = Encoder(vocab_size, hidden_size).to(device)\n",
        "decoder = Decoder(vocab_size, hidden_size).to(device)\n",
        "seq2seq = Seq2Seq(encoder, decoder, device, 0.5)\n",
        "criterion = nn.CrossEntropyLoss(ignore_index=23722)\n",
        "encoder_optimizer = optim.Adam(encoder.parameters(), lr=0.0005, weight_decay=1e-5)\n",
        "decoder_optimizer = optim.Adam(decoder.parameters(), lr=0.0005, weight_decay=1e-5)\n",
        "encoder_scheduler = optim.lr_scheduler.ReduceLROnPlateau(encoder_optimizer, mode='min', factor=0.9, patience=2)\n",
        "decoder_scheduler = optim.lr_scheduler.ReduceLROnPlateau(decoder_optimizer, mode='min', factor=0.9, patience=2)"
      ]
    },
    {
      "cell_type": "code",
      "execution_count": null,
      "id": "a6da8eb8",
      "metadata": {
        "colab": {
          "base_uri": "https://localhost:8080/"
        },
        "execution": {
          "iopub.execute_input": "2025-03-13T10:48:13.030818Z",
          "iopub.status.busy": "2025-03-13T10:48:13.030314Z",
          "iopub.status.idle": "2025-03-13T11:43:43.302080Z",
          "shell.execute_reply": "2025-03-13T11:43:43.301324Z"
        },
        "id": "a6da8eb8",
        "outputId": "624e6f77-00eb-462d-b8ca-6dc5e3b0e0cb",
        "papermill": {
          "duration": 3330.276878,
          "end_time": "2025-03-13T11:43:43.303309",
          "exception": false,
          "start_time": "2025-03-13T10:48:13.026431",
          "status": "completed"
        },
        "tags": []
      },
      "outputs": [
        {
          "name": "stdout",
          "output_type": "stream",
          "text": [
            "\n",
            "Epoch 1/20\n"
          ]
        },
        {
          "name": "stderr",
          "output_type": "stream",
          "text": [
            "                                                                                      \r"
          ]
        },
        {
          "name": "stdout",
          "output_type": "stream",
          "text": [
            "Train loss : 1.1808686043480447, Train accuracy : 0.8381042310897976, Val_loss : 1.0551651373301467, val accuracy : 0.8351365286034291\n",
            "\n",
            "Epoch 2/20\n"
          ]
        },
        {
          "name": "stderr",
          "output_type": "stream",
          "text": [
            "                                                                                      \r"
          ]
        },
        {
          "name": "stdout",
          "output_type": "stream",
          "text": [
            "Train loss : 0.8838170496663424, Train accuracy : 0.8566611126881342, Val_loss : 0.9259113985109547, val accuracy : 0.8412885273972606\n",
            "\n",
            "Epoch 3/20\n"
          ]
        },
        {
          "name": "stderr",
          "output_type": "stream",
          "text": [
            "                                                                                      \r"
          ]
        },
        {
          "name": "stdout",
          "output_type": "stream",
          "text": [
            "Train loss : 0.8455179613012053, Train accuracy : 0.8610006145362745, Val_loss : 0.9502455888817843, val accuracy : 0.8385679169897471\n",
            "\n",
            "Epoch 4/20\n"
          ]
        },
        {
          "name": "stderr",
          "output_type": "stream",
          "text": [
            "                                                                                      \r"
          ]
        },
        {
          "name": "stdout",
          "output_type": "stream",
          "text": [
            "Train loss : 0.828002705235182, Train accuracy : 0.8619580907399802, Val_loss : 0.8878032467136644, val accuracy : 0.8446256838545709\n",
            "\n",
            "Epoch 5/20\n"
          ]
        },
        {
          "name": "stderr",
          "output_type": "stream",
          "text": [
            "                                                                                      \r"
          ]
        },
        {
          "name": "stdout",
          "output_type": "stream",
          "text": [
            "Train loss : 0.8144308423263316, Train accuracy : 0.8629110371922778, Val_loss : 0.8883199506698678, val accuracy : 0.8460936826914798\n",
            "\n",
            "Epoch 6/20\n"
          ]
        },
        {
          "name": "stderr",
          "output_type": "stream",
          "text": [
            "Training:  53%|█████▎    | 411/781 [07:55<07:16,  1.18s/it, acc=0.8651, loss=0.7890]"
          ]
        }
      ],
      "source": [
        "import torch\n",
        "import torch.nn.functional as F\n",
        "from tqdm import tqdm\n",
        "\n",
        "seq2seq.train(train_loader, test_loader, encoder_optimizer, decoder_optimizer, criterion, device, encoder_scheduler, decoder_scheduler, 20)"
      ]
    }
  ],
  "metadata": {
    "accelerator": "GPU",
    "colab": {
      "gpuType": "T4",
      "provenance": []
    },
    "kaggle": {
      "accelerator": "nvidiaTeslaT4",
      "dataSources": [
        {
          "datasetId": 6838673,
          "sourceId": 11016226,
          "sourceType": "datasetVersion"
        }
      ],
      "dockerImageVersionId": 30919,
      "isGpuEnabled": true,
      "isInternetEnabled": true,
      "language": "python",
      "sourceType": "notebook"
    },
    "kernelspec": {
      "display_name": "Python (myenv)",
      "language": "python",
      "name": "torch"
    },
    "language_info": {
      "codemirror_mode": {
        "name": "ipython",
        "version": 3
      },
      "file_extension": ".py",
      "mimetype": "text/x-python",
      "name": "python",
      "nbconvert_exporter": "python",
      "pygments_lexer": "ipython3",
      "version": "3.12.3"
    },
    "papermill": {
      "default_parameters": {},
      "duration": 3351.376965,
      "end_time": "2025-03-13T11:43:46.339865",
      "environment_variables": {},
      "exception": null,
      "input_path": "__notebook__.ipynb",
      "output_path": "__notebook__.ipynb",
      "parameters": {},
      "start_time": "2025-03-13T10:47:54.962900",
      "version": "2.6.0"
    }
  },
  "nbformat": 4,
  "nbformat_minor": 5
}
