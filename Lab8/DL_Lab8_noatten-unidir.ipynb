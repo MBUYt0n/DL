{
  "cells": [
    {
      "cell_type": "code",
      "execution_count": 1,
      "id": "d0145768",
      "metadata": {
        "colab": {
          "base_uri": "https://localhost:8080/",
          "height": 424
        },
        "execution": {
          "iopub.execute_input": "2025-03-13T10:47:58.180127Z",
          "iopub.status.busy": "2025-03-13T10:47:58.179870Z",
          "iopub.status.idle": "2025-03-13T10:47:59.370514Z",
          "shell.execute_reply": "2025-03-13T10:47:59.369665Z"
        },
        "id": "d0145768",
        "outputId": "83af7e41-96d0-4368-cbc0-996710256066",
        "papermill": {
          "duration": 1.195894,
          "end_time": "2025-03-13T10:47:59.371972",
          "exception": false,
          "start_time": "2025-03-13T10:47:58.176078",
          "status": "completed"
        },
        "tags": []
      },
      "outputs": [
        {
          "data": {
            "text/html": [
              "<div>\n",
              "<style scoped>\n",
              "    .dataframe tbody tr th:only-of-type {\n",
              "        vertical-align: middle;\n",
              "    }\n",
              "\n",
              "    .dataframe tbody tr th {\n",
              "        vertical-align: top;\n",
              "    }\n",
              "\n",
              "    .dataframe thead th {\n",
              "        text-align: right;\n",
              "    }\n",
              "</style>\n",
              "<table border=\"1\" class=\"dataframe\">\n",
              "  <thead>\n",
              "    <tr style=\"text-align: right;\">\n",
              "      <th></th>\n",
              "      <th>English</th>\n",
              "      <th>Spanish</th>\n",
              "    </tr>\n",
              "  </thead>\n",
              "  <tbody>\n",
              "    <tr>\n",
              "      <th>6524</th>\n",
              "      <td>[2, 333, 2251, 878, 224, 3, 0, 0, 0, 0, 0, 0, ...</td>\n",
              "      <td>[2, 372, 2982, 895, 224, 3, 0, 0, 0, 0, 0, 0, ...</td>\n",
              "    </tr>\n",
              "    <tr>\n",
              "      <th>48263</th>\n",
              "      <td>[2, 333, 1294, 304, 272, 1034, 606, 224, 3, 0,...</td>\n",
              "      <td>[2, 401, 981, 316, 375, 7588, 627, 224, 3, 0, ...</td>\n",
              "    </tr>\n",
              "    <tr>\n",
              "      <th>105549</th>\n",
              "      <td>[2, 7319, 5646, 334, 300, 12898, 3942, 332, 14...</td>\n",
              "      <td>[2, 331, 6643, 5646, 318, 321, 3936, 500, 3975...</td>\n",
              "    </tr>\n",
              "    <tr>\n",
              "      <th>37443</th>\n",
              "      <td>[2, 290, 13989, 465, 5108, 224, 3, 0, 0, 0, 0,...</td>\n",
              "      <td>[2, 290, 21515, 352, 9074, 224, 3, 0, 0, 0, 0,...</td>\n",
              "    </tr>\n",
              "    <tr>\n",
              "      <th>60512</th>\n",
              "      <td>[2, 426, 580, 290, 663, 404, 398, 224, 3, 0, 0...</td>\n",
              "      <td>[2, 470, 444, 2160, 927, 690, 224, 3, 0, 0, 0,...</td>\n",
              "    </tr>\n",
              "    <tr>\n",
              "      <th>...</th>\n",
              "      <td>...</td>\n",
              "      <td>...</td>\n",
              "    </tr>\n",
              "    <tr>\n",
              "      <th>100692</th>\n",
              "      <td>[2, 270, 982, 290, 657, 803, 706, 304, 1042, 2...</td>\n",
              "      <td>[2, 1363, 316, 290, 2984, 375, 19476, 1400, 78...</td>\n",
              "    </tr>\n",
              "    <tr>\n",
              "      <th>39722</th>\n",
              "      <td>[2, 270, 1581, 361, 391, 300, 2356, 224, 3, 0,...</td>\n",
              "      <td>[2, 1325, 563, 387, 321, 2356, 224, 3, 0, 0, 0...</td>\n",
              "    </tr>\n",
              "    <tr>\n",
              "      <th>34845</th>\n",
              "      <td>[2, 270, 3154, 304, 576, 1044, 224, 3, 0, 0, 0...</td>\n",
              "      <td>[2, 3990, 316, 5530, 2164, 224, 3, 0, 0, 0, 0,...</td>\n",
              "    </tr>\n",
              "    <tr>\n",
              "      <th>62465</th>\n",
              "      <td>[2, 270, 4715, 402, 3395, 272, 479, 718, 224, ...</td>\n",
              "      <td>[2, 535, 372, 2498, 403, 3354, 265, 352, 1535,...</td>\n",
              "    </tr>\n",
              "    <tr>\n",
              "      <th>68897</th>\n",
              "      <td>[2, 290, 657, 718, 528, 658, 333, 696, 224, 3,...</td>\n",
              "      <td>[2, 290, 653, 8985, 453, 4224, 224, 3, 0, 0, 0...</td>\n",
              "    </tr>\n",
              "  </tbody>\n",
              "</table>\n",
              "<p>128982 rows × 2 columns</p>\n",
              "</div>"
            ],
            "text/plain": [
              "                                                  English  \\\n",
              "6524    [2, 333, 2251, 878, 224, 3, 0, 0, 0, 0, 0, 0, ...   \n",
              "48263   [2, 333, 1294, 304, 272, 1034, 606, 224, 3, 0,...   \n",
              "105549  [2, 7319, 5646, 334, 300, 12898, 3942, 332, 14...   \n",
              "37443   [2, 290, 13989, 465, 5108, 224, 3, 0, 0, 0, 0,...   \n",
              "60512   [2, 426, 580, 290, 663, 404, 398, 224, 3, 0, 0...   \n",
              "...                                                   ...   \n",
              "100692  [2, 270, 982, 290, 657, 803, 706, 304, 1042, 2...   \n",
              "39722   [2, 270, 1581, 361, 391, 300, 2356, 224, 3, 0,...   \n",
              "34845   [2, 270, 3154, 304, 576, 1044, 224, 3, 0, 0, 0...   \n",
              "62465   [2, 270, 4715, 402, 3395, 272, 479, 718, 224, ...   \n",
              "68897   [2, 290, 657, 718, 528, 658, 333, 696, 224, 3,...   \n",
              "\n",
              "                                                  Spanish  \n",
              "6524    [2, 372, 2982, 895, 224, 3, 0, 0, 0, 0, 0, 0, ...  \n",
              "48263   [2, 401, 981, 316, 375, 7588, 627, 224, 3, 0, ...  \n",
              "105549  [2, 331, 6643, 5646, 318, 321, 3936, 500, 3975...  \n",
              "37443   [2, 290, 21515, 352, 9074, 224, 3, 0, 0, 0, 0,...  \n",
              "60512   [2, 470, 444, 2160, 927, 690, 224, 3, 0, 0, 0,...  \n",
              "...                                                   ...  \n",
              "100692  [2, 1363, 316, 290, 2984, 375, 19476, 1400, 78...  \n",
              "39722   [2, 1325, 563, 387, 321, 2356, 224, 3, 0, 0, 0...  \n",
              "34845   [2, 3990, 316, 5530, 2164, 224, 3, 0, 0, 0, 0,...  \n",
              "62465   [2, 535, 372, 2498, 403, 3354, 265, 352, 1535,...  \n",
              "68897   [2, 290, 653, 8985, 453, 4224, 224, 3, 0, 0, 0...  \n",
              "\n",
              "[128982 rows x 2 columns]"
            ]
          },
          "execution_count": 1,
          "metadata": {},
          "output_type": "execute_result"
        }
      ],
      "source": [
        "import pandas as pd\n",
        "from sklearn.utils import shuffle\n",
        "df = pd.read_csv(f\"EnglishOrSpanish/output_joint1.csv\")\n",
        "df = shuffle(df)\n",
        "df"
      ]
    },
    {
      "cell_type": "code",
      "execution_count": 2,
      "id": "7109b156",
      "metadata": {
        "colab": {
          "base_uri": "https://localhost:8080/",
          "height": 424
        },
        "execution": {
          "iopub.execute_input": "2025-03-13T10:47:59.380062Z",
          "iopub.status.busy": "2025-03-13T10:47:59.379827Z",
          "iopub.status.idle": "2025-03-13T10:48:05.458226Z",
          "shell.execute_reply": "2025-03-13T10:48:05.457363Z"
        },
        "id": "7109b156",
        "outputId": "5b92d6a5-48cf-4a1b-e00f-7c2db2dee860",
        "papermill": {
          "duration": 6.084367,
          "end_time": "2025-03-13T10:48:05.459670",
          "exception": false,
          "start_time": "2025-03-13T10:47:59.375303",
          "status": "completed"
        },
        "tags": []
      },
      "outputs": [
        {
          "data": {
            "text/html": [
              "<div>\n",
              "<style scoped>\n",
              "    .dataframe tbody tr th:only-of-type {\n",
              "        vertical-align: middle;\n",
              "    }\n",
              "\n",
              "    .dataframe tbody tr th {\n",
              "        vertical-align: top;\n",
              "    }\n",
              "\n",
              "    .dataframe thead th {\n",
              "        text-align: right;\n",
              "    }\n",
              "</style>\n",
              "<table border=\"1\" class=\"dataframe\">\n",
              "  <thead>\n",
              "    <tr style=\"text-align: right;\">\n",
              "      <th></th>\n",
              "      <th>English</th>\n",
              "      <th>Spanish</th>\n",
              "    </tr>\n",
              "  </thead>\n",
              "  <tbody>\n",
              "    <tr>\n",
              "      <th>6524</th>\n",
              "      <td>[2, 333, 2251, 878, 224, 3, 0, 0, 0, 0, 0, 0, ...</td>\n",
              "      <td>[2, 372, 2982, 895, 224, 3, 0, 0, 0, 0, 0, 0, ...</td>\n",
              "    </tr>\n",
              "    <tr>\n",
              "      <th>48263</th>\n",
              "      <td>[2, 333, 1294, 304, 272, 1034, 606, 224, 3, 0,...</td>\n",
              "      <td>[2, 401, 981, 316, 375, 7588, 627, 224, 3, 0, ...</td>\n",
              "    </tr>\n",
              "    <tr>\n",
              "      <th>105549</th>\n",
              "      <td>[2, 7319, 5646, 334, 300, 12898, 3942, 332, 14...</td>\n",
              "      <td>[2, 331, 6643, 5646, 318, 321, 3936, 500, 3975...</td>\n",
              "    </tr>\n",
              "    <tr>\n",
              "      <th>37443</th>\n",
              "      <td>[2, 290, 13989, 465, 5108, 224, 3, 0, 0, 0, 0,...</td>\n",
              "      <td>[2, 290, 21515, 352, 9074, 224, 3, 0, 0, 0, 0,...</td>\n",
              "    </tr>\n",
              "    <tr>\n",
              "      <th>60512</th>\n",
              "      <td>[2, 426, 580, 290, 663, 404, 398, 224, 3, 0, 0...</td>\n",
              "      <td>[2, 470, 444, 2160, 927, 690, 224, 3, 0, 0, 0,...</td>\n",
              "    </tr>\n",
              "    <tr>\n",
              "      <th>...</th>\n",
              "      <td>...</td>\n",
              "      <td>...</td>\n",
              "    </tr>\n",
              "    <tr>\n",
              "      <th>100692</th>\n",
              "      <td>[2, 270, 982, 290, 657, 803, 706, 304, 1042, 2...</td>\n",
              "      <td>[2, 1363, 316, 290, 2984, 375, 19476, 1400, 78...</td>\n",
              "    </tr>\n",
              "    <tr>\n",
              "      <th>39722</th>\n",
              "      <td>[2, 270, 1581, 361, 391, 300, 2356, 224, 3, 0,...</td>\n",
              "      <td>[2, 1325, 563, 387, 321, 2356, 224, 3, 0, 0, 0...</td>\n",
              "    </tr>\n",
              "    <tr>\n",
              "      <th>34845</th>\n",
              "      <td>[2, 270, 3154, 304, 576, 1044, 224, 3, 0, 0, 0...</td>\n",
              "      <td>[2, 3990, 316, 5530, 2164, 224, 3, 0, 0, 0, 0,...</td>\n",
              "    </tr>\n",
              "    <tr>\n",
              "      <th>62465</th>\n",
              "      <td>[2, 270, 4715, 402, 3395, 272, 479, 718, 224, ...</td>\n",
              "      <td>[2, 535, 372, 2498, 403, 3354, 265, 352, 1535,...</td>\n",
              "    </tr>\n",
              "    <tr>\n",
              "      <th>68897</th>\n",
              "      <td>[2, 290, 657, 718, 528, 658, 333, 696, 224, 3,...</td>\n",
              "      <td>[2, 290, 653, 8985, 453, 4224, 224, 3, 0, 0, 0...</td>\n",
              "    </tr>\n",
              "  </tbody>\n",
              "</table>\n",
              "<p>128982 rows × 2 columns</p>\n",
              "</div>"
            ],
            "text/plain": [
              "                                                  English  \\\n",
              "6524    [2, 333, 2251, 878, 224, 3, 0, 0, 0, 0, 0, 0, ...   \n",
              "48263   [2, 333, 1294, 304, 272, 1034, 606, 224, 3, 0,...   \n",
              "105549  [2, 7319, 5646, 334, 300, 12898, 3942, 332, 14...   \n",
              "37443   [2, 290, 13989, 465, 5108, 224, 3, 0, 0, 0, 0,...   \n",
              "60512   [2, 426, 580, 290, 663, 404, 398, 224, 3, 0, 0...   \n",
              "...                                                   ...   \n",
              "100692  [2, 270, 982, 290, 657, 803, 706, 304, 1042, 2...   \n",
              "39722   [2, 270, 1581, 361, 391, 300, 2356, 224, 3, 0,...   \n",
              "34845   [2, 270, 3154, 304, 576, 1044, 224, 3, 0, 0, 0...   \n",
              "62465   [2, 270, 4715, 402, 3395, 272, 479, 718, 224, ...   \n",
              "68897   [2, 290, 657, 718, 528, 658, 333, 696, 224, 3,...   \n",
              "\n",
              "                                                  Spanish  \n",
              "6524    [2, 372, 2982, 895, 224, 3, 0, 0, 0, 0, 0, 0, ...  \n",
              "48263   [2, 401, 981, 316, 375, 7588, 627, 224, 3, 0, ...  \n",
              "105549  [2, 331, 6643, 5646, 318, 321, 3936, 500, 3975...  \n",
              "37443   [2, 290, 21515, 352, 9074, 224, 3, 0, 0, 0, 0,...  \n",
              "60512   [2, 470, 444, 2160, 927, 690, 224, 3, 0, 0, 0,...  \n",
              "...                                                   ...  \n",
              "100692  [2, 1363, 316, 290, 2984, 375, 19476, 1400, 78...  \n",
              "39722   [2, 1325, 563, 387, 321, 2356, 224, 3, 0, 0, 0...  \n",
              "34845   [2, 3990, 316, 5530, 2164, 224, 3, 0, 0, 0, 0,...  \n",
              "62465   [2, 535, 372, 2498, 403, 3354, 265, 352, 1535,...  \n",
              "68897   [2, 290, 653, 8985, 453, 4224, 224, 3, 0, 0, 0...  \n",
              "\n",
              "[128982 rows x 2 columns]"
            ]
          },
          "execution_count": 2,
          "metadata": {},
          "output_type": "execute_result"
        }
      ],
      "source": [
        "import ast\n",
        "\n",
        "df[\"English\"] = df[\"English\"].apply(ast.literal_eval)\n",
        "df[\"Spanish\"] = df[\"Spanish\"].apply(ast.literal_eval)\n",
        "df"
      ]
    },
    {
      "cell_type": "code",
      "execution_count": 3,
      "id": "c303ca41",
      "metadata": {
        "execution": {
          "iopub.execute_input": "2025-03-13T10:48:05.466982Z",
          "iopub.status.busy": "2025-03-13T10:48:05.466759Z",
          "iopub.status.idle": "2025-03-13T10:48:08.909453Z",
          "shell.execute_reply": "2025-03-13T10:48:08.908740Z"
        },
        "id": "c303ca41",
        "papermill": {
          "duration": 3.447969,
          "end_time": "2025-03-13T10:48:08.910980",
          "exception": false,
          "start_time": "2025-03-13T10:48:05.463011",
          "status": "completed"
        },
        "tags": []
      },
      "outputs": [],
      "source": [
        "import torch\n",
        "from torch.utils.data import DataLoader, TensorDataset\n",
        "\n",
        "train = TensorDataset(\n",
        "    torch.tensor(df[\"English\"][:100000].tolist(), dtype=torch.long),\n",
        "    torch.tensor(df[\"Spanish\"][:100000].tolist(), dtype=torch.long),\n",
        ")\n",
        "test = TensorDataset(\n",
        "    torch.tensor(df[\"English\"][100000:].tolist(), dtype=torch.long),\n",
        "    torch.tensor(df[\"Spanish\"][100000:].tolist(), dtype=torch.long),\n",
        ")\n",
        "train_loader = DataLoader(train, batch_size=384, shuffle=True, drop_last=True)\n",
        "test_loader = DataLoader(test, batch_size=384, shuffle=False, drop_last=True)"
      ]
    },
    {
      "cell_type": "code",
      "execution_count": 4,
      "id": "4b15a79c",
      "metadata": {
        "execution": {
          "iopub.execute_input": "2025-03-13T10:48:08.918622Z",
          "iopub.status.busy": "2025-03-13T10:48:08.918261Z",
          "iopub.status.idle": "2025-03-13T10:48:08.959614Z",
          "shell.execute_reply": "2025-03-13T10:48:08.958953Z"
        },
        "id": "4b15a79c",
        "papermill": {
          "duration": 0.046354,
          "end_time": "2025-03-13T10:48:08.960915",
          "exception": false,
          "start_time": "2025-03-13T10:48:08.914561",
          "status": "completed"
        },
        "tags": []
      },
      "outputs": [],
      "source": [
        "import json\n",
        "with open(f\"EnglishOrSpanish/vocab.json\", \"r\") as f:\n",
        "    vocab = json.load(f)"
      ]
    },
    {
      "cell_type": "code",
      "execution_count": 5,
      "id": "e29c682e",
      "metadata": {
        "execution": {
          "iopub.execute_input": "2025-03-13T10:48:08.967926Z",
          "iopub.status.busy": "2025-03-13T10:48:08.967712Z",
          "iopub.status.idle": "2025-03-13T10:48:08.973280Z",
          "shell.execute_reply": "2025-03-13T10:48:08.972684Z"
        },
        "id": "e29c682e",
        "papermill": {
          "duration": 0.01032,
          "end_time": "2025-03-13T10:48:08.974405",
          "exception": false,
          "start_time": "2025-03-13T10:48:08.964085",
          "status": "completed"
        },
        "tags": []
      },
      "outputs": [],
      "source": [
        "import torch\n",
        "import torch.nn as nn\n",
        "\n",
        "\n",
        "class Encoder(nn.Module):\n",
        "    def __init__(\n",
        "        self, vocab_size, embedding_dim, hidden_size, num_layers=2, dropout=0.3\n",
        "    ):\n",
        "        super(Encoder, self).__init__()\n",
        "        self.num_layers = num_layers\n",
        "        self.vocab_size = vocab_size\n",
        "\n",
        "        self.embedding = nn.Embedding(vocab_size, embedding_dim, padding_idx=0)\n",
        "        self.lstm = nn.LSTM(\n",
        "            embedding_dim,\n",
        "            hidden_size,\n",
        "            num_layers=num_layers,\n",
        "            batch_first=True,\n",
        "            dropout=dropout,\n",
        "        )\n",
        "        self.apply(self._init_weights)\n",
        "\n",
        "    def _init_weights(self, module):\n",
        "        if isinstance(module, nn.LSTM):\n",
        "            for name, param in module.named_parameters():\n",
        "                if \"weight\" in name:\n",
        "                    nn.init.xavier_uniform_(param)\n",
        "                elif \"bias\" in name:\n",
        "                    nn.init.zeros_(param)\n",
        "\n",
        "    def forward(self, x):\n",
        "        embedded = self.embedding(x)\n",
        "        output, (hidden, cell) = self.lstm(embedded)\n",
        "        return output, hidden, cell"
      ]
    },
    {
      "cell_type": "code",
      "execution_count": 6,
      "id": "cada738e",
      "metadata": {
        "execution": {
          "iopub.execute_input": "2025-03-13T10:48:08.981157Z",
          "iopub.status.busy": "2025-03-13T10:48:08.980966Z",
          "iopub.status.idle": "2025-03-13T10:48:08.985493Z",
          "shell.execute_reply": "2025-03-13T10:48:08.984942Z"
        },
        "id": "cada738e",
        "papermill": {
          "duration": 0.009156,
          "end_time": "2025-03-13T10:48:08.986692",
          "exception": false,
          "start_time": "2025-03-13T10:48:08.977536",
          "status": "completed"
        },
        "tags": []
      },
      "outputs": [],
      "source": [
        "import torch\n",
        "import torch.nn as nn\n",
        "\n",
        "\n",
        "class Decoder(nn.Module):\n",
        "    def __init__(\n",
        "        self, vocab_size, embedding_dim, hidden_size, num_layers=2, dropout=0.3\n",
        "    ):\n",
        "        super(Decoder, self).__init__()\n",
        "        self.hidden_size = hidden_size\n",
        "        self.num_layers = num_layers\n",
        "        self.vocab_size = vocab_size\n",
        "\n",
        "        self.embedding = nn.Embedding(vocab_size, embedding_dim, padding_idx=0)\n",
        "\n",
        "        self.lstm = nn.LSTM(\n",
        "            embedding_dim,\n",
        "            hidden_size,\n",
        "            num_layers=num_layers,\n",
        "            batch_first=True,\n",
        "            dropout=dropout,\n",
        "        )\n",
        "        self.fc = nn.Linear(hidden_size, vocab_size)\n",
        "        self.apply(self._init_weights)\n",
        "        self.dropout = nn.Dropout(dropout)\n",
        "\n",
        "    def _init_weights(self, module):\n",
        "        if isinstance(module, nn.LSTM):\n",
        "            for name, param in module.named_parameters():\n",
        "                if \"weight\" in name:\n",
        "                    nn.init.xavier_uniform_(param)\n",
        "                elif \"bias\" in name:\n",
        "                    nn.init.zeros_(param)\n",
        "\n",
        "    def forward(self, x, hidden, cell):\n",
        "        x = self.embedding(x)\n",
        "        x = x.unsqueeze(1)\n",
        "        output, (hidden, cell) = self.lstm(x, (hidden, cell))\n",
        "        output = self.dropout(output)\n",
        "        output = self.fc(output)\n",
        "        return output, hidden, cell"
      ]
    },
    {
      "cell_type": "code",
      "execution_count": 7,
      "id": "ac8cc2ad",
      "metadata": {
        "execution": {
          "iopub.execute_input": "2025-03-13T10:48:08.993442Z",
          "iopub.status.busy": "2025-03-13T10:48:08.993247Z",
          "iopub.status.idle": "2025-03-13T10:48:09.004310Z",
          "shell.execute_reply": "2025-03-13T10:48:09.003585Z"
        },
        "id": "ac8cc2ad",
        "papermill": {
          "duration": 0.015709,
          "end_time": "2025-03-13T10:48:09.005397",
          "exception": false,
          "start_time": "2025-03-13T10:48:08.989688",
          "status": "completed"
        },
        "tags": []
      },
      "outputs": [],
      "source": [
        "import torch.nn as nn\n",
        "import torch\n",
        "import random\n",
        "\n",
        "class Seq2Seq(nn.Module):\n",
        "    def __init__(self, encoder, decoder, vocab_size, teacher_forcing_ratio=0.5):\n",
        "        super(Seq2Seq, self).__init__()\n",
        "        self.encoder = encoder\n",
        "        self.decoder = decoder\n",
        "        self.vocab_size = vocab_size\n",
        "        self.teacher_forcing_ratio = teacher_forcing_ratio\n",
        "\n",
        "    def forward(self, src, trg):\n",
        "        _, hidden, cell = self.encoder(src)\n",
        "        outputs = torch.zeros(trg.shape[0], trg.shape[1], self.decoder.vocab_size).to(\"cuda\")\n",
        "        x = trg[:, 0]\n",
        "        for t in range(1, trg.shape[1]):\n",
        "            output, hidden, cell = self.decoder(x, hidden, cell)\n",
        "            output = output.squeeze(1)\n",
        "            outputs[:, t, :] = output\n",
        "            use_teacher_forcing = random.random() < self.teacher_forcing_ratio\n",
        "            x = trg[:, t] if use_teacher_forcing else output.argmax(dim=1)\n",
        "\n",
        "        return outputs\n",
        "    \n",
        "    def predict(self, src):\n",
        "        _, hidden, cell = self.encoder(src)\n",
        "        outputs = torch.zeros(src.shape[0], src.shape[1], self.decoder.vocab_size).to(\"cuda\")\n",
        "        x = src[:, 0]\n",
        "        for i in range(1, src.shape[1]):\n",
        "            output, hidden, cell = self.decoder(x, hidden, cell)\n",
        "            output = output.squeeze(1)\n",
        "            outputs[:, i, :] = output\n",
        "            x = output.argmax(dim=1)\n",
        "        \n",
        "        return outputs"
      ]
    },
    {
      "cell_type": "code",
      "execution_count": 8,
      "id": "183af78b",
      "metadata": {},
      "outputs": [
        {
          "name": "stderr",
          "output_type": "stream",
          "text": [
            "2025-03-22 14:27:46.550663: I tensorflow/core/util/port.cc:153] oneDNN custom operations are on. You may see slightly different numerical results due to floating-point round-off errors from different computation orders. To turn them off, set the environment variable `TF_ENABLE_ONEDNN_OPTS=0`.\n",
            "2025-03-22 14:27:46.558984: E external/local_xla/xla/stream_executor/cuda/cuda_fft.cc:477] Unable to register cuFFT factory: Attempting to register factory for plugin cuFFT when one has already been registered\n",
            "WARNING: All log messages before absl::InitializeLog() is called are written to STDERR\n",
            "E0000 00:00:1742633866.569395   27402 cuda_dnn.cc:8310] Unable to register cuDNN factory: Attempting to register factory for plugin cuDNN when one has already been registered\n",
            "E0000 00:00:1742633866.572386   27402 cuda_blas.cc:1418] Unable to register cuBLAS factory: Attempting to register factory for plugin cuBLAS when one has already been registered\n",
            "2025-03-22 14:27:46.583086: I tensorflow/core/platform/cpu_feature_guard.cc:210] This TensorFlow binary is optimized to use available CPU instructions in performance-critical operations.\n",
            "To enable the following instructions: AVX2 AVX_VNNI FMA, in other operations, rebuild TensorFlow with the appropriate compiler flags.\n"
          ]
        }
      ],
      "source": [
        "from torch.utils.tensorboard import SummaryWriter\n",
        "from tqdm import tqdm\n",
        "\n",
        "\n",
        "def train(\n",
        "    model,\n",
        "    train_loader,\n",
        "    test_loader,\n",
        "    optimizer,\n",
        "    criterion,\n",
        "    device,\n",
        "    scheduler,\n",
        "    num_epochs,\n",
        "):\n",
        "    writer = SummaryWriter()\n",
        "\n",
        "    for epoch in range(num_epochs):\n",
        "        print(f\"\\nEpoch {epoch+1}/{num_epochs}\")\n",
        "        model.encoder.train()\n",
        "        model.decoder.train()\n",
        "        epoch_loss = 0\n",
        "        progress_bar = tqdm(train_loader, desc=\"Training\", leave=False)\n",
        "\n",
        "        for src, trg in progress_bar:\n",
        "            src, trg = src.to(device), trg.to(device)\n",
        "            optimizer.zero_grad()\n",
        "            outputs = model(src, trg)\n",
        "            loss = criterion(\n",
        "                outputs[:, 1:].reshape(-1, model.vocab_size), trg[:, 1:].reshape(-1)\n",
        "            )\n",
        "            loss.backward()\n",
        "            optimizer.step()\n",
        "\n",
        "            epoch_loss += loss.item()\n",
        "\n",
        "            progress_bar.set_postfix(loss=f\"{loss.item():.4f}\")\n",
        "\n",
        "        train_loss = epoch_loss / len(train_loader)\n",
        "\n",
        "        # ---------------- VALIDATION ---------------- #\n",
        "        model.encoder.eval()\n",
        "        model.decoder.eval()\n",
        "        val_epoch_loss = 0\n",
        "        progress_bar = tqdm(test_loader, desc=\"Validating\", leave=False)\n",
        "\n",
        "        with torch.no_grad():\n",
        "            for src, trg in progress_bar:\n",
        "                src, trg = src.to(device), trg.to(device)\n",
        "                outputs = model(src, trg)\n",
        "                loss = criterion(\n",
        "                    outputs[:, 1:].reshape(-1, model.vocab_size),\n",
        "                    trg[:, 1:].reshape(-1),\n",
        "                )\n",
        "                val_epoch_loss += loss.item()\n",
        "\n",
        "                progress_bar.set_postfix(loss=f\"{loss.item():.4f}\")\n",
        "\n",
        "        val_loss = val_epoch_loss / len(test_loader)\n",
        "        scheduler.step(val_loss)\n",
        "\n",
        "        writer.add_scalar(\"Loss/Train\", train_loss, epoch)\n",
        "        writer.add_scalar(\"Loss/Validation\", val_loss, epoch)\n",
        "        writer.add_scalar(\"Learning Rate\", scheduler.get_last_lr()[0], epoch)\n",
        "\n",
        "        print(\n",
        "            f\"Train loss : {train_loss}, Val_loss : {val_loss}, lr: {scheduler.get_last_lr()[0]}\"\n",
        "        )\n",
        "\n",
        "    writer.close()\n",
        "    return train_loss, val_loss"
      ]
    },
    {
      "cell_type": "code",
      "execution_count": 9,
      "id": "32613de9",
      "metadata": {
        "execution": {
          "iopub.execute_input": "2025-03-13T10:48:09.012020Z",
          "iopub.status.busy": "2025-03-13T10:48:09.011812Z",
          "iopub.status.idle": "2025-03-13T10:48:13.021377Z",
          "shell.execute_reply": "2025-03-13T10:48:13.020490Z"
        },
        "id": "32613de9",
        "papermill": {
          "duration": 4.014625,
          "end_time": "2025-03-13T10:48:13.023033",
          "exception": false,
          "start_time": "2025-03-13T10:48:09.008408",
          "status": "completed"
        },
        "tags": []
      },
      "outputs": [],
      "source": [
        "import torch\n",
        "import torch.nn as nn\n",
        "import torch.optim as optim\n",
        "from tqdm import tqdm\n",
        "\n",
        "device = torch.device(\"cuda\" if torch.cuda.is_available() else \"cpu\")\n",
        "\n",
        "vocab_size = len(vocab)\n",
        "embedding_dim = 256\n",
        "hidden_size = 32\n",
        "encoder = Encoder(vocab_size, embedding_dim, hidden_size).to(device)\n",
        "decoder = Decoder(vocab_size, embedding_dim, hidden_size).to(device)\n",
        "seq2seq = Seq2Seq(encoder, decoder, vocab_size).to(device)\n",
        "criterion = nn.CrossEntropyLoss(ignore_index=0)\n",
        "optimizer = optim.Adam(seq2seq.parameters(), lr=0.001, weight_decay=1e-5)\n",
        "scheduler = optim.lr_scheduler.ReduceLROnPlateau(\n",
        "    optimizer, mode=\"min\", factor=0.5, patience=2\n",
        ")"
      ]
    },
    {
      "cell_type": "code",
      "execution_count": 10,
      "id": "a6da8eb8",
      "metadata": {
        "colab": {
          "base_uri": "https://localhost:8080/"
        },
        "execution": {
          "iopub.execute_input": "2025-03-13T10:48:13.030818Z",
          "iopub.status.busy": "2025-03-13T10:48:13.030314Z",
          "iopub.status.idle": "2025-03-13T11:43:43.302080Z",
          "shell.execute_reply": "2025-03-13T11:43:43.301324Z"
        },
        "id": "a6da8eb8",
        "outputId": "624e6f77-00eb-462d-b8ca-6dc5e3b0e0cb",
        "papermill": {
          "duration": 3330.276878,
          "end_time": "2025-03-13T11:43:43.303309",
          "exception": false,
          "start_time": "2025-03-13T10:48:13.026431",
          "status": "completed"
        },
        "tags": []
      },
      "outputs": [
        {
          "name": "stderr",
          "output_type": "stream",
          "text": [
            "                                                                        \r"
          ]
        },
        {
          "name": "stdout",
          "output_type": "stream",
          "text": [
            "Train loss : 6.962053581384512, Val_loss : 5.8326847394307455, lr: 0.001\n",
            "\n",
            "Epoch 2/30\n"
          ]
        },
        {
          "name": "stderr",
          "output_type": "stream",
          "text": [
            "                                                                        \r"
          ]
        },
        {
          "name": "stdout",
          "output_type": "stream",
          "text": [
            "Train loss : 5.8681341849840605, Val_loss : 5.643837833404541, lr: 0.001\n",
            "\n",
            "Epoch 3/30\n"
          ]
        },
        {
          "name": "stderr",
          "output_type": "stream",
          "text": [
            "                                                                        \r"
          ]
        },
        {
          "name": "stdout",
          "output_type": "stream",
          "text": [
            "Train loss : 5.674800544518691, Val_loss : 5.487871360778809, lr: 0.001\n",
            "\n",
            "Epoch 4/30\n"
          ]
        },
        {
          "name": "stderr",
          "output_type": "stream",
          "text": [
            "                                                                        \r"
          ]
        },
        {
          "name": "stdout",
          "output_type": "stream",
          "text": [
            "Train loss : 5.536694702735314, Val_loss : 5.344801680246989, lr: 0.001\n",
            "\n",
            "Epoch 5/30\n"
          ]
        },
        {
          "name": "stderr",
          "output_type": "stream",
          "text": [
            "                                                                        \r"
          ]
        },
        {
          "name": "stdout",
          "output_type": "stream",
          "text": [
            "Train loss : 5.403368581258333, Val_loss : 5.217676436106364, lr: 0.001\n",
            "\n",
            "Epoch 6/30\n"
          ]
        },
        {
          "name": "stderr",
          "output_type": "stream",
          "text": [
            "                                                                        \r"
          ]
        },
        {
          "name": "stdout",
          "output_type": "stream",
          "text": [
            "Train loss : 5.310723365270174, Val_loss : 5.122572816212972, lr: 0.001\n",
            "\n",
            "Epoch 7/30\n"
          ]
        },
        {
          "name": "stderr",
          "output_type": "stream",
          "text": [
            "                                                                        \r"
          ]
        },
        {
          "name": "stdout",
          "output_type": "stream",
          "text": [
            "Train loss : 5.23641071502979, Val_loss : 5.054786281585693, lr: 0.001\n",
            "\n",
            "Epoch 8/30\n"
          ]
        },
        {
          "name": "stderr",
          "output_type": "stream",
          "text": [
            "                                                                        \r"
          ]
        },
        {
          "name": "stdout",
          "output_type": "stream",
          "text": [
            "Train loss : 5.173215878926791, Val_loss : 4.986257368723551, lr: 0.001\n",
            "\n",
            "Epoch 9/30\n"
          ]
        },
        {
          "name": "stderr",
          "output_type": "stream",
          "text": [
            "                                                                        \r"
          ]
        },
        {
          "name": "stdout",
          "output_type": "stream",
          "text": [
            "Train loss : 5.12018260038816, Val_loss : 4.940228068033854, lr: 0.001\n",
            "\n",
            "Epoch 10/30\n"
          ]
        },
        {
          "name": "stderr",
          "output_type": "stream",
          "text": [
            "                                                                        \r"
          ]
        },
        {
          "name": "stdout",
          "output_type": "stream",
          "text": [
            "Train loss : 5.055117221978994, Val_loss : 4.87892864227295, lr: 0.001\n",
            "\n",
            "Epoch 11/30\n"
          ]
        },
        {
          "name": "stderr",
          "output_type": "stream",
          "text": [
            "                                                                        \r"
          ]
        },
        {
          "name": "stdout",
          "output_type": "stream",
          "text": [
            "Train loss : 5.0029106635313765, Val_loss : 4.814685509999593, lr: 0.001\n",
            "\n",
            "Epoch 12/30\n"
          ]
        },
        {
          "name": "stderr",
          "output_type": "stream",
          "text": [
            "                                                                        \r"
          ]
        },
        {
          "name": "stdout",
          "output_type": "stream",
          "text": [
            "Train loss : 4.957641696929931, Val_loss : 4.776050332387288, lr: 0.001\n",
            "\n",
            "Epoch 13/30\n"
          ]
        },
        {
          "name": "stderr",
          "output_type": "stream",
          "text": [
            "                                                                        \r"
          ]
        },
        {
          "name": "stdout",
          "output_type": "stream",
          "text": [
            "Train loss : 4.919378086236807, Val_loss : 4.729970893859863, lr: 0.001\n",
            "\n",
            "Epoch 14/30\n"
          ]
        },
        {
          "name": "stderr",
          "output_type": "stream",
          "text": [
            "                                                                        \r"
          ]
        },
        {
          "name": "stdout",
          "output_type": "stream",
          "text": [
            "Train loss : 4.860567234112666, Val_loss : 4.702651405334473, lr: 0.001\n",
            "\n",
            "Epoch 15/30\n"
          ]
        },
        {
          "name": "stderr",
          "output_type": "stream",
          "text": [
            "                                                                        \r"
          ]
        },
        {
          "name": "stdout",
          "output_type": "stream",
          "text": [
            "Train loss : 4.829343605041504, Val_loss : 4.673542900085449, lr: 0.001\n",
            "\n",
            "Epoch 16/30\n"
          ]
        },
        {
          "name": "stderr",
          "output_type": "stream",
          "text": [
            "                                                                        \r"
          ]
        },
        {
          "name": "stdout",
          "output_type": "stream",
          "text": [
            "Train loss : 4.79398246545058, Val_loss : 4.616695721944173, lr: 0.001\n",
            "\n",
            "Epoch 17/30\n"
          ]
        },
        {
          "name": "stderr",
          "output_type": "stream",
          "text": [
            "                                                                        \r"
          ]
        },
        {
          "name": "stdout",
          "output_type": "stream",
          "text": [
            "Train loss : 4.7584477186203005, Val_loss : 4.581541442871094, lr: 0.001\n",
            "\n",
            "Epoch 18/30\n"
          ]
        },
        {
          "name": "stderr",
          "output_type": "stream",
          "text": [
            "                                                                        \r"
          ]
        },
        {
          "name": "stdout",
          "output_type": "stream",
          "text": [
            "Train loss : 4.719582620033851, Val_loss : 4.54927973429362, lr: 0.001\n",
            "\n",
            "Epoch 19/30\n"
          ]
        },
        {
          "name": "stderr",
          "output_type": "stream",
          "text": [
            "                                                                        \r"
          ]
        },
        {
          "name": "stdout",
          "output_type": "stream",
          "text": [
            "Train loss : 4.691386985778808, Val_loss : 4.527570660909017, lr: 0.001\n",
            "\n",
            "Epoch 20/30\n"
          ]
        },
        {
          "name": "stderr",
          "output_type": "stream",
          "text": [
            "                                                                        \r"
          ]
        },
        {
          "name": "stdout",
          "output_type": "stream",
          "text": [
            "Train loss : 4.647373337012071, Val_loss : 4.47168207804362, lr: 0.001\n",
            "\n",
            "Epoch 21/30\n"
          ]
        },
        {
          "name": "stderr",
          "output_type": "stream",
          "text": [
            "                                                                        \r"
          ]
        },
        {
          "name": "stdout",
          "output_type": "stream",
          "text": [
            "Train loss : 4.619019486353948, Val_loss : 4.452079957326253, lr: 0.001\n",
            "\n",
            "Epoch 22/30\n"
          ]
        },
        {
          "name": "stderr",
          "output_type": "stream",
          "text": [
            "                                                                        \r"
          ]
        },
        {
          "name": "stdout",
          "output_type": "stream",
          "text": [
            "Train loss : 4.585276961326599, Val_loss : 4.440540059407552, lr: 0.001\n",
            "\n",
            "Epoch 23/30\n"
          ]
        },
        {
          "name": "stderr",
          "output_type": "stream",
          "text": [
            "                                                                        \r"
          ]
        },
        {
          "name": "stdout",
          "output_type": "stream",
          "text": [
            "Train loss : 4.54457033597506, Val_loss : 4.407544441223145, lr: 0.001\n",
            "\n",
            "Epoch 24/30\n"
          ]
        },
        {
          "name": "stderr",
          "output_type": "stream",
          "text": [
            "                                                                        \r"
          ]
        },
        {
          "name": "stdout",
          "output_type": "stream",
          "text": [
            "Train loss : 4.511867902829096, Val_loss : 4.373706188201904, lr: 0.001\n",
            "\n",
            "Epoch 25/30\n"
          ]
        },
        {
          "name": "stderr",
          "output_type": "stream",
          "text": [
            "                                                                        \r"
          ]
        },
        {
          "name": "stdout",
          "output_type": "stream",
          "text": [
            "Train loss : 4.485565504660973, Val_loss : 4.348975187937419, lr: 0.001\n",
            "\n",
            "Epoch 26/30\n"
          ]
        },
        {
          "name": "stderr",
          "output_type": "stream",
          "text": [
            "                                                                        \r"
          ]
        },
        {
          "name": "stdout",
          "output_type": "stream",
          "text": [
            "Train loss : 4.4672951734983, Val_loss : 4.300933996836345, lr: 0.001\n",
            "\n",
            "Epoch 27/30\n"
          ]
        },
        {
          "name": "stderr",
          "output_type": "stream",
          "text": [
            "                                                                        \r"
          ]
        },
        {
          "name": "stdout",
          "output_type": "stream",
          "text": [
            "Train loss : 4.428729394766001, Val_loss : 4.265014810562134, lr: 0.001\n",
            "\n",
            "Epoch 28/30\n"
          ]
        },
        {
          "name": "stderr",
          "output_type": "stream",
          "text": [
            "                                                                        \r"
          ]
        },
        {
          "name": "stdout",
          "output_type": "stream",
          "text": [
            "Train loss : 4.413180483304537, Val_loss : 4.265251617431641, lr: 0.001\n",
            "\n",
            "Epoch 29/30\n"
          ]
        },
        {
          "name": "stderr",
          "output_type": "stream",
          "text": [
            "                                                                        \r"
          ]
        },
        {
          "name": "stdout",
          "output_type": "stream",
          "text": [
            "Train loss : 4.383234728299654, Val_loss : 4.239299430847168, lr: 0.001\n",
            "\n",
            "Epoch 30/30\n"
          ]
        },
        {
          "name": "stderr",
          "output_type": "stream",
          "text": [
            "                                                                        "
          ]
        },
        {
          "name": "stdout",
          "output_type": "stream",
          "text": [
            "Train loss : 4.351670787884639, Val_loss : 4.217301654815674, lr: 0.001\n"
          ]
        },
        {
          "name": "stderr",
          "output_type": "stream",
          "text": [
            "\r"
          ]
        },
        {
          "data": {
            "text/plain": [
              "(4.351670787884639, 4.217301654815674)"
            ]
          },
          "execution_count": 10,
          "metadata": {},
          "output_type": "execute_result"
        }
      ],
      "source": [
        "import torch\n",
        "import torch.nn.functional as F\n",
        "from tqdm import tqdm\n",
        "\n",
        "train(\n",
        "    seq2seq,\n",
        "    train_loader,\n",
        "    test_loader,\n",
        "    optimizer,\n",
        "    criterion,\n",
        "    device,\n",
        "    scheduler,\n",
        "    30,\n",
        ")"
      ]
    },
    {
      "cell_type": "code",
      "execution_count": 11,
      "id": "93205197",
      "metadata": {},
      "outputs": [],
      "source": [
        "torch.save(seq2seq.state_dict(), \"seq2seq-noattention.pth\")"
      ]
    },
    {
      "cell_type": "code",
      "execution_count": 13,
      "id": "2b3cd804",
      "metadata": {},
      "outputs": [
        {
          "data": {
            "text/plain": [
              "<All keys matched successfully>"
            ]
          },
          "execution_count": 13,
          "metadata": {},
          "output_type": "execute_result"
        }
      ],
      "source": [
        "device = torch.device(\"cuda\" if torch.cuda.is_available() else \"cpu\")\n",
        "\n",
        "vocab_size = len(vocab)\n",
        "embedding_dim = 256\n",
        "hidden_size = 32\n",
        "encoder = Encoder(vocab_size, embedding_dim, hidden_size).to(device)\n",
        "decoder = Decoder(vocab_size, embedding_dim, hidden_size).to(device)\n",
        "seq2seq = Seq2Seq(encoder, decoder, vocab_size).to(device)\n",
        "seq2seq.load_state_dict(torch.load(\"seq2seq-noattention.pth\", weights_only=True))"
      ]
    },
    {
      "cell_type": "code",
      "execution_count": 14,
      "id": "dc2920d6",
      "metadata": {},
      "outputs": [
        {
          "data": {
            "text/plain": [
              "torch.Size([384, 18])"
            ]
          },
          "execution_count": 14,
          "metadata": {},
          "output_type": "execute_result"
        }
      ],
      "source": [
        "seq2seq.eval()\n",
        "# with torch.no_grad():\n",
        "a, b = next(iter(train_loader))\n",
        "a = a.to(device)\n",
        "b = b.to(device)\n",
        "with torch.no_grad():\n",
        "    x = seq2seq.predict(a)\n",
        "\n",
        "x = x.argmax(dim=2)\n",
        "x.shape"
      ]
    },
    {
      "cell_type": "code",
      "execution_count": 15,
      "id": "72822edc",
      "metadata": {},
      "outputs": [],
      "source": [
        "from tokenizers import ByteLevelBPETokenizer\n",
        "\n",
        "tokenizer = ByteLevelBPETokenizer(\n",
        "    \"EnglishOrSpanish/vocab.json\", \"EnglishOrSpanish/merges.txt\"\n",
        ")"
      ]
    },
    {
      "cell_type": "code",
      "execution_count": 18,
      "id": "a90bf161",
      "metadata": {},
      "outputs": [
        {
          "name": "stdout",
          "output_type": "stream",
          "text": [
            "<SOS> mira hacia atrás <EOS><PAD><PAD><PAD><PAD><PAD><PAD><PAD><PAD><PAD><PAD><PAD><PAD>\n",
            "<PAD> estamos  <EOS><EOS><EOS><EOS><EOS><EOS><EOS><EOS><EOS><EOS><EOS><EOS><EOS><EOS>\n"
          ]
        }
      ],
      "source": [
        "print(tokenizer.decode(b.tolist()[2]))\n",
        "print(tokenizer.decode(x.tolist()[2]))"
      ]
    },
    {
      "cell_type": "code",
      "execution_count": null,
      "id": "d50506c3",
      "metadata": {},
      "outputs": [],
      "source": []
    }
  ],
  "metadata": {
    "accelerator": "GPU",
    "colab": {
      "gpuType": "T4",
      "provenance": []
    },
    "kaggle": {
      "accelerator": "nvidiaTeslaT4",
      "dataSources": [
        {
          "datasetId": 6838673,
          "sourceId": 11016226,
          "sourceType": "datasetVersion"
        }
      ],
      "dockerImageVersionId": 30919,
      "isGpuEnabled": true,
      "isInternetEnabled": true,
      "language": "python",
      "sourceType": "notebook"
    },
    "kernelspec": {
      "display_name": "Python (myenv)",
      "language": "python",
      "name": "torch"
    },
    "language_info": {
      "codemirror_mode": {
        "name": "ipython",
        "version": 3
      },
      "file_extension": ".py",
      "mimetype": "text/x-python",
      "name": "python",
      "nbconvert_exporter": "python",
      "pygments_lexer": "ipython3",
      "version": "3.12.3"
    },
    "papermill": {
      "default_parameters": {},
      "duration": 3351.376965,
      "end_time": "2025-03-13T11:43:46.339865",
      "environment_variables": {},
      "exception": null,
      "input_path": "__notebook__.ipynb",
      "output_path": "__notebook__.ipynb",
      "parameters": {},
      "start_time": "2025-03-13T10:47:54.962900",
      "version": "2.6.0"
    }
  },
  "nbformat": 4,
  "nbformat_minor": 5
}
