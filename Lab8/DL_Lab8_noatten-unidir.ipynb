{
 "cells": [
  {
   "cell_type": "code",
   "execution_count": 1,
   "id": "d5d07648",
   "metadata": {
    "execution": {
     "iopub.execute_input": "2025-03-23T00:58:45.753823Z",
     "iopub.status.busy": "2025-03-23T00:58:45.753613Z",
     "iopub.status.idle": "2025-03-23T00:58:46.245477Z",
     "shell.execute_reply": "2025-03-23T00:58:46.244566Z"
    },
    "papermill": {
     "duration": 0.498022,
     "end_time": "2025-03-23T00:58:46.246832",
     "exception": false,
     "start_time": "2025-03-23T00:58:45.748810",
     "status": "completed"
    },
    "tags": []
   },
   "outputs": [
    {
     "name": "stdout",
     "output_type": "stream",
     "text": [
      "Path to dataset files: /kaggle/input/\n"
     ]
    }
   ],
   "source": [
    "import kagglehub\n",
    "\n",
    "# Download latest version\n",
    "path = kagglehub.dataset_download(\"shusrith/machine-trainslation\")\n",
    "\n",
    "print(\"Path to dataset files:\", path)"
   ]
  },
  {
   "cell_type": "code",
   "execution_count": 2,
   "id": "18996b70",
   "metadata": {
    "execution": {
     "iopub.execute_input": "2025-03-23T00:58:46.255136Z",
     "iopub.status.busy": "2025-03-23T00:58:46.254906Z",
     "iopub.status.idle": "2025-03-23T00:58:48.649908Z",
     "shell.execute_reply": "2025-03-23T00:58:48.648968Z"
    },
    "id": "d0145768",
    "outputId": "83af7e41-96d0-4368-cbc0-996710256066",
    "papermill": {
     "duration": 2.400651,
     "end_time": "2025-03-23T00:58:48.651401",
     "exception": false,
     "start_time": "2025-03-23T00:58:46.250750",
     "status": "completed"
    },
    "tags": []
   },
   "outputs": [
    {
     "data": {
      "text/html": [
       "<div>\n",
       "<style scoped>\n",
       "    .dataframe tbody tr th:only-of-type {\n",
       "        vertical-align: middle;\n",
       "    }\n",
       "\n",
       "    .dataframe tbody tr th {\n",
       "        vertical-align: top;\n",
       "    }\n",
       "\n",
       "    .dataframe thead th {\n",
       "        text-align: right;\n",
       "    }\n",
       "</style>\n",
       "<table border=\"1\" class=\"dataframe\">\n",
       "  <thead>\n",
       "    <tr style=\"text-align: right;\">\n",
       "      <th></th>\n",
       "      <th>English</th>\n",
       "      <th>Spanish</th>\n",
       "    </tr>\n",
       "  </thead>\n",
       "  <tbody>\n",
       "    <tr>\n",
       "      <th>32322</th>\n",
       "      <td>[2, 300, 719, 334, 24105, 609, 224, 3, 0, 0, 0...</td>\n",
       "      <td>[2, 331, 874, 336, 13598, 4587, 224, 3, 0, 0, ...</td>\n",
       "    </tr>\n",
       "    <tr>\n",
       "      <th>107322</th>\n",
       "      <td>[2, 964, 568, 987, 395, 461, 341, 272, 718, 29...</td>\n",
       "      <td>[2, 302, 664, 761, 316, 7358, 550, 470, 1688, ...</td>\n",
       "    </tr>\n",
       "    <tr>\n",
       "      <th>70484</th>\n",
       "      <td>[2, 270, 588, 2137, 404, 1291, 2622, 224, 3, 0...</td>\n",
       "      <td>[2, 302, 665, 5163, 589, 4213, 33221, 224, 3, ...</td>\n",
       "    </tr>\n",
       "    <tr>\n",
       "      <th>65539</th>\n",
       "      <td>[2, 696, 304, 5732, 609, 300, 13745, 224, 3, 0...</td>\n",
       "      <td>[2, 2419, 13374, 321, 2739, 224, 3, 0, 0, 0, 0...</td>\n",
       "    </tr>\n",
       "    <tr>\n",
       "      <th>65750</th>\n",
       "      <td>[2, 2091, 384, 1598, 398, 290, 224, 3, 0, 0, 0...</td>\n",
       "      <td>[2, 691, 331, 1423, 621, 2526, 265, 290, 224, ...</td>\n",
       "    </tr>\n",
       "    <tr>\n",
       "      <th>...</th>\n",
       "      <td>...</td>\n",
       "      <td>...</td>\n",
       "    </tr>\n",
       "    <tr>\n",
       "      <th>96787</th>\n",
       "      <td>[2, 290, 1346, 718, 10408, 611, 369, 224, 3, 0...</td>\n",
       "      <td>[2, 290, 302, 2003, 4223, 8339, 387, 369, 224,...</td>\n",
       "    </tr>\n",
       "    <tr>\n",
       "      <th>22019</th>\n",
       "      <td>[2, 565, 384, 1055, 1650, 224, 3, 0, 0, 0, 0, ...</td>\n",
       "      <td>[2, 444, 1819, 2297, 321, 1729, 294, 290, 224,...</td>\n",
       "    </tr>\n",
       "    <tr>\n",
       "      <th>21629</th>\n",
       "      <td>[2, 1606, 506, 15041, 224, 3, 0, 0, 0, 0, 0, 0...</td>\n",
       "      <td>[2, 746, 1815, 12533, 224, 3, 0, 0, 0, 0, 0, 0...</td>\n",
       "    </tr>\n",
       "    <tr>\n",
       "      <th>61011</th>\n",
       "      <td>[2, 481, 426, 341, 270, 411, 272, 341, 783, 22...</td>\n",
       "      <td>[2, 292, 444, 2498, 294, 550, 872, 224, 3, 0, ...</td>\n",
       "    </tr>\n",
       "    <tr>\n",
       "      <th>35399</th>\n",
       "      <td>[2, 270, 574, 395, 738, 1061, 224, 3, 0, 0, 0,...</td>\n",
       "      <td>[2, 2379, 316, 2837, 2334, 224, 3, 0, 0, 0, 0,...</td>\n",
       "    </tr>\n",
       "  </tbody>\n",
       "</table>\n",
       "<p>128982 rows × 2 columns</p>\n",
       "</div>"
      ],
      "text/plain": [
       "                                                  English  \\\n",
       "32322   [2, 300, 719, 334, 24105, 609, 224, 3, 0, 0, 0...   \n",
       "107322  [2, 964, 568, 987, 395, 461, 341, 272, 718, 29...   \n",
       "70484   [2, 270, 588, 2137, 404, 1291, 2622, 224, 3, 0...   \n",
       "65539   [2, 696, 304, 5732, 609, 300, 13745, 224, 3, 0...   \n",
       "65750   [2, 2091, 384, 1598, 398, 290, 224, 3, 0, 0, 0...   \n",
       "...                                                   ...   \n",
       "96787   [2, 290, 1346, 718, 10408, 611, 369, 224, 3, 0...   \n",
       "22019   [2, 565, 384, 1055, 1650, 224, 3, 0, 0, 0, 0, ...   \n",
       "21629   [2, 1606, 506, 15041, 224, 3, 0, 0, 0, 0, 0, 0...   \n",
       "61011   [2, 481, 426, 341, 270, 411, 272, 341, 783, 22...   \n",
       "35399   [2, 270, 574, 395, 738, 1061, 224, 3, 0, 0, 0,...   \n",
       "\n",
       "                                                  Spanish  \n",
       "32322   [2, 331, 874, 336, 13598, 4587, 224, 3, 0, 0, ...  \n",
       "107322  [2, 302, 664, 761, 316, 7358, 550, 470, 1688, ...  \n",
       "70484   [2, 302, 665, 5163, 589, 4213, 33221, 224, 3, ...  \n",
       "65539   [2, 2419, 13374, 321, 2739, 224, 3, 0, 0, 0, 0...  \n",
       "65750   [2, 691, 331, 1423, 621, 2526, 265, 290, 224, ...  \n",
       "...                                                   ...  \n",
       "96787   [2, 290, 302, 2003, 4223, 8339, 387, 369, 224,...  \n",
       "22019   [2, 444, 1819, 2297, 321, 1729, 294, 290, 224,...  \n",
       "21629   [2, 746, 1815, 12533, 224, 3, 0, 0, 0, 0, 0, 0...  \n",
       "61011   [2, 292, 444, 2498, 294, 550, 872, 224, 3, 0, ...  \n",
       "35399   [2, 2379, 316, 2837, 2334, 224, 3, 0, 0, 0, 0,...  \n",
       "\n",
       "[128982 rows x 2 columns]"
      ]
     },
     "execution_count": 2,
     "metadata": {},
     "output_type": "execute_result"
    }
   ],
   "source": [
    "import pandas as pd\n",
    "from sklearn.utils import shuffle\n",
    "df = pd.read_csv(f\"{path}/EnglishOrSpanish/EnglishOrSpanish/output_joint1.csv\")\n",
    "df = shuffle(df)\n",
    "df"
   ]
  },
  {
   "cell_type": "code",
   "execution_count": 3,
   "id": "036b34fd",
   "metadata": {
    "execution": {
     "iopub.execute_input": "2025-03-23T00:58:48.659814Z",
     "iopub.status.busy": "2025-03-23T00:58:48.659525Z",
     "iopub.status.idle": "2025-03-23T00:58:56.811282Z",
     "shell.execute_reply": "2025-03-23T00:58:56.810330Z"
    },
    "id": "7109b156",
    "outputId": "5b92d6a5-48cf-4a1b-e00f-7c2db2dee860",
    "papermill": {
     "duration": 8.157542,
     "end_time": "2025-03-23T00:58:56.812873",
     "exception": false,
     "start_time": "2025-03-23T00:58:48.655331",
     "status": "completed"
    },
    "tags": []
   },
   "outputs": [
    {
     "data": {
      "text/html": [
       "<div>\n",
       "<style scoped>\n",
       "    .dataframe tbody tr th:only-of-type {\n",
       "        vertical-align: middle;\n",
       "    }\n",
       "\n",
       "    .dataframe tbody tr th {\n",
       "        vertical-align: top;\n",
       "    }\n",
       "\n",
       "    .dataframe thead th {\n",
       "        text-align: right;\n",
       "    }\n",
       "</style>\n",
       "<table border=\"1\" class=\"dataframe\">\n",
       "  <thead>\n",
       "    <tr style=\"text-align: right;\">\n",
       "      <th></th>\n",
       "      <th>English</th>\n",
       "      <th>Spanish</th>\n",
       "    </tr>\n",
       "  </thead>\n",
       "  <tbody>\n",
       "    <tr>\n",
       "      <th>32322</th>\n",
       "      <td>[2, 300, 719, 334, 24105, 609, 224, 3, 0, 0, 0...</td>\n",
       "      <td>[2, 331, 874, 336, 13598, 4587, 224, 3, 0, 0, ...</td>\n",
       "    </tr>\n",
       "    <tr>\n",
       "      <th>107322</th>\n",
       "      <td>[2, 964, 568, 987, 395, 461, 341, 272, 718, 29...</td>\n",
       "      <td>[2, 302, 664, 761, 316, 7358, 550, 470, 1688, ...</td>\n",
       "    </tr>\n",
       "    <tr>\n",
       "      <th>70484</th>\n",
       "      <td>[2, 270, 588, 2137, 404, 1291, 2622, 224, 3, 0...</td>\n",
       "      <td>[2, 302, 665, 5163, 589, 4213, 33221, 224, 3, ...</td>\n",
       "    </tr>\n",
       "    <tr>\n",
       "      <th>65539</th>\n",
       "      <td>[2, 696, 304, 5732, 609, 300, 13745, 224, 3, 0...</td>\n",
       "      <td>[2, 2419, 13374, 321, 2739, 224, 3, 0, 0, 0, 0...</td>\n",
       "    </tr>\n",
       "    <tr>\n",
       "      <th>65750</th>\n",
       "      <td>[2, 2091, 384, 1598, 398, 290, 224, 3, 0, 0, 0...</td>\n",
       "      <td>[2, 691, 331, 1423, 621, 2526, 265, 290, 224, ...</td>\n",
       "    </tr>\n",
       "    <tr>\n",
       "      <th>...</th>\n",
       "      <td>...</td>\n",
       "      <td>...</td>\n",
       "    </tr>\n",
       "    <tr>\n",
       "      <th>96787</th>\n",
       "      <td>[2, 290, 1346, 718, 10408, 611, 369, 224, 3, 0...</td>\n",
       "      <td>[2, 290, 302, 2003, 4223, 8339, 387, 369, 224,...</td>\n",
       "    </tr>\n",
       "    <tr>\n",
       "      <th>22019</th>\n",
       "      <td>[2, 565, 384, 1055, 1650, 224, 3, 0, 0, 0, 0, ...</td>\n",
       "      <td>[2, 444, 1819, 2297, 321, 1729, 294, 290, 224,...</td>\n",
       "    </tr>\n",
       "    <tr>\n",
       "      <th>21629</th>\n",
       "      <td>[2, 1606, 506, 15041, 224, 3, 0, 0, 0, 0, 0, 0...</td>\n",
       "      <td>[2, 746, 1815, 12533, 224, 3, 0, 0, 0, 0, 0, 0...</td>\n",
       "    </tr>\n",
       "    <tr>\n",
       "      <th>61011</th>\n",
       "      <td>[2, 481, 426, 341, 270, 411, 272, 341, 783, 22...</td>\n",
       "      <td>[2, 292, 444, 2498, 294, 550, 872, 224, 3, 0, ...</td>\n",
       "    </tr>\n",
       "    <tr>\n",
       "      <th>35399</th>\n",
       "      <td>[2, 270, 574, 395, 738, 1061, 224, 3, 0, 0, 0,...</td>\n",
       "      <td>[2, 2379, 316, 2837, 2334, 224, 3, 0, 0, 0, 0,...</td>\n",
       "    </tr>\n",
       "  </tbody>\n",
       "</table>\n",
       "<p>128982 rows × 2 columns</p>\n",
       "</div>"
      ],
      "text/plain": [
       "                                                  English  \\\n",
       "32322   [2, 300, 719, 334, 24105, 609, 224, 3, 0, 0, 0...   \n",
       "107322  [2, 964, 568, 987, 395, 461, 341, 272, 718, 29...   \n",
       "70484   [2, 270, 588, 2137, 404, 1291, 2622, 224, 3, 0...   \n",
       "65539   [2, 696, 304, 5732, 609, 300, 13745, 224, 3, 0...   \n",
       "65750   [2, 2091, 384, 1598, 398, 290, 224, 3, 0, 0, 0...   \n",
       "...                                                   ...   \n",
       "96787   [2, 290, 1346, 718, 10408, 611, 369, 224, 3, 0...   \n",
       "22019   [2, 565, 384, 1055, 1650, 224, 3, 0, 0, 0, 0, ...   \n",
       "21629   [2, 1606, 506, 15041, 224, 3, 0, 0, 0, 0, 0, 0...   \n",
       "61011   [2, 481, 426, 341, 270, 411, 272, 341, 783, 22...   \n",
       "35399   [2, 270, 574, 395, 738, 1061, 224, 3, 0, 0, 0,...   \n",
       "\n",
       "                                                  Spanish  \n",
       "32322   [2, 331, 874, 336, 13598, 4587, 224, 3, 0, 0, ...  \n",
       "107322  [2, 302, 664, 761, 316, 7358, 550, 470, 1688, ...  \n",
       "70484   [2, 302, 665, 5163, 589, 4213, 33221, 224, 3, ...  \n",
       "65539   [2, 2419, 13374, 321, 2739, 224, 3, 0, 0, 0, 0...  \n",
       "65750   [2, 691, 331, 1423, 621, 2526, 265, 290, 224, ...  \n",
       "...                                                   ...  \n",
       "96787   [2, 290, 302, 2003, 4223, 8339, 387, 369, 224,...  \n",
       "22019   [2, 444, 1819, 2297, 321, 1729, 294, 290, 224,...  \n",
       "21629   [2, 746, 1815, 12533, 224, 3, 0, 0, 0, 0, 0, 0...  \n",
       "61011   [2, 292, 444, 2498, 294, 550, 872, 224, 3, 0, ...  \n",
       "35399   [2, 2379, 316, 2837, 2334, 224, 3, 0, 0, 0, 0,...  \n",
       "\n",
       "[128982 rows x 2 columns]"
      ]
     },
     "execution_count": 3,
     "metadata": {},
     "output_type": "execute_result"
    }
   ],
   "source": [
    "import ast\n",
    "\n",
    "df[\"English\"] = df[\"English\"].apply(ast.literal_eval)\n",
    "df[\"Spanish\"] = df[\"Spanish\"].apply(ast.literal_eval)\n",
    "df"
   ]
  },
  {
   "cell_type": "code",
   "execution_count": 4,
   "id": "41d971c6",
   "metadata": {
    "execution": {
     "iopub.execute_input": "2025-03-23T00:58:56.822341Z",
     "iopub.status.busy": "2025-03-23T00:58:56.822058Z",
     "iopub.status.idle": "2025-03-23T00:59:00.536937Z",
     "shell.execute_reply": "2025-03-23T00:59:00.535880Z"
    },
    "id": "c303ca41",
    "papermill": {
     "duration": 3.721634,
     "end_time": "2025-03-23T00:59:00.538780",
     "exception": false,
     "start_time": "2025-03-23T00:58:56.817146",
     "status": "completed"
    },
    "tags": []
   },
   "outputs": [],
   "source": [
    "import torch\n",
    "from torch.utils.data import DataLoader, TensorDataset\n",
    "\n",
    "train = TensorDataset(\n",
    "    torch.tensor(df[\"English\"][:100000].tolist(), dtype=torch.long),\n",
    "    torch.tensor(df[\"Spanish\"][:100000].tolist(), dtype=torch.long),\n",
    ")\n",
    "test = TensorDataset(\n",
    "    torch.tensor(df[\"English\"][100000:].tolist(), dtype=torch.long),\n",
    "    torch.tensor(df[\"Spanish\"][100000:].tolist(), dtype=torch.long),\n",
    ")\n",
    "train_loader = DataLoader(train, batch_size=512, shuffle=True, drop_last=True)\n",
    "test_loader = DataLoader(test, batch_size=512, shuffle=False, drop_last=True)"
   ]
  },
  {
   "cell_type": "code",
   "execution_count": 5,
   "id": "756b1e04",
   "metadata": {
    "execution": {
     "iopub.execute_input": "2025-03-23T00:59:00.548732Z",
     "iopub.status.busy": "2025-03-23T00:59:00.548334Z",
     "iopub.status.idle": "2025-03-23T00:59:00.616179Z",
     "shell.execute_reply": "2025-03-23T00:59:00.615316Z"
    },
    "id": "4b15a79c",
    "papermill": {
     "duration": 0.073952,
     "end_time": "2025-03-23T00:59:00.617452",
     "exception": false,
     "start_time": "2025-03-23T00:59:00.543500",
     "status": "completed"
    },
    "tags": []
   },
   "outputs": [],
   "source": [
    "import json\n",
    "with open(f\"{path}/EnglishOrSpanish/EnglishOrSpanish/vocab.json\", \"r\") as f:\n",
    "    vocab = json.load(f)"
   ]
  },
  {
   "cell_type": "code",
   "execution_count": 6,
   "id": "74d7b126",
   "metadata": {
    "execution": {
     "iopub.execute_input": "2025-03-23T00:59:00.626365Z",
     "iopub.status.busy": "2025-03-23T00:59:00.626102Z",
     "iopub.status.idle": "2025-03-23T00:59:00.631923Z",
     "shell.execute_reply": "2025-03-23T00:59:00.631238Z"
    },
    "id": "e29c682e",
    "papermill": {
     "duration": 0.011777,
     "end_time": "2025-03-23T00:59:00.633425",
     "exception": false,
     "start_time": "2025-03-23T00:59:00.621648",
     "status": "completed"
    },
    "tags": []
   },
   "outputs": [],
   "source": [
    "import torch\n",
    "import torch.nn as nn\n",
    "\n",
    "\n",
    "class Encoder(nn.Module):\n",
    "    def __init__(\n",
    "        self, vocab_size, embedding_dim, hidden_size, num_layers=2, dropout=0.3\n",
    "    ):\n",
    "        super(Encoder, self).__init__()\n",
    "        self.num_layers = num_layers\n",
    "        self.vocab_size = vocab_size\n",
    "\n",
    "        self.embedding = nn.Embedding(vocab_size, embedding_dim, padding_idx=0)\n",
    "        self.lstm = nn.LSTM(\n",
    "            embedding_dim,\n",
    "            hidden_size,\n",
    "            num_layers=num_layers,\n",
    "            batch_first=True,\n",
    "            dropout=dropout,\n",
    "        )\n",
    "        self.apply(self._init_weights)\n",
    "\n",
    "    def _init_weights(self, module):\n",
    "        if isinstance(module, nn.LSTM):\n",
    "            for name, param in module.named_parameters():\n",
    "                if \"weight\" in name:\n",
    "                    nn.init.xavier_uniform_(param)\n",
    "                elif \"bias\" in name:\n",
    "                    nn.init.zeros_(param)\n",
    "\n",
    "    def forward(self, x):\n",
    "        embedded = self.embedding(x)\n",
    "        output, (hidden, cell) = self.lstm(embedded)\n",
    "        return output, hidden, cell"
   ]
  },
  {
   "cell_type": "code",
   "execution_count": 7,
   "id": "9929afd6",
   "metadata": {
    "execution": {
     "iopub.execute_input": "2025-03-23T00:59:00.643072Z",
     "iopub.status.busy": "2025-03-23T00:59:00.642810Z",
     "iopub.status.idle": "2025-03-23T00:59:00.649296Z",
     "shell.execute_reply": "2025-03-23T00:59:00.648508Z"
    },
    "id": "cada738e",
    "papermill": {
     "duration": 0.012481,
     "end_time": "2025-03-23T00:59:00.650563",
     "exception": false,
     "start_time": "2025-03-23T00:59:00.638082",
     "status": "completed"
    },
    "tags": []
   },
   "outputs": [],
   "source": [
    "import torch\n",
    "import torch.nn as nn\n",
    "\n",
    "\n",
    "class Decoder(nn.Module):\n",
    "    def __init__(\n",
    "        self, vocab_size, embedding_dim, hidden_size, num_layers=2, dropout=0.3\n",
    "    ):\n",
    "        super(Decoder, self).__init__()\n",
    "        self.hidden_size = hidden_size\n",
    "        self.num_layers = num_layers\n",
    "        self.vocab_size = vocab_size\n",
    "\n",
    "        self.embedding = nn.Embedding(vocab_size, embedding_dim, padding_idx=0)\n",
    "\n",
    "        self.lstm = nn.LSTM(\n",
    "            embedding_dim,\n",
    "            hidden_size,\n",
    "            num_layers=num_layers,\n",
    "            batch_first=True,\n",
    "            dropout=dropout,\n",
    "        )\n",
    "        self.fc = nn.Linear(hidden_size, vocab_size)\n",
    "        self.apply(self._init_weights)\n",
    "        self.dropout = nn.Dropout(dropout)\n",
    "\n",
    "    def _init_weights(self, module):\n",
    "        if isinstance(module, nn.LSTM):\n",
    "            for name, param in module.named_parameters():\n",
    "                if \"weight\" in name:\n",
    "                    nn.init.xavier_uniform_(param)\n",
    "                elif \"bias\" in name:\n",
    "                    nn.init.zeros_(param)\n",
    "\n",
    "    def forward(self, x, hidden, cell):\n",
    "        x = self.embedding(x)\n",
    "        x = x.unsqueeze(1)\n",
    "        output, (hidden, cell) = self.lstm(x, (hidden, cell))\n",
    "        output = self.dropout(output)\n",
    "        output = self.fc(output)\n",
    "        return output, hidden, cell"
   ]
  },
  {
   "cell_type": "code",
   "execution_count": 8,
   "id": "5029d049",
   "metadata": {
    "execution": {
     "iopub.execute_input": "2025-03-23T00:59:00.659580Z",
     "iopub.status.busy": "2025-03-23T00:59:00.659286Z",
     "iopub.status.idle": "2025-03-23T00:59:00.666552Z",
     "shell.execute_reply": "2025-03-23T00:59:00.665754Z"
    },
    "id": "ac8cc2ad",
    "papermill": {
     "duration": 0.013057,
     "end_time": "2025-03-23T00:59:00.667745",
     "exception": false,
     "start_time": "2025-03-23T00:59:00.654688",
     "status": "completed"
    },
    "tags": []
   },
   "outputs": [],
   "source": [
    "import torch.nn as nn\n",
    "import torch\n",
    "import random\n",
    "\n",
    "class Seq2Seq(nn.Module):\n",
    "    def __init__(self, encoder, decoder, vocab_size, teacher_forcing_ratio=0.5):\n",
    "        super(Seq2Seq, self).__init__()\n",
    "        self.encoder = encoder\n",
    "        self.decoder = decoder\n",
    "        self.vocab_size = vocab_size\n",
    "        self.teacher_forcing_ratio = teacher_forcing_ratio\n",
    "\n",
    "    def forward(self, src, trg):\n",
    "        _, hidden, cell = self.encoder(src)\n",
    "        outputs = torch.zeros(trg.shape[0], trg.shape[1], self.decoder.vocab_size).to(\"cuda\")\n",
    "        x = trg[:, 0]\n",
    "        for t in range(1, trg.shape[1]):\n",
    "            output, hidden, cell = self.decoder(x, hidden, cell)\n",
    "            output = output.squeeze(1)\n",
    "            outputs[:, t, :] = output\n",
    "            use_teacher_forcing = random.random() < self.teacher_forcing_ratio\n",
    "            x = trg[:, t] if use_teacher_forcing else output.argmax(dim=1)\n",
    "\n",
    "        return outputs\n",
    "    \n",
    "    def predict(self, src):\n",
    "        _, hidden, cell = self.encoder(src)\n",
    "        outputs = torch.zeros(src.shape[0], src.shape[1], self.decoder.vocab_size).to(\"cuda\")\n",
    "        x = src[:, 0]\n",
    "        for i in range(1, src.shape[1]):\n",
    "            output, hidden, cell = self.decoder(x, hidden, cell)\n",
    "            output = output.squeeze(1)\n",
    "            outputs[:, i, :] = output\n",
    "            x = output.argmax(dim=1)\n",
    "        \n",
    "        return outputs"
   ]
  },
  {
   "cell_type": "code",
   "execution_count": 9,
   "id": "415f21a0",
   "metadata": {
    "execution": {
     "iopub.execute_input": "2025-03-23T00:59:00.676221Z",
     "iopub.status.busy": "2025-03-23T00:59:00.675933Z",
     "iopub.status.idle": "2025-03-23T00:59:12.793097Z",
     "shell.execute_reply": "2025-03-23T00:59:12.792323Z"
    },
    "papermill": {
     "duration": 12.12352,
     "end_time": "2025-03-23T00:59:12.794933",
     "exception": false,
     "start_time": "2025-03-23T00:59:00.671413",
     "status": "completed"
    },
    "tags": []
   },
   "outputs": [],
   "source": [
    "from torch.utils.tensorboard import SummaryWriter\n",
    "from tqdm import tqdm\n",
    "\n",
    "\n",
    "def train(\n",
    "    model,\n",
    "    train_loader,\n",
    "    test_loader,\n",
    "    optimizer,\n",
    "    criterion,\n",
    "    device,\n",
    "    scheduler,\n",
    "    num_epochs,\n",
    "):\n",
    "    writer = SummaryWriter()\n",
    "\n",
    "    for epoch in range(num_epochs):\n",
    "        print(f\"\\nEpoch {epoch+1}/{num_epochs}\")\n",
    "        model.encoder.train()\n",
    "        model.decoder.train()\n",
    "        epoch_loss = 0\n",
    "        progress_bar = tqdm(train_loader, desc=\"Training\", leave=False)\n",
    "\n",
    "        for src, trg in progress_bar:\n",
    "            src, trg = src.to(device), trg.to(device)\n",
    "            optimizer.zero_grad()\n",
    "            outputs = model(src, trg)\n",
    "            loss = criterion(\n",
    "                outputs[:, 1:].reshape(-1, model.vocab_size), trg[:, 1:].reshape(-1)\n",
    "            )\n",
    "            loss.backward()\n",
    "            optimizer.step()\n",
    "\n",
    "            epoch_loss += loss.item()\n",
    "\n",
    "            progress_bar.set_postfix(loss=f\"{loss.item():.4f}\")\n",
    "\n",
    "        train_loss = epoch_loss / len(train_loader)\n",
    "\n",
    "        # ---------------- VALIDATION ---------------- #\n",
    "        model.encoder.eval()\n",
    "        model.decoder.eval()\n",
    "        val_epoch_loss = 0\n",
    "        progress_bar = tqdm(test_loader, desc=\"Validating\", leave=False)\n",
    "\n",
    "        with torch.no_grad():\n",
    "            for src, trg in progress_bar:\n",
    "                src, trg = src.to(device), trg.to(device)\n",
    "                outputs = model(src, trg)\n",
    "                loss = criterion(\n",
    "                    outputs[:, 1:].reshape(-1, model.vocab_size),\n",
    "                    trg[:, 1:].reshape(-1),\n",
    "                )\n",
    "                val_epoch_loss += loss.item()\n",
    "\n",
    "                progress_bar.set_postfix(loss=f\"{loss.item():.4f}\")\n",
    "\n",
    "        val_loss = val_epoch_loss / len(test_loader)\n",
    "        scheduler.step(val_loss)\n",
    "\n",
    "        writer.add_scalar(\"Loss/Train\", train_loss, epoch)\n",
    "        writer.add_scalar(\"Loss/Validation\", val_loss, epoch)\n",
    "        writer.add_scalar(\"Learning Rate\", scheduler.get_last_lr()[0], epoch)\n",
    "\n",
    "        print(\n",
    "            f\"Train loss : {train_loss}, Val_loss : {val_loss}, lr: {scheduler.get_last_lr()[0]}\"\n",
    "        )\n",
    "\n",
    "    writer.close()\n",
    "    return train_loss, val_loss"
   ]
  },
  {
   "cell_type": "code",
   "execution_count": 10,
   "id": "aa3318d0",
   "metadata": {
    "execution": {
     "iopub.execute_input": "2025-03-23T00:59:12.804829Z",
     "iopub.status.busy": "2025-03-23T00:59:12.804325Z",
     "iopub.status.idle": "2025-03-23T00:59:17.457185Z",
     "shell.execute_reply": "2025-03-23T00:59:17.456258Z"
    },
    "id": "32613de9",
    "papermill": {
     "duration": 4.659681,
     "end_time": "2025-03-23T00:59:17.459092",
     "exception": false,
     "start_time": "2025-03-23T00:59:12.799411",
     "status": "completed"
    },
    "tags": []
   },
   "outputs": [],
   "source": [
    "import torch\n",
    "import torch.nn as nn\n",
    "import torch.optim as optim\n",
    "from tqdm import tqdm\n",
    "\n",
    "device = torch.device(\"cuda\" if torch.cuda.is_available() else \"cpu\")\n",
    "\n",
    "vocab_size = len(vocab)\n",
    "embedding_dim = 512\n",
    "hidden_size = 64\n",
    "encoder = Encoder(vocab_size, embedding_dim, hidden_size).to(device)\n",
    "decoder = Decoder(vocab_size, embedding_dim, hidden_size).to(device)\n",
    "seq2seq = Seq2Seq(encoder, decoder, vocab_size).to(device)\n",
    "criterion = nn.CrossEntropyLoss(ignore_index=0)\n",
    "optimizer = optim.Adam(seq2seq.parameters(), lr=0.001, weight_decay=1e-5)\n",
    "scheduler = optim.lr_scheduler.ReduceLROnPlateau(\n",
    "    optimizer, mode=\"min\", factor=0.5, patience=2\n",
    ")"
   ]
  },
  {
   "cell_type": "code",
   "execution_count": 11,
   "id": "d73d3a05",
   "metadata": {
    "execution": {
     "iopub.execute_input": "2025-03-23T00:59:17.468615Z",
     "iopub.status.busy": "2025-03-23T00:59:17.468093Z",
     "iopub.status.idle": "2025-03-23T03:39:17.022092Z",
     "shell.execute_reply": "2025-03-23T03:39:17.021249Z"
    },
    "id": "a6da8eb8",
    "outputId": "624e6f77-00eb-462d-b8ca-6dc5e3b0e0cb",
    "papermill": {
     "duration": 9599.559957,
     "end_time": "2025-03-23T03:39:17.023477",
     "exception": false,
     "start_time": "2025-03-23T00:59:17.463520",
     "status": "completed"
    },
    "tags": []
   },
   "outputs": [
    {
     "name": "stdout",
     "output_type": "stream",
     "text": [
      "\n",
      "Epoch 1/30\n"
     ]
    },
    {
     "name": "stderr",
     "output_type": "stream",
     "text": [
      "                                                                        \r"
     ]
    },
    {
     "name": "stdout",
     "output_type": "stream",
     "text": [
      "Train loss : 6.687192748143123, Val_loss : 5.654639618737357, lr: 0.001\n",
      "\n",
      "Epoch 2/30\n"
     ]
    },
    {
     "name": "stderr",
     "output_type": "stream",
     "text": [
      "                                                                        \r"
     ]
    },
    {
     "name": "stdout",
     "output_type": "stream",
     "text": [
      "Train loss : 5.6322522994799495, Val_loss : 5.445596354348319, lr: 0.001\n",
      "\n",
      "Epoch 3/30\n"
     ]
    },
    {
     "name": "stderr",
     "output_type": "stream",
     "text": [
      "                                                                        \r"
     ]
    },
    {
     "name": "stdout",
     "output_type": "stream",
     "text": [
      "Train loss : 5.444505283160088, Val_loss : 5.27954580954143, lr: 0.001\n",
      "\n",
      "Epoch 4/30\n"
     ]
    },
    {
     "name": "stderr",
     "output_type": "stream",
     "text": [
      "                                                                        \r"
     ]
    },
    {
     "name": "stdout",
     "output_type": "stream",
     "text": [
      "Train loss : 5.288971583048503, Val_loss : 5.134128902639661, lr: 0.001\n",
      "\n",
      "Epoch 5/30\n"
     ]
    },
    {
     "name": "stderr",
     "output_type": "stream",
     "text": [
      "                                                                        \r"
     ]
    },
    {
     "name": "stdout",
     "output_type": "stream",
     "text": [
      "Train loss : 5.161596105037591, Val_loss : 5.02119197164263, lr: 0.001\n",
      "\n",
      "Epoch 6/30\n"
     ]
    },
    {
     "name": "stderr",
     "output_type": "stream",
     "text": [
      "                                                                        \r"
     ]
    },
    {
     "name": "stdout",
     "output_type": "stream",
     "text": [
      "Train loss : 5.0438000679016115, Val_loss : 4.901165851524898, lr: 0.001\n",
      "\n",
      "Epoch 7/30\n"
     ]
    },
    {
     "name": "stderr",
     "output_type": "stream",
     "text": [
      "                                                                        \r"
     ]
    },
    {
     "name": "stdout",
     "output_type": "stream",
     "text": [
      "Train loss : 4.948218866494986, Val_loss : 4.792365610599518, lr: 0.001\n",
      "\n",
      "Epoch 8/30\n"
     ]
    },
    {
     "name": "stderr",
     "output_type": "stream",
     "text": [
      "                                                                        \r"
     ]
    },
    {
     "name": "stdout",
     "output_type": "stream",
     "text": [
      "Train loss : 4.861228346213316, Val_loss : 4.702058093888419, lr: 0.001\n",
      "\n",
      "Epoch 9/30\n"
     ]
    },
    {
     "name": "stderr",
     "output_type": "stream",
     "text": [
      "                                                                        \r"
     ]
    },
    {
     "name": "stdout",
     "output_type": "stream",
     "text": [
      "Train loss : 4.752602577209473, Val_loss : 4.596114567347935, lr: 0.001\n",
      "\n",
      "Epoch 10/30\n"
     ]
    },
    {
     "name": "stderr",
     "output_type": "stream",
     "text": [
      "                                                                        \r"
     ]
    },
    {
     "name": "stdout",
     "output_type": "stream",
     "text": [
      "Train loss : 4.660875335106483, Val_loss : 4.4997197559901645, lr: 0.001\n",
      "\n",
      "Epoch 11/30\n"
     ]
    },
    {
     "name": "stderr",
     "output_type": "stream",
     "text": [
      "                                                                        \r"
     ]
    },
    {
     "name": "stdout",
     "output_type": "stream",
     "text": [
      "Train loss : 4.566570790608724, Val_loss : 4.402465045452118, lr: 0.001\n",
      "\n",
      "Epoch 12/30\n"
     ]
    },
    {
     "name": "stderr",
     "output_type": "stream",
     "text": [
      "                                                                        \r"
     ]
    },
    {
     "name": "stdout",
     "output_type": "stream",
     "text": [
      "Train loss : 4.479857266254914, Val_loss : 4.333659657410213, lr: 0.001\n",
      "\n",
      "Epoch 13/30\n"
     ]
    },
    {
     "name": "stderr",
     "output_type": "stream",
     "text": [
      "                                                                        \r"
     ]
    },
    {
     "name": "stdout",
     "output_type": "stream",
     "text": [
      "Train loss : 4.400081375317696, Val_loss : 4.237634181976318, lr: 0.001\n",
      "\n",
      "Epoch 14/30\n"
     ]
    },
    {
     "name": "stderr",
     "output_type": "stream",
     "text": [
      "                                                                        \r"
     ]
    },
    {
     "name": "stdout",
     "output_type": "stream",
     "text": [
      "Train loss : 4.32980751869006, Val_loss : 4.17634516954422, lr: 0.001\n",
      "\n",
      "Epoch 15/30\n"
     ]
    },
    {
     "name": "stderr",
     "output_type": "stream",
     "text": [
      "                                                                        \r"
     ]
    },
    {
     "name": "stdout",
     "output_type": "stream",
     "text": [
      "Train loss : 4.243819275880472, Val_loss : 4.126359177487237, lr: 0.001\n",
      "\n",
      "Epoch 16/30\n"
     ]
    },
    {
     "name": "stderr",
     "output_type": "stream",
     "text": [
      "                                                                        \r"
     ]
    },
    {
     "name": "stdout",
     "output_type": "stream",
     "text": [
      "Train loss : 4.178406831545708, Val_loss : 4.059587312596185, lr: 0.001\n",
      "\n",
      "Epoch 17/30\n"
     ]
    },
    {
     "name": "stderr",
     "output_type": "stream",
     "text": [
      "                                                                        \r"
     ]
    },
    {
     "name": "stdout",
     "output_type": "stream",
     "text": [
      "Train loss : 4.118538665771484, Val_loss : 3.972640429224287, lr: 0.001\n",
      "\n",
      "Epoch 18/30\n"
     ]
    },
    {
     "name": "stderr",
     "output_type": "stream",
     "text": [
      "                                                                        \r"
     ]
    },
    {
     "name": "stdout",
     "output_type": "stream",
     "text": [
      "Train loss : 4.05635556441087, Val_loss : 3.906147850411279, lr: 0.001\n",
      "\n",
      "Epoch 19/30\n"
     ]
    },
    {
     "name": "stderr",
     "output_type": "stream",
     "text": [
      "                                                                        \r"
     ]
    },
    {
     "name": "stdout",
     "output_type": "stream",
     "text": [
      "Train loss : 4.010618190276317, Val_loss : 3.8783247896603177, lr: 0.001\n",
      "\n",
      "Epoch 20/30\n"
     ]
    },
    {
     "name": "stderr",
     "output_type": "stream",
     "text": [
      "                                                                        \r"
     ]
    },
    {
     "name": "stdout",
     "output_type": "stream",
     "text": [
      "Train loss : 3.9558753343728874, Val_loss : 3.82585945725441, lr: 0.001\n",
      "\n",
      "Epoch 21/30\n"
     ]
    },
    {
     "name": "stderr",
     "output_type": "stream",
     "text": [
      "                                                                        \r"
     ]
    },
    {
     "name": "stdout",
     "output_type": "stream",
     "text": [
      "Train loss : 3.891662178284083, Val_loss : 3.7950908669403622, lr: 0.001\n",
      "\n",
      "Epoch 22/30\n"
     ]
    },
    {
     "name": "stderr",
     "output_type": "stream",
     "text": [
      "                                                                        \r"
     ]
    },
    {
     "name": "stdout",
     "output_type": "stream",
     "text": [
      "Train loss : 3.87375993117308, Val_loss : 3.7617944606712888, lr: 0.001\n",
      "\n",
      "Epoch 23/30\n"
     ]
    },
    {
     "name": "stderr",
     "output_type": "stream",
     "text": [
      "                                                                        \r"
     ]
    },
    {
     "name": "stdout",
     "output_type": "stream",
     "text": [
      "Train loss : 3.7953803539276123, Val_loss : 3.7227149648325786, lr: 0.001\n",
      "\n",
      "Epoch 24/30\n"
     ]
    },
    {
     "name": "stderr",
     "output_type": "stream",
     "text": [
      "                                                                        \r"
     ]
    },
    {
     "name": "stdout",
     "output_type": "stream",
     "text": [
      "Train loss : 3.7668511207287128, Val_loss : 3.6802377743380412, lr: 0.001\n",
      "\n",
      "Epoch 25/30\n"
     ]
    },
    {
     "name": "stderr",
     "output_type": "stream",
     "text": [
      "                                                                        \r"
     ]
    },
    {
     "name": "stdout",
     "output_type": "stream",
     "text": [
      "Train loss : 3.713581729546571, Val_loss : 3.6232282519340515, lr: 0.001\n",
      "\n",
      "Epoch 26/30\n"
     ]
    },
    {
     "name": "stderr",
     "output_type": "stream",
     "text": [
      "                                                                        \r"
     ]
    },
    {
     "name": "stdout",
     "output_type": "stream",
     "text": [
      "Train loss : 3.6682197350722094, Val_loss : 3.585292726755142, lr: 0.001\n",
      "\n",
      "Epoch 27/30\n"
     ]
    },
    {
     "name": "stderr",
     "output_type": "stream",
     "text": [
      "                                                                        \r"
     ]
    },
    {
     "name": "stdout",
     "output_type": "stream",
     "text": [
      "Train loss : 3.623416779591487, Val_loss : 3.584328361919948, lr: 0.001\n",
      "\n",
      "Epoch 28/30\n"
     ]
    },
    {
     "name": "stderr",
     "output_type": "stream",
     "text": [
      "                                                                        \r"
     ]
    },
    {
     "name": "stdout",
     "output_type": "stream",
     "text": [
      "Train loss : 3.6013498257368037, Val_loss : 3.5853850288050517, lr: 0.001\n",
      "\n",
      "Epoch 29/30\n"
     ]
    },
    {
     "name": "stderr",
     "output_type": "stream",
     "text": [
      "                                                                        \r"
     ]
    },
    {
     "name": "stdout",
     "output_type": "stream",
     "text": [
      "Train loss : 3.5387104499034394, Val_loss : 3.490789668900626, lr: 0.001\n",
      "\n",
      "Epoch 30/30\n"
     ]
    },
    {
     "name": "stderr",
     "output_type": "stream",
     "text": [
      "                                                                        "
     ]
    },
    {
     "name": "stdout",
     "output_type": "stream",
     "text": [
      "Train loss : 3.518312445665017, Val_loss : 3.470277441399438, lr: 0.001\n"
     ]
    },
    {
     "name": "stderr",
     "output_type": "stream",
     "text": [
      "\r"
     ]
    },
    {
     "data": {
      "text/plain": [
       "(3.518312445665017, 3.470277441399438)"
      ]
     },
     "execution_count": 11,
     "metadata": {},
     "output_type": "execute_result"
    }
   ],
   "source": [
    "import torch\n",
    "import torch.nn.functional as F\n",
    "from tqdm import tqdm\n",
    "\n",
    "train(\n",
    "    seq2seq,\n",
    "    train_loader,\n",
    "    test_loader,\n",
    "    optimizer,\n",
    "    criterion,\n",
    "    device,\n",
    "    scheduler,\n",
    "    30,\n",
    ")"
   ]
  },
  {
   "cell_type": "code",
   "execution_count": 12,
   "id": "751c4570",
   "metadata": {
    "execution": {
     "iopub.execute_input": "2025-03-23T03:39:18.618353Z",
     "iopub.status.busy": "2025-03-23T03:39:18.617824Z",
     "iopub.status.idle": "2025-03-23T03:39:18.980065Z",
     "shell.execute_reply": "2025-03-23T03:39:18.979263Z"
    },
    "papermill": {
     "duration": 1.133336,
     "end_time": "2025-03-23T03:39:18.981724",
     "exception": false,
     "start_time": "2025-03-23T03:39:17.848388",
     "status": "completed"
    },
    "tags": []
   },
   "outputs": [],
   "source": [
    "torch.save(seq2seq.state_dict(), \"seq2seq-noattention.pth\")"
   ]
  },
  {
   "cell_type": "code",
   "execution_count": 13,
   "id": "b57679e5",
   "metadata": {
    "execution": {
     "iopub.execute_input": "2025-03-23T03:39:20.537387Z",
     "iopub.status.busy": "2025-03-23T03:39:20.537019Z",
     "iopub.status.idle": "2025-03-23T03:39:21.107480Z",
     "shell.execute_reply": "2025-03-23T03:39:21.106426Z"
    },
    "papermill": {
     "duration": 1.319505,
     "end_time": "2025-03-23T03:39:21.108855",
     "exception": false,
     "start_time": "2025-03-23T03:39:19.789350",
     "status": "completed"
    },
    "tags": []
   },
   "outputs": [
    {
     "data": {
      "text/plain": [
       "<All keys matched successfully>"
      ]
     },
     "execution_count": 13,
     "metadata": {},
     "output_type": "execute_result"
    }
   ],
   "source": [
    "device = torch.device(\"cuda\" if torch.cuda.is_available() else \"cpu\")\n",
    "\n",
    "vocab_size = len(vocab)\n",
    "embedding_dim = 512\n",
    "hidden_size = 64\n",
    "encoder = Encoder(vocab_size, embedding_dim, hidden_size).to(device)\n",
    "decoder = Decoder(vocab_size, embedding_dim, hidden_size).to(device)\n",
    "seq2seq = Seq2Seq(encoder, decoder, vocab_size).to(device)\n",
    "seq2seq.load_state_dict(torch.load(\"seq2seq-noattention.pth\", weights_only=True))"
   ]
  },
  {
   "cell_type": "code",
   "execution_count": 14,
   "id": "cb06f629",
   "metadata": {
    "execution": {
     "iopub.execute_input": "2025-03-23T03:39:22.662213Z",
     "iopub.status.busy": "2025-03-23T03:39:22.661887Z",
     "iopub.status.idle": "2025-03-23T03:39:23.608987Z",
     "shell.execute_reply": "2025-03-23T03:39:23.608246Z"
    },
    "papermill": {
     "duration": 1.694352,
     "end_time": "2025-03-23T03:39:23.610363",
     "exception": false,
     "start_time": "2025-03-23T03:39:21.916011",
     "status": "completed"
    },
    "tags": []
   },
   "outputs": [
    {
     "data": {
      "text/plain": [
       "torch.Size([512, 18])"
      ]
     },
     "execution_count": 14,
     "metadata": {},
     "output_type": "execute_result"
    }
   ],
   "source": [
    "seq2seq.eval()\n",
    "# with torch.no_grad():\n",
    "a, b = next(iter(train_loader))\n",
    "a = a.to(device)\n",
    "b = b.to(device)\n",
    "with torch.no_grad():\n",
    "    x = seq2seq.predict(a)\n",
    "\n",
    "x = x.argmax(dim=2)\n",
    "x.shape"
   ]
  },
  {
   "cell_type": "code",
   "execution_count": 15,
   "id": "9c20ef80",
   "metadata": {
    "execution": {
     "iopub.execute_input": "2025-03-23T03:39:25.247847Z",
     "iopub.status.busy": "2025-03-23T03:39:25.247411Z",
     "iopub.status.idle": "2025-03-23T03:39:25.414152Z",
     "shell.execute_reply": "2025-03-23T03:39:25.413207Z"
    },
    "papermill": {
     "duration": 0.999328,
     "end_time": "2025-03-23T03:39:25.416041",
     "exception": false,
     "start_time": "2025-03-23T03:39:24.416713",
     "status": "completed"
    },
    "tags": []
   },
   "outputs": [],
   "source": [
    "from tokenizers import ByteLevelBPETokenizer\n",
    "\n",
    "tokenizer = ByteLevelBPETokenizer(\n",
    "    f\"{path}/EnglishOrSpanish/EnglishOrSpanish/vocab.json\", f\"{path}/EnglishOrSpanish/EnglishOrSpanish/merges.txt\"\n",
    ")"
   ]
  },
  {
   "cell_type": "code",
   "execution_count": 16,
   "id": "a7e0beeb",
   "metadata": {
    "execution": {
     "iopub.execute_input": "2025-03-23T03:39:26.996239Z",
     "iopub.status.busy": "2025-03-23T03:39:26.995865Z",
     "iopub.status.idle": "2025-03-23T03:39:27.002548Z",
     "shell.execute_reply": "2025-03-23T03:39:27.001584Z"
    },
    "papermill": {
     "duration": 0.75748,
     "end_time": "2025-03-23T03:39:27.003783",
     "exception": false,
     "start_time": "2025-03-23T03:39:26.246303",
     "status": "completed"
    },
    "tags": []
   },
   "outputs": [
    {
     "name": "stdout",
     "output_type": "stream",
     "text": [
      "<SOS> tengo malas noticias para vosotros <EOS><PAD><PAD><PAD><PAD><PAD><PAD><PAD><PAD><PAD><PAD>\n",
      "<PAD> tengo mucho de por <EOS><EOS><EOS><EOS><EOS><EOS><EOS><EOS> <EOS><EOS><EOS>\n"
     ]
    }
   ],
   "source": [
    "print(tokenizer.decode(b.tolist()[2]))\n",
    "print(tokenizer.decode(x.tolist()[2]))"
   ]
  },
  {
   "cell_type": "code",
   "execution_count": null,
   "id": "3e89b516",
   "metadata": {
    "papermill": {
     "duration": 0.829535,
     "end_time": "2025-03-23T03:39:28.637814",
     "exception": false,
     "start_time": "2025-03-23T03:39:27.808279",
     "status": "completed"
    },
    "tags": []
   },
   "outputs": [],
   "source": []
  }
 ],
 "metadata": {
  "accelerator": "GPU",
  "colab": {
   "gpuType": "T4",
   "provenance": []
  },
  "kaggle": {
   "accelerator": "nvidiaTeslaT4",
   "dataSources": [
    {
     "datasetId": 6838673,
     "sourceId": 11036243,
     "sourceType": "datasetVersion"
    }
   ],
   "dockerImageVersionId": 30919,
   "isGpuEnabled": true,
   "isInternetEnabled": true,
   "language": "python",
   "sourceType": "notebook"
  },
  "kernelspec": {
   "display_name": "Python 3",
   "language": "python",
   "name": "python3"
  },
  "language_info": {
   "codemirror_mode": {
    "name": "ipython",
    "version": 3
   },
   "file_extension": ".py",
   "mimetype": "text/x-python",
   "name": "python",
   "nbconvert_exporter": "python",
   "pygments_lexer": "ipython3",
   "version": "3.10.12"
  },
  "papermill": {
   "default_parameters": {},
   "duration": 9649.384025,
   "end_time": "2025-03-23T03:39:32.281122",
   "environment_variables": {},
   "exception": null,
   "input_path": "__notebook__.ipynb",
   "output_path": "__notebook__.ipynb",
   "parameters": {},
   "start_time": "2025-03-23T00:58:42.897097",
   "version": "2.6.0"
  }
 },
 "nbformat": 4,
 "nbformat_minor": 5
}
