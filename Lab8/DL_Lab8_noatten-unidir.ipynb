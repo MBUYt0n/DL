{
 "cells": [
  {
   "cell_type": "code",
   "execution_count": 1,
   "id": "18996b70",
   "metadata": {
    "execution": {
     "iopub.execute_input": "2025-03-23T00:58:46.255136Z",
     "iopub.status.busy": "2025-03-23T00:58:46.254906Z",
     "iopub.status.idle": "2025-03-23T00:58:48.649908Z",
     "shell.execute_reply": "2025-03-23T00:58:48.648968Z"
    },
    "id": "d0145768",
    "outputId": "83af7e41-96d0-4368-cbc0-996710256066",
    "papermill": {
     "duration": 2.400651,
     "end_time": "2025-03-23T00:58:48.651401",
     "exception": false,
     "start_time": "2025-03-23T00:58:46.250750",
     "status": "completed"
    },
    "tags": []
   },
   "outputs": [
    {
     "data": {
      "text/html": [
       "<div>\n",
       "<style scoped>\n",
       "    .dataframe tbody tr th:only-of-type {\n",
       "        vertical-align: middle;\n",
       "    }\n",
       "\n",
       "    .dataframe tbody tr th {\n",
       "        vertical-align: top;\n",
       "    }\n",
       "\n",
       "    .dataframe thead th {\n",
       "        text-align: right;\n",
       "    }\n",
       "</style>\n",
       "<table border=\"1\" class=\"dataframe\">\n",
       "  <thead>\n",
       "    <tr style=\"text-align: right;\">\n",
       "      <th></th>\n",
       "      <th>English</th>\n",
       "      <th>Spanish</th>\n",
       "    </tr>\n",
       "  </thead>\n",
       "  <tbody>\n",
       "    <tr>\n",
       "      <th>47504</th>\n",
       "      <td>[2, 265, 1225, 334, 3724, 332, 300, 1675, 224,...</td>\n",
       "      <td>[2, 323, 2116, 393, 15255, 355, 559, 224, 3, 0...</td>\n",
       "    </tr>\n",
       "    <tr>\n",
       "      <th>73273</th>\n",
       "      <td>[2, 395, 1089, 411, 300, 1647, 1191, 224, 3, 0...</td>\n",
       "      <td>[2, 1193, 1247, 331, 1316, 1313, 224, 3, 0, 0,...</td>\n",
       "    </tr>\n",
       "    <tr>\n",
       "      <th>6048</th>\n",
       "      <td>[2, 426, 449, 538, 224, 3, 0, 0, 0, 0, 0, 0, 0...</td>\n",
       "      <td>[2, 833, 444, 584, 224, 3, 0, 0, 0, 0, 0, 0, 0...</td>\n",
       "    </tr>\n",
       "    <tr>\n",
       "      <th>21959</th>\n",
       "      <td>[2, 479, 1873, 2127, 328, 224, 3, 0, 0, 0, 0, ...</td>\n",
       "      <td>[2, 801, 1880, 328, 7743, 224, 3, 0, 0, 0, 0, ...</td>\n",
       "    </tr>\n",
       "    <tr>\n",
       "      <th>95763</th>\n",
       "      <td>[2, 270, 384, 332, 300, 3142, 659, 300, 2110, ...</td>\n",
       "      <td>[2, 535, 621, 322, 331, 3381, 780, 331, 1934, ...</td>\n",
       "    </tr>\n",
       "    <tr>\n",
       "      <th>...</th>\n",
       "      <td>...</td>\n",
       "      <td>...</td>\n",
       "    </tr>\n",
       "    <tr>\n",
       "      <th>16908</th>\n",
       "      <td>[2, 426, 449, 395, 1320, 224, 3, 0, 0, 0, 0, 0...</td>\n",
       "      <td>[2, 444, 1368, 1756, 224, 3, 0, 0, 0, 0, 0, 0,...</td>\n",
       "    </tr>\n",
       "    <tr>\n",
       "      <th>89015</th>\n",
       "      <td>[2, 341, 304, 473, 300, 2428, 805, 333, 2247, ...</td>\n",
       "      <td>[2, 4088, 321, 1533, 322, 2073, 401, 2013, 224...</td>\n",
       "    </tr>\n",
       "    <tr>\n",
       "      <th>118000</th>\n",
       "      <td>[2, 1235, 1117, 270, 8576, 265, 1592, 458, 461...</td>\n",
       "      <td>[2, 1954, 31979, 2735, 346, 4615, 9908, 224, 3...</td>\n",
       "    </tr>\n",
       "    <tr>\n",
       "      <th>49446</th>\n",
       "      <td>[2, 818, 775, 606, 398, 265, 1266, 224, 3, 0, ...</td>\n",
       "      <td>[2, 333, 1289, 627, 387, 410, 1390, 224, 3, 0,...</td>\n",
       "    </tr>\n",
       "    <tr>\n",
       "      <th>118052</th>\n",
       "      <td>[2, 265, 924, 9223, 362, 10043, 2622, 334, 151...</td>\n",
       "      <td>[2, 323, 23880, 19106, 371, 294, 724, 17502, 3...</td>\n",
       "    </tr>\n",
       "  </tbody>\n",
       "</table>\n",
       "<p>128982 rows × 2 columns</p>\n",
       "</div>"
      ],
      "text/plain": [
       "                                                  English  \\\n",
       "47504   [2, 265, 1225, 334, 3724, 332, 300, 1675, 224,...   \n",
       "73273   [2, 395, 1089, 411, 300, 1647, 1191, 224, 3, 0...   \n",
       "6048    [2, 426, 449, 538, 224, 3, 0, 0, 0, 0, 0, 0, 0...   \n",
       "21959   [2, 479, 1873, 2127, 328, 224, 3, 0, 0, 0, 0, ...   \n",
       "95763   [2, 270, 384, 332, 300, 3142, 659, 300, 2110, ...   \n",
       "...                                                   ...   \n",
       "16908   [2, 426, 449, 395, 1320, 224, 3, 0, 0, 0, 0, 0...   \n",
       "89015   [2, 341, 304, 473, 300, 2428, 805, 333, 2247, ...   \n",
       "118000  [2, 1235, 1117, 270, 8576, 265, 1592, 458, 461...   \n",
       "49446   [2, 818, 775, 606, 398, 265, 1266, 224, 3, 0, ...   \n",
       "118052  [2, 265, 924, 9223, 362, 10043, 2622, 334, 151...   \n",
       "\n",
       "                                                  Spanish  \n",
       "47504   [2, 323, 2116, 393, 15255, 355, 559, 224, 3, 0...  \n",
       "73273   [2, 1193, 1247, 331, 1316, 1313, 224, 3, 0, 0,...  \n",
       "6048    [2, 833, 444, 584, 224, 3, 0, 0, 0, 0, 0, 0, 0...  \n",
       "21959   [2, 801, 1880, 328, 7743, 224, 3, 0, 0, 0, 0, ...  \n",
       "95763   [2, 535, 621, 322, 331, 3381, 780, 331, 1934, ...  \n",
       "...                                                   ...  \n",
       "16908   [2, 444, 1368, 1756, 224, 3, 0, 0, 0, 0, 0, 0,...  \n",
       "89015   [2, 4088, 321, 1533, 322, 2073, 401, 2013, 224...  \n",
       "118000  [2, 1954, 31979, 2735, 346, 4615, 9908, 224, 3...  \n",
       "49446   [2, 333, 1289, 627, 387, 410, 1390, 224, 3, 0,...  \n",
       "118052  [2, 323, 23880, 19106, 371, 294, 724, 17502, 3...  \n",
       "\n",
       "[128982 rows x 2 columns]"
      ]
     },
     "execution_count": 1,
     "metadata": {},
     "output_type": "execute_result"
    }
   ],
   "source": [
    "import pandas as pd\n",
    "from sklearn.utils import shuffle\n",
    "df = pd.read_csv(f\"EnglishOrSpanish/output_joint1.csv\")\n",
    "df = shuffle(df)\n",
    "df"
   ]
  },
  {
   "cell_type": "code",
   "execution_count": 2,
   "id": "036b34fd",
   "metadata": {
    "execution": {
     "iopub.execute_input": "2025-03-23T00:58:48.659814Z",
     "iopub.status.busy": "2025-03-23T00:58:48.659525Z",
     "iopub.status.idle": "2025-03-23T00:58:56.811282Z",
     "shell.execute_reply": "2025-03-23T00:58:56.810330Z"
    },
    "id": "7109b156",
    "outputId": "5b92d6a5-48cf-4a1b-e00f-7c2db2dee860",
    "papermill": {
     "duration": 8.157542,
     "end_time": "2025-03-23T00:58:56.812873",
     "exception": false,
     "start_time": "2025-03-23T00:58:48.655331",
     "status": "completed"
    },
    "tags": []
   },
   "outputs": [
    {
     "data": {
      "text/html": [
       "<div>\n",
       "<style scoped>\n",
       "    .dataframe tbody tr th:only-of-type {\n",
       "        vertical-align: middle;\n",
       "    }\n",
       "\n",
       "    .dataframe tbody tr th {\n",
       "        vertical-align: top;\n",
       "    }\n",
       "\n",
       "    .dataframe thead th {\n",
       "        text-align: right;\n",
       "    }\n",
       "</style>\n",
       "<table border=\"1\" class=\"dataframe\">\n",
       "  <thead>\n",
       "    <tr style=\"text-align: right;\">\n",
       "      <th></th>\n",
       "      <th>English</th>\n",
       "      <th>Spanish</th>\n",
       "    </tr>\n",
       "  </thead>\n",
       "  <tbody>\n",
       "    <tr>\n",
       "      <th>47504</th>\n",
       "      <td>[2, 265, 1225, 334, 3724, 332, 300, 1675, 224,...</td>\n",
       "      <td>[2, 323, 2116, 393, 15255, 355, 559, 224, 3, 0...</td>\n",
       "    </tr>\n",
       "    <tr>\n",
       "      <th>73273</th>\n",
       "      <td>[2, 395, 1089, 411, 300, 1647, 1191, 224, 3, 0...</td>\n",
       "      <td>[2, 1193, 1247, 331, 1316, 1313, 224, 3, 0, 0,...</td>\n",
       "    </tr>\n",
       "    <tr>\n",
       "      <th>6048</th>\n",
       "      <td>[2, 426, 449, 538, 224, 3, 0, 0, 0, 0, 0, 0, 0...</td>\n",
       "      <td>[2, 833, 444, 584, 224, 3, 0, 0, 0, 0, 0, 0, 0...</td>\n",
       "    </tr>\n",
       "    <tr>\n",
       "      <th>21959</th>\n",
       "      <td>[2, 479, 1873, 2127, 328, 224, 3, 0, 0, 0, 0, ...</td>\n",
       "      <td>[2, 801, 1880, 328, 7743, 224, 3, 0, 0, 0, 0, ...</td>\n",
       "    </tr>\n",
       "    <tr>\n",
       "      <th>95763</th>\n",
       "      <td>[2, 270, 384, 332, 300, 3142, 659, 300, 2110, ...</td>\n",
       "      <td>[2, 535, 621, 322, 331, 3381, 780, 331, 1934, ...</td>\n",
       "    </tr>\n",
       "    <tr>\n",
       "      <th>...</th>\n",
       "      <td>...</td>\n",
       "      <td>...</td>\n",
       "    </tr>\n",
       "    <tr>\n",
       "      <th>16908</th>\n",
       "      <td>[2, 426, 449, 395, 1320, 224, 3, 0, 0, 0, 0, 0...</td>\n",
       "      <td>[2, 444, 1368, 1756, 224, 3, 0, 0, 0, 0, 0, 0,...</td>\n",
       "    </tr>\n",
       "    <tr>\n",
       "      <th>89015</th>\n",
       "      <td>[2, 341, 304, 473, 300, 2428, 805, 333, 2247, ...</td>\n",
       "      <td>[2, 4088, 321, 1533, 322, 2073, 401, 2013, 224...</td>\n",
       "    </tr>\n",
       "    <tr>\n",
       "      <th>118000</th>\n",
       "      <td>[2, 1235, 1117, 270, 8576, 265, 1592, 458, 461...</td>\n",
       "      <td>[2, 1954, 31979, 2735, 346, 4615, 9908, 224, 3...</td>\n",
       "    </tr>\n",
       "    <tr>\n",
       "      <th>49446</th>\n",
       "      <td>[2, 818, 775, 606, 398, 265, 1266, 224, 3, 0, ...</td>\n",
       "      <td>[2, 333, 1289, 627, 387, 410, 1390, 224, 3, 0,...</td>\n",
       "    </tr>\n",
       "    <tr>\n",
       "      <th>118052</th>\n",
       "      <td>[2, 265, 924, 9223, 362, 10043, 2622, 334, 151...</td>\n",
       "      <td>[2, 323, 23880, 19106, 371, 294, 724, 17502, 3...</td>\n",
       "    </tr>\n",
       "  </tbody>\n",
       "</table>\n",
       "<p>128982 rows × 2 columns</p>\n",
       "</div>"
      ],
      "text/plain": [
       "                                                  English  \\\n",
       "47504   [2, 265, 1225, 334, 3724, 332, 300, 1675, 224,...   \n",
       "73273   [2, 395, 1089, 411, 300, 1647, 1191, 224, 3, 0...   \n",
       "6048    [2, 426, 449, 538, 224, 3, 0, 0, 0, 0, 0, 0, 0...   \n",
       "21959   [2, 479, 1873, 2127, 328, 224, 3, 0, 0, 0, 0, ...   \n",
       "95763   [2, 270, 384, 332, 300, 3142, 659, 300, 2110, ...   \n",
       "...                                                   ...   \n",
       "16908   [2, 426, 449, 395, 1320, 224, 3, 0, 0, 0, 0, 0...   \n",
       "89015   [2, 341, 304, 473, 300, 2428, 805, 333, 2247, ...   \n",
       "118000  [2, 1235, 1117, 270, 8576, 265, 1592, 458, 461...   \n",
       "49446   [2, 818, 775, 606, 398, 265, 1266, 224, 3, 0, ...   \n",
       "118052  [2, 265, 924, 9223, 362, 10043, 2622, 334, 151...   \n",
       "\n",
       "                                                  Spanish  \n",
       "47504   [2, 323, 2116, 393, 15255, 355, 559, 224, 3, 0...  \n",
       "73273   [2, 1193, 1247, 331, 1316, 1313, 224, 3, 0, 0,...  \n",
       "6048    [2, 833, 444, 584, 224, 3, 0, 0, 0, 0, 0, 0, 0...  \n",
       "21959   [2, 801, 1880, 328, 7743, 224, 3, 0, 0, 0, 0, ...  \n",
       "95763   [2, 535, 621, 322, 331, 3381, 780, 331, 1934, ...  \n",
       "...                                                   ...  \n",
       "16908   [2, 444, 1368, 1756, 224, 3, 0, 0, 0, 0, 0, 0,...  \n",
       "89015   [2, 4088, 321, 1533, 322, 2073, 401, 2013, 224...  \n",
       "118000  [2, 1954, 31979, 2735, 346, 4615, 9908, 224, 3...  \n",
       "49446   [2, 333, 1289, 627, 387, 410, 1390, 224, 3, 0,...  \n",
       "118052  [2, 323, 23880, 19106, 371, 294, 724, 17502, 3...  \n",
       "\n",
       "[128982 rows x 2 columns]"
      ]
     },
     "execution_count": 2,
     "metadata": {},
     "output_type": "execute_result"
    }
   ],
   "source": [
    "import ast\n",
    "\n",
    "df[\"English\"] = df[\"English\"].apply(ast.literal_eval)\n",
    "df[\"Spanish\"] = df[\"Spanish\"].apply(ast.literal_eval)\n",
    "df"
   ]
  },
  {
   "cell_type": "code",
   "execution_count": 3,
   "id": "41d971c6",
   "metadata": {
    "execution": {
     "iopub.execute_input": "2025-03-23T00:58:56.822341Z",
     "iopub.status.busy": "2025-03-23T00:58:56.822058Z",
     "iopub.status.idle": "2025-03-23T00:59:00.536937Z",
     "shell.execute_reply": "2025-03-23T00:59:00.535880Z"
    },
    "id": "c303ca41",
    "papermill": {
     "duration": 3.721634,
     "end_time": "2025-03-23T00:59:00.538780",
     "exception": false,
     "start_time": "2025-03-23T00:58:56.817146",
     "status": "completed"
    },
    "tags": []
   },
   "outputs": [],
   "source": [
    "import torch\n",
    "from torch.utils.data import DataLoader, TensorDataset\n",
    "\n",
    "train = TensorDataset(\n",
    "    torch.tensor(df[\"English\"][:100000].tolist(), dtype=torch.long),\n",
    "    torch.tensor(df[\"Spanish\"][:100000].tolist(), dtype=torch.long),\n",
    ")\n",
    "test = TensorDataset(\n",
    "    torch.tensor(df[\"English\"][100000:].tolist(), dtype=torch.long),\n",
    "    torch.tensor(df[\"Spanish\"][100000:].tolist(), dtype=torch.long),\n",
    ")\n",
    "train_loader = DataLoader(train, batch_size=512, shuffle=True, drop_last=True)\n",
    "test_loader = DataLoader(test, batch_size=512, shuffle=False, drop_last=True)"
   ]
  },
  {
   "cell_type": "code",
   "execution_count": 4,
   "id": "756b1e04",
   "metadata": {
    "execution": {
     "iopub.execute_input": "2025-03-23T00:59:00.548732Z",
     "iopub.status.busy": "2025-03-23T00:59:00.548334Z",
     "iopub.status.idle": "2025-03-23T00:59:00.616179Z",
     "shell.execute_reply": "2025-03-23T00:59:00.615316Z"
    },
    "id": "4b15a79c",
    "papermill": {
     "duration": 0.073952,
     "end_time": "2025-03-23T00:59:00.617452",
     "exception": false,
     "start_time": "2025-03-23T00:59:00.543500",
     "status": "completed"
    },
    "tags": []
   },
   "outputs": [],
   "source": [
    "import json\n",
    "with open(f\"EnglishOrSpanish/vocab.json\", \"r\") as f:\n",
    "    vocab = json.load(f)"
   ]
  },
  {
   "cell_type": "code",
   "execution_count": 5,
   "id": "74d7b126",
   "metadata": {
    "execution": {
     "iopub.execute_input": "2025-03-23T00:59:00.626365Z",
     "iopub.status.busy": "2025-03-23T00:59:00.626102Z",
     "iopub.status.idle": "2025-03-23T00:59:00.631923Z",
     "shell.execute_reply": "2025-03-23T00:59:00.631238Z"
    },
    "id": "e29c682e",
    "papermill": {
     "duration": 0.011777,
     "end_time": "2025-03-23T00:59:00.633425",
     "exception": false,
     "start_time": "2025-03-23T00:59:00.621648",
     "status": "completed"
    },
    "tags": []
   },
   "outputs": [],
   "source": [
    "import torch\n",
    "import torch.nn as nn\n",
    "\n",
    "\n",
    "class Encoder(nn.Module):\n",
    "    def __init__(\n",
    "        self, vocab_size, embedding_dim, hidden_size, num_layers=2, dropout=0.3\n",
    "    ):\n",
    "        super(Encoder, self).__init__()\n",
    "        self.num_layers = num_layers\n",
    "        self.vocab_size = vocab_size\n",
    "\n",
    "        self.embedding = nn.Embedding(vocab_size, embedding_dim, padding_idx=0)\n",
    "        self.lstm = nn.LSTM(\n",
    "            embedding_dim,\n",
    "            hidden_size,\n",
    "            num_layers=num_layers,\n",
    "            batch_first=True,\n",
    "            dropout=dropout,\n",
    "        )\n",
    "        self.apply(self._init_weights)\n",
    "\n",
    "    def _init_weights(self, module):\n",
    "        if isinstance(module, nn.LSTM):\n",
    "            for name, param in module.named_parameters():\n",
    "                if \"weight\" in name:\n",
    "                    nn.init.xavier_uniform_(param)\n",
    "                elif \"bias\" in name:\n",
    "                    nn.init.zeros_(param)\n",
    "\n",
    "    def forward(self, x):\n",
    "        embedded = self.embedding(x)\n",
    "        output, (hidden, cell) = self.lstm(embedded)\n",
    "        return output, hidden, cell"
   ]
  },
  {
   "cell_type": "code",
   "execution_count": 6,
   "id": "9929afd6",
   "metadata": {
    "execution": {
     "iopub.execute_input": "2025-03-23T00:59:00.643072Z",
     "iopub.status.busy": "2025-03-23T00:59:00.642810Z",
     "iopub.status.idle": "2025-03-23T00:59:00.649296Z",
     "shell.execute_reply": "2025-03-23T00:59:00.648508Z"
    },
    "id": "cada738e",
    "papermill": {
     "duration": 0.012481,
     "end_time": "2025-03-23T00:59:00.650563",
     "exception": false,
     "start_time": "2025-03-23T00:59:00.638082",
     "status": "completed"
    },
    "tags": []
   },
   "outputs": [],
   "source": [
    "import torch\n",
    "import torch.nn as nn\n",
    "\n",
    "\n",
    "class Decoder(nn.Module):\n",
    "    def __init__(\n",
    "        self, vocab_size, embedding_dim, hidden_size, num_layers=2, dropout=0.3\n",
    "    ):\n",
    "        super(Decoder, self).__init__()\n",
    "        self.hidden_size = hidden_size\n",
    "        self.num_layers = num_layers\n",
    "        self.vocab_size = vocab_size\n",
    "\n",
    "        self.embedding = nn.Embedding(vocab_size, embedding_dim, padding_idx=0)\n",
    "\n",
    "        self.lstm = nn.LSTM(\n",
    "            embedding_dim,\n",
    "            hidden_size,\n",
    "            num_layers=num_layers,\n",
    "            batch_first=True,\n",
    "            dropout=dropout,\n",
    "        )\n",
    "        self.fc = nn.Linear(hidden_size, vocab_size)\n",
    "        self.apply(self._init_weights)\n",
    "        self.dropout = nn.Dropout(dropout)\n",
    "\n",
    "    def _init_weights(self, module):\n",
    "        if isinstance(module, nn.LSTM):\n",
    "            for name, param in module.named_parameters():\n",
    "                if \"weight\" in name:\n",
    "                    nn.init.xavier_uniform_(param)\n",
    "                elif \"bias\" in name:\n",
    "                    nn.init.zeros_(param)\n",
    "\n",
    "    def forward(self, x, hidden, cell):\n",
    "        x = self.embedding(x)\n",
    "        x = x.unsqueeze(1)\n",
    "        output, (hidden, cell) = self.lstm(x, (hidden, cell))\n",
    "        output = self.dropout(output)\n",
    "        output = self.fc(output)\n",
    "        return output, hidden, cell"
   ]
  },
  {
   "cell_type": "code",
   "execution_count": 7,
   "id": "5029d049",
   "metadata": {
    "execution": {
     "iopub.execute_input": "2025-03-23T00:59:00.659580Z",
     "iopub.status.busy": "2025-03-23T00:59:00.659286Z",
     "iopub.status.idle": "2025-03-23T00:59:00.666552Z",
     "shell.execute_reply": "2025-03-23T00:59:00.665754Z"
    },
    "id": "ac8cc2ad",
    "papermill": {
     "duration": 0.013057,
     "end_time": "2025-03-23T00:59:00.667745",
     "exception": false,
     "start_time": "2025-03-23T00:59:00.654688",
     "status": "completed"
    },
    "tags": []
   },
   "outputs": [],
   "source": [
    "import torch.nn as nn\n",
    "import torch\n",
    "import random\n",
    "\n",
    "class Seq2Seq(nn.Module):\n",
    "    def __init__(self, encoder, decoder, vocab_size, teacher_forcing_ratio=0.5):\n",
    "        super(Seq2Seq, self).__init__()\n",
    "        self.encoder = encoder\n",
    "        self.decoder = decoder\n",
    "        self.vocab_size = vocab_size\n",
    "        self.teacher_forcing_ratio = teacher_forcing_ratio\n",
    "\n",
    "    def forward(self, src, trg):\n",
    "        _, hidden, cell = self.encoder(src)\n",
    "        outputs = torch.zeros(trg.shape[0], trg.shape[1], self.decoder.vocab_size).to(\"cuda\")\n",
    "        x = trg[:, 0]\n",
    "        for t in range(1, trg.shape[1]):\n",
    "            output, hidden, cell = self.decoder(x, hidden, cell)\n",
    "            output = output.squeeze(1)\n",
    "            outputs[:, t, :] = output\n",
    "            use_teacher_forcing = random.random() < self.teacher_forcing_ratio\n",
    "            x = trg[:, t] if use_teacher_forcing else output.argmax(dim=1)\n",
    "\n",
    "        return outputs\n",
    "    \n",
    "    def predict(self, src):\n",
    "        _, hidden, cell = self.encoder(src)\n",
    "        outputs = torch.zeros(src.shape[0], src.shape[1], self.decoder.vocab_size).to(\"cuda\")\n",
    "        x = src[:, 0]\n",
    "        for i in range(1, src.shape[1]):\n",
    "            output, hidden, cell = self.decoder(x, hidden, cell)\n",
    "            output = output.squeeze(1)\n",
    "            outputs[:, i, :] = output\n",
    "            x = output.argmax(dim=1)\n",
    "        \n",
    "        return outputs"
   ]
  },
  {
   "cell_type": "code",
   "execution_count": 9,
   "id": "415f21a0",
   "metadata": {
    "execution": {
     "iopub.execute_input": "2025-03-23T00:59:00.676221Z",
     "iopub.status.busy": "2025-03-23T00:59:00.675933Z",
     "iopub.status.idle": "2025-03-23T00:59:12.793097Z",
     "shell.execute_reply": "2025-03-23T00:59:12.792323Z"
    },
    "papermill": {
     "duration": 12.12352,
     "end_time": "2025-03-23T00:59:12.794933",
     "exception": false,
     "start_time": "2025-03-23T00:59:00.671413",
     "status": "completed"
    },
    "tags": []
   },
   "outputs": [],
   "source": [
    "from torch.utils.tensorboard import SummaryWriter\n",
    "from tqdm import tqdm\n",
    "\n",
    "\n",
    "def train(\n",
    "    model,\n",
    "    train_loader,\n",
    "    test_loader,\n",
    "    optimizer,\n",
    "    criterion,\n",
    "    device,\n",
    "    scheduler,\n",
    "    num_epochs,\n",
    "):\n",
    "    writer = SummaryWriter()\n",
    "\n",
    "    for epoch in range(num_epochs):\n",
    "        print(f\"\\nEpoch {epoch+1}/{num_epochs}\")\n",
    "        model.encoder.train()\n",
    "        model.decoder.train()\n",
    "        epoch_loss = 0\n",
    "        progress_bar = tqdm(train_loader, desc=\"Training\", leave=False)\n",
    "\n",
    "        for src, trg in progress_bar:\n",
    "            src, trg = src.to(device), trg.to(device)\n",
    "            optimizer.zero_grad()\n",
    "            outputs = model(src, trg)\n",
    "            loss = criterion(\n",
    "                outputs[:, 1:].reshape(-1, model.vocab_size), trg[:, 1:].reshape(-1)\n",
    "            )\n",
    "            loss.backward()\n",
    "            optimizer.step()\n",
    "\n",
    "            epoch_loss += loss.item()\n",
    "\n",
    "            progress_bar.set_postfix(loss=f\"{loss.item():.4f}\")\n",
    "\n",
    "        train_loss = epoch_loss / len(train_loader)\n",
    "\n",
    "        # ---------------- VALIDATION ---------------- #\n",
    "        model.encoder.eval()\n",
    "        model.decoder.eval()\n",
    "        val_epoch_loss = 0\n",
    "        progress_bar = tqdm(test_loader, desc=\"Validating\", leave=False)\n",
    "\n",
    "        with torch.no_grad():\n",
    "            for src, trg in progress_bar:\n",
    "                src, trg = src.to(device), trg.to(device)\n",
    "                outputs = model(src, trg)\n",
    "                loss = criterion(\n",
    "                    outputs[:, 1:].reshape(-1, model.vocab_size),\n",
    "                    trg[:, 1:].reshape(-1),\n",
    "                )\n",
    "                val_epoch_loss += loss.item()\n",
    "\n",
    "                progress_bar.set_postfix(loss=f\"{loss.item():.4f}\")\n",
    "\n",
    "        val_loss = val_epoch_loss / len(test_loader)\n",
    "        scheduler.step(val_loss)\n",
    "\n",
    "        writer.add_scalar(\"Loss/Train\", train_loss, epoch)\n",
    "        writer.add_scalar(\"Loss/Validation\", val_loss, epoch)\n",
    "        writer.add_scalar(\"Learning Rate\", scheduler.get_last_lr()[0], epoch)\n",
    "\n",
    "        print(\n",
    "            f\"Train loss : {train_loss}, Val_loss : {val_loss}, lr: {scheduler.get_last_lr()[0]}\"\n",
    "        )\n",
    "\n",
    "    writer.close()\n",
    "    return train_loss, val_loss"
   ]
  },
  {
   "cell_type": "code",
   "execution_count": null,
   "id": "aa3318d0",
   "metadata": {
    "execution": {
     "iopub.execute_input": "2025-03-23T00:59:12.804829Z",
     "iopub.status.busy": "2025-03-23T00:59:12.804325Z",
     "iopub.status.idle": "2025-03-23T00:59:17.457185Z",
     "shell.execute_reply": "2025-03-23T00:59:17.456258Z"
    },
    "id": "32613de9",
    "papermill": {
     "duration": 4.659681,
     "end_time": "2025-03-23T00:59:17.459092",
     "exception": false,
     "start_time": "2025-03-23T00:59:12.799411",
     "status": "completed"
    },
    "tags": []
   },
   "outputs": [],
   "source": [
    "import torch\n",
    "import torch.nn as nn\n",
    "import torch.optim as optim\n",
    "from tqdm import tqdm\n",
    "\n",
    "device = torch.device(\"cuda\" if torch.cuda.is_available() else \"cpu\")\n",
    "\n",
    "vocab_size = len(vocab)\n",
    "embedding_dim = 512\n",
    "hidden_size = 64\n",
    "encoder = Encoder(vocab_size, embedding_dim, hidden_size).to(device)\n",
    "decoder = Decoder(vocab_size, embedding_dim, hidden_size).to(device)\n",
    "seq2seq = Seq2Seq(encoder, decoder, vocab_size).to(device)\n",
    "criterion = nn.CrossEntropyLoss(ignore_index=0)\n",
    "optimizer = optim.Adam(seq2seq.parameters(), lr=0.005, weight_decay=1e-5)\n",
    "scheduler = optim.lr_scheduler.ReduceLROnPlateau(\n",
    "    optimizer, mode=\"min\", factor=0.5, patience=2\n",
    ")"
   ]
  },
  {
   "cell_type": "code",
   "execution_count": 11,
   "id": "d73d3a05",
   "metadata": {
    "execution": {
     "iopub.execute_input": "2025-03-23T00:59:17.468615Z",
     "iopub.status.busy": "2025-03-23T00:59:17.468093Z",
     "iopub.status.idle": "2025-03-23T03:39:17.022092Z",
     "shell.execute_reply": "2025-03-23T03:39:17.021249Z"
    },
    "id": "a6da8eb8",
    "outputId": "624e6f77-00eb-462d-b8ca-6dc5e3b0e0cb",
    "papermill": {
     "duration": 9599.559957,
     "end_time": "2025-03-23T03:39:17.023477",
     "exception": false,
     "start_time": "2025-03-23T00:59:17.463520",
     "status": "completed"
    },
    "tags": []
   },
   "outputs": [
    {
     "name": "stdout",
     "output_type": "stream",
     "text": [
      "\n",
      "Epoch 1/30\n"
     ]
    },
    {
     "name": "stderr",
     "output_type": "stream",
     "text": [
      "                                                                        \r"
     ]
    },
    {
     "name": "stdout",
     "output_type": "stream",
     "text": [
      "Train loss : 6.687192748143123, Val_loss : 5.654639618737357, lr: 0.001\n",
      "\n",
      "Epoch 2/30\n"
     ]
    },
    {
     "name": "stderr",
     "output_type": "stream",
     "text": [
      "                                                                        \r"
     ]
    },
    {
     "name": "stdout",
     "output_type": "stream",
     "text": [
      "Train loss : 5.6322522994799495, Val_loss : 5.445596354348319, lr: 0.001\n",
      "\n",
      "Epoch 3/30\n"
     ]
    },
    {
     "name": "stderr",
     "output_type": "stream",
     "text": [
      "                                                                        \r"
     ]
    },
    {
     "name": "stdout",
     "output_type": "stream",
     "text": [
      "Train loss : 5.444505283160088, Val_loss : 5.27954580954143, lr: 0.001\n",
      "\n",
      "Epoch 4/30\n"
     ]
    },
    {
     "name": "stderr",
     "output_type": "stream",
     "text": [
      "                                                                        \r"
     ]
    },
    {
     "name": "stdout",
     "output_type": "stream",
     "text": [
      "Train loss : 5.288971583048503, Val_loss : 5.134128902639661, lr: 0.001\n",
      "\n",
      "Epoch 5/30\n"
     ]
    },
    {
     "name": "stderr",
     "output_type": "stream",
     "text": [
      "                                                                        \r"
     ]
    },
    {
     "name": "stdout",
     "output_type": "stream",
     "text": [
      "Train loss : 5.161596105037591, Val_loss : 5.02119197164263, lr: 0.001\n",
      "\n",
      "Epoch 6/30\n"
     ]
    },
    {
     "name": "stderr",
     "output_type": "stream",
     "text": [
      "                                                                        \r"
     ]
    },
    {
     "name": "stdout",
     "output_type": "stream",
     "text": [
      "Train loss : 5.0438000679016115, Val_loss : 4.901165851524898, lr: 0.001\n",
      "\n",
      "Epoch 7/30\n"
     ]
    },
    {
     "name": "stderr",
     "output_type": "stream",
     "text": [
      "                                                                        \r"
     ]
    },
    {
     "name": "stdout",
     "output_type": "stream",
     "text": [
      "Train loss : 4.948218866494986, Val_loss : 4.792365610599518, lr: 0.001\n",
      "\n",
      "Epoch 8/30\n"
     ]
    },
    {
     "name": "stderr",
     "output_type": "stream",
     "text": [
      "                                                                        \r"
     ]
    },
    {
     "name": "stdout",
     "output_type": "stream",
     "text": [
      "Train loss : 4.861228346213316, Val_loss : 4.702058093888419, lr: 0.001\n",
      "\n",
      "Epoch 9/30\n"
     ]
    },
    {
     "name": "stderr",
     "output_type": "stream",
     "text": [
      "                                                                        \r"
     ]
    },
    {
     "name": "stdout",
     "output_type": "stream",
     "text": [
      "Train loss : 4.752602577209473, Val_loss : 4.596114567347935, lr: 0.001\n",
      "\n",
      "Epoch 10/30\n"
     ]
    },
    {
     "name": "stderr",
     "output_type": "stream",
     "text": [
      "                                                                        \r"
     ]
    },
    {
     "name": "stdout",
     "output_type": "stream",
     "text": [
      "Train loss : 4.660875335106483, Val_loss : 4.4997197559901645, lr: 0.001\n",
      "\n",
      "Epoch 11/30\n"
     ]
    },
    {
     "name": "stderr",
     "output_type": "stream",
     "text": [
      "                                                                        \r"
     ]
    },
    {
     "name": "stdout",
     "output_type": "stream",
     "text": [
      "Train loss : 4.566570790608724, Val_loss : 4.402465045452118, lr: 0.001\n",
      "\n",
      "Epoch 12/30\n"
     ]
    },
    {
     "name": "stderr",
     "output_type": "stream",
     "text": [
      "                                                                        \r"
     ]
    },
    {
     "name": "stdout",
     "output_type": "stream",
     "text": [
      "Train loss : 4.479857266254914, Val_loss : 4.333659657410213, lr: 0.001\n",
      "\n",
      "Epoch 13/30\n"
     ]
    },
    {
     "name": "stderr",
     "output_type": "stream",
     "text": [
      "                                                                        \r"
     ]
    },
    {
     "name": "stdout",
     "output_type": "stream",
     "text": [
      "Train loss : 4.400081375317696, Val_loss : 4.237634181976318, lr: 0.001\n",
      "\n",
      "Epoch 14/30\n"
     ]
    },
    {
     "name": "stderr",
     "output_type": "stream",
     "text": [
      "                                                                        \r"
     ]
    },
    {
     "name": "stdout",
     "output_type": "stream",
     "text": [
      "Train loss : 4.32980751869006, Val_loss : 4.17634516954422, lr: 0.001\n",
      "\n",
      "Epoch 15/30\n"
     ]
    },
    {
     "name": "stderr",
     "output_type": "stream",
     "text": [
      "                                                                        \r"
     ]
    },
    {
     "name": "stdout",
     "output_type": "stream",
     "text": [
      "Train loss : 4.243819275880472, Val_loss : 4.126359177487237, lr: 0.001\n",
      "\n",
      "Epoch 16/30\n"
     ]
    },
    {
     "name": "stderr",
     "output_type": "stream",
     "text": [
      "                                                                        \r"
     ]
    },
    {
     "name": "stdout",
     "output_type": "stream",
     "text": [
      "Train loss : 4.178406831545708, Val_loss : 4.059587312596185, lr: 0.001\n",
      "\n",
      "Epoch 17/30\n"
     ]
    },
    {
     "name": "stderr",
     "output_type": "stream",
     "text": [
      "                                                                        \r"
     ]
    },
    {
     "name": "stdout",
     "output_type": "stream",
     "text": [
      "Train loss : 4.118538665771484, Val_loss : 3.972640429224287, lr: 0.001\n",
      "\n",
      "Epoch 18/30\n"
     ]
    },
    {
     "name": "stderr",
     "output_type": "stream",
     "text": [
      "                                                                        \r"
     ]
    },
    {
     "name": "stdout",
     "output_type": "stream",
     "text": [
      "Train loss : 4.05635556441087, Val_loss : 3.906147850411279, lr: 0.001\n",
      "\n",
      "Epoch 19/30\n"
     ]
    },
    {
     "name": "stderr",
     "output_type": "stream",
     "text": [
      "                                                                        \r"
     ]
    },
    {
     "name": "stdout",
     "output_type": "stream",
     "text": [
      "Train loss : 4.010618190276317, Val_loss : 3.8783247896603177, lr: 0.001\n",
      "\n",
      "Epoch 20/30\n"
     ]
    },
    {
     "name": "stderr",
     "output_type": "stream",
     "text": [
      "                                                                        \r"
     ]
    },
    {
     "name": "stdout",
     "output_type": "stream",
     "text": [
      "Train loss : 3.9558753343728874, Val_loss : 3.82585945725441, lr: 0.001\n",
      "\n",
      "Epoch 21/30\n"
     ]
    },
    {
     "name": "stderr",
     "output_type": "stream",
     "text": [
      "                                                                        \r"
     ]
    },
    {
     "name": "stdout",
     "output_type": "stream",
     "text": [
      "Train loss : 3.891662178284083, Val_loss : 3.7950908669403622, lr: 0.001\n",
      "\n",
      "Epoch 22/30\n"
     ]
    },
    {
     "name": "stderr",
     "output_type": "stream",
     "text": [
      "                                                                        \r"
     ]
    },
    {
     "name": "stdout",
     "output_type": "stream",
     "text": [
      "Train loss : 3.87375993117308, Val_loss : 3.7617944606712888, lr: 0.001\n",
      "\n",
      "Epoch 23/30\n"
     ]
    },
    {
     "name": "stderr",
     "output_type": "stream",
     "text": [
      "                                                                        \r"
     ]
    },
    {
     "name": "stdout",
     "output_type": "stream",
     "text": [
      "Train loss : 3.7953803539276123, Val_loss : 3.7227149648325786, lr: 0.001\n",
      "\n",
      "Epoch 24/30\n"
     ]
    },
    {
     "name": "stderr",
     "output_type": "stream",
     "text": [
      "                                                                        \r"
     ]
    },
    {
     "name": "stdout",
     "output_type": "stream",
     "text": [
      "Train loss : 3.7668511207287128, Val_loss : 3.6802377743380412, lr: 0.001\n",
      "\n",
      "Epoch 25/30\n"
     ]
    },
    {
     "name": "stderr",
     "output_type": "stream",
     "text": [
      "                                                                        \r"
     ]
    },
    {
     "name": "stdout",
     "output_type": "stream",
     "text": [
      "Train loss : 3.713581729546571, Val_loss : 3.6232282519340515, lr: 0.001\n",
      "\n",
      "Epoch 26/30\n"
     ]
    },
    {
     "name": "stderr",
     "output_type": "stream",
     "text": [
      "                                                                        \r"
     ]
    },
    {
     "name": "stdout",
     "output_type": "stream",
     "text": [
      "Train loss : 3.6682197350722094, Val_loss : 3.585292726755142, lr: 0.001\n",
      "\n",
      "Epoch 27/30\n"
     ]
    },
    {
     "name": "stderr",
     "output_type": "stream",
     "text": [
      "                                                                        \r"
     ]
    },
    {
     "name": "stdout",
     "output_type": "stream",
     "text": [
      "Train loss : 3.623416779591487, Val_loss : 3.584328361919948, lr: 0.001\n",
      "\n",
      "Epoch 28/30\n"
     ]
    },
    {
     "name": "stderr",
     "output_type": "stream",
     "text": [
      "                                                                        \r"
     ]
    },
    {
     "name": "stdout",
     "output_type": "stream",
     "text": [
      "Train loss : 3.6013498257368037, Val_loss : 3.5853850288050517, lr: 0.001\n",
      "\n",
      "Epoch 29/30\n"
     ]
    },
    {
     "name": "stderr",
     "output_type": "stream",
     "text": [
      "                                                                        \r"
     ]
    },
    {
     "name": "stdout",
     "output_type": "stream",
     "text": [
      "Train loss : 3.5387104499034394, Val_loss : 3.490789668900626, lr: 0.001\n",
      "\n",
      "Epoch 30/30\n"
     ]
    },
    {
     "name": "stderr",
     "output_type": "stream",
     "text": [
      "                                                                        "
     ]
    },
    {
     "name": "stdout",
     "output_type": "stream",
     "text": [
      "Train loss : 3.518312445665017, Val_loss : 3.470277441399438, lr: 0.001\n"
     ]
    },
    {
     "name": "stderr",
     "output_type": "stream",
     "text": [
      "\r"
     ]
    },
    {
     "data": {
      "text/plain": [
       "(3.518312445665017, 3.470277441399438)"
      ]
     },
     "execution_count": 11,
     "metadata": {},
     "output_type": "execute_result"
    }
   ],
   "source": [
    "import torch\n",
    "import torch.nn.functional as F\n",
    "from tqdm import tqdm\n",
    "\n",
    "train(\n",
    "    seq2seq,\n",
    "    train_loader,\n",
    "    test_loader,\n",
    "    optimizer,\n",
    "    criterion,\n",
    "    device,\n",
    "    scheduler,\n",
    "    30,\n",
    ")"
   ]
  },
  {
   "cell_type": "code",
   "execution_count": 12,
   "id": "751c4570",
   "metadata": {
    "execution": {
     "iopub.execute_input": "2025-03-23T03:39:18.618353Z",
     "iopub.status.busy": "2025-03-23T03:39:18.617824Z",
     "iopub.status.idle": "2025-03-23T03:39:18.980065Z",
     "shell.execute_reply": "2025-03-23T03:39:18.979263Z"
    },
    "papermill": {
     "duration": 1.133336,
     "end_time": "2025-03-23T03:39:18.981724",
     "exception": false,
     "start_time": "2025-03-23T03:39:17.848388",
     "status": "completed"
    },
    "tags": []
   },
   "outputs": [],
   "source": [
    "torch.save(seq2seq.state_dict(), \"seq2seq-noattention.pth\")"
   ]
  },
  {
   "cell_type": "markdown",
   "id": "6b7cba97",
   "metadata": {},
   "source": [
    "# Evaluation"
   ]
  },
  {
   "cell_type": "code",
   "execution_count": null,
   "id": "b57679e5",
   "metadata": {
    "execution": {
     "iopub.execute_input": "2025-03-23T03:39:20.537387Z",
     "iopub.status.busy": "2025-03-23T03:39:20.537019Z",
     "iopub.status.idle": "2025-03-23T03:39:21.107480Z",
     "shell.execute_reply": "2025-03-23T03:39:21.106426Z"
    },
    "papermill": {
     "duration": 1.319505,
     "end_time": "2025-03-23T03:39:21.108855",
     "exception": false,
     "start_time": "2025-03-23T03:39:19.789350",
     "status": "completed"
    },
    "tags": []
   },
   "outputs": [
    {
     "data": {
      "text/plain": [
       "<All keys matched successfully>"
      ]
     },
     "execution_count": 8,
     "metadata": {},
     "output_type": "execute_result"
    }
   ],
   "source": [
    "device = torch.device(\"cuda\" if torch.cuda.is_available() else \"cpu\")\n",
    "\n",
    "vocab_size = len(vocab)\n",
    "embedding_dim = 512\n",
    "hidden_size = 64\n",
    "encoder = Encoder(vocab_size, embedding_dim, hidden_size).to(device)\n",
    "decoder = Decoder(vocab_size, embedding_dim, hidden_size).to(device)\n",
    "seq2seq = Seq2Seq(encoder, decoder, vocab_size).to(device)\n",
    "seq2seq.load_state_dict(torch.load(\"seq2seq-noattention.pth\", weights_only=True))"
   ]
  },
  {
   "cell_type": "code",
   "execution_count": 9,
   "id": "cb06f629",
   "metadata": {
    "execution": {
     "iopub.execute_input": "2025-03-23T03:39:22.662213Z",
     "iopub.status.busy": "2025-03-23T03:39:22.661887Z",
     "iopub.status.idle": "2025-03-23T03:39:23.608987Z",
     "shell.execute_reply": "2025-03-23T03:39:23.608246Z"
    },
    "papermill": {
     "duration": 1.694352,
     "end_time": "2025-03-23T03:39:23.610363",
     "exception": false,
     "start_time": "2025-03-23T03:39:21.916011",
     "status": "completed"
    },
    "tags": []
   },
   "outputs": [
    {
     "data": {
      "text/plain": [
       "torch.Size([512, 18])"
      ]
     },
     "execution_count": 9,
     "metadata": {},
     "output_type": "execute_result"
    }
   ],
   "source": [
    "seq2seq.eval()\n",
    "# with torch.no_grad():\n",
    "a, b = next(iter(test_loader))\n",
    "a = a.to(device)\n",
    "b = b.to(device)\n",
    "with torch.no_grad():\n",
    "    x = seq2seq.predict(a)\n",
    "\n",
    "x = x.argmax(dim=2)\n",
    "x.shape"
   ]
  },
  {
   "cell_type": "code",
   "execution_count": 10,
   "id": "9c20ef80",
   "metadata": {
    "execution": {
     "iopub.execute_input": "2025-03-23T03:39:25.247847Z",
     "iopub.status.busy": "2025-03-23T03:39:25.247411Z",
     "iopub.status.idle": "2025-03-23T03:39:25.414152Z",
     "shell.execute_reply": "2025-03-23T03:39:25.413207Z"
    },
    "papermill": {
     "duration": 0.999328,
     "end_time": "2025-03-23T03:39:25.416041",
     "exception": false,
     "start_time": "2025-03-23T03:39:24.416713",
     "status": "completed"
    },
    "tags": []
   },
   "outputs": [],
   "source": [
    "from tokenizers import ByteLevelBPETokenizer\n",
    "\n",
    "tokenizer = ByteLevelBPETokenizer(\n",
    "    f\"EnglishOrSpanish/vocab.json\", f\"EnglishOrSpanish/merges.txt\"\n",
    ")"
   ]
  },
  {
   "cell_type": "code",
   "execution_count": 11,
   "id": "d16e776c",
   "metadata": {},
   "outputs": [],
   "source": [
    "x = x.cpu().numpy()\n",
    "b = b.cpu().numpy()\n",
    "a = a.cpu().numpy()\n",
    "preds = []\n",
    "targets = []\n",
    "originals = []\n",
    "for i in range(x.shape[0]):\n",
    "    preds.append(tokenizer.decode(x[i]))\n",
    "    targets.append(tokenizer.decode(b[i]))\n",
    "    originals.append(tokenizer.decode(a[i]))\n"
   ]
  },
  {
   "cell_type": "code",
   "execution_count": 12,
   "id": "ad77a7a5",
   "metadata": {},
   "outputs": [
    {
     "data": {
      "text/html": [
       "<div>\n",
       "<style scoped>\n",
       "    .dataframe tbody tr th:only-of-type {\n",
       "        vertical-align: middle;\n",
       "    }\n",
       "\n",
       "    .dataframe tbody tr th {\n",
       "        vertical-align: top;\n",
       "    }\n",
       "\n",
       "    .dataframe thead th {\n",
       "        text-align: right;\n",
       "    }\n",
       "</style>\n",
       "<table border=\"1\" class=\"dataframe\">\n",
       "  <thead>\n",
       "    <tr style=\"text-align: right;\">\n",
       "      <th></th>\n",
       "      <th>Original</th>\n",
       "      <th>Prediction</th>\n",
       "      <th>Target</th>\n",
       "    </tr>\n",
       "  </thead>\n",
       "  <tbody>\n",
       "    <tr>\n",
       "      <th>0</th>\n",
       "      <td>&lt;SOS&gt; i am aware of the fact &lt;EOS&gt;&lt;PAD&gt;&lt;PAD&gt;&lt;P...</td>\n",
       "      <td>&lt;PAD&gt; estoy estoy de  &lt;EOS&gt;&lt;EOS&gt;&lt;EOS&gt;&lt;EOS&gt;&lt;EOS...</td>\n",
       "      <td>&lt;SOS&gt; estoy informado del hecho &lt;EOS&gt;&lt;PAD&gt;&lt;PAD...</td>\n",
       "    </tr>\n",
       "    <tr>\n",
       "      <th>1</th>\n",
       "      <td>&lt;SOS&gt; i hope everyone agrees &lt;EOS&gt;&lt;PAD&gt;&lt;PAD&gt;&lt;P...</td>\n",
       "      <td>&lt;PAD&gt; me que que de de de  &lt;EOS&gt;&lt;EOS&gt;&lt;EOS&gt;&lt;EOS...</td>\n",
       "      <td>&lt;SOS&gt; confío en que toda la gente esté de acue...</td>\n",
       "    </tr>\n",
       "    <tr>\n",
       "      <th>2</th>\n",
       "      <td>&lt;SOS&gt; can you lend me a dollar &lt;EOS&gt;&lt;PAD&gt;&lt;PAD&gt;...</td>\n",
       "      <td>&lt;PAD&gt; puedes que un un  &lt;EOS&gt;&lt;EOS&gt;&lt;EOS&gt;&lt;EOS&gt;&lt;E...</td>\n",
       "      <td>&lt;SOS&gt; puedes prestarme un dólar &lt;EOS&gt;&lt;PAD&gt;&lt;PAD...</td>\n",
       "    </tr>\n",
       "    <tr>\n",
       "      <th>3</th>\n",
       "      <td>&lt;SOS&gt; you may invite whoever you like &lt;EOS&gt;&lt;PA...</td>\n",
       "      <td>&lt;PAD&gt; puedes que que que que  &lt;EOS&gt;&lt;EOS&gt;&lt;EOS&gt;&lt;...</td>\n",
       "      <td>&lt;SOS&gt; puedes invitar a quien quieras &lt;EOS&gt;&lt;PAD...</td>\n",
       "    </tr>\n",
       "    <tr>\n",
       "      <th>4</th>\n",
       "      <td>&lt;SOS&gt; it is just your imagination &lt;EOS&gt;&lt;PAD&gt;&lt;P...</td>\n",
       "      <td>&lt;PAD&gt; es es un  &lt;EOS&gt;&lt;EOS&gt;&lt;EOS&gt;&lt;EOS&gt;&lt;EOS&gt;&lt;EOS&gt;...</td>\n",
       "      <td>&lt;SOS&gt; es sólo tu imaginación &lt;EOS&gt;&lt;PAD&gt;&lt;PAD&gt;&lt;P...</td>\n",
       "    </tr>\n",
       "    <tr>\n",
       "      <th>5</th>\n",
       "      <td>&lt;SOS&gt; dont worry tom wont let us down &lt;EOS&gt;&lt;PA...</td>\n",
       "      <td>&lt;PAD&gt; no no que tom no no a a &lt;EOS&gt;&lt;EOS&gt;&lt;EOS&gt;&lt;...</td>\n",
       "      <td>&lt;SOS&gt; no se preocupe tom no nos va a decepcion...</td>\n",
       "    </tr>\n",
       "    <tr>\n",
       "      <th>6</th>\n",
       "      <td>&lt;SOS&gt; the problem is that some of our bills ha...</td>\n",
       "      <td>&lt;PAD&gt; el libro que es que no no no de de de de...</td>\n",
       "      <td>&lt;SOS&gt; el problema es que algunas de nuestras c...</td>\n",
       "    </tr>\n",
       "    <tr>\n",
       "      <th>7</th>\n",
       "      <td>&lt;SOS&gt; we kissed in the dark &lt;EOS&gt;&lt;PAD&gt;&lt;PAD&gt;&lt;PA...</td>\n",
       "      <td>&lt;PAD&gt; nos a la la &lt;EOS&gt;&lt;EOS&gt;&lt;EOS&gt;&lt;EOS&gt;&lt;EOS&gt;&lt;EO...</td>\n",
       "      <td>&lt;SOS&gt; nos besamos en la oscuridad &lt;EOS&gt;&lt;PAD&gt;&lt;P...</td>\n",
       "    </tr>\n",
       "    <tr>\n",
       "      <th>8</th>\n",
       "      <td>&lt;SOS&gt; you can tell tom yourself &lt;EOS&gt;&lt;PAD&gt;&lt;PAD...</td>\n",
       "      <td>&lt;PAD&gt; te que que que tom &lt;EOS&gt;&lt;EOS&gt;&lt;EOS&gt;&lt;EOS&gt;&lt;...</td>\n",
       "      <td>&lt;SOS&gt; puedes decírselo a tom tú mismo &lt;EOS&gt;&lt;PA...</td>\n",
       "    </tr>\n",
       "    <tr>\n",
       "      <th>9</th>\n",
       "      <td>&lt;SOS&gt; she could not cope with anxiety &lt;EOS&gt;&lt;PA...</td>\n",
       "      <td>&lt;PAD&gt; ella no le que a la  &lt;EOS&gt;&lt;EOS&gt;&lt;EOS&gt;&lt;EOS...</td>\n",
       "      <td>&lt;SOS&gt; ella no pudo hacer frente a la ansiedad ...</td>\n",
       "    </tr>\n",
       "  </tbody>\n",
       "</table>\n",
       "</div>"
      ],
      "text/plain": [
       "                                            Original  \\\n",
       "0  <SOS> i am aware of the fact <EOS><PAD><PAD><P...   \n",
       "1  <SOS> i hope everyone agrees <EOS><PAD><PAD><P...   \n",
       "2  <SOS> can you lend me a dollar <EOS><PAD><PAD>...   \n",
       "3  <SOS> you may invite whoever you like <EOS><PA...   \n",
       "4  <SOS> it is just your imagination <EOS><PAD><P...   \n",
       "5  <SOS> dont worry tom wont let us down <EOS><PA...   \n",
       "6  <SOS> the problem is that some of our bills ha...   \n",
       "7  <SOS> we kissed in the dark <EOS><PAD><PAD><PA...   \n",
       "8  <SOS> you can tell tom yourself <EOS><PAD><PAD...   \n",
       "9  <SOS> she could not cope with anxiety <EOS><PA...   \n",
       "\n",
       "                                          Prediction  \\\n",
       "0  <PAD> estoy estoy de  <EOS><EOS><EOS><EOS><EOS...   \n",
       "1  <PAD> me que que de de de  <EOS><EOS><EOS><EOS...   \n",
       "2  <PAD> puedes que un un  <EOS><EOS><EOS><EOS><E...   \n",
       "3  <PAD> puedes que que que que  <EOS><EOS><EOS><...   \n",
       "4  <PAD> es es un  <EOS><EOS><EOS><EOS><EOS><EOS>...   \n",
       "5  <PAD> no no que tom no no a a <EOS><EOS><EOS><...   \n",
       "6  <PAD> el libro que es que no no no de de de de...   \n",
       "7  <PAD> nos a la la <EOS><EOS><EOS><EOS><EOS><EO...   \n",
       "8  <PAD> te que que que tom <EOS><EOS><EOS><EOS><...   \n",
       "9  <PAD> ella no le que a la  <EOS><EOS><EOS><EOS...   \n",
       "\n",
       "                                              Target  \n",
       "0  <SOS> estoy informado del hecho <EOS><PAD><PAD...  \n",
       "1  <SOS> confío en que toda la gente esté de acue...  \n",
       "2  <SOS> puedes prestarme un dólar <EOS><PAD><PAD...  \n",
       "3  <SOS> puedes invitar a quien quieras <EOS><PAD...  \n",
       "4  <SOS> es sólo tu imaginación <EOS><PAD><PAD><P...  \n",
       "5  <SOS> no se preocupe tom no nos va a decepcion...  \n",
       "6  <SOS> el problema es que algunas de nuestras c...  \n",
       "7  <SOS> nos besamos en la oscuridad <EOS><PAD><P...  \n",
       "8  <SOS> puedes decírselo a tom tú mismo <EOS><PA...  \n",
       "9  <SOS> ella no pudo hacer frente a la ansiedad ...  "
      ]
     },
     "execution_count": 12,
     "metadata": {},
     "output_type": "execute_result"
    }
   ],
   "source": [
    "import pandas as pd\n",
    "\n",
    "df = pd.DataFrame(\n",
    "    {\"Original\": originals[:10], \"Prediction\": preds[:10], \"Target\": targets[:10]}\n",
    ")\n",
    "df.to_csv(\"no-attention.csv\", index=False)\n",
    "df"
   ]
  },
  {
   "cell_type": "code",
   "execution_count": null,
   "id": "a7e0beeb",
   "metadata": {
    "execution": {
     "iopub.execute_input": "2025-03-23T03:39:26.996239Z",
     "iopub.status.busy": "2025-03-23T03:39:26.995865Z",
     "iopub.status.idle": "2025-03-23T03:39:27.002548Z",
     "shell.execute_reply": "2025-03-23T03:39:27.001584Z"
    },
    "papermill": {
     "duration": 0.75748,
     "end_time": "2025-03-23T03:39:27.003783",
     "exception": false,
     "start_time": "2025-03-23T03:39:26.246303",
     "status": "completed"
    },
    "tags": []
   },
   "outputs": [
    {
     "data": {
      "text/plain": [
       "15.419322188276391"
      ]
     },
     "execution_count": 11,
     "metadata": {},
     "output_type": "execute_result"
    }
   ],
   "source": [
    "import sacrebleu\n",
    "\n",
    "\n",
    "def calculate_bleu_score(preds, targets):\n",
    "    bleu = sacrebleu.corpus_bleu(preds, [targets], force=True)\n",
    "    return bleu.score\n",
    "\n",
    "calculate_bleu_score(preds, targets)"
   ]
  },
  {
   "cell_type": "code",
   "execution_count": 12,
   "id": "05fbaf79",
   "metadata": {},
   "outputs": [
    {
     "data": {
      "text/plain": [
       "{'rouge-1': {'r': 0.1662537654466656,\n",
       "  'p': 0.24795231894841332,\n",
       "  'f': 0.1958045229363409},\n",
       " 'rouge-2': {'r': 0.03523896351044787,\n",
       "  'p': 0.04266514193272004,\n",
       "  'f': 0.03831203220767204},\n",
       " 'rouge-l': {'r': 0.16118833662635393,\n",
       "  'p': 0.23948955233134994,\n",
       "  'f': 0.18959254059853015}}"
      ]
     },
     "execution_count": 12,
     "metadata": {},
     "output_type": "execute_result"
    }
   ],
   "source": [
    "import rouge\n",
    "\n",
    "rouge = rouge.Rouge()\n",
    "scores = rouge.get_scores(preds, targets, avg=True)\n",
    "scores"
   ]
  },
  {
   "cell_type": "code",
   "execution_count": 15,
   "id": "075a1eb1",
   "metadata": {},
   "outputs": [
    {
     "data": {
      "text/plain": [
       "86.74728529121421"
      ]
     },
     "execution_count": 15,
     "metadata": {},
     "output_type": "execute_result"
    }
   ],
   "source": [
    "def ter(preds, targets):\n",
    "    return sacrebleu.corpus_ter(preds, [targets]).score\n",
    "\n",
    "ter(preds, targets)"
   ]
  }
 ],
 "metadata": {
  "accelerator": "GPU",
  "colab": {
   "gpuType": "T4",
   "provenance": []
  },
  "kaggle": {
   "accelerator": "nvidiaTeslaT4",
   "dataSources": [
    {
     "datasetId": 6838673,
     "sourceId": 11036243,
     "sourceType": "datasetVersion"
    }
   ],
   "dockerImageVersionId": 30919,
   "isGpuEnabled": true,
   "isInternetEnabled": true,
   "language": "python",
   "sourceType": "notebook"
  },
  "kernelspec": {
   "display_name": "Python (myenv)",
   "language": "python",
   "name": "torch"
  },
  "language_info": {
   "codemirror_mode": {
    "name": "ipython",
    "version": 3
   },
   "file_extension": ".py",
   "mimetype": "text/x-python",
   "name": "python",
   "nbconvert_exporter": "python",
   "pygments_lexer": "ipython3",
   "version": "3.12.3"
  },
  "papermill": {
   "default_parameters": {},
   "duration": 9649.384025,
   "end_time": "2025-03-23T03:39:32.281122",
   "environment_variables": {},
   "exception": null,
   "input_path": "__notebook__.ipynb",
   "output_path": "__notebook__.ipynb",
   "parameters": {},
   "start_time": "2025-03-23T00:58:42.897097",
   "version": "2.6.0"
  }
 },
 "nbformat": 4,
 "nbformat_minor": 5
}
