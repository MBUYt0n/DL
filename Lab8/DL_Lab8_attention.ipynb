{
 "cells": [
  {
   "cell_type": "code",
   "execution_count": 1,
   "id": "f1cb791c",
   "metadata": {
    "execution": {
     "iopub.execute_input": "2025-03-22T08:33:03.641178Z",
     "iopub.status.busy": "2025-03-22T08:33:03.640949Z",
     "iopub.status.idle": "2025-03-22T08:33:04.068920Z",
     "shell.execute_reply": "2025-03-22T08:33:04.068022Z"
    },
    "papermill": {
     "duration": 0.434136,
     "end_time": "2025-03-22T08:33:04.070215",
     "exception": false,
     "start_time": "2025-03-22T08:33:03.636079",
     "status": "completed"
    },
    "tags": []
   },
   "outputs": [
    {
     "name": "stdout",
     "output_type": "stream",
     "text": [
      "Path to dataset files: /kaggle/input/machine-trainslation\n"
     ]
    }
   ],
   "source": [
    "import kagglehub\n",
    "\n",
    "# Download latest version\n",
    "path = kagglehub.dataset_download(\"shusrith/machine-trainslation\")\n",
    "\n",
    "print(\"Path to dataset files:\", path)"
   ]
  },
  {
   "cell_type": "code",
   "execution_count": 1,
   "id": "452960d5",
   "metadata": {
    "execution": {
     "iopub.execute_input": "2025-03-22T08:33:04.078715Z",
     "iopub.status.busy": "2025-03-22T08:33:04.078435Z",
     "iopub.status.idle": "2025-03-22T08:33:06.101549Z",
     "shell.execute_reply": "2025-03-22T08:33:06.100812Z"
    },
    "id": "ZjgPhK4yAU3W",
    "outputId": "4ab7d36a-ce19-4580-9eee-bcf62a2d3bfe",
    "papermill": {
     "duration": 2.028917,
     "end_time": "2025-03-22T08:33:06.103063",
     "exception": false,
     "start_time": "2025-03-22T08:33:04.074146",
     "status": "completed"
    },
    "tags": []
   },
   "outputs": [
    {
     "data": {
      "text/html": [
       "<div>\n",
       "<style scoped>\n",
       "    .dataframe tbody tr th:only-of-type {\n",
       "        vertical-align: middle;\n",
       "    }\n",
       "\n",
       "    .dataframe tbody tr th {\n",
       "        vertical-align: top;\n",
       "    }\n",
       "\n",
       "    .dataframe thead th {\n",
       "        text-align: right;\n",
       "    }\n",
       "</style>\n",
       "<table border=\"1\" class=\"dataframe\">\n",
       "  <thead>\n",
       "    <tr style=\"text-align: right;\">\n",
       "      <th></th>\n",
       "      <th>English</th>\n",
       "      <th>Spanish</th>\n",
       "    </tr>\n",
       "  </thead>\n",
       "  <tbody>\n",
       "    <tr>\n",
       "      <th>52886</th>\n",
       "      <td>[2, 565, 496, 878, 459, 304, 1243, 224, 3, 0, ...</td>\n",
       "      <td>[2, 1502, 895, 14287, 224, 3, 0, 0, 0, 0, 0, 0...</td>\n",
       "    </tr>\n",
       "    <tr>\n",
       "      <th>26639</th>\n",
       "      <td>[2, 270, 574, 701, 1044, 224, 3, 0, 0, 0, 0, 0...</td>\n",
       "      <td>[2, 850, 316, 886, 2164, 224, 3, 0, 0, 0, 0, 0...</td>\n",
       "    </tr>\n",
       "    <tr>\n",
       "      <th>108873</th>\n",
       "      <td>[2, 270, 1411, 2316, 1666, 521, 4413, 1145, 22...</td>\n",
       "      <td>[2, 3044, 7022, 1614, 1094, 322, 1571, 2130, 2...</td>\n",
       "    </tr>\n",
       "    <tr>\n",
       "      <th>6923</th>\n",
       "      <td>[2, 270, 384, 5561, 224, 3, 0, 0, 0, 0, 0, 0, ...</td>\n",
       "      <td>[2, 1963, 22524, 224, 3, 0, 0, 0, 0, 0, 0, 0, ...</td>\n",
       "    </tr>\n",
       "    <tr>\n",
       "      <th>122532</th>\n",
       "      <td>[2, 658, 304, 607, 429, 272, 700, 304, 3587, 9...</td>\n",
       "      <td>[2, 453, 302, 4841, 2032, 1379, 952, 2219, 704...</td>\n",
       "    </tr>\n",
       "    <tr>\n",
       "      <th>...</th>\n",
       "      <td>...</td>\n",
       "      <td>...</td>\n",
       "    </tr>\n",
       "    <tr>\n",
       "      <th>70310</th>\n",
       "      <td>[2, 479, 2299, 334, 924, 481, 1633, 224, 3, 0,...</td>\n",
       "      <td>[2, 352, 2256, 318, 3038, 292, 12727, 224, 3, ...</td>\n",
       "    </tr>\n",
       "    <tr>\n",
       "      <th>14257</th>\n",
       "      <td>[2, 341, 304, 1352, 2898, 224, 3, 0, 0, 0, 0, ...</td>\n",
       "      <td>[2, 927, 1685, 224, 3, 0, 0, 0, 0, 0, 0, 0, 0,...</td>\n",
       "    </tr>\n",
       "    <tr>\n",
       "      <th>105280</th>\n",
       "      <td>[2, 270, 1603, 370, 778, 904, 696, 356, 498, 3...</td>\n",
       "      <td>[2, 328, 1355, 316, 500, 1295, 8411, 669, 960,...</td>\n",
       "    </tr>\n",
       "    <tr>\n",
       "      <th>124816</th>\n",
       "      <td>[2, 290, 2133, 333, 714, 473, 805, 369, 1408, ...</td>\n",
       "      <td>[2, 290, 1778, 316, 302, 1062, 879, 369, 2417,...</td>\n",
       "    </tr>\n",
       "    <tr>\n",
       "      <th>90090</th>\n",
       "      <td>[2, 818, 803, 2293, 497, 1282, 332, 402, 1349,...</td>\n",
       "      <td>[2, 831, 328, 4552, 741, 1515, 322, 403, 1277,...</td>\n",
       "    </tr>\n",
       "  </tbody>\n",
       "</table>\n",
       "<p>128982 rows × 2 columns</p>\n",
       "</div>"
      ],
      "text/plain": [
       "                                                  English  \\\n",
       "52886   [2, 565, 496, 878, 459, 304, 1243, 224, 3, 0, ...   \n",
       "26639   [2, 270, 574, 701, 1044, 224, 3, 0, 0, 0, 0, 0...   \n",
       "108873  [2, 270, 1411, 2316, 1666, 521, 4413, 1145, 22...   \n",
       "6923    [2, 270, 384, 5561, 224, 3, 0, 0, 0, 0, 0, 0, ...   \n",
       "122532  [2, 658, 304, 607, 429, 272, 700, 304, 3587, 9...   \n",
       "...                                                   ...   \n",
       "70310   [2, 479, 2299, 334, 924, 481, 1633, 224, 3, 0,...   \n",
       "14257   [2, 341, 304, 1352, 2898, 224, 3, 0, 0, 0, 0, ...   \n",
       "105280  [2, 270, 1603, 370, 778, 904, 696, 356, 498, 3...   \n",
       "124816  [2, 290, 2133, 333, 714, 473, 805, 369, 1408, ...   \n",
       "90090   [2, 818, 803, 2293, 497, 1282, 332, 402, 1349,...   \n",
       "\n",
       "                                                  Spanish  \n",
       "52886   [2, 1502, 895, 14287, 224, 3, 0, 0, 0, 0, 0, 0...  \n",
       "26639   [2, 850, 316, 886, 2164, 224, 3, 0, 0, 0, 0, 0...  \n",
       "108873  [2, 3044, 7022, 1614, 1094, 322, 1571, 2130, 2...  \n",
       "6923    [2, 1963, 22524, 224, 3, 0, 0, 0, 0, 0, 0, 0, ...  \n",
       "122532  [2, 453, 302, 4841, 2032, 1379, 952, 2219, 704...  \n",
       "...                                                   ...  \n",
       "70310   [2, 352, 2256, 318, 3038, 292, 12727, 224, 3, ...  \n",
       "14257   [2, 927, 1685, 224, 3, 0, 0, 0, 0, 0, 0, 0, 0,...  \n",
       "105280  [2, 328, 1355, 316, 500, 1295, 8411, 669, 960,...  \n",
       "124816  [2, 290, 1778, 316, 302, 1062, 879, 369, 2417,...  \n",
       "90090   [2, 831, 328, 4552, 741, 1515, 322, 403, 1277,...  \n",
       "\n",
       "[128982 rows x 2 columns]"
      ]
     },
     "execution_count": 1,
     "metadata": {},
     "output_type": "execute_result"
    }
   ],
   "source": [
    "import pandas as pd\n",
    "from sklearn.utils import shuffle\n",
    "\n",
    "df = pd.read_csv(f\"EnglishOrSpanish/output_joint1.csv\")\n",
    "df = shuffle(df)\n",
    "df"
   ]
  },
  {
   "cell_type": "code",
   "execution_count": 2,
   "id": "0749342f",
   "metadata": {
    "execution": {
     "iopub.execute_input": "2025-03-22T08:33:06.112927Z",
     "iopub.status.busy": "2025-03-22T08:33:06.112663Z",
     "iopub.status.idle": "2025-03-22T08:33:13.903769Z",
     "shell.execute_reply": "2025-03-22T08:33:13.902890Z"
    },
    "id": "3l1WLpiLAU3W",
    "outputId": "01736df9-0470-48b7-cad1-3f67d4934b66",
    "papermill": {
     "duration": 7.797798,
     "end_time": "2025-03-22T08:33:13.905172",
     "exception": false,
     "start_time": "2025-03-22T08:33:06.107374",
     "status": "completed"
    },
    "tags": []
   },
   "outputs": [
    {
     "data": {
      "text/html": [
       "<div>\n",
       "<style scoped>\n",
       "    .dataframe tbody tr th:only-of-type {\n",
       "        vertical-align: middle;\n",
       "    }\n",
       "\n",
       "    .dataframe tbody tr th {\n",
       "        vertical-align: top;\n",
       "    }\n",
       "\n",
       "    .dataframe thead th {\n",
       "        text-align: right;\n",
       "    }\n",
       "</style>\n",
       "<table border=\"1\" class=\"dataframe\">\n",
       "  <thead>\n",
       "    <tr style=\"text-align: right;\">\n",
       "      <th></th>\n",
       "      <th>English</th>\n",
       "      <th>Spanish</th>\n",
       "    </tr>\n",
       "  </thead>\n",
       "  <tbody>\n",
       "    <tr>\n",
       "      <th>52886</th>\n",
       "      <td>[2, 565, 496, 878, 459, 304, 1243, 224, 3, 0, ...</td>\n",
       "      <td>[2, 1502, 895, 14287, 224, 3, 0, 0, 0, 0, 0, 0...</td>\n",
       "    </tr>\n",
       "    <tr>\n",
       "      <th>26639</th>\n",
       "      <td>[2, 270, 574, 701, 1044, 224, 3, 0, 0, 0, 0, 0...</td>\n",
       "      <td>[2, 850, 316, 886, 2164, 224, 3, 0, 0, 0, 0, 0...</td>\n",
       "    </tr>\n",
       "    <tr>\n",
       "      <th>108873</th>\n",
       "      <td>[2, 270, 1411, 2316, 1666, 521, 4413, 1145, 22...</td>\n",
       "      <td>[2, 3044, 7022, 1614, 1094, 322, 1571, 2130, 2...</td>\n",
       "    </tr>\n",
       "    <tr>\n",
       "      <th>6923</th>\n",
       "      <td>[2, 270, 384, 5561, 224, 3, 0, 0, 0, 0, 0, 0, ...</td>\n",
       "      <td>[2, 1963, 22524, 224, 3, 0, 0, 0, 0, 0, 0, 0, ...</td>\n",
       "    </tr>\n",
       "    <tr>\n",
       "      <th>122532</th>\n",
       "      <td>[2, 658, 304, 607, 429, 272, 700, 304, 3587, 9...</td>\n",
       "      <td>[2, 453, 302, 4841, 2032, 1379, 952, 2219, 704...</td>\n",
       "    </tr>\n",
       "    <tr>\n",
       "      <th>...</th>\n",
       "      <td>...</td>\n",
       "      <td>...</td>\n",
       "    </tr>\n",
       "    <tr>\n",
       "      <th>70310</th>\n",
       "      <td>[2, 479, 2299, 334, 924, 481, 1633, 224, 3, 0,...</td>\n",
       "      <td>[2, 352, 2256, 318, 3038, 292, 12727, 224, 3, ...</td>\n",
       "    </tr>\n",
       "    <tr>\n",
       "      <th>14257</th>\n",
       "      <td>[2, 341, 304, 1352, 2898, 224, 3, 0, 0, 0, 0, ...</td>\n",
       "      <td>[2, 927, 1685, 224, 3, 0, 0, 0, 0, 0, 0, 0, 0,...</td>\n",
       "    </tr>\n",
       "    <tr>\n",
       "      <th>105280</th>\n",
       "      <td>[2, 270, 1603, 370, 778, 904, 696, 356, 498, 3...</td>\n",
       "      <td>[2, 328, 1355, 316, 500, 1295, 8411, 669, 960,...</td>\n",
       "    </tr>\n",
       "    <tr>\n",
       "      <th>124816</th>\n",
       "      <td>[2, 290, 2133, 333, 714, 473, 805, 369, 1408, ...</td>\n",
       "      <td>[2, 290, 1778, 316, 302, 1062, 879, 369, 2417,...</td>\n",
       "    </tr>\n",
       "    <tr>\n",
       "      <th>90090</th>\n",
       "      <td>[2, 818, 803, 2293, 497, 1282, 332, 402, 1349,...</td>\n",
       "      <td>[2, 831, 328, 4552, 741, 1515, 322, 403, 1277,...</td>\n",
       "    </tr>\n",
       "  </tbody>\n",
       "</table>\n",
       "<p>128982 rows × 2 columns</p>\n",
       "</div>"
      ],
      "text/plain": [
       "                                                  English  \\\n",
       "52886   [2, 565, 496, 878, 459, 304, 1243, 224, 3, 0, ...   \n",
       "26639   [2, 270, 574, 701, 1044, 224, 3, 0, 0, 0, 0, 0...   \n",
       "108873  [2, 270, 1411, 2316, 1666, 521, 4413, 1145, 22...   \n",
       "6923    [2, 270, 384, 5561, 224, 3, 0, 0, 0, 0, 0, 0, ...   \n",
       "122532  [2, 658, 304, 607, 429, 272, 700, 304, 3587, 9...   \n",
       "...                                                   ...   \n",
       "70310   [2, 479, 2299, 334, 924, 481, 1633, 224, 3, 0,...   \n",
       "14257   [2, 341, 304, 1352, 2898, 224, 3, 0, 0, 0, 0, ...   \n",
       "105280  [2, 270, 1603, 370, 778, 904, 696, 356, 498, 3...   \n",
       "124816  [2, 290, 2133, 333, 714, 473, 805, 369, 1408, ...   \n",
       "90090   [2, 818, 803, 2293, 497, 1282, 332, 402, 1349,...   \n",
       "\n",
       "                                                  Spanish  \n",
       "52886   [2, 1502, 895, 14287, 224, 3, 0, 0, 0, 0, 0, 0...  \n",
       "26639   [2, 850, 316, 886, 2164, 224, 3, 0, 0, 0, 0, 0...  \n",
       "108873  [2, 3044, 7022, 1614, 1094, 322, 1571, 2130, 2...  \n",
       "6923    [2, 1963, 22524, 224, 3, 0, 0, 0, 0, 0, 0, 0, ...  \n",
       "122532  [2, 453, 302, 4841, 2032, 1379, 952, 2219, 704...  \n",
       "...                                                   ...  \n",
       "70310   [2, 352, 2256, 318, 3038, 292, 12727, 224, 3, ...  \n",
       "14257   [2, 927, 1685, 224, 3, 0, 0, 0, 0, 0, 0, 0, 0,...  \n",
       "105280  [2, 328, 1355, 316, 500, 1295, 8411, 669, 960,...  \n",
       "124816  [2, 290, 1778, 316, 302, 1062, 879, 369, 2417,...  \n",
       "90090   [2, 831, 328, 4552, 741, 1515, 322, 403, 1277,...  \n",
       "\n",
       "[128982 rows x 2 columns]"
      ]
     },
     "execution_count": 2,
     "metadata": {},
     "output_type": "execute_result"
    }
   ],
   "source": [
    "import ast\n",
    "\n",
    "df[\"English\"] = df[\"English\"].apply(ast.literal_eval)\n",
    "df[\"Spanish\"] = df[\"Spanish\"].apply(ast.literal_eval)\n",
    "df"
   ]
  },
  {
   "cell_type": "code",
   "execution_count": 3,
   "id": "00e57664",
   "metadata": {
    "execution": {
     "iopub.execute_input": "2025-03-22T08:33:13.913838Z",
     "iopub.status.busy": "2025-03-22T08:33:13.913610Z",
     "iopub.status.idle": "2025-03-22T08:33:17.462804Z",
     "shell.execute_reply": "2025-03-22T08:33:17.462115Z"
    },
    "id": "p8fPYQBWAU3X",
    "papermill": {
     "duration": 3.555074,
     "end_time": "2025-03-22T08:33:17.464352",
     "exception": false,
     "start_time": "2025-03-22T08:33:13.909278",
     "status": "completed"
    },
    "tags": []
   },
   "outputs": [],
   "source": [
    "import torch\n",
    "from torch.utils.data import DataLoader, TensorDataset\n",
    "\n",
    "train_data = TensorDataset(\n",
    "    torch.tensor(df[\"English\"][:100000].tolist(), dtype=torch.long),\n",
    "    torch.tensor(df[\"Spanish\"][:100000].tolist(), dtype=torch.long),\n",
    ")\n",
    "test_data = TensorDataset(\n",
    "    torch.tensor(df[\"English\"][100000:].tolist(), dtype=torch.long),\n",
    "    torch.tensor(df[\"Spanish\"][100000:].tolist(), dtype=torch.long),\n",
    ")\n",
    "train_loader = DataLoader(train_data, batch_size=512, shuffle=True, drop_last=True)\n",
    "test_loader = DataLoader(test_data, batch_size=512, shuffle=False, drop_last=True)"
   ]
  },
  {
   "cell_type": "code",
   "execution_count": 4,
   "id": "7c909238",
   "metadata": {
    "execution": {
     "iopub.execute_input": "2025-03-22T08:33:17.473267Z",
     "iopub.status.busy": "2025-03-22T08:33:17.472900Z",
     "iopub.status.idle": "2025-03-22T08:33:17.505118Z",
     "shell.execute_reply": "2025-03-22T08:33:17.504544Z"
    },
    "id": "_9tn5YdUAU3X",
    "papermill": {
     "duration": 0.037676,
     "end_time": "2025-03-22T08:33:17.506191",
     "exception": false,
     "start_time": "2025-03-22T08:33:17.468515",
     "status": "completed"
    },
    "tags": []
   },
   "outputs": [],
   "source": [
    "import json\n",
    "\n",
    "with open(f\"EnglishOrSpanish/vocab.json\", \"r\") as f:\n",
    "    vocab = json.load(f)"
   ]
  },
  {
   "cell_type": "code",
   "execution_count": 5,
   "id": "c447b98e",
   "metadata": {
    "execution": {
     "iopub.execute_input": "2025-03-22T08:33:17.514533Z",
     "iopub.status.busy": "2025-03-22T08:33:17.514276Z",
     "iopub.status.idle": "2025-03-22T08:33:17.519538Z",
     "shell.execute_reply": "2025-03-22T08:33:17.518960Z"
    },
    "id": "KIMlq-cdAU3Y",
    "papermill": {
     "duration": 0.010536,
     "end_time": "2025-03-22T08:33:17.520630",
     "exception": false,
     "start_time": "2025-03-22T08:33:17.510094",
     "status": "completed"
    },
    "tags": []
   },
   "outputs": [],
   "source": [
    "import torch\n",
    "import torch.nn as nn\n",
    "\n",
    "\n",
    "class Encoder(nn.Module):\n",
    "    def __init__(self, vocab_size, embedding_dim, hidden_size, num_layers=2, dropout=0.3):\n",
    "        super(Encoder, self).__init__()\n",
    "        self.num_layers = num_layers\n",
    "        self.vocab_size = vocab_size\n",
    "\n",
    "        self.embedding = nn.Embedding(vocab_size, embedding_dim, padding_idx=0)\n",
    "        self.lstm = nn.LSTM(\n",
    "            embedding_dim,\n",
    "            hidden_size,\n",
    "            num_layers=num_layers,\n",
    "            batch_first=True,\n",
    "            dropout=dropout,\n",
    "        )\n",
    "        self.apply(self._init_weights)\n",
    "\n",
    "    def _init_weights(self, module):\n",
    "        if isinstance(module, nn.LSTM):\n",
    "            for name, param in module.named_parameters():\n",
    "                if \"weight\" in name:\n",
    "                    nn.init.xavier_uniform_(param)\n",
    "                elif \"bias\" in name:\n",
    "                    nn.init.zeros_(param)\n",
    "\n",
    "    def forward(self, x):\n",
    "        embedded = self.embedding(x)\n",
    "        output, (hidden, cell) = self.lstm(embedded)\n",
    "        return output, hidden, cell"
   ]
  },
  {
   "cell_type": "code",
   "execution_count": 6,
   "id": "23cca2e1",
   "metadata": {
    "execution": {
     "iopub.execute_input": "2025-03-22T08:33:17.528599Z",
     "iopub.status.busy": "2025-03-22T08:33:17.528355Z",
     "iopub.status.idle": "2025-03-22T08:33:17.532832Z",
     "shell.execute_reply": "2025-03-22T08:33:17.532212Z"
    },
    "id": "7MEXFtjhAU3Y",
    "papermill": {
     "duration": 0.00976,
     "end_time": "2025-03-22T08:33:17.534001",
     "exception": false,
     "start_time": "2025-03-22T08:33:17.524241",
     "status": "completed"
    },
    "tags": []
   },
   "outputs": [],
   "source": [
    "class Attention(nn.Module):\n",
    "    def __init__(self, hidden_size):\n",
    "        super(Attention, self).__init__()\n",
    "        self.hidden_size = hidden_size\n",
    "\n",
    "        self.W1 = nn.Linear(hidden_size, hidden_size)\n",
    "        self.W2 = nn.Linear(hidden_size, hidden_size)\n",
    "        self.v = nn.Linear(hidden_size, 1, bias=False)\n",
    "\n",
    "    def forward(self, hidden, enc_out):\n",
    "        hidden = hidden.unsqueeze(1)\n",
    "        score = self.v(torch.tanh(self.W1(hidden) + self.W2(enc_out)))\n",
    "        attention_weights = torch.softmax(score, dim=1)\n",
    "        context_vector = torch.sum(attention_weights * enc_out, dim=1)\n",
    "        return context_vector, attention_weights"
   ]
  },
  {
   "cell_type": "code",
   "execution_count": 7,
   "id": "284fcfc3",
   "metadata": {
    "execution": {
     "iopub.execute_input": "2025-03-22T08:33:17.542159Z",
     "iopub.status.busy": "2025-03-22T08:33:17.541957Z",
     "iopub.status.idle": "2025-03-22T08:33:17.547997Z",
     "shell.execute_reply": "2025-03-22T08:33:17.547405Z"
    },
    "id": "B-kd_lvxAU3Y",
    "papermill": {
     "duration": 0.011398,
     "end_time": "2025-03-22T08:33:17.549178",
     "exception": false,
     "start_time": "2025-03-22T08:33:17.537780",
     "status": "completed"
    },
    "tags": []
   },
   "outputs": [],
   "source": [
    "import torch\n",
    "import torch.nn as nn\n",
    "\n",
    "\n",
    "class Decoder(nn.Module):\n",
    "    def __init__(self, vocab_size, embedding_dim, hidden_size, num_layers=2, dropout=0.3):\n",
    "        super(Decoder, self).__init__()\n",
    "        self.hidden_size = hidden_size\n",
    "        self.num_layers = num_layers\n",
    "        self.vocab_size = vocab_size\n",
    "\n",
    "        self.embedding = nn.Embedding(vocab_size, embedding_dim, padding_idx=0)\n",
    "\n",
    "        self.lstm = nn.LSTM(\n",
    "            embedding_dim + hidden_size,\n",
    "            hidden_size,\n",
    "            num_layers=num_layers,\n",
    "            batch_first=True,\n",
    "            dropout=dropout,\n",
    "        )\n",
    "        self.attention = Attention(hidden_size)\n",
    "        self.fc = nn.Linear(hidden_size, vocab_size)\n",
    "        self.dropout = nn.Dropout(dropout)\n",
    "        self.apply(self._init_weights)\n",
    "\n",
    "    def _init_weights(self, module):\n",
    "        if isinstance(module, nn.LSTM):\n",
    "            for name, param in module.named_parameters():\n",
    "                if \"weight\" in name:\n",
    "                    nn.init.xavier_uniform_(param)\n",
    "                elif \"bias\" in name:\n",
    "                    nn.init.zeros_(param)\n",
    "\n",
    "    def forward(self, x, hidden, cell, encoder_output):\n",
    "        attention_vector, _ = self.attention(hidden[0], encoder_output)\n",
    "        x = self.embedding(x)\n",
    "        x = torch.cat((attention_vector, x), dim=-1)\n",
    "        x = x.unsqueeze(1)\n",
    "        output, (hidden, cell) = self.lstm(x, (hidden, cell))\n",
    "        output = self.dropout(output)\n",
    "        output = self.fc(output)\n",
    "        return output, hidden, cell"
   ]
  },
  {
   "cell_type": "code",
   "execution_count": 8,
   "id": "1975efd7",
   "metadata": {
    "execution": {
     "iopub.execute_input": "2025-03-22T08:33:17.557283Z",
     "iopub.status.busy": "2025-03-22T08:33:17.557085Z",
     "iopub.status.idle": "2025-03-22T08:33:17.563462Z",
     "shell.execute_reply": "2025-03-22T08:33:17.562864Z"
    },
    "id": "-pWuqe9Fvw4o",
    "papermill": {
     "duration": 0.011824,
     "end_time": "2025-03-22T08:33:17.564703",
     "exception": false,
     "start_time": "2025-03-22T08:33:17.552879",
     "status": "completed"
    },
    "tags": []
   },
   "outputs": [],
   "source": [
    "import torch.nn as nn\n",
    "import torch\n",
    "import random\n",
    "\n",
    "class Seq2Seq(nn.Module):\n",
    "    def __init__(self, encoder, decoder, vocab_size, teacher_forcing_ratio=0.5):\n",
    "        super(Seq2Seq, self).__init__()\n",
    "        self.encoder = encoder\n",
    "        self.decoder = decoder\n",
    "        self.vocab_size = vocab_size\n",
    "        self.teacher_forcing_ratio = teacher_forcing_ratio\n",
    "\n",
    "    def forward(self, src, trg):\n",
    "        enc_out, hidden, cell = self.encoder(src)\n",
    "        outputs = torch.zeros(trg.shape[0], trg.shape[1], self.decoder.vocab_size).to(\"cuda\")\n",
    "        x = trg[:, 0]\n",
    "        for t in range(1, trg.shape[1]):\n",
    "            output, hidden, cell = self.decoder(x, hidden, cell, enc_out)\n",
    "            output = output.squeeze(1)\n",
    "            outputs[:, t, :] = output\n",
    "            use_teacher_forcing = random.random() < self.teacher_forcing_ratio\n",
    "            x = trg[:, t] if use_teacher_forcing else output.argmax(dim=1)\n",
    "\n",
    "        return outputs\n",
    "    \n",
    "    def predict(self, src):\n",
    "        enc_out, hidden, cell = self.encoder(src)\n",
    "        outputs = torch.zeros(src.shape[0], src.shape[1], self.decoder.vocab_size).to(\"cuda\")\n",
    "        x = src[:, 0]\n",
    "        for i in range(1, src.shape[1]):\n",
    "            output, hidden, cell = self.decoder(x, hidden, cell, enc_out)\n",
    "            output = output.squeeze(1)\n",
    "            outputs[:, i, :] = output\n",
    "            x = output.argmax(dim=1)\n",
    "        \n",
    "        return outputs"
   ]
  },
  {
   "cell_type": "code",
   "execution_count": 10,
   "id": "58ee5e17",
   "metadata": {
    "execution": {
     "iopub.execute_input": "2025-03-22T08:33:17.573006Z",
     "iopub.status.busy": "2025-03-22T08:33:17.572809Z",
     "iopub.status.idle": "2025-03-22T08:33:28.576477Z",
     "shell.execute_reply": "2025-03-22T08:33:28.575803Z"
    },
    "id": "oZnO_wztAU3Y",
    "papermill": {
     "duration": 11.009511,
     "end_time": "2025-03-22T08:33:28.578034",
     "exception": false,
     "start_time": "2025-03-22T08:33:17.568523",
     "status": "completed"
    },
    "tags": []
   },
   "outputs": [],
   "source": [
    "from torch.utils.tensorboard import SummaryWriter\n",
    "from tqdm import tqdm\n",
    "\n",
    "def train(\n",
    "        model,\n",
    "        train_loader,\n",
    "        test_loader,\n",
    "        optimizer,\n",
    "        criterion,\n",
    "        device,\n",
    "        scheduler, \n",
    "        num_epochs,\n",
    "    ):\n",
    "    writer = SummaryWriter()\n",
    "\n",
    "    for epoch in range(num_epochs):\n",
    "        print(f\"\\nEpoch {epoch+1}/{num_epochs}\")\n",
    "        model.encoder.train()\n",
    "        model.decoder.train()\n",
    "        epoch_loss = 0\n",
    "        progress_bar = tqdm(train_loader, desc=\"Training\", leave=False)\n",
    "\n",
    "        for src, trg in progress_bar:\n",
    "            src, trg = src.to(device), trg.to(device)\n",
    "            optimizer.zero_grad()\n",
    "            outputs = model(src, trg)\n",
    "            loss = criterion(\n",
    "                    outputs[:, 1:].reshape(-1, model.vocab_size), trg[:, 1:].reshape(-1)\n",
    "                )\n",
    "            loss.backward()\n",
    "            optimizer.step()\n",
    "\n",
    "            epoch_loss += loss.item()\n",
    "\n",
    "            progress_bar.set_postfix(\n",
    "                    loss=f\"{loss.item():.4f}\"\n",
    "                )\n",
    "\n",
    "        train_loss = epoch_loss / len(train_loader)\n",
    "\n",
    "        # ---------------- VALIDATION ---------------- #\n",
    "        model.encoder.eval()\n",
    "        model.decoder.eval()\n",
    "        val_epoch_loss = 0\n",
    "        progress_bar = tqdm(test_loader, desc=\"Validating\", leave=False)\n",
    "\n",
    "        with torch.no_grad():\n",
    "            for src, trg in progress_bar:\n",
    "                src, trg = src.to(device), trg.to(device)\n",
    "                outputs = model(src, trg)\n",
    "                loss = criterion(\n",
    "                        outputs[:, 1:].reshape(-1, model.vocab_size),\n",
    "                        trg[:, 1:].reshape(-1),\n",
    "                    )\n",
    "                val_epoch_loss += loss.item()\n",
    "\n",
    "                progress_bar.set_postfix(\n",
    "                        loss=f\"{loss.item():.4f}\"\n",
    "                    )\n",
    "\n",
    "        val_loss = val_epoch_loss / len(test_loader)\n",
    "        scheduler.step(val_loss)\n",
    "\n",
    "        # Log metrics to TensorBoard\n",
    "        writer.add_scalar(\"Loss/Train\", train_loss, epoch)\n",
    "        writer.add_scalar(\"Loss/Validation\", val_loss, epoch)\n",
    "        writer.add_scalar(\"Learning Rate\", scheduler.get_last_lr()[0], epoch)\n",
    "\n",
    "        print(\n",
    "            f\"Train loss : {train_loss}, Val_loss : {val_loss}, lr: {scheduler.get_last_lr()[0]}\"\n",
    "        )\n",
    "\n",
    "    writer.close()\n",
    "    return train_loss, val_loss"
   ]
  },
  {
   "cell_type": "code",
   "execution_count": 11,
   "id": "c1209626",
   "metadata": {
    "execution": {
     "iopub.execute_input": "2025-03-22T08:33:28.587034Z",
     "iopub.status.busy": "2025-03-22T08:33:28.586585Z",
     "iopub.status.idle": "2025-03-22T08:33:32.654256Z",
     "shell.execute_reply": "2025-03-22T08:33:32.653597Z"
    },
    "id": "rXj3XkiAAU3a",
    "papermill": {
     "duration": 4.073618,
     "end_time": "2025-03-22T08:33:32.655739",
     "exception": false,
     "start_time": "2025-03-22T08:33:28.582121",
     "status": "completed"
    },
    "tags": []
   },
   "outputs": [],
   "source": [
    "import torch\n",
    "import torch.nn as nn\n",
    "import torch.optim as optim\n",
    "from tqdm import tqdm\n",
    "\n",
    "device = torch.device(\"cuda\" if torch.cuda.is_available() else \"cpu\")\n",
    "\n",
    "vocab_size = len(vocab)\n",
    "embedding_dim = 256\n",
    "hidden_size = 64\n",
    "encoder = Encoder(vocab_size, embedding_dim, hidden_size).to(device)\n",
    "decoder = Decoder(vocab_size, embedding_dim, hidden_size).to(device)\n",
    "seq2seq = Seq2Seq(encoder, decoder, vocab_size).to(device)\n",
    "criterion = nn.CrossEntropyLoss(ignore_index=0)\n",
    "optimizer = optim.Adam(seq2seq.parameters(), lr=0.005, weight_decay=1e-5)\n",
    "scheduler = optim.lr_scheduler.ReduceLROnPlateau(\n",
    "    optimizer, mode=\"min\", factor=0.5, patience=2\n",
    ")"
   ]
  },
  {
   "cell_type": "code",
   "execution_count": 12,
   "id": "dbbbb061",
   "metadata": {
    "execution": {
     "iopub.execute_input": "2025-03-22T08:33:32.664753Z",
     "iopub.status.busy": "2025-03-22T08:33:32.664259Z",
     "iopub.status.idle": "2025-03-22T13:39:55.700683Z",
     "shell.execute_reply": "2025-03-22T13:39:55.699901Z"
    },
    "id": "wsk2HEv5AU3a",
    "outputId": "3018e54b-2be5-411e-f471-b6f8e41ac256",
    "papermill": {
     "duration": 18383.042068,
     "end_time": "2025-03-22T13:39:55.701920",
     "exception": false,
     "start_time": "2025-03-22T08:33:32.659852",
     "status": "completed"
    },
    "tags": []
   },
   "outputs": [
    {
     "name": "stdout",
     "output_type": "stream",
     "text": [
      "\n",
      "Epoch 1/60\n"
     ]
    },
    {
     "name": "stderr",
     "output_type": "stream",
     "text": [
      "                                                                        \r"
     ]
    },
    {
     "name": "stdout",
     "output_type": "stream",
     "text": [
      "Train loss : 5.956495409745436, Val_loss : 5.446685629231589, lr: 0.005\n",
      "\n",
      "Epoch 2/60\n"
     ]
    },
    {
     "name": "stderr",
     "output_type": "stream",
     "text": [
      "                                                                        \r"
     ]
    },
    {
     "name": "stdout",
     "output_type": "stream",
     "text": [
      "Train loss : 5.40478697067652, Val_loss : 5.156662906919207, lr: 0.005\n",
      "\n",
      "Epoch 3/60\n"
     ]
    },
    {
     "name": "stderr",
     "output_type": "stream",
     "text": [
      "                                                                        \r"
     ]
    },
    {
     "name": "stdout",
     "output_type": "stream",
     "text": [
      "Train loss : 5.142882342216296, Val_loss : 4.903921144349234, lr: 0.005\n",
      "\n",
      "Epoch 4/60\n"
     ]
    },
    {
     "name": "stderr",
     "output_type": "stream",
     "text": [
      "                                                                        \r"
     ]
    },
    {
     "name": "stdout",
     "output_type": "stream",
     "text": [
      "Train loss : 4.882353501442151, Val_loss : 4.6033885564122885, lr: 0.005\n",
      "\n",
      "Epoch 5/60\n"
     ]
    },
    {
     "name": "stderr",
     "output_type": "stream",
     "text": [
      "                                                                        \r"
     ]
    },
    {
     "name": "stdout",
     "output_type": "stream",
     "text": [
      "Train loss : 4.642510802929218, Val_loss : 4.38383298260825, lr: 0.005\n",
      "\n",
      "Epoch 6/60\n"
     ]
    },
    {
     "name": "stderr",
     "output_type": "stream",
     "text": [
      "                                                                        \r"
     ]
    },
    {
     "name": "stdout",
     "output_type": "stream",
     "text": [
      "Train loss : 4.436478509658422, Val_loss : 4.182488547904151, lr: 0.005\n",
      "\n",
      "Epoch 7/60\n"
     ]
    },
    {
     "name": "stderr",
     "output_type": "stream",
     "text": [
      "                                                                        \r"
     ]
    },
    {
     "name": "stdout",
     "output_type": "stream",
     "text": [
      "Train loss : 4.256746967022235, Val_loss : 4.037034732954843, lr: 0.005\n",
      "\n",
      "Epoch 8/60\n"
     ]
    },
    {
     "name": "stderr",
     "output_type": "stream",
     "text": [
      "                                                                        \r"
     ]
    },
    {
     "name": "stdout",
     "output_type": "stream",
     "text": [
      "Train loss : 4.109838600647755, Val_loss : 3.881631817136492, lr: 0.005\n",
      "\n",
      "Epoch 9/60\n"
     ]
    },
    {
     "name": "stderr",
     "output_type": "stream",
     "text": [
      "                                                                        \r"
     ]
    },
    {
     "name": "stdout",
     "output_type": "stream",
     "text": [
      "Train loss : 3.9726768762637406, Val_loss : 3.7610590755939484, lr: 0.005\n",
      "\n",
      "Epoch 10/60\n"
     ]
    },
    {
     "name": "stderr",
     "output_type": "stream",
     "text": [
      "                                                                        \r"
     ]
    },
    {
     "name": "stdout",
     "output_type": "stream",
     "text": [
      "Train loss : 3.8446626699887787, Val_loss : 3.6429911724158694, lr: 0.005\n",
      "\n",
      "Epoch 11/60\n"
     ]
    },
    {
     "name": "stderr",
     "output_type": "stream",
     "text": [
      "                                                                        \r"
     ]
    },
    {
     "name": "stdout",
     "output_type": "stream",
     "text": [
      "Train loss : 3.7675494450789233, Val_loss : 3.5579440338271007, lr: 0.005\n",
      "\n",
      "Epoch 12/60\n"
     ]
    },
    {
     "name": "stderr",
     "output_type": "stream",
     "text": [
      "                                                                        \r"
     ]
    },
    {
     "name": "stdout",
     "output_type": "stream",
     "text": [
      "Train loss : 3.676093684709989, Val_loss : 3.4379386050360545, lr: 0.005\n",
      "\n",
      "Epoch 13/60\n"
     ]
    },
    {
     "name": "stderr",
     "output_type": "stream",
     "text": [
      "                                                                        \r"
     ]
    },
    {
     "name": "stdout",
     "output_type": "stream",
     "text": [
      "Train loss : 3.576948445882553, Val_loss : 3.350158712693623, lr: 0.005\n",
      "\n",
      "Epoch 14/60\n"
     ]
    },
    {
     "name": "stderr",
     "output_type": "stream",
     "text": [
      "                                                                        \r"
     ]
    },
    {
     "name": "stdout",
     "output_type": "stream",
     "text": [
      "Train loss : 3.5219832787146936, Val_loss : 3.2878536028521403, lr: 0.005\n",
      "\n",
      "Epoch 15/60\n"
     ]
    },
    {
     "name": "stderr",
     "output_type": "stream",
     "text": [
      "                                                                        \r"
     ]
    },
    {
     "name": "stdout",
     "output_type": "stream",
     "text": [
      "Train loss : 3.4334797577980236, Val_loss : 3.258626971926008, lr: 0.005\n",
      "\n",
      "Epoch 16/60\n"
     ]
    },
    {
     "name": "stderr",
     "output_type": "stream",
     "text": [
      "                                                                        \r"
     ]
    },
    {
     "name": "stdout",
     "output_type": "stream",
     "text": [
      "Train loss : 3.3700977557744736, Val_loss : 3.1785387098789215, lr: 0.005\n",
      "\n",
      "Epoch 17/60\n"
     ]
    },
    {
     "name": "stderr",
     "output_type": "stream",
     "text": [
      "                                                                        \r"
     ]
    },
    {
     "name": "stdout",
     "output_type": "stream",
     "text": [
      "Train loss : 3.3237405764750947, Val_loss : 3.1230643732207164, lr: 0.005\n",
      "\n",
      "Epoch 18/60\n"
     ]
    },
    {
     "name": "stderr",
     "output_type": "stream",
     "text": [
      "                                                                        \r"
     ]
    },
    {
     "name": "stdout",
     "output_type": "stream",
     "text": [
      "Train loss : 3.25452125622676, Val_loss : 3.0556999359812056, lr: 0.005\n",
      "\n",
      "Epoch 19/60\n"
     ]
    },
    {
     "name": "stderr",
     "output_type": "stream",
     "text": [
      "                                                                        \r"
     ]
    },
    {
     "name": "stdout",
     "output_type": "stream",
     "text": [
      "Train loss : 3.194078221687904, Val_loss : 2.982562776122774, lr: 0.005\n",
      "\n",
      "Epoch 20/60\n"
     ]
    },
    {
     "name": "stderr",
     "output_type": "stream",
     "text": [
      "                                                                        \r"
     ]
    },
    {
     "name": "stdout",
     "output_type": "stream",
     "text": [
      "Train loss : 3.170632079931406, Val_loss : 2.9589342091764723, lr: 0.005\n",
      "\n",
      "Epoch 21/60\n"
     ]
    },
    {
     "name": "stderr",
     "output_type": "stream",
     "text": [
      "                                                                        \r"
     ]
    },
    {
     "name": "stdout",
     "output_type": "stream",
     "text": [
      "Train loss : 3.1272475205934964, Val_loss : 2.953782950128828, lr: 0.005\n",
      "\n",
      "Epoch 22/60\n"
     ]
    },
    {
     "name": "stderr",
     "output_type": "stream",
     "text": [
      "                                                                        \r"
     ]
    },
    {
     "name": "stdout",
     "output_type": "stream",
     "text": [
      "Train loss : 3.085237976220938, Val_loss : 2.911153652838298, lr: 0.005\n",
      "\n",
      "Epoch 23/60\n"
     ]
    },
    {
     "name": "stderr",
     "output_type": "stream",
     "text": [
      "                                                                        \r"
     ]
    },
    {
     "name": "stdout",
     "output_type": "stream",
     "text": [
      "Train loss : 3.0331530595437073, Val_loss : 2.8889079988002777, lr: 0.005\n",
      "\n",
      "Epoch 24/60\n"
     ]
    },
    {
     "name": "stderr",
     "output_type": "stream",
     "text": [
      "                                                                        \r"
     ]
    },
    {
     "name": "stdout",
     "output_type": "stream",
     "text": [
      "Train loss : 3.035838080675174, Val_loss : 2.8703175485134125, lr: 0.005\n",
      "\n",
      "Epoch 25/60\n"
     ]
    },
    {
     "name": "stderr",
     "output_type": "stream",
     "text": [
      "                                                                        \r"
     ]
    },
    {
     "name": "stdout",
     "output_type": "stream",
     "text": [
      "Train loss : 2.9811450322469075, Val_loss : 2.879022491829736, lr: 0.005\n",
      "\n",
      "Epoch 26/60\n"
     ]
    },
    {
     "name": "stderr",
     "output_type": "stream",
     "text": [
      "                                                                        \r"
     ]
    },
    {
     "name": "stdout",
     "output_type": "stream",
     "text": [
      "Train loss : 2.9455739705990522, Val_loss : 2.8309591455119, lr: 0.005\n",
      "\n",
      "Epoch 27/60\n"
     ]
    },
    {
     "name": "stderr",
     "output_type": "stream",
     "text": [
      "                                                                        \r"
     ]
    },
    {
     "name": "stdout",
     "output_type": "stream",
     "text": [
      "Train loss : 2.9237580837347568, Val_loss : 2.8202630962644304, lr: 0.005\n",
      "\n",
      "Epoch 28/60\n"
     ]
    },
    {
     "name": "stderr",
     "output_type": "stream",
     "text": [
      "                                                                        \r"
     ]
    },
    {
     "name": "stdout",
     "output_type": "stream",
     "text": [
      "Train loss : 2.922302368359688, Val_loss : 2.7652722213949477, lr: 0.005\n",
      "\n",
      "Epoch 29/60\n"
     ]
    },
    {
     "name": "stderr",
     "output_type": "stream",
     "text": [
      "                                                                        \r"
     ]
    },
    {
     "name": "stdout",
     "output_type": "stream",
     "text": [
      "Train loss : 2.8737013401129308, Val_loss : 2.7607965043612888, lr: 0.005\n",
      "\n",
      "Epoch 30/60\n"
     ]
    },
    {
     "name": "stderr",
     "output_type": "stream",
     "text": [
      "                                                                        \r"
     ]
    },
    {
     "name": "stdout",
     "output_type": "stream",
     "text": [
      "Train loss : 2.8723966146126774, Val_loss : 2.7954857306821004, lr: 0.005\n",
      "\n",
      "Epoch 31/60\n"
     ]
    },
    {
     "name": "stderr",
     "output_type": "stream",
     "text": [
      "                                                                        \r"
     ]
    },
    {
     "name": "stdout",
     "output_type": "stream",
     "text": [
      "Train loss : 2.8485354582468667, Val_loss : 2.7650219883237566, lr: 0.005\n",
      "\n",
      "Epoch 32/60\n"
     ]
    },
    {
     "name": "stderr",
     "output_type": "stream",
     "text": [
      "                                                                        \r"
     ]
    },
    {
     "name": "stdout",
     "output_type": "stream",
     "text": [
      "Train loss : 2.8287120916904547, Val_loss : 2.7505922998700822, lr: 0.005\n",
      "\n",
      "Epoch 33/60\n"
     ]
    },
    {
     "name": "stderr",
     "output_type": "stream",
     "text": [
      "                                                                        \r"
     ]
    },
    {
     "name": "stdout",
     "output_type": "stream",
     "text": [
      "Train loss : 2.811228601749127, Val_loss : 2.719616038458688, lr: 0.005\n",
      "\n",
      "Epoch 34/60\n"
     ]
    },
    {
     "name": "stderr",
     "output_type": "stream",
     "text": [
      "                                                                        \r"
     ]
    },
    {
     "name": "stdout",
     "output_type": "stream",
     "text": [
      "Train loss : 2.788436701358893, Val_loss : 2.7083433100155423, lr: 0.005\n",
      "\n",
      "Epoch 35/60\n"
     ]
    },
    {
     "name": "stderr",
     "output_type": "stream",
     "text": [
      "                                                                        \r"
     ]
    },
    {
     "name": "stdout",
     "output_type": "stream",
     "text": [
      "Train loss : 2.776952683619964, Val_loss : 2.7330740221909116, lr: 0.005\n",
      "\n",
      "Epoch 36/60\n"
     ]
    },
    {
     "name": "stderr",
     "output_type": "stream",
     "text": [
      "                                                                        \r"
     ]
    },
    {
     "name": "stdout",
     "output_type": "stream",
     "text": [
      "Train loss : 2.7538940001756718, Val_loss : 2.7461976323808943, lr: 0.005\n",
      "\n",
      "Epoch 37/60\n"
     ]
    },
    {
     "name": "stderr",
     "output_type": "stream",
     "text": [
      "                                                                        \r"
     ]
    },
    {
     "name": "stdout",
     "output_type": "stream",
     "text": [
      "Train loss : 2.7572878214029166, Val_loss : 2.6973437794617245, lr: 0.005\n",
      "\n",
      "Epoch 38/60\n"
     ]
    },
    {
     "name": "stderr",
     "output_type": "stream",
     "text": [
      "                                                                        \r"
     ]
    },
    {
     "name": "stdout",
     "output_type": "stream",
     "text": [
      "Train loss : 2.7524638408269637, Val_loss : 2.716194497687476, lr: 0.005\n",
      "\n",
      "Epoch 39/60\n"
     ]
    },
    {
     "name": "stderr",
     "output_type": "stream",
     "text": [
      "                                                                        \r"
     ]
    },
    {
     "name": "stdout",
     "output_type": "stream",
     "text": [
      "Train loss : 2.7321071099012326, Val_loss : 2.6779389807156155, lr: 0.005\n",
      "\n",
      "Epoch 40/60\n"
     ]
    },
    {
     "name": "stderr",
     "output_type": "stream",
     "text": [
      "                                                                        \r"
     ]
    },
    {
     "name": "stdout",
     "output_type": "stream",
     "text": [
      "Train loss : 2.733988486803495, Val_loss : 2.7044117024966647, lr: 0.005\n",
      "\n",
      "Epoch 41/60\n"
     ]
    },
    {
     "name": "stderr",
     "output_type": "stream",
     "text": [
      "                                                                        \r"
     ]
    },
    {
     "name": "stdout",
     "output_type": "stream",
     "text": [
      "Train loss : 2.722755627754407, Val_loss : 2.691961475781032, lr: 0.005\n",
      "\n",
      "Epoch 42/60\n"
     ]
    },
    {
     "name": "stderr",
     "output_type": "stream",
     "text": [
      "                                                                        \r"
     ]
    },
    {
     "name": "stdout",
     "output_type": "stream",
     "text": [
      "Train loss : 2.6986511450547437, Val_loss : 2.7244801734175, lr: 0.0025\n",
      "\n",
      "Epoch 43/60\n"
     ]
    },
    {
     "name": "stderr",
     "output_type": "stream",
     "text": [
      "                                                                        \r"
     ]
    },
    {
     "name": "stdout",
     "output_type": "stream",
     "text": [
      "Train loss : 2.6010654828487296, Val_loss : 2.6349978021212985, lr: 0.0025\n",
      "\n",
      "Epoch 44/60\n"
     ]
    },
    {
     "name": "stderr",
     "output_type": "stream",
     "text": [
      "                                                                        \r"
     ]
    },
    {
     "name": "stdout",
     "output_type": "stream",
     "text": [
      "Train loss : 2.543917500667083, Val_loss : 2.667047815663474, lr: 0.0025\n",
      "\n",
      "Epoch 45/60\n"
     ]
    },
    {
     "name": "stderr",
     "output_type": "stream",
     "text": [
      "                                                                        \r"
     ]
    },
    {
     "name": "stdout",
     "output_type": "stream",
     "text": [
      "Train loss : 2.5323109431144517, Val_loss : 2.643959266798837, lr: 0.0025\n",
      "\n",
      "Epoch 46/60\n"
     ]
    },
    {
     "name": "stderr",
     "output_type": "stream",
     "text": [
      "                                                                        \r"
     ]
    },
    {
     "name": "stdout",
     "output_type": "stream",
     "text": [
      "Train loss : 2.509077710371751, Val_loss : 2.669878844703947, lr: 0.00125\n",
      "\n",
      "Epoch 47/60\n"
     ]
    },
    {
     "name": "stderr",
     "output_type": "stream",
     "text": [
      "                                                                        \r"
     ]
    },
    {
     "name": "stdout",
     "output_type": "stream",
     "text": [
      "Train loss : 2.4441915084154178, Val_loss : 2.6722112936632976, lr: 0.00125\n",
      "\n",
      "Epoch 48/60\n"
     ]
    },
    {
     "name": "stderr",
     "output_type": "stream",
     "text": [
      "                                                                        \r"
     ]
    },
    {
     "name": "stdout",
     "output_type": "stream",
     "text": [
      "Train loss : 2.4170607346754807, Val_loss : 2.648793565375464, lr: 0.00125\n",
      "\n",
      "Epoch 49/60\n"
     ]
    },
    {
     "name": "stderr",
     "output_type": "stream",
     "text": [
      "                                                                        \r"
     ]
    },
    {
     "name": "stdout",
     "output_type": "stream",
     "text": [
      "Train loss : 2.402240240879548, Val_loss : 2.654370984860829, lr: 0.000625\n",
      "\n",
      "Epoch 50/60\n"
     ]
    },
    {
     "name": "stderr",
     "output_type": "stream",
     "text": [
      "                                                                        \r"
     ]
    },
    {
     "name": "stdout",
     "output_type": "stream",
     "text": [
      "Train loss : 2.3668886074653037, Val_loss : 2.6690474024840762, lr: 0.000625\n",
      "\n",
      "Epoch 51/60\n"
     ]
    },
    {
     "name": "stderr",
     "output_type": "stream",
     "text": [
      "                                                                        \r"
     ]
    },
    {
     "name": "stdout",
     "output_type": "stream",
     "text": [
      "Train loss : 2.342555363972982, Val_loss : 2.6837780347892215, lr: 0.000625\n",
      "\n",
      "Epoch 52/60\n"
     ]
    },
    {
     "name": "stderr",
     "output_type": "stream",
     "text": [
      "                                                                        \r"
     ]
    },
    {
     "name": "stdout",
     "output_type": "stream",
     "text": [
      "Train loss : 2.3151474280235096, Val_loss : 2.6623992111001695, lr: 0.0003125\n",
      "\n",
      "Epoch 53/60\n"
     ]
    },
    {
     "name": "stderr",
     "output_type": "stream",
     "text": [
      "                                                                        \r"
     ]
    },
    {
     "name": "stdout",
     "output_type": "stream",
     "text": [
      "Train loss : 2.308583148320516, Val_loss : 2.6562138157231465, lr: 0.0003125\n",
      "\n",
      "Epoch 54/60\n"
     ]
    },
    {
     "name": "stderr",
     "output_type": "stream",
     "text": [
      "                                                                        \r"
     ]
    },
    {
     "name": "stdout",
     "output_type": "stream",
     "text": [
      "Train loss : 2.291573070257138, Val_loss : 2.7096661584717885, lr: 0.0003125\n",
      "\n",
      "Epoch 55/60\n"
     ]
    },
    {
     "name": "stderr",
     "output_type": "stream",
     "text": [
      "                                                                        \r"
     ]
    },
    {
     "name": "stdout",
     "output_type": "stream",
     "text": [
      "Train loss : 2.29687643968142, Val_loss : 2.689547679253987, lr: 0.00015625\n",
      "\n",
      "Epoch 56/60\n"
     ]
    },
    {
     "name": "stderr",
     "output_type": "stream",
     "text": [
      "                                                                        \r"
     ]
    },
    {
     "name": "stdout",
     "output_type": "stream",
     "text": [
      "Train loss : 2.2670391119443454, Val_loss : 2.6848378692354475, lr: 0.00015625\n",
      "\n",
      "Epoch 57/60\n"
     ]
    },
    {
     "name": "stderr",
     "output_type": "stream",
     "text": [
      "                                                                        \r"
     ]
    },
    {
     "name": "stdout",
     "output_type": "stream",
     "text": [
      "Train loss : 2.2711946359047523, Val_loss : 2.731559838567461, lr: 0.00015625\n",
      "\n",
      "Epoch 58/60\n"
     ]
    },
    {
     "name": "stderr",
     "output_type": "stream",
     "text": [
      "                                                                        \r"
     ]
    },
    {
     "name": "stdout",
     "output_type": "stream",
     "text": [
      "Train loss : 2.262163845698039, Val_loss : 2.7061460997377123, lr: 7.8125e-05\n",
      "\n",
      "Epoch 59/60\n"
     ]
    },
    {
     "name": "stderr",
     "output_type": "stream",
     "text": [
      "                                                                        \r"
     ]
    },
    {
     "name": "stdout",
     "output_type": "stream",
     "text": [
      "Train loss : 2.2593330254921544, Val_loss : 2.705182126590184, lr: 7.8125e-05\n",
      "\n",
      "Epoch 60/60\n"
     ]
    },
    {
     "name": "stderr",
     "output_type": "stream",
     "text": [
      "                                                                        "
     ]
    },
    {
     "name": "stdout",
     "output_type": "stream",
     "text": [
      "Train loss : 2.255899355961726, Val_loss : 2.7238571516105106, lr: 7.8125e-05\n"
     ]
    },
    {
     "name": "stderr",
     "output_type": "stream",
     "text": [
      "\r"
     ]
    },
    {
     "data": {
      "text/plain": [
       "(2.255899355961726, 2.7238571516105106)"
      ]
     },
     "execution_count": 12,
     "metadata": {},
     "output_type": "execute_result"
    }
   ],
   "source": [
    "import torch\n",
    "import torch.nn.functional as F\n",
    "from tqdm import tqdm\n",
    "\n",
    "train(\n",
    "    seq2seq,\n",
    "    train_loader,\n",
    "    test_loader,\n",
    "    optimizer,\n",
    "    criterion,\n",
    "    device,\n",
    "    scheduler,\n",
    "    60,\n",
    ")"
   ]
  },
  {
   "cell_type": "code",
   "execution_count": 13,
   "id": "e2dee907",
   "metadata": {
    "execution": {
     "iopub.execute_input": "2025-03-22T13:39:58.699290Z",
     "iopub.status.busy": "2025-03-22T13:39:58.698987Z",
     "iopub.status.idle": "2025-03-22T13:39:59.033389Z",
     "shell.execute_reply": "2025-03-22T13:39:59.032657Z"
    },
    "id": "QcRGUFEp6EXC",
    "papermill": {
     "duration": 1.794293,
     "end_time": "2025-03-22T13:39:59.034902",
     "exception": false,
     "start_time": "2025-03-22T13:39:57.240609",
     "status": "completed"
    },
    "tags": []
   },
   "outputs": [],
   "source": [
    "torch.save(seq2seq.state_dict(), \"seq2seq.pth\")\n",
    "torch.save(seq2seq.encoder.state_dict(), \"encoder.pth\")\n",
    "torch.save(seq2seq.decoder.state_dict(), \"decoder.pth\")"
   ]
  },
  {
   "cell_type": "markdown",
   "id": "eac72f5f",
   "metadata": {},
   "source": [
    "# Evaluation"
   ]
  },
  {
   "cell_type": "code",
   "execution_count": 9,
   "id": "bcd90367",
   "metadata": {
    "execution": {
     "iopub.execute_input": "2025-03-22T13:40:01.838653Z",
     "iopub.status.busy": "2025-03-22T13:40:01.838299Z",
     "iopub.status.idle": "2025-03-22T13:40:02.120190Z",
     "shell.execute_reply": "2025-03-22T13:40:02.119433Z"
    },
    "papermill": {
     "duration": 1.733419,
     "end_time": "2025-03-22T13:40:02.121643",
     "exception": false,
     "start_time": "2025-03-22T13:40:00.388224",
     "status": "completed"
    },
    "tags": []
   },
   "outputs": [
    {
     "data": {
      "text/plain": [
       "<All keys matched successfully>"
      ]
     },
     "execution_count": 9,
     "metadata": {},
     "output_type": "execute_result"
    }
   ],
   "source": [
    "device = torch.device(\"cuda\" if torch.cuda.is_available() else \"cpu\")\n",
    "\n",
    "vocab_size = len(vocab)\n",
    "embedding_dim = 256\n",
    "hidden_size = 64\n",
    "encoder = Encoder(vocab_size, embedding_dim, hidden_size).to(device)\n",
    "decoder = Decoder(vocab_size, embedding_dim, hidden_size).to(device)\n",
    "seq2seq = Seq2Seq(encoder, decoder, vocab_size).to(device)\n",
    "seq2seq.load_state_dict(torch.load(\"seq2seq.pth\", weights_only=True))"
   ]
  },
  {
   "cell_type": "code",
   "execution_count": 15,
   "id": "7f1d7ea2",
   "metadata": {
    "execution": {
     "iopub.execute_input": "2025-03-22T13:40:04.919840Z",
     "iopub.status.busy": "2025-03-22T13:40:04.919468Z",
     "iopub.status.idle": "2025-03-22T13:40:05.827035Z",
     "shell.execute_reply": "2025-03-22T13:40:05.826133Z"
    },
    "papermill": {
     "duration": 2.259685,
     "end_time": "2025-03-22T13:40:05.828388",
     "exception": false,
     "start_time": "2025-03-22T13:40:03.568703",
     "status": "completed"
    },
    "tags": []
   },
   "outputs": [
    {
     "data": {
      "text/plain": [
       "torch.Size([512, 18])"
      ]
     },
     "execution_count": 15,
     "metadata": {},
     "output_type": "execute_result"
    }
   ],
   "source": [
    "seq2seq.eval()\n",
    "# with torch.no_grad():\n",
    "a, b = next(iter(test_loader))\n",
    "a = a.to(device)\n",
    "b = b.to(device)\n",
    "with torch.no_grad():\n",
    "    x = seq2seq.predict(a)\n",
    "\n",
    "x = x.argmax(dim=2)\n",
    "x.shape"
   ]
  },
  {
   "cell_type": "code",
   "execution_count": 16,
   "id": "698ad5f1",
   "metadata": {
    "execution": {
     "iopub.execute_input": "2025-03-22T13:40:08.753801Z",
     "iopub.status.busy": "2025-03-22T13:40:08.753429Z",
     "iopub.status.idle": "2025-03-22T13:40:08.887051Z",
     "shell.execute_reply": "2025-03-22T13:40:08.886141Z"
    },
    "papermill": {
     "duration": 1.587873,
     "end_time": "2025-03-22T13:40:08.888724",
     "exception": false,
     "start_time": "2025-03-22T13:40:07.300851",
     "status": "completed"
    },
    "tags": []
   },
   "outputs": [],
   "source": [
    "from tokenizers import ByteLevelBPETokenizer\n",
    "tokenizer = ByteLevelBPETokenizer(\n",
    "    f\"EnglishOrSpanish/vocab.json\", f\"EnglishOrSpanish/merges.txt\"\n",
    ")"
   ]
  },
  {
   "cell_type": "code",
   "execution_count": 17,
   "id": "6971c0cc",
   "metadata": {},
   "outputs": [],
   "source": [
    "x = x.cpu().numpy()\n",
    "b = b.cpu().numpy()\n",
    "a = a.cpu().numpy()\n",
    "preds = []\n",
    "targets = []\n",
    "original = []\n",
    "for i in range(x.shape[0]):\n",
    "    preds.append(tokenizer.decode(x[i]))\n",
    "    targets.append(tokenizer.decode(b[i]))\n",
    "    original.append(tokenizer.decode(a[i]))"
   ]
  },
  {
   "cell_type": "code",
   "execution_count": 18,
   "id": "cc3a2695",
   "metadata": {},
   "outputs": [
    {
     "data": {
      "text/html": [
       "<div>\n",
       "<style scoped>\n",
       "    .dataframe tbody tr th:only-of-type {\n",
       "        vertical-align: middle;\n",
       "    }\n",
       "\n",
       "    .dataframe tbody tr th {\n",
       "        vertical-align: top;\n",
       "    }\n",
       "\n",
       "    .dataframe thead th {\n",
       "        text-align: right;\n",
       "    }\n",
       "</style>\n",
       "<table border=\"1\" class=\"dataframe\">\n",
       "  <thead>\n",
       "    <tr style=\"text-align: right;\">\n",
       "      <th></th>\n",
       "      <th>Original</th>\n",
       "      <th>Prediction</th>\n",
       "      <th>Target</th>\n",
       "    </tr>\n",
       "  </thead>\n",
       "  <tbody>\n",
       "    <tr>\n",
       "      <th>0</th>\n",
       "      <td>&lt;SOS&gt; i should read the book &lt;EOS&gt;&lt;PAD&gt;&lt;PAD&gt;&lt;P...</td>\n",
       "      <td>&lt;PAD&gt; debería leer el libro &lt;EOS&gt;&lt;EOS&gt;&lt;EOS&gt;&lt;EO...</td>\n",
       "      <td>&lt;SOS&gt; debería leer el libro &lt;EOS&gt;&lt;PAD&gt;&lt;PAD&gt;&lt;PA...</td>\n",
       "    </tr>\n",
       "    <tr>\n",
       "      <th>1</th>\n",
       "      <td>&lt;SOS&gt; please drop me off at the station &lt;EOS&gt;&lt;...</td>\n",
       "      <td>&lt;PAD&gt; dime por la estación por favor &lt;EOS&gt;&lt;EOS...</td>\n",
       "      <td>&lt;SOS&gt; déjeme en la estación por favor &lt;EOS&gt;&lt;PA...</td>\n",
       "    </tr>\n",
       "    <tr>\n",
       "      <th>2</th>\n",
       "      <td>&lt;SOS&gt; tom doesnt remember doing what everybody...</td>\n",
       "      <td>&lt;PAD&gt; tom no se de lo lo que todo lo que &lt;EOS&gt;...</td>\n",
       "      <td>&lt;SOS&gt; tom no recuerda haber hecho lo que todos...</td>\n",
       "    </tr>\n",
       "    <tr>\n",
       "      <th>3</th>\n",
       "      <td>&lt;SOS&gt; we dont care what he does &lt;EOS&gt;&lt;PAD&gt;&lt;PAD...</td>\n",
       "      <td>&lt;PAD&gt; no te importa lo que él &lt;EOS&gt;&lt;EOS&gt;&lt;EOS&gt;&lt;...</td>\n",
       "      <td>&lt;SOS&gt; no nos importa lo que él haga &lt;EOS&gt;&lt;PAD&gt;...</td>\n",
       "    </tr>\n",
       "    <tr>\n",
       "      <th>4</th>\n",
       "      <td>&lt;SOS&gt; tell the truth &lt;EOS&gt;&lt;PAD&gt;&lt;PAD&gt;&lt;PAD&gt;&lt;PAD&gt;...</td>\n",
       "      <td>&lt;PAD&gt; dile la verdad &lt;EOS&gt;&lt;EOS&gt;&lt;EOS&gt;&lt;EOS&gt;&lt;EOS&gt;...</td>\n",
       "      <td>&lt;SOS&gt; decí la verdad &lt;EOS&gt;&lt;PAD&gt;&lt;PAD&gt;&lt;PAD&gt;&lt;PAD&gt;...</td>\n",
       "    </tr>\n",
       "    <tr>\n",
       "      <th>5</th>\n",
       "      <td>&lt;SOS&gt; tom wont be able to understand any of th...</td>\n",
       "      <td>&lt;PAD&gt; tom no podrá entender nada de esto &lt;EOS&gt;...</td>\n",
       "      <td>&lt;SOS&gt; tom no va a poder entender nada de esto ...</td>\n",
       "    </tr>\n",
       "    <tr>\n",
       "      <th>6</th>\n",
       "      <td>&lt;SOS&gt; i seldom go out on monday &lt;EOS&gt;&lt;PAD&gt;&lt;PAD...</td>\n",
       "      <td>&lt;PAD&gt; normalmente voy a el lunes &lt;EOS&gt;&lt;EOS&gt;&lt;EO...</td>\n",
       "      <td>&lt;SOS&gt; raramente salgo los lunes &lt;EOS&gt;&lt;PAD&gt;&lt;PAD...</td>\n",
       "    </tr>\n",
       "    <tr>\n",
       "      <th>7</th>\n",
       "      <td>&lt;SOS&gt; i didnt want to disturb the patients &lt;EO...</td>\n",
       "      <td>&lt;PAD&gt; no quería escuchar a los los &lt;EOS&gt;&lt;EOS&gt;&lt;...</td>\n",
       "      <td>&lt;SOS&gt; no quería molestar a los pacientes &lt;EOS&gt;...</td>\n",
       "    </tr>\n",
       "    <tr>\n",
       "      <th>8</th>\n",
       "      <td>&lt;SOS&gt; i can be your best friend or your worst ...</td>\n",
       "      <td>&lt;PAD&gt; puedo ser tu mejor amigo o tu peor enemi...</td>\n",
       "      <td>&lt;SOS&gt; puedo ser tu mejor amigo o tu peor enemi...</td>\n",
       "    </tr>\n",
       "    <tr>\n",
       "      <th>9</th>\n",
       "      <td>&lt;SOS&gt; having finished it he went to bed &lt;EOS&gt;&lt;...</td>\n",
       "      <td>&lt;PAD&gt; se terminado de que se a a la cama &lt;EOS&gt;...</td>\n",
       "      <td>&lt;SOS&gt; después de haberla terminado se fue a la...</td>\n",
       "    </tr>\n",
       "  </tbody>\n",
       "</table>\n",
       "</div>"
      ],
      "text/plain": [
       "                                            Original  \\\n",
       "0  <SOS> i should read the book <EOS><PAD><PAD><P...   \n",
       "1  <SOS> please drop me off at the station <EOS><...   \n",
       "2  <SOS> tom doesnt remember doing what everybody...   \n",
       "3  <SOS> we dont care what he does <EOS><PAD><PAD...   \n",
       "4  <SOS> tell the truth <EOS><PAD><PAD><PAD><PAD>...   \n",
       "5  <SOS> tom wont be able to understand any of th...   \n",
       "6  <SOS> i seldom go out on monday <EOS><PAD><PAD...   \n",
       "7  <SOS> i didnt want to disturb the patients <EO...   \n",
       "8  <SOS> i can be your best friend or your worst ...   \n",
       "9  <SOS> having finished it he went to bed <EOS><...   \n",
       "\n",
       "                                          Prediction  \\\n",
       "0  <PAD> debería leer el libro <EOS><EOS><EOS><EO...   \n",
       "1  <PAD> dime por la estación por favor <EOS><EOS...   \n",
       "2  <PAD> tom no se de lo lo que todo lo que <EOS>...   \n",
       "3  <PAD> no te importa lo que él <EOS><EOS><EOS><...   \n",
       "4  <PAD> dile la verdad <EOS><EOS><EOS><EOS><EOS>...   \n",
       "5  <PAD> tom no podrá entender nada de esto <EOS>...   \n",
       "6  <PAD> normalmente voy a el lunes <EOS><EOS><EO...   \n",
       "7  <PAD> no quería escuchar a los los <EOS><EOS><...   \n",
       "8  <PAD> puedo ser tu mejor amigo o tu peor enemi...   \n",
       "9  <PAD> se terminado de que se a a la cama <EOS>...   \n",
       "\n",
       "                                              Target  \n",
       "0  <SOS> debería leer el libro <EOS><PAD><PAD><PA...  \n",
       "1  <SOS> déjeme en la estación por favor <EOS><PA...  \n",
       "2  <SOS> tom no recuerda haber hecho lo que todos...  \n",
       "3  <SOS> no nos importa lo que él haga <EOS><PAD>...  \n",
       "4  <SOS> decí la verdad <EOS><PAD><PAD><PAD><PAD>...  \n",
       "5  <SOS> tom no va a poder entender nada de esto ...  \n",
       "6  <SOS> raramente salgo los lunes <EOS><PAD><PAD...  \n",
       "7  <SOS> no quería molestar a los pacientes <EOS>...  \n",
       "8  <SOS> puedo ser tu mejor amigo o tu peor enemi...  \n",
       "9  <SOS> después de haberla terminado se fue a la...  "
      ]
     },
     "execution_count": 18,
     "metadata": {},
     "output_type": "execute_result"
    }
   ],
   "source": [
    "import pandas as pd\n",
    "\n",
    "df = pd.DataFrame(\n",
    "    {\"Original\": original[:10], \"Prediction\": preds[:10], \"Target\": targets[:10]}\n",
    ")\n",
    "df.to_csv(\"attention-unidir.csv\", index=False)\n",
    "df"
   ]
  },
  {
   "cell_type": "code",
   "execution_count": null,
   "id": "209ec26b",
   "metadata": {
    "execution": {
     "iopub.execute_input": "2025-03-22T13:40:11.712812Z",
     "iopub.status.busy": "2025-03-22T13:40:11.712376Z",
     "iopub.status.idle": "2025-03-22T13:40:11.719426Z",
     "shell.execute_reply": "2025-03-22T13:40:11.718517Z"
    },
    "papermill": {
     "duration": 1.388413,
     "end_time": "2025-03-22T13:40:11.720876",
     "exception": false,
     "start_time": "2025-03-22T13:40:10.332463",
     "status": "completed"
    },
    "tags": []
   },
   "outputs": [
    {
     "data": {
      "text/plain": [
       "23.85645814060703"
      ]
     },
     "execution_count": 12,
     "metadata": {},
     "output_type": "execute_result"
    }
   ],
   "source": [
    "import sacrebleu\n",
    "\n",
    "\n",
    "def calculate_bleu_score(preds, targets):\n",
    "    bleu = sacrebleu.corpus_bleu(preds, [targets], force=True)\n",
    "    return bleu.score\n",
    "\n",
    "\n",
    "calculate_bleu_score(preds, targets)"
   ]
  },
  {
   "cell_type": "code",
   "execution_count": 13,
   "id": "256dbb5f",
   "metadata": {},
   "outputs": [
    {
     "data": {
      "text/plain": [
       "{'rouge-1': {'r': 0.4421783117885481,\n",
       "  'p': 0.4773645787805937,\n",
       "  'f': 0.45679683824475587},\n",
       " 'rouge-2': {'r': 0.2552410046550675,\n",
       "  'p': 0.2618616444702154,\n",
       "  'f': 0.2578349746190426},\n",
       " 'rouge-l': {'r': 0.4353404854438858,\n",
       "  'p': 0.46961805555555464,\n",
       "  'f': 0.44958920418139353}}"
      ]
     },
     "execution_count": 13,
     "metadata": {},
     "output_type": "execute_result"
    }
   ],
   "source": [
    "import rouge\n",
    "\n",
    "rouge = rouge.Rouge()\n",
    "scores = rouge.get_scores(preds, targets, avg=True)\n",
    "scores"
   ]
  },
  {
   "cell_type": "code",
   "execution_count": 14,
   "id": "884d2e9e",
   "metadata": {},
   "outputs": [
    {
     "data": {
      "text/plain": [
       "58.77256317689531"
      ]
     },
     "execution_count": 14,
     "metadata": {},
     "output_type": "execute_result"
    }
   ],
   "source": [
    "def ter(preds, targets):\n",
    "    return sacrebleu.corpus_ter(preds, [targets]).score\n",
    "\n",
    "\n",
    "ter(preds, targets)"
   ]
  },
  {
   "cell_type": "code",
   "execution_count": null,
   "id": "058abe43",
   "metadata": {},
   "outputs": [],
   "source": []
  }
 ],
 "metadata": {
  "colab": {
   "provenance": []
  },
  "kaggle": {
   "accelerator": "nvidiaTeslaT4",
   "dataSources": [
    {
     "datasetId": 6838673,
     "sourceId": 11036243,
     "sourceType": "datasetVersion"
    }
   ],
   "dockerImageVersionId": 30918,
   "isGpuEnabled": true,
   "isInternetEnabled": true,
   "language": "python",
   "sourceType": "notebook"
  },
  "kernelspec": {
   "display_name": "Python (myenv)",
   "language": "python",
   "name": "torch"
  },
  "language_info": {
   "codemirror_mode": {
    "name": "ipython",
    "version": 3
   },
   "file_extension": ".py",
   "mimetype": "text/x-python",
   "name": "python",
   "nbconvert_exporter": "python",
   "pygments_lexer": "ipython3",
   "version": "3.12.3"
  },
  "papermill": {
   "default_parameters": {},
   "duration": 18437.638477,
   "end_time": "2025-03-22T13:40:18.678424",
   "environment_variables": {},
   "exception": null,
   "input_path": "__notebook__.ipynb",
   "output_path": "__notebook__.ipynb",
   "parameters": {},
   "start_time": "2025-03-22T08:33:01.039947",
   "version": "2.6.0"
  }
 },
 "nbformat": 4,
 "nbformat_minor": 5
}
