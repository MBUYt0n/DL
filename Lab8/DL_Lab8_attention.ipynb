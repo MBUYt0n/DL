{
  "cells": [
    {
      "cell_type": "code",
      "execution_count": 1,
      "metadata": {
        "colab": {
          "base_uri": "https://localhost:8080/",
          "height": 424
        },
        "id": "ZjgPhK4yAU3W",
        "outputId": "4ab7d36a-ce19-4580-9eee-bcf62a2d3bfe"
      },
      "outputs": [
        {
          "data": {
            "text/html": [
              "<div>\n",
              "<style scoped>\n",
              "    .dataframe tbody tr th:only-of-type {\n",
              "        vertical-align: middle;\n",
              "    }\n",
              "\n",
              "    .dataframe tbody tr th {\n",
              "        vertical-align: top;\n",
              "    }\n",
              "\n",
              "    .dataframe thead th {\n",
              "        text-align: right;\n",
              "    }\n",
              "</style>\n",
              "<table border=\"1\" class=\"dataframe\">\n",
              "  <thead>\n",
              "    <tr style=\"text-align: right;\">\n",
              "      <th></th>\n",
              "      <th>English</th>\n",
              "      <th>Spanish</th>\n",
              "    </tr>\n",
              "  </thead>\n",
              "  <tbody>\n",
              "    <tr>\n",
              "      <th>107430</th>\n",
              "      <td>[2, 1453, 904, 431, 411, 265, 1191, 458, 370, ...</td>\n",
              "      <td>[2, 321, 3856, 294, 321, 1295, 302, 590, 1313,...</td>\n",
              "    </tr>\n",
              "    <tr>\n",
              "      <th>14551</th>\n",
              "      <td>[2, 333, 11054, 265, 6721, 224, 3, 0, 0, 0, 0,...</td>\n",
              "      <td>[2, 401, 8264, 323, 23762, 224, 3, 0, 0, 0, 0,...</td>\n",
              "    </tr>\n",
              "    <tr>\n",
              "      <th>25273</th>\n",
              "      <td>[2, 449, 304, 265, 10854, 224, 3, 0, 0, 0, 0, ...</td>\n",
              "      <td>[2, 1036, 323, 10816, 224, 3, 0, 0, 0, 0, 0, 0...</td>\n",
              "    </tr>\n",
              "    <tr>\n",
              "      <th>101389</th>\n",
              "      <td>[2, 300, 15215, 20263, 398, 1495, 334, 1148, 2...</td>\n",
              "      <td>[2, 321, 23763, 10837, 571, 1559, 318, 273, 21...</td>\n",
              "    </tr>\n",
              "    <tr>\n",
              "      <th>63641</th>\n",
              "      <td>[2, 1298, 12165, 1761, 300, 7120, 224, 3, 0, 0...</td>\n",
              "      <td>[2, 22344, 294, 5141, 346, 2027, 1919, 28997, ...</td>\n",
              "    </tr>\n",
              "    <tr>\n",
              "      <th>...</th>\n",
              "      <td>...</td>\n",
              "      <td>...</td>\n",
              "    </tr>\n",
              "    <tr>\n",
              "      <th>81186</th>\n",
              "      <td>[2, 290, 4045, 437, 369, 458, 265, 32139, 224,...</td>\n",
              "      <td>[2, 290, 372, 6404, 265, 369, 346, 410, 31431,...</td>\n",
              "    </tr>\n",
              "    <tr>\n",
              "      <th>36782</th>\n",
              "      <td>[2, 300, 2708, 334, 3338, 224, 3, 0, 0, 0, 0, ...</td>\n",
              "      <td>[2, 331, 2634, 318, 3918, 224, 3, 0, 0, 0, 0, ...</td>\n",
              "    </tr>\n",
              "    <tr>\n",
              "      <th>19408</th>\n",
              "      <td>[2, 14622, 3216, 582, 224, 3, 0, 0, 0, 0, 0, 0...</td>\n",
              "      <td>[2, 3664, 724, 7221, 519, 1392, 224, 3, 0, 0, ...</td>\n",
              "    </tr>\n",
              "    <tr>\n",
              "      <th>111509</th>\n",
              "      <td>[2, 2014, 2586, 290, 595, 803, 1666, 369, 332,...</td>\n",
              "      <td>[2, 1207, 3265, 290, 302, 969, 1614, 831, 265,...</td>\n",
              "    </tr>\n",
              "    <tr>\n",
              "      <th>28966</th>\n",
              "      <td>[2, 4751, 341, 304, 2336, 224, 3, 0, 0, 0, 0, ...</td>\n",
              "      <td>[2, 444, 1050, 1014, 224, 3, 0, 0, 0, 0, 0, 0,...</td>\n",
              "    </tr>\n",
              "  </tbody>\n",
              "</table>\n",
              "<p>128982 rows × 2 columns</p>\n",
              "</div>"
            ],
            "text/plain": [
              "                                                  English  \\\n",
              "107430  [2, 1453, 904, 431, 411, 265, 1191, 458, 370, ...   \n",
              "14551   [2, 333, 11054, 265, 6721, 224, 3, 0, 0, 0, 0,...   \n",
              "25273   [2, 449, 304, 265, 10854, 224, 3, 0, 0, 0, 0, ...   \n",
              "101389  [2, 300, 15215, 20263, 398, 1495, 334, 1148, 2...   \n",
              "63641   [2, 1298, 12165, 1761, 300, 7120, 224, 3, 0, 0...   \n",
              "...                                                   ...   \n",
              "81186   [2, 290, 4045, 437, 369, 458, 265, 32139, 224,...   \n",
              "36782   [2, 300, 2708, 334, 3338, 224, 3, 0, 0, 0, 0, ...   \n",
              "19408   [2, 14622, 3216, 582, 224, 3, 0, 0, 0, 0, 0, 0...   \n",
              "111509  [2, 2014, 2586, 290, 595, 803, 1666, 369, 332,...   \n",
              "28966   [2, 4751, 341, 304, 2336, 224, 3, 0, 0, 0, 0, ...   \n",
              "\n",
              "                                                  Spanish  \n",
              "107430  [2, 321, 3856, 294, 321, 1295, 302, 590, 1313,...  \n",
              "14551   [2, 401, 8264, 323, 23762, 224, 3, 0, 0, 0, 0,...  \n",
              "25273   [2, 1036, 323, 10816, 224, 3, 0, 0, 0, 0, 0, 0...  \n",
              "101389  [2, 321, 23763, 10837, 571, 1559, 318, 273, 21...  \n",
              "63641   [2, 22344, 294, 5141, 346, 2027, 1919, 28997, ...  \n",
              "...                                                   ...  \n",
              "81186   [2, 290, 372, 6404, 265, 369, 346, 410, 31431,...  \n",
              "36782   [2, 331, 2634, 318, 3918, 224, 3, 0, 0, 0, 0, ...  \n",
              "19408   [2, 3664, 724, 7221, 519, 1392, 224, 3, 0, 0, ...  \n",
              "111509  [2, 1207, 3265, 290, 302, 969, 1614, 831, 265,...  \n",
              "28966   [2, 444, 1050, 1014, 224, 3, 0, 0, 0, 0, 0, 0,...  \n",
              "\n",
              "[128982 rows x 2 columns]"
            ]
          },
          "execution_count": 1,
          "metadata": {},
          "output_type": "execute_result"
        }
      ],
      "source": [
        "import pandas as pd\n",
        "from sklearn.utils import shuffle\n",
        "\n",
        "df = pd.read_csv(\"EnglishOrSpanish/output_joint1.csv\")\n",
        "df = shuffle(df)\n",
        "df"
      ]
    },
    {
      "cell_type": "code",
      "execution_count": 2,
      "metadata": {
        "colab": {
          "base_uri": "https://localhost:8080/",
          "height": 424
        },
        "id": "3l1WLpiLAU3W",
        "outputId": "01736df9-0470-48b7-cad1-3f67d4934b66"
      },
      "outputs": [
        {
          "data": {
            "text/html": [
              "<div>\n",
              "<style scoped>\n",
              "    .dataframe tbody tr th:only-of-type {\n",
              "        vertical-align: middle;\n",
              "    }\n",
              "\n",
              "    .dataframe tbody tr th {\n",
              "        vertical-align: top;\n",
              "    }\n",
              "\n",
              "    .dataframe thead th {\n",
              "        text-align: right;\n",
              "    }\n",
              "</style>\n",
              "<table border=\"1\" class=\"dataframe\">\n",
              "  <thead>\n",
              "    <tr style=\"text-align: right;\">\n",
              "      <th></th>\n",
              "      <th>English</th>\n",
              "      <th>Spanish</th>\n",
              "    </tr>\n",
              "  </thead>\n",
              "  <tbody>\n",
              "    <tr>\n",
              "      <th>107430</th>\n",
              "      <td>[2, 1453, 904, 431, 411, 265, 1191, 458, 370, ...</td>\n",
              "      <td>[2, 321, 3856, 294, 321, 1295, 302, 590, 1313,...</td>\n",
              "    </tr>\n",
              "    <tr>\n",
              "      <th>14551</th>\n",
              "      <td>[2, 333, 11054, 265, 6721, 224, 3, 0, 0, 0, 0,...</td>\n",
              "      <td>[2, 401, 8264, 323, 23762, 224, 3, 0, 0, 0, 0,...</td>\n",
              "    </tr>\n",
              "    <tr>\n",
              "      <th>25273</th>\n",
              "      <td>[2, 449, 304, 265, 10854, 224, 3, 0, 0, 0, 0, ...</td>\n",
              "      <td>[2, 1036, 323, 10816, 224, 3, 0, 0, 0, 0, 0, 0...</td>\n",
              "    </tr>\n",
              "    <tr>\n",
              "      <th>101389</th>\n",
              "      <td>[2, 300, 15215, 20263, 398, 1495, 334, 1148, 2...</td>\n",
              "      <td>[2, 321, 23763, 10837, 571, 1559, 318, 273, 21...</td>\n",
              "    </tr>\n",
              "    <tr>\n",
              "      <th>63641</th>\n",
              "      <td>[2, 1298, 12165, 1761, 300, 7120, 224, 3, 0, 0...</td>\n",
              "      <td>[2, 22344, 294, 5141, 346, 2027, 1919, 28997, ...</td>\n",
              "    </tr>\n",
              "    <tr>\n",
              "      <th>...</th>\n",
              "      <td>...</td>\n",
              "      <td>...</td>\n",
              "    </tr>\n",
              "    <tr>\n",
              "      <th>81186</th>\n",
              "      <td>[2, 290, 4045, 437, 369, 458, 265, 32139, 224,...</td>\n",
              "      <td>[2, 290, 372, 6404, 265, 369, 346, 410, 31431,...</td>\n",
              "    </tr>\n",
              "    <tr>\n",
              "      <th>36782</th>\n",
              "      <td>[2, 300, 2708, 334, 3338, 224, 3, 0, 0, 0, 0, ...</td>\n",
              "      <td>[2, 331, 2634, 318, 3918, 224, 3, 0, 0, 0, 0, ...</td>\n",
              "    </tr>\n",
              "    <tr>\n",
              "      <th>19408</th>\n",
              "      <td>[2, 14622, 3216, 582, 224, 3, 0, 0, 0, 0, 0, 0...</td>\n",
              "      <td>[2, 3664, 724, 7221, 519, 1392, 224, 3, 0, 0, ...</td>\n",
              "    </tr>\n",
              "    <tr>\n",
              "      <th>111509</th>\n",
              "      <td>[2, 2014, 2586, 290, 595, 803, 1666, 369, 332,...</td>\n",
              "      <td>[2, 1207, 3265, 290, 302, 969, 1614, 831, 265,...</td>\n",
              "    </tr>\n",
              "    <tr>\n",
              "      <th>28966</th>\n",
              "      <td>[2, 4751, 341, 304, 2336, 224, 3, 0, 0, 0, 0, ...</td>\n",
              "      <td>[2, 444, 1050, 1014, 224, 3, 0, 0, 0, 0, 0, 0,...</td>\n",
              "    </tr>\n",
              "  </tbody>\n",
              "</table>\n",
              "<p>128982 rows × 2 columns</p>\n",
              "</div>"
            ],
            "text/plain": [
              "                                                  English  \\\n",
              "107430  [2, 1453, 904, 431, 411, 265, 1191, 458, 370, ...   \n",
              "14551   [2, 333, 11054, 265, 6721, 224, 3, 0, 0, 0, 0,...   \n",
              "25273   [2, 449, 304, 265, 10854, 224, 3, 0, 0, 0, 0, ...   \n",
              "101389  [2, 300, 15215, 20263, 398, 1495, 334, 1148, 2...   \n",
              "63641   [2, 1298, 12165, 1761, 300, 7120, 224, 3, 0, 0...   \n",
              "...                                                   ...   \n",
              "81186   [2, 290, 4045, 437, 369, 458, 265, 32139, 224,...   \n",
              "36782   [2, 300, 2708, 334, 3338, 224, 3, 0, 0, 0, 0, ...   \n",
              "19408   [2, 14622, 3216, 582, 224, 3, 0, 0, 0, 0, 0, 0...   \n",
              "111509  [2, 2014, 2586, 290, 595, 803, 1666, 369, 332,...   \n",
              "28966   [2, 4751, 341, 304, 2336, 224, 3, 0, 0, 0, 0, ...   \n",
              "\n",
              "                                                  Spanish  \n",
              "107430  [2, 321, 3856, 294, 321, 1295, 302, 590, 1313,...  \n",
              "14551   [2, 401, 8264, 323, 23762, 224, 3, 0, 0, 0, 0,...  \n",
              "25273   [2, 1036, 323, 10816, 224, 3, 0, 0, 0, 0, 0, 0...  \n",
              "101389  [2, 321, 23763, 10837, 571, 1559, 318, 273, 21...  \n",
              "63641   [2, 22344, 294, 5141, 346, 2027, 1919, 28997, ...  \n",
              "...                                                   ...  \n",
              "81186   [2, 290, 372, 6404, 265, 369, 346, 410, 31431,...  \n",
              "36782   [2, 331, 2634, 318, 3918, 224, 3, 0, 0, 0, 0, ...  \n",
              "19408   [2, 3664, 724, 7221, 519, 1392, 224, 3, 0, 0, ...  \n",
              "111509  [2, 1207, 3265, 290, 302, 969, 1614, 831, 265,...  \n",
              "28966   [2, 444, 1050, 1014, 224, 3, 0, 0, 0, 0, 0, 0,...  \n",
              "\n",
              "[128982 rows x 2 columns]"
            ]
          },
          "execution_count": 2,
          "metadata": {},
          "output_type": "execute_result"
        }
      ],
      "source": [
        "import ast\n",
        "\n",
        "df[\"English\"] = df[\"English\"].apply(ast.literal_eval)\n",
        "df[\"Spanish\"] = df[\"Spanish\"].apply(ast.literal_eval)\n",
        "df"
      ]
    },
    {
      "cell_type": "code",
      "execution_count": 3,
      "metadata": {
        "id": "p8fPYQBWAU3X"
      },
      "outputs": [],
      "source": [
        "import torch\n",
        "from torch.utils.data import DataLoader, TensorDataset\n",
        "\n",
        "train_data = TensorDataset(\n",
        "    torch.tensor(df[\"English\"][:100000].tolist(), dtype=torch.long),\n",
        "    torch.tensor(df[\"Spanish\"][:100000].tolist(), dtype=torch.long),\n",
        ")\n",
        "test_data = TensorDataset(\n",
        "    torch.tensor(df[\"English\"][100000:].tolist(), dtype=torch.long),\n",
        "    torch.tensor(df[\"Spanish\"][100000:].tolist(), dtype=torch.long),\n",
        ")\n",
        "train_loader = DataLoader(train_data, batch_size=128, shuffle=True, drop_last=True)\n",
        "test_loader = DataLoader(test_data, batch_size=128, shuffle=False, drop_last=True)"
      ]
    },
    {
      "cell_type": "code",
      "execution_count": 4,
      "metadata": {
        "id": "_9tn5YdUAU3X"
      },
      "outputs": [],
      "source": [
        "import json\n",
        "\n",
        "with open(f\"EnglishOrSpanish/vocab.json\", \"r\") as f:\n",
        "    vocab = json.load(f)"
      ]
    },
    {
      "cell_type": "code",
      "execution_count": 5,
      "metadata": {
        "id": "KIMlq-cdAU3Y"
      },
      "outputs": [],
      "source": [
        "import torch\n",
        "import torch.nn as nn\n",
        "\n",
        "\n",
        "class Encoder(nn.Module):\n",
        "    def __init__(self, vocab_size, embedding_dim, hidden_size, num_layers=1, dropout=0.3):\n",
        "        super(Encoder, self).__init__()\n",
        "        self.num_layers = num_layers\n",
        "        self.vocab_size = vocab_size\n",
        "\n",
        "        self.embedding = nn.Embedding(vocab_size, embedding_dim, padding_idx=0)\n",
        "        self.lstm = nn.LSTM(\n",
        "            embedding_dim,\n",
        "            hidden_size,\n",
        "            num_layers=num_layers,\n",
        "            batch_first=True,\n",
        "            dropout=dropout,\n",
        "        )\n",
        "        self.apply(self._init_weights)\n",
        "\n",
        "    def _init_weights(self, module):\n",
        "        if isinstance(module, nn.LSTM):\n",
        "            for name, param in module.named_parameters():\n",
        "                if \"weight\" in name:\n",
        "                    nn.init.xavier_uniform_(param)\n",
        "                elif \"bias\" in name:\n",
        "                    nn.init.zeros_(param)\n",
        "\n",
        "    def forward(self, x):\n",
        "        embedded = self.embedding(x)\n",
        "        output, (hidden, cell) = self.lstm(embedded)\n",
        "        return output, hidden, cell"
      ]
    },
    {
      "cell_type": "code",
      "execution_count": 6,
      "metadata": {
        "id": "7MEXFtjhAU3Y"
      },
      "outputs": [],
      "source": [
        "class Attention(nn.Module):\n",
        "    def __init__(self, hidden_size):\n",
        "        super(Attention, self).__init__()\n",
        "        self.hidden_size = hidden_size\n",
        "\n",
        "        self.W1 = nn.Linear(hidden_size, hidden_size)\n",
        "        self.W2 = nn.Linear(hidden_size, hidden_size)\n",
        "        self.v = nn.Linear(hidden_size, 1, bias=False)\n",
        "\n",
        "    def forward(self, hidden, enc_out):\n",
        "        hidden = hidden.unsqueeze(1)\n",
        "        score = self.v(torch.tanh(self.W1(hidden) + self.W2(enc_out)))\n",
        "        attention_weights = torch.softmax(score, dim=1)\n",
        "        context_vector = torch.sum(attention_weights * enc_out, dim=1)\n",
        "        return context_vector, attention_weights"
      ]
    },
    {
      "cell_type": "code",
      "execution_count": 60,
      "metadata": {
        "id": "B-kd_lvxAU3Y"
      },
      "outputs": [],
      "source": [
        "import torch\n",
        "import torch.nn as nn\n",
        "\n",
        "\n",
        "class Decoder(nn.Module):\n",
        "    def __init__(self, vocab_size, embedding_dim, hidden_size, num_layers=1, dropout=0.3):\n",
        "        super(Decoder, self).__init__()\n",
        "        self.hidden_size = hidden_size\n",
        "        self.num_layers = num_layers\n",
        "        self.vocab_size = vocab_size\n",
        "\n",
        "        self.embedding = nn.Embedding(vocab_size, embedding_dim, padding_idx=0)\n",
        "\n",
        "        self.lstm = nn.LSTM(\n",
        "            embedding_dim + hidden_size,\n",
        "            hidden_size,\n",
        "            num_layers=num_layers,\n",
        "            batch_first=True,\n",
        "            dropout=dropout,\n",
        "        )\n",
        "        self.attention = Attention(hidden_size)\n",
        "        self.fc = nn.Linear(hidden_size, vocab_size)\n",
        "        self.apply(self._init_weights)\n",
        "\n",
        "    def _init_weights(self, module):\n",
        "        if isinstance(module, nn.LSTM):\n",
        "            for name, param in module.named_parameters():\n",
        "                if \"weight\" in name:\n",
        "                    nn.init.xavier_uniform_(param)\n",
        "                elif \"bias\" in name:\n",
        "                    nn.init.zeros_(param)\n",
        "\n",
        "    def forward(self, x, hidden, cell, encoder_output):\n",
        "        attention_vector, _ = self.attention(hidden[0], encoder_output)\n",
        "        x = self.embedding(x)\n",
        "        x = torch.cat((attention_vector, x), dim=-1)\n",
        "        x = x.unsqueeze(1)\n",
        "        output, (hidden, cell) = self.lstm(x, (hidden, cell))\n",
        "        output = self.fc(output)\n",
        "        return output, hidden, cell"
      ]
    },
    {
      "cell_type": "code",
      "execution_count": 57,
      "metadata": {
        "id": "-pWuqe9Fvw4o"
      },
      "outputs": [],
      "source": [
        "import torch.nn as nn\n",
        "import torch\n",
        "import random\n",
        "\n",
        "class Seq2Seq(nn.Module):\n",
        "    def __init__(self, encoder, decoder, vocab_size, teacher_forcing_ratio=0.5):\n",
        "        super(Seq2Seq, self).__init__()\n",
        "        self.encoder = encoder\n",
        "        self.decoder = decoder\n",
        "        self.vocab_size = vocab_size\n",
        "        self.teacher_forcing_ratio = teacher_forcing_ratio\n",
        "\n",
        "    def forward(self, src, trg):\n",
        "        enc_out, hidden, cell = self.encoder(src)\n",
        "        outputs = torch.zeros(trg.shape[0], trg.shape[1], self.decoder.vocab_size).to(\"cuda\")\n",
        "        x = trg[:, 0]\n",
        "        for t in range(1, trg.shape[1]):\n",
        "            output, hidden, cell = self.decoder(x, hidden, cell, enc_out)\n",
        "            output = output.squeeze(1)\n",
        "            outputs[:, t, :] = output\n",
        "            use_teacher_forcing = random.random() < self.teacher_forcing_ratio\n",
        "            x = trg[:, t] if use_teacher_forcing else output.argmax(dim=1)\n",
        "\n",
        "        return outputs\n",
        "    \n",
        "    def predict(self, src):\n",
        "        enc_out, hidden, cell = self.encoder(src)\n",
        "        outputs = torch.zeros(src.shape[0], src.shape[1], self.decoder.vocab_size).to(\"cuda\")\n",
        "        x = src[:, 0]\n",
        "        for i in range(1, src.shape[1]):\n",
        "            output, hidden, cell = self.decoder(x, hidden, cell, enc_out)\n",
        "            output = output.squeeze(1)\n",
        "            outputs[:, i, :] = output\n",
        "            x = output.argmax(dim=1)\n",
        "        \n",
        "        return outputs"
      ]
    },
    {
      "cell_type": "code",
      "execution_count": 15,
      "metadata": {
        "id": "oZnO_wztAU3Y"
      },
      "outputs": [],
      "source": [
        "def train(\n",
        "        model,\n",
        "        train_loader,\n",
        "        test_loader,\n",
        "        optimizer,\n",
        "        criterion,\n",
        "        device,\n",
        "        scheduler, \n",
        "        num_epochs,\n",
        "    ):\n",
        "        prev_lr = optimizer.param_groups[0][\"lr\"]\n",
        "        for epoch in range(num_epochs):\n",
        "            print(f\"\\nEpoch {epoch+1}/{num_epochs}\")\n",
        "            model.encoder.train()\n",
        "            model.decoder.train()\n",
        "            epoch_loss = 0\n",
        "            epoch_acc = 0\n",
        "            progress_bar = tqdm(train_loader, desc=\"Training\", leave=False)\n",
        "\n",
        "            for src, trg in progress_bar:\n",
        "                src, trg = src.to(device), trg.to(device)\n",
        "                optimizer.zero_grad()\n",
        "                outputs = model(src, trg)\n",
        "                loss = criterion(\n",
        "                    outputs[:, 1:].reshape(-1, model.vocab_size), trg[:, 1:].reshape(-1)\n",
        "                )\n",
        "                loss.backward()\n",
        "                optimizer.step()\n",
        "\n",
        "                epoch_loss += loss.item()\n",
        "\n",
        "                preds = outputs.argmax(dim=2)\n",
        "                correct = (preds == trg).float().sum().item()\n",
        "                total = trg.numel()\n",
        "                batch_acc = correct / total\n",
        "                epoch_acc += batch_acc\n",
        "\n",
        "                progress_bar.set_postfix(\n",
        "                    loss=f\"{loss.item():.4f}\", acc=f\"{batch_acc:.4f}\"\n",
        "                )\n",
        "\n",
        "            train_loss = epoch_loss / len(train_loader)\n",
        "            train_acc = epoch_acc / len(train_loader)\n",
        "\n",
        "            # ---------------- VALIDATION ---------------- #\n",
        "            model.encoder.eval()\n",
        "            model.decoder.eval()\n",
        "            val_epoch_loss = 0\n",
        "            val_epoch_acc = 0\n",
        "            progress_bar = tqdm(test_loader, desc=\"Validating\", leave=False)\n",
        "\n",
        "            with torch.no_grad():\n",
        "                for src, trg in progress_bar:\n",
        "                    src, trg = src.to(device), trg.to(device)\n",
        "                    outputs = model(src, trg)\n",
        "                    loss = criterion(\n",
        "                        outputs[:, 1:].reshape(-1, model.vocab_size),\n",
        "                        trg[:, 1:].reshape(-1),\n",
        "                    )\n",
        "                    val_epoch_loss += loss.item()\n",
        "\n",
        "                    preds = outputs.argmax(dim=2)\n",
        "                    correct = (preds == trg).float().sum().item()\n",
        "                    total = trg.numel()\n",
        "                    batch_acc = correct / total\n",
        "                    val_epoch_acc += batch_acc\n",
        "\n",
        "                    progress_bar.set_postfix(\n",
        "                        loss=f\"{loss.item():.4f}\", acc=f\"{batch_acc:.4f}\"\n",
        "                    )\n",
        "\n",
        "            val_loss = val_epoch_loss / len(test_loader)\n",
        "            val_acc = val_epoch_acc / len(test_loader)\n",
        "            print(\n",
        "                f\"Train loss : {train_loss}, Train accuracy : {train_acc}, Val_loss : {val_loss}, val accuracy : {val_acc}\"\n",
        "            )\n",
        "            scheduler.step(val_loss)\n",
        "            if scheduler.get_last_lr()[0] < prev_lr:\n",
        "                prev_lr = scheduler.get_last_lr()[0]\n",
        "                print(f\"Encoder learning rate decreased to {prev_lr}\")\n",
        "        return train_loss, train_acc, val_loss, val_acc"
      ]
    },
    {
      "cell_type": "code",
      "execution_count": 18,
      "metadata": {
        "id": "rXj3XkiAAU3a"
      },
      "outputs": [
        {
          "name": "stderr",
          "output_type": "stream",
          "text": [
            "/home/shusrith/projects/torch/lib/python3.12/site-packages/torch/nn/modules/rnn.py:123: UserWarning: dropout option adds dropout after all but last recurrent layer, so non-zero dropout expects num_layers greater than 1, but got dropout=0.3 and num_layers=1\n",
            "  warnings.warn(\n"
          ]
        }
      ],
      "source": [
        "import torch\n",
        "import torch.nn as nn\n",
        "import torch.optim as optim\n",
        "from tqdm import tqdm\n",
        "\n",
        "device = torch.device(\"cuda\" if torch.cuda.is_available() else \"cpu\")\n",
        "\n",
        "vocab_size = len(vocab)\n",
        "embedding_dim = 256\n",
        "hidden_size = 32\n",
        "encoder = Encoder(vocab_size, embedding_dim, hidden_size).to(device)\n",
        "decoder = Decoder(vocab_size, embedding_dim, hidden_size).to(device)\n",
        "seq2seq = Seq2Seq(encoder, decoder, vocab_size).to(device)\n",
        "criterion = nn.CrossEntropyLoss(ignore_index=0)\n",
        "optimizer = optim.Adam(seq2seq.parameters(), lr=0.001, weight_decay=1e-5)\n",
        "scheduler = optim.lr_scheduler.ReduceLROnPlateau(\n",
        "    optimizer, mode=\"min\", factor=0.5, patience=2\n",
        ")"
      ]
    },
    {
      "cell_type": "code",
      "execution_count": 21,
      "metadata": {
        "colab": {
          "base_uri": "https://localhost:8080/",
          "height": 398
        },
        "id": "wsk2HEv5AU3a",
        "outputId": "3018e54b-2be5-411e-f471-b6f8e41ac256"
      },
      "outputs": [
        {
          "name": "stdout",
          "output_type": "stream",
          "text": [
            "\n",
            "Epoch 1/30\n"
          ]
        },
        {
          "name": "stderr",
          "output_type": "stream",
          "text": [
            "                                                                                      \r"
          ]
        },
        {
          "name": "stdout",
          "output_type": "stream",
          "text": [
            "Train loss : 5.960518540859833, Train accuracy : 0.0871590019917484, Val_loss : 5.336239510932855, val accuracy : 0.10713764441986229\n",
            "\n",
            "Epoch 2/30\n"
          ]
        },
        {
          "name": "stderr",
          "output_type": "stream",
          "text": [
            "                                                                                      \r"
          ]
        },
        {
          "name": "stdout",
          "output_type": "stream",
          "text": [
            "Train loss : 5.189315698821474, Train accuracy : 0.11342740788163329, Val_loss : 5.094479389950237, val accuracy : 0.11883526917404125\n",
            "\n",
            "Epoch 3/30\n"
          ]
        },
        {
          "name": "stderr",
          "output_type": "stream",
          "text": [
            "                                                                                      \r"
          ]
        },
        {
          "name": "stdout",
          "output_type": "stream",
          "text": [
            "Train loss : 4.965414310997488, Train accuracy : 0.12498944106558531, Val_loss : 4.9100702041018325, val accuracy : 0.1276790652654867\n",
            "\n",
            "Epoch 4/30\n"
          ]
        },
        {
          "name": "stderr",
          "output_type": "stream",
          "text": [
            "                                                                                      \r"
          ]
        },
        {
          "name": "stdout",
          "output_type": "stream",
          "text": [
            "Train loss : 4.778432626272439, Train accuracy : 0.13288141094038974, Val_loss : 4.7241049530231844, val accuracy : 0.13611956120943944\n",
            "\n",
            "Epoch 5/30\n"
          ]
        },
        {
          "name": "stderr",
          "output_type": "stream",
          "text": [
            "                                                                                      \r"
          ]
        },
        {
          "name": "stdout",
          "output_type": "stream",
          "text": [
            "Train loss : 4.616845333621994, Train accuracy : 0.13907783824157055, Val_loss : 4.598010858603283, val accuracy : 0.1418176161504425\n",
            "\n",
            "Epoch 6/30\n"
          ]
        },
        {
          "name": "stderr",
          "output_type": "stream",
          "text": [
            "                                                                                      \r"
          ]
        },
        {
          "name": "stdout",
          "output_type": "stream",
          "text": [
            "Train loss : 4.492959430367327, Train accuracy : 0.14473965002134034, Val_loss : 4.477366806131549, val accuracy : 0.14693952802359891\n",
            "\n",
            "Epoch 7/30\n"
          ]
        },
        {
          "name": "stderr",
          "output_type": "stream",
          "text": [
            "                                                                                      \r"
          ]
        },
        {
          "name": "stdout",
          "output_type": "stream",
          "text": [
            "Train loss : 4.355827639563898, Train accuracy : 0.15152293178261506, Val_loss : 4.356520218131816, val accuracy : 0.1539300639134711\n",
            "\n",
            "Epoch 8/30\n"
          ]
        },
        {
          "name": "stderr",
          "output_type": "stream",
          "text": [
            "                                                                                      \r"
          ]
        },
        {
          "name": "stdout",
          "output_type": "stream",
          "text": [
            "Train loss : 4.217527968935411, Train accuracy : 0.15946991926305293, Val_loss : 4.25173730238349, val accuracy : 0.15930163778269424\n",
            "\n",
            "Epoch 9/30\n"
          ]
        },
        {
          "name": "stderr",
          "output_type": "stream",
          "text": [
            "                                                                                      \r"
          ]
        },
        {
          "name": "stdout",
          "output_type": "stream",
          "text": [
            "Train loss : 4.083576660608054, Train accuracy : 0.16616928528240157, Val_loss : 4.129287631110808, val accuracy : 0.1662076726892823\n",
            "\n",
            "Epoch 10/30\n"
          ]
        },
        {
          "name": "stderr",
          "output_type": "stream",
          "text": [
            "                                                                                      \r"
          ]
        },
        {
          "name": "stdout",
          "output_type": "stream",
          "text": [
            "Train loss : 3.9665899685799846, Train accuracy : 0.17255688486982498, Val_loss : 4.031422255313502, val accuracy : 0.1715907694198624\n",
            "\n",
            "Epoch 11/30\n"
          ]
        },
        {
          "name": "stderr",
          "output_type": "stream",
          "text": [
            "                                                                                      \r"
          ]
        },
        {
          "name": "stdout",
          "output_type": "stream",
          "text": [
            "Train loss : 3.8494290325614156, Train accuracy : 0.17900950526390622, Val_loss : 3.9148150714097825, val accuracy : 0.17883480825958697\n",
            "\n",
            "Epoch 12/30\n"
          ]
        },
        {
          "name": "stderr",
          "output_type": "stream",
          "text": [
            "                                                                                      \r"
          ]
        },
        {
          "name": "stdout",
          "output_type": "stream",
          "text": [
            "Train loss : 3.745528217772363, Train accuracy : 0.18488360719874802, Val_loss : 3.843092714790749, val accuracy : 0.18279675208947896\n",
            "\n",
            "Epoch 13/30\n"
          ]
        },
        {
          "name": "stderr",
          "output_type": "stream",
          "text": [
            "                                                                                      \r"
          ]
        },
        {
          "name": "stdout",
          "output_type": "stream",
          "text": [
            "Train loss : 3.644472936967271, Train accuracy : 0.1905732056480296, Val_loss : 3.7494146074868935, val accuracy : 0.18808190449852502\n",
            "\n",
            "Epoch 14/30\n"
          ]
        },
        {
          "name": "stderr",
          "output_type": "stream",
          "text": [
            "                                                                                      \r"
          ]
        },
        {
          "name": "stdout",
          "output_type": "stream",
          "text": [
            "Train loss : 3.548572361087677, Train accuracy : 0.19656123292787003, Val_loss : 3.6809187747735894, val accuracy : 0.19241065941494595\n",
            "\n",
            "Epoch 15/30\n"
          ]
        },
        {
          "name": "stderr",
          "output_type": "stream",
          "text": [
            "                                                                                      \r"
          ]
        },
        {
          "name": "stdout",
          "output_type": "stream",
          "text": [
            "Train loss : 3.4618392753845293, Train accuracy : 0.20161396091193634, Val_loss : 3.593590916785519, val accuracy : 0.1985926745329401\n",
            "\n",
            "Epoch 16/30\n"
          ]
        },
        {
          "name": "stderr",
          "output_type": "stream",
          "text": [
            "                                                                                      \r"
          ]
        },
        {
          "name": "stdout",
          "output_type": "stream",
          "text": [
            "Train loss : 3.3753545885659975, Train accuracy : 0.2072891102930717, Val_loss : 3.5550067688511535, val accuracy : 0.20015786320059006\n",
            "\n",
            "Epoch 17/30\n"
          ]
        },
        {
          "name": "stderr",
          "output_type": "stream",
          "text": [
            "                                                                                      \r"
          ]
        },
        {
          "name": "stdout",
          "output_type": "stream",
          "text": [
            "Train loss : 3.310747859419995, Train accuracy : 0.21083969092331775, Val_loss : 3.4966375912185264, val accuracy : 0.2043310594886924\n",
            "\n",
            "Epoch 18/30\n"
          ]
        },
        {
          "name": "stderr",
          "output_type": "stream",
          "text": [
            "                                                                                      \r"
          ]
        },
        {
          "name": "stdout",
          "output_type": "stream",
          "text": [
            "Train loss : 3.2471845742224428, Train accuracy : 0.21454532116944097, Val_loss : 3.475623112864199, val accuracy : 0.2050089878318583\n",
            "\n",
            "Epoch 19/30\n"
          ]
        },
        {
          "name": "stderr",
          "output_type": "stream",
          "text": [
            "                                                                                      \r"
          ]
        },
        {
          "name": "stdout",
          "output_type": "stream",
          "text": [
            "Train loss : 3.1895247009438528, Train accuracy : 0.21808978873239443, Val_loss : 3.4111809435143936, val accuracy : 0.20878272492625366\n",
            "\n",
            "Epoch 20/30\n"
          ]
        },
        {
          "name": "stderr",
          "output_type": "stream",
          "text": [
            "                                                                                      \r"
          ]
        },
        {
          "name": "stdout",
          "output_type": "stream",
          "text": [
            "Train loss : 3.1438663701852367, Train accuracy : 0.22056446951913525, Val_loss : 3.382321795531079, val accuracy : 0.2109240566617503\n",
            "\n",
            "Epoch 21/30\n"
          ]
        },
        {
          "name": "stderr",
          "output_type": "stream",
          "text": [
            "                                                                                      \r"
          ]
        },
        {
          "name": "stdout",
          "output_type": "stream",
          "text": [
            "Train loss : 3.0735004720553545, Train accuracy : 0.2248036038198891, Val_loss : 3.32635628227639, val accuracy : 0.2146459408800393\n",
            "\n",
            "Epoch 22/30\n"
          ]
        },
        {
          "name": "stderr",
          "output_type": "stream",
          "text": [
            "                                                                                      \r"
          ]
        },
        {
          "name": "stdout",
          "output_type": "stream",
          "text": [
            "Train loss : 3.038501990131471, Train accuracy : 0.22665364027599927, Val_loss : 3.2901672610139423, val accuracy : 0.21709262844149463\n",
            "\n",
            "Epoch 23/30\n"
          ]
        },
        {
          "name": "stderr",
          "output_type": "stream",
          "text": [
            "                                                                                      \r"
          ]
        },
        {
          "name": "stdout",
          "output_type": "stream",
          "text": [
            "Train loss : 2.991333929127829, Train accuracy : 0.22989912327500328, Val_loss : 3.25958977652862, val accuracy : 0.21892476339724665\n",
            "\n",
            "Epoch 24/30\n"
          ]
        },
        {
          "name": "stderr",
          "output_type": "stream",
          "text": [
            "                                                                                      \r"
          ]
        },
        {
          "name": "stdout",
          "output_type": "stream",
          "text": [
            "Train loss : 2.9539046269220215, Train accuracy : 0.23230878325508617, Val_loss : 3.2342409739452127, val accuracy : 0.22037664392822046\n",
            "\n",
            "Epoch 25/30\n"
          ]
        },
        {
          "name": "stderr",
          "output_type": "stream",
          "text": [
            "                                                                                      \r"
          ]
        },
        {
          "name": "stdout",
          "output_type": "stream",
          "text": [
            "Train loss : 2.9158401080191365, Train accuracy : 0.234488369611609, Val_loss : 3.237603201275378, val accuracy : 0.21936647308259594\n",
            "\n",
            "Epoch 26/30\n"
          ]
        },
        {
          "name": "stderr",
          "output_type": "stream",
          "text": [
            "                                                                                      \r"
          ]
        },
        {
          "name": "stdout",
          "output_type": "stream",
          "text": [
            "Train loss : 2.8721560296267463, Train accuracy : 0.2371514440176413, Val_loss : 3.1945056324511505, val accuracy : 0.22316901733038355\n",
            "\n",
            "Epoch 27/30\n"
          ]
        },
        {
          "name": "stderr",
          "output_type": "stream",
          "text": [
            "                                                                                      \r"
          ]
        },
        {
          "name": "stdout",
          "output_type": "stream",
          "text": [
            "Train loss : 2.846466505268014, Train accuracy : 0.23880752952055775, Val_loss : 3.180774716149389, val accuracy : 0.2228579000737464\n",
            "\n",
            "Epoch 28/30\n"
          ]
        },
        {
          "name": "stderr",
          "output_type": "stream",
          "text": [
            "                                                                                      \r"
          ]
        },
        {
          "name": "stdout",
          "output_type": "stream",
          "text": [
            "Train loss : 2.8118658081059573, Train accuracy : 0.24097044387537325, Val_loss : 3.1607614038264855, val accuracy : 0.22513558566863334\n",
            "\n",
            "Epoch 29/30\n"
          ]
        },
        {
          "name": "stderr",
          "output_type": "stream",
          "text": [
            "                                                                                      \r"
          ]
        },
        {
          "name": "stdout",
          "output_type": "stream",
          "text": [
            "Train loss : 2.7890387720090937, Train accuracy : 0.2421802754659268, Val_loss : 3.1294134137904748, val accuracy : 0.22732300884955758\n",
            "\n",
            "Epoch 30/30\n"
          ]
        },
        {
          "name": "stderr",
          "output_type": "stream",
          "text": [
            "                                                                                      "
          ]
        },
        {
          "name": "stdout",
          "output_type": "stream",
          "text": [
            "Train loss : 2.7472359966224347, Train accuracy : 0.2451406672357376, Val_loss : 3.1218040801782525, val accuracy : 0.2275361817846609\n"
          ]
        },
        {
          "name": "stderr",
          "output_type": "stream",
          "text": [
            "\r"
          ]
        },
        {
          "data": {
            "text/plain": [
              "(2.7472359966224347,\n",
              " 0.2451406672357376,\n",
              " 3.1218040801782525,\n",
              " 0.2275361817846609)"
            ]
          },
          "execution_count": 21,
          "metadata": {},
          "output_type": "execute_result"
        }
      ],
      "source": [
        "import torch\n",
        "import torch.nn.functional as F\n",
        "from tqdm import tqdm\n",
        "\n",
        "train(\n",
        "    seq2seq,\n",
        "    train_loader,\n",
        "    test_loader,\n",
        "    optimizer,\n",
        "    criterion,\n",
        "    device,\n",
        "    scheduler,\n",
        "    30,\n",
        ")"
      ]
    },
    {
      "cell_type": "code",
      "execution_count": 22,
      "metadata": {
        "id": "QcRGUFEp6EXC"
      },
      "outputs": [],
      "source": [
        "torch.save(seq2seq.state_dict(), \"seq2seq30.pth\")\n",
        "torch.save(seq2seq.encoder.state_dict(), \"encoder30.pth\")\n",
        "torch.save(seq2seq.decoder.state_dict(), \"decoder30.pth\")"
      ]
    },
    {
      "cell_type": "code",
      "execution_count": 23,
      "metadata": {},
      "outputs": [
        {
          "name": "stdout",
          "output_type": "stream",
          "text": [
            "\n",
            "Epoch 1/30\n"
          ]
        },
        {
          "name": "stderr",
          "output_type": "stream",
          "text": [
            "                                                                                      \r"
          ]
        },
        {
          "name": "stdout",
          "output_type": "stream",
          "text": [
            "Train loss : 2.7337767390985035, Train accuracy : 0.2455380166097598, Val_loss : 3.1097962181125065, val accuracy : 0.22764564896755177\n",
            "\n",
            "Epoch 2/30\n"
          ]
        },
        {
          "name": "stderr",
          "output_type": "stream",
          "text": [
            "                                                                                      \r"
          ]
        },
        {
          "name": "stdout",
          "output_type": "stream",
          "text": [
            "Train loss : 2.7105355201701653, Train accuracy : 0.2469456892872388, Val_loss : 3.0924641157673523, val accuracy : 0.2291897123893805\n",
            "\n",
            "Epoch 3/30\n"
          ]
        },
        {
          "name": "stderr",
          "output_type": "stream",
          "text": [
            "                                                                                      \r"
          ]
        },
        {
          "name": "stdout",
          "output_type": "stream",
          "text": [
            "Train loss : 2.6726974009246436, Train accuracy : 0.24980327037985475, Val_loss : 3.070870278155909, val accuracy : 0.23093158493117014\n",
            "\n",
            "Epoch 4/30\n"
          ]
        },
        {
          "name": "stderr",
          "output_type": "stream",
          "text": [
            "                                                                                      \r"
          ]
        },
        {
          "name": "stdout",
          "output_type": "stream",
          "text": [
            "Train loss : 2.653861548317532, Train accuracy : 0.2509603072983357, Val_loss : 3.068830946905423, val accuracy : 0.23099688114552616\n",
            "\n",
            "Epoch 5/30\n"
          ]
        },
        {
          "name": "stderr",
          "output_type": "stream",
          "text": [
            "                                                                                      \r"
          ]
        },
        {
          "name": "stdout",
          "output_type": "stream",
          "text": [
            "Train loss : 2.6279051203123283, Train accuracy : 0.2523685357092047, Val_loss : 3.0582891744849956, val accuracy : 0.23200705199115065\n",
            "\n",
            "Epoch 6/30\n"
          ]
        },
        {
          "name": "stderr",
          "output_type": "stream",
          "text": [
            "                                                                                      \r"
          ]
        },
        {
          "name": "stdout",
          "output_type": "stream",
          "text": [
            "Train loss : 2.601602821130301, Train accuracy : 0.2541930084293643, Val_loss : 3.0400226517061215, val accuracy : 0.2322989644788594\n",
            "\n",
            "Epoch 7/30\n"
          ]
        },
        {
          "name": "stderr",
          "output_type": "stream",
          "text": [
            "                                                                                      \r"
          ]
        },
        {
          "name": "stdout",
          "output_type": "stream",
          "text": [
            "Train loss : 2.5893336084221756, Train accuracy : 0.25483765916204304, Val_loss : 3.0288528858032904, val accuracy : 0.23373932214847581\n",
            "\n",
            "Epoch 8/30\n"
          ]
        },
        {
          "name": "stderr",
          "output_type": "stream",
          "text": [
            "                                                                                      \r"
          ]
        },
        {
          "name": "stdout",
          "output_type": "stream",
          "text": [
            "Train loss : 2.562973179066227, Train accuracy : 0.256919992175274, Val_loss : 3.0355059256595847, val accuracy : 0.23309404191248764\n",
            "\n",
            "Epoch 9/30\n"
          ]
        },
        {
          "name": "stderr",
          "output_type": "stream",
          "text": [
            "                                                                                      \r"
          ]
        },
        {
          "name": "stdout",
          "output_type": "stream",
          "text": [
            "Train loss : 2.5495253427385824, Train accuracy : 0.25751462690283156, Val_loss : 3.0071438983478376, val accuracy : 0.23518736172566365\n",
            "\n",
            "Epoch 10/30\n"
          ]
        },
        {
          "name": "stderr",
          "output_type": "stream",
          "text": [
            "                                                                                      \r"
          ]
        },
        {
          "name": "stdout",
          "output_type": "stream",
          "text": [
            "Train loss : 2.5296268808093787, Train accuracy : 0.2584532605989474, Val_loss : 3.017945678888169, val accuracy : 0.23356071779744358\n",
            "\n",
            "Epoch 11/30\n"
          ]
        },
        {
          "name": "stderr",
          "output_type": "stream",
          "text": [
            "                                                                                      \r"
          ]
        },
        {
          "name": "stdout",
          "output_type": "stream",
          "text": [
            "Train loss : 2.5037665032852017, Train accuracy : 0.2605111413430076, Val_loss : 3.0067976586586607, val accuracy : 0.2342290437561456\n",
            "\n",
            "Epoch 12/30\n"
          ]
        },
        {
          "name": "stderr",
          "output_type": "stream",
          "text": [
            "                                                                                      \r"
          ]
        },
        {
          "name": "stdout",
          "output_type": "stream",
          "text": [
            "Train loss : 2.5028583130366364, Train accuracy : 0.26000042235737664, Val_loss : 3.011413564724205, val accuracy : 0.23408692846607654\n",
            "\n",
            "Epoch 13/30\n"
          ]
        },
        {
          "name": "stderr",
          "output_type": "stream",
          "text": [
            "                                                                                      \r"
          ]
        },
        {
          "name": "stdout",
          "output_type": "stream",
          "text": [
            "Train loss : 2.47970735462008, Train accuracy : 0.2618626849480722, Val_loss : 2.967962719697868, val accuracy : 0.23700989429695185\n",
            "\n",
            "Epoch 14/30\n"
          ]
        },
        {
          "name": "stderr",
          "output_type": "stream",
          "text": [
            "                                                                                      \r"
          ]
        },
        {
          "name": "stdout",
          "output_type": "stream",
          "text": [
            "Train loss : 2.466696742860059, Train accuracy : 0.2625306764831409, Val_loss : 2.989657734347656, val accuracy : 0.23588257436086524\n",
            "\n",
            "Epoch 15/30\n"
          ]
        },
        {
          "name": "stderr",
          "output_type": "stream",
          "text": [
            "                                                                                      \r"
          ]
        },
        {
          "name": "stdout",
          "output_type": "stream",
          "text": [
            "Train loss : 2.4489959748545314, Train accuracy : 0.2636360301963298, Val_loss : 2.9595712032993284, val accuracy : 0.23836383050639132\n",
            "\n",
            "Epoch 16/30\n"
          ]
        },
        {
          "name": "stderr",
          "output_type": "stream",
          "text": [
            "                                                                                      \r"
          ]
        },
        {
          "name": "stdout",
          "output_type": "stream",
          "text": [
            "Train loss : 2.435713104951397, Train accuracy : 0.26453687402190934, Val_loss : 2.9732503627253846, val accuracy : 0.2367755961160275\n",
            "\n",
            "Epoch 17/30\n"
          ]
        },
        {
          "name": "stderr",
          "output_type": "stream",
          "text": [
            "                                                                                      \r"
          ]
        },
        {
          "name": "stdout",
          "output_type": "stream",
          "text": [
            "Train loss : 2.4243873804998457, Train accuracy : 0.26480307031583433, Val_loss : 2.9798125988614244, val accuracy : 0.23666228797935124\n",
            "\n",
            "Epoch 18/30\n"
          ]
        },
        {
          "name": "stderr",
          "output_type": "stream",
          "text": [
            "                                                                                      \r"
          ]
        },
        {
          "name": "stdout",
          "output_type": "stream",
          "text": [
            "Train loss : 2.4094605630552266, Train accuracy : 0.2661662843220942, Val_loss : 2.9568658803416565, val accuracy : 0.238302375245821\n",
            "\n",
            "Epoch 19/30\n"
          ]
        },
        {
          "name": "stderr",
          "output_type": "stream",
          "text": [
            "                                                                                      \r"
          ]
        },
        {
          "name": "stdout",
          "output_type": "stream",
          "text": [
            "Train loss : 2.397628147073958, Train accuracy : 0.2665441830274578, Val_loss : 2.9447956908065662, val accuracy : 0.23850402531956738\n",
            "\n",
            "Epoch 20/30\n"
          ]
        },
        {
          "name": "stderr",
          "output_type": "stream",
          "text": [
            "                                                                                      \r"
          ]
        },
        {
          "name": "stdout",
          "output_type": "stream",
          "text": [
            "Train loss : 2.377302646026416, Train accuracy : 0.26816859172713053, Val_loss : 2.948418807139439, val accuracy : 0.23793172320550632\n",
            "\n",
            "Epoch 21/30\n"
          ]
        },
        {
          "name": "stderr",
          "output_type": "stream",
          "text": [
            "                                                                                      \r"
          ]
        },
        {
          "name": "stdout",
          "output_type": "stream",
          "text": [
            "Train loss : 2.3670908580516272, Train accuracy : 0.2688110195262483, Val_loss : 2.9374016428415755, val accuracy : 0.23900719026548678\n",
            "\n",
            "Epoch 22/30\n"
          ]
        },
        {
          "name": "stderr",
          "output_type": "stream",
          "text": [
            "                                                                                      \r"
          ]
        },
        {
          "name": "stdout",
          "output_type": "stream",
          "text": [
            "Train loss : 2.365596151535093, Train accuracy : 0.2684225618864705, Val_loss : 2.9279307274691826, val accuracy : 0.24001159968043262\n",
            "\n",
            "Epoch 23/30\n"
          ]
        },
        {
          "name": "stderr",
          "output_type": "stream",
          "text": [
            "                                                                                      \r"
          ]
        },
        {
          "name": "stdout",
          "output_type": "stream",
          "text": [
            "Train loss : 2.334854211911044, Train accuracy : 0.270720519455115, Val_loss : 2.945208973589197, val accuracy : 0.2393797627826942\n",
            "\n",
            "Epoch 24/30\n"
          ]
        },
        {
          "name": "stderr",
          "output_type": "stream",
          "text": [
            "                                                                                      \r"
          ]
        },
        {
          "name": "stdout",
          "output_type": "stream",
          "text": [
            "Train loss : 2.3394274885614763, Train accuracy : 0.2701264404609471, Val_loss : 2.90867014796333, val accuracy : 0.24177075651425767\n",
            "\n",
            "Epoch 25/30\n"
          ]
        },
        {
          "name": "stderr",
          "output_type": "stream",
          "text": [
            "                                                                                      \r"
          ]
        },
        {
          "name": "stdout",
          "output_type": "stream",
          "text": [
            "Train loss : 2.338057745434105, Train accuracy : 0.26982856736377847, Val_loss : 2.9126072636747784, val accuracy : 0.24059350417895756\n",
            "\n",
            "Epoch 26/30\n"
          ]
        },
        {
          "name": "stderr",
          "output_type": "stream",
          "text": [
            "                                                                                      \r"
          ]
        },
        {
          "name": "stdout",
          "output_type": "stream",
          "text": [
            "Train loss : 2.3172351276065566, Train accuracy : 0.2716002454118651, Val_loss : 2.9082362820616865, val accuracy : 0.24120805678466084\n",
            "\n",
            "Epoch 27/30\n"
          ]
        },
        {
          "name": "stderr",
          "output_type": "stream",
          "text": [
            "                                                                                      \r"
          ]
        },
        {
          "name": "stdout",
          "output_type": "stream",
          "text": [
            "Train loss : 2.3158076916095083, Train accuracy : 0.2713812864561099, Val_loss : 2.9068793775761024, val accuracy : 0.24168049410029493\n",
            "\n",
            "Epoch 28/30\n"
          ]
        },
        {
          "name": "stderr",
          "output_type": "stream",
          "text": [
            "                                                                                      \r"
          ]
        },
        {
          "name": "stdout",
          "output_type": "stream",
          "text": [
            "Train loss : 2.295560368655128, Train accuracy : 0.27292122368046684, Val_loss : 2.9046109798735222, val accuracy : 0.24139242256637178\n",
            "\n",
            "Epoch 29/30\n"
          ]
        },
        {
          "name": "stderr",
          "output_type": "stream",
          "text": [
            "                                                                                      \r"
          ]
        },
        {
          "name": "stdout",
          "output_type": "stream",
          "text": [
            "Train loss : 2.283323816239605, Train accuracy : 0.27380483977094894, Val_loss : 2.905179496360036, val accuracy : 0.2412656710914454\n",
            "\n",
            "Epoch 30/30\n"
          ]
        },
        {
          "name": "stderr",
          "output_type": "stream",
          "text": [
            "                                                                                      \r"
          ]
        },
        {
          "name": "stdout",
          "output_type": "stream",
          "text": [
            "Train loss : 2.2857693877934495, Train accuracy : 0.2732768930502204, Val_loss : 2.9018685606728614, val accuracy : 0.24156334500983287\n"
          ]
        }
      ],
      "source": [
        "train(\n",
        "    seq2seq,\n",
        "    train_loader,\n",
        "    test_loader,\n",
        "    optimizer,\n",
        "    criterion,\n",
        "    device,\n",
        "    scheduler,\n",
        "    30,\n",
        ")\n",
        "torch.save(seq2seq.state_dict(), \"seq2seq60.pth\")\n",
        "torch.save(seq2seq.encoder.state_dict(), \"encoder60.pth\")\n",
        "torch.save(seq2seq.decoder.state_dict(), \"decoder60.pth\")"
      ]
    },
    {
      "cell_type": "code",
      "execution_count": null,
      "metadata": {
        "colab": {
          "base_uri": "https://localhost:8080/"
        },
        "id": "TeXaQHJB9EL3",
        "outputId": "0a3f086c-9218-4e5c-aa14-dc195866737c"
      },
      "outputs": [
        {
          "data": {
            "text/plain": [
              "<All keys matched successfully>"
            ]
          },
          "execution_count": 46,
          "metadata": {},
          "output_type": "execute_result"
        }
      ],
      "source": [
        "a = Seq2Seq(encoder, decoder, vocab_size)\n",
        "a.load_state_dict(torch.load(\"seq2seq.pth\"))"
      ]
    },
    {
      "cell_type": "code",
      "execution_count": 62,
      "metadata": {},
      "outputs": [
        {
          "name": "stderr",
          "output_type": "stream",
          "text": [
            "/home/shusrith/projects/torch/lib/python3.12/site-packages/torch/nn/modules/rnn.py:123: UserWarning: dropout option adds dropout after all but last recurrent layer, so non-zero dropout expects num_layers greater than 1, but got dropout=0.3 and num_layers=1\n",
            "  warnings.warn(\n"
          ]
        },
        {
          "data": {
            "text/plain": [
              "<All keys matched successfully>"
            ]
          },
          "execution_count": 62,
          "metadata": {},
          "output_type": "execute_result"
        }
      ],
      "source": [
        "device = torch.device(\"cuda\" if torch.cuda.is_available() else \"cpu\")\n",
        "\n",
        "vocab_size = len(vocab)\n",
        "embedding_dim = 256\n",
        "hidden_size = 32\n",
        "encoder = Encoder(vocab_size, embedding_dim, hidden_size).to(device)\n",
        "decoder = Decoder(vocab_size, embedding_dim, hidden_size).to(device)\n",
        "seq2seq = Seq2Seq(encoder, decoder, vocab_size).to(device)\n",
        "seq2seq.load_state_dict(torch.load(\"seq2seq60.pth\", weights_only=True))"
      ]
    },
    {
      "cell_type": "code",
      "execution_count": 64,
      "metadata": {},
      "outputs": [
        {
          "data": {
            "text/plain": [
              "torch.Size([128, 18])"
            ]
          },
          "execution_count": 64,
          "metadata": {},
          "output_type": "execute_result"
        }
      ],
      "source": [
        "seq2seq.eval()\n",
        "# with torch.no_grad():\n",
        "a, b = next(iter(train_loader))\n",
        "a = a.to(device)\n",
        "b = b.to(device)\n",
        "with torch.no_grad():\n",
        "    x = seq2seq.predict(a)\n",
        "\n",
        "x = x.argmax(dim=2)\n",
        "x.shape"
      ]
    },
    {
      "cell_type": "code",
      "execution_count": null,
      "metadata": {},
      "outputs": [
        {
          "data": {
            "text/plain": [
              "'<PAD> era un estudiante en tiempo <EOS><EOS><EOS><EOS><EOS><EOS><EOS><EOS><EOS><EOS><EOS>'"
            ]
          },
          "execution_count": 68,
          "metadata": {},
          "output_type": "execute_result"
        }
      ],
      "source": [
        "from tokenizers import ByteLevelBPETokenizer\n",
        "tokenizer = ByteLevelBPETokenizer(\n",
        "    \"EnglishOrSpanish/vocab.json\", \"EnglishOrSpanish/merges.txt\"\n",
        ")"
      ]
    },
    {
      "cell_type": "code",
      "execution_count": 79,
      "metadata": {},
      "outputs": [
        {
          "name": "stdout",
          "output_type": "stream",
          "text": [
            "<SOS> tom debería ir a visitar a mary al hospital esta tarde <EOS><PAD><PAD><PAD><PAD>\n",
            "<PAD> tom debería ir a ver a mary en el en esta tarde <EOS><EOS><EOS><EOS>\n"
          ]
        }
      ],
      "source": [
        "print(tokenizer.decode(b.tolist()[8]))\n",
        "print(tokenizer.decode(x.tolist()[8]))"
      ]
    }
  ],
  "metadata": {
    "colab": {
      "provenance": []
    },
    "kernelspec": {
      "display_name": "Python (myenv)",
      "language": "python",
      "name": "torch"
    },
    "language_info": {
      "codemirror_mode": {
        "name": "ipython",
        "version": 3
      },
      "file_extension": ".py",
      "mimetype": "text/x-python",
      "name": "python",
      "nbconvert_exporter": "python",
      "pygments_lexer": "ipython3",
      "version": "3.12.3"
    }
  },
  "nbformat": 4,
  "nbformat_minor": 0
}
