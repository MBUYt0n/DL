{
 "cells": [
  {
   "cell_type": "code",
   "execution_count": 1,
   "id": "148bbb71",
   "metadata": {
    "execution": {
     "iopub.execute_input": "2025-02-09T13:36:31.074452Z",
     "iopub.status.busy": "2025-02-09T13:36:31.074218Z",
     "iopub.status.idle": "2025-02-09T13:36:39.947117Z",
     "shell.execute_reply": "2025-02-09T13:36:39.946441Z"
    },
    "papermill": {
     "duration": 8.877675,
     "end_time": "2025-02-09T13:36:39.948720",
     "exception": false,
     "start_time": "2025-02-09T13:36:31.071045",
     "status": "completed"
    },
    "tags": []
   },
   "outputs": [],
   "source": [
    "import torchvision.transforms as transforms\n",
    "\n",
    "transform_train = transforms.Compose(\n",
    "    [\n",
    "        transforms.RandomCrop(32, padding=4),\n",
    "        transforms.RandomHorizontalFlip(),\n",
    "        transforms.ToTensor(),\n",
    "        transforms.Normalize((0.4914, 0.4822, 0.4465), (0.2470, 0.2435, 0.2616)),\n",
    "    ]\n",
    ")\n",
    "\n",
    "transform_test = transforms.Compose(\n",
    "    [\n",
    "        transforms.ToTensor(),\n",
    "        transforms.Normalize((0.4914, 0.4822, 0.4465), (0.2470, 0.2435, 0.2616)),\n",
    "    ]\n",
    ")"
   ]
  },
  {
   "cell_type": "code",
   "execution_count": 2,
   "id": "f06308aa",
   "metadata": {
    "execution": {
     "iopub.execute_input": "2025-02-09T13:36:39.954142Z",
     "iopub.status.busy": "2025-02-09T13:36:39.953817Z",
     "iopub.status.idle": "2025-02-09T13:36:45.819131Z",
     "shell.execute_reply": "2025-02-09T13:36:45.818417Z"
    },
    "papermill": {
     "duration": 5.869314,
     "end_time": "2025-02-09T13:36:45.820583",
     "exception": false,
     "start_time": "2025-02-09T13:36:39.951269",
     "status": "completed"
    },
    "tags": []
   },
   "outputs": [
    {
     "name": "stdout",
     "output_type": "stream",
     "text": [
      "Downloading https://www.cs.toronto.edu/~kriz/cifar-10-python.tar.gz to ./data/cifar-10-python.tar.gz\n"
     ]
    },
    {
     "name": "stderr",
     "output_type": "stream",
     "text": [
      "100%|██████████| 170M/170M [00:02<00:00, 60.6MB/s]\n"
     ]
    },
    {
     "name": "stdout",
     "output_type": "stream",
     "text": [
      "Extracting ./data/cifar-10-python.tar.gz to ./data\n"
     ]
    }
   ],
   "source": [
    "import torch\n",
    "import torchvision\n",
    "train = torchvision.datasets.CIFAR10(root='./data',train=True,download=True,transform=transform_train)\n",
    "test = torchvision.datasets.CIFAR10(root='./data',train=False,download=False,transform=transform_test)"
   ]
  },
  {
   "cell_type": "code",
   "execution_count": 3,
   "id": "95632ff4",
   "metadata": {
    "execution": {
     "iopub.execute_input": "2025-02-09T13:36:45.828737Z",
     "iopub.status.busy": "2025-02-09T13:36:45.828449Z",
     "iopub.status.idle": "2025-02-09T13:36:45.832090Z",
     "shell.execute_reply": "2025-02-09T13:36:45.831462Z"
    },
    "id": "VUtKWwQOEybl",
    "papermill": {
     "duration": 0.008921,
     "end_time": "2025-02-09T13:36:45.833314",
     "exception": false,
     "start_time": "2025-02-09T13:36:45.824393",
     "status": "completed"
    },
    "tags": []
   },
   "outputs": [],
   "source": [
    "trainloader = torch.utils.data.DataLoader(train,batch_size=128,shuffle=True)\n",
    "testloader = torch.utils.data.DataLoader(test,batch_size=128,shuffle=False)"
   ]
  },
  {
   "cell_type": "code",
   "execution_count": 4,
   "id": "dd6cb4c2",
   "metadata": {
    "execution": {
     "iopub.execute_input": "2025-02-09T13:36:45.840776Z",
     "iopub.status.busy": "2025-02-09T13:36:45.840556Z",
     "iopub.status.idle": "2025-02-09T13:36:45.848708Z",
     "shell.execute_reply": "2025-02-09T13:36:45.848089Z"
    },
    "id": "jT8fOzR0Fcat",
    "papermill": {
     "duration": 0.013093,
     "end_time": "2025-02-09T13:36:45.849850",
     "exception": false,
     "start_time": "2025-02-09T13:36:45.836757",
     "status": "completed"
    },
    "tags": []
   },
   "outputs": [],
   "source": [
    "import torch.nn as nn\n",
    "\n",
    "class ResidualBlock(nn.Module):\n",
    "    def __init__(self, in_channels, out_channels, stride=1):\n",
    "        super(ResidualBlock, self).__init__()\n",
    "        self.conv1 = nn.Conv2d(\n",
    "            in_channels,\n",
    "            out_channels,\n",
    "            kernel_size=3,\n",
    "            stride=stride,\n",
    "            padding=1,\n",
    "            bias=False,\n",
    "        )\n",
    "        self.bn1 = nn.BatchNorm2d(out_channels)\n",
    "        self.conv2 = nn.Conv2d(\n",
    "            out_channels, out_channels, kernel_size=3, stride=1, padding=1, bias=False\n",
    "        )\n",
    "        self.bn2 = nn.BatchNorm2d(out_channels)\n",
    "\n",
    "        self.shortcut = nn.Sequential()\n",
    "        if stride != 1 or in_channels != out_channels:\n",
    "            self.shortcut = nn.Sequential(\n",
    "                nn.Conv2d(\n",
    "                    in_channels, out_channels, kernel_size=1, stride=stride, bias=False\n",
    "                ),\n",
    "                nn.BatchNorm2d(out_channels),\n",
    "            )\n",
    "\n",
    "    def forward(self, x):\n",
    "        out = torch.relu(self.bn1(self.conv1(x)))\n",
    "        out = self.bn2(self.conv2(out))\n",
    "        out += self.shortcut(x)  \n",
    "        return torch.relu(out)\n",
    "\n",
    "\n",
    "class CNN(nn.Module):\n",
    "    def __init__(self):\n",
    "        super(CNN, self).__init__()\n",
    "        self.conv1 = nn.Conv2d(3, 64, kernel_size=3, stride=1, padding=1, bias=False)\n",
    "        self.bn1 = nn.BatchNorm2d(64)\n",
    "\n",
    "        self.layer1 = ResidualBlock(64, 128, stride=2)\n",
    "        self.layer2 = ResidualBlock(128, 256, stride=2)\n",
    "        self.layer3 = ResidualBlock(256, 512, stride=2)\n",
    "\n",
    "        self.avg_pool = nn.AdaptiveAvgPool2d((1, 1))\n",
    "        self.fc = nn.Linear(512, 10)\n",
    "\n",
    "    def forward(self, x):\n",
    "        x = torch.relu(self.bn1(self.conv1(x)))\n",
    "        x = self.layer1(x)\n",
    "        x = self.layer2(x)\n",
    "        x = self.layer3(x)\n",
    "        x = self.avg_pool(x)\n",
    "        x = torch.flatten(x, 1)\n",
    "        return self.fc(x)"
   ]
  },
  {
   "cell_type": "code",
   "execution_count": 5,
   "id": "b4b5c1e0",
   "metadata": {
    "execution": {
     "iopub.execute_input": "2025-02-09T13:36:45.857371Z",
     "iopub.status.busy": "2025-02-09T13:36:45.857174Z",
     "iopub.status.idle": "2025-02-09T13:36:45.956120Z",
     "shell.execute_reply": "2025-02-09T13:36:45.955565Z"
    },
    "papermill": {
     "duration": 0.10397,
     "end_time": "2025-02-09T13:36:45.957238",
     "exception": false,
     "start_time": "2025-02-09T13:36:45.853268",
     "status": "completed"
    },
    "tags": []
   },
   "outputs": [],
   "source": [
    "model = CNN()"
   ]
  },
  {
   "cell_type": "code",
   "execution_count": 6,
   "id": "6a21c59d",
   "metadata": {
    "execution": {
     "iopub.execute_input": "2025-02-09T13:36:45.964874Z",
     "iopub.status.busy": "2025-02-09T13:36:45.964669Z",
     "iopub.status.idle": "2025-02-09T13:36:46.612051Z",
     "shell.execute_reply": "2025-02-09T13:36:46.611058Z"
    },
    "id": "ZVSPYUTuHaqT",
    "outputId": "831dd5ef-03bf-4f15-e602-0b1975c80a8f",
    "papermill": {
     "duration": 0.652914,
     "end_time": "2025-02-09T13:36:46.613668",
     "exception": false,
     "start_time": "2025-02-09T13:36:45.960754",
     "status": "completed"
    },
    "tags": []
   },
   "outputs": [
    {
     "name": "stdout",
     "output_type": "stream",
     "text": [
      "torch.Size([128, 3, 32, 32])\n",
      "torch.Size([128, 10])\n"
     ]
    }
   ],
   "source": [
    "with torch.no_grad():\n",
    "  a = next(iter(trainloader))\n",
    "  print(a[0].shape)\n",
    "  a = model(a[0])\n",
    "  print(a.shape)"
   ]
  },
  {
   "cell_type": "code",
   "execution_count": null,
   "id": "949b413e",
   "metadata": {
    "execution": {
     "iopub.execute_input": "2025-02-09T13:36:46.623811Z",
     "iopub.status.busy": "2025-02-09T13:36:46.623570Z",
     "iopub.status.idle": "2025-02-09T14:07:59.631918Z",
     "shell.execute_reply": "2025-02-09T14:07:59.630923Z"
    },
    "id": "vwE5V7hCHnl0",
    "outputId": "cc5e89a7-9acf-48dd-899e-f0ea5e1ade29",
    "papermill": {
     "duration": 1873.01481,
     "end_time": "2025-02-09T14:07:59.633267",
     "exception": false,
     "start_time": "2025-02-09T13:36:46.618457",
     "status": "completed"
    },
    "tags": []
   },
   "outputs": [],
   "source": [
    "from torch.utils.tensorboard import SummaryWriter\n",
    "writer = SummaryWriter()\n",
    "\n",
    "device = \"cuda\"\n",
    "loss = nn.CrossEntropyLoss()\n",
    "optimizer = torch.optim.Adam(model.parameters(), lr=0.001, weight_decay=1e-4)\n",
    "scheduler = torch.optim.lr_scheduler.ReduceLROnPlateau(optimizer, mode='min', factor=0.1, patience=10)\n",
    "model = model.to(device)\n",
    "from tqdm import tqdm\n",
    "from tqdm import tqdm\n",
    "\n",
    "from tqdm import tqdm\n",
    "lr = 0.001\n",
    "for i in range(50):\n",
    "    correct, total, running_loss = 0, 0, 0\n",
    "    train_bar = tqdm(trainloader, desc=f'Train Epoch {i}')\n",
    "\n",
    "    for image, label in train_bar:\n",
    "        image, label = image.to(device), label.to(device)\n",
    "\n",
    "        out = model(image)\n",
    "        loss_value = loss(out, label)\n",
    "\n",
    "        optimizer.zero_grad()\n",
    "        loss_value.backward()\n",
    "        optimizer.step()\n",
    "\n",
    "        predictions = out.argmax(dim=1)\n",
    "        correct += (predictions == label).sum().item()\n",
    "        total += label.size(0)\n",
    "        running_loss += loss_value.item()\n",
    "\n",
    "        train_bar.set_postfix(loss=running_loss / total, acc=100 * correct / total)\n",
    "        writer.add_scalar('Loss/train', running_loss / total, i)    \n",
    "        writer.add_scalar('Accuracy/train', 100 * correct / total, i)\n",
    "    correct, total, test_loss = 0, 0, 0\n",
    "    test_bar = tqdm(testloader, desc=f'Test Epoch {i}')\n",
    "\n",
    "    with torch.no_grad():\n",
    "        for test, test_label in test_bar:\n",
    "            test, test_label = test.to(device), test_label.to(device)\n",
    "\n",
    "            test_out = model(test)\n",
    "            loss_value = loss(test_out, test_label)\n",
    "            test_loss += loss_value.item()\n",
    "\n",
    "            predictions = test_out.argmax(dim=1)\n",
    "            correct += (predictions == test_label).sum().item()\n",
    "            total += test_label.size(0)\n",
    "\n",
    "            test_bar.set_postfix(loss=test_loss / total, acc=100 * correct / total)\n",
    "            writer.add_scalar('Loss/test', test_loss / total, i)\n",
    "            writer.add_scalar('Accuracy/test', 100 * correct / total, i)\n",
    "    scheduler.step(test_loss)\n",
    "    if optimizer.param_groups[0][\"lr\"] != lr:\n",
    "        lr = optimizer.param_groups[0][\"lr\"]\n",
    "        print(f\"Updated learning rate: {lr}\")"
   ]
  },
  {
   "cell_type": "code",
   "execution_count": 8,
   "id": "e7132730",
   "metadata": {
    "execution": {
     "iopub.execute_input": "2025-02-09T14:08:02.950035Z",
     "iopub.status.busy": "2025-02-09T14:08:02.949331Z",
     "iopub.status.idle": "2025-02-09T14:08:02.989704Z",
     "shell.execute_reply": "2025-02-09T14:08:02.988796Z"
    },
    "papermill": {
     "duration": 1.722472,
     "end_time": "2025-02-09T14:08:02.991223",
     "exception": false,
     "start_time": "2025-02-09T14:08:01.268751",
     "status": "completed"
    },
    "tags": []
   },
   "outputs": [],
   "source": [
    "torch.save(model.state_dict(), 'cifar10_cnn.pth')"
   ]
  }
 ],
 "metadata": {
  "kaggle": {
   "accelerator": "nvidiaTeslaT4",
   "dataSources": [],
   "dockerImageVersionId": 30887,
   "isGpuEnabled": true,
   "isInternetEnabled": true,
   "language": "python",
   "sourceType": "notebook"
  },
  "kernelspec": {
   "display_name": "Python 3",
   "language": "python",
   "name": "python3"
  },
  "language_info": {
   "codemirror_mode": {
    "name": "ipython",
    "version": 3
   },
   "file_extension": ".py",
   "mimetype": "text/x-python",
   "name": "python",
   "nbconvert_exporter": "python",
   "pygments_lexer": "ipython3",
   "version": "3.10.12"
  },
  "papermill": {
   "default_parameters": {},
   "duration": 1907.413803,
   "end_time": "2025-02-09T14:08:15.470720",
   "environment_variables": {},
   "exception": null,
   "input_path": "__notebook__.ipynb",
   "output_path": "__notebook__.ipynb",
   "parameters": {},
   "start_time": "2025-02-09T13:36:28.056917",
   "version": "2.6.0"
  }
 },
 "nbformat": 4,
 "nbformat_minor": 5
}
