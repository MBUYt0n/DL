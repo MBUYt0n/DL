{
 "cells": [
  {
   "cell_type": "code",
   "execution_count": null,
   "metadata": {
    "_cell_guid": "43a44ddc-6138-4f6f-9e56-cc690a04f9c5",
    "_uuid": "498320dc-3df0-493f-87f0-83a500b0af20",
    "collapsed": false,
    "execution": {
     "iopub.execute_input": "2025-03-09T12:46:44.225828Z",
     "iopub.status.busy": "2025-03-09T12:46:44.225483Z",
     "iopub.status.idle": "2025-03-09T12:46:48.275883Z",
     "shell.execute_reply": "2025-03-09T12:46:48.275132Z",
     "shell.execute_reply.started": "2025-03-09T12:46:44.225801Z"
    },
    "jupyter": {
     "outputs_hidden": false
    },
    "trusted": true
   },
   "outputs": [],
   "source": [
    "import torch\n",
    "import torch.nn as nn\n",
    "import torch.nn.functional as F\n",
    "import torch.optim as optim\n",
    "from torch.utils.data import DataLoader\n",
    "import torchvision.transforms as transforms\n",
    "import torchvision.datasets as datasets"
   ]
  },
  {
   "cell_type": "code",
   "execution_count": null,
   "metadata": {
    "_cell_guid": "c8d6c5d8-703f-4c58-90ae-2f8d97bfbe8e",
    "_uuid": "112a5cf1-c6f1-445f-9c60-bfe07b5bb96e",
    "collapsed": false,
    "execution": {
     "iopub.execute_input": "2025-03-09T12:46:48.277246Z",
     "iopub.status.busy": "2025-03-09T12:46:48.276893Z",
     "iopub.status.idle": "2025-03-09T12:46:48.285599Z",
     "shell.execute_reply": "2025-03-09T12:46:48.284792Z",
     "shell.execute_reply.started": "2025-03-09T12:46:48.277213Z"
    },
    "jupyter": {
     "outputs_hidden": false
    },
    "trusted": true
   },
   "outputs": [],
   "source": [
    "class ResidualBlock(nn.Module):\n",
    "    def __init__(self, in_channels, out_channels, stride=1):\n",
    "        super(ResidualBlock, self).__init__()\n",
    "        self.conv1 = nn.Conv2d(in_channels, out_channels, kernel_size=3, stride=stride, padding=1, bias=False)\n",
    "        self.bn1 = nn.BatchNorm2d(out_channels)\n",
    "        self.conv2 = nn.Conv2d(out_channels, out_channels, kernel_size=3, stride=1, padding=1, bias=False)\n",
    "        self.bn2 = nn.BatchNorm2d(out_channels)\n",
    "\n",
    "        self.shortcut = nn.Sequential()\n",
    "        if stride != 1 or in_channels != out_channels:\n",
    "            self.shortcut = nn.Sequential(\n",
    "                nn.Conv2d(in_channels, out_channels, kernel_size=1, stride=stride, bias=False),\n",
    "                nn.BatchNorm2d(out_channels),\n",
    "            )\n",
    "\n",
    "    def forward(self, x):\n",
    "        out = torch.relu(self.bn1(self.conv1(x)))\n",
    "        out = self.bn2(self.conv2(out))\n",
    "        out += self.shortcut(x)\n",
    "        return torch.relu(out)\n",
    "\n",
    "class CNN(nn.Module):\n",
    "    def __init__(self):\n",
    "        super(CNN, self).__init__()\n",
    "        self.conv1 = nn.Conv2d(3, 64, kernel_size=3, stride=1, padding=1, bias=False)\n",
    "        self.bn1 = nn.BatchNorm2d(64)\n",
    "        self.layer1 = ResidualBlock(64, 128, stride=2)\n",
    "        self.layer2 = ResidualBlock(128, 256, stride=2)\n",
    "        self.layer3 = ResidualBlock(256, 512, stride=2)\n",
    "        self.avg_pool = nn.AdaptiveAvgPool2d((1, 1))\n",
    "        self.fc = nn.Linear(512, 10)\n",
    "\n",
    "    def forward(self, x):\n",
    "        x = torch.relu(self.bn1(self.conv1(x)))\n",
    "        x = self.layer1(x)\n",
    "        x = self.layer2(x)\n",
    "        x = self.layer3(x)\n",
    "        x = self.avg_pool(x)\n",
    "        x = torch.flatten(x, 1)\n",
    "        return self.fc(x)"
   ]
  },
  {
   "cell_type": "code",
   "execution_count": null,
   "metadata": {
    "_cell_guid": "6afb07f0-5e8b-4a9b-921f-845efb49bfba",
    "_uuid": "3927ac3c-554b-4acd-b818-985a53306234",
    "collapsed": false,
    "execution": {
     "iopub.execute_input": "2025-03-09T12:46:48.287329Z",
     "iopub.status.busy": "2025-03-09T12:46:48.286982Z",
     "iopub.status.idle": "2025-03-09T12:46:48.306869Z",
     "shell.execute_reply": "2025-03-09T12:46:48.306215Z",
     "shell.execute_reply.started": "2025-03-09T12:46:48.287293Z"
    },
    "jupyter": {
     "outputs_hidden": false
    },
    "trusted": true
   },
   "outputs": [],
   "source": [
    "def softmax_with_temperature(logits, T):\n",
    "    \"\"\"Apply softmax with temperature scaling.\"\"\"\n",
    "    return F.softmax(logits / T, dim=1)\n",
    "\n",
    "class DistillationLoss(nn.Module):\n",
    "    \"\"\"Knowledge Distillation Loss using KL Divergence.\"\"\"\n",
    "    def __init__(self, T):\n",
    "        super(DistillationLoss, self).__init__()\n",
    "        self.T = T\n",
    "\n",
    "    def forward(self, student_logits, teacher_probs):\n",
    "        student_probs = F.log_softmax(student_logits / self.T, dim=1)\n",
    "        return F.kl_div(student_probs, teacher_probs, reduction=\"batchmean\") * (self.T ** 2)"
   ]
  },
  {
   "cell_type": "code",
   "execution_count": null,
   "metadata": {
    "_cell_guid": "b11d1535-0837-45c2-87d6-e0251b841a0a",
    "_uuid": "373b66c0-66a2-4c95-bce7-32a785a7d814",
    "collapsed": false,
    "execution": {
     "iopub.execute_input": "2025-03-09T12:46:56.790091Z",
     "iopub.status.busy": "2025-03-09T12:46:56.789790Z",
     "iopub.status.idle": "2025-03-09T12:47:03.745985Z",
     "shell.execute_reply": "2025-03-09T12:47:03.745069Z",
     "shell.execute_reply.started": "2025-03-09T12:46:56.790070Z"
    },
    "jupyter": {
     "outputs_hidden": false
    },
    "trusted": true
   },
   "outputs": [],
   "source": [
    "transform = transforms.Compose([transforms.ToTensor(), transforms.Normalize((0.5,), (0.5,))])\n",
    "\n",
    "train = datasets.CIFAR10(root=\"./data\", train=True, transform=transform, download=True)\n",
    "train_loader = DataLoader(train, batch_size=64, shuffle=True)\n",
    "\n",
    "test_dataset = datasets.CIFAR10(root=\"./data\", train=False, transform=transform, download=True)\n",
    "test_loader = DataLoader(test_dataset, batch_size=64, shuffle=False)"
   ]
  },
  {
   "cell_type": "code",
   "execution_count": null,
   "metadata": {
    "_cell_guid": "bac50eba-2ba8-4f20-85d2-418827c8e45d",
    "_uuid": "09ff0e03-aa20-4a79-8280-9db1bd4bd298",
    "collapsed": false,
    "execution": {
     "iopub.execute_input": "2025-03-09T12:47:57.671602Z",
     "iopub.status.busy": "2025-03-09T12:47:57.671237Z",
     "iopub.status.idle": "2025-03-09T12:47:57.721710Z",
     "shell.execute_reply": "2025-03-09T12:47:57.720844Z",
     "shell.execute_reply.started": "2025-03-09T12:47:57.671574Z"
    },
    "jupyter": {
     "outputs_hidden": false
    },
    "trusted": true
   },
   "outputs": [],
   "source": [
    "device = torch.device(\"cuda\" if torch.cuda.is_available() else \"cpu\")\n",
    "teacher_model = CNN().to(device)\n",
    "optimizer = optim.Adam(teacher_model.parameters(), lr=0.001)\n",
    "criterion = nn.CrossEntropyLoss()"
   ]
  },
  {
   "cell_type": "code",
   "execution_count": null,
   "metadata": {
    "_cell_guid": "0b79a51b-a152-47da-88db-099eba9920a5",
    "_uuid": "8ef65a49-21e2-4c21-bdb2-68b8317d489b",
    "collapsed": false,
    "execution": {
     "iopub.execute_input": "2025-03-09T16:31:48.284741Z",
     "iopub.status.busy": "2025-03-09T16:31:48.284532Z",
     "iopub.status.idle": "2025-03-09T16:31:48.357423Z",
     "shell.execute_reply": "2025-03-09T16:31:48.356262Z",
     "shell.execute_reply.started": "2025-03-09T16:31:48.284722Z"
    },
    "jupyter": {
     "outputs_hidden": false
    },
    "trusted": true
   },
   "outputs": [],
   "source": [
    "teacher_model.load_state_dict(torch.load(\"cifar10_cnn.pth\", map_location=device))\n",
    "teacher_model.eval()\n",
    "print(\"Pretrained Teacher Model Loaded Successfully.\")"
   ]
  },
  {
   "cell_type": "code",
   "execution_count": null,
   "metadata": {
    "_cell_guid": "9d626514-a00b-49e8-ac0d-bbe56a9a0d70",
    "_uuid": "abbe0109-a9dc-4071-9de6-5caed9eb1f2f",
    "collapsed": false,
    "execution": {
     "iopub.execute_input": "2025-03-09T12:49:12.017278Z",
     "iopub.status.busy": "2025-03-09T12:49:12.016984Z",
     "iopub.status.idle": "2025-03-09T12:49:23.652900Z",
     "shell.execute_reply": "2025-03-09T12:49:23.651928Z",
     "shell.execute_reply.started": "2025-03-09T12:49:12.017255Z"
    },
    "jupyter": {
     "outputs_hidden": false
    },
    "trusted": true
   },
   "outputs": [],
   "source": [
    "T = 5.0  \n",
    "teacher_model.eval()\n",
    "\n",
    "soft_labels_list = []\n",
    "with torch.no_grad():\n",
    "    for inputs, _ in train_loader:\n",
    "        inputs = inputs.to(device)\n",
    "        logits = teacher_model(inputs)\n",
    "        soft_labels_list.append(softmax_with_temperature(logits, T))\n",
    "\n",
    "soft_labels = torch.cat(soft_labels_list)  \n",
    "print(\"Soft Labels Generated.\")"
   ]
  },
  {
   "cell_type": "code",
   "execution_count": null,
   "metadata": {
    "_cell_guid": "6703d4f1-406c-4042-a0b3-ad4c4f066b6f",
    "_uuid": "4b7369e0-240b-4f72-b66e-4446a4e4901e",
    "collapsed": false,
    "execution": {
     "execution_failed": "2025-03-09T12:58:10.734Z",
     "iopub.execute_input": "2025-03-09T12:54:15.005305Z",
     "iopub.status.busy": "2025-03-09T12:54:15.004979Z"
    },
    "jupyter": {
     "outputs_hidden": false
    },
    "trusted": true
   },
   "outputs": [],
   "source": [
    "student_model = CNN().to(device)\n",
    "optimizer = optim.Adam(student_model.parameters(), lr=0.001)\n",
    "criterion = DistillationLoss(T)\n",
    "\n",
    "print(\"Training Student Model...\")\n",
    "for epoch in range(20):\n",
    "    student_model.train()\n",
    "    total_loss = 0\n",
    "    correct = 0\n",
    "    total = 0\n",
    "\n",
    "    for (inputs, labels), soft_targets in zip(train_loader, soft_labels):\n",
    "        inputs, labels, soft_targets = inputs.to(device), labels.to(device), soft_targets.to(device)\n",
    "        \n",
    "        optimizer.zero_grad()\n",
    "        student_logits = student_model(inputs)\n",
    "        loss = criterion(student_logits, soft_targets)\n",
    "        loss.backward()\n",
    "        optimizer.step()\n",
    "\n",
    "        total_loss += loss.item()\n",
    "\n",
    "        _, predicted = torch.max(student_logits, 1)\n",
    "        correct += (predicted == labels).sum().item()\n",
    "        total += labels.size(0)\n",
    "\n",
    "    epoch_loss = total_loss / len(train_loader)\n",
    "    epoch_acc = 100 * correct / total\n",
    "\n",
    "    print(f\"Epoch {epoch+1}: Loss = {epoch_loss:.4f}, Accuracy = {epoch_acc:.2f}%\")\n",
    "\n",
    "torch.save(student_model.state_dict(), \"/kaggle/working/student_model.pth\")\n",
    "print(\"Student Model Trained & Saved.\")"
   ]
  },
  {
   "cell_type": "code",
   "execution_count": null,
   "metadata": {
    "_cell_guid": "a7dd44b8-af22-4b78-9d5a-601e51314685",
    "_uuid": "ea13b2f3-7ff3-455b-8f41-e2ca67bf1bbf",
    "collapsed": false,
    "execution": {
     "iopub.execute_input": "2025-03-09T12:47:17.492404Z",
     "iopub.status.busy": "2025-03-09T12:47:17.492114Z",
     "iopub.status.idle": "2025-03-09T12:47:19.492783Z",
     "shell.execute_reply": "2025-03-09T12:47:19.492056Z",
     "shell.execute_reply.started": "2025-03-09T12:47:17.492381Z"
    },
    "jupyter": {
     "outputs_hidden": false
    },
    "trusted": true
   },
   "outputs": [],
   "source": [
    "import random\n",
    "\n",
    "target_class = torch.tensor([9], dtype=torch.long, device=\"cuda\")\n",
    "student_model = student_model.to(\"cuda\")\n",
    "student_model.eval()\n",
    "c = 0\n",
    "l = 0\n",
    "for i in range(100):\n",
    "    j = random.randint(1, len(train))\n",
    "    input_image = train[j][0].unsqueeze(0).to(\"cuda\")\n",
    "    input_image = input_image.detach().clone()\n",
    "    input_image.requires_grad_(True)\n",
    "    output = student_model(input_image)\n",
    "    loss = -torch.nn.functional.cross_entropy(output, target_class)\n",
    "\n",
    "    student_model.zero_grad()\n",
    "    loss.backward()\n",
    "\n",
    "    with torch.no_grad():\n",
    "        input_image += 0.1 * input_image.grad.sign()\n",
    "        input_image.clamp_(0, 1)\n",
    "    input_image.grad.zero_()\n",
    "    a = student_model(input_image)\n",
    "    pred = torch.argmax(torch.nn.functional.softmax(a, dim=1)).item()\n",
    "    if pred == train[j][1]:\n",
    "        c += 1\n",
    "    l += loss.item()\n",
    "print(c / 100)\n",
    "print(\"average loss\", l / 100)"
   ]
  },
  {
   "cell_type": "code",
   "execution_count": null,
   "metadata": {
    "_cell_guid": "ef30df6a-8986-49d6-b4ea-6dfdcaf87e57",
    "_uuid": "c5c45593-e20f-464e-adf4-98d01c87bd5c",
    "collapsed": false,
    "execution": {
     "iopub.execute_input": "2025-03-09T12:47:24.466944Z",
     "iopub.status.busy": "2025-03-09T12:47:24.466654Z",
     "iopub.status.idle": "2025-03-09T12:47:24.770786Z",
     "shell.execute_reply": "2025-03-09T12:47:24.769914Z",
     "shell.execute_reply.started": "2025-03-09T12:47:24.466922Z"
    },
    "jupyter": {
     "outputs_hidden": false
    },
    "trusted": true
   },
   "outputs": [],
   "source": [
    "import matplotlib.pyplot as plt\n",
    "import numpy as np\n",
    "\n",
    "fig, axes = plt.subplots(1, 2, figsize=(10, 5))\n",
    "axes[0].imshow(input_image.detach().cpu()[0].permute(1, 2, 0).numpy())\n",
    "axes[0].axis('off')\n",
    "axes[0].set_title(\"Image 1\")\n",
    "\n",
    "axes[1].imshow(np.transpose(train[j][0], (1, 2, 0)))\n",
    "axes[1].axis('off')\n",
    "axes[1].set_title(\"Image 2\")\n",
    "\n",
    "plt.tight_layout()\n",
    "plt.show()"
   ]
  },
  {
   "cell_type": "code",
   "execution_count": null,
   "metadata": {
    "_cell_guid": "429b9e90-d6f0-4ffc-b0cf-f880715e8575",
    "_uuid": "2811b59f-a3cc-45c3-8c6f-114b8dca780b",
    "collapsed": false,
    "jupyter": {
     "outputs_hidden": false
    },
    "trusted": true
   },
   "outputs": [],
   "source": [
    "plt.imshow(input_image.detach().cpu()[0].permute(1, 2, 0) - np.transpose(train[j][0], (1, 2, 0)))\n",
    "plt.show()"
   ]
  }
 ],
 "metadata": {
  "kaggle": {
   "accelerator": "nvidiaTeslaT4",
   "dataSources": [
    {
     "isSourceIdPinned": true,
     "modelId": 254890,
     "modelInstanceId": 233166,
     "sourceId": 272341,
     "sourceType": "modelInstanceVersion"
    },
    {
     "isSourceIdPinned": true,
     "modelId": 261627,
     "modelInstanceId": 239973,
     "sourceId": 280122,
     "sourceType": "modelInstanceVersion"
    }
   ],
   "dockerImageVersionId": 30919,
   "isGpuEnabled": true,
   "isInternetEnabled": true,
   "language": "python",
   "sourceType": "notebook"
  },
  "kernelspec": {
   "display_name": "Python 3",
   "language": "python",
   "name": "python3"
  },
  "language_info": {
   "codemirror_mode": {
    "name": "ipython",
    "version": 3
   },
   "file_extension": ".py",
   "mimetype": "text/x-python",
   "name": "python",
   "nbconvert_exporter": "python",
   "pygments_lexer": "ipython3",
   "version": "3.10.12"
  }
 },
 "nbformat": 4,
 "nbformat_minor": 4
}
