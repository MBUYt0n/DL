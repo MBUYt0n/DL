{
 "cells": [
  {
   "cell_type": "code",
   "execution_count": 1,
   "id": "148bbb71",
   "metadata": {
    "execution": {
     "iopub.execute_input": "2025-02-09T13:36:31.074452Z",
     "iopub.status.busy": "2025-02-09T13:36:31.074218Z",
     "iopub.status.idle": "2025-02-09T13:36:39.947117Z",
     "shell.execute_reply": "2025-02-09T13:36:39.946441Z"
    },
    "papermill": {
     "duration": 8.877675,
     "end_time": "2025-02-09T13:36:39.948720",
     "exception": false,
     "start_time": "2025-02-09T13:36:31.071045",
     "status": "completed"
    },
    "tags": []
   },
   "outputs": [],
   "source": [
    "import torchvision.transforms as transforms\n",
    "\n",
    "transform_train = transforms.Compose(\n",
    "    [\n",
    "        transforms.RandomCrop(32, padding=4),\n",
    "        transforms.RandomHorizontalFlip(),\n",
    "        transforms.ToTensor(),\n",
    "        transforms.Normalize((0.4914, 0.4822, 0.4465), (0.2470, 0.2435, 0.2616)),\n",
    "    ]\n",
    ")\n",
    "\n",
    "transform_test = transforms.Compose(\n",
    "    [\n",
    "        transforms.ToTensor(),\n",
    "        transforms.Normalize((0.4914, 0.4822, 0.4465), (0.2470, 0.2435, 0.2616)),\n",
    "    ]\n",
    ")"
   ]
  },
  {
   "cell_type": "code",
   "execution_count": 15,
   "id": "f06308aa",
   "metadata": {
    "execution": {
     "iopub.execute_input": "2025-02-09T13:36:39.954142Z",
     "iopub.status.busy": "2025-02-09T13:36:39.953817Z",
     "iopub.status.idle": "2025-02-09T13:36:45.819131Z",
     "shell.execute_reply": "2025-02-09T13:36:45.818417Z"
    },
    "papermill": {
     "duration": 5.869314,
     "end_time": "2025-02-09T13:36:45.820583",
     "exception": false,
     "start_time": "2025-02-09T13:36:39.951269",
     "status": "completed"
    },
    "tags": []
   },
   "outputs": [
    {
     "name": "stdout",
     "output_type": "stream",
     "text": [
      "Files already downloaded and verified\n"
     ]
    }
   ],
   "source": [
    "import torch\n",
    "import torchvision\n",
    "train = torchvision.datasets.CIFAR10(root='./data',train=True,download=True,transform=transform_train)\n",
    "test = torchvision.datasets.CIFAR10(root='./data',train=False,download=False,transform=transform_test)"
   ]
  },
  {
   "cell_type": "code",
   "execution_count": 16,
   "id": "95632ff4",
   "metadata": {
    "execution": {
     "iopub.execute_input": "2025-02-09T13:36:45.828737Z",
     "iopub.status.busy": "2025-02-09T13:36:45.828449Z",
     "iopub.status.idle": "2025-02-09T13:36:45.832090Z",
     "shell.execute_reply": "2025-02-09T13:36:45.831462Z"
    },
    "id": "VUtKWwQOEybl",
    "papermill": {
     "duration": 0.008921,
     "end_time": "2025-02-09T13:36:45.833314",
     "exception": false,
     "start_time": "2025-02-09T13:36:45.824393",
     "status": "completed"
    },
    "tags": []
   },
   "outputs": [],
   "source": [
    "trainloader = torch.utils.data.DataLoader(train, batch_size=1024,shuffle=True)\n",
    "testloader = torch.utils.data.DataLoader(test, batch_size=1024,shuffle=False)"
   ]
  },
  {
   "cell_type": "code",
   "execution_count": 7,
   "id": "dd6cb4c2",
   "metadata": {
    "execution": {
     "iopub.execute_input": "2025-02-09T13:36:45.840776Z",
     "iopub.status.busy": "2025-02-09T13:36:45.840556Z",
     "iopub.status.idle": "2025-02-09T13:36:45.848708Z",
     "shell.execute_reply": "2025-02-09T13:36:45.848089Z"
    },
    "id": "jT8fOzR0Fcat",
    "papermill": {
     "duration": 0.013093,
     "end_time": "2025-02-09T13:36:45.849850",
     "exception": false,
     "start_time": "2025-02-09T13:36:45.836757",
     "status": "completed"
    },
    "tags": []
   },
   "outputs": [],
   "source": [
    "import torch.nn as nn\n",
    "\n",
    "\n",
    "class ResidualBlock(nn.Module):\n",
    "    def __init__(self, in_channels, out_channels, stride=1):\n",
    "        super(ResidualBlock, self).__init__()\n",
    "        self.conv1 = nn.Conv2d(\n",
    "            in_channels,\n",
    "            out_channels,\n",
    "            kernel_size=3,\n",
    "            stride=stride,\n",
    "            padding=1,\n",
    "            bias=False,\n",
    "        )\n",
    "        self.bn1 = nn.BatchNorm2d(out_channels)\n",
    "        self.conv2 = nn.Conv2d(\n",
    "            out_channels, out_channels, kernel_size=3, stride=1, padding=1, bias=False\n",
    "        )\n",
    "        self.bn2 = nn.BatchNorm2d(out_channels)\n",
    "\n",
    "        self.shortcut = nn.Sequential()\n",
    "        if stride != 1 or in_channels != out_channels:\n",
    "            self.shortcut = nn.Sequential(\n",
    "                nn.Conv2d(\n",
    "                    in_channels, out_channels, kernel_size=1, stride=stride, bias=False\n",
    "                ),\n",
    "                nn.BatchNorm2d(out_channels),\n",
    "            )\n",
    "\n",
    "    def forward(self, x):\n",
    "        out = torch.relu(self.bn1(self.conv1(x)))\n",
    "        out = self.bn2(self.conv2(out))\n",
    "        out += self.shortcut(x)\n",
    "        out =  torch.relu(out)\n",
    "        return torch.functional.F.dropout(out, p=0.3, training=self.training)\n",
    "\n",
    "\n",
    "class CNN(nn.Module):\n",
    "    def __init__(self):\n",
    "        super(CNN, self).__init__()\n",
    "        self.conv1 = nn.Conv2d(3, 64, kernel_size=3, stride=1, padding=1, bias=False)\n",
    "        self.bn1 = nn.BatchNorm2d(64)\n",
    "\n",
    "        self.layer1 = ResidualBlock(64, 128, stride=2)\n",
    "        self.layer2 = ResidualBlock(128, 256, stride=2)\n",
    "        self.layer3 = ResidualBlock(256, 512, stride=2)\n",
    "        self.layer4 = ResidualBlock(512, 1024, stride=2)\n",
    "\n",
    "        self.avg_pool = nn.AdaptiveAvgPool2d((1, 1))\n",
    "        self.fc = nn.Sequential(nn.Linear(1024, 10), nn.Dropout(0.3))\n",
    "\n",
    "    def forward(self, x):\n",
    "        x = torch.relu(self.bn1(self.conv1(x)))\n",
    "        x = self.layer1(x)\n",
    "        x = self.layer2(x)\n",
    "        x = self.layer3(x)\n",
    "        x = self.layer4(x)\n",
    "        x = self.avg_pool(x)\n",
    "        x = torch.flatten(x, 1)\n",
    "        return self.fc(x)"
   ]
  },
  {
   "cell_type": "code",
   "execution_count": 24,
   "id": "b4b5c1e0",
   "metadata": {
    "execution": {
     "iopub.execute_input": "2025-02-09T13:36:45.857371Z",
     "iopub.status.busy": "2025-02-09T13:36:45.857174Z",
     "iopub.status.idle": "2025-02-09T13:36:45.956120Z",
     "shell.execute_reply": "2025-02-09T13:36:45.955565Z"
    },
    "papermill": {
     "duration": 0.10397,
     "end_time": "2025-02-09T13:36:45.957238",
     "exception": false,
     "start_time": "2025-02-09T13:36:45.853268",
     "status": "completed"
    },
    "tags": []
   },
   "outputs": [],
   "source": [
    "model = CNN()"
   ]
  },
  {
   "cell_type": "code",
   "execution_count": 20,
   "id": "6a21c59d",
   "metadata": {
    "execution": {
     "iopub.execute_input": "2025-02-09T13:36:45.964874Z",
     "iopub.status.busy": "2025-02-09T13:36:45.964669Z",
     "iopub.status.idle": "2025-02-09T13:36:46.612051Z",
     "shell.execute_reply": "2025-02-09T13:36:46.611058Z"
    },
    "id": "ZVSPYUTuHaqT",
    "outputId": "831dd5ef-03bf-4f15-e602-0b1975c80a8f",
    "papermill": {
     "duration": 0.652914,
     "end_time": "2025-02-09T13:36:46.613668",
     "exception": false,
     "start_time": "2025-02-09T13:36:45.960754",
     "status": "completed"
    },
    "tags": []
   },
   "outputs": [
    {
     "name": "stdout",
     "output_type": "stream",
     "text": [
      "torch.Size([1024, 3, 32, 32])\n",
      "torch.Size([1024, 10])\n"
     ]
    }
   ],
   "source": [
    "with torch.no_grad():\n",
    "  a = next(iter(trainloader))\n",
    "  print(a[0].shape)\n",
    "  a = model(a[0])\n",
    "  print(a.shape)"
   ]
  },
  {
   "cell_type": "code",
   "execution_count": 25,
   "id": "949b413e",
   "metadata": {
    "execution": {
     "iopub.execute_input": "2025-02-09T13:36:46.623811Z",
     "iopub.status.busy": "2025-02-09T13:36:46.623570Z",
     "iopub.status.idle": "2025-02-09T14:07:59.631918Z",
     "shell.execute_reply": "2025-02-09T14:07:59.630923Z"
    },
    "id": "vwE5V7hCHnl0",
    "outputId": "cc5e89a7-9acf-48dd-899e-f0ea5e1ade29",
    "papermill": {
     "duration": 1873.01481,
     "end_time": "2025-02-09T14:07:59.633267",
     "exception": false,
     "start_time": "2025-02-09T13:36:46.618457",
     "status": "completed"
    },
    "tags": []
   },
   "outputs": [
    {
     "name": "stderr",
     "output_type": "stream",
     "text": [
      "Train Epoch 0:   0%|          | 0/49 [00:00<?, ?it/s]"
     ]
    },
    {
     "name": "stderr",
     "output_type": "stream",
     "text": [
      "Train Epoch 0: 100%|██████████| 49/49 [00:21<00:00,  2.33it/s, acc=26.8, loss=0.00197]\n",
      "Test Epoch 0: 100%|██████████| 10/10 [00:01<00:00,  6.04it/s, acc=34.6, loss=0.0018]\n",
      "Train Epoch 1: 100%|██████████| 49/49 [00:20<00:00,  2.40it/s, acc=35.3, loss=0.00176]\n",
      "Test Epoch 1: 100%|██████████| 10/10 [00:01<00:00,  6.49it/s, acc=38.5, loss=0.00169]\n",
      "Train Epoch 2: 100%|██████████| 49/49 [00:20<00:00,  2.37it/s, acc=38.7, loss=0.00166]\n",
      "Test Epoch 2: 100%|██████████| 10/10 [00:01<00:00,  6.37it/s, acc=40.6, loss=0.00163]\n",
      "Train Epoch 3: 100%|██████████| 49/49 [00:20<00:00,  2.40it/s, acc=41.3, loss=0.00159]\n",
      "Test Epoch 3: 100%|██████████| 10/10 [00:01<00:00,  6.47it/s, acc=43.2, loss=0.00156]\n",
      "Train Epoch 4: 100%|██████████| 49/49 [00:20<00:00,  2.41it/s, acc=43.3, loss=0.00153]\n",
      "Test Epoch 4: 100%|██████████| 10/10 [00:01<00:00,  6.31it/s, acc=45.6, loss=0.0015]\n",
      "Train Epoch 5: 100%|██████████| 49/49 [00:20<00:00,  2.39it/s, acc=45.6, loss=0.00147]\n",
      "Test Epoch 5: 100%|██████████| 10/10 [00:01<00:00,  6.46it/s, acc=47.3, loss=0.00146]\n",
      "Train Epoch 6:  49%|████▉     | 24/49 [00:10<00:10,  2.37it/s, acc=47.2, loss=0.00142]\n"
     ]
    },
    {
     "ename": "KeyboardInterrupt",
     "evalue": "",
     "output_type": "error",
     "traceback": [
      "\u001b[0;31m---------------------------------------------------------------------------\u001b[0m",
      "\u001b[0;31mKeyboardInterrupt\u001b[0m                         Traceback (most recent call last)",
      "Cell \u001b[0;32mIn[25], line 16\u001b[0m\n\u001b[1;32m     13\u001b[0m correct, total, running_loss \u001b[38;5;241m=\u001b[39m \u001b[38;5;241m0\u001b[39m, \u001b[38;5;241m0\u001b[39m, \u001b[38;5;241m0\u001b[39m\n\u001b[1;32m     14\u001b[0m train_bar \u001b[38;5;241m=\u001b[39m tqdm(trainloader, desc\u001b[38;5;241m=\u001b[39m\u001b[38;5;124mf\u001b[39m\u001b[38;5;124m'\u001b[39m\u001b[38;5;124mTrain Epoch \u001b[39m\u001b[38;5;132;01m{\u001b[39;00mi\u001b[38;5;132;01m}\u001b[39;00m\u001b[38;5;124m'\u001b[39m)\n\u001b[0;32m---> 16\u001b[0m \u001b[43m\u001b[49m\u001b[38;5;28;43;01mfor\u001b[39;49;00m\u001b[43m \u001b[49m\u001b[43mimage\u001b[49m\u001b[43m,\u001b[49m\u001b[43m \u001b[49m\u001b[43mlabel\u001b[49m\u001b[43m \u001b[49m\u001b[38;5;129;43;01min\u001b[39;49;00m\u001b[43m \u001b[49m\u001b[43mtrain_bar\u001b[49m\u001b[43m:\u001b[49m\n\u001b[1;32m     17\u001b[0m \u001b[43m    \u001b[49m\u001b[43mimage\u001b[49m\u001b[43m,\u001b[49m\u001b[43m \u001b[49m\u001b[43mlabel\u001b[49m\u001b[43m \u001b[49m\u001b[38;5;241;43m=\u001b[39;49m\u001b[43m \u001b[49m\u001b[43mimage\u001b[49m\u001b[38;5;241;43m.\u001b[39;49m\u001b[43mto\u001b[49m\u001b[43m(\u001b[49m\u001b[43mdevice\u001b[49m\u001b[43m)\u001b[49m\u001b[43m,\u001b[49m\u001b[43m \u001b[49m\u001b[43mlabel\u001b[49m\u001b[38;5;241;43m.\u001b[39;49m\u001b[43mto\u001b[49m\u001b[43m(\u001b[49m\u001b[43mdevice\u001b[49m\u001b[43m)\u001b[49m\n\u001b[1;32m     19\u001b[0m \u001b[43m    \u001b[49m\u001b[43mout\u001b[49m\u001b[43m \u001b[49m\u001b[38;5;241;43m=\u001b[39;49m\u001b[43m \u001b[49m\u001b[43mmodel\u001b[49m\u001b[43m(\u001b[49m\u001b[43mimage\u001b[49m\u001b[43m)\u001b[49m\n",
      "File \u001b[0;32m~/projects/torch/lib/python3.12/site-packages/tqdm/std.py:1181\u001b[0m, in \u001b[0;36mtqdm.__iter__\u001b[0;34m(self)\u001b[0m\n\u001b[1;32m   1178\u001b[0m time \u001b[38;5;241m=\u001b[39m \u001b[38;5;28mself\u001b[39m\u001b[38;5;241m.\u001b[39m_time\n\u001b[1;32m   1180\u001b[0m \u001b[38;5;28;01mtry\u001b[39;00m:\n\u001b[0;32m-> 1181\u001b[0m \u001b[43m    \u001b[49m\u001b[38;5;28;43;01mfor\u001b[39;49;00m\u001b[43m \u001b[49m\u001b[43mobj\u001b[49m\u001b[43m \u001b[49m\u001b[38;5;129;43;01min\u001b[39;49;00m\u001b[43m \u001b[49m\u001b[43miterable\u001b[49m\u001b[43m:\u001b[49m\n\u001b[1;32m   1182\u001b[0m \u001b[43m        \u001b[49m\u001b[38;5;28;43;01myield\u001b[39;49;00m\u001b[43m \u001b[49m\u001b[43mobj\u001b[49m\n\u001b[1;32m   1183\u001b[0m \u001b[43m        \u001b[49m\u001b[38;5;66;43;03m# Update and possibly print the progressbar.\u001b[39;49;00m\n\u001b[1;32m   1184\u001b[0m \u001b[43m        \u001b[49m\u001b[38;5;66;43;03m# Note: does not call self.update(1) for speed optimisation.\u001b[39;49;00m\n",
      "File \u001b[0;32m~/projects/torch/lib/python3.12/site-packages/torch/utils/data/dataloader.py:701\u001b[0m, in \u001b[0;36m_BaseDataLoaderIter.__next__\u001b[0;34m(self)\u001b[0m\n\u001b[1;32m    698\u001b[0m \u001b[38;5;28;01mif\u001b[39;00m \u001b[38;5;28mself\u001b[39m\u001b[38;5;241m.\u001b[39m_sampler_iter \u001b[38;5;129;01mis\u001b[39;00m \u001b[38;5;28;01mNone\u001b[39;00m:\n\u001b[1;32m    699\u001b[0m     \u001b[38;5;66;03m# TODO(https://github.com/pytorch/pytorch/issues/76750)\u001b[39;00m\n\u001b[1;32m    700\u001b[0m     \u001b[38;5;28mself\u001b[39m\u001b[38;5;241m.\u001b[39m_reset()  \u001b[38;5;66;03m# type: ignore[call-arg]\u001b[39;00m\n\u001b[0;32m--> 701\u001b[0m data \u001b[38;5;241m=\u001b[39m \u001b[38;5;28;43mself\u001b[39;49m\u001b[38;5;241;43m.\u001b[39;49m\u001b[43m_next_data\u001b[49m\u001b[43m(\u001b[49m\u001b[43m)\u001b[49m\n\u001b[1;32m    702\u001b[0m \u001b[38;5;28mself\u001b[39m\u001b[38;5;241m.\u001b[39m_num_yielded \u001b[38;5;241m+\u001b[39m\u001b[38;5;241m=\u001b[39m \u001b[38;5;241m1\u001b[39m\n\u001b[1;32m    703\u001b[0m \u001b[38;5;28;01mif\u001b[39;00m (\n\u001b[1;32m    704\u001b[0m     \u001b[38;5;28mself\u001b[39m\u001b[38;5;241m.\u001b[39m_dataset_kind \u001b[38;5;241m==\u001b[39m _DatasetKind\u001b[38;5;241m.\u001b[39mIterable\n\u001b[1;32m    705\u001b[0m     \u001b[38;5;129;01mand\u001b[39;00m \u001b[38;5;28mself\u001b[39m\u001b[38;5;241m.\u001b[39m_IterableDataset_len_called \u001b[38;5;129;01mis\u001b[39;00m \u001b[38;5;129;01mnot\u001b[39;00m \u001b[38;5;28;01mNone\u001b[39;00m\n\u001b[1;32m    706\u001b[0m     \u001b[38;5;129;01mand\u001b[39;00m \u001b[38;5;28mself\u001b[39m\u001b[38;5;241m.\u001b[39m_num_yielded \u001b[38;5;241m>\u001b[39m \u001b[38;5;28mself\u001b[39m\u001b[38;5;241m.\u001b[39m_IterableDataset_len_called\n\u001b[1;32m    707\u001b[0m ):\n",
      "File \u001b[0;32m~/projects/torch/lib/python3.12/site-packages/torch/utils/data/dataloader.py:757\u001b[0m, in \u001b[0;36m_SingleProcessDataLoaderIter._next_data\u001b[0;34m(self)\u001b[0m\n\u001b[1;32m    755\u001b[0m \u001b[38;5;28;01mdef\u001b[39;00m\u001b[38;5;250m \u001b[39m\u001b[38;5;21m_next_data\u001b[39m(\u001b[38;5;28mself\u001b[39m):\n\u001b[1;32m    756\u001b[0m     index \u001b[38;5;241m=\u001b[39m \u001b[38;5;28mself\u001b[39m\u001b[38;5;241m.\u001b[39m_next_index()  \u001b[38;5;66;03m# may raise StopIteration\u001b[39;00m\n\u001b[0;32m--> 757\u001b[0m     data \u001b[38;5;241m=\u001b[39m \u001b[38;5;28;43mself\u001b[39;49m\u001b[38;5;241;43m.\u001b[39;49m\u001b[43m_dataset_fetcher\u001b[49m\u001b[38;5;241;43m.\u001b[39;49m\u001b[43mfetch\u001b[49m\u001b[43m(\u001b[49m\u001b[43mindex\u001b[49m\u001b[43m)\u001b[49m  \u001b[38;5;66;03m# may raise StopIteration\u001b[39;00m\n\u001b[1;32m    758\u001b[0m     \u001b[38;5;28;01mif\u001b[39;00m \u001b[38;5;28mself\u001b[39m\u001b[38;5;241m.\u001b[39m_pin_memory:\n\u001b[1;32m    759\u001b[0m         data \u001b[38;5;241m=\u001b[39m _utils\u001b[38;5;241m.\u001b[39mpin_memory\u001b[38;5;241m.\u001b[39mpin_memory(data, \u001b[38;5;28mself\u001b[39m\u001b[38;5;241m.\u001b[39m_pin_memory_device)\n",
      "File \u001b[0;32m~/projects/torch/lib/python3.12/site-packages/torch/utils/data/_utils/fetch.py:52\u001b[0m, in \u001b[0;36m_MapDatasetFetcher.fetch\u001b[0;34m(self, possibly_batched_index)\u001b[0m\n\u001b[1;32m     50\u001b[0m         data \u001b[38;5;241m=\u001b[39m \u001b[38;5;28mself\u001b[39m\u001b[38;5;241m.\u001b[39mdataset\u001b[38;5;241m.\u001b[39m__getitems__(possibly_batched_index)\n\u001b[1;32m     51\u001b[0m     \u001b[38;5;28;01melse\u001b[39;00m:\n\u001b[0;32m---> 52\u001b[0m         data \u001b[38;5;241m=\u001b[39m [\u001b[38;5;28;43mself\u001b[39;49m\u001b[38;5;241;43m.\u001b[39;49m\u001b[43mdataset\u001b[49m\u001b[43m[\u001b[49m\u001b[43midx\u001b[49m\u001b[43m]\u001b[49m \u001b[38;5;28;01mfor\u001b[39;00m idx \u001b[38;5;129;01min\u001b[39;00m possibly_batched_index]\n\u001b[1;32m     53\u001b[0m \u001b[38;5;28;01melse\u001b[39;00m:\n\u001b[1;32m     54\u001b[0m     data \u001b[38;5;241m=\u001b[39m \u001b[38;5;28mself\u001b[39m\u001b[38;5;241m.\u001b[39mdataset[possibly_batched_index]\n",
      "File \u001b[0;32m~/projects/torch/lib/python3.12/site-packages/torchvision/datasets/cifar.py:116\u001b[0m, in \u001b[0;36mCIFAR10.__getitem__\u001b[0;34m(self, index)\u001b[0m\n\u001b[1;32m    112\u001b[0m img, target \u001b[38;5;241m=\u001b[39m \u001b[38;5;28mself\u001b[39m\u001b[38;5;241m.\u001b[39mdata[index], \u001b[38;5;28mself\u001b[39m\u001b[38;5;241m.\u001b[39mtargets[index]\n\u001b[1;32m    114\u001b[0m \u001b[38;5;66;03m# doing this so that it is consistent with all other datasets\u001b[39;00m\n\u001b[1;32m    115\u001b[0m \u001b[38;5;66;03m# to return a PIL Image\u001b[39;00m\n\u001b[0;32m--> 116\u001b[0m img \u001b[38;5;241m=\u001b[39m \u001b[43mImage\u001b[49m\u001b[38;5;241;43m.\u001b[39;49m\u001b[43mfromarray\u001b[49m\u001b[43m(\u001b[49m\u001b[43mimg\u001b[49m\u001b[43m)\u001b[49m\n\u001b[1;32m    118\u001b[0m \u001b[38;5;28;01mif\u001b[39;00m \u001b[38;5;28mself\u001b[39m\u001b[38;5;241m.\u001b[39mtransform \u001b[38;5;129;01mis\u001b[39;00m \u001b[38;5;129;01mnot\u001b[39;00m \u001b[38;5;28;01mNone\u001b[39;00m:\n\u001b[1;32m    119\u001b[0m     img \u001b[38;5;241m=\u001b[39m \u001b[38;5;28mself\u001b[39m\u001b[38;5;241m.\u001b[39mtransform(img)\n",
      "File \u001b[0;32m~/projects/torch/lib/python3.12/site-packages/PIL/Image.py:3330\u001b[0m, in \u001b[0;36mfromarray\u001b[0;34m(obj, mode)\u001b[0m\n\u001b[1;32m   3328\u001b[0m size \u001b[38;5;241m=\u001b[39m \u001b[38;5;241m1\u001b[39m \u001b[38;5;28;01mif\u001b[39;00m ndim \u001b[38;5;241m==\u001b[39m \u001b[38;5;241m1\u001b[39m \u001b[38;5;28;01melse\u001b[39;00m shape[\u001b[38;5;241m1\u001b[39m], shape[\u001b[38;5;241m0\u001b[39m]\n\u001b[1;32m   3329\u001b[0m \u001b[38;5;28;01mif\u001b[39;00m strides \u001b[38;5;129;01mis\u001b[39;00m \u001b[38;5;129;01mnot\u001b[39;00m \u001b[38;5;28;01mNone\u001b[39;00m:\n\u001b[0;32m-> 3330\u001b[0m     \u001b[38;5;28;01mif\u001b[39;00m \u001b[38;5;28;43mhasattr\u001b[39;49m\u001b[43m(\u001b[49m\u001b[43mobj\u001b[49m\u001b[43m,\u001b[49m\u001b[43m \u001b[49m\u001b[38;5;124;43m\"\u001b[39;49m\u001b[38;5;124;43mtobytes\u001b[39;49m\u001b[38;5;124;43m\"\u001b[39;49m\u001b[43m)\u001b[49m:\n\u001b[1;32m   3331\u001b[0m         obj \u001b[38;5;241m=\u001b[39m obj\u001b[38;5;241m.\u001b[39mtobytes()\n\u001b[1;32m   3332\u001b[0m     \u001b[38;5;28;01melif\u001b[39;00m \u001b[38;5;28mhasattr\u001b[39m(obj, \u001b[38;5;124m\"\u001b[39m\u001b[38;5;124mtostring\u001b[39m\u001b[38;5;124m\"\u001b[39m):\n",
      "\u001b[0;31mKeyboardInterrupt\u001b[0m: "
     ]
    }
   ],
   "source": [
    "# from torch.utils.tensorboard import SummaryWriter\n",
    "# writer = SummaryWriter()\n",
    "\n",
    "device = \"cuda\"\n",
    "loss = nn.CrossEntropyLoss()\n",
    "optimizer = torch.optim.Adam(model.parameters(), lr=0.0001, weight_decay=1e-4)\n",
    "scheduler = torch.optim.lr_scheduler.ReduceLROnPlateau(optimizer, mode='min', factor=0.1, patience=10)\n",
    "model = model.to(device)\n",
    "from tqdm import tqdm\n",
    "\n",
    "lr = 0.0001\n",
    "for i in range(50):\n",
    "    correct, total, running_loss = 0, 0, 0\n",
    "    train_bar = tqdm(trainloader, desc=f'Train Epoch {i}')\n",
    "\n",
    "    for image, label in train_bar:\n",
    "        image, label = image.to(device), label.to(device)\n",
    "\n",
    "        out = model(image)\n",
    "        loss_value = loss(out, label)\n",
    "\n",
    "        optimizer.zero_grad()\n",
    "        loss_value.backward()\n",
    "        optimizer.step()\n",
    "\n",
    "        predictions = out.argmax(dim=1)\n",
    "        correct += (predictions == label).sum().item()\n",
    "        total += label.size(0)\n",
    "        running_loss += loss_value.item()\n",
    "\n",
    "        train_bar.set_postfix(loss=running_loss / total, acc=100 * correct / total)\n",
    "        # writer.add_scalar('Loss/train', running_loss / total, i)    \n",
    "        # writer.add_scalar('Accuracy/train', 100 * correct / total, i)\n",
    "    correct, total, test_loss = 0, 0, 0\n",
    "    test_bar = tqdm(testloader, desc=f'Test Epoch {i}')\n",
    "\n",
    "    with torch.no_grad():\n",
    "        for test, test_label in test_bar:\n",
    "            test, test_label = test.to(device), test_label.to(device)\n",
    "\n",
    "            test_out = model(test)\n",
    "            loss_value = loss(test_out, test_label)\n",
    "            test_loss += loss_value.item()\n",
    "\n",
    "            predictions = test_out.argmax(dim=1)\n",
    "            correct += (predictions == test_label).sum().item()\n",
    "            total += test_label.size(0)\n",
    "\n",
    "            test_bar.set_postfix(loss=test_loss / total, acc=100 * correct / total)\n",
    "            # writer.add_scalar('Loss/test', test_loss / total, i)\n",
    "            # writer.add_scalar('Accuracy/test', 100 * correct / total, i)\n",
    "    scheduler.step(test_loss)\n",
    "    if optimizer.param_groups[0][\"lr\"] != lr:\n",
    "        lr = optimizer.param_groups[0][\"lr\"]\n",
    "        print(f\"Updated learning rate: {lr}\")"
   ]
  },
  {
   "cell_type": "code",
   "execution_count": 8,
   "id": "e7132730",
   "metadata": {
    "execution": {
     "iopub.execute_input": "2025-02-09T14:08:02.950035Z",
     "iopub.status.busy": "2025-02-09T14:08:02.949331Z",
     "iopub.status.idle": "2025-02-09T14:08:02.989704Z",
     "shell.execute_reply": "2025-02-09T14:08:02.988796Z"
    },
    "papermill": {
     "duration": 1.722472,
     "end_time": "2025-02-09T14:08:02.991223",
     "exception": false,
     "start_time": "2025-02-09T14:08:01.268751",
     "status": "completed"
    },
    "tags": []
   },
   "outputs": [],
   "source": [
    "torch.save(model.state_dict(), 'cifar10_cnn.pth')"
   ]
  },
  {
   "cell_type": "code",
   "execution_count": 9,
   "id": "97c8f9ba",
   "metadata": {
    "execution": {
     "iopub.execute_input": "2025-02-09T14:08:06.414399Z",
     "iopub.status.busy": "2025-02-09T14:08:06.414105Z",
     "iopub.status.idle": "2025-02-09T14:08:06.432337Z",
     "shell.execute_reply": "2025-02-09T14:08:06.431591Z"
    },
    "papermill": {
     "duration": 1.662518,
     "end_time": "2025-02-09T14:08:06.433500",
     "exception": false,
     "start_time": "2025-02-09T14:08:04.770982",
     "status": "completed"
    },
    "tags": []
   },
   "outputs": [
    {
     "data": {
      "text/plain": [
       "(5, 3, 3, 3)"
      ]
     },
     "execution_count": 9,
     "metadata": {},
     "output_type": "execute_result"
    }
   ],
   "source": [
    "filters = model.conv1.weight[:5]\n",
    "filters = filters.detach().cpu()\n",
    "filters = filters - filters.min()\n",
    "filters = filters / filters.max()\n",
    "filters = filters.permute(0, 2, 3, 1).numpy()\n",
    "filters.shape"
   ]
  },
  {
   "cell_type": "code",
   "execution_count": 10,
   "id": "ba1f0348",
   "metadata": {
    "execution": {
     "iopub.execute_input": "2025-02-09T14:08:09.723961Z",
     "iopub.status.busy": "2025-02-09T14:08:09.723638Z",
     "iopub.status.idle": "2025-02-09T14:08:10.232919Z",
     "shell.execute_reply": "2025-02-09T14:08:10.232052Z"
    },
    "papermill": {
     "duration": 2.149285,
     "end_time": "2025-02-09T14:08:10.234344",
     "exception": false,
     "start_time": "2025-02-09T14:08:08.085059",
     "status": "completed"
    },
    "tags": []
   },
   "outputs": [
    {
     "data": {
      "image/png": "[encoded data removed]",
      "text/plain": [
       "<Figure size 2000x500 with 5 Axes>"
      ]
     },
     "metadata": {},
     "output_type": "display_data"
    }
   ],
   "source": [
    "import matplotlib.pyplot as plt\n",
    "import numpy as np\n",
    "\n",
    "fig, axs = plt.subplots(1, 5, figsize=(20, 5))\n",
    "for i, filter in enumerate(filters):\n",
    "    axs[i].imshow(np.mean(filter, axis=0), cmap='gray')\n",
    "    axs[i].axis('off')\n",
    "    axs[i].set_title(f'Layer {i + 1}')"
   ]
  }
 ],
 "metadata": {
  "kaggle": {
   "accelerator": "nvidiaTeslaT4",
   "dataSources": [],
   "dockerImageVersionId": 30887,
   "isGpuEnabled": true,
   "isInternetEnabled": true,
   "language": "python",
   "sourceType": "notebook"
  },
  "kernelspec": {
   "display_name": "Python (myenv)",
   "language": "python",
   "name": "torch"
  },
  "language_info": {
   "codemirror_mode": {
    "name": "ipython",
    "version": 3
   },
   "file_extension": ".py",
   "mimetype": "text/x-python",
   "name": "python",
   "nbconvert_exporter": "python",
   "pygments_lexer": "ipython3",
   "version": "3.12.3"
  },
  "papermill": {
   "default_parameters": {},
   "duration": 1907.413803,
   "end_time": "2025-02-09T14:08:15.470720",
   "environment_variables": {},
   "exception": null,
   "input_path": "__notebook__.ipynb",
   "output_path": "__notebook__.ipynb",
   "parameters": {},
   "start_time": "2025-02-09T13:36:28.056917",
   "version": "2.6.0"
  }
 },
 "nbformat": 4,
 "nbformat_minor": 5
}
