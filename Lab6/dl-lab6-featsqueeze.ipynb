{
 "cells": [
  {
   "cell_type": "code",
   "execution_count": 1,
   "id": "5c0c0178",
   "metadata": {
    "_cell_guid": "9cda1311-b450-481d-9fc9-e4036691d97c",
    "_uuid": "a86e761b-5a59-48ca-a98c-730bcea0edd0",
    "collapsed": false,
    "execution": {
     "iopub.execute_input": "2025-03-09T11:42:41.552083Z",
     "iopub.status.busy": "2025-03-09T11:42:41.551807Z",
     "iopub.status.idle": "2025-03-09T11:42:44.645335Z",
     "shell.execute_reply": "2025-03-09T11:42:44.644404Z"
    },
    "jupyter": {
     "outputs_hidden": false
    },
    "papermill": {
     "duration": 3.099117,
     "end_time": "2025-03-09T11:42:44.647029",
     "exception": false,
     "start_time": "2025-03-09T11:42:41.547912",
     "status": "completed"
    },
    "tags": []
   },
   "outputs": [],
   "source": [
    "import torch\n",
    "import torch.nn as nn\n",
    "import torch.nn.functional as F\n",
    "\n",
    "\n",
    "def feature_squeeze(x, bit_depth=5):\n",
    "    \"\"\"Reduce the bit-depth of the input image.\"\"\"\n",
    "    max_val = torch.tensor(2**bit_depth - 1).to(x.device)\n",
    "    x = torch.round(x * max_val) / max_val \n",
    "    return x\n",
    "\n",
    "\n",
    "class ResidualBlock(nn.Module):\n",
    "    def __init__(self, in_channels, out_channels, stride=1):\n",
    "        super(ResidualBlock, self).__init__()\n",
    "        self.conv1 = nn.Conv2d(in_channels, out_channels, kernel_size=3, stride=stride, padding=1, bias=False)\n",
    "        self.bn1 = nn.BatchNorm2d(out_channels)\n",
    "        self.conv2 = nn.Conv2d(out_channels, out_channels, kernel_size=3, stride=1, padding=1, bias=False)\n",
    "        self.bn2 = nn.BatchNorm2d(out_channels)\n",
    "\n",
    "        self.shortcut = nn.Sequential()\n",
    "        if stride != 1 or in_channels != out_channels:\n",
    "            self.shortcut = nn.Sequential(\n",
    "                nn.Conv2d(in_channels, out_channels, kernel_size=1, stride=stride, bias=False),\n",
    "                nn.BatchNorm2d(out_channels)\n",
    "            )\n",
    "\n",
    "    def forward(self, x):\n",
    "        out = F.relu(self.bn1(self.conv1(x)))\n",
    "        out = self.bn2(self.conv2(out))\n",
    "        out += self.shortcut(x)\n",
    "        return F.relu(out)\n",
    "\n",
    "\n",
    "class CNN(nn.Module):\n",
    "    def __init__(self):\n",
    "        super(CNN, self).__init__()\n",
    "        self.conv1 = nn.Conv2d(3, 64, kernel_size=3, stride=1, padding=1, bias=False)\n",
    "        self.bn1 = nn.BatchNorm2d(64)\n",
    "\n",
    "        self.layer1 = ResidualBlock(64, 128, stride=2)\n",
    "        self.layer2 = ResidualBlock(128, 256, stride=2)\n",
    "        self.layer3 = ResidualBlock(256, 512, stride=2)\n",
    "\n",
    "        self.dropout = nn.Dropout(0.3)\n",
    "        self.avg_pool = nn.AdaptiveAvgPool2d((1, 1))\n",
    "        self.fc = nn.Linear(512, 10)\n",
    "\n",
    "    def forward(self, x):\n",
    "        x = feature_squeeze(x)  # Apply feature squeezing before passing through the model\n",
    "        x = F.relu(self.bn1(self.conv1(x)))\n",
    "        x = self.layer1(x)\n",
    "        x = self.layer2(x)\n",
    "        x = self.layer3(x)\n",
    "        x = self.avg_pool(x)\n",
    "        x = torch.flatten(x, 1)\n",
    "        x = self.dropout(x)\n",
    "        return self.fc(x)"
   ]
  },
  {
   "cell_type": "code",
   "execution_count": 2,
   "id": "838b00e6",
   "metadata": {
    "_cell_guid": "863abdf2-ddae-4362-a521-6244fe583d32",
    "_uuid": "fe71ade0-e06d-46f5-a9f3-1d89c542319c",
    "collapsed": false,
    "execution": {
     "iopub.execute_input": "2025-03-09T11:42:44.655710Z",
     "iopub.status.busy": "2025-03-09T11:42:44.655372Z",
     "iopub.status.idle": "2025-03-09T11:42:49.012872Z",
     "shell.execute_reply": "2025-03-09T11:42:49.012172Z"
    },
    "jupyter": {
     "outputs_hidden": false
    },
    "papermill": {
     "duration": 4.363033,
     "end_time": "2025-03-09T11:42:49.014387",
     "exception": false,
     "start_time": "2025-03-09T11:42:44.651354",
     "status": "completed"
    },
    "tags": []
   },
   "outputs": [],
   "source": [
    "import torchvision.transforms as transforms\n",
    "import numpy as np\n",
    "import cv2\n",
    "\n",
    "transform_train = transforms.Compose([\n",
    "    transforms.RandomCrop(32, padding=4),\n",
    "    transforms.RandomHorizontalFlip(),\n",
    "    transforms.ToTensor(),\n",
    "    transforms.Normalize((0.4914, 0.4822, 0.4465), (0.2470, 0.2435, 0.2616)),\n",
    "])\n",
    "\n",
    "transform_test = transforms.Compose([\n",
    "    transforms.ToTensor(),\n",
    "    transforms.Normalize((0.4914, 0.4822, 0.4465), (0.2470, 0.2435, 0.2616)),\n",
    "])"
   ]
  },
  {
   "cell_type": "code",
   "execution_count": 3,
   "id": "48baeaf2",
   "metadata": {
    "_cell_guid": "be80f2b8-10d6-4942-9540-7416cb81b052",
    "_uuid": "20dedd39-ef12-40ec-b843-b3a8434cc070",
    "collapsed": false,
    "execution": {
     "iopub.execute_input": "2025-03-09T11:42:49.020339Z",
     "iopub.status.busy": "2025-03-09T11:42:49.019994Z",
     "iopub.status.idle": "2025-03-09T11:43:09.026243Z",
     "shell.execute_reply": "2025-03-09T11:43:09.025379Z"
    },
    "jupyter": {
     "outputs_hidden": false
    },
    "papermill": {
     "duration": 20.010711,
     "end_time": "2025-03-09T11:43:09.027774",
     "exception": false,
     "start_time": "2025-03-09T11:42:49.017063",
     "status": "completed"
    },
    "tags": []
   },
   "outputs": [
    {
     "name": "stdout",
     "output_type": "stream",
     "text": [
      "Downloading https://www.cs.toronto.edu/~kriz/cifar-10-python.tar.gz to ./data/cifar-10-python.tar.gz\n"
     ]
    },
    {
     "name": "stderr",
     "output_type": "stream",
     "text": [
      "100%|██████████| 170M/170M [00:15<00:00, 11.2MB/s]\n"
     ]
    },
    {
     "name": "stdout",
     "output_type": "stream",
     "text": [
      "Extracting ./data/cifar-10-python.tar.gz to ./data\n"
     ]
    }
   ],
   "source": [
    "import torch\n",
    "import torchvision\n",
    "train = torchvision.datasets.CIFAR10(root='./data',train=True,download=True,transform=transform_train)\n",
    "test = torchvision.datasets.CIFAR10(root='./data',train=False,download=False,transform=transform_test)\n",
    "trainloader = torch.utils.data.DataLoader(train,batch_size=128,shuffle=True)\n",
    "testloader = torch.utils.data.DataLoader(test,batch_size=128,shuffle=False)"
   ]
  },
  {
   "cell_type": "code",
   "execution_count": 4,
   "id": "50c7a6fd",
   "metadata": {
    "_cell_guid": "a7826ab5-9bd3-4a28-983b-17a2ef55364b",
    "_uuid": "458d443b-9db4-4476-8d40-230fdbf1cf38",
    "collapsed": false,
    "execution": {
     "iopub.execute_input": "2025-03-09T11:43:09.042407Z",
     "iopub.status.busy": "2025-03-09T11:43:09.042176Z",
     "iopub.status.idle": "2025-03-09T11:43:09.123428Z",
     "shell.execute_reply": "2025-03-09T11:43:09.122642Z"
    },
    "jupyter": {
     "outputs_hidden": false
    },
    "papermill": {
     "duration": 0.089794,
     "end_time": "2025-03-09T11:43:09.124812",
     "exception": false,
     "start_time": "2025-03-09T11:43:09.035018",
     "status": "completed"
    },
    "tags": []
   },
   "outputs": [],
   "source": [
    "model = CNN()"
   ]
  },
  {
   "cell_type": "code",
   "execution_count": 5,
   "id": "c8329ce6",
   "metadata": {
    "_cell_guid": "380d85bc-4bfa-485c-949c-efd52ce2bba4",
    "_uuid": "332d7b44-ce88-433f-baef-30e2ef343e45",
    "collapsed": false,
    "execution": {
     "iopub.execute_input": "2025-03-09T11:43:09.138907Z",
     "iopub.status.busy": "2025-03-09T11:43:09.138649Z",
     "iopub.status.idle": "2025-03-09T11:55:57.816049Z",
     "shell.execute_reply": "2025-03-09T11:55:57.815140Z"
    },
    "jupyter": {
     "outputs_hidden": false
    },
    "papermill": {
     "duration": 768.685682,
     "end_time": "2025-03-09T11:55:57.817314",
     "exception": false,
     "start_time": "2025-03-09T11:43:09.131632",
     "status": "completed"
    },
    "tags": []
   },
   "outputs": [
    {
     "name": "stderr",
     "output_type": "stream",
     "text": [
      "Train Epoch 0: 100%|██████████| 391/391 [00:35<00:00, 11.08it/s, acc=49.1, loss=0.0109]\n",
      "Test Epoch 0: 100%|██████████| 79/79 [00:03<00:00, 23.71it/s, acc=58.8, loss=0.00912]\n",
      "Train Epoch 1: 100%|██████████| 391/391 [00:34<00:00, 11.23it/s, acc=64.8, loss=0.00774]\n",
      "Test Epoch 1: 100%|██████████| 79/79 [00:03<00:00, 24.04it/s, acc=67.4, loss=0.00726]\n",
      "Train Epoch 2: 100%|██████████| 391/391 [00:34<00:00, 11.34it/s, acc=71.5, loss=0.00628]\n",
      "Test Epoch 2: 100%|██████████| 79/79 [00:03<00:00, 25.05it/s, acc=73.5, loss=0.00603]\n",
      "Train Epoch 3: 100%|██████████| 391/391 [00:34<00:00, 11.26it/s, acc=76, loss=0.00535]\n",
      "Test Epoch 3: 100%|██████████| 79/79 [00:03<00:00, 25.26it/s, acc=75.6, loss=0.00574]\n",
      "Train Epoch 4: 100%|██████████| 391/391 [00:34<00:00, 11.37it/s, acc=79.1, loss=0.00475]\n",
      "Test Epoch 4: 100%|██████████| 79/79 [00:03<00:00, 25.13it/s, acc=77.9, loss=0.00518]\n",
      "Train Epoch 5: 100%|██████████| 391/391 [00:34<00:00, 11.26it/s, acc=80.7, loss=0.00435]\n",
      "Test Epoch 5: 100%|██████████| 79/79 [00:03<00:00, 24.40it/s, acc=78.6, loss=0.00494]\n",
      "Train Epoch 6: 100%|██████████| 391/391 [00:34<00:00, 11.33it/s, acc=82.3, loss=0.00403]\n",
      "Test Epoch 6: 100%|██████████| 79/79 [00:03<00:00, 24.52it/s, acc=80.8, loss=0.00445]\n",
      "Train Epoch 7: 100%|██████████| 391/391 [00:34<00:00, 11.32it/s, acc=83.7, loss=0.00373]\n",
      "Test Epoch 7: 100%|██████████| 79/79 [00:03<00:00, 24.96it/s, acc=81.6, loss=0.00428]\n",
      "Train Epoch 8: 100%|██████████| 391/391 [00:34<00:00, 11.21it/s, acc=84.6, loss=0.0035]\n",
      "Test Epoch 8: 100%|██████████| 79/79 [00:03<00:00, 24.10it/s, acc=82.4, loss=0.00405]\n",
      "Train Epoch 9: 100%|██████████| 391/391 [00:34<00:00, 11.20it/s, acc=85.7, loss=0.00326]\n",
      "Test Epoch 9: 100%|██████████| 79/79 [00:03<00:00, 25.22it/s, acc=82.3, loss=0.00421]\n",
      "Train Epoch 10: 100%|██████████| 391/391 [00:34<00:00, 11.28it/s, acc=86.2, loss=0.00311]\n",
      "Test Epoch 10: 100%|██████████| 79/79 [00:03<00:00, 24.36it/s, acc=81.8, loss=0.00423]\n",
      "Train Epoch 11: 100%|██████████| 391/391 [00:35<00:00, 11.16it/s, acc=86.8, loss=0.00298]\n",
      "Test Epoch 11: 100%|██████████| 79/79 [00:03<00:00, 24.60it/s, acc=83.8, loss=0.00383]\n",
      "Train Epoch 12: 100%|██████████| 391/391 [00:34<00:00, 11.36it/s, acc=87.7, loss=0.00282]\n",
      "Test Epoch 12: 100%|██████████| 79/79 [00:03<00:00, 25.75it/s, acc=83.8, loss=0.00379]\n",
      "Train Epoch 13: 100%|██████████| 391/391 [00:34<00:00, 11.39it/s, acc=88.2, loss=0.00265]\n",
      "Test Epoch 13: 100%|██████████| 79/79 [00:03<00:00, 25.82it/s, acc=84, loss=0.00376]\n",
      "Train Epoch 14: 100%|██████████| 391/391 [00:34<00:00, 11.40it/s, acc=88.5, loss=0.00262]\n",
      "Test Epoch 14: 100%|██████████| 79/79 [00:03<00:00, 25.38it/s, acc=84.5, loss=0.0037]\n",
      "Train Epoch 15: 100%|██████████| 391/391 [00:34<00:00, 11.43it/s, acc=89, loss=0.00247]\n",
      "Test Epoch 15: 100%|██████████| 79/79 [00:03<00:00, 25.45it/s, acc=84.7, loss=0.00363]\n",
      "Train Epoch 16: 100%|██████████| 391/391 [00:34<00:00, 11.42it/s, acc=89.6, loss=0.00236]\n",
      "Test Epoch 16: 100%|██████████| 79/79 [00:03<00:00, 24.55it/s, acc=83.3, loss=0.00394]\n",
      "Train Epoch 17: 100%|██████████| 391/391 [00:34<00:00, 11.41it/s, acc=90, loss=0.00227]\n",
      "Test Epoch 17: 100%|██████████| 79/79 [00:03<00:00, 23.96it/s, acc=84.7, loss=0.00371]\n",
      "Train Epoch 18: 100%|██████████| 391/391 [00:35<00:00, 11.15it/s, acc=90.1, loss=0.00223]\n",
      "Test Epoch 18: 100%|██████████| 79/79 [00:03<00:00, 24.79it/s, acc=85, loss=0.00363]\n",
      "Train Epoch 19: 100%|██████████| 391/391 [00:34<00:00, 11.31it/s, acc=90.6, loss=0.00212]\n",
      "Test Epoch 19: 100%|██████████| 79/79 [00:03<00:00, 24.74it/s, acc=85, loss=0.00357]\n"
     ]
    }
   ],
   "source": [
    "from torch.utils.tensorboard import SummaryWriter\n",
    "writer = SummaryWriter()\n",
    "\n",
    "device = \"cuda\"\n",
    "loss = nn.CrossEntropyLoss()\n",
    "optimizer = torch.optim.Adam(model.parameters(), lr=0.001, weight_decay=1e-4)\n",
    "scheduler = torch.optim.lr_scheduler.ReduceLROnPlateau(optimizer, mode='min', factor=0.1, patience=10)\n",
    "model = model.to(device)\n",
    "from tqdm import tqdm\n",
    "\n",
    "lr = 0.001\n",
    "for i in range(20):\n",
    "    correct, total, running_loss = 0, 0, 0\n",
    "    train_bar = tqdm(trainloader, desc=f'Train Epoch {i}')\n",
    "\n",
    "    for image, label in train_bar:\n",
    "        image, label = image.to(device), label.to(device)\n",
    "\n",
    "        out = model(image)\n",
    "        loss_value = loss(out, label)\n",
    "\n",
    "        optimizer.zero_grad()\n",
    "        loss_value.backward()\n",
    "        optimizer.step()\n",
    "\n",
    "        predictions = out.argmax(dim=1)\n",
    "        correct += (predictions == label).sum().item()\n",
    "        total += label.size(0)\n",
    "        running_loss += loss_value.item()\n",
    "\n",
    "        train_bar.set_postfix(loss=running_loss / total, acc=100 * correct / total)\n",
    "        writer.add_scalar('Loss/train', running_loss / total, i)    \n",
    "        writer.add_scalar('Accuracy/train', 100 * correct / total, i)\n",
    "    correct, total, test_loss = 0, 0, 0\n",
    "    test_bar = tqdm(testloader, desc=f'Test Epoch {i}')\n",
    "\n",
    "    with torch.no_grad():\n",
    "        for test, test_label in test_bar:\n",
    "            test, test_label = test.to(device), test_label.to(device)\n",
    "\n",
    "            test_out = model(test)\n",
    "            loss_value = loss(test_out, test_label)\n",
    "            test_loss += loss_value.item()\n",
    "\n",
    "            predictions = test_out.argmax(dim=1)\n",
    "            correct += (predictions == test_label).sum().item()\n",
    "            total += test_label.size(0)\n",
    "\n",
    "            test_bar.set_postfix(loss=test_loss / total, acc=100 * correct / total)\n",
    "            writer.add_scalar('Loss/test', test_loss / total, i)\n",
    "            writer.add_scalar('Accuracy/test', 100 * correct / total, i)\n",
    "    scheduler.step(test_loss)\n",
    "    if optimizer.param_groups[0][\"lr\"] != lr:\n",
    "        lr = optimizer.param_groups[0][\"lr\"]\n",
    "        print(f\"Updated learning rate: {lr}\")"
   ]
  },
  {
   "cell_type": "code",
   "execution_count": 6,
   "id": "aa61f6ea",
   "metadata": {
    "_cell_guid": "2301ba15-6648-4866-8d04-bd78818dc218",
    "_uuid": "4e9c994d-1616-43bc-92e0-fe20cac95966",
    "collapsed": false,
    "execution": {
     "iopub.execute_input": "2025-03-09T11:55:59.115406Z",
     "iopub.status.busy": "2025-03-09T11:55:59.114445Z",
     "iopub.status.idle": "2025-03-09T11:55:59.151866Z",
     "shell.execute_reply": "2025-03-09T11:55:59.151179Z"
    },
    "jupyter": {
     "outputs_hidden": false
    },
    "papermill": {
     "duration": 0.660833,
     "end_time": "2025-03-09T11:55:59.153284",
     "exception": false,
     "start_time": "2025-03-09T11:55:58.492451",
     "status": "completed"
    },
    "tags": []
   },
   "outputs": [],
   "source": [
    "torch.save(model.state_dict(), 'cifar10_cnn_featSqueeze.pth')"
   ]
  },
  {
   "cell_type": "code",
   "execution_count": 7,
   "id": "318eec72",
   "metadata": {
    "_cell_guid": "ef7fa74e-b8b0-4699-a016-6570ff5c7073",
    "_uuid": "2c68f8d3-bf73-4c98-a33f-55c9661f672c",
    "collapsed": false,
    "execution": {
     "iopub.execute_input": "2025-03-09T11:56:00.481176Z",
     "iopub.status.busy": "2025-03-09T11:56:00.480886Z",
     "iopub.status.idle": "2025-03-09T11:56:01.297246Z",
     "shell.execute_reply": "2025-03-09T11:56:01.296269Z"
    },
    "jupyter": {
     "outputs_hidden": false
    },
    "papermill": {
     "duration": 1.480934,
     "end_time": "2025-03-09T11:56:01.298749",
     "exception": false,
     "start_time": "2025-03-09T11:55:59.817815",
     "status": "completed"
    },
    "tags": []
   },
   "outputs": [
    {
     "name": "stdout",
     "output_type": "stream",
     "text": [
      "0.63\n",
      "average loss -7.641308475948572\n"
     ]
    }
   ],
   "source": [
    "import random\n",
    "\n",
    "target_class = torch.tensor([9], dtype=torch.long, device=\"cuda\") \n",
    "model = model.to(\"cuda\")\n",
    "model.eval()\n",
    "c = 0\n",
    "l = 0\n",
    "input_image = None\n",
    "for i in range(100):\n",
    "    j = random.randint(1, len(train))\n",
    "    input_image = train[j][0].unsqueeze(0).to(\"cuda\")\n",
    "    input_image = input_image.detach().clone()\n",
    "    input_image.requires_grad_(True)\n",
    "    output = model(input_image)\n",
    "    loss = -torch.nn.functional.cross_entropy(output, target_class)\n",
    "    \n",
    "    model.zero_grad()\n",
    "    loss.backward()\n",
    "    \n",
    "    with torch.no_grad():\n",
    "        input_image += 0.1 * input_image.grad.sign()\n",
    "        input_image.clamp_(0, 1)\n",
    "    input_image.grad.zero_()\n",
    "    a = model(input_image)\n",
    "    pred = torch.argmax(torch.nn.functional.softmax(a, dim=1)).item()\n",
    "    if pred == train[j][1]:\n",
    "        c += 1\n",
    "    l += loss.item()\n",
    "print(c / 100)\n",
    "print(\"average loss\", l / 100)"
   ]
  },
  {
   "cell_type": "code",
   "execution_count": 8,
   "id": "41a66105",
   "metadata": {
    "execution": {
     "iopub.execute_input": "2025-03-09T11:56:02.589197Z",
     "iopub.status.busy": "2025-03-09T11:56:02.588892Z",
     "iopub.status.idle": "2025-03-09T11:56:02.881613Z",
     "shell.execute_reply": "2025-03-09T11:56:02.880753Z"
    },
    "papermill": {
     "duration": 0.967573,
     "end_time": "2025-03-09T11:56:02.883040",
     "exception": false,
     "start_time": "2025-03-09T11:56:01.915467",
     "status": "completed"
    },
    "tags": []
   },
   "outputs": [
    {
     "data": {
      "image/png": "[encoded data removed]",
      "text/plain": [
       "<Figure size 1000x500 with 2 Axes>"
      ]
     },
     "metadata": {},
     "output_type": "display_data"
    }
   ],
   "source": [
    "import matplotlib.pyplot as plt\n",
    "\n",
    "fig, axes = plt.subplots(1, 2, figsize=(10, 5))  \n",
    "axes[0].imshow(input_image.detach().cpu()[0].permute(1, 2, 0).numpy())\n",
    "axes[0].axis('off')  \n",
    "axes[0].set_title(\"Image 1\")\n",
    "\n",
    "axes[1].imshow(np.transpose(train[j][0], (1, 2, 0)))\n",
    "axes[1].axis('off')  \n",
    "axes[1].set_title(\"Image 2\")\n",
    "\n",
    "# Show the plot\n",
    "plt.tight_layout()\n",
    "plt.show()"
   ]
  },
  {
   "cell_type": "code",
   "execution_count": 9,
   "id": "c31420e8",
   "metadata": {
    "execution": {
     "iopub.execute_input": "2025-03-09T11:56:04.176909Z",
     "iopub.status.busy": "2025-03-09T11:56:04.176410Z",
     "iopub.status.idle": "2025-03-09T11:56:04.312099Z",
     "shell.execute_reply": "2025-03-09T11:56:04.311283Z"
    },
    "papermill": {
     "duration": 0.804961,
     "end_time": "2025-03-09T11:56:04.313339",
     "exception": false,
     "start_time": "2025-03-09T11:56:03.508378",
     "status": "completed"
    },
    "tags": []
   },
   "outputs": [
    {
     "data": {
      "image/png": "[encoded data removed]",
      "text/plain": [
       "<Figure size 640x480 with 1 Axes>"
      ]
     },
     "metadata": {},
     "output_type": "display_data"
    }
   ],
   "source": [
    "plt.imshow(input_image.detach().cpu()[0].permute(1, 2, 0) - np.transpose(train[j][0], (1, 2, 0)))\n",
    "plt.show()"
   ]
  }
 ],
 "metadata": {
  "kaggle": {
   "accelerator": "nvidiaTeslaT4",
   "dataSources": [],
   "dockerImageVersionId": 30919,
   "isGpuEnabled": true,
   "isInternetEnabled": true,
   "language": "python",
   "sourceType": "notebook"
  },
  "kernelspec": {
   "display_name": "Python 3",
   "language": "python",
   "name": "python3"
  },
  "language_info": {
   "codemirror_mode": {
    "name": "ipython",
    "version": 3
   },
   "file_extension": ".py",
   "mimetype": "text/x-python",
   "name": "python",
   "nbconvert_exporter": "python",
   "pygments_lexer": "ipython3",
   "version": "3.10.12"
  },
  "papermill": {
   "default_parameters": {},
   "duration": 809.194399,
   "end_time": "2025-03-09T11:56:08.206466",
   "environment_variables": {},
   "exception": null,
   "input_path": "__notebook__.ipynb",
   "output_path": "__notebook__.ipynb",
   "parameters": {},
   "start_time": "2025-03-09T11:42:39.012067",
   "version": "2.6.0"
  }
 },
 "nbformat": 4,
 "nbformat_minor": 5
}
