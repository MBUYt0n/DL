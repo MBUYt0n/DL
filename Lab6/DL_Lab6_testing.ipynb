{
  "nbformat": 4,
  "nbformat_minor": 0,
  "metadata": {
    "colab": {
      "provenance": [],
      "gpuType": "T4"
    },
    "kernelspec": {
      "name": "python3",
      "display_name": "Python 3"
    },
    "language_info": {
      "name": "python"
    },
    "accelerator": "GPU",
    "widgets": {
      "application/vnd.jupyter.widget-state+json": {
        "550836f629504d10a9307cca3eafecb1": {
          "model_module": "@jupyter-widgets/controls",
          "model_name": "HBoxModel",
          "model_module_version": "1.5.0",
          "state": {
            "_dom_classes": [],
            "_model_module": "@jupyter-widgets/controls",
            "_model_module_version": "1.5.0",
            "_model_name": "HBoxModel",
            "_view_count": null,
            "_view_module": "@jupyter-widgets/controls",
            "_view_module_version": "1.5.0",
            "_view_name": "HBoxView",
            "box_style": "",
            "children": [
              "IPY_MODEL_802ad082ee104199ae49d4bb14cb6e57",
              "IPY_MODEL_1e7ce8dcc75e46ce9d3a56f88d152093",
              "IPY_MODEL_a5985531f4074bc8b15fb60c6f3e10f2"
            ],
            "layout": "IPY_MODEL_91595bb9639b49659769441cba2485f1"
          }
        },
        "802ad082ee104199ae49d4bb14cb6e57": {
          "model_module": "@jupyter-widgets/controls",
          "model_name": "HTMLModel",
          "model_module_version": "1.5.0",
          "state": {
            "_dom_classes": [],
            "_model_module": "@jupyter-widgets/controls",
            "_model_module_version": "1.5.0",
            "_model_name": "HTMLModel",
            "_view_count": null,
            "_view_module": "@jupyter-widgets/controls",
            "_view_module_version": "1.5.0",
            "_view_name": "HTMLView",
            "description": "",
            "description_tooltip": null,
            "layout": "IPY_MODEL_a52a3d39e1ad4148b203cacf2a5ed815",
            "placeholder": "​",
            "style": "IPY_MODEL_4c1b7ce2433a4b818df7e18f11dff52a",
            "value": "Downloading 1 files: 100%"
          }
        },
        "1e7ce8dcc75e46ce9d3a56f88d152093": {
          "model_module": "@jupyter-widgets/controls",
          "model_name": "FloatProgressModel",
          "model_module_version": "1.5.0",
          "state": {
            "_dom_classes": [],
            "_model_module": "@jupyter-widgets/controls",
            "_model_module_version": "1.5.0",
            "_model_name": "FloatProgressModel",
            "_view_count": null,
            "_view_module": "@jupyter-widgets/controls",
            "_view_module_version": "1.5.0",
            "_view_name": "ProgressView",
            "bar_style": "success",
            "description": "",
            "description_tooltip": null,
            "layout": "IPY_MODEL_5b3438e1cf9145c1a11f320919a17bff",
            "max": 1,
            "min": 0,
            "orientation": "horizontal",
            "style": "IPY_MODEL_eb872a42be5a45859564fe67257a6e6a",
            "value": 1
          }
        },
        "a5985531f4074bc8b15fb60c6f3e10f2": {
          "model_module": "@jupyter-widgets/controls",
          "model_name": "HTMLModel",
          "model_module_version": "1.5.0",
          "state": {
            "_dom_classes": [],
            "_model_module": "@jupyter-widgets/controls",
            "_model_module_version": "1.5.0",
            "_model_name": "HTMLModel",
            "_view_count": null,
            "_view_module": "@jupyter-widgets/controls",
            "_view_module_version": "1.5.0",
            "_view_name": "HTMLView",
            "description": "",
            "description_tooltip": null,
            "layout": "IPY_MODEL_9f55228cea334838999ad42ce99b3275",
            "placeholder": "​",
            "style": "IPY_MODEL_79fca2cb1f1a4b48a5a24e872002b2aa",
            "value": " 1/1 [00:00&lt;00:00,  1.47it/s]"
          }
        },
        "91595bb9639b49659769441cba2485f1": {
          "model_module": "@jupyter-widgets/base",
          "model_name": "LayoutModel",
          "model_module_version": "1.2.0",
          "state": {
            "_model_module": "@jupyter-widgets/base",
            "_model_module_version": "1.2.0",
            "_model_name": "LayoutModel",
            "_view_count": null,
            "_view_module": "@jupyter-widgets/base",
            "_view_module_version": "1.2.0",
            "_view_name": "LayoutView",
            "align_content": null,
            "align_items": null,
            "align_self": null,
            "border": null,
            "bottom": null,
            "display": null,
            "flex": null,
            "flex_flow": null,
            "grid_area": null,
            "grid_auto_columns": null,
            "grid_auto_flow": null,
            "grid_auto_rows": null,
            "grid_column": null,
            "grid_gap": null,
            "grid_row": null,
            "grid_template_areas": null,
            "grid_template_columns": null,
            "grid_template_rows": null,
            "height": null,
            "justify_content": null,
            "justify_items": null,
            "left": null,
            "margin": null,
            "max_height": null,
            "max_width": null,
            "min_height": null,
            "min_width": null,
            "object_fit": null,
            "object_position": null,
            "order": null,
            "overflow": null,
            "overflow_x": null,
            "overflow_y": null,
            "padding": null,
            "right": null,
            "top": null,
            "visibility": null,
            "width": null
          }
        },
        "a52a3d39e1ad4148b203cacf2a5ed815": {
          "model_module": "@jupyter-widgets/base",
          "model_name": "LayoutModel",
          "model_module_version": "1.2.0",
          "state": {
            "_model_module": "@jupyter-widgets/base",
            "_model_module_version": "1.2.0",
            "_model_name": "LayoutModel",
            "_view_count": null,
            "_view_module": "@jupyter-widgets/base",
            "_view_module_version": "1.2.0",
            "_view_name": "LayoutView",
            "align_content": null,
            "align_items": null,
            "align_self": null,
            "border": null,
            "bottom": null,
            "display": null,
            "flex": null,
            "flex_flow": null,
            "grid_area": null,
            "grid_auto_columns": null,
            "grid_auto_flow": null,
            "grid_auto_rows": null,
            "grid_column": null,
            "grid_gap": null,
            "grid_row": null,
            "grid_template_areas": null,
            "grid_template_columns": null,
            "grid_template_rows": null,
            "height": null,
            "justify_content": null,
            "justify_items": null,
            "left": null,
            "margin": null,
            "max_height": null,
            "max_width": null,
            "min_height": null,
            "min_width": null,
            "object_fit": null,
            "object_position": null,
            "order": null,
            "overflow": null,
            "overflow_x": null,
            "overflow_y": null,
            "padding": null,
            "right": null,
            "top": null,
            "visibility": null,
            "width": null
          }
        },
        "4c1b7ce2433a4b818df7e18f11dff52a": {
          "model_module": "@jupyter-widgets/controls",
          "model_name": "DescriptionStyleModel",
          "model_module_version": "1.5.0",
          "state": {
            "_model_module": "@jupyter-widgets/controls",
            "_model_module_version": "1.5.0",
            "_model_name": "DescriptionStyleModel",
            "_view_count": null,
            "_view_module": "@jupyter-widgets/base",
            "_view_module_version": "1.2.0",
            "_view_name": "StyleView",
            "description_width": ""
          }
        },
        "5b3438e1cf9145c1a11f320919a17bff": {
          "model_module": "@jupyter-widgets/base",
          "model_name": "LayoutModel",
          "model_module_version": "1.2.0",
          "state": {
            "_model_module": "@jupyter-widgets/base",
            "_model_module_version": "1.2.0",
            "_model_name": "LayoutModel",
            "_view_count": null,
            "_view_module": "@jupyter-widgets/base",
            "_view_module_version": "1.2.0",
            "_view_name": "LayoutView",
            "align_content": null,
            "align_items": null,
            "align_self": null,
            "border": null,
            "bottom": null,
            "display": null,
            "flex": null,
            "flex_flow": null,
            "grid_area": null,
            "grid_auto_columns": null,
            "grid_auto_flow": null,
            "grid_auto_rows": null,
            "grid_column": null,
            "grid_gap": null,
            "grid_row": null,
            "grid_template_areas": null,
            "grid_template_columns": null,
            "grid_template_rows": null,
            "height": null,
            "justify_content": null,
            "justify_items": null,
            "left": null,
            "margin": null,
            "max_height": null,
            "max_width": null,
            "min_height": null,
            "min_width": null,
            "object_fit": null,
            "object_position": null,
            "order": null,
            "overflow": null,
            "overflow_x": null,
            "overflow_y": null,
            "padding": null,
            "right": null,
            "top": null,
            "visibility": null,
            "width": null
          }
        },
        "eb872a42be5a45859564fe67257a6e6a": {
          "model_module": "@jupyter-widgets/controls",
          "model_name": "ProgressStyleModel",
          "model_module_version": "1.5.0",
          "state": {
            "_model_module": "@jupyter-widgets/controls",
            "_model_module_version": "1.5.0",
            "_model_name": "ProgressStyleModel",
            "_view_count": null,
            "_view_module": "@jupyter-widgets/base",
            "_view_module_version": "1.2.0",
            "_view_name": "StyleView",
            "bar_color": null,
            "description_width": ""
          }
        },
        "9f55228cea334838999ad42ce99b3275": {
          "model_module": "@jupyter-widgets/base",
          "model_name": "LayoutModel",
          "model_module_version": "1.2.0",
          "state": {
            "_model_module": "@jupyter-widgets/base",
            "_model_module_version": "1.2.0",
            "_model_name": "LayoutModel",
            "_view_count": null,
            "_view_module": "@jupyter-widgets/base",
            "_view_module_version": "1.2.0",
            "_view_name": "LayoutView",
            "align_content": null,
            "align_items": null,
            "align_self": null,
            "border": null,
            "bottom": null,
            "display": null,
            "flex": null,
            "flex_flow": null,
            "grid_area": null,
            "grid_auto_columns": null,
            "grid_auto_flow": null,
            "grid_auto_rows": null,
            "grid_column": null,
            "grid_gap": null,
            "grid_row": null,
            "grid_template_areas": null,
            "grid_template_columns": null,
            "grid_template_rows": null,
            "height": null,
            "justify_content": null,
            "justify_items": null,
            "left": null,
            "margin": null,
            "max_height": null,
            "max_width": null,
            "min_height": null,
            "min_width": null,
            "object_fit": null,
            "object_position": null,
            "order": null,
            "overflow": null,
            "overflow_x": null,
            "overflow_y": null,
            "padding": null,
            "right": null,
            "top": null,
            "visibility": null,
            "width": null
          }
        },
        "79fca2cb1f1a4b48a5a24e872002b2aa": {
          "model_module": "@jupyter-widgets/controls",
          "model_name": "DescriptionStyleModel",
          "model_module_version": "1.5.0",
          "state": {
            "_model_module": "@jupyter-widgets/controls",
            "_model_module_version": "1.5.0",
            "_model_name": "DescriptionStyleModel",
            "_view_count": null,
            "_view_module": "@jupyter-widgets/base",
            "_view_module_version": "1.2.0",
            "_view_name": "StyleView",
            "description_width": ""
          }
        },
        "252dc5bda33e459299739d81c3ec42c1": {
          "model_module": "@jupyter-widgets/controls",
          "model_name": "HBoxModel",
          "model_module_version": "1.5.0",
          "state": {
            "_dom_classes": [],
            "_model_module": "@jupyter-widgets/controls",
            "_model_module_version": "1.5.0",
            "_model_name": "HBoxModel",
            "_view_count": null,
            "_view_module": "@jupyter-widgets/controls",
            "_view_module_version": "1.5.0",
            "_view_name": "HBoxView",
            "box_style": "",
            "children": [
              "IPY_MODEL_d84c0035f87345d98d342fe359c97223",
              "IPY_MODEL_e58fc1892c744611901eab1d3f023346",
              "IPY_MODEL_bc326c1b23644d46a0bbed78d6056a8b"
            ],
            "layout": "IPY_MODEL_af9aac6c335f4fb6a4a109b27b4e46b9"
          }
        },
        "d84c0035f87345d98d342fe359c97223": {
          "model_module": "@jupyter-widgets/controls",
          "model_name": "HTMLModel",
          "model_module_version": "1.5.0",
          "state": {
            "_dom_classes": [],
            "_model_module": "@jupyter-widgets/controls",
            "_model_module_version": "1.5.0",
            "_model_name": "HTMLModel",
            "_view_count": null,
            "_view_module": "@jupyter-widgets/controls",
            "_view_module_version": "1.5.0",
            "_view_name": "HTMLView",
            "description": "",
            "description_tooltip": null,
            "layout": "IPY_MODEL_829d617a932a41bb921e02ca7b0862cd",
            "placeholder": "​",
            "style": "IPY_MODEL_a15918d3bfb947ce9e8dacb5b60a385c",
            "value": "Downloading 1 files: 100%"
          }
        },
        "e58fc1892c744611901eab1d3f023346": {
          "model_module": "@jupyter-widgets/controls",
          "model_name": "FloatProgressModel",
          "model_module_version": "1.5.0",
          "state": {
            "_dom_classes": [],
            "_model_module": "@jupyter-widgets/controls",
            "_model_module_version": "1.5.0",
            "_model_name": "FloatProgressModel",
            "_view_count": null,
            "_view_module": "@jupyter-widgets/controls",
            "_view_module_version": "1.5.0",
            "_view_name": "ProgressView",
            "bar_style": "success",
            "description": "",
            "description_tooltip": null,
            "layout": "IPY_MODEL_0d831927499b4313b4990d05c9818b9a",
            "max": 1,
            "min": 0,
            "orientation": "horizontal",
            "style": "IPY_MODEL_8be40ddc7daf4d7f80d82cd7d2935d5f",
            "value": 1
          }
        },
        "bc326c1b23644d46a0bbed78d6056a8b": {
          "model_module": "@jupyter-widgets/controls",
          "model_name": "HTMLModel",
          "model_module_version": "1.5.0",
          "state": {
            "_dom_classes": [],
            "_model_module": "@jupyter-widgets/controls",
            "_model_module_version": "1.5.0",
            "_model_name": "HTMLModel",
            "_view_count": null,
            "_view_module": "@jupyter-widgets/controls",
            "_view_module_version": "1.5.0",
            "_view_name": "HTMLView",
            "description": "",
            "description_tooltip": null,
            "layout": "IPY_MODEL_c4f53d75dc21455c826c5cfdbe6a744c",
            "placeholder": "​",
            "style": "IPY_MODEL_59bea99ca0254afdb2cd24952998d95b",
            "value": " 1/1 [00:00&lt;00:00,  1.58it/s]"
          }
        },
        "af9aac6c335f4fb6a4a109b27b4e46b9": {
          "model_module": "@jupyter-widgets/base",
          "model_name": "LayoutModel",
          "model_module_version": "1.2.0",
          "state": {
            "_model_module": "@jupyter-widgets/base",
            "_model_module_version": "1.2.0",
            "_model_name": "LayoutModel",
            "_view_count": null,
            "_view_module": "@jupyter-widgets/base",
            "_view_module_version": "1.2.0",
            "_view_name": "LayoutView",
            "align_content": null,
            "align_items": null,
            "align_self": null,
            "border": null,
            "bottom": null,
            "display": null,
            "flex": null,
            "flex_flow": null,
            "grid_area": null,
            "grid_auto_columns": null,
            "grid_auto_flow": null,
            "grid_auto_rows": null,
            "grid_column": null,
            "grid_gap": null,
            "grid_row": null,
            "grid_template_areas": null,
            "grid_template_columns": null,
            "grid_template_rows": null,
            "height": null,
            "justify_content": null,
            "justify_items": null,
            "left": null,
            "margin": null,
            "max_height": null,
            "max_width": null,
            "min_height": null,
            "min_width": null,
            "object_fit": null,
            "object_position": null,
            "order": null,
            "overflow": null,
            "overflow_x": null,
            "overflow_y": null,
            "padding": null,
            "right": null,
            "top": null,
            "visibility": null,
            "width": null
          }
        },
        "829d617a932a41bb921e02ca7b0862cd": {
          "model_module": "@jupyter-widgets/base",
          "model_name": "LayoutModel",
          "model_module_version": "1.2.0",
          "state": {
            "_model_module": "@jupyter-widgets/base",
            "_model_module_version": "1.2.0",
            "_model_name": "LayoutModel",
            "_view_count": null,
            "_view_module": "@jupyter-widgets/base",
            "_view_module_version": "1.2.0",
            "_view_name": "LayoutView",
            "align_content": null,
            "align_items": null,
            "align_self": null,
            "border": null,
            "bottom": null,
            "display": null,
            "flex": null,
            "flex_flow": null,
            "grid_area": null,
            "grid_auto_columns": null,
            "grid_auto_flow": null,
            "grid_auto_rows": null,
            "grid_column": null,
            "grid_gap": null,
            "grid_row": null,
            "grid_template_areas": null,
            "grid_template_columns": null,
            "grid_template_rows": null,
            "height": null,
            "justify_content": null,
            "justify_items": null,
            "left": null,
            "margin": null,
            "max_height": null,
            "max_width": null,
            "min_height": null,
            "min_width": null,
            "object_fit": null,
            "object_position": null,
            "order": null,
            "overflow": null,
            "overflow_x": null,
            "overflow_y": null,
            "padding": null,
            "right": null,
            "top": null,
            "visibility": null,
            "width": null
          }
        },
        "a15918d3bfb947ce9e8dacb5b60a385c": {
          "model_module": "@jupyter-widgets/controls",
          "model_name": "DescriptionStyleModel",
          "model_module_version": "1.5.0",
          "state": {
            "_model_module": "@jupyter-widgets/controls",
            "_model_module_version": "1.5.0",
            "_model_name": "DescriptionStyleModel",
            "_view_count": null,
            "_view_module": "@jupyter-widgets/base",
            "_view_module_version": "1.2.0",
            "_view_name": "StyleView",
            "description_width": ""
          }
        },
        "0d831927499b4313b4990d05c9818b9a": {
          "model_module": "@jupyter-widgets/base",
          "model_name": "LayoutModel",
          "model_module_version": "1.2.0",
          "state": {
            "_model_module": "@jupyter-widgets/base",
            "_model_module_version": "1.2.0",
            "_model_name": "LayoutModel",
            "_view_count": null,
            "_view_module": "@jupyter-widgets/base",
            "_view_module_version": "1.2.0",
            "_view_name": "LayoutView",
            "align_content": null,
            "align_items": null,
            "align_self": null,
            "border": null,
            "bottom": null,
            "display": null,
            "flex": null,
            "flex_flow": null,
            "grid_area": null,
            "grid_auto_columns": null,
            "grid_auto_flow": null,
            "grid_auto_rows": null,
            "grid_column": null,
            "grid_gap": null,
            "grid_row": null,
            "grid_template_areas": null,
            "grid_template_columns": null,
            "grid_template_rows": null,
            "height": null,
            "justify_content": null,
            "justify_items": null,
            "left": null,
            "margin": null,
            "max_height": null,
            "max_width": null,
            "min_height": null,
            "min_width": null,
            "object_fit": null,
            "object_position": null,
            "order": null,
            "overflow": null,
            "overflow_x": null,
            "overflow_y": null,
            "padding": null,
            "right": null,
            "top": null,
            "visibility": null,
            "width": null
          }
        },
        "8be40ddc7daf4d7f80d82cd7d2935d5f": {
          "model_module": "@jupyter-widgets/controls",
          "model_name": "ProgressStyleModel",
          "model_module_version": "1.5.0",
          "state": {
            "_model_module": "@jupyter-widgets/controls",
            "_model_module_version": "1.5.0",
            "_model_name": "ProgressStyleModel",
            "_view_count": null,
            "_view_module": "@jupyter-widgets/base",
            "_view_module_version": "1.2.0",
            "_view_name": "StyleView",
            "bar_color": null,
            "description_width": ""
          }
        },
        "c4f53d75dc21455c826c5cfdbe6a744c": {
          "model_module": "@jupyter-widgets/base",
          "model_name": "LayoutModel",
          "model_module_version": "1.2.0",
          "state": {
            "_model_module": "@jupyter-widgets/base",
            "_model_module_version": "1.2.0",
            "_model_name": "LayoutModel",
            "_view_count": null,
            "_view_module": "@jupyter-widgets/base",
            "_view_module_version": "1.2.0",
            "_view_name": "LayoutView",
            "align_content": null,
            "align_items": null,
            "align_self": null,
            "border": null,
            "bottom": null,
            "display": null,
            "flex": null,
            "flex_flow": null,
            "grid_area": null,
            "grid_auto_columns": null,
            "grid_auto_flow": null,
            "grid_auto_rows": null,
            "grid_column": null,
            "grid_gap": null,
            "grid_row": null,
            "grid_template_areas": null,
            "grid_template_columns": null,
            "grid_template_rows": null,
            "height": null,
            "justify_content": null,
            "justify_items": null,
            "left": null,
            "margin": null,
            "max_height": null,
            "max_width": null,
            "min_height": null,
            "min_width": null,
            "object_fit": null,
            "object_position": null,
            "order": null,
            "overflow": null,
            "overflow_x": null,
            "overflow_y": null,
            "padding": null,
            "right": null,
            "top": null,
            "visibility": null,
            "width": null
          }
        },
        "59bea99ca0254afdb2cd24952998d95b": {
          "model_module": "@jupyter-widgets/controls",
          "model_name": "DescriptionStyleModel",
          "model_module_version": "1.5.0",
          "state": {
            "_model_module": "@jupyter-widgets/controls",
            "_model_module_version": "1.5.0",
            "_model_name": "DescriptionStyleModel",
            "_view_count": null,
            "_view_module": "@jupyter-widgets/base",
            "_view_module_version": "1.2.0",
            "_view_name": "StyleView",
            "description_width": ""
          }
        },
        "088a7d6a38544c12882272f05c5d954a": {
          "model_module": "@jupyter-widgets/controls",
          "model_name": "HBoxModel",
          "model_module_version": "1.5.0",
          "state": {
            "_dom_classes": [],
            "_model_module": "@jupyter-widgets/controls",
            "_model_module_version": "1.5.0",
            "_model_name": "HBoxModel",
            "_view_count": null,
            "_view_module": "@jupyter-widgets/controls",
            "_view_module_version": "1.5.0",
            "_view_name": "HBoxView",
            "box_style": "",
            "children": [
              "IPY_MODEL_ed4a9b0d7dc34f02a52267b49f5b9c50",
              "IPY_MODEL_dd483b1f1e314524a6ea0845e1217ab9",
              "IPY_MODEL_2ad3295fdb174ae5a3c5f67bad2aed5a"
            ],
            "layout": "IPY_MODEL_1ed2723a66b84fc2b5769344b37c6064"
          }
        },
        "ed4a9b0d7dc34f02a52267b49f5b9c50": {
          "model_module": "@jupyter-widgets/controls",
          "model_name": "HTMLModel",
          "model_module_version": "1.5.0",
          "state": {
            "_dom_classes": [],
            "_model_module": "@jupyter-widgets/controls",
            "_model_module_version": "1.5.0",
            "_model_name": "HTMLModel",
            "_view_count": null,
            "_view_module": "@jupyter-widgets/controls",
            "_view_module_version": "1.5.0",
            "_view_name": "HTMLView",
            "description": "",
            "description_tooltip": null,
            "layout": "IPY_MODEL_67fc25d911ba410ca36c17737fb5fecc",
            "placeholder": "​",
            "style": "IPY_MODEL_5cc66e8fb5e14cb4a1ef9381c3662816",
            "value": "Downloading 1 files: 100%"
          }
        },
        "dd483b1f1e314524a6ea0845e1217ab9": {
          "model_module": "@jupyter-widgets/controls",
          "model_name": "FloatProgressModel",
          "model_module_version": "1.5.0",
          "state": {
            "_dom_classes": [],
            "_model_module": "@jupyter-widgets/controls",
            "_model_module_version": "1.5.0",
            "_model_name": "FloatProgressModel",
            "_view_count": null,
            "_view_module": "@jupyter-widgets/controls",
            "_view_module_version": "1.5.0",
            "_view_name": "ProgressView",
            "bar_style": "success",
            "description": "",
            "description_tooltip": null,
            "layout": "IPY_MODEL_5339c8d929174461b25411e35c8d143a",
            "max": 1,
            "min": 0,
            "orientation": "horizontal",
            "style": "IPY_MODEL_27f2ffc843784fce8cae7fc6e2dbc355",
            "value": 1
          }
        },
        "2ad3295fdb174ae5a3c5f67bad2aed5a": {
          "model_module": "@jupyter-widgets/controls",
          "model_name": "HTMLModel",
          "model_module_version": "1.5.0",
          "state": {
            "_dom_classes": [],
            "_model_module": "@jupyter-widgets/controls",
            "_model_module_version": "1.5.0",
            "_model_name": "HTMLModel",
            "_view_count": null,
            "_view_module": "@jupyter-widgets/controls",
            "_view_module_version": "1.5.0",
            "_view_name": "HTMLView",
            "description": "",
            "description_tooltip": null,
            "layout": "IPY_MODEL_6341e62ed224472aad7f8ee771e6dc10",
            "placeholder": "​",
            "style": "IPY_MODEL_f6b658e616da458fa7b6c68167edc889",
            "value": " 1/1 [00:00&lt;00:00,  1.42it/s]"
          }
        },
        "1ed2723a66b84fc2b5769344b37c6064": {
          "model_module": "@jupyter-widgets/base",
          "model_name": "LayoutModel",
          "model_module_version": "1.2.0",
          "state": {
            "_model_module": "@jupyter-widgets/base",
            "_model_module_version": "1.2.0",
            "_model_name": "LayoutModel",
            "_view_count": null,
            "_view_module": "@jupyter-widgets/base",
            "_view_module_version": "1.2.0",
            "_view_name": "LayoutView",
            "align_content": null,
            "align_items": null,
            "align_self": null,
            "border": null,
            "bottom": null,
            "display": null,
            "flex": null,
            "flex_flow": null,
            "grid_area": null,
            "grid_auto_columns": null,
            "grid_auto_flow": null,
            "grid_auto_rows": null,
            "grid_column": null,
            "grid_gap": null,
            "grid_row": null,
            "grid_template_areas": null,
            "grid_template_columns": null,
            "grid_template_rows": null,
            "height": null,
            "justify_content": null,
            "justify_items": null,
            "left": null,
            "margin": null,
            "max_height": null,
            "max_width": null,
            "min_height": null,
            "min_width": null,
            "object_fit": null,
            "object_position": null,
            "order": null,
            "overflow": null,
            "overflow_x": null,
            "overflow_y": null,
            "padding": null,
            "right": null,
            "top": null,
            "visibility": null,
            "width": null
          }
        },
        "67fc25d911ba410ca36c17737fb5fecc": {
          "model_module": "@jupyter-widgets/base",
          "model_name": "LayoutModel",
          "model_module_version": "1.2.0",
          "state": {
            "_model_module": "@jupyter-widgets/base",
            "_model_module_version": "1.2.0",
            "_model_name": "LayoutModel",
            "_view_count": null,
            "_view_module": "@jupyter-widgets/base",
            "_view_module_version": "1.2.0",
            "_view_name": "LayoutView",
            "align_content": null,
            "align_items": null,
            "align_self": null,
            "border": null,
            "bottom": null,
            "display": null,
            "flex": null,
            "flex_flow": null,
            "grid_area": null,
            "grid_auto_columns": null,
            "grid_auto_flow": null,
            "grid_auto_rows": null,
            "grid_column": null,
            "grid_gap": null,
            "grid_row": null,
            "grid_template_areas": null,
            "grid_template_columns": null,
            "grid_template_rows": null,
            "height": null,
            "justify_content": null,
            "justify_items": null,
            "left": null,
            "margin": null,
            "max_height": null,
            "max_width": null,
            "min_height": null,
            "min_width": null,
            "object_fit": null,
            "object_position": null,
            "order": null,
            "overflow": null,
            "overflow_x": null,
            "overflow_y": null,
            "padding": null,
            "right": null,
            "top": null,
            "visibility": null,
            "width": null
          }
        },
        "5cc66e8fb5e14cb4a1ef9381c3662816": {
          "model_module": "@jupyter-widgets/controls",
          "model_name": "DescriptionStyleModel",
          "model_module_version": "1.5.0",
          "state": {
            "_model_module": "@jupyter-widgets/controls",
            "_model_module_version": "1.5.0",
            "_model_name": "DescriptionStyleModel",
            "_view_count": null,
            "_view_module": "@jupyter-widgets/base",
            "_view_module_version": "1.2.0",
            "_view_name": "StyleView",
            "description_width": ""
          }
        },
        "5339c8d929174461b25411e35c8d143a": {
          "model_module": "@jupyter-widgets/base",
          "model_name": "LayoutModel",
          "model_module_version": "1.2.0",
          "state": {
            "_model_module": "@jupyter-widgets/base",
            "_model_module_version": "1.2.0",
            "_model_name": "LayoutModel",
            "_view_count": null,
            "_view_module": "@jupyter-widgets/base",
            "_view_module_version": "1.2.0",
            "_view_name": "LayoutView",
            "align_content": null,
            "align_items": null,
            "align_self": null,
            "border": null,
            "bottom": null,
            "display": null,
            "flex": null,
            "flex_flow": null,
            "grid_area": null,
            "grid_auto_columns": null,
            "grid_auto_flow": null,
            "grid_auto_rows": null,
            "grid_column": null,
            "grid_gap": null,
            "grid_row": null,
            "grid_template_areas": null,
            "grid_template_columns": null,
            "grid_template_rows": null,
            "height": null,
            "justify_content": null,
            "justify_items": null,
            "left": null,
            "margin": null,
            "max_height": null,
            "max_width": null,
            "min_height": null,
            "min_width": null,
            "object_fit": null,
            "object_position": null,
            "order": null,
            "overflow": null,
            "overflow_x": null,
            "overflow_y": null,
            "padding": null,
            "right": null,
            "top": null,
            "visibility": null,
            "width": null
          }
        },
        "27f2ffc843784fce8cae7fc6e2dbc355": {
          "model_module": "@jupyter-widgets/controls",
          "model_name": "ProgressStyleModel",
          "model_module_version": "1.5.0",
          "state": {
            "_model_module": "@jupyter-widgets/controls",
            "_model_module_version": "1.5.0",
            "_model_name": "ProgressStyleModel",
            "_view_count": null,
            "_view_module": "@jupyter-widgets/base",
            "_view_module_version": "1.2.0",
            "_view_name": "StyleView",
            "bar_color": null,
            "description_width": ""
          }
        },
        "6341e62ed224472aad7f8ee771e6dc10": {
          "model_module": "@jupyter-widgets/base",
          "model_name": "LayoutModel",
          "model_module_version": "1.2.0",
          "state": {
            "_model_module": "@jupyter-widgets/base",
            "_model_module_version": "1.2.0",
            "_model_name": "LayoutModel",
            "_view_count": null,
            "_view_module": "@jupyter-widgets/base",
            "_view_module_version": "1.2.0",
            "_view_name": "LayoutView",
            "align_content": null,
            "align_items": null,
            "align_self": null,
            "border": null,
            "bottom": null,
            "display": null,
            "flex": null,
            "flex_flow": null,
            "grid_area": null,
            "grid_auto_columns": null,
            "grid_auto_flow": null,
            "grid_auto_rows": null,
            "grid_column": null,
            "grid_gap": null,
            "grid_row": null,
            "grid_template_areas": null,
            "grid_template_columns": null,
            "grid_template_rows": null,
            "height": null,
            "justify_content": null,
            "justify_items": null,
            "left": null,
            "margin": null,
            "max_height": null,
            "max_width": null,
            "min_height": null,
            "min_width": null,
            "object_fit": null,
            "object_position": null,
            "order": null,
            "overflow": null,
            "overflow_x": null,
            "overflow_y": null,
            "padding": null,
            "right": null,
            "top": null,
            "visibility": null,
            "width": null
          }
        },
        "f6b658e616da458fa7b6c68167edc889": {
          "model_module": "@jupyter-widgets/controls",
          "model_name": "DescriptionStyleModel",
          "model_module_version": "1.5.0",
          "state": {
            "_model_module": "@jupyter-widgets/controls",
            "_model_module_version": "1.5.0",
            "_model_name": "DescriptionStyleModel",
            "_view_count": null,
            "_view_module": "@jupyter-widgets/base",
            "_view_module_version": "1.2.0",
            "_view_name": "StyleView",
            "description_width": ""
          }
        }
      }
    }
  },
  "cells": [
    {
      "cell_type": "code",
      "source": [
        "!mkdir /root/.config/kaggle\n",
        "!mv kaggle.json /root/.config/kaggle/"
      ],
      "metadata": {
        "id": "-7mF1a9JDnso"
      },
      "execution_count": 1,
      "outputs": []
    },
    {
      "cell_type": "code",
      "execution_count": 4,
      "metadata": {
        "colab": {
          "base_uri": "https://localhost:8080/",
          "height": 400,
          "referenced_widgets": [
            "550836f629504d10a9307cca3eafecb1",
            "802ad082ee104199ae49d4bb14cb6e57",
            "1e7ce8dcc75e46ce9d3a56f88d152093",
            "a5985531f4074bc8b15fb60c6f3e10f2",
            "91595bb9639b49659769441cba2485f1",
            "a52a3d39e1ad4148b203cacf2a5ed815",
            "4c1b7ce2433a4b818df7e18f11dff52a",
            "5b3438e1cf9145c1a11f320919a17bff",
            "eb872a42be5a45859564fe67257a6e6a",
            "9f55228cea334838999ad42ce99b3275",
            "79fca2cb1f1a4b48a5a24e872002b2aa",
            "252dc5bda33e459299739d81c3ec42c1",
            "d84c0035f87345d98d342fe359c97223",
            "e58fc1892c744611901eab1d3f023346",
            "bc326c1b23644d46a0bbed78d6056a8b",
            "af9aac6c335f4fb6a4a109b27b4e46b9",
            "829d617a932a41bb921e02ca7b0862cd",
            "a15918d3bfb947ce9e8dacb5b60a385c",
            "0d831927499b4313b4990d05c9818b9a",
            "8be40ddc7daf4d7f80d82cd7d2935d5f",
            "c4f53d75dc21455c826c5cfdbe6a744c",
            "59bea99ca0254afdb2cd24952998d95b",
            "088a7d6a38544c12882272f05c5d954a",
            "ed4a9b0d7dc34f02a52267b49f5b9c50",
            "dd483b1f1e314524a6ea0845e1217ab9",
            "2ad3295fdb174ae5a3c5f67bad2aed5a",
            "1ed2723a66b84fc2b5769344b37c6064",
            "67fc25d911ba410ca36c17737fb5fecc",
            "5cc66e8fb5e14cb4a1ef9381c3662816",
            "5339c8d929174461b25411e35c8d143a",
            "27f2ffc843784fce8cae7fc6e2dbc355",
            "6341e62ed224472aad7f8ee771e6dc10",
            "f6b658e616da458fa7b6c68167edc889"
          ]
        },
        "id": "qgTpfx9aDLaw",
        "outputId": "a399610c-df6c-4b16-c931-591b88fb586d"
      },
      "outputs": [
        {
          "output_type": "display_data",
          "data": {
            "text/plain": [
              "Downloading 1 files:   0%|          | 0/1 [00:00<?, ?it/s]"
            ],
            "application/vnd.jupyter.widget-view+json": {
              "version_major": 2,
              "version_minor": 0,
              "model_id": "550836f629504d10a9307cca3eafecb1"
            }
          },
          "metadata": {}
        },
        {
          "output_type": "stream",
          "name": "stdout",
          "text": [
            "Downloading from https://www.kaggle.com/api/v1/models/shusrith/cifar10_cnn_gradmask/PyTorch/default/1/download/cifar10_cnn_grad_masking.pth...\n"
          ]
        },
        {
          "output_type": "stream",
          "name": "stderr",
          "text": [
            "\n",
            "  0%|          | 0.00/18.5M [00:00<?, ?B/s]\u001b[A\n",
            " 38%|███▊      | 7.00M/18.5M [00:00<00:00, 72.3MB/s]\u001b[A\n",
            "100%|██████████| 18.5M/18.5M [00:00<00:00, 74.4MB/s]\n"
          ]
        },
        {
          "output_type": "display_data",
          "data": {
            "text/plain": [
              "Downloading 1 files:   0%|          | 0/1 [00:00<?, ?it/s]"
            ],
            "application/vnd.jupyter.widget-view+json": {
              "version_major": 2,
              "version_minor": 0,
              "model_id": "252dc5bda33e459299739d81c3ec42c1"
            }
          },
          "metadata": {}
        },
        {
          "output_type": "stream",
          "name": "stdout",
          "text": [
            "Downloading from https://www.kaggle.com/api/v1/models/shusrith/cifar10-cnn-residual/PyTorch/default/1/download/cifar10_cnn.pth...\n"
          ]
        },
        {
          "output_type": "stream",
          "name": "stderr",
          "text": [
            "\n",
            "  0%|          | 0.00/18.5M [00:00<?, ?B/s]\u001b[A\n",
            " 27%|██▋       | 5.00M/18.5M [00:00<00:00, 41.6MB/s]\u001b[A\n",
            "100%|██████████| 18.5M/18.5M [00:00<00:00, 71.7MB/s]\n"
          ]
        },
        {
          "output_type": "display_data",
          "data": {
            "text/plain": [
              "Downloading 1 files:   0%|          | 0/1 [00:00<?, ?it/s]"
            ],
            "application/vnd.jupyter.widget-view+json": {
              "version_major": 2,
              "version_minor": 0,
              "model_id": "088a7d6a38544c12882272f05c5d954a"
            }
          },
          "metadata": {}
        },
        {
          "output_type": "stream",
          "name": "stdout",
          "text": [
            "Downloading from https://www.kaggle.com/api/v1/models/shusrith/cifar-10-cnn-gradmask/PyTorch/with-dropout/1/download/cifar10_cnn_grad_masking.pth...\n"
          ]
        },
        {
          "output_type": "stream",
          "name": "stderr",
          "text": [
            "\n",
            "  0%|          | 0.00/18.5M [00:00<?, ?B/s]\u001b[A\n",
            " 38%|███▊      | 7.00M/18.5M [00:00<00:00, 52.8MB/s]\u001b[A\n",
            "100%|██████████| 18.5M/18.5M [00:00<00:00, 45.0MB/s]\n"
          ]
        }
      ],
      "source": [
        "import kagglehub\n",
        "\n",
        "import kagglehub\n",
        "featsqueeze = kagglehub.model_download('shusrith/cifar10_cnn_gradmask/PyTorch/default/1')\n",
        "normal = kagglehub.model_download('shusrith/cifar10-cnn-residual/PyTorch/default/1')\n",
        "gradmask = kagglehub.model_download('shusrith/cifar-10-cnn-gradmask/PyTorch/with-dropout/1')"
      ]
    },
    {
      "cell_type": "code",
      "source": [
        "import torch.nn as nn\n",
        "import torch\n",
        "\n",
        "\n",
        "class ResidualBlock(nn.Module):\n",
        "    def __init__(self, in_channels, out_channels, stride=1):\n",
        "        super(ResidualBlock, self).__init__()\n",
        "        self.conv1 = nn.Conv2d(\n",
        "            in_channels,\n",
        "            out_channels,\n",
        "            kernel_size=3,\n",
        "            stride=stride,\n",
        "            padding=1,\n",
        "            bias=False,\n",
        "        )\n",
        "        self.bn1 = nn.BatchNorm2d(out_channels)\n",
        "        self.conv2 = nn.Conv2d(\n",
        "            out_channels, out_channels, kernel_size=3, stride=1, padding=1, bias=False\n",
        "        )\n",
        "        self.bn2 = nn.BatchNorm2d(out_channels)\n",
        "\n",
        "        self.shortcut = nn.Sequential()\n",
        "        if stride != 1 or in_channels != out_channels:\n",
        "            self.shortcut = nn.Sequential(\n",
        "                nn.Conv2d(\n",
        "                    in_channels, out_channels, kernel_size=1, stride=stride, bias=False\n",
        "                ),\n",
        "                nn.BatchNorm2d(out_channels),\n",
        "            )\n",
        "\n",
        "    def forward(self, x):\n",
        "        out = torch.relu(self.bn1(self.conv1(x)))\n",
        "        out = self.bn2(self.conv2(out))\n",
        "        out += self.shortcut(x)\n",
        "        return torch.relu(out)\n",
        "\n",
        "\n",
        "class CNN(nn.Module):\n",
        "    def __init__(self):\n",
        "        super(CNN, self).__init__()\n",
        "        self.conv1 = nn.Conv2d(3, 64, kernel_size=3, stride=1, padding=1, bias=False)\n",
        "        self.bn1 = nn.BatchNorm2d(64)\n",
        "\n",
        "        self.layer1 = ResidualBlock(64, 128, stride=2)\n",
        "        self.layer2 = ResidualBlock(128, 256, stride=2)\n",
        "        self.layer3 = ResidualBlock(256, 512, stride=2)\n",
        "        self.dropout = nn.Dropout(0.3)\n",
        "        self.avg_pool = nn.AdaptiveAvgPool2d((1, 1))\n",
        "        self.fc = nn.Linear(512, 10)\n",
        "\n",
        "    def forward(self, x):\n",
        "        x = torch.relu(self.bn1(self.conv1(x)))\n",
        "        x = self.layer1(x)\n",
        "        x = self.layer2(x)\n",
        "        x = self.layer3(x)\n",
        "        x = self.avg_pool(x)\n",
        "        x = torch.flatten(x, 1)\n",
        "        x = self.dropout(x)\n",
        "        return self.fc(x)"
      ],
      "metadata": {
        "id": "_w4V8Z-eGDDk"
      },
      "execution_count": 5,
      "outputs": []
    },
    {
      "cell_type": "code",
      "source": [
        "import torch\n",
        "\n",
        "def stochastic_relu(x):\n",
        "    noise = torch.randn_like(x) * 0.5\n",
        "    return torch.relu(x + noise)\n",
        "\n",
        "\n",
        "import torch.nn as nn\n",
        "import torch\n",
        "\n",
        "\n",
        "class ResidualBlock1(nn.Module):\n",
        "    def __init__(self, in_channels, out_channels, stride=1):\n",
        "        super(ResidualBlock1, self).__init__()\n",
        "        self.conv1 = nn.Conv2d(\n",
        "            in_channels,\n",
        "            out_channels,\n",
        "            kernel_size=3,\n",
        "            stride=stride,\n",
        "            padding=1,\n",
        "            bias=False,\n",
        "        )\n",
        "        self.bn1 = nn.BatchNorm2d(out_channels)\n",
        "        self.conv2 = nn.Conv2d(\n",
        "            out_channels, out_channels, kernel_size=3, stride=1, padding=1, bias=False\n",
        "        )\n",
        "        self.bn2 = nn.BatchNorm2d(out_channels)\n",
        "\n",
        "        self.shortcut = nn.Sequential()\n",
        "        if stride != 1 or in_channels != out_channels:\n",
        "            self.shortcut = nn.Sequential(\n",
        "                nn.Conv2d(\n",
        "                    in_channels, out_channels, kernel_size=1, stride=stride, bias=False\n",
        "                ),\n",
        "                nn.BatchNorm2d(out_channels),\n",
        "            )\n",
        "\n",
        "    def forward(self, x):\n",
        "        out = stochastic_relu(self.bn1(self.conv1(x)))\n",
        "        out = self.bn2(self.conv2(out))\n",
        "        out += self.shortcut(x)\n",
        "        return stochastic_relu(out)\n",
        "\n",
        "\n",
        "class CNN1(nn.Module):\n",
        "    def __init__(self):\n",
        "        super(CNN1, self).__init__()\n",
        "        self.conv1 = nn.Conv2d(3, 64, kernel_size=3, stride=1, padding=1, bias=False)\n",
        "        self.bn1 = nn.BatchNorm2d(64)\n",
        "\n",
        "        self.layer1 = ResidualBlock1(64, 128, stride=2)\n",
        "        self.layer2 = ResidualBlock1(128, 256, stride=2)\n",
        "        self.layer3 = ResidualBlock1(256, 512, stride=2)\n",
        "        self.dropout = nn.Dropout(0.3)\n",
        "        self.avg_pool = nn.AdaptiveAvgPool2d((1, 1))\n",
        "        self.fc = nn.Linear(512, 10)\n",
        "\n",
        "    def forward(self, x):\n",
        "        x = stochastic_relu(self.bn1(self.conv1(x)))\n",
        "        x = self.layer1(x)\n",
        "        x = self.layer2(x)\n",
        "        x = self.layer3(x)\n",
        "        x = self.avg_pool(x)\n",
        "        x = torch.flatten(x, 1)\n",
        "        x = self.dropout(x)\n",
        "        return self.fc(x)"
      ],
      "metadata": {
        "id": "QW5X5oYR7dRV"
      },
      "execution_count": 47,
      "outputs": []
    },
    {
      "cell_type": "code",
      "source": [
        "import torchvision\n",
        "train = torchvision.datasets.CIFAR10(root='./data',train=True, download=True)\n",
        "transform = torchvision.transforms.ToTensor()\n",
        "a = transform(train[0][0])\n",
        "print(train[0][1])"
      ],
      "metadata": {
        "colab": {
          "base_uri": "https://localhost:8080/"
        },
        "id": "tC44aJ9F7nDo",
        "outputId": "b619d5d1-6dd2-43ae-a90d-9115338ef777"
      },
      "execution_count": 39,
      "outputs": [
        {
          "output_type": "stream",
          "name": "stdout",
          "text": [
            "Files already downloaded and verified\n",
            "6\n"
          ]
        }
      ]
    },
    {
      "cell_type": "code",
      "source": [
        "target_class = torch.tensor([9], dtype=torch.long, device=\"cuda\")"
      ],
      "metadata": {
        "id": "eT-ebMI_8eyL"
      },
      "execution_count": 40,
      "outputs": []
    },
    {
      "cell_type": "code",
      "source": [
        "model = CNN()\n",
        "model.load_state_dict(torch.load(f\"{normal}/cifar10_cnn.pth\", weights_only=True))\n",
        "model = model.to(\"cuda\")"
      ],
      "metadata": {
        "id": "b6HuT2yg8lM-"
      },
      "execution_count": 41,
      "outputs": []
    },
    {
      "cell_type": "code",
      "source": [
        "def fgsm_attack(model, input_image, target_class, epsilon=0.1):\n",
        "    input_image = input_image.unsqueeze(0).to(\"cuda\")\n",
        "    input_image.requires_grad = True\n",
        "\n",
        "    model.eval()\n",
        "    output = model(input_image)\n",
        "\n",
        "    loss = -torch.nn.functional.cross_entropy(output, target_class)\n",
        "    model.zero_grad()\n",
        "    loss.backward()\n",
        "\n",
        "    if input_image.grad is None:\n",
        "        raise ValueError(\"Gradients not computed. Ensure input_image.requires_grad = True before forward pass.\")\n",
        "\n",
        "    with torch.no_grad():\n",
        "        perturbed_image = input_image + epsilon * input_image.grad.sign()\n",
        "        perturbed_image = torch.clamp(perturbed_image, 0, 1)\n",
        "        output1 = model(perturbed_image)\n",
        "        pred = torch.nn.functional.softmax(output1, dim=1)\n",
        "        pred = torch.argmax(pred)\n",
        "\n",
        "    return loss.item(), perturbed_image, pred"
      ],
      "metadata": {
        "id": "aERAXdTD87U0"
      },
      "execution_count": 54,
      "outputs": []
    },
    {
      "cell_type": "code",
      "source": [
        "fgsm_attack(model, a, target_class)"
      ],
      "metadata": {
        "colab": {
          "base_uri": "https://localhost:8080/"
        },
        "id": "rnku2_pm9V0r",
        "outputId": "9932669c-e9f8-4f1f-92b4-ce15e496b192"
      },
      "execution_count": 55,
      "outputs": [
        {
          "output_type": "execute_result",
          "data": {
            "text/plain": [
              "(-13.551685333251953,\n",
              " tensor([[[[0.3314, 0.2686, 0.2961,  ..., 0.7196, 0.6961, 0.4804],\n",
              "           [0.0000, 0.0000, 0.1706,  ..., 0.3824, 0.5667, 0.3784],\n",
              "           [0.1980, 0.0000, 0.2922,  ..., 0.3627, 0.3706, 0.3275],\n",
              "           ...,\n",
              "           [0.9157, 0.6882, 0.8765,  ..., 0.7275, 0.3196, 0.1078],\n",
              "           [0.6059, 0.5784, 0.6294,  ..., 0.6216, 0.2804, 0.2255],\n",
              "           [0.5941, 0.7588, 0.8020,  ..., 0.7471, 0.4922, 0.3824]],\n",
              " \n",
              "          [[0.3431, 0.2804, 0.0882,  ..., 0.6176, 0.3902, 0.3863],\n",
              "           [0.0000, 0.0000, 0.0000,  ..., 0.4451, 0.4255, 0.2412],\n",
              "           [0.1941, 0.0000, 0.0059,  ..., 0.4294, 0.4294, 0.3863],\n",
              "           ...,\n",
              "           [0.7667, 0.5000, 0.7314,  ..., 0.4216, 0.0216, 0.2333],\n",
              "           [0.6451, 0.5824, 0.4647,  ..., 0.6804, 0.3431, 0.3078],\n",
              "           [0.6647, 0.6059, 0.6569,  ..., 0.8216, 0.5627, 0.4608]],\n",
              " \n",
              "          [[0.3471, 0.2765, 0.2686,  ..., 0.3235, 0.3000, 0.3039],\n",
              "           [0.1784, 0.1000, 0.0000,  ..., 0.1157, 0.2961, 0.1235],\n",
              "           [0.1824, 0.0000, 0.0000,  ..., 0.0961, 0.2961, 0.2647],\n",
              "           ...,\n",
              "           [0.2765, 0.0333, 0.0020,  ..., 0.3745, 0.0000, 0.0000],\n",
              "           [0.4765, 0.0647, 0.0176,  ..., 0.4686, 0.2333, 0.2333],\n",
              "           [0.3549, 0.4686, 0.2412,  ..., 0.4490, 0.2294, 0.1824]]]],\n",
              "        device='cuda:0'),\n",
              " tensor(4, device='cuda:0'))"
            ]
          },
          "metadata": {},
          "execution_count": 55
        }
      ]
    },
    {
      "cell_type": "code",
      "source": [
        "model1 = CNN1()\n",
        "model1.load_state_dict(torch.load(f\"{gradmask}/cifar10_cnn_grad_masking.pth\", weights_only=True))\n",
        "model1 = model1.to(\"cuda\")"
      ],
      "metadata": {
        "id": "sW_if_Kz9a4K"
      },
      "execution_count": 56,
      "outputs": []
    },
    {
      "cell_type": "code",
      "source": [
        "fgsm_attack(model1, a, target_class)"
      ],
      "metadata": {
        "colab": {
          "base_uri": "https://localhost:8080/"
        },
        "id": "uXvroMl09lz0",
        "outputId": "1889acf3-5242-4735-c4e0-a807593679e5"
      },
      "execution_count": 57,
      "outputs": [
        {
          "output_type": "execute_result",
          "data": {
            "text/plain": [
              "(-11.181758880615234,\n",
              " tensor([[[[0.3314, 0.2686, 0.2961,  ..., 0.5196, 0.6961, 0.6804],\n",
              "           [0.0000, 0.0000, 0.1706,  ..., 0.5824, 0.3667, 0.3784],\n",
              "           [0.1980, 0.0000, 0.2922,  ..., 0.5627, 0.5706, 0.3275],\n",
              "           ...,\n",
              "           [0.7157, 0.8882, 0.8765,  ..., 0.7275, 0.1196, 0.3078],\n",
              "           [0.8059, 0.5784, 0.6294,  ..., 0.6216, 0.2804, 0.2255],\n",
              "           [0.7941, 0.7588, 0.8020,  ..., 0.9471, 0.6922, 0.3824]],\n",
              " \n",
              "          [[0.1431, 0.0804, 0.2882,  ..., 0.4176, 0.3902, 0.5863],\n",
              "           [0.1784, 0.0000, 0.1314,  ..., 0.2451, 0.2255, 0.4412],\n",
              "           [0.1941, 0.0000, 0.2059,  ..., 0.4294, 0.2294, 0.3863],\n",
              "           ...,\n",
              "           [0.5667, 0.5000, 0.7314,  ..., 0.6216, 0.0216, 0.2333],\n",
              "           [0.4451, 0.3824, 0.4647,  ..., 0.4804, 0.3431, 0.3078],\n",
              "           [0.4647, 0.6059, 0.4569,  ..., 0.8216, 0.5627, 0.4608]],\n",
              " \n",
              "          [[0.3471, 0.2765, 0.0686,  ..., 0.3235, 0.3000, 0.3039],\n",
              "           [0.1784, 0.0000, 0.1000,  ..., 0.3157, 0.0961, 0.3235],\n",
              "           [0.1824, 0.0000, 0.1314,  ..., 0.2961, 0.0961, 0.2647],\n",
              "           ...,\n",
              "           [0.4765, 0.2333, 0.2020,  ..., 0.3745, 0.1275, 0.1784],\n",
              "           [0.2765, 0.0647, 0.0176,  ..., 0.2686, 0.0333, 0.2333],\n",
              "           [0.3549, 0.4686, 0.4412,  ..., 0.4490, 0.2294, 0.3824]]]],\n",
              "        device='cuda:0'),\n",
              " tensor(1, device='cuda:0'))"
            ]
          },
          "metadata": {},
          "execution_count": 57
        }
      ]
    },
    {
      "cell_type": "code",
      "source": [
        "import numpy as np\n",
        "import cv2\n",
        "\n",
        "def to4bit(image):\n",
        "    return torch.round(image * 15) / 15\n",
        "\n",
        "def median_filter(image):\n",
        "    image_np = (image.permute(1, 2, 0).numpy() * 255).astype(np.uint8)\n",
        "    filtered_np = np.stack([cv2.medianBlur(image_np[:, :, c], 3) for c in range(3)], axis=-1)\n",
        "    filtered_tensor = torch.tensor(filtered_np, dtype=torch.float32).permute(2, 0, 1) / 255.0\n",
        "    return filtered_tensor\n",
        "\n",
        "\n",
        "\n",
        "import torchvision.transforms as transforms\n",
        "import numpy as np\n",
        "import cv2\n",
        "\n",
        "transform_train = transforms.Compose(\n",
        "    [\n",
        "        transforms.RandomCrop(32, padding=4),\n",
        "        transforms.RandomHorizontalFlip(),\n",
        "        transforms.ToTensor(),\n",
        "        transforms.Normalize((0.4914, 0.4822, 0.4465), (0.2470, 0.2435, 0.2616)),\n",
        "        transforms.Lambda(to4bit),\n",
        "        transforms.Lambda(median_filter)\n",
        "    ]\n",
        ")\n",
        "\n",
        "transform_test = transforms.Compose(\n",
        "    [\n",
        "        transforms.ToTensor(),\n",
        "        transforms.Normalize((0.4914, 0.4822, 0.4465), (0.2470, 0.2435, 0.2616)),\n",
        "        transforms.Lambda(to4bit),\n",
        "        transforms.Lambda(median_filter),\n",
        "    ]\n",
        ")\n",
        "\n",
        "train = torchvision.datasets.CIFAR10(root='./data',train=True,download=True,transform=transform_train)\n",
        "a, label = train[0]\n",
        "label"
      ],
      "metadata": {
        "colab": {
          "base_uri": "https://localhost:8080/"
        },
        "id": "hlqSFFjM-_Hs",
        "outputId": "0c19fdd3-aaa9-4857-dd5c-cd3372223d02"
      },
      "execution_count": 59,
      "outputs": [
        {
          "output_type": "stream",
          "name": "stdout",
          "text": [
            "Files already downloaded and verified\n"
          ]
        },
        {
          "output_type": "execute_result",
          "data": {
            "text/plain": [
              "6"
            ]
          },
          "metadata": {},
          "execution_count": 59
        }
      ]
    },
    {
      "cell_type": "code",
      "source": [
        "model = CNN()\n",
        "model.load_state_dict(torch.load(f\"{featsqueeze}/cifar10_cnn_grad_masking.pth\", weights_only=True))\n",
        "model = model.to(\"cuda\")"
      ],
      "metadata": {
        "id": "1cZKe0oq_wjy"
      },
      "execution_count": 61,
      "outputs": []
    },
    {
      "cell_type": "code",
      "source": [
        "fgsm_attack(model, a, target_class)"
      ],
      "metadata": {
        "colab": {
          "base_uri": "https://localhost:8080/"
        },
        "id": "v5y7dJr2ANVn",
        "outputId": "2f44efdd-4782-4599-a7a2-ff18204927c5"
      },
      "execution_count": 63,
      "outputs": [
        {
          "output_type": "execute_result",
          "data": {
            "text/plain": [
              "(-10.039913177490234,\n",
              " tensor([[[[0.1078, 0.0000, 0.0000,  ..., 0.1078, 0.1078, 0.0000],\n",
              "           [0.1078, 0.0000, 0.0000,  ..., 0.1078, 0.1078, 0.0000],\n",
              "           [0.1078, 0.0000, 0.0000,  ..., 0.1078, 0.1078, 0.0000],\n",
              "           ...,\n",
              "           [0.0333, 0.1000, 0.3667,  ..., 0.1078, 0.1078, 0.0000],\n",
              "           [0.3667, 0.1667, 0.3667,  ..., 0.1078, 0.0000, 0.0000],\n",
              "           [0.1667, 0.3667, 0.1667,  ..., 0.0000, 0.0000, 0.1078]],\n",
              " \n",
              "          [[0.0000, 0.1078, 0.0000,  ..., 0.1078, 0.1078, 0.0000],\n",
              "           [0.0000, 0.1078, 0.0000,  ..., 0.1078, 0.1078, 0.0000],\n",
              "           [0.1078, 0.0000, 0.1078,  ..., 0.1078, 0.1078, 0.0000],\n",
              "           ...,\n",
              "           [0.3706, 0.5706, 0.5039,  ..., 0.1078, 0.1078, 0.1078],\n",
              "           [0.5706, 0.6373, 0.5039,  ..., 0.1078, 0.1078, 0.1078],\n",
              "           [0.5706, 0.5039, 0.5039,  ..., 0.0000, 0.0000, 0.1078]],\n",
              " \n",
              "          [[0.1745, 0.1745, 0.1745,  ..., 0.3745, 0.3745, 0.1745],\n",
              "           [0.3745, 0.3745, 0.1745,  ..., 0.3745, 0.3745, 0.1745],\n",
              "           [0.3745, 0.3745, 0.3745,  ..., 0.3745, 0.3745, 0.1745],\n",
              "           ...,\n",
              "           [0.9078, 0.0000, 0.1706,  ..., 0.3745, 0.3745, 0.3745],\n",
              "           [0.9078, 0.7745, 0.0000,  ..., 0.1745, 0.1745, 0.1745],\n",
              "           [0.6412, 0.7745, 0.5039,  ..., 0.3745, 0.1745, 0.1745]]]],\n",
              "        device='cuda:0'),\n",
              " tensor(9, device='cuda:0'))"
            ]
          },
          "metadata": {},
          "execution_count": 63
        }
      ]
    },
    {
      "cell_type": "code",
      "source": [],
      "metadata": {
        "id": "WUubC_XUARQP"
      },
      "execution_count": null,
      "outputs": []
    }
  ]
}