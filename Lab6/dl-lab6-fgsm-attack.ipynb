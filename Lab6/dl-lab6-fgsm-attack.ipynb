{
 "cells": [
  {
   "cell_type": "markdown",
   "metadata": {},
   "source": [
    "# FGSM attack on a pre-trained CNN\n"
   ]
  },
  {
   "cell_type": "code",
   "execution_count": 1,
   "metadata": {
    "_cell_guid": "b1076dfc-b9ad-4769-8c92-a6c4dae69d19",
    "_uuid": "8f2839f25d086af736a60e9eeb907d3b93b6e0e5",
    "execution": {
     "iopub.execute_input": "2025-03-03T03:30:47.987866Z",
     "iopub.status.busy": "2025-03-03T03:30:47.987579Z",
     "iopub.status.idle": "2025-03-03T03:30:52.597082Z",
     "shell.execute_reply": "2025-03-03T03:30:52.596236Z",
     "shell.execute_reply.started": "2025-03-03T03:30:47.987842Z"
    },
    "trusted": true
   },
   "outputs": [],
   "source": [
    "import torch.nn as nn\n",
    "import torch\n",
    "\n",
    "\n",
    "class ResidualBlock(nn.Module):\n",
    "    def __init__(self, in_channels, out_channels, stride=1):\n",
    "        super(ResidualBlock, self).__init__()\n",
    "        self.conv1 = nn.Conv2d(\n",
    "            in_channels,\n",
    "            out_channels,\n",
    "            kernel_size=3,\n",
    "            stride=stride,\n",
    "            padding=1,\n",
    "            bias=False,\n",
    "        )\n",
    "        self.bn1 = nn.BatchNorm2d(out_channels)\n",
    "        self.conv2 = nn.Conv2d(\n",
    "            out_channels, out_channels, kernel_size=3, stride=1, padding=1, bias=False\n",
    "        )\n",
    "        self.bn2 = nn.BatchNorm2d(out_channels)\n",
    "\n",
    "        self.shortcut = nn.Sequential()\n",
    "        if stride != 1 or in_channels != out_channels:\n",
    "            self.shortcut = nn.Sequential(\n",
    "                nn.Conv2d(\n",
    "                    in_channels, out_channels, kernel_size=1, stride=stride, bias=False\n",
    "                ),\n",
    "                nn.BatchNorm2d(out_channels),\n",
    "            )\n",
    "\n",
    "    def forward(self, x):\n",
    "        out = torch.relu(self.bn1(self.conv1(x)))\n",
    "        out = self.bn2(self.conv2(out))\n",
    "        out += self.shortcut(x)  \n",
    "        return torch.relu(out)\n",
    "\n",
    "\n",
    "class CNN(nn.Module):\n",
    "    def __init__(self):\n",
    "        super(CNN, self).__init__()\n",
    "        self.conv1 = nn.Conv2d(3, 64, kernel_size=3, stride=1, padding=1, bias=False)\n",
    "        self.bn1 = nn.BatchNorm2d(64)\n",
    "\n",
    "        self.layer1 = ResidualBlock(64, 128, stride=2)\n",
    "        self.layer2 = ResidualBlock(128, 256, stride=2)\n",
    "        self.layer3 = ResidualBlock(256, 512, stride=2)\n",
    "\n",
    "        self.avg_pool = nn.AdaptiveAvgPool2d((1, 1))\n",
    "        self.fc = nn.Linear(512, 10)\n",
    "\n",
    "    def forward(self, x):\n",
    "        x = torch.relu(self.bn1(self.conv1(x)))\n",
    "        x = self.layer1(x)\n",
    "        x = self.layer2(x)\n",
    "        x = self.layer3(x)\n",
    "        x = self.avg_pool(x)\n",
    "        x = torch.flatten(x, 1)\n",
    "        return self.fc(x)"
   ]
  },
  {
   "cell_type": "code",
   "execution_count": 2,
   "metadata": {
    "execution": {
     "iopub.execute_input": "2025-03-03T03:31:29.592416Z",
     "iopub.status.busy": "2025-03-03T03:31:29.591974Z",
     "iopub.status.idle": "2025-03-03T03:31:30.420067Z",
     "shell.execute_reply": "2025-03-03T03:31:30.419386Z",
     "shell.execute_reply.started": "2025-03-03T03:31:29.592381Z"
    },
    "trusted": true
   },
   "outputs": [
    {
     "data": {
      "text/plain": [
       "<All keys matched successfully>"
      ]
     },
     "execution_count": 2,
     "metadata": {},
     "output_type": "execute_result"
    }
   ],
   "source": [
    "import torch\n",
    "model = CNN()\n",
    "model.load_state_dict(torch.load(\"cifar10_cnn.pth\", weights_only=True))"
   ]
  },
  {
   "cell_type": "code",
   "execution_count": 18,
   "metadata": {
    "execution": {
     "iopub.execute_input": "2025-03-03T04:36:25.374530Z",
     "iopub.status.busy": "2025-03-03T04:36:25.374184Z",
     "iopub.status.idle": "2025-03-03T04:36:25.379894Z",
     "shell.execute_reply": "2025-03-03T04:36:25.378937Z",
     "shell.execute_reply.started": "2025-03-03T04:36:25.374503Z"
    },
    "trusted": true
   },
   "outputs": [],
   "source": [
    "input_image = torch.randn(1, 3, 32, 32).to(\"cuda\")\n",
    "input_image = input_image.detach().clone()\n",
    "input_image.requires_grad_(True)\n",
    "target_class = torch.tensor([9], dtype=torch.long, device=\"cuda\") "
   ]
  },
  {
   "cell_type": "code",
   "execution_count": null,
   "metadata": {
    "execution": {
     "iopub.execute_input": "2025-03-03T04:36:28.239241Z",
     "iopub.status.busy": "2025-03-03T04:36:28.238933Z",
     "iopub.status.idle": "2025-03-03T04:36:35.776925Z",
     "shell.execute_reply": "2025-03-03T04:36:35.776049Z",
     "shell.execute_reply.started": "2025-03-03T04:36:28.239215Z"
    },
    "trusted": true
   },
   "outputs": [
    {
     "name": "stdout",
     "output_type": "stream",
     "text": [
      "Iteration 0, Loss: -7.961386203765869\n",
      "Iteration 1, Loss: -9.471053123474121\n",
      "Iteration 2, Loss: -5.2749810218811035\n",
      "Iteration 3, Loss: -0.0019996424671262503\n",
      "Iteration 4, Loss: -0.0\n",
      "Iteration 5, Loss: -0.25832599401474\n",
      "Iteration 6, Loss: -0.0\n",
      "Iteration 7, Loss: -0.0\n",
      "Iteration 8, Loss: -1.585470999998506e-05\n",
      "Iteration 9, Loss: -0.0\n"
     ]
    }
   ],
   "source": [
    "model = model.to(\"cuda\")\n",
    "model.eval()\n",
    "for i in range(10):\n",
    "    output = model(input_image)\n",
    "    loss = -torch.nn.functional.cross_entropy(output, target_class)\n",
    "    \n",
    "    model.zero_grad()\n",
    "    loss.backward()\n",
    "    \n",
    "    with torch.no_grad():\n",
    "        input_image += 0.1 * input_image.grad.sign()\n",
    "        input_image.clamp_(0, 1)\n",
    "    input_image.grad.zero_()\n",
    "    print(f\"Iteration {i}, Loss: {loss.item()}\")"
   ]
  },
  {
   "cell_type": "code",
   "execution_count": 21,
   "metadata": {
    "execution": {
     "iopub.execute_input": "2025-03-03T04:36:46.014245Z",
     "iopub.status.busy": "2025-03-03T04:36:46.013901Z",
     "iopub.status.idle": "2025-03-03T04:36:46.023624Z",
     "shell.execute_reply": "2025-03-03T04:36:46.022804Z",
     "shell.execute_reply.started": "2025-03-03T04:36:46.014215Z"
    },
    "trusted": true
   },
   "outputs": [
    {
     "data": {
      "text/plain": [
       "tensor(9, device='cuda:0')"
      ]
     },
     "execution_count": 21,
     "metadata": {},
     "output_type": "execute_result"
    }
   ],
   "source": [
    "a = model(input_image)\n",
    "torch.argmax(torch.nn.functional.softmax(a, dim=1))"
   ]
  },
  {
   "cell_type": "code",
   "execution_count": 24,
   "metadata": {
    "execution": {
     "iopub.execute_input": "2025-03-03T04:36:47.724259Z",
     "iopub.status.busy": "2025-03-03T04:36:47.723943Z",
     "iopub.status.idle": "2025-03-03T04:36:48.551501Z",
     "shell.execute_reply": "2025-03-03T04:36:48.550763Z",
     "shell.execute_reply.started": "2025-03-03T04:36:47.724231Z"
    },
    "trusted": true
   },
   "outputs": [
    {
     "name": "stdout",
     "output_type": "stream",
     "text": [
      "Files already downloaded and verified\n"
     ]
    },
    {
     "data": {
      "text/plain": [
       "tensor(9, device='cuda:0')"
      ]
     },
     "execution_count": 24,
     "metadata": {},
     "output_type": "execute_result"
    }
   ],
   "source": [
    "import torchvision\n",
    "train = torchvision.datasets.CIFAR10(root='./data',train=True, download=True)\n",
    "transform = torchvision.transforms.ToTensor()\n",
    "a = transform(train[0][0])\n",
    "a = torch.Tensor(a).to(\"cuda\").unsqueeze(dim=0) + input_image\n",
    "a = a.clamp(0, 1)\n",
    "torch.argmax(torch.nn.functional.softmax(model(a), dim=1))"
   ]
  },
  {
   "cell_type": "code",
   "execution_count": 29,
   "metadata": {},
   "outputs": [
    {
     "data": {
      "image/png": "[encoded data removed]",
      "text/plain": [
       "<Figure size 640x480 with 3 Axes>"
      ]
     },
     "metadata": {},
     "output_type": "display_data"
    }
   ],
   "source": [
    "import matplotlib.pyplot as plt\n",
    "subplots = plt.subplots(1, 3)\n",
    "fig, (ax1, ax2, ax3) = subplots\n",
    "ax1.imshow(train[0][0])\n",
    "ax2.imshow(input_image.to(\"cpu\").detach().numpy().reshape(32, 32, 3))\n",
    "ax3.imshow(a.to(\"cpu\").detach().numpy().reshape(32, 32, 3))\n",
    "plt.show()"
   ]
  }
 ],
 "metadata": {
  "kaggle": {
   "accelerator": "nvidiaTeslaT4",
   "dataSources": [
    {
     "isSourceIdPinned": true,
     "modelId": 254890,
     "modelInstanceId": 233166,
     "sourceId": 272341,
     "sourceType": "modelInstanceVersion"
    }
   ],
   "isGpuEnabled": true,
   "isInternetEnabled": true,
   "language": "python",
   "sourceType": "notebook"
  },
  "kernelspec": {
   "display_name": "Python (myenv)",
   "language": "python",
   "name": "torch"
  },
  "language_info": {
   "codemirror_mode": {
    "name": "ipython",
    "version": 3
   },
   "file_extension": ".py",
   "mimetype": "text/x-python",
   "name": "python",
   "nbconvert_exporter": "python",
   "pygments_lexer": "ipython3",
   "version": "3.12.3"
  }
 },
 "nbformat": 4,
 "nbformat_minor": 4
}
