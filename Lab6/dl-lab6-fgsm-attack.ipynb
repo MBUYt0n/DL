{
 "cells": [
  {
   "cell_type": "code",
   "execution_count": 1,
   "metadata": {
    "_cell_guid": "b1076dfc-b9ad-4769-8c92-a6c4dae69d19",
    "_uuid": "8f2839f25d086af736a60e9eeb907d3b93b6e0e5",
    "execution": {
     "iopub.execute_input": "2025-03-09T12:11:31.312163Z",
     "iopub.status.busy": "2025-03-09T12:11:31.311896Z",
     "iopub.status.idle": "2025-03-09T12:11:34.611864Z",
     "shell.execute_reply": "2025-03-09T12:11:34.611035Z",
     "shell.execute_reply.started": "2025-03-09T12:11:31.312127Z"
    },
    "trusted": true
   },
   "outputs": [],
   "source": [
    "import torch.nn as nn\n",
    "\n",
    "\n",
    "\n",
    "class ResidualBlock(nn.Module):\n",
    "    def __init__(self, in_channels, out_channels, stride=1):\n",
    "        super(ResidualBlock, self).__init__()\n",
    "        self.conv1 = nn.Conv2d(\n",
    "            in_channels,\n",
    "            out_channels,\n",
    "            kernel_size=3,\n",
    "            stride=stride,\n",
    "            padding=1,\n",
    "            bias=False,\n",
    "        )\n",
    "        self.bn1 = nn.BatchNorm2d(out_channels)\n",
    "        self.conv2 = nn.Conv2d(\n",
    "            out_channels, out_channels, kernel_size=3, stride=1, padding=1, bias=False\n",
    "        )\n",
    "        self.bn2 = nn.BatchNorm2d(out_channels)\n",
    "\n",
    "        self.shortcut = nn.Sequential()\n",
    "        if stride != 1 or in_channels != out_channels:\n",
    "            self.shortcut = nn.Sequential(\n",
    "                nn.Conv2d(\n",
    "                    in_channels, out_channels, kernel_size=1, stride=stride, bias=False\n",
    "                ),\n",
    "                nn.BatchNorm2d(out_channels),\n",
    "            )\n",
    "\n",
    "    def forward(self, x):\n",
    "        out = torch.relu(self.bn1(self.conv1(x)))\n",
    "        out = self.bn2(self.conv2(out))\n",
    "        out += self.shortcut(x)  \n",
    "        return torch.relu(out)\n",
    "\n",
    "\n",
    "class CNN(nn.Module):\n",
    "    def __init__(self):\n",
    "        super(CNN, self).__init__()\n",
    "        self.conv1 = nn.Conv2d(3, 64, kernel_size=3, stride=1, padding=1, bias=False)\n",
    "        self.bn1 = nn.BatchNorm2d(64)\n",
    "\n",
    "        self.layer1 = ResidualBlock(64, 128, stride=2)\n",
    "        self.layer2 = ResidualBlock(128, 256, stride=2)\n",
    "        self.layer3 = ResidualBlock(256, 512, stride=2)\n",
    "\n",
    "        self.avg_pool = nn.AdaptiveAvgPool2d((1, 1))\n",
    "        self.fc = nn.Linear(512, 10)\n",
    "\n",
    "    def forward(self, x):\n",
    "        x = torch.relu(self.bn1(self.conv1(x)))\n",
    "        x = self.layer1(x)\n",
    "        x = self.layer2(x)\n",
    "        x = self.layer3(x)\n",
    "        x = self.avg_pool(x)\n",
    "        x = torch.flatten(x, 1)\n",
    "        return self.fc(x)"
   ]
  },
  {
   "cell_type": "code",
   "execution_count": 2,
   "metadata": {
    "execution": {
     "iopub.execute_input": "2025-03-09T12:11:34.613015Z",
     "iopub.status.busy": "2025-03-09T12:11:34.612646Z",
     "iopub.status.idle": "2025-03-09T12:11:35.300020Z",
     "shell.execute_reply": "2025-03-09T12:11:35.299179Z",
     "shell.execute_reply.started": "2025-03-09T12:11:34.612989Z"
    },
    "trusted": true
   },
   "outputs": [
    {
     "data": {
      "text/plain": [
       "<All keys matched successfully>"
      ]
     },
     "execution_count": 2,
     "metadata": {},
     "output_type": "execute_result"
    }
   ],
   "source": [
    "import torch\n",
    "model = CNN()\n",
    "model.load_state_dict(torch.load(\"/kaggle/input/cifar10-cnn-residual/pytorch/default/1/cifar10_cnn.pth\", weights_only=True))"
   ]
  },
  {
   "cell_type": "code",
   "execution_count": 3,
   "metadata": {
    "execution": {
     "iopub.execute_input": "2025-03-09T12:11:35.301202Z",
     "iopub.status.busy": "2025-03-09T12:11:35.300862Z",
     "iopub.status.idle": "2025-03-09T12:11:38.951582Z",
     "shell.execute_reply": "2025-03-09T12:11:38.950891Z",
     "shell.execute_reply.started": "2025-03-09T12:11:35.301178Z"
    },
    "trusted": true
   },
   "outputs": [],
   "source": [
    "import torchvision.transforms as transforms\n",
    "import numpy as np\n",
    "import cv2\n",
    "\n",
    "transform_train = transforms.Compose([\n",
    "    transforms.RandomCrop(32, padding=4),\n",
    "    transforms.RandomHorizontalFlip(),\n",
    "    transforms.ToTensor(),\n",
    "    transforms.Normalize((0.4914, 0.4822, 0.4465), (0.2470, 0.2435, 0.2616)),\n",
    "])\n",
    "\n",
    "transform_test = transforms.Compose([\n",
    "    transforms.ToTensor(),\n",
    "    transforms.Normalize((0.4914, 0.4822, 0.4465), (0.2470, 0.2435, 0.2616)),\n",
    "])"
   ]
  },
  {
   "cell_type": "code",
   "execution_count": 4,
   "metadata": {
    "execution": {
     "iopub.execute_input": "2025-03-09T12:11:38.953712Z",
     "iopub.status.busy": "2025-03-09T12:11:38.953353Z",
     "iopub.status.idle": "2025-03-09T12:11:44.465181Z",
     "shell.execute_reply": "2025-03-09T12:11:44.464208Z",
     "shell.execute_reply.started": "2025-03-09T12:11:38.953690Z"
    },
    "trusted": true
   },
   "outputs": [
    {
     "name": "stdout",
     "output_type": "stream",
     "text": [
      "Downloading https://www.cs.toronto.edu/~kriz/cifar-10-python.tar.gz to ./data/cifar-10-python.tar.gz\n"
     ]
    },
    {
     "name": "stderr",
     "output_type": "stream",
     "text": [
      "100%|██████████| 170M/170M [00:02<00:00, 58.9MB/s] \n"
     ]
    },
    {
     "name": "stdout",
     "output_type": "stream",
     "text": [
      "Extracting ./data/cifar-10-python.tar.gz to ./data\n"
     ]
    }
   ],
   "source": [
    "import torchvision\n",
    "train = torchvision.datasets.CIFAR10(root='./data',train=True,download=True,transform=transform_train)"
   ]
  },
  {
   "cell_type": "code",
   "execution_count": 5,
   "metadata": {
    "execution": {
     "iopub.execute_input": "2025-03-09T12:11:44.466610Z",
     "iopub.status.busy": "2025-03-09T12:11:44.466292Z",
     "iopub.status.idle": "2025-03-09T12:11:46.194919Z",
     "shell.execute_reply": "2025-03-09T12:11:46.194174Z",
     "shell.execute_reply.started": "2025-03-09T12:11:44.466587Z"
    },
    "trusted": true
   },
   "outputs": [
    {
     "name": "stdout",
     "output_type": "stream",
     "text": [
      "0.24\n",
      "average loss -10.683906100439076\n"
     ]
    }
   ],
   "source": [
    "import random\n",
    "\n",
    "target_class = torch.tensor([9], dtype=torch.long, device=\"cuda\") \n",
    "model = model.to(\"cuda\")\n",
    "model.eval()\n",
    "c = 0\n",
    "l = 0\n",
    "for i in range(100):\n",
    "    j = random.randint(1, len(train))\n",
    "    input_image = train[j][0].unsqueeze(0).to(\"cuda\")\n",
    "    input_image = input_image.detach().clone()\n",
    "    input_image.requires_grad_(True)\n",
    "    output = model(input_image)\n",
    "    loss = -torch.nn.functional.cross_entropy(output, target_class)\n",
    "    \n",
    "    model.zero_grad()\n",
    "    loss.backward()\n",
    "    \n",
    "    with torch.no_grad():\n",
    "        input_image += 0.1 * input_image.grad.sign()\n",
    "        input_image.clamp_(0, 1)\n",
    "    input_image.grad.zero_()\n",
    "    a = model(input_image)\n",
    "    pred = torch.argmax(torch.nn.functional.softmax(a, dim=1)).item()\n",
    "    if pred == train[j][1]:\n",
    "        c += 1\n",
    "    l += loss.item()\n",
    "print(c / 100)\n",
    "print(\"average loss\", l / 100)"
   ]
  },
  {
   "cell_type": "code",
   "execution_count": 6,
   "metadata": {
    "execution": {
     "iopub.execute_input": "2025-03-09T12:11:46.195899Z",
     "iopub.status.busy": "2025-03-09T12:11:46.195670Z",
     "iopub.status.idle": "2025-03-09T12:11:46.455622Z",
     "shell.execute_reply": "2025-03-09T12:11:46.454881Z",
     "shell.execute_reply.started": "2025-03-09T12:11:46.195880Z"
    },
    "trusted": true
   },
   "outputs": [
    {
     "data": {
      "image/png": "[encoded data removed]",
      "text/plain": [
       "<Figure size 1000x500 with 2 Axes>"
      ]
     },
     "metadata": {},
     "output_type": "display_data"
    }
   ],
   "source": [
    "import matplotlib.pyplot as plt\n",
    "import numpy as np\n",
    "\n",
    "fig, axes = plt.subplots(1, 2, figsize=(10, 5))\n",
    "axes[0].imshow(input_image.detach().cpu()[0].permute(1, 2, 0).numpy())\n",
    "axes[0].axis('off')\n",
    "axes[0].set_title(\"Image 1\")\n",
    "\n",
    "axes[1].imshow(np.transpose(train[j][0], (1, 2, 0)))\n",
    "axes[1].axis('off')\n",
    "axes[1].set_title(\"Image 2\")\n",
    "\n",
    "plt.tight_layout()\n",
    "plt.show()\n",
    "\n"
   ]
  }
 ],
 "metadata": {
  "kaggle": {
   "accelerator": "nvidiaTeslaT4",
   "dataSources": [
    {
     "isSourceIdPinned": true,
     "modelId": 254890,
     "modelInstanceId": 233166,
     "sourceId": 272341,
     "sourceType": "modelInstanceVersion"
    }
   ],
   "isGpuEnabled": true,
   "isInternetEnabled": true,
   "language": "python",
   "sourceType": "notebook"
  },
  "kernelspec": {
   "display_name": "Python (myenv)",
   "language": "python",
   "name": "torch"
  },
  "language_info": {
   "codemirror_mode": {
    "name": "ipython",
    "version": 3
   },
   "file_extension": ".py",
   "mimetype": "text/x-python",
   "name": "python",
   "nbconvert_exporter": "python",
   "pygments_lexer": "ipython3",
   "version": "3.12.3"
  }
 },
 "nbformat": 4,
 "nbformat_minor": 4
}
