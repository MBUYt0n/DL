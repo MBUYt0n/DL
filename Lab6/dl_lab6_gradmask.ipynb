{
  "metadata": {
    "kernelspec": {
      "display_name": "Python 3",
      "name": "python3"
    },
    "language_info": {
      "name": "python",
      "version": "3.10.12",
      "mimetype": "text/x-python",
      "codemirror_mode": {
        "name": "ipython",
        "version": 3
      },
      "pygments_lexer": "ipython3",
      "nbconvert_exporter": "python",
      "file_extension": ".py"
    },
    "kaggle": {
      "accelerator": "nvidiaTeslaT4",
      "dataSources": [
        {
          "sourceId": 274658,
          "sourceType": "modelInstanceVersion",
          "isSourceIdPinned": true,
          "modelInstanceId": 235179,
          "modelId": 256650
        }
      ],
      "dockerImageVersionId": 30919,
      "isInternetEnabled": true,
      "language": "python",
      "sourceType": "notebook",
      "isGpuEnabled": true
    },
    "colab": {
      "provenance": [],
      "gpuType": "T4"
    },
    "accelerator": "GPU"
  },
  "nbformat_minor": 0,
  "nbformat": 4,
  "cells": [
    {
      "cell_type": "code",
      "source": [
        "import torch\n",
        "\n",
        "def stochastic_relu(x, threshold=0.5):\n",
        "    return torch.where(x > threshold, x, torch.zeros_like(x))"
      ],
      "metadata": {
        "trusted": true,
        "execution": {
          "iopub.status.busy": "2025-03-04T09:09:44.316910Z",
          "iopub.execute_input": "2025-03-04T09:09:44.317260Z",
          "iopub.status.idle": "2025-03-04T09:09:47.471249Z",
          "shell.execute_reply.started": "2025-03-04T09:09:44.317231Z",
          "shell.execute_reply": "2025-03-04T09:09:47.470323Z"
        },
        "id": "-KXi-Vw8dycC"
      },
      "outputs": [],
      "execution_count": 1
    },
    {
      "cell_type": "code",
      "source": [
        "import torch.nn as nn\n",
        "import torch\n",
        "\n",
        "\n",
        "class ResidualBlock(nn.Module):\n",
        "    def __init__(self, in_channels, out_channels, stride=1):\n",
        "        super(ResidualBlock, self).__init__()\n",
        "        self.conv1 = nn.Conv2d(\n",
        "            in_channels,\n",
        "            out_channels,\n",
        "            kernel_size=3,\n",
        "            stride=stride,\n",
        "            padding=1,\n",
        "            bias=False,\n",
        "        )\n",
        "        self.bn1 = nn.BatchNorm2d(out_channels)\n",
        "        self.conv2 = nn.Conv2d(\n",
        "            out_channels, out_channels, kernel_size=3, stride=1, padding=1, bias=False\n",
        "        )\n",
        "        self.bn2 = nn.BatchNorm2d(out_channels)\n",
        "\n",
        "        self.shortcut = nn.Sequential()\n",
        "        if stride != 1 or in_channels != out_channels:\n",
        "            self.shortcut = nn.Sequential(\n",
        "                nn.Conv2d(\n",
        "                    in_channels, out_channels, kernel_size=1, stride=stride, bias=False\n",
        "                ),\n",
        "                nn.BatchNorm2d(out_channels),\n",
        "            )\n",
        "\n",
        "    def forward(self, x):\n",
        "        out = stochastic_relu(self.bn1(self.conv1(x)))\n",
        "        out = self.bn2(self.conv2(out))\n",
        "        out += self.shortcut(x)\n",
        "        return stochastic_relu(out)\n",
        "\n",
        "\n",
        "class CNN(nn.Module):\n",
        "    def __init__(self):\n",
        "        super(CNN, self).__init__()\n",
        "        self.conv1 = nn.Conv2d(3, 64, kernel_size=3, stride=1, padding=1, bias=False)\n",
        "        self.bn1 = nn.BatchNorm2d(64)\n",
        "\n",
        "        self.layer1 = ResidualBlock(64, 128, stride=2)\n",
        "        self.layer2 = ResidualBlock(128, 256, stride=2)\n",
        "        self.layer3 = ResidualBlock(256, 512, stride=2)\n",
        "        self.dropout = nn.Dropout(0.3)\n",
        "        self.avg_pool = nn.AdaptiveAvgPool2d((1, 1))\n",
        "        self.fc = nn.Linear(512, 10)\n",
        "\n",
        "    def forward(self, x):\n",
        "        x = stochastic_relu(self.bn1(self.conv1(x)))\n",
        "        x = self.layer1(x)\n",
        "        x = self.layer2(x)\n",
        "        x = self.layer3(x)\n",
        "        x = self.avg_pool(x)\n",
        "        x = torch.flatten(x, 1)\n",
        "        x = self.dropout(x)\n",
        "        return self.fc(x)"
      ],
      "metadata": {
        "_uuid": "8f2839f25d086af736a60e9eeb907d3b93b6e0e5",
        "_cell_guid": "b1076dfc-b9ad-4769-8c92-a6c4dae69d19",
        "trusted": true,
        "execution": {
          "iopub.status.busy": "2025-03-04T09:09:48.236570Z",
          "iopub.execute_input": "2025-03-04T09:09:48.236999Z",
          "iopub.status.idle": "2025-03-04T09:09:48.246862Z",
          "shell.execute_reply.started": "2025-03-04T09:09:48.236971Z",
          "shell.execute_reply": "2025-03-04T09:09:48.246044Z"
        },
        "id": "p-kMTOLFdycI"
      },
      "outputs": [],
      "execution_count": 2
    },
    {
      "cell_type": "code",
      "source": [
        "import torchvision.transforms as transforms\n",
        "\n",
        "transform_train = transforms.Compose(\n",
        "    [\n",
        "        transforms.RandomCrop(32, padding=4),\n",
        "        transforms.RandomHorizontalFlip(),\n",
        "        transforms.ToTensor(),\n",
        "        transforms.Normalize((0.4914, 0.4822, 0.4465), (0.2470, 0.2435, 0.2616)),\n",
        "    ]\n",
        ")\n",
        "\n",
        "transform_test = transforms.Compose(\n",
        "    [\n",
        "        transforms.ToTensor(),\n",
        "        transforms.Normalize((0.4914, 0.4822, 0.4465), (0.2470, 0.2435, 0.2616)),\n",
        "    ]\n",
        ")"
      ],
      "metadata": {
        "trusted": true,
        "execution": {
          "iopub.status.busy": "2025-03-04T03:33:06.034845Z",
          "iopub.execute_input": "2025-03-04T03:33:06.035128Z",
          "iopub.status.idle": "2025-03-04T03:33:08.422302Z",
          "shell.execute_reply.started": "2025-03-04T03:33:06.035099Z",
          "shell.execute_reply": "2025-03-04T03:33:08.421421Z"
        },
        "id": "FSJnARo9dycM"
      },
      "outputs": [],
      "execution_count": 3
    },
    {
      "cell_type": "code",
      "source": [
        "import torch\n",
        "import torchvision\n",
        "train = torchvision.datasets.CIFAR10(root='./data',train=True,download=True,transform=transform_train)\n",
        "test = torchvision.datasets.CIFAR10(root='./data',train=False,download=False,transform=transform_test)\n",
        "trainloader = torch.utils.data.DataLoader(train,batch_size=128,shuffle=True)\n",
        "testloader = torch.utils.data.DataLoader(test,batch_size=128,shuffle=False)"
      ],
      "metadata": {
        "trusted": true,
        "execution": {
          "iopub.status.busy": "2025-03-04T03:33:21.251874Z",
          "iopub.execute_input": "2025-03-04T03:33:21.252273Z",
          "iopub.status.idle": "2025-03-04T03:33:25.984327Z",
          "shell.execute_reply.started": "2025-03-04T03:33:21.252251Z",
          "shell.execute_reply": "2025-03-04T03:33:25.983429Z"
        },
        "colab": {
          "base_uri": "https://localhost:8080/"
        },
        "id": "dKwsJfhodycN",
        "outputId": "929b872c-9ac8-418e-e5e4-dbf766334155"
      },
      "outputs": [
        {
          "output_type": "stream",
          "name": "stdout",
          "text": [
            "Downloading https://www.cs.toronto.edu/~kriz/cifar-10-python.tar.gz to ./data/cifar-10-python.tar.gz\n"
          ]
        },
        {
          "output_type": "stream",
          "name": "stderr",
          "text": [
            "100%|██████████| 170M/170M [00:03<00:00, 46.7MB/s]\n"
          ]
        },
        {
          "output_type": "stream",
          "name": "stdout",
          "text": [
            "Extracting ./data/cifar-10-python.tar.gz to ./data\n"
          ]
        }
      ],
      "execution_count": 4
    },
    {
      "cell_type": "code",
      "source": [
        "model = CNN()"
      ],
      "metadata": {
        "trusted": true,
        "execution": {
          "iopub.status.busy": "2025-03-04T03:33:28.982102Z",
          "iopub.execute_input": "2025-03-04T03:33:28.982410Z",
          "iopub.status.idle": "2025-03-04T03:33:29.046702Z",
          "shell.execute_reply.started": "2025-03-04T03:33:28.982383Z",
          "shell.execute_reply": "2025-03-04T03:33:29.046088Z"
        },
        "id": "yerGEhrodycO"
      },
      "outputs": [],
      "execution_count": 5
    },
    {
      "cell_type": "code",
      "source": [
        "from torch.utils.tensorboard import SummaryWriter\n",
        "writer = SummaryWriter()\n",
        "\n",
        "device = \"cuda\"\n",
        "loss = nn.CrossEntropyLoss()\n",
        "optimizer = torch.optim.Adam(model.parameters(), lr=0.001, weight_decay=1e-4)\n",
        "scheduler = torch.optim.lr_scheduler.ReduceLROnPlateau(optimizer, mode='min', factor=0.1, patience=10)\n",
        "model = model.to(device)\n",
        "from tqdm import tqdm\n",
        "\n",
        "lr = 0.001\n",
        "for i in range(20):\n",
        "    correct, total, running_loss = 0, 0, 0\n",
        "    train_bar = tqdm(trainloader, desc=f'Train Epoch {i}')\n",
        "\n",
        "    for image, label in train_bar:\n",
        "        image, label = image.to(device), label.to(device)\n",
        "\n",
        "        out = model(image)\n",
        "        loss_value = loss(out, label)\n",
        "\n",
        "        optimizer.zero_grad()\n",
        "        loss_value.backward()\n",
        "        optimizer.step()\n",
        "\n",
        "        predictions = out.argmax(dim=1)\n",
        "        correct += (predictions == label).sum().item()\n",
        "        total += label.size(0)\n",
        "        running_loss += loss_value.item()\n",
        "\n",
        "        train_bar.set_postfix(loss=running_loss / total, acc=100 * correct / total)\n",
        "        writer.add_scalar('Loss/train', running_loss / total, i)\n",
        "        writer.add_scalar('Accuracy/train', 100 * correct / total, i)\n",
        "    correct, total, test_loss = 0, 0, 0\n",
        "    test_bar = tqdm(testloader, desc=f'Test Epoch {i}')\n",
        "\n",
        "    with torch.no_grad():\n",
        "        for test, test_label in test_bar:\n",
        "            test, test_label = test.to(device), test_label.to(device)\n",
        "\n",
        "            test_out = model(test)\n",
        "            loss_value = loss(test_out, test_label)\n",
        "            test_loss += loss_value.item()\n",
        "\n",
        "            predictions = test_out.argmax(dim=1)\n",
        "            correct += (predictions == test_label).sum().item()\n",
        "            total += test_label.size(0)\n",
        "\n",
        "            test_bar.set_postfix(loss=test_loss / total, acc=100 * correct / total)\n",
        "            writer.add_scalar('Loss/test', test_loss / total, i)\n",
        "            writer.add_scalar('Accuracy/test', 100 * correct / total, i)\n",
        "    scheduler.step(test_loss)\n",
        "    if optimizer.param_groups[0][\"lr\"] != lr:\n",
        "        lr = optimizer.param_groups[0][\"lr\"]\n",
        "        print(f\"Updated learning rate: {lr}\")"
      ],
      "metadata": {
        "trusted": true,
        "execution": {
          "iopub.status.busy": "2025-03-04T03:33:30.251079Z",
          "iopub.execute_input": "2025-03-04T03:33:30.251357Z",
          "execution_failed": "2025-03-04T03:54:11.941Z"
        },
        "colab": {
          "base_uri": "https://localhost:8080/"
        },
        "id": "XX4UY6RDdycO",
        "outputId": "9a22f8d1-a132-45a3-915a-c18751350220"
      },
      "outputs": [
        {
          "output_type": "stream",
          "name": "stderr",
          "text": [
            "Train Epoch 0: 100%|██████████| 391/391 [00:45<00:00,  8.65it/s, acc=50, loss=0.0108]\n",
            "Test Epoch 0: 100%|██████████| 79/79 [00:03<00:00, 23.57it/s, acc=61.1, loss=0.00856]\n",
            "Train Epoch 1: 100%|██████████| 391/391 [00:34<00:00, 11.38it/s, acc=66.5, loss=0.00738]\n",
            "Test Epoch 1: 100%|██████████| 79/79 [00:03<00:00, 24.93it/s, acc=68.8, loss=0.00707]\n",
            "Train Epoch 2: 100%|██████████| 391/391 [00:34<00:00, 11.34it/s, acc=73.4, loss=0.00594]\n",
            "Test Epoch 2: 100%|██████████| 79/79 [00:03<00:00, 25.16it/s, acc=74, loss=0.00602]\n",
            "Train Epoch 3: 100%|██████████| 391/391 [00:33<00:00, 11.54it/s, acc=77.4, loss=0.00515]\n",
            "Test Epoch 3: 100%|██████████| 79/79 [00:03<00:00, 24.42it/s, acc=75.4, loss=0.00569]\n",
            "Train Epoch 4: 100%|██████████| 391/391 [00:34<00:00, 11.49it/s, acc=79.6, loss=0.00462]\n",
            "Test Epoch 4: 100%|██████████| 79/79 [00:03<00:00, 22.16it/s, acc=78.7, loss=0.0049]\n",
            "Train Epoch 5: 100%|██████████| 391/391 [00:33<00:00, 11.64it/s, acc=81.1, loss=0.0043]\n",
            "Test Epoch 5: 100%|██████████| 79/79 [00:03<00:00, 21.26it/s, acc=79.2, loss=0.00468]\n",
            "Train Epoch 6: 100%|██████████| 391/391 [00:33<00:00, 11.63it/s, acc=82.3, loss=0.00406]\n",
            "Test Epoch 6: 100%|██████████| 79/79 [00:03<00:00, 21.25it/s, acc=79.6, loss=0.00483]\n",
            "Train Epoch 7: 100%|██████████| 391/391 [00:33<00:00, 11.53it/s, acc=83.2, loss=0.00384]\n",
            "Test Epoch 7: 100%|██████████| 79/79 [00:03<00:00, 24.44it/s, acc=80.5, loss=0.00457]\n",
            "Train Epoch 8: 100%|██████████| 391/391 [00:34<00:00, 11.40it/s, acc=83.6, loss=0.00374]\n",
            "Test Epoch 8: 100%|██████████| 79/79 [00:03<00:00, 24.59it/s, acc=80, loss=0.00467]\n",
            "Train Epoch 9: 100%|██████████| 391/391 [00:34<00:00, 11.36it/s, acc=84.6, loss=0.00353]\n",
            "Test Epoch 9: 100%|██████████| 79/79 [00:03<00:00, 24.97it/s, acc=79.8, loss=0.00465]\n",
            "Train Epoch 10: 100%|██████████| 391/391 [00:34<00:00, 11.49it/s, acc=84.3, loss=0.00354]\n",
            "Test Epoch 10: 100%|██████████| 79/79 [00:03<00:00, 25.15it/s, acc=81.5, loss=0.00443]\n",
            "Train Epoch 11: 100%|██████████| 391/391 [00:34<00:00, 11.44it/s, acc=85.1, loss=0.00344]\n",
            "Test Epoch 11: 100%|██████████| 79/79 [00:03<00:00, 24.20it/s, acc=81.8, loss=0.00431]\n",
            "Train Epoch 12: 100%|██████████| 391/391 [00:34<00:00, 11.49it/s, acc=85.2, loss=0.00338]\n",
            "Test Epoch 12: 100%|██████████| 79/79 [00:03<00:00, 24.79it/s, acc=81.7, loss=0.00434]\n",
            "Train Epoch 13: 100%|██████████| 391/391 [00:34<00:00, 11.43it/s, acc=85.4, loss=0.00334]\n",
            "Test Epoch 13: 100%|██████████| 79/79 [00:03<00:00, 22.46it/s, acc=82.7, loss=0.00405]\n",
            "Train Epoch 14: 100%|██████████| 391/391 [00:33<00:00, 11.60it/s, acc=85.7, loss=0.00325]\n",
            "Test Epoch 14: 100%|██████████| 79/79 [00:03<00:00, 20.76it/s, acc=81.4, loss=0.00432]\n",
            "Train Epoch 15: 100%|██████████| 391/391 [00:33<00:00, 11.63it/s, acc=85.6, loss=0.00327]\n",
            "Test Epoch 15: 100%|██████████| 79/79 [00:03<00:00, 21.39it/s, acc=82.3, loss=0.00415]\n",
            "Train Epoch 16: 100%|██████████| 391/391 [00:33<00:00, 11.53it/s, acc=85.8, loss=0.00324]\n",
            "Test Epoch 16: 100%|██████████| 79/79 [00:03<00:00, 24.41it/s, acc=81.8, loss=0.00427]\n",
            "Train Epoch 17: 100%|██████████| 391/391 [00:33<00:00, 11.58it/s, acc=85.9, loss=0.00322]\n",
            "Test Epoch 17: 100%|██████████| 79/79 [00:03<00:00, 24.83it/s, acc=82.6, loss=0.00412]\n",
            "Train Epoch 18: 100%|██████████| 391/391 [00:33<00:00, 11.51it/s, acc=85.9, loss=0.00321]\n",
            "Test Epoch 18: 100%|██████████| 79/79 [00:03<00:00, 24.30it/s, acc=81.5, loss=0.00433]\n",
            "Train Epoch 19: 100%|██████████| 391/391 [00:33<00:00, 11.54it/s, acc=85.9, loss=0.00321]\n",
            "Test Epoch 19: 100%|██████████| 79/79 [00:03<00:00, 24.80it/s, acc=82.2, loss=0.00422]\n"
          ]
        }
      ],
      "execution_count": 6
    },
    {
      "cell_type": "code",
      "source": [
        "torch.save(model.state_dict(), 'cifar10_cnn_grad_masking.pth')"
      ],
      "metadata": {
        "trusted": true,
        "id": "Rjd8fEjAdycQ"
      },
      "outputs": [],
      "execution_count": 7
    },
    {
      "cell_type": "code",
      "source": [
        "import random\n",
        "\n",
        "target_class = torch.tensor([9], dtype=torch.long, device=\"cuda\")\n",
        "model = model.to(\"cuda\")\n",
        "model.eval()\n",
        "c = 0\n",
        "l = 0\n",
        "for i in range(100):\n",
        "    j = random.randint(1, len(train))\n",
        "    input_image = train[j][0].unsqueeze(0).to(\"cuda\")\n",
        "    input_image = input_image.detach().clone()\n",
        "    input_image.requires_grad_(True)\n",
        "    output = model(input_image)\n",
        "    loss = -torch.nn.functional.cross_entropy(output, target_class)\n",
        "\n",
        "    model.zero_grad()\n",
        "    loss.backward()\n",
        "\n",
        "    with torch.no_grad():\n",
        "        input_image += 0.1 * input_image.grad.sign()\n",
        "        input_image.clamp_(0, 1)\n",
        "    input_image.grad.zero_()\n",
        "    a = model(input_image)\n",
        "    pred = torch.argmax(torch.nn.functional.softmax(a, dim=1)).item()\n",
        "    if pred == train[j][1]:\n",
        "        c += 1\n",
        "    l += loss.item()\n",
        "print(c / 100)\n",
        "print(\"average loss\", l / 100)"
      ],
      "metadata": {
        "trusted": true,
        "execution": {
          "iopub.status.busy": "2025-03-04T09:16:19.333174Z",
          "iopub.execute_input": "2025-03-04T09:16:19.333475Z",
          "iopub.status.idle": "2025-03-04T09:16:19.373322Z",
          "shell.execute_reply.started": "2025-03-04T09:16:19.333455Z",
          "shell.execute_reply": "2025-03-04T09:16:19.372479Z"
        },
        "colab": {
          "base_uri": "https://localhost:8080/"
        },
        "id": "xcx_Ogv9dycU",
        "outputId": "77964cb1-5d51-4c29-8126-cc42229003c4"
      },
      "outputs": [
        {
          "output_type": "stream",
          "name": "stdout",
          "text": [
            "0.51\n",
            "average loss -8.230247101830319\n"
          ]
        }
      ],
      "execution_count": 12
    },
    {
      "cell_type": "code",
      "source": [
        "import matplotlib.pyplot as plt\n",
        "import numpy as np\n",
        "\n",
        "fig, axes = plt.subplots(1, 2, figsize=(10, 5))\n",
        "axes[0].imshow(input_image.detach().cpu()[0].permute(1, 2, 0).numpy())\n",
        "axes[0].axis('off')\n",
        "axes[0].set_title(\"Image 1\")\n",
        "\n",
        "axes[1].imshow(np.transpose(train[j][0], (1, 2, 0)))\n",
        "axes[1].axis('off')\n",
        "axes[1].set_title(\"Image 2\")\n",
        "\n",
        "plt.tight_layout()\n",
        "plt.show()"
      ],
      "metadata": {
        "trusted": true,
        "id": "Y8ccLWZTdycW",
        "colab": {
          "base_uri": "https://localhost:8080/",
          "height": 561
        },
        "outputId": "abbfcf0c-03df-4127-8f49-c96b021a1f86"
      },
      "outputs": [
        {
          "output_type": "stream",
          "name": "stderr",
          "text": [
            "WARNING:matplotlib.image:Clipping input data to the valid range for imshow with RGB data ([0..1] for floats or [0..255] for integers). Got range [-1.9894737..0.9465507].\n"
          ]
        },
        {
          "output_type": "display_data",
          "data": {
            "text/plain": [
              "<Figure size 1000x500 with 2 Axes>"
            ],
            "image/png": "[encoded data removed]"
          },
          "metadata": {}
        }
      ],
      "execution_count": 10
    },
    {
      "cell_type": "code",
      "source": [
        "plt.imshow(input_image.detach().cpu()[0].permute(1, 2, 0) - np.transpose(train[j][0], (1, 2, 0)))\n",
        "plt.show()"
      ],
      "metadata": {
        "colab": {
          "base_uri": "https://localhost:8080/",
          "height": 468
        },
        "id": "QtSQLf_Lt1yQ",
        "outputId": "cd43dc6f-6684-4e3e-8497-9c7906c77565"
      },
      "execution_count": 11,
      "outputs": [
        {
          "output_type": "stream",
          "name": "stderr",
          "text": [
            "WARNING:matplotlib.image:Clipping input data to the valid range for imshow with RGB data ([0..1] for floats or [0..255] for integers). Got range [-0.81163436..2.709011].\n"
          ]
        },
        {
          "output_type": "display_data",
          "data": {
            "text/plain": [
              "<Figure size 640x480 with 1 Axes>"
            ],
            "image/png": "[encoded data removed]"
          },
          "metadata": {}
        }
      ]
    }
  ]
}