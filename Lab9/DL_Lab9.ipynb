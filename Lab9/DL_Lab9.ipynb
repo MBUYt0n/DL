{
  "cells": [
    {
      "cell_type": "code",
      "execution_count": 1,
      "metadata": {
        "colab": {
          "base_uri": "https://localhost:8080/"
        },
        "id": "Rz7jyOydi2tZ",
        "outputId": "b1ced967-e4c2-4f74-b4ec-69a13570fadc"
      },
      "outputs": [
        {
          "name": "stderr",
          "output_type": "stream",
          "text": [
            "2025-03-25 23:28:07.938101: I tensorflow/core/util/port.cc:153] oneDNN custom operations are on. You may see slightly different numerical results due to floating-point round-off errors from different computation orders. To turn them off, set the environment variable `TF_ENABLE_ONEDNN_OPTS=0`.\n",
            "2025-03-25 23:28:08.044368: E external/local_xla/xla/stream_executor/cuda/cuda_fft.cc:477] Unable to register cuFFT factory: Attempting to register factory for plugin cuFFT when one has already been registered\n",
            "WARNING: All log messages before absl::InitializeLog() is called are written to STDERR\n",
            "E0000 00:00:1742925488.095050   15081 cuda_dnn.cc:8310] Unable to register cuDNN factory: Attempting to register factory for plugin cuDNN when one has already been registered\n",
            "E0000 00:00:1742925488.109160   15081 cuda_blas.cc:1418] Unable to register cuBLAS factory: Attempting to register factory for plugin cuBLAS when one has already been registered\n",
            "2025-03-25 23:28:08.211533: I tensorflow/core/platform/cpu_feature_guard.cc:210] This TensorFlow binary is optimized to use available CPU instructions in performance-critical operations.\n",
            "To enable the following instructions: AVX2 AVX_VNNI FMA, in other operations, rebuild TensorFlow with the appropriate compiler flags.\n"
          ]
        },
        {
          "name": "stdout",
          "output_type": "stream",
          "text": [
            "Downloading data from https://storage.googleapis.com/tensorflow/tf-keras-datasets/mnist.npz\n",
            "\u001b[1m11490434/11490434\u001b[0m \u001b[32m━━━━━━━━━━━━━━━━━━━━\u001b[0m\u001b[37m\u001b[0m \u001b[1m3s\u001b[0m 0us/step\n",
            "(60000, 28, 28)\n",
            "(60000,)\n",
            "(10000, 28, 28)\n",
            "(10000,)\n"
          ]
        }
      ],
      "source": [
        "from tensorflow.keras import datasets\n",
        "\n",
        "(train_images, train_labels), (test_images, test_labels) = datasets.mnist.load_data()\n",
        "print(train_images.shape)\n",
        "print(train_labels.shape)\n",
        "print(test_images.shape)\n",
        "print(test_labels.shape)"
      ]
    },
    {
      "cell_type": "code",
      "execution_count": 2,
      "metadata": {
        "id": "lP2lxvx9jyO3"
      },
      "outputs": [],
      "source": [
        "import torch\n",
        "from torch.utils.data import DataLoader, TensorDataset\n",
        "\n",
        "train_images = torch.tensor(train_images / 255, dtype=torch.float32)\n",
        "test_images = torch.tensor(test_images / 255, dtype=torch.float32)\n",
        "\n",
        "train_images = train_images.unsqueeze(1)\n",
        "test_images = test_images.unsqueeze(1)\n",
        "\n",
        "train_loader = DataLoader(train_images, batch_size=1024, shuffle=True)\n",
        "test_loader = DataLoader(test_images, batch_size=1024, shuffle=False)"
      ]
    },
    {
      "cell_type": "code",
      "execution_count": 3,
      "metadata": {
        "id": "CtRpDZPckZHA"
      },
      "outputs": [],
      "source": [
        "import torch.nn as nn\n",
        "import torch.nn.functional as F\n",
        "\n",
        "class Encoder(nn.Module):\n",
        "    def __init__(self, latent_dim):\n",
        "        super(Encoder, self).__init__()\n",
        "        self.conv1 = nn.Conv2d(1, 16, 3, stride=2, padding=1)\n",
        "        self.conv2 = nn.Conv2d(16, 32, 3, stride=2, padding=1)\n",
        "        self.conv3 = nn.Conv2d(32, 64, 1, stride=2, padding=1)\n",
        "        self.linear1 = nn.Linear(64 * 5 * 5, latent_dim)\n",
        "        self.linear2 = nn.Linear(64 * 5 * 5, latent_dim)\n",
        "\n",
        "    def forward(self, x):\n",
        "        x = F.relu(self.conv1(x))\n",
        "        x = F.relu(self.conv2(x))\n",
        "        x = F.relu(self.conv3(x))\n",
        "        x = x.view(-1, 64 * 5 * 5)\n",
        "        mu = self.linear1(x)\n",
        "        logvar = self.linear2(x)\n",
        "        return mu, logvar"
      ]
    },
    {
      "cell_type": "code",
      "execution_count": 4,
      "metadata": {
        "id": "WxE4227uri9-"
      },
      "outputs": [],
      "source": [
        "import torch\n",
        "import torch.nn as nn\n",
        "import torch.nn.functional as F\n",
        "\n",
        "class Decoder(nn.Module):\n",
        "    def __init__(self, latent_dim):\n",
        "        super(Decoder, self).__init__()\n",
        "        self.linear = nn.Linear(latent_dim, 64 * 5 * 5)\n",
        "        self.deconv1 = nn.ConvTranspose2d(64, 32, 1, stride=2, padding=1)\n",
        "        self.deconv2 = nn.ConvTranspose2d(32, 16, 3, stride=2, padding=1, output_padding=1)\n",
        "        self.deconv3 = nn.ConvTranspose2d(16, 1, 3, stride=2, padding=1, output_padding=1)\n",
        "\n",
        "    def forward(self, z):\n",
        "        x = self.linear(z)\n",
        "        x = x.view(-1, 64, 5, 5)\n",
        "        x = F.relu(self.deconv1(x))\n",
        "        x = F.relu(self.deconv2(x))\n",
        "        x = self.deconv3(x)\n",
        "        x = torch.sigmoid(x)\n",
        "        return x\n"
      ]
    },
    {
      "cell_type": "code",
      "execution_count": 5,
      "metadata": {
        "id": "Sh1IRX2osD-m"
      },
      "outputs": [],
      "source": [
        "class VAE(nn.Module):\n",
        "    def __init__(self, latent_dim):\n",
        "        super(VAE, self).__init__()\n",
        "        self.encoder = Encoder(latent_dim)\n",
        "        self.decoder = Decoder(latent_dim)\n",
        "        self.latent_dim = latent_dim\n",
        "\n",
        "    def reparameterize(self, mu, logvar):\n",
        "        std = torch.exp(0.5 * logvar)\n",
        "        eps = torch.randn_like(std)\n",
        "        return mu + eps * std\n",
        "\n",
        "    def forward(self, x):\n",
        "        mu, logvar = self.encoder(x)\n",
        "        z = self.reparameterize(mu, logvar)\n",
        "        x_hat = self.decoder(z)\n",
        "        return x_hat, mu, logvar"
      ]
    },
    {
      "cell_type": "code",
      "execution_count": 14,
      "metadata": {
        "id": "1ss4Z_yItaCt"
      },
      "outputs": [],
      "source": [
        "vae = VAE(latent_dim=16).to('cuda')"
      ]
    },
    {
      "cell_type": "code",
      "execution_count": 15,
      "metadata": {
        "id": "ws-JT-eJzpMn"
      },
      "outputs": [],
      "source": [
        "class VAELoss(nn.Module):\n",
        "    def __init__(self):\n",
        "        super(VAELoss, self).__init__()\n",
        "\n",
        "    def forward(self, x_hat, x, mu, logvar):\n",
        "        recon_loss = F.binary_cross_entropy(x_hat, x, reduction='sum')\n",
        "        kl_loss = -0.5 * torch.sum(1 + logvar - mu.pow(2) - logvar.exp())\n",
        "        return recon_loss + kl_loss, recon_loss, kl_loss"
      ]
    },
    {
      "cell_type": "code",
      "execution_count": 24,
      "metadata": {
        "id": "X4p_OzjmwLKC"
      },
      "outputs": [],
      "source": [
        "from tqdm import tqdm\n",
        "from torch.utils.tensorboard import SummaryWriter\n",
        "\n",
        "def train(model, train_loader, epochs, lr, device):\n",
        "    writer = SummaryWriter()\n",
        "    model.to(device)\n",
        "    criterion = VAELoss()\n",
        "    optimizer = torch.optim.Adam(model.parameters(), lr=lr)\n",
        "    for epoch in range(epochs):\n",
        "        model.train()\n",
        "        running_loss = 0.0\n",
        "        train_bar = tqdm(train_loader, desc=\"Training\", leave=False)\n",
        "        for batch_idx, data in enumerate(train_bar):\n",
        "            data = data.to(device)\n",
        "            optimizer.zero_grad()\n",
        "            x_hat, mu, logvar = model(data)\n",
        "            loss, recon, kl = criterion(x_hat, data, mu, logvar)\n",
        "            loss.backward()\n",
        "            optimizer.step()\n",
        "            running_loss += loss.item()\n",
        "            train_bar.set_postfix(loss=running_loss / (batch_idx + 1))\n",
        "        print(f\"Epoch {epoch + 1}/{epochs}, Train Loss: {running_loss / len(train_loader)}, Recon Loss: {recon}, KL Loss: {kl}\")\n",
        "        writer.add_scalar(\"Loss/Train\", running_loss / len(train_loader), epoch)\n",
        "        writer.add_scalar(\"Loss/TrainRecon\", recon, epoch)\n",
        "        writer.add_scalar(\"Loss/TrainKL\", kl, epoch)\n",
        "        model.eval()\n",
        "        running_loss = 0.0\n",
        "        val_bar = tqdm(test_loader, desc=\"Validation\", leave=False)\n",
        "        for batch_idx, data in enumerate(val_bar):\n",
        "            data = data.to(device)\n",
        "            x_hat, mu, logvar = model(data)\n",
        "            loss, recon, kl = criterion(x_hat, data, mu, logvar)\n",
        "            running_loss += loss.item()\n",
        "            val_bar.set_postfix(loss=running_loss / (batch_idx + 1))\n",
        "        print(f\"Epoch {epoch + 1}/{epochs}, Val Loss: {running_loss / len(test_loader)}, Recon Loss: {recon}, KL Loss: {kl}\")\n",
        "        writer.add_scalar(\"Loss/Val\", running_loss / len(test_loader), epoch)\n",
        "        writer.add_scalar(\"Loss/ValRecon\", recon, epoch)\n",
        "        writer.add_scalar(\"Loss/ValKL\", kl, epoch)\n",
        "    writer.close()"
      ]
    },
    {
      "cell_type": "code",
      "execution_count": null,
      "metadata": {
        "colab": {
          "base_uri": "https://localhost:8080/"
        },
        "id": "1ChjwVeV2dNm",
        "outputId": "1a3f69b8-adb7-4ec4-ef01-6e66dbfafe76"
      },
      "outputs": [],
      "source": [
        "train(vae, train_loader, 100, 0.01, \"cuda\")"
      ]
    }
  ],
  "metadata": {
    "accelerator": "GPU",
    "colab": {
      "gpuType": "T4",
      "provenance": []
    },
    "kernelspec": {
      "display_name": "Python (myenv)",
      "language": "python",
      "name": "torch"
    },
    "language_info": {
      "codemirror_mode": {
        "name": "ipython",
        "version": 3
      },
      "file_extension": ".py",
      "mimetype": "text/x-python",
      "name": "python",
      "nbconvert_exporter": "python",
      "pygments_lexer": "ipython3",
      "version": "3.12.3"
    }
  },
  "nbformat": 4,
  "nbformat_minor": 0
}
