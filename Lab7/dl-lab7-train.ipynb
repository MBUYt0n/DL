{
 "cells": [
  {
   "cell_type": "code",
   "execution_count": 1,
   "id": "0f4e3ecb",
   "metadata": {
    "_cell_guid": "b1076dfc-b9ad-4769-8c92-a6c4dae69d19",
    "_uuid": "8f2839f25d086af736a60e9eeb907d3b93b6e0e5",
    "execution": {
     "iopub.execute_input": "2025-03-09T03:46:58.187454Z",
     "iopub.status.busy": "2025-03-09T03:46:58.187161Z",
     "iopub.status.idle": "2025-03-09T03:47:00.197942Z",
     "shell.execute_reply": "2025-03-09T03:47:00.197088Z"
    },
    "papermill": {
     "duration": 2.017584,
     "end_time": "2025-03-09T03:47:00.199247",
     "exception": false,
     "start_time": "2025-03-09T03:46:58.181663",
     "status": "completed"
    },
    "tags": []
   },
   "outputs": [
    {
     "data": {
      "text/html": [
       "<div>\n",
       "<style scoped>\n",
       "    .dataframe tbody tr th:only-of-type {\n",
       "        vertical-align: middle;\n",
       "    }\n",
       "\n",
       "    .dataframe tbody tr th {\n",
       "        vertical-align: top;\n",
       "    }\n",
       "\n",
       "    .dataframe thead th {\n",
       "        text-align: right;\n",
       "    }\n",
       "</style>\n",
       "<table border=\"1\" class=\"dataframe\">\n",
       "  <thead>\n",
       "    <tr style=\"text-align: right;\">\n",
       "      <th></th>\n",
       "      <th>review</th>\n",
       "      <th>sentiment</th>\n",
       "    </tr>\n",
       "  </thead>\n",
       "  <tbody>\n",
       "    <tr>\n",
       "      <th>0</th>\n",
       "      <td>One of the other reviewers has mentioned that ...</td>\n",
       "      <td>positive</td>\n",
       "    </tr>\n",
       "    <tr>\n",
       "      <th>1</th>\n",
       "      <td>A wonderful little production. &lt;br /&gt;&lt;br /&gt;The...</td>\n",
       "      <td>positive</td>\n",
       "    </tr>\n",
       "    <tr>\n",
       "      <th>2</th>\n",
       "      <td>I thought this was a wonderful way to spend ti...</td>\n",
       "      <td>positive</td>\n",
       "    </tr>\n",
       "    <tr>\n",
       "      <th>3</th>\n",
       "      <td>Basically there's a family where a little boy ...</td>\n",
       "      <td>negative</td>\n",
       "    </tr>\n",
       "    <tr>\n",
       "      <th>4</th>\n",
       "      <td>Petter Mattei's \"Love in the Time of Money\" is...</td>\n",
       "      <td>positive</td>\n",
       "    </tr>\n",
       "    <tr>\n",
       "      <th>...</th>\n",
       "      <td>...</td>\n",
       "      <td>...</td>\n",
       "    </tr>\n",
       "    <tr>\n",
       "      <th>49995</th>\n",
       "      <td>I thought this movie did a down right good job...</td>\n",
       "      <td>positive</td>\n",
       "    </tr>\n",
       "    <tr>\n",
       "      <th>49996</th>\n",
       "      <td>Bad plot, bad dialogue, bad acting, idiotic di...</td>\n",
       "      <td>negative</td>\n",
       "    </tr>\n",
       "    <tr>\n",
       "      <th>49997</th>\n",
       "      <td>I am a Catholic taught in parochial elementary...</td>\n",
       "      <td>negative</td>\n",
       "    </tr>\n",
       "    <tr>\n",
       "      <th>49998</th>\n",
       "      <td>I'm going to have to disagree with the previou...</td>\n",
       "      <td>negative</td>\n",
       "    </tr>\n",
       "    <tr>\n",
       "      <th>49999</th>\n",
       "      <td>No one expects the Star Trek movies to be high...</td>\n",
       "      <td>negative</td>\n",
       "    </tr>\n",
       "  </tbody>\n",
       "</table>\n",
       "<p>50000 rows × 2 columns</p>\n",
       "</div>"
      ],
      "text/plain": [
       "                                                  review sentiment\n",
       "0      One of the other reviewers has mentioned that ...  positive\n",
       "1      A wonderful little production. <br /><br />The...  positive\n",
       "2      I thought this was a wonderful way to spend ti...  positive\n",
       "3      Basically there's a family where a little boy ...  negative\n",
       "4      Petter Mattei's \"Love in the Time of Money\" is...  positive\n",
       "...                                                  ...       ...\n",
       "49995  I thought this movie did a down right good job...  positive\n",
       "49996  Bad plot, bad dialogue, bad acting, idiotic di...  negative\n",
       "49997  I am a Catholic taught in parochial elementary...  negative\n",
       "49998  I'm going to have to disagree with the previou...  negative\n",
       "49999  No one expects the Star Trek movies to be high...  negative\n",
       "\n",
       "[50000 rows x 2 columns]"
      ]
     },
     "execution_count": 1,
     "metadata": {},
     "output_type": "execute_result"
    }
   ],
   "source": [
    "import pandas as pd\n",
    "df = pd.read_csv('/kaggle/input/imdb-dataset-of-50k-movie-reviews/IMDB Dataset.csv')\n",
    "df\n"
   ]
  },
  {
   "cell_type": "code",
   "execution_count": 2,
   "id": "115a0164",
   "metadata": {
    "execution": {
     "iopub.execute_input": "2025-03-09T03:47:00.209611Z",
     "iopub.status.busy": "2025-03-09T03:47:00.209333Z",
     "iopub.status.idle": "2025-03-09T03:47:01.474538Z",
     "shell.execute_reply": "2025-03-09T03:47:01.473576Z"
    },
    "papermill": {
     "duration": 1.27203,
     "end_time": "2025-03-09T03:47:01.476120",
     "exception": false,
     "start_time": "2025-03-09T03:47:00.204090",
     "status": "completed"
    },
    "tags": []
   },
   "outputs": [
    {
     "data": {
      "text/html": [
       "<div>\n",
       "<style scoped>\n",
       "    .dataframe tbody tr th:only-of-type {\n",
       "        vertical-align: middle;\n",
       "    }\n",
       "\n",
       "    .dataframe tbody tr th {\n",
       "        vertical-align: top;\n",
       "    }\n",
       "\n",
       "    .dataframe thead th {\n",
       "        text-align: right;\n",
       "    }\n",
       "</style>\n",
       "<table border=\"1\" class=\"dataframe\">\n",
       "  <thead>\n",
       "    <tr style=\"text-align: right;\">\n",
       "      <th></th>\n",
       "      <th>review</th>\n",
       "      <th>sentiment</th>\n",
       "    </tr>\n",
       "  </thead>\n",
       "  <tbody>\n",
       "    <tr>\n",
       "      <th>0</th>\n",
       "      <td>one of the other reviewers has mentioned that ...</td>\n",
       "      <td>1</td>\n",
       "    </tr>\n",
       "    <tr>\n",
       "      <th>1</th>\n",
       "      <td>a wonderful little production   the filming te...</td>\n",
       "      <td>1</td>\n",
       "    </tr>\n",
       "    <tr>\n",
       "      <th>2</th>\n",
       "      <td>i thought this was a wonderful way to spend ti...</td>\n",
       "      <td>1</td>\n",
       "    </tr>\n",
       "    <tr>\n",
       "      <th>3</th>\n",
       "      <td>basically theres a family where a little boy j...</td>\n",
       "      <td>0</td>\n",
       "    </tr>\n",
       "    <tr>\n",
       "      <th>4</th>\n",
       "      <td>petter matteis love in the time of money is a ...</td>\n",
       "      <td>1</td>\n",
       "    </tr>\n",
       "    <tr>\n",
       "      <th>...</th>\n",
       "      <td>...</td>\n",
       "      <td>...</td>\n",
       "    </tr>\n",
       "    <tr>\n",
       "      <th>49995</th>\n",
       "      <td>i thought this movie did a down right good job...</td>\n",
       "      <td>1</td>\n",
       "    </tr>\n",
       "    <tr>\n",
       "      <th>49996</th>\n",
       "      <td>bad plot bad dialogue bad acting idiotic direc...</td>\n",
       "      <td>0</td>\n",
       "    </tr>\n",
       "    <tr>\n",
       "      <th>49997</th>\n",
       "      <td>i am a catholic taught in parochial elementary...</td>\n",
       "      <td>0</td>\n",
       "    </tr>\n",
       "    <tr>\n",
       "      <th>49998</th>\n",
       "      <td>im going to have to disagree with the previous...</td>\n",
       "      <td>0</td>\n",
       "    </tr>\n",
       "    <tr>\n",
       "      <th>49999</th>\n",
       "      <td>no one expects the star trek movies to be high...</td>\n",
       "      <td>0</td>\n",
       "    </tr>\n",
       "  </tbody>\n",
       "</table>\n",
       "<p>50000 rows × 2 columns</p>\n",
       "</div>"
      ],
      "text/plain": [
       "                                                  review  sentiment\n",
       "0      one of the other reviewers has mentioned that ...          1\n",
       "1      a wonderful little production   the filming te...          1\n",
       "2      i thought this was a wonderful way to spend ti...          1\n",
       "3      basically theres a family where a little boy j...          0\n",
       "4      petter matteis love in the time of money is a ...          1\n",
       "...                                                  ...        ...\n",
       "49995  i thought this movie did a down right good job...          1\n",
       "49996  bad plot bad dialogue bad acting idiotic direc...          0\n",
       "49997  i am a catholic taught in parochial elementary...          0\n",
       "49998  im going to have to disagree with the previous...          0\n",
       "49999  no one expects the star trek movies to be high...          0\n",
       "\n",
       "[50000 rows x 2 columns]"
      ]
     },
     "execution_count": 2,
     "metadata": {},
     "output_type": "execute_result"
    }
   ],
   "source": [
    "import re\n",
    "\n",
    "\n",
    "def preproc(x):\n",
    "    x = re.sub(r\"<br\\s*/?>\", \" \", x)  \n",
    "    x = re.sub(r\"[^a-zA-Z0-9\\s]\", \"\", x) \n",
    "    x = x.lower()  \n",
    "    return x\n",
    "\n",
    "\n",
    "df[\"review\"] = df[\"review\"].apply(preproc)\n",
    "df[\"sentiment\"] = df[\"sentiment\"].map({\"positive\": 1, \"negative\": 0})\n",
    "df"
   ]
  },
  {
   "cell_type": "code",
   "execution_count": 3,
   "id": "a640f2c6",
   "metadata": {
    "execution": {
     "iopub.execute_input": "2025-03-09T03:47:01.486479Z",
     "iopub.status.busy": "2025-03-09T03:47:01.486245Z",
     "iopub.status.idle": "2025-03-09T03:47:01.540989Z",
     "shell.execute_reply": "2025-03-09T03:47:01.540229Z"
    },
    "papermill": {
     "duration": 0.061132,
     "end_time": "2025-03-09T03:47:01.542136",
     "exception": false,
     "start_time": "2025-03-09T03:47:01.481004",
     "status": "completed"
    },
    "tags": []
   },
   "outputs": [],
   "source": [
    "corpus = \" \".join(df[\"review\"].tolist())"
   ]
  },
  {
   "cell_type": "code",
   "execution_count": 4,
   "id": "d6cb0b49",
   "metadata": {
    "execution": {
     "iopub.execute_input": "2025-03-09T03:47:01.552015Z",
     "iopub.status.busy": "2025-03-09T03:47:01.551794Z",
     "iopub.status.idle": "2025-03-09T03:47:04.166548Z",
     "shell.execute_reply": "2025-03-09T03:47:04.165838Z"
    },
    "papermill": {
     "duration": 2.621024,
     "end_time": "2025-03-09T03:47:04.167835",
     "exception": false,
     "start_time": "2025-03-09T03:47:01.546811",
     "status": "completed"
    },
    "tags": []
   },
   "outputs": [],
   "source": [
    "from collections import Counter\n",
    "\n",
    "vocab_size = 20000\n",
    "word_freq = Counter(corpus.split())\n",
    "most_freq = sorted(word_freq.items(), key=lambda x: x[1], reverse=True)\n",
    "most_freq_words = [word for word, freq in most_freq[:vocab_size]]\n",
    "vocab = {word: i + 1 for i, word in enumerate(most_freq_words)}"
   ]
  },
  {
   "cell_type": "code",
   "execution_count": 5,
   "id": "8c23a366",
   "metadata": {
    "execution": {
     "iopub.execute_input": "2025-03-09T03:47:04.177845Z",
     "iopub.status.busy": "2025-03-09T03:47:04.177588Z",
     "iopub.status.idle": "2025-03-09T03:47:04.201769Z",
     "shell.execute_reply": "2025-03-09T03:47:04.200981Z"
    },
    "papermill": {
     "duration": 0.030409,
     "end_time": "2025-03-09T03:47:04.202961",
     "exception": false,
     "start_time": "2025-03-09T03:47:04.172552",
     "status": "completed"
    },
    "tags": []
   },
   "outputs": [],
   "source": [
    "import json\n",
    "with open(\"vocab.json\", \"w\") as f:\n",
    "    json.dump(vocab, f)"
   ]
  },
  {
   "cell_type": "code",
   "execution_count": 6,
   "id": "8b471aa8",
   "metadata": {
    "execution": {
     "iopub.execute_input": "2025-03-09T03:47:04.212611Z",
     "iopub.status.busy": "2025-03-09T03:47:04.212411Z",
     "iopub.status.idle": "2025-03-09T03:47:06.375619Z",
     "shell.execute_reply": "2025-03-09T03:47:06.374740Z"
    },
    "papermill": {
     "duration": 2.169655,
     "end_time": "2025-03-09T03:47:06.377039",
     "exception": false,
     "start_time": "2025-03-09T03:47:04.207384",
     "status": "completed"
    },
    "tags": []
   },
   "outputs": [
    {
     "data": {
      "text/html": [
       "<div>\n",
       "<style scoped>\n",
       "    .dataframe tbody tr th:only-of-type {\n",
       "        vertical-align: middle;\n",
       "    }\n",
       "\n",
       "    .dataframe tbody tr th {\n",
       "        vertical-align: top;\n",
       "    }\n",
       "\n",
       "    .dataframe thead th {\n",
       "        text-align: right;\n",
       "    }\n",
       "</style>\n",
       "<table border=\"1\" class=\"dataframe\">\n",
       "  <thead>\n",
       "    <tr style=\"text-align: right;\">\n",
       "      <th></th>\n",
       "      <th>review</th>\n",
       "      <th>sentiment</th>\n",
       "    </tr>\n",
       "  </thead>\n",
       "  <tbody>\n",
       "    <tr>\n",
       "      <th>0</th>\n",
       "      <td>[27, 4, 1, 75, 1944, 44, 1062, 11, 100, 143, 3...</td>\n",
       "      <td>1</td>\n",
       "    </tr>\n",
       "    <tr>\n",
       "      <th>1</th>\n",
       "      <td>[3, 384, 116, 356, 1, 1338, 2937, 6, 51, 17935...</td>\n",
       "      <td>1</td>\n",
       "    </tr>\n",
       "    <tr>\n",
       "      <th>2</th>\n",
       "      <td>[9, 192, 10, 12, 3, 384, 94, 5, 1120, 57, 19, ...</td>\n",
       "      <td>1</td>\n",
       "    </tr>\n",
       "    <tr>\n",
       "      <th>3</th>\n",
       "      <td>[667, 214, 3, 233, 113, 3, 116, 435, 3556, 120...</td>\n",
       "      <td>0</td>\n",
       "    </tr>\n",
       "    <tr>\n",
       "      <th>4</th>\n",
       "      <td>[0, 0, 109, 7, 1, 57, 4, 285, 6, 3, 2077, 1375...</td>\n",
       "      <td>1</td>\n",
       "    </tr>\n",
       "    <tr>\n",
       "      <th>...</th>\n",
       "      <td>...</td>\n",
       "      <td>...</td>\n",
       "    </tr>\n",
       "    <tr>\n",
       "      <th>49995</th>\n",
       "      <td>[9, 192, 10, 16, 112, 3, 181, 200, 48, 286, 8,...</td>\n",
       "      <td>1</td>\n",
       "    </tr>\n",
       "    <tr>\n",
       "      <th>49996</th>\n",
       "      <td>[77, 111, 77, 402, 77, 110, 2997, 963, 1, 626,...</td>\n",
       "      <td>0</td>\n",
       "    </tr>\n",
       "    <tr>\n",
       "      <th>49997</th>\n",
       "      <td>[9, 227, 3, 3510, 4325, 7, 0, 8342, 4602, 31, ...</td>\n",
       "      <td>0</td>\n",
       "    </tr>\n",
       "    <tr>\n",
       "      <th>49998</th>\n",
       "      <td>[140, 161, 5, 24, 5, 2964, 14, 1, 899, 912, 2,...</td>\n",
       "      <td>0</td>\n",
       "    </tr>\n",
       "    <tr>\n",
       "      <th>49999</th>\n",
       "      <td>[54, 27, 5810, 1, 340, 2145, 91, 5, 25, 318, 5...</td>\n",
       "      <td>0</td>\n",
       "    </tr>\n",
       "  </tbody>\n",
       "</table>\n",
       "<p>50000 rows × 2 columns</p>\n",
       "</div>"
      ],
      "text/plain": [
       "                                                  review  sentiment\n",
       "0      [27, 4, 1, 75, 1944, 44, 1062, 11, 100, 143, 3...          1\n",
       "1      [3, 384, 116, 356, 1, 1338, 2937, 6, 51, 17935...          1\n",
       "2      [9, 192, 10, 12, 3, 384, 94, 5, 1120, 57, 19, ...          1\n",
       "3      [667, 214, 3, 233, 113, 3, 116, 435, 3556, 120...          0\n",
       "4      [0, 0, 109, 7, 1, 57, 4, 285, 6, 3, 2077, 1375...          1\n",
       "...                                                  ...        ...\n",
       "49995  [9, 192, 10, 16, 112, 3, 181, 200, 48, 286, 8,...          1\n",
       "49996  [77, 111, 77, 402, 77, 110, 2997, 963, 1, 626,...          0\n",
       "49997  [9, 227, 3, 3510, 4325, 7, 0, 8342, 4602, 31, ...          0\n",
       "49998  [140, 161, 5, 24, 5, 2964, 14, 1, 899, 912, 2,...          0\n",
       "49999  [54, 27, 5810, 1, 340, 2145, 91, 5, 25, 318, 5...          0\n",
       "\n",
       "[50000 rows x 2 columns]"
      ]
     },
     "execution_count": 6,
     "metadata": {},
     "output_type": "execute_result"
    }
   ],
   "source": [
    "def encode(text):\n",
    "    return [vocab.get(word, 0) for word in text.split()]\n",
    "\n",
    "df[\"review\"] = df[\"review\"].apply(encode)\n",
    "df"
   ]
  },
  {
   "cell_type": "code",
   "execution_count": 7,
   "id": "25c95270",
   "metadata": {
    "execution": {
     "iopub.execute_input": "2025-03-09T03:47:06.388155Z",
     "iopub.status.busy": "2025-03-09T03:47:06.387910Z",
     "iopub.status.idle": "2025-03-09T03:47:09.240338Z",
     "shell.execute_reply": "2025-03-09T03:47:09.239375Z"
    },
    "papermill": {
     "duration": 2.859854,
     "end_time": "2025-03-09T03:47:09.241976",
     "exception": false,
     "start_time": "2025-03-09T03:47:06.382122",
     "status": "completed"
    },
    "tags": []
   },
   "outputs": [],
   "source": [
    "max_len = 200  \n",
    "new_data = []\n",
    "\n",
    "for i, row in df.iterrows():\n",
    "    full_review = row[\"review\"]\n",
    "    sentiment = row[\"sentiment\"]\n",
    "    chunks = [full_review[j : j + max_len] for j in range(0, len(full_review), max_len)]\n",
    "\n",
    "    for chunk in chunks:\n",
    "        new_data.append([chunk, sentiment])\n",
    "\n",
    "df = pd.DataFrame(new_data, columns=[\"review\", \"sentiment\"])"
   ]
  },
  {
   "cell_type": "code",
   "execution_count": 8,
   "id": "158ec95b",
   "metadata": {
    "execution": {
     "iopub.execute_input": "2025-03-09T03:47:09.252991Z",
     "iopub.status.busy": "2025-03-09T03:47:09.252727Z",
     "iopub.status.idle": "2025-03-09T03:47:09.924516Z",
     "shell.execute_reply": "2025-03-09T03:47:09.923623Z"
    },
    "papermill": {
     "duration": 0.678819,
     "end_time": "2025-03-09T03:47:09.925954",
     "exception": false,
     "start_time": "2025-03-09T03:47:09.247135",
     "status": "completed"
    },
    "tags": []
   },
   "outputs": [
    {
     "data": {
      "text/plain": [
       "0        200\n",
       "1        200\n",
       "2        200\n",
       "3        200\n",
       "4        200\n",
       "        ... \n",
       "79534    200\n",
       "79535    200\n",
       "79536    200\n",
       "79537    200\n",
       "79538    200\n",
       "Name: review, Length: 79539, dtype: int64"
      ]
     },
     "execution_count": 8,
     "metadata": {},
     "output_type": "execute_result"
    }
   ],
   "source": [
    "max_len = 200\n",
    "def pad(text):\n",
    "    return text + [20001] * (max_len - len(text))\n",
    "\n",
    "df[\"review\"] = df[\"review\"].apply(pad)\n",
    "df[\"review\"].apply(len)"
   ]
  },
  {
   "cell_type": "code",
   "execution_count": 9,
   "id": "8d61785e",
   "metadata": {
    "execution": {
     "iopub.execute_input": "2025-03-09T03:47:09.937945Z",
     "iopub.status.busy": "2025-03-09T03:47:09.937636Z",
     "iopub.status.idle": "2025-03-09T03:47:12.605799Z",
     "shell.execute_reply": "2025-03-09T03:47:12.605090Z"
    },
    "papermill": {
     "duration": 2.676044,
     "end_time": "2025-03-09T03:47:12.607379",
     "exception": false,
     "start_time": "2025-03-09T03:47:09.931335",
     "status": "completed"
    },
    "tags": []
   },
   "outputs": [],
   "source": [
    "df.to_csv(\"data.csv\", index=False)"
   ]
  },
  {
   "cell_type": "code",
   "execution_count": 10,
   "id": "8b6102d9",
   "metadata": {
    "execution": {
     "iopub.execute_input": "2025-03-09T03:47:12.619740Z",
     "iopub.status.busy": "2025-03-09T03:47:12.619499Z",
     "iopub.status.idle": "2025-03-09T03:47:16.204782Z",
     "shell.execute_reply": "2025-03-09T03:47:16.204075Z"
    },
    "papermill": {
     "duration": 3.593911,
     "end_time": "2025-03-09T03:47:16.206439",
     "exception": false,
     "start_time": "2025-03-09T03:47:12.612528",
     "status": "completed"
    },
    "tags": []
   },
   "outputs": [],
   "source": [
    "import torch.nn as nn\n",
    "import torch\n",
    "\n",
    "\n",
    "class RNNModel(nn.Module):\n",
    "    def __init__(self, embedding_dim, hidden_dim, vocab_size):\n",
    "        super(RNNModel, self).__init__()\n",
    "        self.embedding = nn.Embedding(vocab_size, embedding_dim, padding_idx=20001)\n",
    "        self.rnn = nn.RNN(embedding_dim, hidden_dim, batch_first=True)\n",
    "        self.fc = nn.Linear(hidden_dim, 1)\n",
    "        self.hidden_dim = hidden_dim\n",
    "\n",
    "    def forward(self, x, h=None):\n",
    "        x = self.embedding(x)\n",
    "\n",
    "        if h is None:\n",
    "            h = torch.zeros(1, x.size(0), self.hidden_dim).to(\"cuda\")\n",
    "        x, h = self.rnn(x, h)\n",
    "        x = x[:, -1, :]\n",
    "        x = self.fc(x)\n",
    "        return x, h.detach()"
   ]
  },
  {
   "cell_type": "code",
   "execution_count": 11,
   "id": "5c869ad9",
   "metadata": {
    "execution": {
     "iopub.execute_input": "2025-03-09T03:47:16.217396Z",
     "iopub.status.busy": "2025-03-09T03:47:16.217031Z",
     "iopub.status.idle": "2025-03-09T03:47:16.222608Z",
     "shell.execute_reply": "2025-03-09T03:47:16.221975Z"
    },
    "papermill": {
     "duration": 0.011939,
     "end_time": "2025-03-09T03:47:16.223720",
     "exception": false,
     "start_time": "2025-03-09T03:47:16.211781",
     "status": "completed"
    },
    "tags": []
   },
   "outputs": [],
   "source": [
    "import torch.nn as nn\n",
    "import torch\n",
    "\n",
    "\n",
    "class LSTMModel(nn.Module):\n",
    "    def __init__(self, embedding_dim, hidden_dim, vocab_size):\n",
    "        super(LSTMModel, self).__init__()\n",
    "        self.embedding = nn.Embedding(vocab_size, embedding_dim, padding_idx=20001)\n",
    "        self.lstm = nn.LSTM(embedding_dim, hidden_dim, batch_first=True)\n",
    "        self.fc = nn.Linear(hidden_dim, 1)\n",
    "        self.hidden_dim = hidden_dim\n",
    "\n",
    "    def forward(self, x, h=None):\n",
    "        x = self.embedding(x)\n",
    "\n",
    "        if h is None:\n",
    "            h = (\n",
    "                torch.zeros(1, x.size(0), self.hidden_dim).to(\"cuda\"),\n",
    "                torch.zeros(1, x.size(0), self.hidden_dim).to(\"cuda\"),\n",
    "            )\n",
    "        x, h = self.lstm(x, h)\n",
    "        x = x[:, -1, :]\n",
    "        x = self.fc(x)\n",
    "        return x, (h[0].detach(), h[1].detach())"
   ]
  },
  {
   "cell_type": "code",
   "execution_count": 12,
   "id": "68eb120c",
   "metadata": {
    "execution": {
     "iopub.execute_input": "2025-03-09T03:47:16.233867Z",
     "iopub.status.busy": "2025-03-09T03:47:16.233623Z",
     "iopub.status.idle": "2025-03-09T03:47:16.238401Z",
     "shell.execute_reply": "2025-03-09T03:47:16.237816Z"
    },
    "papermill": {
     "duration": 0.011061,
     "end_time": "2025-03-09T03:47:16.239547",
     "exception": false,
     "start_time": "2025-03-09T03:47:16.228486",
     "status": "completed"
    },
    "tags": []
   },
   "outputs": [],
   "source": [
    "import torch\n",
    "import torch.nn as nn\n",
    "\n",
    "class GRUModel(nn.Module):\n",
    "    def __init__(self, embedding_dim, hidden_dim, vocab_size):\n",
    "        super(GRUModel, self).__init__()\n",
    "        self.embedding = nn.Embedding(vocab_size, embedding_dim, padding_idx=20001)\n",
    "        self.gru = nn.GRU(embedding_dim, hidden_dim, batch_first=True)\n",
    "        self.fc = nn.Linear(hidden_dim, 1)\n",
    "        self.hidden_dim = hidden_dim\n",
    "\n",
    "    def forward(self, x, h=None):\n",
    "        x = self.embedding(x)\n",
    "        if h is None:\n",
    "            h = torch.zeros(1, x.size(0), self.hidden_dim).to(\"cuda\")\n",
    "        x, h = self.gru(x, h)\n",
    "        x = x[:, -1, :]\n",
    "        x = self.fc(x)\n",
    "        return x, h.detach()"
   ]
  },
  {
   "cell_type": "code",
   "execution_count": 13,
   "id": "1edb16b6",
   "metadata": {
    "execution": {
     "iopub.execute_input": "2025-03-09T03:47:16.249706Z",
     "iopub.status.busy": "2025-03-09T03:47:16.249462Z",
     "iopub.status.idle": "2025-03-09T03:47:16.254587Z",
     "shell.execute_reply": "2025-03-09T03:47:16.253989Z"
    },
    "papermill": {
     "duration": 0.011543,
     "end_time": "2025-03-09T03:47:16.255765",
     "exception": false,
     "start_time": "2025-03-09T03:47:16.244222",
     "status": "completed"
    },
    "tags": []
   },
   "outputs": [],
   "source": [
    "import torch\n",
    "import torch.nn as nn\n",
    "\n",
    "class BiLSTMModel(nn.Module):\n",
    "    def __init__(self, embedding_dim, hidden_dim, vocab_size):\n",
    "        super(BiLSTMModel, self).__init__()\n",
    "        self.embedding = nn.Embedding(vocab_size, embedding_dim, padding_idx=20001)\n",
    "        self.bilstm = nn.LSTM(embedding_dim, hidden_dim, batch_first=True, bidirectional=True)\n",
    "        self.fc = nn.Linear(hidden_dim * 2, 1)\n",
    "\n",
    "    def forward(self, x, h=None):\n",
    "        x = self.embedding(x)\n",
    "        if h is None:\n",
    "            h = (\n",
    "                torch.zeros(2, x.size(0), self.bilstm.hidden_size).to(\"cuda\"),\n",
    "                torch.zeros(2, x.size(0), self.bilstm.hidden_size).to(\"cuda\"),\n",
    "            )\n",
    "        x, h = self.bilstm(x, h)\n",
    "        x = x[:, -1, :]\n",
    "        x = self.fc(x)\n",
    "        return x, (h[0].detach(), h[1].detach())"
   ]
  },
  {
   "cell_type": "code",
   "execution_count": 14,
   "id": "7c5ed7b3",
   "metadata": {
    "execution": {
     "iopub.execute_input": "2025-03-09T03:47:16.265590Z",
     "iopub.status.busy": "2025-03-09T03:47:16.265369Z",
     "iopub.status.idle": "2025-03-09T03:47:16.271841Z",
     "shell.execute_reply": "2025-03-09T03:47:16.271076Z"
    },
    "papermill": {
     "duration": 0.012682,
     "end_time": "2025-03-09T03:47:16.272985",
     "exception": false,
     "start_time": "2025-03-09T03:47:16.260303",
     "status": "completed"
    },
    "tags": []
   },
   "outputs": [],
   "source": [
    "import torch\n",
    "import torch.nn as nn\n",
    "import torch\n",
    "import torch.nn as nn\n",
    "\n",
    "class StackedLSTMModel(nn.Module):\n",
    "    def __init__(self, embedding_dim, hidden_dim1, hidden_dim2, vocab_size):\n",
    "        super(StackedLSTMModel, self).__init__()\n",
    "        self.embedding = nn.Embedding(vocab_size, embedding_dim, padding_idx=20001)\n",
    "        self.lstm1 = nn.LSTM(embedding_dim, hidden_dim1, batch_first=True)\n",
    "        self.lstm2 = nn.LSTM(hidden_dim1, hidden_dim2, batch_first=True)\n",
    "        self.fc = nn.Linear(hidden_dim2, 1)  \n",
    "        self.hidden_dim1 = hidden_dim1\n",
    "        self.hidden_dim2 = hidden_dim2\n",
    "\n",
    "    def forward(self, x, h=None):\n",
    "        x = self.embedding(x)\n",
    "        if h is None:\n",
    "            h1 = (\n",
    "                torch.zeros(1, x.size(0), self.hidden_dim1, device=x.device),\n",
    "                torch.zeros(1, x.size(0), self.hidden_dim1, device=x.device),\n",
    "            )\n",
    "            h2 = (\n",
    "                torch.zeros(1, x.size(0), self.hidden_dim2, device=x.device),\n",
    "                torch.zeros(1, x.size(0), self.hidden_dim2, device=x.device),\n",
    "            )\n",
    "        else:\n",
    "            h1 = h[:2]\n",
    "            h2 = h[2:]\n",
    "        x, h1 = self.lstm1(x, h1)\n",
    "        x, h2 = self.lstm2(x, h2)\n",
    "        x = x[:, -1, :]\n",
    "        x = self.fc(x)\n",
    "        return x, (h1[0].detach(), h1[1].detach(), h2[0].detach(), h2[1].detach())"
   ]
  },
  {
   "cell_type": "code",
   "execution_count": 15,
   "id": "532f399c",
   "metadata": {
    "execution": {
     "iopub.execute_input": "2025-03-09T03:47:16.282565Z",
     "iopub.status.busy": "2025-03-09T03:47:16.282372Z",
     "iopub.status.idle": "2025-03-09T03:47:16.288471Z",
     "shell.execute_reply": "2025-03-09T03:47:16.287866Z"
    },
    "papermill": {
     "duration": 0.012107,
     "end_time": "2025-03-09T03:47:16.289558",
     "exception": false,
     "start_time": "2025-03-09T03:47:16.277451",
     "status": "completed"
    },
    "tags": []
   },
   "outputs": [],
   "source": [
    "import torch\n",
    "import torch.nn as nn\n",
    "\n",
    "class StackedBiLSTMModel(nn.Module):\n",
    "    def __init__(self, embedding_dim, hidden_dim1, hidden_dim2, vocab_size):\n",
    "        super(StackedBiLSTMModel, self).__init__()\n",
    "        self.embedding = nn.Embedding(vocab_size, embedding_dim, padding_idx=20001)\n",
    "        self.bilstm1 = nn.LSTM(embedding_dim, hidden_dim1, batch_first=True, bidirectional=True)\n",
    "        self.bilstm2 = nn.LSTM(hidden_dim1 * 2, hidden_dim2, batch_first=True, bidirectional=True)\n",
    "        self.fc = nn.Linear(hidden_dim2 * 2, 1)\n",
    "\n",
    "    def forward(self, x, h=None):\n",
    "        x = self.embedding(x)\n",
    "        if h is None:\n",
    "            h1 = (\n",
    "                torch.zeros(2, x.size(0), self.bilstm1.hidden_size, device=x.device),\n",
    "                torch.zeros(2, x.size(0), self.bilstm1.hidden_size, device=x.device),\n",
    "            )\n",
    "            h2 = (\n",
    "                torch.zeros(2, x.size(0), self.bilstm2.hidden_size, device=x.device),\n",
    "                torch.zeros(2, x.size(0), self.bilstm2.hidden_size, device=x.device),\n",
    "            )\n",
    "        else:\n",
    "            h1 = h[:2] \n",
    "            h2 = h[2:]  \n",
    "        x, h1 = self.bilstm1(x, h1)\n",
    "        x, h2 = self.bilstm2(x, h2)\n",
    "        x = x[:, -1, :]\n",
    "        x = self.fc(x)\n",
    "        return x, (h1[0].detach(), h1[1].detach(), h2[0].detach(), h2[1].detach())"
   ]
  },
  {
   "cell_type": "code",
   "execution_count": 16,
   "id": "abdf8a6c",
   "metadata": {
    "execution": {
     "iopub.execute_input": "2025-03-09T03:47:16.299085Z",
     "iopub.status.busy": "2025-03-09T03:47:16.298893Z",
     "iopub.status.idle": "2025-03-09T03:47:16.302183Z",
     "shell.execute_reply": "2025-03-09T03:47:16.301541Z"
    },
    "papermill": {
     "duration": 0.009416,
     "end_time": "2025-03-09T03:47:16.303384",
     "exception": false,
     "start_time": "2025-03-09T03:47:16.293968",
     "status": "completed"
    },
    "tags": []
   },
   "outputs": [],
   "source": [
    "import torch.optim as optim\n",
    "\n",
    "batch_size = 256\n",
    "seq_len = 200\n",
    "learning_rate = 0.001\n",
    "vocab_size = 20002\n",
    "hidden_dim = 128\n",
    "\n",
    "criterion = nn.BCEWithLogitsLoss()"
   ]
  },
  {
   "cell_type": "code",
   "execution_count": 17,
   "id": "1823168d",
   "metadata": {
    "execution": {
     "iopub.execute_input": "2025-03-09T03:47:16.312926Z",
     "iopub.status.busy": "2025-03-09T03:47:16.312721Z",
     "iopub.status.idle": "2025-03-09T03:47:17.538496Z",
     "shell.execute_reply": "2025-03-09T03:47:17.537777Z"
    },
    "papermill": {
     "duration": 1.232206,
     "end_time": "2025-03-09T03:47:17.540107",
     "exception": false,
     "start_time": "2025-03-09T03:47:16.307901",
     "status": "completed"
    },
    "tags": []
   },
   "outputs": [],
   "source": [
    "from torch.utils.data import DataLoader, TensorDataset\n",
    "train = TensorDataset(\n",
    "    torch.tensor(df[\"review\"][:50000].tolist(), dtype=torch.long),\n",
    "    torch.tensor(df[\"sentiment\"][:50000].tolist(), dtype=torch.float32),\n",
    ")\n",
    "test = TensorDataset(\n",
    "    torch.tensor(df[\"review\"][50000:].tolist(), dtype=torch.long),\n",
    "    torch.tensor(df[\"sentiment\"][50000:].tolist(), dtype=torch.float32),\n",
    ")\n",
    "train_loader = DataLoader(train, batch_size=batch_size, shuffle=True)\n",
    "test_loader = DataLoader(test, batch_size=batch_size, shuffle=False)"
   ]
  },
  {
   "cell_type": "code",
   "execution_count": 18,
   "id": "08fff47f",
   "metadata": {
    "execution": {
     "iopub.execute_input": "2025-03-09T03:47:17.550747Z",
     "iopub.status.busy": "2025-03-09T03:47:17.550476Z",
     "iopub.status.idle": "2025-03-09T03:47:29.536083Z",
     "shell.execute_reply": "2025-03-09T03:47:29.535387Z"
    },
    "papermill": {
     "duration": 11.992585,
     "end_time": "2025-03-09T03:47:29.537626",
     "exception": false,
     "start_time": "2025-03-09T03:47:17.545041",
     "status": "completed"
    },
    "tags": []
   },
   "outputs": [],
   "source": [
    "from tqdm import tqdm\n",
    "from torch.utils.tensorboard import SummaryWriter\n",
    "import torch\n",
    "\n",
    "def train_loop(model, bidir, epochs, model_name):\n",
    "    model = model.to(\"cuda\")\n",
    "\n",
    "    writer = SummaryWriter(log_dir=f\"runs/{model_name}\")\n",
    "\n",
    "    for epoch in range(epochs):\n",
    "        hidden_state = None\n",
    "        model.train()\n",
    "        train_tqdm = tqdm(train_loader, desc=f\"Epoch {epoch+1}/{epochs} [Train]\")\n",
    "        \n",
    "        total_train_loss = 0\n",
    "        correct_train = 0\n",
    "        total_train = 0\n",
    "    \n",
    "        for i, (train_data, train_labels) in enumerate(train_tqdm):\n",
    "            train_data, train_labels = train_data.to(\"cuda\"), train_labels.to(\"cuda\")\n",
    "            if i == len(train_loader) - 1:  \n",
    "                hidden_state = None\n",
    "                \n",
    "            optimizer.zero_grad()\n",
    "            output, hidden_state = model(train_data, hidden_state)\n",
    "            output = output.squeeze()\n",
    "            if bidir:\n",
    "                hidden_state = tuple(h.detach() for h in hidden_state)\n",
    "            else:\n",
    "                hidden_state = hidden_state.detach()\n",
    "            loss = criterion(output, train_labels)\n",
    "            loss.backward()\n",
    "            optimizer.step()\n",
    "    \n",
    "            predictions = (torch.sigmoid(output) > 0.5).float()\n",
    "            correct_train += (predictions == train_labels).sum().item()\n",
    "            total_train += train_labels.size(0)\n",
    "    \n",
    "            total_train_loss += loss.item()\n",
    "            train_tqdm.set_postfix(loss=loss.item())\n",
    "    \n",
    "        avg_train_loss = total_train_loss / len(train_loader)\n",
    "        train_acc = correct_train / total_train\n",
    "\n",
    "        writer.add_scalar(f\"{model_name}/trainLoss\", avg_train_loss, epoch+1)\n",
    "        writer.add_scalar(f\"{model_name}/trainAcc\", train_acc, epoch+1)\n",
    "\n",
    "        # ------------------- Validation Loop -------------------\n",
    "        model.eval()\n",
    "        val_tqdm = tqdm(test_loader, desc=f\"Epoch {epoch+1}/{epochs} [Val]\")\n",
    "    \n",
    "        total_val_loss = 0\n",
    "        correct_val = 0\n",
    "        total_val = 0\n",
    "        hidden_state = None\n",
    "        with torch.no_grad():\n",
    "            for i, (val_data, val_labels) in enumerate(val_tqdm):\n",
    "                val_data, val_labels = val_data.to(\"cuda\"), val_labels.to(\"cuda\")\n",
    "                if i == len(test_loader) - 1:\n",
    "                    hidden_state = None\n",
    "                output, hidden_state = model(val_data)\n",
    "                output = output.squeeze()\n",
    "                if bidir:\n",
    "                    hidden_state = tuple(h.detach() for h in hidden_state)\n",
    "                else:\n",
    "                    hidden_state = hidden_state.detach()\n",
    "                loss = criterion(output, val_labels)\n",
    "                total_val_loss += loss.item()\n",
    "    \n",
    "                predictions = (torch.sigmoid(output) > 0.5).float()\n",
    "                correct_val += (predictions == val_labels).sum().item()\n",
    "                total_val += val_labels.size(0)\n",
    "    \n",
    "                val_tqdm.set_postfix(loss=loss.item())\n",
    "    \n",
    "        avg_val_loss = total_val_loss / len(test_loader)\n",
    "        val_acc = correct_val / total_val\n",
    "\n",
    "        writer.add_scalar(f\"{model_name}/valLoss\", avg_val_loss, epoch+1)\n",
    "        writer.add_scalar(f\"{model_name}/valAcc\", val_acc, epoch+1)\n",
    "    \n",
    "        print(\n",
    "            f\"Epoch {epoch+1}/{epochs} | Train Loss: {avg_train_loss:.4f} | Train Acc: {train_acc:.4f} | Val Loss: {avg_val_loss:.4f} | Val Acc: {val_acc:.4f}\"\n",
    "        )\n",
    "\n",
    "    writer.close()  "
   ]
  },
  {
   "cell_type": "code",
   "execution_count": 19,
   "id": "e1e1d2f2",
   "metadata": {
    "execution": {
     "iopub.execute_input": "2025-03-09T03:47:29.548315Z",
     "iopub.status.busy": "2025-03-09T03:47:29.547868Z",
     "iopub.status.idle": "2025-03-09T03:49:21.946856Z",
     "shell.execute_reply": "2025-03-09T03:49:21.945866Z"
    },
    "papermill": {
     "duration": 112.405459,
     "end_time": "2025-03-09T03:49:21.948196",
     "exception": false,
     "start_time": "2025-03-09T03:47:29.542737",
     "status": "completed"
    },
    "tags": []
   },
   "outputs": [
    {
     "name": "stderr",
     "output_type": "stream",
     "text": [
      "Epoch 1/50 [Train]: 100%|██████████| 196/196 [00:02<00:00, 78.83it/s, loss=0.682] \n",
      "Epoch 1/50 [Val]: 100%|██████████| 116/116 [00:00<00:00, 225.90it/s, loss=0.721]\n"
     ]
    },
    {
     "name": "stdout",
     "output_type": "stream",
     "text": [
      "Epoch 1/50 | Train Loss: 0.6948 | Train Acc: 0.5014 | Val Loss: 0.6935 | Val Acc: 0.5085\n"
     ]
    },
    {
     "name": "stderr",
     "output_type": "stream",
     "text": [
      "Epoch 2/50 [Train]: 100%|██████████| 196/196 [00:01<00:00, 127.29it/s, loss=0.685]\n",
      "Epoch 2/50 [Val]: 100%|██████████| 116/116 [00:00<00:00, 219.55it/s, loss=0.703]\n"
     ]
    },
    {
     "name": "stdout",
     "output_type": "stream",
     "text": [
      "Epoch 2/50 | Train Loss: 0.6908 | Train Acc: 0.5177 | Val Loss: 0.6932 | Val Acc: 0.5102\n"
     ]
    },
    {
     "name": "stderr",
     "output_type": "stream",
     "text": [
      "Epoch 3/50 [Train]: 100%|██████████| 196/196 [00:01<00:00, 126.14it/s, loss=0.67]\n",
      "Epoch 3/50 [Val]: 100%|██████████| 116/116 [00:00<00:00, 225.89it/s, loss=0.681]\n"
     ]
    },
    {
     "name": "stdout",
     "output_type": "stream",
     "text": [
      "Epoch 3/50 | Train Loss: 0.6852 | Train Acc: 0.5414 | Val Loss: 0.6754 | Val Acc: 0.5940\n"
     ]
    },
    {
     "name": "stderr",
     "output_type": "stream",
     "text": [
      "Epoch 4/50 [Train]: 100%|██████████| 196/196 [00:02<00:00, 94.54it/s, loss=0.696]\n",
      "Epoch 4/50 [Val]: 100%|██████████| 116/116 [00:00<00:00, 215.04it/s, loss=0.7]\n"
     ]
    },
    {
     "name": "stdout",
     "output_type": "stream",
     "text": [
      "Epoch 4/50 | Train Loss: 0.6902 | Train Acc: 0.5248 | Val Loss: 0.6926 | Val Acc: 0.5138\n"
     ]
    },
    {
     "name": "stderr",
     "output_type": "stream",
     "text": [
      "Epoch 5/50 [Train]: 100%|██████████| 196/196 [00:01<00:00, 127.43it/s, loss=0.694]\n",
      "Epoch 5/50 [Val]: 100%|██████████| 116/116 [00:00<00:00, 223.08it/s, loss=0.731]\n"
     ]
    },
    {
     "name": "stdout",
     "output_type": "stream",
     "text": [
      "Epoch 5/50 | Train Loss: 0.6890 | Train Acc: 0.5272 | Val Loss: 0.6936 | Val Acc: 0.5126\n"
     ]
    },
    {
     "name": "stderr",
     "output_type": "stream",
     "text": [
      "Epoch 6/50 [Train]: 100%|██████████| 196/196 [00:01<00:00, 125.99it/s, loss=0.683]\n",
      "Epoch 6/50 [Val]: 100%|██████████| 116/116 [00:00<00:00, 211.44it/s, loss=0.784]\n"
     ]
    },
    {
     "name": "stdout",
     "output_type": "stream",
     "text": [
      "Epoch 6/50 | Train Loss: 0.6812 | Train Acc: 0.5418 | Val Loss: 0.6973 | Val Acc: 0.5277\n"
     ]
    },
    {
     "name": "stderr",
     "output_type": "stream",
     "text": [
      "Epoch 7/50 [Train]: 100%|██████████| 196/196 [00:01<00:00, 127.48it/s, loss=0.716]\n",
      "Epoch 7/50 [Val]: 100%|██████████| 116/116 [00:00<00:00, 226.80it/s, loss=0.691]\n"
     ]
    },
    {
     "name": "stdout",
     "output_type": "stream",
     "text": [
      "Epoch 7/50 | Train Loss: 0.6787 | Train Acc: 0.5505 | Val Loss: 0.7050 | Val Acc: 0.5420\n"
     ]
    },
    {
     "name": "stderr",
     "output_type": "stream",
     "text": [
      "Epoch 8/50 [Train]: 100%|██████████| 196/196 [00:01<00:00, 127.65it/s, loss=0.616]\n",
      "Epoch 8/50 [Val]: 100%|██████████| 116/116 [00:00<00:00, 223.04it/s, loss=0.693]\n"
     ]
    },
    {
     "name": "stdout",
     "output_type": "stream",
     "text": [
      "Epoch 8/50 | Train Loss: 0.6577 | Train Acc: 0.6138 | Val Loss: 0.6497 | Val Acc: 0.6433\n"
     ]
    },
    {
     "name": "stderr",
     "output_type": "stream",
     "text": [
      "Epoch 9/50 [Train]: 100%|██████████| 196/196 [00:01<00:00, 125.43it/s, loss=0.68]\n",
      "Epoch 9/50 [Val]: 100%|██████████| 116/116 [00:00<00:00, 229.13it/s, loss=0.751]\n"
     ]
    },
    {
     "name": "stdout",
     "output_type": "stream",
     "text": [
      "Epoch 9/50 | Train Loss: 0.6526 | Train Acc: 0.6147 | Val Loss: 0.6957 | Val Acc: 0.5252\n"
     ]
    },
    {
     "name": "stderr",
     "output_type": "stream",
     "text": [
      "Epoch 10/50 [Train]: 100%|██████████| 196/196 [00:01<00:00, 126.21it/s, loss=0.714]\n",
      "Epoch 10/50 [Val]: 100%|██████████| 116/116 [00:00<00:00, 225.40it/s, loss=0.654]\n"
     ]
    },
    {
     "name": "stdout",
     "output_type": "stream",
     "text": [
      "Epoch 10/50 | Train Loss: 0.6447 | Train Acc: 0.6192 | Val Loss: 0.6279 | Val Acc: 0.6776\n"
     ]
    },
    {
     "name": "stderr",
     "output_type": "stream",
     "text": [
      "Epoch 11/50 [Train]: 100%|██████████| 196/196 [00:01<00:00, 127.45it/s, loss=0.624]\n",
      "Epoch 11/50 [Val]: 100%|██████████| 116/116 [00:00<00:00, 219.07it/s, loss=0.605]\n"
     ]
    },
    {
     "name": "stdout",
     "output_type": "stream",
     "text": [
      "Epoch 11/50 | Train Loss: 0.6017 | Train Acc: 0.6978 | Val Loss: 0.6217 | Val Acc: 0.6879\n"
     ]
    },
    {
     "name": "stderr",
     "output_type": "stream",
     "text": [
      "Epoch 12/50 [Train]: 100%|██████████| 196/196 [00:01<00:00, 127.77it/s, loss=0.612]\n",
      "Epoch 12/50 [Val]: 100%|██████████| 116/116 [00:00<00:00, 223.60it/s, loss=0.745]\n"
     ]
    },
    {
     "name": "stdout",
     "output_type": "stream",
     "text": [
      "Epoch 12/50 | Train Loss: 0.6582 | Train Acc: 0.5811 | Val Loss: 0.6966 | Val Acc: 0.5367\n"
     ]
    },
    {
     "name": "stderr",
     "output_type": "stream",
     "text": [
      "Epoch 13/50 [Train]: 100%|██████████| 196/196 [00:01<00:00, 127.16it/s, loss=0.66]\n",
      "Epoch 13/50 [Val]: 100%|██████████| 116/116 [00:00<00:00, 214.34it/s, loss=0.667]\n"
     ]
    },
    {
     "name": "stdout",
     "output_type": "stream",
     "text": [
      "Epoch 13/50 | Train Loss: 0.6113 | Train Acc: 0.6874 | Val Loss: 0.6794 | Val Acc: 0.5469\n"
     ]
    },
    {
     "name": "stderr",
     "output_type": "stream",
     "text": [
      "Epoch 14/50 [Train]: 100%|██████████| 196/196 [00:01<00:00, 127.95it/s, loss=0.685]\n",
      "Epoch 14/50 [Val]: 100%|██████████| 116/116 [00:00<00:00, 226.99it/s, loss=0.74]\n"
     ]
    },
    {
     "name": "stdout",
     "output_type": "stream",
     "text": [
      "Epoch 14/50 | Train Loss: 0.6638 | Train Acc: 0.5813 | Val Loss: 0.6948 | Val Acc: 0.5158\n"
     ]
    },
    {
     "name": "stderr",
     "output_type": "stream",
     "text": [
      "Epoch 15/50 [Train]: 100%|██████████| 196/196 [00:01<00:00, 126.42it/s, loss=0.597]\n",
      "Epoch 15/50 [Val]: 100%|██████████| 116/116 [00:01<00:00, 104.20it/s, loss=0.761]\n"
     ]
    },
    {
     "name": "stdout",
     "output_type": "stream",
     "text": [
      "Epoch 15/50 | Train Loss: 0.6628 | Train Acc: 0.5618 | Val Loss: 0.7045 | Val Acc: 0.5266\n"
     ]
    },
    {
     "name": "stderr",
     "output_type": "stream",
     "text": [
      "Epoch 16/50 [Train]: 100%|██████████| 196/196 [00:01<00:00, 125.69it/s, loss=0.605]\n",
      "Epoch 16/50 [Val]: 100%|██████████| 116/116 [00:00<00:00, 219.37it/s, loss=0.763]\n"
     ]
    },
    {
     "name": "stdout",
     "output_type": "stream",
     "text": [
      "Epoch 16/50 | Train Loss: 0.6274 | Train Acc: 0.6451 | Val Loss: 0.6969 | Val Acc: 0.5234\n"
     ]
    },
    {
     "name": "stderr",
     "output_type": "stream",
     "text": [
      "Epoch 17/50 [Train]: 100%|██████████| 196/196 [00:01<00:00, 125.42it/s, loss=0.628]\n",
      "Epoch 17/50 [Val]: 100%|██████████| 116/116 [00:00<00:00, 226.25it/s, loss=0.666]\n"
     ]
    },
    {
     "name": "stdout",
     "output_type": "stream",
     "text": [
      "Epoch 17/50 | Train Loss: 0.6008 | Train Acc: 0.6923 | Val Loss: 0.6427 | Val Acc: 0.6605\n"
     ]
    },
    {
     "name": "stderr",
     "output_type": "stream",
     "text": [
      "Epoch 18/50 [Train]: 100%|██████████| 196/196 [00:01<00:00, 125.61it/s, loss=0.647]\n",
      "Epoch 18/50 [Val]: 100%|██████████| 116/116 [00:00<00:00, 226.96it/s, loss=0.752]\n"
     ]
    },
    {
     "name": "stdout",
     "output_type": "stream",
     "text": [
      "Epoch 18/50 | Train Loss: 0.5946 | Train Acc: 0.6802 | Val Loss: 0.6983 | Val Acc: 0.5323\n"
     ]
    },
    {
     "name": "stderr",
     "output_type": "stream",
     "text": [
      "Epoch 19/50 [Train]: 100%|██████████| 196/196 [00:01<00:00, 126.33it/s, loss=0.589]\n",
      "Epoch 19/50 [Val]: 100%|██████████| 116/116 [00:00<00:00, 227.32it/s, loss=0.803]\n"
     ]
    },
    {
     "name": "stdout",
     "output_type": "stream",
     "text": [
      "Epoch 19/50 | Train Loss: 0.6152 | Train Acc: 0.6443 | Val Loss: 0.6984 | Val Acc: 0.5665\n"
     ]
    },
    {
     "name": "stderr",
     "output_type": "stream",
     "text": [
      "Epoch 20/50 [Train]: 100%|██████████| 196/196 [00:01<00:00, 125.77it/s, loss=0.804]\n",
      "Epoch 20/50 [Val]: 100%|██████████| 116/116 [00:00<00:00, 235.96it/s, loss=0.77]\n"
     ]
    },
    {
     "name": "stdout",
     "output_type": "stream",
     "text": [
      "Epoch 20/50 | Train Loss: 0.6066 | Train Acc: 0.7195 | Val Loss: 0.7611 | Val Acc: 0.5815\n"
     ]
    },
    {
     "name": "stderr",
     "output_type": "stream",
     "text": [
      "Epoch 21/50 [Train]: 100%|██████████| 196/196 [00:01<00:00, 127.37it/s, loss=0.663]\n",
      "Epoch 21/50 [Val]: 100%|██████████| 116/116 [00:00<00:00, 231.80it/s, loss=0.71]\n"
     ]
    },
    {
     "name": "stdout",
     "output_type": "stream",
     "text": [
      "Epoch 21/50 | Train Loss: 0.6741 | Train Acc: 0.5637 | Val Loss: 0.6808 | Val Acc: 0.5901\n"
     ]
    },
    {
     "name": "stderr",
     "output_type": "stream",
     "text": [
      "Epoch 22/50 [Train]: 100%|██████████| 196/196 [00:01<00:00, 126.24it/s, loss=0.471]\n",
      "Epoch 22/50 [Val]: 100%|██████████| 116/116 [00:00<00:00, 221.79it/s, loss=0.572]\n"
     ]
    },
    {
     "name": "stdout",
     "output_type": "stream",
     "text": [
      "Epoch 22/50 | Train Loss: 0.6046 | Train Acc: 0.6639 | Val Loss: 0.6116 | Val Acc: 0.7024\n"
     ]
    },
    {
     "name": "stderr",
     "output_type": "stream",
     "text": [
      "Epoch 23/50 [Train]: 100%|██████████| 196/196 [00:01<00:00, 124.49it/s, loss=0.486]\n",
      "Epoch 23/50 [Val]: 100%|██████████| 116/116 [00:00<00:00, 228.52it/s, loss=0.631]\n"
     ]
    },
    {
     "name": "stdout",
     "output_type": "stream",
     "text": [
      "Epoch 23/50 | Train Loss: 0.5394 | Train Acc: 0.7518 | Val Loss: 0.6350 | Val Acc: 0.6927\n"
     ]
    },
    {
     "name": "stderr",
     "output_type": "stream",
     "text": [
      "Epoch 24/50 [Train]: 100%|██████████| 196/196 [00:01<00:00, 125.10it/s, loss=0.498]\n",
      "Epoch 24/50 [Val]: 100%|██████████| 116/116 [00:00<00:00, 221.83it/s, loss=0.682]\n"
     ]
    },
    {
     "name": "stdout",
     "output_type": "stream",
     "text": [
      "Epoch 24/50 | Train Loss: 0.5243 | Train Acc: 0.7601 | Val Loss: 0.6318 | Val Acc: 0.7045\n"
     ]
    },
    {
     "name": "stderr",
     "output_type": "stream",
     "text": [
      "Epoch 25/50 [Train]: 100%|██████████| 196/196 [00:01<00:00, 124.84it/s, loss=0.493]\n",
      "Epoch 25/50 [Val]: 100%|██████████| 116/116 [00:00<00:00, 234.79it/s, loss=0.65]\n"
     ]
    },
    {
     "name": "stdout",
     "output_type": "stream",
     "text": [
      "Epoch 25/50 | Train Loss: 0.5335 | Train Acc: 0.7599 | Val Loss: 0.6187 | Val Acc: 0.6924\n"
     ]
    },
    {
     "name": "stderr",
     "output_type": "stream",
     "text": [
      "Epoch 26/50 [Train]: 100%|██████████| 196/196 [00:01<00:00, 125.29it/s, loss=0.621]\n",
      "Epoch 26/50 [Val]: 100%|██████████| 116/116 [00:00<00:00, 225.12it/s, loss=0.685]\n"
     ]
    },
    {
     "name": "stdout",
     "output_type": "stream",
     "text": [
      "Epoch 26/50 | Train Loss: 0.6433 | Train Acc: 0.6408 | Val Loss: 0.6702 | Val Acc: 0.6061\n"
     ]
    },
    {
     "name": "stderr",
     "output_type": "stream",
     "text": [
      "Epoch 27/50 [Train]: 100%|██████████| 196/196 [00:02<00:00, 93.84it/s, loss=0.602] \n",
      "Epoch 27/50 [Val]: 100%|██████████| 116/116 [00:00<00:00, 215.94it/s, loss=0.678]\n"
     ]
    },
    {
     "name": "stdout",
     "output_type": "stream",
     "text": [
      "Epoch 27/50 | Train Loss: 0.6171 | Train Acc: 0.6469 | Val Loss: 0.6672 | Val Acc: 0.6359\n"
     ]
    },
    {
     "name": "stderr",
     "output_type": "stream",
     "text": [
      "Epoch 28/50 [Train]: 100%|██████████| 196/196 [00:01<00:00, 125.13it/s, loss=0.554]\n",
      "Epoch 28/50 [Val]: 100%|██████████| 116/116 [00:00<00:00, 223.80it/s, loss=0.62]\n"
     ]
    },
    {
     "name": "stdout",
     "output_type": "stream",
     "text": [
      "Epoch 28/50 | Train Loss: 0.5867 | Train Acc: 0.7019 | Val Loss: 0.6152 | Val Acc: 0.6943\n"
     ]
    },
    {
     "name": "stderr",
     "output_type": "stream",
     "text": [
      "Epoch 29/50 [Train]: 100%|██████████| 196/196 [00:01<00:00, 125.26it/s, loss=0.567]\n",
      "Epoch 29/50 [Val]: 100%|██████████| 116/116 [00:00<00:00, 221.45it/s, loss=0.634]\n"
     ]
    },
    {
     "name": "stdout",
     "output_type": "stream",
     "text": [
      "Epoch 29/50 | Train Loss: 0.5635 | Train Acc: 0.7246 | Val Loss: 0.6320 | Val Acc: 0.6877\n"
     ]
    },
    {
     "name": "stderr",
     "output_type": "stream",
     "text": [
      "Epoch 30/50 [Train]: 100%|██████████| 196/196 [00:01<00:00, 121.16it/s, loss=0.631]\n",
      "Epoch 30/50 [Val]: 100%|██████████| 116/116 [00:00<00:00, 180.16it/s, loss=0.687]\n"
     ]
    },
    {
     "name": "stdout",
     "output_type": "stream",
     "text": [
      "Epoch 30/50 | Train Loss: 0.6448 | Train Acc: 0.6099 | Val Loss: 0.7005 | Val Acc: 0.5173\n"
     ]
    },
    {
     "name": "stderr",
     "output_type": "stream",
     "text": [
      "Epoch 31/50 [Train]: 100%|██████████| 196/196 [00:01<00:00, 124.11it/s, loss=0.699]\n",
      "Epoch 31/50 [Val]: 100%|██████████| 116/116 [00:00<00:00, 225.84it/s, loss=0.73]\n"
     ]
    },
    {
     "name": "stdout",
     "output_type": "stream",
     "text": [
      "Epoch 31/50 | Train Loss: 0.6453 | Train Acc: 0.5820 | Val Loss: 0.7048 | Val Acc: 0.5069\n"
     ]
    },
    {
     "name": "stderr",
     "output_type": "stream",
     "text": [
      "Epoch 32/50 [Train]: 100%|██████████| 196/196 [00:01<00:00, 124.71it/s, loss=0.599]\n",
      "Epoch 32/50 [Val]: 100%|██████████| 116/116 [00:00<00:00, 227.09it/s, loss=0.696]\n"
     ]
    },
    {
     "name": "stdout",
     "output_type": "stream",
     "text": [
      "Epoch 32/50 | Train Loss: 0.6329 | Train Acc: 0.5846 | Val Loss: 0.7090 | Val Acc: 0.5812\n"
     ]
    },
    {
     "name": "stderr",
     "output_type": "stream",
     "text": [
      "Epoch 33/50 [Train]: 100%|██████████| 196/196 [00:01<00:00, 125.37it/s, loss=0.576]\n",
      "Epoch 33/50 [Val]: 100%|██████████| 116/116 [00:00<00:00, 223.53it/s, loss=0.647]\n"
     ]
    },
    {
     "name": "stdout",
     "output_type": "stream",
     "text": [
      "Epoch 33/50 | Train Loss: 0.6372 | Train Acc: 0.6170 | Val Loss: 0.6546 | Val Acc: 0.6639\n"
     ]
    },
    {
     "name": "stderr",
     "output_type": "stream",
     "text": [
      "Epoch 34/50 [Train]: 100%|██████████| 196/196 [00:01<00:00, 125.33it/s, loss=0.547]\n",
      "Epoch 34/50 [Val]: 100%|██████████| 116/116 [00:00<00:00, 221.42it/s, loss=0.657]\n"
     ]
    },
    {
     "name": "stdout",
     "output_type": "stream",
     "text": [
      "Epoch 34/50 | Train Loss: 0.5419 | Train Acc: 0.7416 | Val Loss: 0.6547 | Val Acc: 0.6917\n"
     ]
    },
    {
     "name": "stderr",
     "output_type": "stream",
     "text": [
      "Epoch 35/50 [Train]: 100%|██████████| 196/196 [00:01<00:00, 124.48it/s, loss=0.582]\n",
      "Epoch 35/50 [Val]: 100%|██████████| 116/116 [00:00<00:00, 224.79it/s, loss=0.648]\n"
     ]
    },
    {
     "name": "stdout",
     "output_type": "stream",
     "text": [
      "Epoch 35/50 | Train Loss: 0.5125 | Train Acc: 0.7658 | Val Loss: 0.6494 | Val Acc: 0.6810\n"
     ]
    },
    {
     "name": "stderr",
     "output_type": "stream",
     "text": [
      "Epoch 36/50 [Train]: 100%|██████████| 196/196 [00:01<00:00, 125.09it/s, loss=0.919]\n",
      "Epoch 36/50 [Val]: 100%|██████████| 116/116 [00:00<00:00, 223.12it/s, loss=0.924]\n"
     ]
    },
    {
     "name": "stdout",
     "output_type": "stream",
     "text": [
      "Epoch 36/50 | Train Loss: 0.5330 | Train Acc: 0.7486 | Val Loss: 0.9523 | Val Acc: 0.6964\n"
     ]
    },
    {
     "name": "stderr",
     "output_type": "stream",
     "text": [
      "Epoch 37/50 [Train]: 100%|██████████| 196/196 [00:01<00:00, 122.99it/s, loss=0.495]\n",
      "Epoch 37/50 [Val]: 100%|██████████| 116/116 [00:00<00:00, 225.22it/s, loss=0.664]\n"
     ]
    },
    {
     "name": "stdout",
     "output_type": "stream",
     "text": [
      "Epoch 37/50 | Train Loss: 0.5567 | Train Acc: 0.7332 | Val Loss: 0.6573 | Val Acc: 0.6799\n"
     ]
    },
    {
     "name": "stderr",
     "output_type": "stream",
     "text": [
      "Epoch 38/50 [Train]: 100%|██████████| 196/196 [00:02<00:00, 93.59it/s, loss=0.462] \n",
      "Epoch 38/50 [Val]: 100%|██████████| 116/116 [00:00<00:00, 225.56it/s, loss=0.594]\n"
     ]
    },
    {
     "name": "stdout",
     "output_type": "stream",
     "text": [
      "Epoch 38/50 | Train Loss: 0.5207 | Train Acc: 0.7589 | Val Loss: 0.6620 | Val Acc: 0.6751\n"
     ]
    },
    {
     "name": "stderr",
     "output_type": "stream",
     "text": [
      "Epoch 39/50 [Train]: 100%|██████████| 196/196 [00:01<00:00, 123.08it/s, loss=0.436]\n",
      "Epoch 39/50 [Val]: 100%|██████████| 116/116 [00:00<00:00, 220.07it/s, loss=0.652]\n"
     ]
    },
    {
     "name": "stdout",
     "output_type": "stream",
     "text": [
      "Epoch 39/50 | Train Loss: 0.5051 | Train Acc: 0.7671 | Val Loss: 0.6589 | Val Acc: 0.7010\n"
     ]
    },
    {
     "name": "stderr",
     "output_type": "stream",
     "text": [
      "Epoch 40/50 [Train]: 100%|██████████| 196/196 [00:01<00:00, 125.05it/s, loss=0.505]\n",
      "Epoch 40/50 [Val]: 100%|██████████| 116/116 [00:00<00:00, 227.78it/s, loss=0.608]\n"
     ]
    },
    {
     "name": "stdout",
     "output_type": "stream",
     "text": [
      "Epoch 40/50 | Train Loss: 0.5602 | Train Acc: 0.7288 | Val Loss: 0.6653 | Val Acc: 0.6672\n"
     ]
    },
    {
     "name": "stderr",
     "output_type": "stream",
     "text": [
      "Epoch 41/50 [Train]: 100%|██████████| 196/196 [00:01<00:00, 123.68it/s, loss=0.542]\n",
      "Epoch 41/50 [Val]: 100%|██████████| 116/116 [00:00<00:00, 214.48it/s, loss=0.699]\n"
     ]
    },
    {
     "name": "stdout",
     "output_type": "stream",
     "text": [
      "Epoch 41/50 | Train Loss: 0.6210 | Train Acc: 0.6748 | Val Loss: 0.6838 | Val Acc: 0.6201\n"
     ]
    },
    {
     "name": "stderr",
     "output_type": "stream",
     "text": [
      "Epoch 42/50 [Train]: 100%|██████████| 196/196 [00:01<00:00, 124.06it/s, loss=0.639]\n",
      "Epoch 42/50 [Val]: 100%|██████████| 116/116 [00:00<00:00, 222.89it/s, loss=0.726]\n"
     ]
    },
    {
     "name": "stdout",
     "output_type": "stream",
     "text": [
      "Epoch 42/50 | Train Loss: 0.5750 | Train Acc: 0.6921 | Val Loss: 0.7184 | Val Acc: 0.5288\n"
     ]
    },
    {
     "name": "stderr",
     "output_type": "stream",
     "text": [
      "Epoch 43/50 [Train]: 100%|██████████| 196/196 [00:01<00:00, 123.40it/s, loss=0.56]\n",
      "Epoch 43/50 [Val]: 100%|██████████| 116/116 [00:00<00:00, 221.63it/s, loss=0.744]\n"
     ]
    },
    {
     "name": "stdout",
     "output_type": "stream",
     "text": [
      "Epoch 43/50 | Train Loss: 0.6051 | Train Acc: 0.6037 | Val Loss: 0.7339 | Val Acc: 0.5338\n"
     ]
    },
    {
     "name": "stderr",
     "output_type": "stream",
     "text": [
      "Epoch 44/50 [Train]: 100%|██████████| 196/196 [00:01<00:00, 124.18it/s, loss=0.612]\n",
      "Epoch 44/50 [Val]: 100%|██████████| 116/116 [00:00<00:00, 230.41it/s, loss=0.791]\n"
     ]
    },
    {
     "name": "stdout",
     "output_type": "stream",
     "text": [
      "Epoch 44/50 | Train Loss: 0.5936 | Train Acc: 0.6196 | Val Loss: 0.7223 | Val Acc: 0.5256\n"
     ]
    },
    {
     "name": "stderr",
     "output_type": "stream",
     "text": [
      "Epoch 45/50 [Train]: 100%|██████████| 196/196 [00:01<00:00, 117.48it/s, loss=0.613]\n",
      "Epoch 45/50 [Val]: 100%|██████████| 116/116 [00:00<00:00, 205.26it/s, loss=0.699]\n"
     ]
    },
    {
     "name": "stdout",
     "output_type": "stream",
     "text": [
      "Epoch 45/50 | Train Loss: 0.5767 | Train Acc: 0.6994 | Val Loss: 0.6692 | Val Acc: 0.6642\n"
     ]
    },
    {
     "name": "stderr",
     "output_type": "stream",
     "text": [
      "Epoch 46/50 [Train]: 100%|██████████| 196/196 [00:01<00:00, 123.30it/s, loss=0.536]\n",
      "Epoch 46/50 [Val]: 100%|██████████| 116/116 [00:00<00:00, 229.53it/s, loss=0.724]\n"
     ]
    },
    {
     "name": "stdout",
     "output_type": "stream",
     "text": [
      "Epoch 46/50 | Train Loss: 0.5203 | Train Acc: 0.7635 | Val Loss: 0.6732 | Val Acc: 0.6694\n"
     ]
    },
    {
     "name": "stderr",
     "output_type": "stream",
     "text": [
      "Epoch 47/50 [Train]: 100%|██████████| 196/196 [00:01<00:00, 123.95it/s, loss=0.48]\n",
      "Epoch 47/50 [Val]: 100%|██████████| 116/116 [00:00<00:00, 223.23it/s, loss=0.694]\n"
     ]
    },
    {
     "name": "stdout",
     "output_type": "stream",
     "text": [
      "Epoch 47/50 | Train Loss: 0.5083 | Train Acc: 0.7694 | Val Loss: 0.6786 | Val Acc: 0.6775\n"
     ]
    },
    {
     "name": "stderr",
     "output_type": "stream",
     "text": [
      "Epoch 48/50 [Train]: 100%|██████████| 196/196 [00:01<00:00, 123.71it/s, loss=0.538]\n",
      "Epoch 48/50 [Val]: 100%|██████████| 116/116 [00:00<00:00, 223.30it/s, loss=0.755]\n"
     ]
    },
    {
     "name": "stdout",
     "output_type": "stream",
     "text": [
      "Epoch 48/50 | Train Loss: 0.5007 | Train Acc: 0.7731 | Val Loss: 0.7000 | Val Acc: 0.6716\n"
     ]
    },
    {
     "name": "stderr",
     "output_type": "stream",
     "text": [
      "Epoch 49/50 [Train]: 100%|██████████| 196/196 [00:02<00:00, 91.23it/s, loss=0.459]\n",
      "Epoch 49/50 [Val]: 100%|██████████| 116/116 [00:00<00:00, 225.91it/s, loss=0.698]\n"
     ]
    },
    {
     "name": "stdout",
     "output_type": "stream",
     "text": [
      "Epoch 49/50 | Train Loss: 0.4832 | Train Acc: 0.7835 | Val Loss: 0.6882 | Val Acc: 0.6889\n"
     ]
    },
    {
     "name": "stderr",
     "output_type": "stream",
     "text": [
      "Epoch 50/50 [Train]: 100%|██████████| 196/196 [00:01<00:00, 123.15it/s, loss=0.467]\n",
      "Epoch 50/50 [Val]: 100%|██████████| 116/116 [00:00<00:00, 208.82it/s, loss=0.672]"
     ]
    },
    {
     "name": "stdout",
     "output_type": "stream",
     "text": [
      "Epoch 50/50 | Train Loss: 0.4827 | Train Acc: 0.7856 | Val Loss: 0.6940 | Val Acc: 0.6829\n"
     ]
    },
    {
     "name": "stderr",
     "output_type": "stream",
     "text": [
      "\n"
     ]
    }
   ],
   "source": [
    "model = RNNModel(64, 128, 20002)\n",
    "optimizer = optim.Adam(model.parameters(), lr=learning_rate)\n",
    "train_loop(model, False, 50, \"RNN\")"
   ]
  },
  {
   "cell_type": "code",
   "execution_count": 20,
   "id": "53d7960e",
   "metadata": {
    "execution": {
     "iopub.execute_input": "2025-03-09T03:49:23.545579Z",
     "iopub.status.busy": "2025-03-09T03:49:23.544651Z",
     "iopub.status.idle": "2025-03-09T03:54:00.072887Z",
     "shell.execute_reply": "2025-03-09T03:54:00.071956Z"
    },
    "papermill": {
     "duration": 277.348434,
     "end_time": "2025-03-09T03:54:00.074342",
     "exception": false,
     "start_time": "2025-03-09T03:49:22.725908",
     "status": "completed"
    },
    "tags": []
   },
   "outputs": [
    {
     "name": "stderr",
     "output_type": "stream",
     "text": [
      "Epoch 1/50 [Train]: 100%|██████████| 196/196 [00:04<00:00, 44.18it/s, loss=0.69]\n",
      "Epoch 1/50 [Val]: 100%|██████████| 116/116 [00:01<00:00, 100.71it/s, loss=0.687]\n"
     ]
    },
    {
     "name": "stdout",
     "output_type": "stream",
     "text": [
      "Epoch 1/50 | Train Loss: 0.6917 | Train Acc: 0.5162 | Val Loss: 0.6914 | Val Acc: 0.5178\n"
     ]
    },
    {
     "name": "stderr",
     "output_type": "stream",
     "text": [
      "Epoch 2/50 [Train]: 100%|██████████| 196/196 [00:04<00:00, 44.59it/s, loss=0.652]\n",
      "Epoch 2/50 [Val]: 100%|██████████| 116/116 [00:01<00:00, 101.38it/s, loss=0.662]\n"
     ]
    },
    {
     "name": "stdout",
     "output_type": "stream",
     "text": [
      "Epoch 2/50 | Train Loss: 0.6834 | Train Acc: 0.5618 | Val Loss: 0.6731 | Val Acc: 0.5961\n"
     ]
    },
    {
     "name": "stderr",
     "output_type": "stream",
     "text": [
      "Epoch 3/50 [Train]: 100%|██████████| 196/196 [00:04<00:00, 44.66it/s, loss=0.666]\n",
      "Epoch 3/50 [Val]: 100%|██████████| 116/116 [00:01<00:00, 101.05it/s, loss=0.676]\n"
     ]
    },
    {
     "name": "stdout",
     "output_type": "stream",
     "text": [
      "Epoch 3/50 | Train Loss: 0.6807 | Train Acc: 0.5566 | Val Loss: 0.6767 | Val Acc: 0.5884\n"
     ]
    },
    {
     "name": "stderr",
     "output_type": "stream",
     "text": [
      "Epoch 4/50 [Train]: 100%|██████████| 196/196 [00:04<00:00, 44.54it/s, loss=0.666]\n",
      "Epoch 4/50 [Val]: 100%|██████████| 116/116 [00:01<00:00, 100.31it/s, loss=0.652]\n"
     ]
    },
    {
     "name": "stdout",
     "output_type": "stream",
     "text": [
      "Epoch 4/50 | Train Loss: 0.6824 | Train Acc: 0.5443 | Val Loss: 0.6642 | Val Acc: 0.6139\n"
     ]
    },
    {
     "name": "stderr",
     "output_type": "stream",
     "text": [
      "Epoch 5/50 [Train]: 100%|██████████| 196/196 [00:04<00:00, 45.01it/s, loss=0.743]\n",
      "Epoch 5/50 [Val]: 100%|██████████| 116/116 [00:01<00:00, 100.67it/s, loss=0.605]\n"
     ]
    },
    {
     "name": "stdout",
     "output_type": "stream",
     "text": [
      "Epoch 5/50 | Train Loss: 0.6618 | Train Acc: 0.6006 | Val Loss: 0.7532 | Val Acc: 0.5052\n"
     ]
    },
    {
     "name": "stderr",
     "output_type": "stream",
     "text": [
      "Epoch 6/50 [Train]: 100%|██████████| 196/196 [00:04<00:00, 45.23it/s, loss=0.691]\n",
      "Epoch 6/50 [Val]: 100%|██████████| 116/116 [00:01<00:00, 101.13it/s, loss=0.651]\n"
     ]
    },
    {
     "name": "stdout",
     "output_type": "stream",
     "text": [
      "Epoch 6/50 | Train Loss: 0.6854 | Train Acc: 0.5625 | Val Loss: 0.6912 | Val Acc: 0.5219\n"
     ]
    },
    {
     "name": "stderr",
     "output_type": "stream",
     "text": [
      "Epoch 7/50 [Train]: 100%|██████████| 196/196 [00:04<00:00, 45.48it/s, loss=0.675]\n",
      "Epoch 7/50 [Val]: 100%|██████████| 116/116 [00:01<00:00, 100.13it/s, loss=0.687]\n"
     ]
    },
    {
     "name": "stdout",
     "output_type": "stream",
     "text": [
      "Epoch 7/50 | Train Loss: 0.6640 | Train Acc: 0.5862 | Val Loss: 0.6688 | Val Acc: 0.5787\n"
     ]
    },
    {
     "name": "stderr",
     "output_type": "stream",
     "text": [
      "Epoch 8/50 [Train]: 100%|██████████| 196/196 [00:04<00:00, 45.65it/s, loss=0.61]\n",
      "Epoch 8/50 [Val]: 100%|██████████| 116/116 [00:01<00:00, 101.33it/s, loss=0.644]\n"
     ]
    },
    {
     "name": "stdout",
     "output_type": "stream",
     "text": [
      "Epoch 8/50 | Train Loss: 0.6559 | Train Acc: 0.6129 | Val Loss: 0.6399 | Val Acc: 0.6467\n"
     ]
    },
    {
     "name": "stderr",
     "output_type": "stream",
     "text": [
      "Epoch 9/50 [Train]: 100%|██████████| 196/196 [00:04<00:00, 45.75it/s, loss=0.503]\n",
      "Epoch 9/50 [Val]: 100%|██████████| 116/116 [00:01<00:00, 99.27it/s, loss=0.528]\n"
     ]
    },
    {
     "name": "stdout",
     "output_type": "stream",
     "text": [
      "Epoch 9/50 | Train Loss: 0.5889 | Train Acc: 0.7101 | Val Loss: 0.6172 | Val Acc: 0.6823\n"
     ]
    },
    {
     "name": "stderr",
     "output_type": "stream",
     "text": [
      "Epoch 10/50 [Train]: 100%|██████████| 196/196 [00:04<00:00, 45.71it/s, loss=0.659]\n",
      "Epoch 10/50 [Val]: 100%|██████████| 116/116 [00:01<00:00, 69.39it/s, loss=0.659]\n"
     ]
    },
    {
     "name": "stdout",
     "output_type": "stream",
     "text": [
      "Epoch 10/50 | Train Loss: 0.6026 | Train Acc: 0.6782 | Val Loss: 0.6873 | Val Acc: 0.5311\n"
     ]
    },
    {
     "name": "stderr",
     "output_type": "stream",
     "text": [
      "Epoch 11/50 [Train]: 100%|██████████| 196/196 [00:04<00:00, 45.84it/s, loss=0.66]\n",
      "Epoch 11/50 [Val]: 100%|██████████| 116/116 [00:01<00:00, 101.95it/s, loss=0.696]\n"
     ]
    },
    {
     "name": "stdout",
     "output_type": "stream",
     "text": [
      "Epoch 11/50 | Train Loss: 0.6472 | Train Acc: 0.5974 | Val Loss: 0.6540 | Val Acc: 0.6691\n"
     ]
    },
    {
     "name": "stderr",
     "output_type": "stream",
     "text": [
      "Epoch 12/50 [Train]: 100%|██████████| 196/196 [00:04<00:00, 45.59it/s, loss=0.509]\n",
      "Epoch 12/50 [Val]: 100%|██████████| 116/116 [00:01<00:00, 101.41it/s, loss=0.566]\n"
     ]
    },
    {
     "name": "stdout",
     "output_type": "stream",
     "text": [
      "Epoch 12/50 | Train Loss: 0.5566 | Train Acc: 0.7447 | Val Loss: 0.5723 | Val Acc: 0.7389\n"
     ]
    },
    {
     "name": "stderr",
     "output_type": "stream",
     "text": [
      "Epoch 13/50 [Train]: 100%|██████████| 196/196 [00:04<00:00, 45.52it/s, loss=0.606]\n",
      "Epoch 13/50 [Val]: 100%|██████████| 116/116 [00:01<00:00, 101.39it/s, loss=0.501]\n"
     ]
    },
    {
     "name": "stdout",
     "output_type": "stream",
     "text": [
      "Epoch 13/50 | Train Loss: 0.5614 | Train Acc: 0.7322 | Val Loss: 0.6117 | Val Acc: 0.7303\n"
     ]
    },
    {
     "name": "stderr",
     "output_type": "stream",
     "text": [
      "Epoch 14/50 [Train]: 100%|██████████| 196/196 [00:04<00:00, 45.42it/s, loss=0.337]\n",
      "Epoch 14/50 [Val]: 100%|██████████| 116/116 [00:01<00:00, 100.77it/s, loss=0.49]\n"
     ]
    },
    {
     "name": "stdout",
     "output_type": "stream",
     "text": [
      "Epoch 14/50 | Train Loss: 0.5144 | Train Acc: 0.7736 | Val Loss: 0.5477 | Val Acc: 0.7499\n"
     ]
    },
    {
     "name": "stderr",
     "output_type": "stream",
     "text": [
      "Epoch 15/50 [Train]: 100%|██████████| 196/196 [00:04<00:00, 45.05it/s, loss=0.511]\n",
      "Epoch 15/50 [Val]: 100%|██████████| 116/116 [00:01<00:00, 100.30it/s, loss=0.553]\n"
     ]
    },
    {
     "name": "stdout",
     "output_type": "stream",
     "text": [
      "Epoch 15/50 | Train Loss: 0.4861 | Train Acc: 0.7882 | Val Loss: 0.5707 | Val Acc: 0.7235\n"
     ]
    },
    {
     "name": "stderr",
     "output_type": "stream",
     "text": [
      "Epoch 16/50 [Train]: 100%|██████████| 196/196 [00:04<00:00, 45.11it/s, loss=0.495]\n",
      "Epoch 16/50 [Val]: 100%|██████████| 116/116 [00:01<00:00, 99.42it/s, loss=0.42]\n"
     ]
    },
    {
     "name": "stdout",
     "output_type": "stream",
     "text": [
      "Epoch 16/50 | Train Loss: 0.4787 | Train Acc: 0.7857 | Val Loss: 0.4967 | Val Acc: 0.7797\n"
     ]
    },
    {
     "name": "stderr",
     "output_type": "stream",
     "text": [
      "Epoch 17/50 [Train]: 100%|██████████| 196/196 [00:04<00:00, 45.16it/s, loss=0.902]\n",
      "Epoch 17/50 [Val]: 100%|██████████| 116/116 [00:01<00:00, 100.13it/s, loss=1.06]\n"
     ]
    },
    {
     "name": "stdout",
     "output_type": "stream",
     "text": [
      "Epoch 17/50 | Train Loss: 0.5132 | Train Acc: 0.7799 | Val Loss: 0.8243 | Val Acc: 0.5388\n"
     ]
    },
    {
     "name": "stderr",
     "output_type": "stream",
     "text": [
      "Epoch 18/50 [Train]: 100%|██████████| 196/196 [00:04<00:00, 44.97it/s, loss=0.486]\n",
      "Epoch 18/50 [Val]: 100%|██████████| 116/116 [00:01<00:00, 101.02it/s, loss=0.383]\n"
     ]
    },
    {
     "name": "stdout",
     "output_type": "stream",
     "text": [
      "Epoch 18/50 | Train Loss: 0.6150 | Train Acc: 0.6316 | Val Loss: 0.5900 | Val Acc: 0.7585\n"
     ]
    },
    {
     "name": "stderr",
     "output_type": "stream",
     "text": [
      "Epoch 19/50 [Train]: 100%|██████████| 196/196 [00:04<00:00, 45.23it/s, loss=0.486]\n",
      "Epoch 19/50 [Val]: 100%|██████████| 116/116 [00:01<00:00, 101.63it/s, loss=0.481]\n"
     ]
    },
    {
     "name": "stdout",
     "output_type": "stream",
     "text": [
      "Epoch 19/50 | Train Loss: 0.4721 | Train Acc: 0.7967 | Val Loss: 0.5333 | Val Acc: 0.7593\n"
     ]
    },
    {
     "name": "stderr",
     "output_type": "stream",
     "text": [
      "Epoch 20/50 [Train]: 100%|██████████| 196/196 [00:04<00:00, 45.11it/s, loss=0.466]\n",
      "Epoch 20/50 [Val]: 100%|██████████| 116/116 [00:01<00:00, 101.35it/s, loss=0.384]\n"
     ]
    },
    {
     "name": "stdout",
     "output_type": "stream",
     "text": [
      "Epoch 20/50 | Train Loss: 0.4621 | Train Acc: 0.8019 | Val Loss: 0.5208 | Val Acc: 0.7778\n"
     ]
    },
    {
     "name": "stderr",
     "output_type": "stream",
     "text": [
      "Epoch 21/50 [Train]: 100%|██████████| 196/196 [00:04<00:00, 45.11it/s, loss=0.361]\n",
      "Epoch 21/50 [Val]: 100%|██████████| 116/116 [00:01<00:00, 101.81it/s, loss=0.442]\n"
     ]
    },
    {
     "name": "stdout",
     "output_type": "stream",
     "text": [
      "Epoch 21/50 | Train Loss: 0.4235 | Train Acc: 0.8192 | Val Loss: 0.4858 | Val Acc: 0.7917\n"
     ]
    },
    {
     "name": "stderr",
     "output_type": "stream",
     "text": [
      "Epoch 22/50 [Train]: 100%|██████████| 196/196 [00:04<00:00, 40.49it/s, loss=0.635]\n",
      "Epoch 22/50 [Val]: 100%|██████████| 116/116 [00:01<00:00, 100.91it/s, loss=0.701]\n"
     ]
    },
    {
     "name": "stdout",
     "output_type": "stream",
     "text": [
      "Epoch 22/50 | Train Loss: 0.6675 | Train Acc: 0.6040 | Val Loss: 0.6582 | Val Acc: 0.6680\n"
     ]
    },
    {
     "name": "stderr",
     "output_type": "stream",
     "text": [
      "Epoch 23/50 [Train]: 100%|██████████| 196/196 [00:04<00:00, 45.55it/s, loss=0.567]\n",
      "Epoch 23/50 [Val]: 100%|██████████| 116/116 [00:01<00:00, 101.28it/s, loss=0.641]\n"
     ]
    },
    {
     "name": "stdout",
     "output_type": "stream",
     "text": [
      "Epoch 23/50 | Train Loss: 0.5428 | Train Acc: 0.7235 | Val Loss: 0.5631 | Val Acc: 0.7068\n"
     ]
    },
    {
     "name": "stderr",
     "output_type": "stream",
     "text": [
      "Epoch 24/50 [Train]: 100%|██████████| 196/196 [00:04<00:00, 45.54it/s, loss=0.401]\n",
      "Epoch 24/50 [Val]: 100%|██████████| 116/116 [00:01<00:00, 101.31it/s, loss=0.399]\n"
     ]
    },
    {
     "name": "stdout",
     "output_type": "stream",
     "text": [
      "Epoch 24/50 | Train Loss: 0.4089 | Train Acc: 0.8172 | Val Loss: 0.4687 | Val Acc: 0.7877\n"
     ]
    },
    {
     "name": "stderr",
     "output_type": "stream",
     "text": [
      "Epoch 25/50 [Train]: 100%|██████████| 196/196 [00:04<00:00, 45.55it/s, loss=0.365]\n",
      "Epoch 25/50 [Val]: 100%|██████████| 116/116 [00:01<00:00, 101.02it/s, loss=0.483]\n"
     ]
    },
    {
     "name": "stdout",
     "output_type": "stream",
     "text": [
      "Epoch 25/50 | Train Loss: 0.3646 | Train Acc: 0.8414 | Val Loss: 0.4688 | Val Acc: 0.7936\n"
     ]
    },
    {
     "name": "stderr",
     "output_type": "stream",
     "text": [
      "Epoch 26/50 [Train]: 100%|██████████| 196/196 [00:04<00:00, 45.55it/s, loss=0.298]\n",
      "Epoch 26/50 [Val]: 100%|██████████| 116/116 [00:01<00:00, 100.86it/s, loss=0.403]\n"
     ]
    },
    {
     "name": "stdout",
     "output_type": "stream",
     "text": [
      "Epoch 26/50 | Train Loss: 0.3388 | Train Acc: 0.8543 | Val Loss: 0.4507 | Val Acc: 0.8051\n"
     ]
    },
    {
     "name": "stderr",
     "output_type": "stream",
     "text": [
      "Epoch 27/50 [Train]: 100%|██████████| 196/196 [00:04<00:00, 45.29it/s, loss=0.25]\n",
      "Epoch 27/50 [Val]: 100%|██████████| 116/116 [00:01<00:00, 100.57it/s, loss=0.402]\n"
     ]
    },
    {
     "name": "stdout",
     "output_type": "stream",
     "text": [
      "Epoch 27/50 | Train Loss: 0.3130 | Train Acc: 0.8693 | Val Loss: 0.4525 | Val Acc: 0.8062\n"
     ]
    },
    {
     "name": "stderr",
     "output_type": "stream",
     "text": [
      "Epoch 28/50 [Train]: 100%|██████████| 196/196 [00:04<00:00, 45.46it/s, loss=0.353]\n",
      "Epoch 28/50 [Val]: 100%|██████████| 116/116 [00:01<00:00, 101.75it/s, loss=0.432]\n"
     ]
    },
    {
     "name": "stdout",
     "output_type": "stream",
     "text": [
      "Epoch 28/50 | Train Loss: 0.2961 | Train Acc: 0.8777 | Val Loss: 0.4504 | Val Acc: 0.8070\n"
     ]
    },
    {
     "name": "stderr",
     "output_type": "stream",
     "text": [
      "Epoch 29/50 [Train]: 100%|██████████| 196/196 [00:04<00:00, 45.38it/s, loss=0.278]\n",
      "Epoch 29/50 [Val]: 100%|██████████| 116/116 [00:01<00:00, 100.17it/s, loss=0.483]\n"
     ]
    },
    {
     "name": "stdout",
     "output_type": "stream",
     "text": [
      "Epoch 29/50 | Train Loss: 0.2788 | Train Acc: 0.8870 | Val Loss: 0.4635 | Val Acc: 0.8029\n"
     ]
    },
    {
     "name": "stderr",
     "output_type": "stream",
     "text": [
      "Epoch 30/50 [Train]: 100%|██████████| 196/196 [00:04<00:00, 45.15it/s, loss=0.35]\n",
      "Epoch 30/50 [Val]: 100%|██████████| 116/116 [00:01<00:00, 100.74it/s, loss=0.54]\n"
     ]
    },
    {
     "name": "stdout",
     "output_type": "stream",
     "text": [
      "Epoch 30/50 | Train Loss: 0.2640 | Train Acc: 0.8930 | Val Loss: 0.4769 | Val Acc: 0.8097\n"
     ]
    },
    {
     "name": "stderr",
     "output_type": "stream",
     "text": [
      "Epoch 31/50 [Train]: 100%|██████████| 196/196 [00:04<00:00, 45.40it/s, loss=0.281]\n",
      "Epoch 31/50 [Val]: 100%|██████████| 116/116 [00:01<00:00, 102.03it/s, loss=0.464]\n"
     ]
    },
    {
     "name": "stdout",
     "output_type": "stream",
     "text": [
      "Epoch 31/50 | Train Loss: 0.2499 | Train Acc: 0.8987 | Val Loss: 0.4632 | Val Acc: 0.8095\n"
     ]
    },
    {
     "name": "stderr",
     "output_type": "stream",
     "text": [
      "Epoch 32/50 [Train]: 100%|██████████| 196/196 [00:04<00:00, 45.33it/s, loss=0.15]\n",
      "Epoch 32/50 [Val]: 100%|██████████| 116/116 [00:01<00:00, 96.40it/s, loss=0.379]\n"
     ]
    },
    {
     "name": "stdout",
     "output_type": "stream",
     "text": [
      "Epoch 32/50 | Train Loss: 0.2358 | Train Acc: 0.9050 | Val Loss: 0.4623 | Val Acc: 0.8217\n"
     ]
    },
    {
     "name": "stderr",
     "output_type": "stream",
     "text": [
      "Epoch 33/50 [Train]: 100%|██████████| 196/196 [00:04<00:00, 40.45it/s, loss=0.338]\n",
      "Epoch 33/50 [Val]: 100%|██████████| 116/116 [00:01<00:00, 101.07it/s, loss=0.425]\n"
     ]
    },
    {
     "name": "stdout",
     "output_type": "stream",
     "text": [
      "Epoch 33/50 | Train Loss: 0.2211 | Train Acc: 0.9131 | Val Loss: 0.4758 | Val Acc: 0.8182\n"
     ]
    },
    {
     "name": "stderr",
     "output_type": "stream",
     "text": [
      "Epoch 34/50 [Train]: 100%|██████████| 196/196 [00:04<00:00, 45.40it/s, loss=0.24]\n",
      "Epoch 34/50 [Val]: 100%|██████████| 116/116 [00:01<00:00, 100.66it/s, loss=0.467]\n"
     ]
    },
    {
     "name": "stdout",
     "output_type": "stream",
     "text": [
      "Epoch 34/50 | Train Loss: 0.2413 | Train Acc: 0.9066 | Val Loss: 0.4757 | Val Acc: 0.8188\n"
     ]
    },
    {
     "name": "stderr",
     "output_type": "stream",
     "text": [
      "Epoch 35/50 [Train]: 100%|██████████| 196/196 [00:04<00:00, 45.19it/s, loss=0.24]\n",
      "Epoch 35/50 [Val]: 100%|██████████| 116/116 [00:01<00:00, 101.21it/s, loss=0.542]\n"
     ]
    },
    {
     "name": "stdout",
     "output_type": "stream",
     "text": [
      "Epoch 35/50 | Train Loss: 0.2072 | Train Acc: 0.9189 | Val Loss: 0.5063 | Val Acc: 0.7982\n"
     ]
    },
    {
     "name": "stderr",
     "output_type": "stream",
     "text": [
      "Epoch 36/50 [Train]: 100%|██████████| 196/196 [00:04<00:00, 45.33it/s, loss=0.236]\n",
      "Epoch 36/50 [Val]: 100%|██████████| 116/116 [00:01<00:00, 99.77it/s, loss=0.464]\n"
     ]
    },
    {
     "name": "stdout",
     "output_type": "stream",
     "text": [
      "Epoch 36/50 | Train Loss: 0.1956 | Train Acc: 0.9244 | Val Loss: 0.4927 | Val Acc: 0.8209\n"
     ]
    },
    {
     "name": "stderr",
     "output_type": "stream",
     "text": [
      "Epoch 37/50 [Train]: 100%|██████████| 196/196 [00:04<00:00, 45.41it/s, loss=0.282]\n",
      "Epoch 37/50 [Val]: 100%|██████████| 116/116 [00:01<00:00, 101.09it/s, loss=0.409]\n"
     ]
    },
    {
     "name": "stdout",
     "output_type": "stream",
     "text": [
      "Epoch 37/50 | Train Loss: 0.1857 | Train Acc: 0.9286 | Val Loss: 0.4945 | Val Acc: 0.8202\n"
     ]
    },
    {
     "name": "stderr",
     "output_type": "stream",
     "text": [
      "Epoch 38/50 [Train]: 100%|██████████| 196/196 [00:04<00:00, 45.13it/s, loss=0.165]\n",
      "Epoch 38/50 [Val]: 100%|██████████| 116/116 [00:01<00:00, 101.88it/s, loss=0.426]\n"
     ]
    },
    {
     "name": "stdout",
     "output_type": "stream",
     "text": [
      "Epoch 38/50 | Train Loss: 0.1769 | Train Acc: 0.9334 | Val Loss: 0.5170 | Val Acc: 0.8175\n"
     ]
    },
    {
     "name": "stderr",
     "output_type": "stream",
     "text": [
      "Epoch 39/50 [Train]: 100%|██████████| 196/196 [00:04<00:00, 45.37it/s, loss=0.114]\n",
      "Epoch 39/50 [Val]: 100%|██████████| 116/116 [00:01<00:00, 101.86it/s, loss=0.258]\n"
     ]
    },
    {
     "name": "stdout",
     "output_type": "stream",
     "text": [
      "Epoch 39/50 | Train Loss: 0.1732 | Train Acc: 0.9342 | Val Loss: 0.5661 | Val Acc: 0.8081\n"
     ]
    },
    {
     "name": "stderr",
     "output_type": "stream",
     "text": [
      "Epoch 40/50 [Train]: 100%|██████████| 196/196 [00:04<00:00, 45.25it/s, loss=0.138]\n",
      "Epoch 40/50 [Val]: 100%|██████████| 116/116 [00:01<00:00, 100.99it/s, loss=0.379]\n"
     ]
    },
    {
     "name": "stdout",
     "output_type": "stream",
     "text": [
      "Epoch 40/50 | Train Loss: 0.1720 | Train Acc: 0.9348 | Val Loss: 0.5119 | Val Acc: 0.8198\n"
     ]
    },
    {
     "name": "stderr",
     "output_type": "stream",
     "text": [
      "Epoch 41/50 [Train]: 100%|██████████| 196/196 [00:04<00:00, 45.25it/s, loss=0.105]\n",
      "Epoch 41/50 [Val]: 100%|██████████| 116/116 [00:01<00:00, 100.77it/s, loss=0.484]\n"
     ]
    },
    {
     "name": "stdout",
     "output_type": "stream",
     "text": [
      "Epoch 41/50 | Train Loss: 0.1559 | Train Acc: 0.9422 | Val Loss: 0.5448 | Val Acc: 0.8187\n"
     ]
    },
    {
     "name": "stderr",
     "output_type": "stream",
     "text": [
      "Epoch 42/50 [Train]: 100%|██████████| 196/196 [00:04<00:00, 45.36it/s, loss=0.114]\n",
      "Epoch 42/50 [Val]: 100%|██████████| 116/116 [00:01<00:00, 101.76it/s, loss=0.421]\n"
     ]
    },
    {
     "name": "stdout",
     "output_type": "stream",
     "text": [
      "Epoch 42/50 | Train Loss: 0.1488 | Train Acc: 0.9444 | Val Loss: 0.5716 | Val Acc: 0.8187\n"
     ]
    },
    {
     "name": "stderr",
     "output_type": "stream",
     "text": [
      "Epoch 43/50 [Train]: 100%|██████████| 196/196 [00:04<00:00, 45.32it/s, loss=0.128]\n",
      "Epoch 43/50 [Val]: 100%|██████████| 116/116 [00:01<00:00, 100.99it/s, loss=0.406]\n"
     ]
    },
    {
     "name": "stdout",
     "output_type": "stream",
     "text": [
      "Epoch 43/50 | Train Loss: 0.1430 | Train Acc: 0.9482 | Val Loss: 0.5790 | Val Acc: 0.8211\n"
     ]
    },
    {
     "name": "stderr",
     "output_type": "stream",
     "text": [
      "Epoch 44/50 [Train]: 100%|██████████| 196/196 [00:04<00:00, 44.92it/s, loss=0.116]\n",
      "Epoch 44/50 [Val]: 100%|██████████| 116/116 [00:01<00:00, 69.61it/s, loss=0.391]\n"
     ]
    },
    {
     "name": "stdout",
     "output_type": "stream",
     "text": [
      "Epoch 44/50 | Train Loss: 0.1388 | Train Acc: 0.9491 | Val Loss: 0.5937 | Val Acc: 0.8159\n"
     ]
    },
    {
     "name": "stderr",
     "output_type": "stream",
     "text": [
      "Epoch 45/50 [Train]: 100%|██████████| 196/196 [00:04<00:00, 45.25it/s, loss=0.123]\n",
      "Epoch 45/50 [Val]: 100%|██████████| 116/116 [00:01<00:00, 100.08it/s, loss=0.454]\n"
     ]
    },
    {
     "name": "stdout",
     "output_type": "stream",
     "text": [
      "Epoch 45/50 | Train Loss: 0.1328 | Train Acc: 0.9511 | Val Loss: 0.5955 | Val Acc: 0.8149\n"
     ]
    },
    {
     "name": "stderr",
     "output_type": "stream",
     "text": [
      "Epoch 46/50 [Train]: 100%|██████████| 196/196 [00:04<00:00, 45.30it/s, loss=0.195]\n",
      "Epoch 46/50 [Val]: 100%|██████████| 116/116 [00:01<00:00, 100.41it/s, loss=0.447]\n"
     ]
    },
    {
     "name": "stdout",
     "output_type": "stream",
     "text": [
      "Epoch 46/50 | Train Loss: 0.1328 | Train Acc: 0.9519 | Val Loss: 0.5437 | Val Acc: 0.8211\n"
     ]
    },
    {
     "name": "stderr",
     "output_type": "stream",
     "text": [
      "Epoch 47/50 [Train]: 100%|██████████| 196/196 [00:04<00:00, 45.22it/s, loss=0.134]\n",
      "Epoch 47/50 [Val]: 100%|██████████| 116/116 [00:01<00:00, 101.15it/s, loss=0.333]\n"
     ]
    },
    {
     "name": "stdout",
     "output_type": "stream",
     "text": [
      "Epoch 47/50 | Train Loss: 0.1325 | Train Acc: 0.9514 | Val Loss: 0.6070 | Val Acc: 0.8170\n"
     ]
    },
    {
     "name": "stderr",
     "output_type": "stream",
     "text": [
      "Epoch 48/50 [Train]: 100%|██████████| 196/196 [00:04<00:00, 45.32it/s, loss=0.101]\n",
      "Epoch 48/50 [Val]: 100%|██████████| 116/116 [00:01<00:00, 101.14it/s, loss=0.581]\n"
     ]
    },
    {
     "name": "stdout",
     "output_type": "stream",
     "text": [
      "Epoch 48/50 | Train Loss: 0.1187 | Train Acc: 0.9568 | Val Loss: 0.6256 | Val Acc: 0.8181\n"
     ]
    },
    {
     "name": "stderr",
     "output_type": "stream",
     "text": [
      "Epoch 49/50 [Train]: 100%|██████████| 196/196 [00:04<00:00, 45.20it/s, loss=0.0805]\n",
      "Epoch 49/50 [Val]: 100%|██████████| 116/116 [00:01<00:00, 99.14it/s, loss=0.58]\n"
     ]
    },
    {
     "name": "stdout",
     "output_type": "stream",
     "text": [
      "Epoch 49/50 | Train Loss: 0.1180 | Train Acc: 0.9576 | Val Loss: 0.6228 | Val Acc: 0.8221\n"
     ]
    },
    {
     "name": "stderr",
     "output_type": "stream",
     "text": [
      "Epoch 50/50 [Train]: 100%|██████████| 196/196 [00:04<00:00, 45.14it/s, loss=0.0974]\n",
      "Epoch 50/50 [Val]: 100%|██████████| 116/116 [00:01<00:00, 100.69it/s, loss=0.649]"
     ]
    },
    {
     "name": "stdout",
     "output_type": "stream",
     "text": [
      "Epoch 50/50 | Train Loss: 0.1121 | Train Acc: 0.9596 | Val Loss: 0.6690 | Val Acc: 0.8177\n"
     ]
    },
    {
     "name": "stderr",
     "output_type": "stream",
     "text": [
      "\n"
     ]
    }
   ],
   "source": [
    "model = LSTMModel(64, 128, 20002)\n",
    "optimizer = optim.Adam(model.parameters(), lr=learning_rate)\n",
    "train_loop(model, True, 50, \"LSTM\")"
   ]
  },
  {
   "cell_type": "code",
   "execution_count": 21,
   "id": "fa329f3d",
   "metadata": {
    "execution": {
     "iopub.execute_input": "2025-03-09T03:54:03.502086Z",
     "iopub.status.busy": "2025-03-09T03:54:03.501580Z",
     "iopub.status.idle": "2025-03-09T03:57:22.528271Z",
     "shell.execute_reply": "2025-03-09T03:57:22.527502Z"
    },
    "papermill": {
     "duration": 200.698786,
     "end_time": "2025-03-09T03:57:22.529599",
     "exception": false,
     "start_time": "2025-03-09T03:54:01.830813",
     "status": "completed"
    },
    "tags": []
   },
   "outputs": [
    {
     "name": "stderr",
     "output_type": "stream",
     "text": [
      "Epoch 1/50 [Train]: 100%|██████████| 196/196 [00:03<00:00, 63.08it/s, loss=0.712]\n",
      "Epoch 1/50 [Val]: 100%|██████████| 116/116 [00:00<00:00, 137.41it/s, loss=0.678]\n"
     ]
    },
    {
     "name": "stdout",
     "output_type": "stream",
     "text": [
      "Epoch 1/50 | Train Loss: 0.6915 | Train Acc: 0.5147 | Val Loss: 0.6853 | Val Acc: 0.5372\n"
     ]
    },
    {
     "name": "stderr",
     "output_type": "stream",
     "text": [
      "Epoch 2/50 [Train]: 100%|██████████| 196/196 [00:03<00:00, 64.79it/s, loss=0.629]\n",
      "Epoch 2/50 [Val]: 100%|██████████| 116/116 [00:00<00:00, 136.17it/s, loss=0.709]\n"
     ]
    },
    {
     "name": "stdout",
     "output_type": "stream",
     "text": [
      "Epoch 2/50 | Train Loss: 0.6741 | Train Acc: 0.5782 | Val Loss: 0.6477 | Val Acc: 0.6589\n"
     ]
    },
    {
     "name": "stderr",
     "output_type": "stream",
     "text": [
      "Epoch 3/50 [Train]: 100%|██████████| 196/196 [00:03<00:00, 64.35it/s, loss=0.673]\n",
      "Epoch 3/50 [Val]: 100%|██████████| 116/116 [00:00<00:00, 136.45it/s, loss=0.69]\n"
     ]
    },
    {
     "name": "stdout",
     "output_type": "stream",
     "text": [
      "Epoch 3/50 | Train Loss: 0.6731 | Train Acc: 0.5723 | Val Loss: 0.6810 | Val Acc: 0.5624\n"
     ]
    },
    {
     "name": "stderr",
     "output_type": "stream",
     "text": [
      "Epoch 4/50 [Train]: 100%|██████████| 196/196 [00:03<00:00, 63.92it/s, loss=0.558]\n",
      "Epoch 4/50 [Val]: 100%|██████████| 116/116 [00:00<00:00, 136.63it/s, loss=0.559]\n"
     ]
    },
    {
     "name": "stdout",
     "output_type": "stream",
     "text": [
      "Epoch 4/50 | Train Loss: 0.5650 | Train Acc: 0.7121 | Val Loss: 0.5125 | Val Acc: 0.7504\n"
     ]
    },
    {
     "name": "stderr",
     "output_type": "stream",
     "text": [
      "Epoch 5/50 [Train]: 100%|██████████| 196/196 [00:03<00:00, 63.75it/s, loss=0.313]\n",
      "Epoch 5/50 [Val]: 100%|██████████| 116/116 [00:01<00:00, 84.06it/s, loss=0.468]\n"
     ]
    },
    {
     "name": "stdout",
     "output_type": "stream",
     "text": [
      "Epoch 5/50 | Train Loss: 0.4382 | Train Acc: 0.7984 | Val Loss: 0.4264 | Val Acc: 0.8106\n"
     ]
    },
    {
     "name": "stderr",
     "output_type": "stream",
     "text": [
      "Epoch 6/50 [Train]: 100%|██████████| 196/196 [00:03<00:00, 63.55it/s, loss=0.292]\n",
      "Epoch 6/50 [Val]: 100%|██████████| 116/116 [00:00<00:00, 134.78it/s, loss=0.443]\n"
     ]
    },
    {
     "name": "stdout",
     "output_type": "stream",
     "text": [
      "Epoch 6/50 | Train Loss: 0.3765 | Train Acc: 0.8330 | Val Loss: 0.4007 | Val Acc: 0.8212\n"
     ]
    },
    {
     "name": "stderr",
     "output_type": "stream",
     "text": [
      "Epoch 7/50 [Train]: 100%|██████████| 196/196 [00:03<00:00, 63.46it/s, loss=0.311]\n",
      "Epoch 7/50 [Val]: 100%|██████████| 116/116 [00:00<00:00, 138.14it/s, loss=0.411]\n"
     ]
    },
    {
     "name": "stdout",
     "output_type": "stream",
     "text": [
      "Epoch 7/50 | Train Loss: 0.3360 | Train Acc: 0.8546 | Val Loss: 0.3976 | Val Acc: 0.8220\n"
     ]
    },
    {
     "name": "stderr",
     "output_type": "stream",
     "text": [
      "Epoch 8/50 [Train]: 100%|██████████| 196/196 [00:03<00:00, 63.51it/s, loss=0.276]\n",
      "Epoch 8/50 [Val]: 100%|██████████| 116/116 [00:00<00:00, 135.94it/s, loss=0.421]\n"
     ]
    },
    {
     "name": "stdout",
     "output_type": "stream",
     "text": [
      "Epoch 8/50 | Train Loss: 0.3078 | Train Acc: 0.8685 | Val Loss: 0.3833 | Val Acc: 0.8307\n"
     ]
    },
    {
     "name": "stderr",
     "output_type": "stream",
     "text": [
      "Epoch 9/50 [Train]: 100%|██████████| 196/196 [00:03<00:00, 63.60it/s, loss=0.279]\n",
      "Epoch 9/50 [Val]: 100%|██████████| 116/116 [00:00<00:00, 136.58it/s, loss=0.396]\n"
     ]
    },
    {
     "name": "stdout",
     "output_type": "stream",
     "text": [
      "Epoch 9/50 | Train Loss: 0.2808 | Train Acc: 0.8827 | Val Loss: 0.3859 | Val Acc: 0.8337\n"
     ]
    },
    {
     "name": "stderr",
     "output_type": "stream",
     "text": [
      "Epoch 10/50 [Train]: 100%|██████████| 196/196 [00:03<00:00, 63.92it/s, loss=0.157]\n",
      "Epoch 10/50 [Val]: 100%|██████████| 116/116 [00:00<00:00, 135.52it/s, loss=0.47]\n"
     ]
    },
    {
     "name": "stdout",
     "output_type": "stream",
     "text": [
      "Epoch 10/50 | Train Loss: 0.2574 | Train Acc: 0.8938 | Val Loss: 0.4218 | Val Acc: 0.8129\n"
     ]
    },
    {
     "name": "stderr",
     "output_type": "stream",
     "text": [
      "Epoch 11/50 [Train]: 100%|██████████| 196/196 [00:03<00:00, 64.01it/s, loss=0.234]\n",
      "Epoch 11/50 [Val]: 100%|██████████| 116/116 [00:00<00:00, 135.56it/s, loss=0.345]\n"
     ]
    },
    {
     "name": "stdout",
     "output_type": "stream",
     "text": [
      "Epoch 11/50 | Train Loss: 0.2331 | Train Acc: 0.9050 | Val Loss: 0.3957 | Val Acc: 0.8375\n"
     ]
    },
    {
     "name": "stderr",
     "output_type": "stream",
     "text": [
      "Epoch 12/50 [Train]: 100%|██████████| 196/196 [00:03<00:00, 64.10it/s, loss=0.2]\n",
      "Epoch 12/50 [Val]: 100%|██████████| 116/116 [00:00<00:00, 135.22it/s, loss=0.389]\n"
     ]
    },
    {
     "name": "stdout",
     "output_type": "stream",
     "text": [
      "Epoch 12/50 | Train Loss: 0.2044 | Train Acc: 0.9195 | Val Loss: 0.4145 | Val Acc: 0.8390\n"
     ]
    },
    {
     "name": "stderr",
     "output_type": "stream",
     "text": [
      "Epoch 13/50 [Train]: 100%|██████████| 196/196 [00:03<00:00, 63.96it/s, loss=0.129]\n",
      "Epoch 13/50 [Val]: 100%|██████████| 116/116 [00:00<00:00, 135.44it/s, loss=0.361]\n"
     ]
    },
    {
     "name": "stdout",
     "output_type": "stream",
     "text": [
      "Epoch 13/50 | Train Loss: 0.1851 | Train Acc: 0.9282 | Val Loss: 0.4765 | Val Acc: 0.8374\n"
     ]
    },
    {
     "name": "stderr",
     "output_type": "stream",
     "text": [
      "Epoch 14/50 [Train]: 100%|██████████| 196/196 [00:03<00:00, 63.78it/s, loss=0.201]\n",
      "Epoch 14/50 [Val]: 100%|██████████| 116/116 [00:00<00:00, 137.29it/s, loss=0.473]\n"
     ]
    },
    {
     "name": "stdout",
     "output_type": "stream",
     "text": [
      "Epoch 14/50 | Train Loss: 0.1711 | Train Acc: 0.9340 | Val Loss: 0.4768 | Val Acc: 0.8378\n"
     ]
    },
    {
     "name": "stderr",
     "output_type": "stream",
     "text": [
      "Epoch 15/50 [Train]: 100%|██████████| 196/196 [00:03<00:00, 63.83it/s, loss=0.322]\n",
      "Epoch 15/50 [Val]: 100%|██████████| 116/116 [00:00<00:00, 134.49it/s, loss=0.482]\n"
     ]
    },
    {
     "name": "stdout",
     "output_type": "stream",
     "text": [
      "Epoch 15/50 | Train Loss: 0.1529 | Train Acc: 0.9420 | Val Loss: 0.4780 | Val Acc: 0.8228\n"
     ]
    },
    {
     "name": "stderr",
     "output_type": "stream",
     "text": [
      "Epoch 16/50 [Train]: 100%|██████████| 196/196 [00:03<00:00, 64.23it/s, loss=0.0654]\n",
      "Epoch 16/50 [Val]: 100%|██████████| 116/116 [00:00<00:00, 136.80it/s, loss=0.463]\n"
     ]
    },
    {
     "name": "stdout",
     "output_type": "stream",
     "text": [
      "Epoch 16/50 | Train Loss: 0.1389 | Train Acc: 0.9472 | Val Loss: 0.5201 | Val Acc: 0.8339\n"
     ]
    },
    {
     "name": "stderr",
     "output_type": "stream",
     "text": [
      "Epoch 17/50 [Train]: 100%|██████████| 196/196 [00:03<00:00, 54.66it/s, loss=0.12]\n",
      "Epoch 17/50 [Val]: 100%|██████████| 116/116 [00:00<00:00, 135.97it/s, loss=0.579]\n"
     ]
    },
    {
     "name": "stdout",
     "output_type": "stream",
     "text": [
      "Epoch 17/50 | Train Loss: 0.1302 | Train Acc: 0.9514 | Val Loss: 0.5342 | Val Acc: 0.8329\n"
     ]
    },
    {
     "name": "stderr",
     "output_type": "stream",
     "text": [
      "Epoch 18/50 [Train]: 100%|██████████| 196/196 [00:03<00:00, 64.14it/s, loss=0.151]\n",
      "Epoch 18/50 [Val]: 100%|██████████| 116/116 [00:00<00:00, 137.75it/s, loss=0.515]\n"
     ]
    },
    {
     "name": "stdout",
     "output_type": "stream",
     "text": [
      "Epoch 18/50 | Train Loss: 0.1172 | Train Acc: 0.9564 | Val Loss: 0.5542 | Val Acc: 0.8310\n"
     ]
    },
    {
     "name": "stderr",
     "output_type": "stream",
     "text": [
      "Epoch 19/50 [Train]: 100%|██████████| 196/196 [00:03<00:00, 64.16it/s, loss=0.0623]\n",
      "Epoch 19/50 [Val]: 100%|██████████| 116/116 [00:00<00:00, 135.62it/s, loss=0.579]\n"
     ]
    },
    {
     "name": "stdout",
     "output_type": "stream",
     "text": [
      "Epoch 19/50 | Train Loss: 0.1092 | Train Acc: 0.9598 | Val Loss: 0.5741 | Val Acc: 0.8255\n"
     ]
    },
    {
     "name": "stderr",
     "output_type": "stream",
     "text": [
      "Epoch 20/50 [Train]: 100%|██████████| 196/196 [00:03<00:00, 64.24it/s, loss=0.0416]\n",
      "Epoch 20/50 [Val]: 100%|██████████| 116/116 [00:00<00:00, 136.24it/s, loss=0.607]\n"
     ]
    },
    {
     "name": "stdout",
     "output_type": "stream",
     "text": [
      "Epoch 20/50 | Train Loss: 0.0991 | Train Acc: 0.9634 | Val Loss: 0.6010 | Val Acc: 0.8342\n"
     ]
    },
    {
     "name": "stderr",
     "output_type": "stream",
     "text": [
      "Epoch 21/50 [Train]: 100%|██████████| 196/196 [00:03<00:00, 64.31it/s, loss=0.106]\n",
      "Epoch 21/50 [Val]: 100%|██████████| 116/116 [00:00<00:00, 135.31it/s, loss=0.476]\n"
     ]
    },
    {
     "name": "stdout",
     "output_type": "stream",
     "text": [
      "Epoch 21/50 | Train Loss: 0.0928 | Train Acc: 0.9657 | Val Loss: 0.6795 | Val Acc: 0.8227\n"
     ]
    },
    {
     "name": "stderr",
     "output_type": "stream",
     "text": [
      "Epoch 22/50 [Train]: 100%|██████████| 196/196 [00:03<00:00, 63.72it/s, loss=0.154]\n",
      "Epoch 22/50 [Val]: 100%|██████████| 116/116 [00:00<00:00, 135.55it/s, loss=0.683]\n"
     ]
    },
    {
     "name": "stdout",
     "output_type": "stream",
     "text": [
      "Epoch 22/50 | Train Loss: 0.0921 | Train Acc: 0.9659 | Val Loss: 0.6588 | Val Acc: 0.8204\n"
     ]
    },
    {
     "name": "stderr",
     "output_type": "stream",
     "text": [
      "Epoch 23/50 [Train]: 100%|██████████| 196/196 [00:03<00:00, 64.08it/s, loss=0.0464]\n",
      "Epoch 23/50 [Val]: 100%|██████████| 116/116 [00:00<00:00, 136.84it/s, loss=0.554]\n"
     ]
    },
    {
     "name": "stdout",
     "output_type": "stream",
     "text": [
      "Epoch 23/50 | Train Loss: 0.0831 | Train Acc: 0.9688 | Val Loss: 0.6831 | Val Acc: 0.8225\n"
     ]
    },
    {
     "name": "stderr",
     "output_type": "stream",
     "text": [
      "Epoch 24/50 [Train]: 100%|██████████| 196/196 [00:03<00:00, 64.18it/s, loss=0.0568]\n",
      "Epoch 24/50 [Val]: 100%|██████████| 116/116 [00:00<00:00, 136.61it/s, loss=0.559]\n"
     ]
    },
    {
     "name": "stdout",
     "output_type": "stream",
     "text": [
      "Epoch 24/50 | Train Loss: 0.0755 | Train Acc: 0.9721 | Val Loss: 0.7004 | Val Acc: 0.8245\n"
     ]
    },
    {
     "name": "stderr",
     "output_type": "stream",
     "text": [
      "Epoch 25/50 [Train]: 100%|██████████| 196/196 [00:03<00:00, 64.24it/s, loss=0.08]\n",
      "Epoch 25/50 [Val]: 100%|██████████| 116/116 [00:00<00:00, 135.21it/s, loss=0.623]\n"
     ]
    },
    {
     "name": "stdout",
     "output_type": "stream",
     "text": [
      "Epoch 25/50 | Train Loss: 0.0734 | Train Acc: 0.9727 | Val Loss: 0.7382 | Val Acc: 0.8249\n"
     ]
    },
    {
     "name": "stderr",
     "output_type": "stream",
     "text": [
      "Epoch 26/50 [Train]: 100%|██████████| 196/196 [00:03<00:00, 64.14it/s, loss=0.0181]\n",
      "Epoch 26/50 [Val]: 100%|██████████| 116/116 [00:00<00:00, 135.69it/s, loss=0.607]\n"
     ]
    },
    {
     "name": "stdout",
     "output_type": "stream",
     "text": [
      "Epoch 26/50 | Train Loss: 0.0653 | Train Acc: 0.9752 | Val Loss: 0.7226 | Val Acc: 0.8323\n"
     ]
    },
    {
     "name": "stderr",
     "output_type": "stream",
     "text": [
      "Epoch 27/50 [Train]: 100%|██████████| 196/196 [00:03<00:00, 64.14it/s, loss=0.107]\n",
      "Epoch 27/50 [Val]: 100%|██████████| 116/116 [00:00<00:00, 136.98it/s, loss=0.665]\n"
     ]
    },
    {
     "name": "stdout",
     "output_type": "stream",
     "text": [
      "Epoch 27/50 | Train Loss: 0.0609 | Train Acc: 0.9773 | Val Loss: 0.7678 | Val Acc: 0.8272\n"
     ]
    },
    {
     "name": "stderr",
     "output_type": "stream",
     "text": [
      "Epoch 28/50 [Train]: 100%|██████████| 196/196 [00:03<00:00, 54.45it/s, loss=0.0494]\n",
      "Epoch 28/50 [Val]: 100%|██████████| 116/116 [00:00<00:00, 135.76it/s, loss=0.565]\n"
     ]
    },
    {
     "name": "stdout",
     "output_type": "stream",
     "text": [
      "Epoch 28/50 | Train Loss: 0.0585 | Train Acc: 0.9787 | Val Loss: 0.8047 | Val Acc: 0.8252\n"
     ]
    },
    {
     "name": "stderr",
     "output_type": "stream",
     "text": [
      "Epoch 29/50 [Train]: 100%|██████████| 196/196 [00:03<00:00, 63.93it/s, loss=0.0392]\n",
      "Epoch 29/50 [Val]: 100%|██████████| 116/116 [00:00<00:00, 135.25it/s, loss=0.663]\n"
     ]
    },
    {
     "name": "stdout",
     "output_type": "stream",
     "text": [
      "Epoch 29/50 | Train Loss: 0.0589 | Train Acc: 0.9780 | Val Loss: 0.8204 | Val Acc: 0.8291\n"
     ]
    },
    {
     "name": "stderr",
     "output_type": "stream",
     "text": [
      "Epoch 30/50 [Train]: 100%|██████████| 196/196 [00:03<00:00, 63.44it/s, loss=0.111]\n",
      "Epoch 30/50 [Val]: 100%|██████████| 116/116 [00:00<00:00, 135.31it/s, loss=0.686]\n"
     ]
    },
    {
     "name": "stdout",
     "output_type": "stream",
     "text": [
      "Epoch 30/50 | Train Loss: 0.0546 | Train Acc: 0.9801 | Val Loss: 0.8266 | Val Acc: 0.8148\n"
     ]
    },
    {
     "name": "stderr",
     "output_type": "stream",
     "text": [
      "Epoch 31/50 [Train]: 100%|██████████| 196/196 [00:03<00:00, 63.81it/s, loss=0.0568]\n",
      "Epoch 31/50 [Val]: 100%|██████████| 116/116 [00:00<00:00, 134.26it/s, loss=0.806]\n"
     ]
    },
    {
     "name": "stdout",
     "output_type": "stream",
     "text": [
      "Epoch 31/50 | Train Loss: 0.0565 | Train Acc: 0.9793 | Val Loss: 0.8137 | Val Acc: 0.8279\n"
     ]
    },
    {
     "name": "stderr",
     "output_type": "stream",
     "text": [
      "Epoch 32/50 [Train]: 100%|██████████| 196/196 [00:03<00:00, 64.06it/s, loss=0.0188]\n",
      "Epoch 32/50 [Val]: 100%|██████████| 116/116 [00:00<00:00, 136.32it/s, loss=0.716]\n"
     ]
    },
    {
     "name": "stdout",
     "output_type": "stream",
     "text": [
      "Epoch 32/50 | Train Loss: 0.0451 | Train Acc: 0.9836 | Val Loss: 0.8781 | Val Acc: 0.8246\n"
     ]
    },
    {
     "name": "stderr",
     "output_type": "stream",
     "text": [
      "Epoch 33/50 [Train]: 100%|██████████| 196/196 [00:03<00:00, 63.89it/s, loss=0.0413]\n",
      "Epoch 33/50 [Val]: 100%|██████████| 116/116 [00:00<00:00, 136.99it/s, loss=0.755]\n"
     ]
    },
    {
     "name": "stdout",
     "output_type": "stream",
     "text": [
      "Epoch 33/50 | Train Loss: 0.0452 | Train Acc: 0.9832 | Val Loss: 0.8519 | Val Acc: 0.8245\n"
     ]
    },
    {
     "name": "stderr",
     "output_type": "stream",
     "text": [
      "Epoch 34/50 [Train]: 100%|██████████| 196/196 [00:03<00:00, 64.03it/s, loss=0.099]\n",
      "Epoch 34/50 [Val]: 100%|██████████| 116/116 [00:00<00:00, 136.12it/s, loss=0.725]\n"
     ]
    },
    {
     "name": "stdout",
     "output_type": "stream",
     "text": [
      "Epoch 34/50 | Train Loss: 0.0418 | Train Acc: 0.9843 | Val Loss: 0.9205 | Val Acc: 0.8265\n"
     ]
    },
    {
     "name": "stderr",
     "output_type": "stream",
     "text": [
      "Epoch 35/50 [Train]: 100%|██████████| 196/196 [00:03<00:00, 63.88it/s, loss=0.0168]\n",
      "Epoch 35/50 [Val]: 100%|██████████| 116/116 [00:00<00:00, 132.27it/s, loss=0.855]\n"
     ]
    },
    {
     "name": "stdout",
     "output_type": "stream",
     "text": [
      "Epoch 35/50 | Train Loss: 0.0475 | Train Acc: 0.9825 | Val Loss: 0.8865 | Val Acc: 0.8270\n"
     ]
    },
    {
     "name": "stderr",
     "output_type": "stream",
     "text": [
      "Epoch 36/50 [Train]: 100%|██████████| 196/196 [00:03<00:00, 63.78it/s, loss=0.0266]\n",
      "Epoch 36/50 [Val]: 100%|██████████| 116/116 [00:00<00:00, 137.17it/s, loss=0.723]\n"
     ]
    },
    {
     "name": "stdout",
     "output_type": "stream",
     "text": [
      "Epoch 36/50 | Train Loss: 0.0403 | Train Acc: 0.9850 | Val Loss: 1.0005 | Val Acc: 0.8253\n"
     ]
    },
    {
     "name": "stderr",
     "output_type": "stream",
     "text": [
      "Epoch 37/50 [Train]: 100%|██████████| 196/196 [00:03<00:00, 63.94it/s, loss=0.0247]\n",
      "Epoch 37/50 [Val]: 100%|██████████| 116/116 [00:00<00:00, 135.90it/s, loss=0.76]\n"
     ]
    },
    {
     "name": "stdout",
     "output_type": "stream",
     "text": [
      "Epoch 37/50 | Train Loss: 0.0426 | Train Acc: 0.9840 | Val Loss: 0.9570 | Val Acc: 0.8174\n"
     ]
    },
    {
     "name": "stderr",
     "output_type": "stream",
     "text": [
      "Epoch 38/50 [Train]: 100%|██████████| 196/196 [00:03<00:00, 63.34it/s, loss=0.0234]\n",
      "Epoch 38/50 [Val]: 100%|██████████| 116/116 [00:00<00:00, 135.81it/s, loss=0.754]\n"
     ]
    },
    {
     "name": "stdout",
     "output_type": "stream",
     "text": [
      "Epoch 38/50 | Train Loss: 0.0349 | Train Acc: 0.9875 | Val Loss: 0.9719 | Val Acc: 0.8200\n"
     ]
    },
    {
     "name": "stderr",
     "output_type": "stream",
     "text": [
      "Epoch 39/50 [Train]: 100%|██████████| 196/196 [00:03<00:00, 54.72it/s, loss=0.0344]\n",
      "Epoch 39/50 [Val]: 100%|██████████| 116/116 [00:00<00:00, 136.33it/s, loss=0.86]\n"
     ]
    },
    {
     "name": "stdout",
     "output_type": "stream",
     "text": [
      "Epoch 39/50 | Train Loss: 0.0353 | Train Acc: 0.9872 | Val Loss: 1.0136 | Val Acc: 0.8212\n"
     ]
    },
    {
     "name": "stderr",
     "output_type": "stream",
     "text": [
      "Epoch 40/50 [Train]: 100%|██████████| 196/196 [00:03<00:00, 63.93it/s, loss=0.0513]\n",
      "Epoch 40/50 [Val]: 100%|██████████| 116/116 [00:00<00:00, 136.20it/s, loss=0.907]\n"
     ]
    },
    {
     "name": "stdout",
     "output_type": "stream",
     "text": [
      "Epoch 40/50 | Train Loss: 0.0335 | Train Acc: 0.9877 | Val Loss: 1.0347 | Val Acc: 0.8236\n"
     ]
    },
    {
     "name": "stderr",
     "output_type": "stream",
     "text": [
      "Epoch 41/50 [Train]: 100%|██████████| 196/196 [00:03<00:00, 64.14it/s, loss=0.0495]\n",
      "Epoch 41/50 [Val]: 100%|██████████| 116/116 [00:00<00:00, 136.51it/s, loss=0.893]\n"
     ]
    },
    {
     "name": "stdout",
     "output_type": "stream",
     "text": [
      "Epoch 41/50 | Train Loss: 0.0286 | Train Acc: 0.9894 | Val Loss: 1.0517 | Val Acc: 0.8210\n"
     ]
    },
    {
     "name": "stderr",
     "output_type": "stream",
     "text": [
      "Epoch 42/50 [Train]: 100%|██████████| 196/196 [00:03<00:00, 64.12it/s, loss=0.0518]\n",
      "Epoch 42/50 [Val]: 100%|██████████| 116/116 [00:00<00:00, 138.07it/s, loss=0.741]\n"
     ]
    },
    {
     "name": "stdout",
     "output_type": "stream",
     "text": [
      "Epoch 42/50 | Train Loss: 0.0327 | Train Acc: 0.9880 | Val Loss: 0.9788 | Val Acc: 0.8273\n"
     ]
    },
    {
     "name": "stderr",
     "output_type": "stream",
     "text": [
      "Epoch 43/50 [Train]: 100%|██████████| 196/196 [00:03<00:00, 63.88it/s, loss=0.00945]\n",
      "Epoch 43/50 [Val]: 100%|██████████| 116/116 [00:00<00:00, 136.12it/s, loss=0.786]\n"
     ]
    },
    {
     "name": "stdout",
     "output_type": "stream",
     "text": [
      "Epoch 43/50 | Train Loss: 0.0320 | Train Acc: 0.9877 | Val Loss: 1.0660 | Val Acc: 0.8253\n"
     ]
    },
    {
     "name": "stderr",
     "output_type": "stream",
     "text": [
      "Epoch 44/50 [Train]: 100%|██████████| 196/196 [00:03<00:00, 63.85it/s, loss=0.00953]\n",
      "Epoch 44/50 [Val]: 100%|██████████| 116/116 [00:00<00:00, 136.28it/s, loss=0.857]\n"
     ]
    },
    {
     "name": "stdout",
     "output_type": "stream",
     "text": [
      "Epoch 44/50 | Train Loss: 0.0301 | Train Acc: 0.9891 | Val Loss: 1.0676 | Val Acc: 0.8218\n"
     ]
    },
    {
     "name": "stderr",
     "output_type": "stream",
     "text": [
      "Epoch 45/50 [Train]: 100%|██████████| 196/196 [00:03<00:00, 63.97it/s, loss=0.0421]\n",
      "Epoch 45/50 [Val]: 100%|██████████| 116/116 [00:00<00:00, 134.36it/s, loss=0.747]\n"
     ]
    },
    {
     "name": "stdout",
     "output_type": "stream",
     "text": [
      "Epoch 45/50 | Train Loss: 0.0302 | Train Acc: 0.9894 | Val Loss: 1.0646 | Val Acc: 0.8102\n"
     ]
    },
    {
     "name": "stderr",
     "output_type": "stream",
     "text": [
      "Epoch 46/50 [Train]: 100%|██████████| 196/196 [00:03<00:00, 63.49it/s, loss=0.043]\n",
      "Epoch 46/50 [Val]: 100%|██████████| 116/116 [00:00<00:00, 136.09it/s, loss=0.857]\n"
     ]
    },
    {
     "name": "stdout",
     "output_type": "stream",
     "text": [
      "Epoch 46/50 | Train Loss: 0.0381 | Train Acc: 0.9859 | Val Loss: 1.0610 | Val Acc: 0.8176\n"
     ]
    },
    {
     "name": "stderr",
     "output_type": "stream",
     "text": [
      "Epoch 47/50 [Train]: 100%|██████████| 196/196 [00:03<00:00, 63.93it/s, loss=0.00801]\n",
      "Epoch 47/50 [Val]: 100%|██████████| 116/116 [00:00<00:00, 133.60it/s, loss=0.879]\n"
     ]
    },
    {
     "name": "stdout",
     "output_type": "stream",
     "text": [
      "Epoch 47/50 | Train Loss: 0.0265 | Train Acc: 0.9900 | Val Loss: 1.0392 | Val Acc: 0.8211\n"
     ]
    },
    {
     "name": "stderr",
     "output_type": "stream",
     "text": [
      "Epoch 48/50 [Train]: 100%|██████████| 196/196 [00:03<00:00, 63.82it/s, loss=0.0232]\n",
      "Epoch 48/50 [Val]: 100%|██████████| 116/116 [00:00<00:00, 136.34it/s, loss=1.06]\n"
     ]
    },
    {
     "name": "stdout",
     "output_type": "stream",
     "text": [
      "Epoch 48/50 | Train Loss: 0.0233 | Train Acc: 0.9917 | Val Loss: 1.1703 | Val Acc: 0.8209\n"
     ]
    },
    {
     "name": "stderr",
     "output_type": "stream",
     "text": [
      "Epoch 49/50 [Train]: 100%|██████████| 196/196 [00:03<00:00, 64.17it/s, loss=0.00381]\n",
      "Epoch 49/50 [Val]: 100%|██████████| 116/116 [00:00<00:00, 133.48it/s, loss=0.912]\n"
     ]
    },
    {
     "name": "stdout",
     "output_type": "stream",
     "text": [
      "Epoch 49/50 | Train Loss: 0.0256 | Train Acc: 0.9908 | Val Loss: 1.1144 | Val Acc: 0.8207\n"
     ]
    },
    {
     "name": "stderr",
     "output_type": "stream",
     "text": [
      "Epoch 50/50 [Train]: 100%|██████████| 196/196 [00:03<00:00, 63.88it/s, loss=0.0256]\n",
      "Epoch 50/50 [Val]: 100%|██████████| 116/116 [00:01<00:00, 82.62it/s, loss=0.96] \n"
     ]
    },
    {
     "name": "stdout",
     "output_type": "stream",
     "text": [
      "Epoch 50/50 | Train Loss: 0.0209 | Train Acc: 0.9922 | Val Loss: 1.2133 | Val Acc: 0.8198\n"
     ]
    }
   ],
   "source": [
    "model = GRUModel(64, 128, 20002)\n",
    "optimizer = optim.Adam(model.parameters(), lr=learning_rate)\n",
    "train_loop(model, False, 50, \"GRU\")"
   ]
  },
  {
   "cell_type": "code",
   "execution_count": 22,
   "id": "a1f75d38",
   "metadata": {
    "execution": {
     "iopub.execute_input": "2025-03-09T03:57:27.633502Z",
     "iopub.status.busy": "2025-03-09T03:57:27.633212Z",
     "iopub.status.idle": "2025-03-09T04:05:42.536961Z",
     "shell.execute_reply": "2025-03-09T04:05:42.535819Z"
    },
    "papermill": {
     "duration": 497.452326,
     "end_time": "2025-03-09T04:05:42.538282",
     "exception": false,
     "start_time": "2025-03-09T03:57:25.085956",
     "status": "completed"
    },
    "tags": []
   },
   "outputs": [
    {
     "name": "stderr",
     "output_type": "stream",
     "text": [
      "Epoch 1/50 [Train]: 100%|██████████| 196/196 [00:07<00:00, 24.53it/s, loss=0.691]\n",
      "Epoch 1/50 [Val]: 100%|██████████| 116/116 [00:01<00:00, 58.97it/s, loss=0.689]\n"
     ]
    },
    {
     "name": "stdout",
     "output_type": "stream",
     "text": [
      "Epoch 1/50 | Train Loss: 0.6927 | Train Acc: 0.5064 | Val Loss: 0.6914 | Val Acc: 0.5153\n"
     ]
    },
    {
     "name": "stderr",
     "output_type": "stream",
     "text": [
      "Epoch 2/50 [Train]: 100%|██████████| 196/196 [00:07<00:00, 24.91it/s, loss=0.702]\n",
      "Epoch 2/50 [Val]: 100%|██████████| 116/116 [00:01<00:00, 58.76it/s, loss=0.726]\n"
     ]
    },
    {
     "name": "stdout",
     "output_type": "stream",
     "text": [
      "Epoch 2/50 | Train Loss: 0.6860 | Train Acc: 0.5529 | Val Loss: 0.6926 | Val Acc: 0.5148\n"
     ]
    },
    {
     "name": "stderr",
     "output_type": "stream",
     "text": [
      "Epoch 3/50 [Train]: 100%|██████████| 196/196 [00:07<00:00, 24.90it/s, loss=0.682]\n",
      "Epoch 3/50 [Val]: 100%|██████████| 116/116 [00:01<00:00, 58.34it/s, loss=0.7]\n"
     ]
    },
    {
     "name": "stdout",
     "output_type": "stream",
     "text": [
      "Epoch 3/50 | Train Loss: 0.6847 | Train Acc: 0.5361 | Val Loss: 0.6879 | Val Acc: 0.5288\n"
     ]
    },
    {
     "name": "stderr",
     "output_type": "stream",
     "text": [
      "Epoch 4/50 [Train]: 100%|██████████| 196/196 [00:07<00:00, 24.86it/s, loss=0.637]\n",
      "Epoch 4/50 [Val]: 100%|██████████| 116/116 [00:02<00:00, 57.85it/s, loss=0.649]\n"
     ]
    },
    {
     "name": "stdout",
     "output_type": "stream",
     "text": [
      "Epoch 4/50 | Train Loss: 0.6730 | Train Acc: 0.5748 | Val Loss: 0.6764 | Val Acc: 0.5653\n"
     ]
    },
    {
     "name": "stderr",
     "output_type": "stream",
     "text": [
      "Epoch 5/50 [Train]: 100%|██████████| 196/196 [00:07<00:00, 24.89it/s, loss=0.635]\n",
      "Epoch 5/50 [Val]: 100%|██████████| 116/116 [00:01<00:00, 59.42it/s, loss=0.642]\n"
     ]
    },
    {
     "name": "stdout",
     "output_type": "stream",
     "text": [
      "Epoch 5/50 | Train Loss: 0.6560 | Train Acc: 0.6203 | Val Loss: 0.6485 | Val Acc: 0.6359\n"
     ]
    },
    {
     "name": "stderr",
     "output_type": "stream",
     "text": [
      "Epoch 6/50 [Train]: 100%|██████████| 196/196 [00:07<00:00, 24.87it/s, loss=0.666]\n",
      "Epoch 6/50 [Val]: 100%|██████████| 116/116 [00:01<00:00, 59.34it/s, loss=0.71]\n"
     ]
    },
    {
     "name": "stdout",
     "output_type": "stream",
     "text": [
      "Epoch 6/50 | Train Loss: 0.6362 | Train Acc: 0.6460 | Val Loss: 0.6751 | Val Acc: 0.5729\n"
     ]
    },
    {
     "name": "stderr",
     "output_type": "stream",
     "text": [
      "Epoch 7/50 [Train]: 100%|██████████| 196/196 [00:07<00:00, 24.79it/s, loss=0.623]\n",
      "Epoch 7/50 [Val]: 100%|██████████| 116/116 [00:01<00:00, 59.17it/s, loss=0.759]\n"
     ]
    },
    {
     "name": "stdout",
     "output_type": "stream",
     "text": [
      "Epoch 7/50 | Train Loss: 0.6453 | Train Acc: 0.6296 | Val Loss: 0.6582 | Val Acc: 0.6250\n"
     ]
    },
    {
     "name": "stderr",
     "output_type": "stream",
     "text": [
      "Epoch 8/50 [Train]: 100%|██████████| 196/196 [00:07<00:00, 24.84it/s, loss=0.607]\n",
      "Epoch 8/50 [Val]: 100%|██████████| 116/116 [00:01<00:00, 59.42it/s, loss=0.64]\n"
     ]
    },
    {
     "name": "stdout",
     "output_type": "stream",
     "text": [
      "Epoch 8/50 | Train Loss: 0.5972 | Train Acc: 0.7003 | Val Loss: 0.6058 | Val Acc: 0.7010\n"
     ]
    },
    {
     "name": "stderr",
     "output_type": "stream",
     "text": [
      "Epoch 9/50 [Train]: 100%|██████████| 196/196 [00:07<00:00, 24.84it/s, loss=0.684]\n",
      "Epoch 9/50 [Val]: 100%|██████████| 116/116 [00:01<00:00, 59.37it/s, loss=0.701]\n"
     ]
    },
    {
     "name": "stdout",
     "output_type": "stream",
     "text": [
      "Epoch 9/50 | Train Loss: 0.6567 | Train Acc: 0.5875 | Val Loss: 0.6961 | Val Acc: 0.5204\n"
     ]
    },
    {
     "name": "stderr",
     "output_type": "stream",
     "text": [
      "Epoch 10/50 [Train]: 100%|██████████| 196/196 [00:07<00:00, 24.87it/s, loss=0.643]\n",
      "Epoch 10/50 [Val]: 100%|██████████| 116/116 [00:01<00:00, 59.11it/s, loss=0.641]\n"
     ]
    },
    {
     "name": "stdout",
     "output_type": "stream",
     "text": [
      "Epoch 10/50 | Train Loss: 0.6672 | Train Acc: 0.5741 | Val Loss: 0.6357 | Val Acc: 0.6523\n"
     ]
    },
    {
     "name": "stderr",
     "output_type": "stream",
     "text": [
      "Epoch 11/50 [Train]: 100%|██████████| 196/196 [00:07<00:00, 24.90it/s, loss=0.677]\n",
      "Epoch 11/50 [Val]: 100%|██████████| 116/116 [00:01<00:00, 59.00it/s, loss=0.737]\n"
     ]
    },
    {
     "name": "stdout",
     "output_type": "stream",
     "text": [
      "Epoch 11/50 | Train Loss: 0.6613 | Train Acc: 0.5790 | Val Loss: 0.6989 | Val Acc: 0.5207\n"
     ]
    },
    {
     "name": "stderr",
     "output_type": "stream",
     "text": [
      "Epoch 12/50 [Train]: 100%|██████████| 196/196 [00:08<00:00, 23.35it/s, loss=0.562]\n",
      "Epoch 12/50 [Val]: 100%|██████████| 116/116 [00:01<00:00, 59.00it/s, loss=0.622]\n"
     ]
    },
    {
     "name": "stdout",
     "output_type": "stream",
     "text": [
      "Epoch 12/50 | Train Loss: 0.6580 | Train Acc: 0.5838 | Val Loss: 0.6983 | Val Acc: 0.5441\n"
     ]
    },
    {
     "name": "stderr",
     "output_type": "stream",
     "text": [
      "Epoch 13/50 [Train]: 100%|██████████| 196/196 [00:07<00:00, 24.89it/s, loss=0.658]\n",
      "Epoch 13/50 [Val]: 100%|██████████| 116/116 [00:01<00:00, 59.32it/s, loss=0.716]\n"
     ]
    },
    {
     "name": "stdout",
     "output_type": "stream",
     "text": [
      "Epoch 13/50 | Train Loss: 0.6475 | Train Acc: 0.5938 | Val Loss: 0.6971 | Val Acc: 0.5314\n"
     ]
    },
    {
     "name": "stderr",
     "output_type": "stream",
     "text": [
      "Epoch 14/50 [Train]: 100%|██████████| 196/196 [00:07<00:00, 24.85it/s, loss=0.663]\n",
      "Epoch 14/50 [Val]: 100%|██████████| 116/116 [00:01<00:00, 59.09it/s, loss=0.732]\n"
     ]
    },
    {
     "name": "stdout",
     "output_type": "stream",
     "text": [
      "Epoch 14/50 | Train Loss: 0.6570 | Train Acc: 0.5721 | Val Loss: 0.7050 | Val Acc: 0.5258\n"
     ]
    },
    {
     "name": "stderr",
     "output_type": "stream",
     "text": [
      "Epoch 15/50 [Train]: 100%|██████████| 196/196 [00:07<00:00, 24.90it/s, loss=0.612]\n",
      "Epoch 15/50 [Val]: 100%|██████████| 116/116 [00:01<00:00, 59.10it/s, loss=0.698]\n"
     ]
    },
    {
     "name": "stdout",
     "output_type": "stream",
     "text": [
      "Epoch 15/50 | Train Loss: 0.6493 | Train Acc: 0.5792 | Val Loss: 0.7021 | Val Acc: 0.5412\n"
     ]
    },
    {
     "name": "stderr",
     "output_type": "stream",
     "text": [
      "Epoch 16/50 [Train]: 100%|██████████| 196/196 [00:07<00:00, 24.91it/s, loss=0.485]\n",
      "Epoch 16/50 [Val]: 100%|██████████| 116/116 [00:01<00:00, 58.95it/s, loss=0.561]\n"
     ]
    },
    {
     "name": "stdout",
     "output_type": "stream",
     "text": [
      "Epoch 16/50 | Train Loss: 0.6270 | Train Acc: 0.6306 | Val Loss: 0.6019 | Val Acc: 0.7171\n"
     ]
    },
    {
     "name": "stderr",
     "output_type": "stream",
     "text": [
      "Epoch 17/50 [Train]: 100%|██████████| 196/196 [00:07<00:00, 24.91it/s, loss=0.569]\n",
      "Epoch 17/50 [Val]: 100%|██████████| 116/116 [00:01<00:00, 59.00it/s, loss=0.574]\n"
     ]
    },
    {
     "name": "stdout",
     "output_type": "stream",
     "text": [
      "Epoch 17/50 | Train Loss: 0.5738 | Train Acc: 0.7117 | Val Loss: 0.6081 | Val Acc: 0.7108\n"
     ]
    },
    {
     "name": "stderr",
     "output_type": "stream",
     "text": [
      "Epoch 18/50 [Train]: 100%|██████████| 196/196 [00:07<00:00, 24.91it/s, loss=0.498]\n",
      "Epoch 18/50 [Val]: 100%|██████████| 116/116 [00:01<00:00, 59.11it/s, loss=0.572]\n"
     ]
    },
    {
     "name": "stdout",
     "output_type": "stream",
     "text": [
      "Epoch 18/50 | Train Loss: 0.5162 | Train Acc: 0.7505 | Val Loss: 0.5873 | Val Acc: 0.7043\n"
     ]
    },
    {
     "name": "stderr",
     "output_type": "stream",
     "text": [
      "Epoch 19/50 [Train]: 100%|██████████| 196/196 [00:07<00:00, 24.87it/s, loss=0.615]\n",
      "Epoch 19/50 [Val]: 100%|██████████| 116/116 [00:01<00:00, 59.28it/s, loss=0.738]\n"
     ]
    },
    {
     "name": "stdout",
     "output_type": "stream",
     "text": [
      "Epoch 19/50 | Train Loss: 0.4966 | Train Acc: 0.7741 | Val Loss: 0.7049 | Val Acc: 0.5368\n"
     ]
    },
    {
     "name": "stderr",
     "output_type": "stream",
     "text": [
      "Epoch 20/50 [Train]: 100%|██████████| 196/196 [00:07<00:00, 24.84it/s, loss=0.527]\n",
      "Epoch 20/50 [Val]: 100%|██████████| 116/116 [00:02<00:00, 57.18it/s, loss=0.523]\n"
     ]
    },
    {
     "name": "stdout",
     "output_type": "stream",
     "text": [
      "Epoch 20/50 | Train Loss: 0.5392 | Train Acc: 0.7172 | Val Loss: 0.6452 | Val Acc: 0.7435\n"
     ]
    },
    {
     "name": "stderr",
     "output_type": "stream",
     "text": [
      "Epoch 21/50 [Train]: 100%|██████████| 196/196 [00:07<00:00, 24.89it/s, loss=0.419]\n",
      "Epoch 21/50 [Val]: 100%|██████████| 116/116 [00:01<00:00, 59.08it/s, loss=0.511]\n"
     ]
    },
    {
     "name": "stdout",
     "output_type": "stream",
     "text": [
      "Epoch 21/50 | Train Loss: 0.4586 | Train Acc: 0.7982 | Val Loss: 0.6359 | Val Acc: 0.7020\n"
     ]
    },
    {
     "name": "stderr",
     "output_type": "stream",
     "text": [
      "Epoch 22/50 [Train]: 100%|██████████| 196/196 [00:07<00:00, 24.89it/s, loss=0.578]\n",
      "Epoch 22/50 [Val]: 100%|██████████| 116/116 [00:01<00:00, 58.92it/s, loss=0.694]\n"
     ]
    },
    {
     "name": "stdout",
     "output_type": "stream",
     "text": [
      "Epoch 22/50 | Train Loss: 0.5560 | Train Acc: 0.7081 | Val Loss: 0.6470 | Val Acc: 0.7048\n"
     ]
    },
    {
     "name": "stderr",
     "output_type": "stream",
     "text": [
      "Epoch 23/50 [Train]: 100%|██████████| 196/196 [00:07<00:00, 24.92it/s, loss=0.367]\n",
      "Epoch 23/50 [Val]: 100%|██████████| 116/116 [00:02<00:00, 46.65it/s, loss=0.499]\n"
     ]
    },
    {
     "name": "stdout",
     "output_type": "stream",
     "text": [
      "Epoch 23/50 | Train Loss: 0.4676 | Train Acc: 0.7883 | Val Loss: 0.5181 | Val Acc: 0.7663\n"
     ]
    },
    {
     "name": "stderr",
     "output_type": "stream",
     "text": [
      "Epoch 24/50 [Train]: 100%|██████████| 196/196 [00:07<00:00, 24.88it/s, loss=0.494]\n",
      "Epoch 24/50 [Val]: 100%|██████████| 116/116 [00:01<00:00, 59.39it/s, loss=0.71]\n"
     ]
    },
    {
     "name": "stdout",
     "output_type": "stream",
     "text": [
      "Epoch 24/50 | Train Loss: 0.4833 | Train Acc: 0.7765 | Val Loss: 0.6274 | Val Acc: 0.6639\n"
     ]
    },
    {
     "name": "stderr",
     "output_type": "stream",
     "text": [
      "Epoch 25/50 [Train]: 100%|██████████| 196/196 [00:07<00:00, 24.93it/s, loss=0.686]\n",
      "Epoch 25/50 [Val]: 100%|██████████| 116/116 [00:01<00:00, 59.29it/s, loss=0.659]\n"
     ]
    },
    {
     "name": "stdout",
     "output_type": "stream",
     "text": [
      "Epoch 25/50 | Train Loss: 0.4959 | Train Acc: 0.7810 | Val Loss: 0.7425 | Val Acc: 0.5281\n"
     ]
    },
    {
     "name": "stderr",
     "output_type": "stream",
     "text": [
      "Epoch 26/50 [Train]: 100%|██████████| 196/196 [00:07<00:00, 24.86it/s, loss=0.409]\n",
      "Epoch 26/50 [Val]: 100%|██████████| 116/116 [00:01<00:00, 59.18it/s, loss=0.546]\n"
     ]
    },
    {
     "name": "stdout",
     "output_type": "stream",
     "text": [
      "Epoch 26/50 | Train Loss: 0.5467 | Train Acc: 0.7068 | Val Loss: 0.5519 | Val Acc: 0.7563\n"
     ]
    },
    {
     "name": "stderr",
     "output_type": "stream",
     "text": [
      "Epoch 27/50 [Train]: 100%|██████████| 196/196 [00:07<00:00, 24.82it/s, loss=0.331]\n",
      "Epoch 27/50 [Val]: 100%|██████████| 116/116 [00:01<00:00, 59.15it/s, loss=0.553]\n"
     ]
    },
    {
     "name": "stdout",
     "output_type": "stream",
     "text": [
      "Epoch 27/50 | Train Loss: 0.4350 | Train Acc: 0.8141 | Val Loss: 0.5310 | Val Acc: 0.7737\n"
     ]
    },
    {
     "name": "stderr",
     "output_type": "stream",
     "text": [
      "Epoch 28/50 [Train]: 100%|██████████| 196/196 [00:07<00:00, 24.87it/s, loss=0.366]\n",
      "Epoch 28/50 [Val]: 100%|██████████| 116/116 [00:01<00:00, 59.01it/s, loss=0.498]\n"
     ]
    },
    {
     "name": "stdout",
     "output_type": "stream",
     "text": [
      "Epoch 28/50 | Train Loss: 0.3956 | Train Acc: 0.8272 | Val Loss: 0.5136 | Val Acc: 0.7914\n"
     ]
    },
    {
     "name": "stderr",
     "output_type": "stream",
     "text": [
      "Epoch 29/50 [Train]: 100%|██████████| 196/196 [00:07<00:00, 24.91it/s, loss=0.29]\n",
      "Epoch 29/50 [Val]: 100%|██████████| 116/116 [00:01<00:00, 59.04it/s, loss=0.45]\n"
     ]
    },
    {
     "name": "stdout",
     "output_type": "stream",
     "text": [
      "Epoch 29/50 | Train Loss: 0.4126 | Train Acc: 0.8118 | Val Loss: 0.5040 | Val Acc: 0.7847\n"
     ]
    },
    {
     "name": "stderr",
     "output_type": "stream",
     "text": [
      "Epoch 30/50 [Train]: 100%|██████████| 196/196 [00:07<00:00, 24.91it/s, loss=0.435]\n",
      "Epoch 30/50 [Val]: 100%|██████████| 116/116 [00:01<00:00, 59.33it/s, loss=0.493]\n"
     ]
    },
    {
     "name": "stdout",
     "output_type": "stream",
     "text": [
      "Epoch 30/50 | Train Loss: 0.3567 | Train Acc: 0.8410 | Val Loss: 0.4935 | Val Acc: 0.7953\n"
     ]
    },
    {
     "name": "stderr",
     "output_type": "stream",
     "text": [
      "Epoch 31/50 [Train]: 100%|██████████| 196/196 [00:07<00:00, 24.86it/s, loss=0.26]\n",
      "Epoch 31/50 [Val]: 100%|██████████| 116/116 [00:01<00:00, 59.00it/s, loss=0.473]\n"
     ]
    },
    {
     "name": "stdout",
     "output_type": "stream",
     "text": [
      "Epoch 31/50 | Train Loss: 0.3430 | Train Acc: 0.8481 | Val Loss: 0.4909 | Val Acc: 0.7992\n"
     ]
    },
    {
     "name": "stderr",
     "output_type": "stream",
     "text": [
      "Epoch 32/50 [Train]: 100%|██████████| 196/196 [00:07<00:00, 24.90it/s, loss=0.42]\n",
      "Epoch 32/50 [Val]: 100%|██████████| 116/116 [00:01<00:00, 58.99it/s, loss=0.472]\n"
     ]
    },
    {
     "name": "stdout",
     "output_type": "stream",
     "text": [
      "Epoch 32/50 | Train Loss: 0.3271 | Train Acc: 0.8585 | Val Loss: 0.4932 | Val Acc: 0.7914\n"
     ]
    },
    {
     "name": "stderr",
     "output_type": "stream",
     "text": [
      "Epoch 33/50 [Train]: 100%|██████████| 196/196 [00:07<00:00, 24.87it/s, loss=0.241]\n",
      "Epoch 33/50 [Val]: 100%|██████████| 116/116 [00:01<00:00, 58.49it/s, loss=0.451]\n"
     ]
    },
    {
     "name": "stdout",
     "output_type": "stream",
     "text": [
      "Epoch 33/50 | Train Loss: 0.3103 | Train Acc: 0.8696 | Val Loss: 0.4916 | Val Acc: 0.8046\n"
     ]
    },
    {
     "name": "stderr",
     "output_type": "stream",
     "text": [
      "Epoch 34/50 [Train]: 100%|██████████| 196/196 [00:07<00:00, 24.87it/s, loss=0.29]\n",
      "Epoch 34/50 [Val]: 100%|██████████| 116/116 [00:01<00:00, 59.09it/s, loss=0.51]\n"
     ]
    },
    {
     "name": "stdout",
     "output_type": "stream",
     "text": [
      "Epoch 34/50 | Train Loss: 0.3192 | Train Acc: 0.8620 | Val Loss: 0.5020 | Val Acc: 0.7944\n"
     ]
    },
    {
     "name": "stderr",
     "output_type": "stream",
     "text": [
      "Epoch 35/50 [Train]: 100%|██████████| 196/196 [00:08<00:00, 23.34it/s, loss=0.269]\n",
      "Epoch 35/50 [Val]: 100%|██████████| 116/116 [00:01<00:00, 59.06it/s, loss=0.434]\n"
     ]
    },
    {
     "name": "stdout",
     "output_type": "stream",
     "text": [
      "Epoch 35/50 | Train Loss: 0.3050 | Train Acc: 0.8745 | Val Loss: 0.4755 | Val Acc: 0.8090\n"
     ]
    },
    {
     "name": "stderr",
     "output_type": "stream",
     "text": [
      "Epoch 36/50 [Train]: 100%|██████████| 196/196 [00:07<00:00, 24.89it/s, loss=0.23]\n",
      "Epoch 36/50 [Val]: 100%|██████████| 116/116 [00:02<00:00, 57.91it/s, loss=0.417]\n"
     ]
    },
    {
     "name": "stdout",
     "output_type": "stream",
     "text": [
      "Epoch 36/50 | Train Loss: 0.2847 | Train Acc: 0.8809 | Val Loss: 0.4890 | Val Acc: 0.8022\n"
     ]
    },
    {
     "name": "stderr",
     "output_type": "stream",
     "text": [
      "Epoch 37/50 [Train]: 100%|██████████| 196/196 [00:07<00:00, 24.89it/s, loss=0.254]\n",
      "Epoch 37/50 [Val]: 100%|██████████| 116/116 [00:01<00:00, 59.17it/s, loss=0.423]\n"
     ]
    },
    {
     "name": "stdout",
     "output_type": "stream",
     "text": [
      "Epoch 37/50 | Train Loss: 0.2676 | Train Acc: 0.8897 | Val Loss: 0.4973 | Val Acc: 0.8102\n"
     ]
    },
    {
     "name": "stderr",
     "output_type": "stream",
     "text": [
      "Epoch 38/50 [Train]: 100%|██████████| 196/196 [00:07<00:00, 24.88it/s, loss=0.257]\n",
      "Epoch 38/50 [Val]: 100%|██████████| 116/116 [00:01<00:00, 59.27it/s, loss=0.445]\n"
     ]
    },
    {
     "name": "stdout",
     "output_type": "stream",
     "text": [
      "Epoch 38/50 | Train Loss: 0.2546 | Train Acc: 0.8943 | Val Loss: 0.4984 | Val Acc: 0.8067\n"
     ]
    },
    {
     "name": "stderr",
     "output_type": "stream",
     "text": [
      "Epoch 39/50 [Train]: 100%|██████████| 196/196 [00:07<00:00, 24.86it/s, loss=0.264]\n",
      "Epoch 39/50 [Val]: 100%|██████████| 116/116 [00:01<00:00, 58.79it/s, loss=0.421]\n"
     ]
    },
    {
     "name": "stdout",
     "output_type": "stream",
     "text": [
      "Epoch 39/50 | Train Loss: 0.2402 | Train Acc: 0.9033 | Val Loss: 0.5011 | Val Acc: 0.8125\n"
     ]
    },
    {
     "name": "stderr",
     "output_type": "stream",
     "text": [
      "Epoch 40/50 [Train]: 100%|██████████| 196/196 [00:07<00:00, 24.83it/s, loss=0.144]\n",
      "Epoch 40/50 [Val]: 100%|██████████| 116/116 [00:01<00:00, 58.76it/s, loss=0.425]\n"
     ]
    },
    {
     "name": "stdout",
     "output_type": "stream",
     "text": [
      "Epoch 40/50 | Train Loss: 0.3095 | Train Acc: 0.8716 | Val Loss: 0.5166 | Val Acc: 0.8062\n"
     ]
    },
    {
     "name": "stderr",
     "output_type": "stream",
     "text": [
      "Epoch 41/50 [Train]: 100%|██████████| 196/196 [00:07<00:00, 24.89it/s, loss=0.241]\n",
      "Epoch 41/50 [Val]: 100%|██████████| 116/116 [00:01<00:00, 59.15it/s, loss=0.371]\n"
     ]
    },
    {
     "name": "stdout",
     "output_type": "stream",
     "text": [
      "Epoch 41/50 | Train Loss: 0.2381 | Train Acc: 0.9044 | Val Loss: 0.5069 | Val Acc: 0.8094\n"
     ]
    },
    {
     "name": "stderr",
     "output_type": "stream",
     "text": [
      "Epoch 42/50 [Train]: 100%|██████████| 196/196 [00:07<00:00, 24.88it/s, loss=0.126]\n",
      "Epoch 42/50 [Val]: 100%|██████████| 116/116 [00:01<00:00, 58.81it/s, loss=0.383]\n"
     ]
    },
    {
     "name": "stdout",
     "output_type": "stream",
     "text": [
      "Epoch 42/50 | Train Loss: 0.2223 | Train Acc: 0.9093 | Val Loss: 0.5169 | Val Acc: 0.8126\n"
     ]
    },
    {
     "name": "stderr",
     "output_type": "stream",
     "text": [
      "Epoch 43/50 [Train]: 100%|██████████| 196/196 [00:07<00:00, 24.85it/s, loss=0.156]\n",
      "Epoch 43/50 [Val]: 100%|██████████| 116/116 [00:01<00:00, 58.91it/s, loss=0.414]\n"
     ]
    },
    {
     "name": "stdout",
     "output_type": "stream",
     "text": [
      "Epoch 43/50 | Train Loss: 0.2126 | Train Acc: 0.9165 | Val Loss: 0.5283 | Val Acc: 0.8045\n"
     ]
    },
    {
     "name": "stderr",
     "output_type": "stream",
     "text": [
      "Epoch 44/50 [Train]: 100%|██████████| 196/196 [00:07<00:00, 24.91it/s, loss=0.228]\n",
      "Epoch 44/50 [Val]: 100%|██████████| 116/116 [00:02<00:00, 57.80it/s, loss=0.467]\n"
     ]
    },
    {
     "name": "stdout",
     "output_type": "stream",
     "text": [
      "Epoch 44/50 | Train Loss: 0.2008 | Train Acc: 0.9218 | Val Loss: 0.5405 | Val Acc: 0.8054\n"
     ]
    },
    {
     "name": "stderr",
     "output_type": "stream",
     "text": [
      "Epoch 45/50 [Train]: 100%|██████████| 196/196 [00:07<00:00, 24.90it/s, loss=0.184]\n",
      "Epoch 45/50 [Val]: 100%|██████████| 116/116 [00:01<00:00, 58.91it/s, loss=0.468]\n"
     ]
    },
    {
     "name": "stdout",
     "output_type": "stream",
     "text": [
      "Epoch 45/50 | Train Loss: 0.1904 | Train Acc: 0.9258 | Val Loss: 0.5651 | Val Acc: 0.8035\n"
     ]
    },
    {
     "name": "stderr",
     "output_type": "stream",
     "text": [
      "Epoch 46/50 [Train]: 100%|██████████| 196/196 [00:07<00:00, 24.90it/s, loss=0.077]\n",
      "Epoch 46/50 [Val]: 100%|██████████| 116/116 [00:02<00:00, 46.68it/s, loss=0.48]\n"
     ]
    },
    {
     "name": "stdout",
     "output_type": "stream",
     "text": [
      "Epoch 46/50 | Train Loss: 0.1830 | Train Acc: 0.9292 | Val Loss: 0.5746 | Val Acc: 0.8070\n"
     ]
    },
    {
     "name": "stderr",
     "output_type": "stream",
     "text": [
      "Epoch 47/50 [Train]: 100%|██████████| 196/196 [00:07<00:00, 24.87it/s, loss=0.136]\n",
      "Epoch 47/50 [Val]: 100%|██████████| 116/116 [00:01<00:00, 58.66it/s, loss=0.462]\n"
     ]
    },
    {
     "name": "stdout",
     "output_type": "stream",
     "text": [
      "Epoch 47/50 | Train Loss: 0.1765 | Train Acc: 0.9320 | Val Loss: 0.5655 | Val Acc: 0.8136\n"
     ]
    },
    {
     "name": "stderr",
     "output_type": "stream",
     "text": [
      "Epoch 48/50 [Train]: 100%|██████████| 196/196 [00:07<00:00, 24.85it/s, loss=0.129]\n",
      "Epoch 48/50 [Val]: 100%|██████████| 116/116 [00:01<00:00, 58.65it/s, loss=0.495]\n"
     ]
    },
    {
     "name": "stdout",
     "output_type": "stream",
     "text": [
      "Epoch 48/50 | Train Loss: 0.1676 | Train Acc: 0.9364 | Val Loss: 0.5934 | Val Acc: 0.8028\n"
     ]
    },
    {
     "name": "stderr",
     "output_type": "stream",
     "text": [
      "Epoch 49/50 [Train]: 100%|██████████| 196/196 [00:07<00:00, 24.88it/s, loss=0.108]\n",
      "Epoch 49/50 [Val]: 100%|██████████| 116/116 [00:01<00:00, 59.21it/s, loss=0.502]\n"
     ]
    },
    {
     "name": "stdout",
     "output_type": "stream",
     "text": [
      "Epoch 49/50 | Train Loss: 0.1599 | Train Acc: 0.9395 | Val Loss: 0.5861 | Val Acc: 0.8068\n"
     ]
    },
    {
     "name": "stderr",
     "output_type": "stream",
     "text": [
      "Epoch 50/50 [Train]: 100%|██████████| 196/196 [00:07<00:00, 24.88it/s, loss=0.133]\n",
      "Epoch 50/50 [Val]: 100%|██████████| 116/116 [00:01<00:00, 58.92it/s, loss=0.515]"
     ]
    },
    {
     "name": "stdout",
     "output_type": "stream",
     "text": [
      "Epoch 50/50 | Train Loss: 0.1521 | Train Acc: 0.9434 | Val Loss: 0.6397 | Val Acc: 0.8087\n"
     ]
    },
    {
     "name": "stderr",
     "output_type": "stream",
     "text": [
      "\n"
     ]
    }
   ],
   "source": [
    "model = BiLSTMModel(64, 128, 20002)\n",
    "optimizer = optim.Adam(model.parameters(), lr=learning_rate)\n",
    "train_loop(model, True, 50, \"BiLSTM\")"
   ]
  },
  {
   "cell_type": "code",
   "execution_count": 23,
   "id": "457b22af",
   "metadata": {
    "execution": {
     "iopub.execute_input": "2025-03-09T04:05:49.649192Z",
     "iopub.status.busy": "2025-03-09T04:05:49.648879Z",
     "iopub.status.idle": "2025-03-09T04:11:42.722339Z",
     "shell.execute_reply": "2025-03-09T04:11:42.721265Z"
    },
    "papermill": {
     "duration": 356.593042,
     "end_time": "2025-03-09T04:11:42.723492",
     "exception": false,
     "start_time": "2025-03-09T04:05:46.130450",
     "status": "completed"
    },
    "tags": []
   },
   "outputs": [
    {
     "name": "stderr",
     "output_type": "stream",
     "text": [
      "Epoch 1/50 [Train]: 100%|██████████| 196/196 [00:05<00:00, 35.09it/s, loss=0.685]\n",
      "Epoch 1/50 [Val]: 100%|██████████| 116/116 [00:01<00:00, 86.54it/s, loss=0.696]\n"
     ]
    },
    {
     "name": "stdout",
     "output_type": "stream",
     "text": [
      "Epoch 1/50 | Train Loss: 0.6918 | Train Acc: 0.5142 | Val Loss: 0.6886 | Val Acc: 0.5293\n"
     ]
    },
    {
     "name": "stderr",
     "output_type": "stream",
     "text": [
      "Epoch 2/50 [Train]: 100%|██████████| 196/196 [00:05<00:00, 35.03it/s, loss=0.702]\n",
      "Epoch 2/50 [Val]: 100%|██████████| 116/116 [00:01<00:00, 85.72it/s, loss=0.705]\n"
     ]
    },
    {
     "name": "stdout",
     "output_type": "stream",
     "text": [
      "Epoch 2/50 | Train Loss: 0.6937 | Train Acc: 0.5266 | Val Loss: 0.6955 | Val Acc: 0.4541\n"
     ]
    },
    {
     "name": "stderr",
     "output_type": "stream",
     "text": [
      "Epoch 3/50 [Train]: 100%|██████████| 196/196 [00:05<00:00, 34.64it/s, loss=0.668]\n",
      "Epoch 3/50 [Val]: 100%|██████████| 116/116 [00:01<00:00, 85.00it/s, loss=0.713]\n"
     ]
    },
    {
     "name": "stdout",
     "output_type": "stream",
     "text": [
      "Epoch 3/50 | Train Loss: 0.6819 | Train Acc: 0.5596 | Val Loss: 0.6830 | Val Acc: 0.5527\n"
     ]
    },
    {
     "name": "stderr",
     "output_type": "stream",
     "text": [
      "Epoch 4/50 [Train]: 100%|██████████| 196/196 [00:05<00:00, 33.72it/s, loss=0.68]\n",
      "Epoch 4/50 [Val]: 100%|██████████| 116/116 [00:01<00:00, 84.11it/s, loss=0.698]\n"
     ]
    },
    {
     "name": "stdout",
     "output_type": "stream",
     "text": [
      "Epoch 4/50 | Train Loss: 0.6837 | Train Acc: 0.5474 | Val Loss: 0.6983 | Val Acc: 0.5666\n"
     ]
    },
    {
     "name": "stderr",
     "output_type": "stream",
     "text": [
      "Epoch 5/50 [Train]: 100%|██████████| 196/196 [00:05<00:00, 33.43it/s, loss=0.686]\n",
      "Epoch 5/50 [Val]: 100%|██████████| 116/116 [00:01<00:00, 84.01it/s, loss=0.679]\n"
     ]
    },
    {
     "name": "stdout",
     "output_type": "stream",
     "text": [
      "Epoch 5/50 | Train Loss: 0.6942 | Train Acc: 0.5047 | Val Loss: 0.6897 | Val Acc: 0.5267\n"
     ]
    },
    {
     "name": "stderr",
     "output_type": "stream",
     "text": [
      "Epoch 6/50 [Train]: 100%|██████████| 196/196 [00:05<00:00, 33.97it/s, loss=0.684]\n",
      "Epoch 6/50 [Val]: 100%|██████████| 116/116 [00:01<00:00, 83.60it/s, loss=0.685]\n"
     ]
    },
    {
     "name": "stdout",
     "output_type": "stream",
     "text": [
      "Epoch 6/50 | Train Loss: 0.6915 | Train Acc: 0.5222 | Val Loss: 0.6897 | Val Acc: 0.5272\n"
     ]
    },
    {
     "name": "stderr",
     "output_type": "stream",
     "text": [
      "Epoch 7/50 [Train]: 100%|██████████| 196/196 [00:05<00:00, 34.40it/s, loss=0.673]\n",
      "Epoch 7/50 [Val]: 100%|██████████| 116/116 [00:01<00:00, 85.36it/s, loss=0.67]\n"
     ]
    },
    {
     "name": "stdout",
     "output_type": "stream",
     "text": [
      "Epoch 7/50 | Train Loss: 0.6762 | Train Acc: 0.5780 | Val Loss: 0.6774 | Val Acc: 0.6046\n"
     ]
    },
    {
     "name": "stderr",
     "output_type": "stream",
     "text": [
      "Epoch 8/50 [Train]: 100%|██████████| 196/196 [00:06<00:00, 31.66it/s, loss=0.68]\n",
      "Epoch 8/50 [Val]: 100%|██████████| 116/116 [00:01<00:00, 85.45it/s, loss=0.666]\n"
     ]
    },
    {
     "name": "stdout",
     "output_type": "stream",
     "text": [
      "Epoch 8/50 | Train Loss: 0.6835 | Train Acc: 0.5533 | Val Loss: 0.6697 | Val Acc: 0.6138\n"
     ]
    },
    {
     "name": "stderr",
     "output_type": "stream",
     "text": [
      "Epoch 9/50 [Train]: 100%|██████████| 196/196 [00:05<00:00, 34.94it/s, loss=0.652]\n",
      "Epoch 9/50 [Val]: 100%|██████████| 116/116 [00:01<00:00, 85.44it/s, loss=0.695]\n"
     ]
    },
    {
     "name": "stdout",
     "output_type": "stream",
     "text": [
      "Epoch 9/50 | Train Loss: 0.6497 | Train Acc: 0.6338 | Val Loss: 0.6300 | Val Acc: 0.6676\n"
     ]
    },
    {
     "name": "stderr",
     "output_type": "stream",
     "text": [
      "Epoch 10/50 [Train]: 100%|██████████| 196/196 [00:05<00:00, 34.97it/s, loss=0.594]\n",
      "Epoch 10/50 [Val]: 100%|██████████| 116/116 [00:01<00:00, 86.19it/s, loss=0.577]\n"
     ]
    },
    {
     "name": "stdout",
     "output_type": "stream",
     "text": [
      "Epoch 10/50 | Train Loss: 0.6012 | Train Acc: 0.6838 | Val Loss: 0.5900 | Val Acc: 0.6842\n"
     ]
    },
    {
     "name": "stderr",
     "output_type": "stream",
     "text": [
      "Epoch 11/50 [Train]: 100%|██████████| 196/196 [00:05<00:00, 34.90it/s, loss=0.498]\n",
      "Epoch 11/50 [Val]: 100%|██████████| 116/116 [00:01<00:00, 85.30it/s, loss=0.567]\n"
     ]
    },
    {
     "name": "stdout",
     "output_type": "stream",
     "text": [
      "Epoch 11/50 | Train Loss: 0.5819 | Train Acc: 0.7086 | Val Loss: 0.5504 | Val Acc: 0.7360\n"
     ]
    },
    {
     "name": "stderr",
     "output_type": "stream",
     "text": [
      "Epoch 12/50 [Train]: 100%|██████████| 196/196 [00:05<00:00, 34.95it/s, loss=0.46]\n",
      "Epoch 12/50 [Val]: 100%|██████████| 116/116 [00:01<00:00, 85.66it/s, loss=0.55]\n"
     ]
    },
    {
     "name": "stdout",
     "output_type": "stream",
     "text": [
      "Epoch 12/50 | Train Loss: 0.5523 | Train Acc: 0.7362 | Val Loss: 0.5305 | Val Acc: 0.7537\n"
     ]
    },
    {
     "name": "stderr",
     "output_type": "stream",
     "text": [
      "Epoch 13/50 [Train]: 100%|██████████| 196/196 [00:05<00:00, 34.61it/s, loss=0.581]\n",
      "Epoch 13/50 [Val]: 100%|██████████| 116/116 [00:01<00:00, 85.02it/s, loss=0.541]\n"
     ]
    },
    {
     "name": "stdout",
     "output_type": "stream",
     "text": [
      "Epoch 13/50 | Train Loss: 0.5475 | Train Acc: 0.7344 | Val Loss: 0.5791 | Val Acc: 0.7406\n"
     ]
    },
    {
     "name": "stderr",
     "output_type": "stream",
     "text": [
      "Epoch 14/50 [Train]: 100%|██████████| 196/196 [00:05<00:00, 34.62it/s, loss=0.56]\n",
      "Epoch 14/50 [Val]: 100%|██████████| 116/116 [00:01<00:00, 85.67it/s, loss=0.742]\n"
     ]
    },
    {
     "name": "stdout",
     "output_type": "stream",
     "text": [
      "Epoch 14/50 | Train Loss: 0.5178 | Train Acc: 0.7556 | Val Loss: 0.6017 | Val Acc: 0.6785\n"
     ]
    },
    {
     "name": "stderr",
     "output_type": "stream",
     "text": [
      "Epoch 15/50 [Train]: 100%|██████████| 196/196 [00:05<00:00, 34.64it/s, loss=0.548]\n",
      "Epoch 15/50 [Val]: 100%|██████████| 116/116 [00:01<00:00, 82.84it/s, loss=0.441]\n"
     ]
    },
    {
     "name": "stdout",
     "output_type": "stream",
     "text": [
      "Epoch 15/50 | Train Loss: 0.5019 | Train Acc: 0.7634 | Val Loss: 0.4964 | Val Acc: 0.7699\n"
     ]
    },
    {
     "name": "stderr",
     "output_type": "stream",
     "text": [
      "Epoch 16/50 [Train]: 100%|██████████| 196/196 [00:05<00:00, 34.61it/s, loss=0.461]\n",
      "Epoch 16/50 [Val]: 100%|██████████| 116/116 [00:01<00:00, 84.54it/s, loss=0.492]\n"
     ]
    },
    {
     "name": "stdout",
     "output_type": "stream",
     "text": [
      "Epoch 16/50 | Train Loss: 0.4773 | Train Acc: 0.7826 | Val Loss: 0.4883 | Val Acc: 0.7880\n"
     ]
    },
    {
     "name": "stderr",
     "output_type": "stream",
     "text": [
      "Epoch 17/50 [Train]: 100%|██████████| 196/196 [00:05<00:00, 34.46it/s, loss=0.476]\n",
      "Epoch 17/50 [Val]: 100%|██████████| 116/116 [00:01<00:00, 85.31it/s, loss=0.646]\n"
     ]
    },
    {
     "name": "stdout",
     "output_type": "stream",
     "text": [
      "Epoch 17/50 | Train Loss: 0.4822 | Train Acc: 0.7933 | Val Loss: 0.5392 | Val Acc: 0.7748\n"
     ]
    },
    {
     "name": "stderr",
     "output_type": "stream",
     "text": [
      "Epoch 18/50 [Train]: 100%|██████████| 196/196 [00:05<00:00, 34.53it/s, loss=0.602]\n",
      "Epoch 18/50 [Val]: 100%|██████████| 116/116 [00:01<00:00, 85.47it/s, loss=0.556]\n"
     ]
    },
    {
     "name": "stdout",
     "output_type": "stream",
     "text": [
      "Epoch 18/50 | Train Loss: 0.5287 | Train Acc: 0.7477 | Val Loss: 0.5924 | Val Acc: 0.7043\n"
     ]
    },
    {
     "name": "stderr",
     "output_type": "stream",
     "text": [
      "Epoch 19/50 [Train]: 100%|██████████| 196/196 [00:05<00:00, 34.79it/s, loss=0.52]\n",
      "Epoch 19/50 [Val]: 100%|██████████| 116/116 [00:01<00:00, 61.38it/s, loss=0.513]\n"
     ]
    },
    {
     "name": "stdout",
     "output_type": "stream",
     "text": [
      "Epoch 19/50 | Train Loss: 0.6281 | Train Acc: 0.6505 | Val Loss: 0.5418 | Val Acc: 0.7594\n"
     ]
    },
    {
     "name": "stderr",
     "output_type": "stream",
     "text": [
      "Epoch 20/50 [Train]: 100%|██████████| 196/196 [00:05<00:00, 34.72it/s, loss=0.967]\n",
      "Epoch 20/50 [Val]: 100%|██████████| 116/116 [00:01<00:00, 85.11it/s, loss=1.33]\n"
     ]
    },
    {
     "name": "stdout",
     "output_type": "stream",
     "text": [
      "Epoch 20/50 | Train Loss: 0.6366 | Train Acc: 0.6436 | Val Loss: 0.9998 | Val Acc: 0.5089\n"
     ]
    },
    {
     "name": "stderr",
     "output_type": "stream",
     "text": [
      "Epoch 21/50 [Train]: 100%|██████████| 196/196 [00:05<00:00, 34.78it/s, loss=0.54]\n",
      "Epoch 21/50 [Val]: 100%|██████████| 116/116 [00:01<00:00, 85.34it/s, loss=0.532]\n"
     ]
    },
    {
     "name": "stdout",
     "output_type": "stream",
     "text": [
      "Epoch 21/50 | Train Loss: 0.6219 | Train Acc: 0.6903 | Val Loss: 0.5641 | Val Acc: 0.7460\n"
     ]
    },
    {
     "name": "stderr",
     "output_type": "stream",
     "text": [
      "Epoch 22/50 [Train]: 100%|██████████| 196/196 [00:05<00:00, 34.71it/s, loss=0.49]\n",
      "Epoch 22/50 [Val]: 100%|██████████| 116/116 [00:01<00:00, 84.80it/s, loss=0.583]\n"
     ]
    },
    {
     "name": "stdout",
     "output_type": "stream",
     "text": [
      "Epoch 22/50 | Train Loss: 0.5357 | Train Acc: 0.7669 | Val Loss: 0.5219 | Val Acc: 0.7782\n"
     ]
    },
    {
     "name": "stderr",
     "output_type": "stream",
     "text": [
      "Epoch 23/50 [Train]: 100%|██████████| 196/196 [00:05<00:00, 34.98it/s, loss=0.789]\n",
      "Epoch 23/50 [Val]: 100%|██████████| 116/116 [00:01<00:00, 84.94it/s, loss=0.564]\n"
     ]
    },
    {
     "name": "stdout",
     "output_type": "stream",
     "text": [
      "Epoch 23/50 | Train Loss: 0.5333 | Train Acc: 0.7657 | Val Loss: 0.7539 | Val Acc: 0.5319\n"
     ]
    },
    {
     "name": "stderr",
     "output_type": "stream",
     "text": [
      "Epoch 24/50 [Train]: 100%|██████████| 196/196 [00:05<00:00, 34.78it/s, loss=0.689]\n",
      "Epoch 24/50 [Val]: 100%|██████████| 116/116 [00:01<00:00, 78.37it/s, loss=0.721]\n"
     ]
    },
    {
     "name": "stdout",
     "output_type": "stream",
     "text": [
      "Epoch 24/50 | Train Loss: 0.5835 | Train Acc: 0.6940 | Val Loss: 0.6835 | Val Acc: 0.5114\n"
     ]
    },
    {
     "name": "stderr",
     "output_type": "stream",
     "text": [
      "Epoch 25/50 [Train]: 100%|██████████| 196/196 [00:05<00:00, 34.66it/s, loss=0.677]\n",
      "Epoch 25/50 [Val]: 100%|██████████| 116/116 [00:01<00:00, 84.94it/s, loss=0.675]\n"
     ]
    },
    {
     "name": "stdout",
     "output_type": "stream",
     "text": [
      "Epoch 25/50 | Train Loss: 0.6649 | Train Acc: 0.6162 | Val Loss: 0.6815 | Val Acc: 0.5366\n"
     ]
    },
    {
     "name": "stderr",
     "output_type": "stream",
     "text": [
      "Epoch 26/50 [Train]: 100%|██████████| 196/196 [00:05<00:00, 34.95it/s, loss=0.545]\n",
      "Epoch 26/50 [Val]: 100%|██████████| 116/116 [00:01<00:00, 85.00it/s, loss=0.553]\n"
     ]
    },
    {
     "name": "stdout",
     "output_type": "stream",
     "text": [
      "Epoch 26/50 | Train Loss: 0.5972 | Train Acc: 0.6908 | Val Loss: 0.4906 | Val Acc: 0.7923\n"
     ]
    },
    {
     "name": "stderr",
     "output_type": "stream",
     "text": [
      "Epoch 27/50 [Train]: 100%|██████████| 196/196 [00:05<00:00, 34.91it/s, loss=0.482]\n",
      "Epoch 27/50 [Val]: 100%|██████████| 116/116 [00:01<00:00, 85.22it/s, loss=0.42]\n"
     ]
    },
    {
     "name": "stdout",
     "output_type": "stream",
     "text": [
      "Epoch 27/50 | Train Loss: 0.4503 | Train Acc: 0.8009 | Val Loss: 0.4816 | Val Acc: 0.7773\n"
     ]
    },
    {
     "name": "stderr",
     "output_type": "stream",
     "text": [
      "Epoch 28/50 [Train]: 100%|██████████| 196/196 [00:05<00:00, 34.78it/s, loss=0.389]\n",
      "Epoch 28/50 [Val]: 100%|██████████| 116/116 [00:01<00:00, 85.50it/s, loss=0.458]\n"
     ]
    },
    {
     "name": "stdout",
     "output_type": "stream",
     "text": [
      "Epoch 28/50 | Train Loss: 0.4114 | Train Acc: 0.8210 | Val Loss: 0.4605 | Val Acc: 0.8019\n"
     ]
    },
    {
     "name": "stderr",
     "output_type": "stream",
     "text": [
      "Epoch 29/50 [Train]: 100%|██████████| 196/196 [00:05<00:00, 34.48it/s, loss=0.372]\n",
      "Epoch 29/50 [Val]: 100%|██████████| 116/116 [00:01<00:00, 86.40it/s, loss=0.497]\n"
     ]
    },
    {
     "name": "stdout",
     "output_type": "stream",
     "text": [
      "Epoch 29/50 | Train Loss: 0.3843 | Train Acc: 0.8342 | Val Loss: 0.4569 | Val Acc: 0.7758\n"
     ]
    },
    {
     "name": "stderr",
     "output_type": "stream",
     "text": [
      "Epoch 30/50 [Train]: 100%|██████████| 196/196 [00:05<00:00, 34.87it/s, loss=0.385]\n",
      "Epoch 30/50 [Val]: 100%|██████████| 116/116 [00:01<00:00, 85.10it/s, loss=0.42]\n"
     ]
    },
    {
     "name": "stdout",
     "output_type": "stream",
     "text": [
      "Epoch 30/50 | Train Loss: 0.3992 | Train Acc: 0.8318 | Val Loss: 0.4294 | Val Acc: 0.8092\n"
     ]
    },
    {
     "name": "stderr",
     "output_type": "stream",
     "text": [
      "Epoch 31/50 [Train]: 100%|██████████| 196/196 [00:06<00:00, 32.07it/s, loss=0.303]\n",
      "Epoch 31/50 [Val]: 100%|██████████| 116/116 [00:01<00:00, 85.21it/s, loss=0.446]\n"
     ]
    },
    {
     "name": "stdout",
     "output_type": "stream",
     "text": [
      "Epoch 31/50 | Train Loss: 0.3412 | Train Acc: 0.8559 | Val Loss: 0.4357 | Val Acc: 0.8092\n"
     ]
    },
    {
     "name": "stderr",
     "output_type": "stream",
     "text": [
      "Epoch 32/50 [Train]: 100%|██████████| 196/196 [00:05<00:00, 34.84it/s, loss=0.357]\n",
      "Epoch 32/50 [Val]: 100%|██████████| 116/116 [00:01<00:00, 85.17it/s, loss=0.461]\n"
     ]
    },
    {
     "name": "stdout",
     "output_type": "stream",
     "text": [
      "Epoch 32/50 | Train Loss: 0.3300 | Train Acc: 0.8640 | Val Loss: 0.4232 | Val Acc: 0.8190\n"
     ]
    },
    {
     "name": "stderr",
     "output_type": "stream",
     "text": [
      "Epoch 33/50 [Train]: 100%|██████████| 196/196 [00:05<00:00, 34.79it/s, loss=0.356]\n",
      "Epoch 33/50 [Val]: 100%|██████████| 116/116 [00:01<00:00, 83.70it/s, loss=0.485]\n"
     ]
    },
    {
     "name": "stdout",
     "output_type": "stream",
     "text": [
      "Epoch 33/50 | Train Loss: 0.3238 | Train Acc: 0.8667 | Val Loss: 0.4454 | Val Acc: 0.8146\n"
     ]
    },
    {
     "name": "stderr",
     "output_type": "stream",
     "text": [
      "Epoch 34/50 [Train]: 100%|██████████| 196/196 [00:05<00:00, 34.85it/s, loss=0.362]\n",
      "Epoch 34/50 [Val]: 100%|██████████| 116/116 [00:01<00:00, 84.66it/s, loss=0.409]\n"
     ]
    },
    {
     "name": "stdout",
     "output_type": "stream",
     "text": [
      "Epoch 34/50 | Train Loss: 0.3044 | Train Acc: 0.8761 | Val Loss: 0.4288 | Val Acc: 0.8190\n"
     ]
    },
    {
     "name": "stderr",
     "output_type": "stream",
     "text": [
      "Epoch 35/50 [Train]: 100%|██████████| 196/196 [00:05<00:00, 34.82it/s, loss=0.195]\n",
      "Epoch 35/50 [Val]: 100%|██████████| 116/116 [00:01<00:00, 85.64it/s, loss=0.396]\n"
     ]
    },
    {
     "name": "stdout",
     "output_type": "stream",
     "text": [
      "Epoch 35/50 | Train Loss: 0.2898 | Train Acc: 0.8827 | Val Loss: 0.4353 | Val Acc: 0.8165\n"
     ]
    },
    {
     "name": "stderr",
     "output_type": "stream",
     "text": [
      "Epoch 36/50 [Train]: 100%|██████████| 196/196 [00:05<00:00, 34.91it/s, loss=0.354]\n",
      "Epoch 36/50 [Val]: 100%|██████████| 116/116 [00:01<00:00, 85.16it/s, loss=0.363]\n"
     ]
    },
    {
     "name": "stdout",
     "output_type": "stream",
     "text": [
      "Epoch 36/50 | Train Loss: 0.2804 | Train Acc: 0.8880 | Val Loss: 0.4838 | Val Acc: 0.8036\n"
     ]
    },
    {
     "name": "stderr",
     "output_type": "stream",
     "text": [
      "Epoch 37/50 [Train]: 100%|██████████| 196/196 [00:05<00:00, 34.81it/s, loss=0.338]\n",
      "Epoch 37/50 [Val]: 100%|██████████| 116/116 [00:01<00:00, 85.50it/s, loss=0.523]\n"
     ]
    },
    {
     "name": "stdout",
     "output_type": "stream",
     "text": [
      "Epoch 37/50 | Train Loss: 0.2901 | Train Acc: 0.8863 | Val Loss: 0.4464 | Val Acc: 0.8089\n"
     ]
    },
    {
     "name": "stderr",
     "output_type": "stream",
     "text": [
      "Epoch 38/50 [Train]: 100%|██████████| 196/196 [00:05<00:00, 34.79it/s, loss=0.332]\n",
      "Epoch 38/50 [Val]: 100%|██████████| 116/116 [00:01<00:00, 85.52it/s, loss=0.506]\n"
     ]
    },
    {
     "name": "stdout",
     "output_type": "stream",
     "text": [
      "Epoch 38/50 | Train Loss: 0.2614 | Train Acc: 0.8977 | Val Loss: 0.4481 | Val Acc: 0.8125\n"
     ]
    },
    {
     "name": "stderr",
     "output_type": "stream",
     "text": [
      "Epoch 39/50 [Train]: 100%|██████████| 196/196 [00:05<00:00, 34.88it/s, loss=0.182]\n",
      "Epoch 39/50 [Val]: 100%|██████████| 116/116 [00:01<00:00, 85.26it/s, loss=0.502]\n"
     ]
    },
    {
     "name": "stdout",
     "output_type": "stream",
     "text": [
      "Epoch 39/50 | Train Loss: 0.2484 | Train Acc: 0.9034 | Val Loss: 0.4481 | Val Acc: 0.8226\n"
     ]
    },
    {
     "name": "stderr",
     "output_type": "stream",
     "text": [
      "Epoch 40/50 [Train]: 100%|██████████| 196/196 [00:05<00:00, 34.78it/s, loss=0.187]\n",
      "Epoch 40/50 [Val]: 100%|██████████| 116/116 [00:01<00:00, 85.27it/s, loss=0.421]\n"
     ]
    },
    {
     "name": "stdout",
     "output_type": "stream",
     "text": [
      "Epoch 40/50 | Train Loss: 0.2401 | Train Acc: 0.9090 | Val Loss: 0.4521 | Val Acc: 0.8257\n"
     ]
    },
    {
     "name": "stderr",
     "output_type": "stream",
     "text": [
      "Epoch 41/50 [Train]: 100%|██████████| 196/196 [00:05<00:00, 34.75it/s, loss=0.161]\n",
      "Epoch 41/50 [Val]: 100%|██████████| 116/116 [00:01<00:00, 85.40it/s, loss=0.428]\n"
     ]
    },
    {
     "name": "stdout",
     "output_type": "stream",
     "text": [
      "Epoch 41/50 | Train Loss: 0.2324 | Train Acc: 0.9113 | Val Loss: 0.4456 | Val Acc: 0.8202\n"
     ]
    },
    {
     "name": "stderr",
     "output_type": "stream",
     "text": [
      "Epoch 42/50 [Train]: 100%|██████████| 196/196 [00:06<00:00, 31.88it/s, loss=0.219]\n",
      "Epoch 42/50 [Val]: 100%|██████████| 116/116 [00:01<00:00, 83.81it/s, loss=0.51]\n"
     ]
    },
    {
     "name": "stdout",
     "output_type": "stream",
     "text": [
      "Epoch 42/50 | Train Loss: 0.2250 | Train Acc: 0.9158 | Val Loss: 0.4676 | Val Acc: 0.8214\n"
     ]
    },
    {
     "name": "stderr",
     "output_type": "stream",
     "text": [
      "Epoch 43/50 [Train]: 100%|██████████| 196/196 [00:05<00:00, 34.85it/s, loss=0.336]\n",
      "Epoch 43/50 [Val]: 100%|██████████| 116/116 [00:01<00:00, 85.16it/s, loss=0.446]\n"
     ]
    },
    {
     "name": "stdout",
     "output_type": "stream",
     "text": [
      "Epoch 43/50 | Train Loss: 0.2163 | Train Acc: 0.9194 | Val Loss: 0.4701 | Val Acc: 0.8198\n"
     ]
    },
    {
     "name": "stderr",
     "output_type": "stream",
     "text": [
      "Epoch 44/50 [Train]: 100%|██████████| 196/196 [00:05<00:00, 34.76it/s, loss=0.279]\n",
      "Epoch 44/50 [Val]: 100%|██████████| 116/116 [00:01<00:00, 85.46it/s, loss=0.441]\n"
     ]
    },
    {
     "name": "stdout",
     "output_type": "stream",
     "text": [
      "Epoch 44/50 | Train Loss: 0.2054 | Train Acc: 0.9248 | Val Loss: 0.4917 | Val Acc: 0.8277\n"
     ]
    },
    {
     "name": "stderr",
     "output_type": "stream",
     "text": [
      "Epoch 45/50 [Train]: 100%|██████████| 196/196 [00:05<00:00, 34.74it/s, loss=0.294]\n",
      "Epoch 45/50 [Val]: 100%|██████████| 116/116 [00:01<00:00, 85.51it/s, loss=0.47]\n"
     ]
    },
    {
     "name": "stdout",
     "output_type": "stream",
     "text": [
      "Epoch 45/50 | Train Loss: 0.2005 | Train Acc: 0.9275 | Val Loss: 0.4858 | Val Acc: 0.8256\n"
     ]
    },
    {
     "name": "stderr",
     "output_type": "stream",
     "text": [
      "Epoch 46/50 [Train]: 100%|██████████| 196/196 [00:05<00:00, 34.82it/s, loss=0.11]\n",
      "Epoch 46/50 [Val]: 100%|██████████| 116/116 [00:01<00:00, 85.35it/s, loss=0.487]\n"
     ]
    },
    {
     "name": "stdout",
     "output_type": "stream",
     "text": [
      "Epoch 46/50 | Train Loss: 0.1898 | Train Acc: 0.9312 | Val Loss: 0.4958 | Val Acc: 0.8250\n"
     ]
    },
    {
     "name": "stderr",
     "output_type": "stream",
     "text": [
      "Epoch 47/50 [Train]: 100%|██████████| 196/196 [00:05<00:00, 34.68it/s, loss=0.275]\n",
      "Epoch 47/50 [Val]: 100%|██████████| 116/116 [00:01<00:00, 85.43it/s, loss=0.478]\n"
     ]
    },
    {
     "name": "stdout",
     "output_type": "stream",
     "text": [
      "Epoch 47/50 | Train Loss: 0.1879 | Train Acc: 0.9336 | Val Loss: 0.4963 | Val Acc: 0.8235\n"
     ]
    },
    {
     "name": "stderr",
     "output_type": "stream",
     "text": [
      "Epoch 48/50 [Train]: 100%|██████████| 196/196 [00:05<00:00, 34.81it/s, loss=0.11]\n",
      "Epoch 48/50 [Val]: 100%|██████████| 116/116 [00:01<00:00, 85.92it/s, loss=0.492]\n"
     ]
    },
    {
     "name": "stdout",
     "output_type": "stream",
     "text": [
      "Epoch 48/50 | Train Loss: 0.1807 | Train Acc: 0.9354 | Val Loss: 0.5049 | Val Acc: 0.8231\n"
     ]
    },
    {
     "name": "stderr",
     "output_type": "stream",
     "text": [
      "Epoch 49/50 [Train]: 100%|██████████| 196/196 [00:05<00:00, 34.67it/s, loss=0.274]\n",
      "Epoch 49/50 [Val]: 100%|██████████| 116/116 [00:01<00:00, 84.84it/s, loss=0.49]\n"
     ]
    },
    {
     "name": "stdout",
     "output_type": "stream",
     "text": [
      "Epoch 49/50 | Train Loss: 0.1798 | Train Acc: 0.9352 | Val Loss: 0.5017 | Val Acc: 0.8242\n"
     ]
    },
    {
     "name": "stderr",
     "output_type": "stream",
     "text": [
      "Epoch 50/50 [Train]: 100%|██████████| 196/196 [00:05<00:00, 34.66it/s, loss=0.0861]\n",
      "Epoch 50/50 [Val]: 100%|██████████| 116/116 [00:01<00:00, 84.88it/s, loss=0.635]"
     ]
    },
    {
     "name": "stdout",
     "output_type": "stream",
     "text": [
      "Epoch 50/50 | Train Loss: 0.1663 | Train Acc: 0.9417 | Val Loss: 0.5507 | Val Acc: 0.8186\n"
     ]
    },
    {
     "name": "stderr",
     "output_type": "stream",
     "text": [
      "\n"
     ]
    }
   ],
   "source": [
    "model = StackedLSTMModel(64, 128, 64, 20002)\n",
    "optimizer = optim.Adam(model.parameters(), lr=learning_rate)\n",
    "train_loop(model, True, 50, \"StackedLSTM\")"
   ]
  },
  {
   "cell_type": "code",
   "execution_count": 24,
   "id": "e60aca01",
   "metadata": {
    "execution": {
     "iopub.execute_input": "2025-03-09T04:11:51.748030Z",
     "iopub.status.busy": "2025-03-09T04:11:51.747537Z",
     "iopub.status.idle": "2025-03-09T04:23:59.027625Z",
     "shell.execute_reply": "2025-03-09T04:23:59.026688Z"
    },
    "papermill": {
     "duration": 731.880293,
     "end_time": "2025-03-09T04:23:59.029029",
     "exception": false,
     "start_time": "2025-03-09T04:11:47.148736",
     "status": "completed"
    },
    "tags": []
   },
   "outputs": [
    {
     "name": "stderr",
     "output_type": "stream",
     "text": [
      "Epoch 1/50 [Train]: 100%|██████████| 196/196 [00:11<00:00, 16.49it/s, loss=0.681]\n",
      "Epoch 1/50 [Val]: 100%|██████████| 116/116 [00:02<00:00, 44.47it/s, loss=0.694]\n"
     ]
    },
    {
     "name": "stdout",
     "output_type": "stream",
     "text": [
      "Epoch 1/50 | Train Loss: 0.6919 | Train Acc: 0.5129 | Val Loss: 0.6890 | Val Acc: 0.5269\n"
     ]
    },
    {
     "name": "stderr",
     "output_type": "stream",
     "text": [
      "Epoch 2/50 [Train]: 100%|██████████| 196/196 [00:11<00:00, 16.54it/s, loss=0.691]\n",
      "Epoch 2/50 [Val]: 100%|██████████| 116/116 [00:02<00:00, 42.66it/s, loss=0.715]\n"
     ]
    },
    {
     "name": "stdout",
     "output_type": "stream",
     "text": [
      "Epoch 2/50 | Train Loss: 0.6913 | Train Acc: 0.5241 | Val Loss: 0.6935 | Val Acc: 0.5072\n"
     ]
    },
    {
     "name": "stderr",
     "output_type": "stream",
     "text": [
      "Epoch 3/50 [Train]: 100%|██████████| 196/196 [00:11<00:00, 16.55it/s, loss=0.684]\n",
      "Epoch 3/50 [Val]: 100%|██████████| 116/116 [00:03<00:00, 36.64it/s, loss=0.706]\n"
     ]
    },
    {
     "name": "stdout",
     "output_type": "stream",
     "text": [
      "Epoch 3/50 | Train Loss: 0.6889 | Train Acc: 0.5270 | Val Loss: 0.6915 | Val Acc: 0.5175\n"
     ]
    },
    {
     "name": "stderr",
     "output_type": "stream",
     "text": [
      "Epoch 4/50 [Train]: 100%|██████████| 196/196 [00:11<00:00, 16.56it/s, loss=0.592]\n",
      "Epoch 4/50 [Val]: 100%|██████████| 116/116 [00:02<00:00, 44.37it/s, loss=0.612]\n"
     ]
    },
    {
     "name": "stdout",
     "output_type": "stream",
     "text": [
      "Epoch 4/50 | Train Loss: 0.6732 | Train Acc: 0.5740 | Val Loss: 0.6143 | Val Acc: 0.6789\n"
     ]
    },
    {
     "name": "stderr",
     "output_type": "stream",
     "text": [
      "Epoch 5/50 [Train]: 100%|██████████| 196/196 [00:11<00:00, 16.53it/s, loss=0.606]\n",
      "Epoch 5/50 [Val]: 100%|██████████| 116/116 [00:02<00:00, 44.51it/s, loss=0.534]\n"
     ]
    },
    {
     "name": "stdout",
     "output_type": "stream",
     "text": [
      "Epoch 5/50 | Train Loss: 0.5918 | Train Acc: 0.6923 | Val Loss: 0.5278 | Val Acc: 0.7400\n"
     ]
    },
    {
     "name": "stderr",
     "output_type": "stream",
     "text": [
      "Epoch 6/50 [Train]: 100%|██████████| 196/196 [00:11<00:00, 16.54it/s, loss=0.474]\n",
      "Epoch 6/50 [Val]: 100%|██████████| 116/116 [00:02<00:00, 44.22it/s, loss=0.517]\n"
     ]
    },
    {
     "name": "stdout",
     "output_type": "stream",
     "text": [
      "Epoch 6/50 | Train Loss: 0.5186 | Train Acc: 0.7538 | Val Loss: 0.4985 | Val Acc: 0.7753\n"
     ]
    },
    {
     "name": "stderr",
     "output_type": "stream",
     "text": [
      "Epoch 7/50 [Train]: 100%|██████████| 196/196 [00:11<00:00, 16.55it/s, loss=0.406]\n",
      "Epoch 7/50 [Val]: 100%|██████████| 116/116 [00:02<00:00, 43.95it/s, loss=0.464]\n"
     ]
    },
    {
     "name": "stdout",
     "output_type": "stream",
     "text": [
      "Epoch 7/50 | Train Loss: 0.4573 | Train Acc: 0.7936 | Val Loss: 0.4356 | Val Acc: 0.8082\n"
     ]
    },
    {
     "name": "stderr",
     "output_type": "stream",
     "text": [
      "Epoch 8/50 [Train]: 100%|██████████| 196/196 [00:11<00:00, 16.54it/s, loss=0.441]\n",
      "Epoch 8/50 [Val]: 100%|██████████| 116/116 [00:02<00:00, 43.72it/s, loss=0.398]\n"
     ]
    },
    {
     "name": "stdout",
     "output_type": "stream",
     "text": [
      "Epoch 8/50 | Train Loss: 0.4191 | Train Acc: 0.8140 | Val Loss: 0.4472 | Val Acc: 0.8068\n"
     ]
    },
    {
     "name": "stderr",
     "output_type": "stream",
     "text": [
      "Epoch 9/50 [Train]: 100%|██████████| 196/196 [00:11<00:00, 16.57it/s, loss=0.443]\n",
      "Epoch 9/50 [Val]: 100%|██████████| 116/116 [00:02<00:00, 43.92it/s, loss=0.352]\n"
     ]
    },
    {
     "name": "stdout",
     "output_type": "stream",
     "text": [
      "Epoch 9/50 | Train Loss: 0.3967 | Train Acc: 0.8277 | Val Loss: 0.4328 | Val Acc: 0.7958\n"
     ]
    },
    {
     "name": "stderr",
     "output_type": "stream",
     "text": [
      "Epoch 10/50 [Train]: 100%|██████████| 196/196 [00:11<00:00, 16.53it/s, loss=0.48]\n",
      "Epoch 10/50 [Val]: 100%|██████████| 116/116 [00:02<00:00, 44.14it/s, loss=0.375]\n"
     ]
    },
    {
     "name": "stdout",
     "output_type": "stream",
     "text": [
      "Epoch 10/50 | Train Loss: 0.3832 | Train Acc: 0.8364 | Val Loss: 0.4226 | Val Acc: 0.8163\n"
     ]
    },
    {
     "name": "stderr",
     "output_type": "stream",
     "text": [
      "Epoch 11/50 [Train]: 100%|██████████| 196/196 [00:11<00:00, 16.55it/s, loss=0.315]\n",
      "Epoch 11/50 [Val]: 100%|██████████| 116/116 [00:02<00:00, 44.23it/s, loss=0.355]\n"
     ]
    },
    {
     "name": "stdout",
     "output_type": "stream",
     "text": [
      "Epoch 11/50 | Train Loss: 0.3590 | Train Acc: 0.8455 | Val Loss: 0.4046 | Val Acc: 0.8191\n"
     ]
    },
    {
     "name": "stderr",
     "output_type": "stream",
     "text": [
      "Epoch 12/50 [Train]: 100%|██████████| 196/196 [00:11<00:00, 16.55it/s, loss=0.361]\n",
      "Epoch 12/50 [Val]: 100%|██████████| 116/116 [00:02<00:00, 44.17it/s, loss=0.373]\n"
     ]
    },
    {
     "name": "stdout",
     "output_type": "stream",
     "text": [
      "Epoch 12/50 | Train Loss: 0.3455 | Train Acc: 0.8544 | Val Loss: 0.4355 | Val Acc: 0.8239\n"
     ]
    },
    {
     "name": "stderr",
     "output_type": "stream",
     "text": [
      "Epoch 13/50 [Train]: 100%|██████████| 196/196 [00:11<00:00, 16.55it/s, loss=0.347]\n",
      "Epoch 13/50 [Val]: 100%|██████████| 116/116 [00:02<00:00, 43.95it/s, loss=0.36]\n"
     ]
    },
    {
     "name": "stdout",
     "output_type": "stream",
     "text": [
      "Epoch 13/50 | Train Loss: 0.3394 | Train Acc: 0.8592 | Val Loss: 0.4181 | Val Acc: 0.8210\n"
     ]
    },
    {
     "name": "stderr",
     "output_type": "stream",
     "text": [
      "Epoch 14/50 [Train]: 100%|██████████| 196/196 [00:11<00:00, 16.53it/s, loss=0.224]\n",
      "Epoch 14/50 [Val]: 100%|██████████| 116/116 [00:02<00:00, 43.86it/s, loss=0.329]\n"
     ]
    },
    {
     "name": "stdout",
     "output_type": "stream",
     "text": [
      "Epoch 14/50 | Train Loss: 0.3591 | Train Acc: 0.8458 | Val Loss: 0.4090 | Val Acc: 0.8263\n"
     ]
    },
    {
     "name": "stderr",
     "output_type": "stream",
     "text": [
      "Epoch 15/50 [Train]: 100%|██████████| 196/196 [00:12<00:00, 15.86it/s, loss=0.406]\n",
      "Epoch 15/50 [Val]: 100%|██████████| 116/116 [00:02<00:00, 43.82it/s, loss=0.354]\n"
     ]
    },
    {
     "name": "stdout",
     "output_type": "stream",
     "text": [
      "Epoch 15/50 | Train Loss: 0.3210 | Train Acc: 0.8687 | Val Loss: 0.4247 | Val Acc: 0.8210\n"
     ]
    },
    {
     "name": "stderr",
     "output_type": "stream",
     "text": [
      "Epoch 16/50 [Train]: 100%|██████████| 196/196 [00:11<00:00, 16.56it/s, loss=0.325]\n",
      "Epoch 16/50 [Val]: 100%|██████████| 116/116 [00:02<00:00, 43.92it/s, loss=0.402]\n"
     ]
    },
    {
     "name": "stdout",
     "output_type": "stream",
     "text": [
      "Epoch 16/50 | Train Loss: 0.3098 | Train Acc: 0.8754 | Val Loss: 0.4331 | Val Acc: 0.8197\n"
     ]
    },
    {
     "name": "stderr",
     "output_type": "stream",
     "text": [
      "Epoch 17/50 [Train]: 100%|██████████| 196/196 [00:11<00:00, 16.55it/s, loss=0.274]\n",
      "Epoch 17/50 [Val]: 100%|██████████| 116/116 [00:02<00:00, 43.77it/s, loss=0.294]\n"
     ]
    },
    {
     "name": "stdout",
     "output_type": "stream",
     "text": [
      "Epoch 17/50 | Train Loss: 0.3105 | Train Acc: 0.8729 | Val Loss: 0.4208 | Val Acc: 0.8199\n"
     ]
    },
    {
     "name": "stderr",
     "output_type": "stream",
     "text": [
      "Epoch 18/50 [Train]: 100%|██████████| 196/196 [00:11<00:00, 16.56it/s, loss=0.272]\n",
      "Epoch 18/50 [Val]: 100%|██████████| 116/116 [00:02<00:00, 43.89it/s, loss=0.342]\n"
     ]
    },
    {
     "name": "stdout",
     "output_type": "stream",
     "text": [
      "Epoch 18/50 | Train Loss: 0.2985 | Train Acc: 0.8781 | Val Loss: 0.4021 | Val Acc: 0.8106\n"
     ]
    },
    {
     "name": "stderr",
     "output_type": "stream",
     "text": [
      "Epoch 19/50 [Train]: 100%|██████████| 196/196 [00:11<00:00, 16.53it/s, loss=0.296]\n",
      "Epoch 19/50 [Val]: 100%|██████████| 116/116 [00:02<00:00, 44.02it/s, loss=0.335]\n"
     ]
    },
    {
     "name": "stdout",
     "output_type": "stream",
     "text": [
      "Epoch 19/50 | Train Loss: 0.2923 | Train Acc: 0.8814 | Val Loss: 0.4086 | Val Acc: 0.8304\n"
     ]
    },
    {
     "name": "stderr",
     "output_type": "stream",
     "text": [
      "Epoch 20/50 [Train]: 100%|██████████| 196/196 [00:11<00:00, 16.55it/s, loss=0.255]\n",
      "Epoch 20/50 [Val]: 100%|██████████| 116/116 [00:02<00:00, 43.86it/s, loss=0.38]\n"
     ]
    },
    {
     "name": "stdout",
     "output_type": "stream",
     "text": [
      "Epoch 20/50 | Train Loss: 0.2681 | Train Acc: 0.8916 | Val Loss: 0.4558 | Val Acc: 0.8225\n"
     ]
    },
    {
     "name": "stderr",
     "output_type": "stream",
     "text": [
      "Epoch 21/50 [Train]: 100%|██████████| 196/196 [00:11<00:00, 16.55it/s, loss=0.254]\n",
      "Epoch 21/50 [Val]: 100%|██████████| 116/116 [00:02<00:00, 44.12it/s, loss=0.378]\n"
     ]
    },
    {
     "name": "stdout",
     "output_type": "stream",
     "text": [
      "Epoch 21/50 | Train Loss: 0.2675 | Train Acc: 0.8934 | Val Loss: 0.4471 | Val Acc: 0.8248\n"
     ]
    },
    {
     "name": "stderr",
     "output_type": "stream",
     "text": [
      "Epoch 22/50 [Train]: 100%|██████████| 196/196 [00:11<00:00, 16.56it/s, loss=0.206]\n",
      "Epoch 22/50 [Val]: 100%|██████████| 116/116 [00:02<00:00, 44.07it/s, loss=0.394]\n"
     ]
    },
    {
     "name": "stdout",
     "output_type": "stream",
     "text": [
      "Epoch 22/50 | Train Loss: 0.2491 | Train Acc: 0.9002 | Val Loss: 0.4463 | Val Acc: 0.8135\n"
     ]
    },
    {
     "name": "stderr",
     "output_type": "stream",
     "text": [
      "Epoch 23/50 [Train]: 100%|██████████| 196/196 [00:11<00:00, 16.56it/s, loss=0.211]\n",
      "Epoch 23/50 [Val]: 100%|██████████| 116/116 [00:02<00:00, 44.14it/s, loss=0.434]\n"
     ]
    },
    {
     "name": "stdout",
     "output_type": "stream",
     "text": [
      "Epoch 23/50 | Train Loss: 0.2431 | Train Acc: 0.9047 | Val Loss: 0.4493 | Val Acc: 0.8213\n"
     ]
    },
    {
     "name": "stderr",
     "output_type": "stream",
     "text": [
      "Epoch 24/50 [Train]: 100%|██████████| 196/196 [00:11<00:00, 16.52it/s, loss=0.285]\n",
      "Epoch 24/50 [Val]: 100%|██████████| 116/116 [00:02<00:00, 44.20it/s, loss=0.4]\n"
     ]
    },
    {
     "name": "stdout",
     "output_type": "stream",
     "text": [
      "Epoch 24/50 | Train Loss: 0.2427 | Train Acc: 0.9062 | Val Loss: 0.4243 | Val Acc: 0.8285\n"
     ]
    },
    {
     "name": "stderr",
     "output_type": "stream",
     "text": [
      "Epoch 25/50 [Train]: 100%|██████████| 196/196 [00:11<00:00, 16.56it/s, loss=0.261]\n",
      "Epoch 25/50 [Val]: 100%|██████████| 116/116 [00:02<00:00, 43.85it/s, loss=0.396]\n"
     ]
    },
    {
     "name": "stdout",
     "output_type": "stream",
     "text": [
      "Epoch 25/50 | Train Loss: 0.2372 | Train Acc: 0.9060 | Val Loss: 0.4547 | Val Acc: 0.8192\n"
     ]
    },
    {
     "name": "stderr",
     "output_type": "stream",
     "text": [
      "Epoch 26/50 [Train]: 100%|██████████| 196/196 [00:11<00:00, 16.55it/s, loss=0.2]\n",
      "Epoch 26/50 [Val]: 100%|██████████| 116/116 [00:02<00:00, 43.84it/s, loss=0.411]\n"
     ]
    },
    {
     "name": "stdout",
     "output_type": "stream",
     "text": [
      "Epoch 26/50 | Train Loss: 0.2440 | Train Acc: 0.9030 | Val Loss: 0.4506 | Val Acc: 0.8183\n"
     ]
    },
    {
     "name": "stderr",
     "output_type": "stream",
     "text": [
      "Epoch 27/50 [Train]: 100%|██████████| 196/196 [00:12<00:00, 15.85it/s, loss=0.215]\n",
      "Epoch 27/50 [Val]: 100%|██████████| 116/116 [00:02<00:00, 43.95it/s, loss=0.502]\n"
     ]
    },
    {
     "name": "stdout",
     "output_type": "stream",
     "text": [
      "Epoch 27/50 | Train Loss: 0.2229 | Train Acc: 0.9143 | Val Loss: 0.4689 | Val Acc: 0.8255\n"
     ]
    },
    {
     "name": "stderr",
     "output_type": "stream",
     "text": [
      "Epoch 28/50 [Train]: 100%|██████████| 196/196 [00:11<00:00, 16.53it/s, loss=0.19]\n",
      "Epoch 28/50 [Val]: 100%|██████████| 116/116 [00:02<00:00, 43.86it/s, loss=0.496]\n"
     ]
    },
    {
     "name": "stdout",
     "output_type": "stream",
     "text": [
      "Epoch 28/50 | Train Loss: 0.2044 | Train Acc: 0.9228 | Val Loss: 0.4655 | Val Acc: 0.8295\n"
     ]
    },
    {
     "name": "stderr",
     "output_type": "stream",
     "text": [
      "Epoch 29/50 [Train]: 100%|██████████| 196/196 [00:11<00:00, 16.53it/s, loss=0.206]\n",
      "Epoch 29/50 [Val]: 100%|██████████| 116/116 [00:02<00:00, 43.92it/s, loss=0.587]\n"
     ]
    },
    {
     "name": "stdout",
     "output_type": "stream",
     "text": [
      "Epoch 29/50 | Train Loss: 0.1965 | Train Acc: 0.9254 | Val Loss: 0.4950 | Val Acc: 0.8280\n"
     ]
    },
    {
     "name": "stderr",
     "output_type": "stream",
     "text": [
      "Epoch 30/50 [Train]: 100%|██████████| 196/196 [00:11<00:00, 16.54it/s, loss=0.21]\n",
      "Epoch 30/50 [Val]: 100%|██████████| 116/116 [00:02<00:00, 44.06it/s, loss=0.535]\n"
     ]
    },
    {
     "name": "stdout",
     "output_type": "stream",
     "text": [
      "Epoch 30/50 | Train Loss: 0.1950 | Train Acc: 0.9266 | Val Loss: 0.4958 | Val Acc: 0.8142\n"
     ]
    },
    {
     "name": "stderr",
     "output_type": "stream",
     "text": [
      "Epoch 31/50 [Train]: 100%|██████████| 196/196 [00:11<00:00, 16.57it/s, loss=0.233]\n",
      "Epoch 31/50 [Val]: 100%|██████████| 116/116 [00:02<00:00, 43.94it/s, loss=0.586]\n"
     ]
    },
    {
     "name": "stdout",
     "output_type": "stream",
     "text": [
      "Epoch 31/50 | Train Loss: 0.1920 | Train Acc: 0.9281 | Val Loss: 0.4972 | Val Acc: 0.8224\n"
     ]
    },
    {
     "name": "stderr",
     "output_type": "stream",
     "text": [
      "Epoch 32/50 [Train]: 100%|██████████| 196/196 [00:11<00:00, 16.55it/s, loss=0.152]\n",
      "Epoch 32/50 [Val]: 100%|██████████| 116/116 [00:02<00:00, 43.81it/s, loss=0.629]\n"
     ]
    },
    {
     "name": "stdout",
     "output_type": "stream",
     "text": [
      "Epoch 32/50 | Train Loss: 0.1774 | Train Acc: 0.9337 | Val Loss: 0.5161 | Val Acc: 0.8244\n"
     ]
    },
    {
     "name": "stderr",
     "output_type": "stream",
     "text": [
      "Epoch 33/50 [Train]: 100%|██████████| 196/196 [00:11<00:00, 16.53it/s, loss=0.138]\n",
      "Epoch 33/50 [Val]: 100%|██████████| 116/116 [00:02<00:00, 44.02it/s, loss=0.553]\n"
     ]
    },
    {
     "name": "stdout",
     "output_type": "stream",
     "text": [
      "Epoch 33/50 | Train Loss: 0.1719 | Train Acc: 0.9361 | Val Loss: 0.5046 | Val Acc: 0.8237\n"
     ]
    },
    {
     "name": "stderr",
     "output_type": "stream",
     "text": [
      "Epoch 34/50 [Train]: 100%|██████████| 196/196 [00:11<00:00, 16.56it/s, loss=0.137]\n",
      "Epoch 34/50 [Val]: 100%|██████████| 116/116 [00:02<00:00, 43.88it/s, loss=0.549]\n"
     ]
    },
    {
     "name": "stdout",
     "output_type": "stream",
     "text": [
      "Epoch 34/50 | Train Loss: 0.1607 | Train Acc: 0.9410 | Val Loss: 0.5206 | Val Acc: 0.8193\n"
     ]
    },
    {
     "name": "stderr",
     "output_type": "stream",
     "text": [
      "Epoch 35/50 [Train]: 100%|██████████| 196/196 [00:11<00:00, 16.55it/s, loss=0.15]\n",
      "Epoch 35/50 [Val]: 100%|██████████| 116/116 [00:02<00:00, 43.94it/s, loss=0.581]\n"
     ]
    },
    {
     "name": "stdout",
     "output_type": "stream",
     "text": [
      "Epoch 35/50 | Train Loss: 0.1566 | Train Acc: 0.9425 | Val Loss: 0.5514 | Val Acc: 0.8209\n"
     ]
    },
    {
     "name": "stderr",
     "output_type": "stream",
     "text": [
      "Epoch 36/50 [Train]: 100%|██████████| 196/196 [00:11<00:00, 16.55it/s, loss=0.174]\n",
      "Epoch 36/50 [Val]: 100%|██████████| 116/116 [00:02<00:00, 44.07it/s, loss=0.552]\n"
     ]
    },
    {
     "name": "stdout",
     "output_type": "stream",
     "text": [
      "Epoch 36/50 | Train Loss: 0.1449 | Train Acc: 0.9460 | Val Loss: 0.5595 | Val Acc: 0.8225\n"
     ]
    },
    {
     "name": "stderr",
     "output_type": "stream",
     "text": [
      "Epoch 37/50 [Train]: 100%|██████████| 196/196 [00:11<00:00, 16.55it/s, loss=0.186]\n",
      "Epoch 37/50 [Val]: 100%|██████████| 116/116 [00:02<00:00, 43.94it/s, loss=0.577]\n"
     ]
    },
    {
     "name": "stdout",
     "output_type": "stream",
     "text": [
      "Epoch 37/50 | Train Loss: 0.1368 | Train Acc: 0.9501 | Val Loss: 0.5978 | Val Acc: 0.8122\n"
     ]
    },
    {
     "name": "stderr",
     "output_type": "stream",
     "text": [
      "Epoch 38/50 [Train]: 100%|██████████| 196/196 [00:11<00:00, 16.52it/s, loss=0.0626]\n",
      "Epoch 38/50 [Val]: 100%|██████████| 116/116 [00:03<00:00, 36.53it/s, loss=0.574]\n"
     ]
    },
    {
     "name": "stdout",
     "output_type": "stream",
     "text": [
      "Epoch 38/50 | Train Loss: 0.1296 | Train Acc: 0.9528 | Val Loss: 0.5686 | Val Acc: 0.8270\n"
     ]
    },
    {
     "name": "stderr",
     "output_type": "stream",
     "text": [
      "Epoch 39/50 [Train]: 100%|██████████| 196/196 [00:11<00:00, 16.56it/s, loss=0.151]\n",
      "Epoch 39/50 [Val]: 100%|██████████| 116/116 [00:02<00:00, 43.79it/s, loss=0.782]\n"
     ]
    },
    {
     "name": "stdout",
     "output_type": "stream",
     "text": [
      "Epoch 39/50 | Train Loss: 0.1216 | Train Acc: 0.9568 | Val Loss: 0.6048 | Val Acc: 0.8287\n"
     ]
    },
    {
     "name": "stderr",
     "output_type": "stream",
     "text": [
      "Epoch 40/50 [Train]: 100%|██████████| 196/196 [00:11<00:00, 16.57it/s, loss=0.057]\n",
      "Epoch 40/50 [Val]: 100%|██████████| 116/116 [00:02<00:00, 43.82it/s, loss=0.584]\n"
     ]
    },
    {
     "name": "stdout",
     "output_type": "stream",
     "text": [
      "Epoch 40/50 | Train Loss: 0.1373 | Train Acc: 0.9500 | Val Loss: 0.5665 | Val Acc: 0.8269\n"
     ]
    },
    {
     "name": "stderr",
     "output_type": "stream",
     "text": [
      "Epoch 41/50 [Train]: 100%|██████████| 196/196 [00:11<00:00, 16.56it/s, loss=0.136]\n",
      "Epoch 41/50 [Val]: 100%|██████████| 116/116 [00:02<00:00, 43.72it/s, loss=0.664]\n"
     ]
    },
    {
     "name": "stdout",
     "output_type": "stream",
     "text": [
      "Epoch 41/50 | Train Loss: 0.1158 | Train Acc: 0.9582 | Val Loss: 0.6226 | Val Acc: 0.8276\n"
     ]
    },
    {
     "name": "stderr",
     "output_type": "stream",
     "text": [
      "Epoch 42/50 [Train]: 100%|██████████| 196/196 [00:11<00:00, 16.54it/s, loss=0.173]\n",
      "Epoch 42/50 [Val]: 100%|██████████| 116/116 [00:02<00:00, 43.87it/s, loss=0.615]\n"
     ]
    },
    {
     "name": "stdout",
     "output_type": "stream",
     "text": [
      "Epoch 42/50 | Train Loss: 0.1109 | Train Acc: 0.9611 | Val Loss: 0.6718 | Val Acc: 0.8247\n"
     ]
    },
    {
     "name": "stderr",
     "output_type": "stream",
     "text": [
      "Epoch 43/50 [Train]: 100%|██████████| 196/196 [00:11<00:00, 16.53it/s, loss=0.0723]\n",
      "Epoch 43/50 [Val]: 100%|██████████| 116/116 [00:02<00:00, 43.89it/s, loss=0.681]\n"
     ]
    },
    {
     "name": "stdout",
     "output_type": "stream",
     "text": [
      "Epoch 43/50 | Train Loss: 0.1026 | Train Acc: 0.9638 | Val Loss: 0.6358 | Val Acc: 0.8236\n"
     ]
    },
    {
     "name": "stderr",
     "output_type": "stream",
     "text": [
      "Epoch 44/50 [Train]: 100%|██████████| 196/196 [00:11<00:00, 16.56it/s, loss=0.116]\n",
      "Epoch 44/50 [Val]: 100%|██████████| 116/116 [00:02<00:00, 43.82it/s, loss=0.646]\n"
     ]
    },
    {
     "name": "stdout",
     "output_type": "stream",
     "text": [
      "Epoch 44/50 | Train Loss: 0.1012 | Train Acc: 0.9642 | Val Loss: 0.6754 | Val Acc: 0.8271\n"
     ]
    },
    {
     "name": "stderr",
     "output_type": "stream",
     "text": [
      "Epoch 45/50 [Train]: 100%|██████████| 196/196 [00:11<00:00, 16.56it/s, loss=0.0782]\n",
      "Epoch 45/50 [Val]: 100%|██████████| 116/116 [00:02<00:00, 43.78it/s, loss=0.672]\n"
     ]
    },
    {
     "name": "stdout",
     "output_type": "stream",
     "text": [
      "Epoch 45/50 | Train Loss: 0.0997 | Train Acc: 0.9643 | Val Loss: 0.6860 | Val Acc: 0.8218\n"
     ]
    },
    {
     "name": "stderr",
     "output_type": "stream",
     "text": [
      "Epoch 46/50 [Train]: 100%|██████████| 196/196 [00:11<00:00, 16.56it/s, loss=0.104]\n",
      "Epoch 46/50 [Val]: 100%|██████████| 116/116 [00:02<00:00, 43.94it/s, loss=0.711]\n"
     ]
    },
    {
     "name": "stdout",
     "output_type": "stream",
     "text": [
      "Epoch 46/50 | Train Loss: 0.0928 | Train Acc: 0.9666 | Val Loss: 0.6938 | Val Acc: 0.8234\n"
     ]
    },
    {
     "name": "stderr",
     "output_type": "stream",
     "text": [
      "Epoch 47/50 [Train]: 100%|██████████| 196/196 [00:11<00:00, 16.52it/s, loss=0.0703]\n",
      "Epoch 47/50 [Val]: 100%|██████████| 116/116 [00:02<00:00, 43.96it/s, loss=0.68]\n"
     ]
    },
    {
     "name": "stdout",
     "output_type": "stream",
     "text": [
      "Epoch 47/50 | Train Loss: 0.0887 | Train Acc: 0.9682 | Val Loss: 0.6920 | Val Acc: 0.8257\n"
     ]
    },
    {
     "name": "stderr",
     "output_type": "stream",
     "text": [
      "Epoch 48/50 [Train]: 100%|██████████| 196/196 [00:11<00:00, 16.53it/s, loss=0.0671]\n",
      "Epoch 48/50 [Val]: 100%|██████████| 116/116 [00:02<00:00, 43.85it/s, loss=0.699]\n"
     ]
    },
    {
     "name": "stdout",
     "output_type": "stream",
     "text": [
      "Epoch 48/50 | Train Loss: 0.0842 | Train Acc: 0.9701 | Val Loss: 0.7435 | Val Acc: 0.8174\n"
     ]
    },
    {
     "name": "stderr",
     "output_type": "stream",
     "text": [
      "Epoch 49/50 [Train]: 100%|██████████| 196/196 [00:11<00:00, 16.55it/s, loss=0.0814]\n",
      "Epoch 49/50 [Val]: 100%|██████████| 116/116 [00:02<00:00, 43.75it/s, loss=0.719]\n"
     ]
    },
    {
     "name": "stdout",
     "output_type": "stream",
     "text": [
      "Epoch 49/50 | Train Loss: 0.0860 | Train Acc: 0.9693 | Val Loss: 0.7083 | Val Acc: 0.8270\n"
     ]
    },
    {
     "name": "stderr",
     "output_type": "stream",
     "text": [
      "Epoch 50/50 [Train]: 100%|██████████| 196/196 [00:12<00:00, 15.87it/s, loss=0.188]\n",
      "Epoch 50/50 [Val]: 100%|██████████| 116/116 [00:02<00:00, 43.98it/s, loss=0.653]"
     ]
    },
    {
     "name": "stdout",
     "output_type": "stream",
     "text": [
      "Epoch 50/50 | Train Loss: 0.0813 | Train Acc: 0.9718 | Val Loss: 0.6949 | Val Acc: 0.8301\n"
     ]
    },
    {
     "name": "stderr",
     "output_type": "stream",
     "text": [
      "\n"
     ]
    }
   ],
   "source": [
    "model = StackedBiLSTMModel(64, 128, 64, 20002)\n",
    "optimizer = optim.Adam(model.parameters(), lr=learning_rate)\n",
    "train_loop(model, True, 50, \"StackedBiLSTM\")"
   ]
  }
 ],
 "metadata": {
  "kaggle": {
   "accelerator": "nvidiaTeslaT4",
   "dataSources": [
    {
     "datasetId": 134715,
     "sourceId": 320111,
     "sourceType": "datasetVersion"
    }
   ],
   "dockerImageVersionId": 30919,
   "isGpuEnabled": true,
   "isInternetEnabled": true,
   "language": "python",
   "sourceType": "notebook"
  },
  "kernelspec": {
   "display_name": "Python 3",
   "language": "python",
   "name": "python3"
  },
  "language_info": {
   "codemirror_mode": {
    "name": "ipython",
    "version": 3
   },
   "file_extension": ".py",
   "mimetype": "text/x-python",
   "name": "python",
   "nbconvert_exporter": "python",
   "pygments_lexer": "ipython3",
   "version": "3.10.12"
  },
  "papermill": {
   "default_parameters": {},
   "duration": 2231.978505,
   "end_time": "2025-03-09T04:24:07.568813",
   "environment_variables": {},
   "exception": null,
   "input_path": "__notebook__.ipynb",
   "output_path": "__notebook__.ipynb",
   "parameters": {},
   "start_time": "2025-03-09T03:46:55.590308",
   "version": "2.6.0"
  }
 },
 "nbformat": 4,
 "nbformat_minor": 5
}
