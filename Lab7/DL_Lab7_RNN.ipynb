{
  "cells": [
    {
      "cell_type": "code",
      "execution_count": null,
      "metadata": {
        "colab": {
          "base_uri": "https://localhost:8080/"
        },
        "id": "Wj5quK5PsRbl",
        "outputId": "edd2023f-71ed-4d25-b562-ad82e8f5a9df"
      },
      "outputs": [
        {
          "name": "stdout",
          "output_type": "stream",
          "text": [
            "Downloading from https://www.kaggle.com/api/v1/datasets/download/shusrith/imbd-dataset-tokenized?dataset_version_number=4...\n"
          ]
        },
        {
          "name": "stderr",
          "output_type": "stream",
          "text": [
            "100%|██████████| 18.9M/18.9M [00:01<00:00, 10.0MB/s]"
          ]
        },
        {
          "name": "stdout",
          "output_type": "stream",
          "text": [
            "Extracting files...\n"
          ]
        },
        {
          "name": "stderr",
          "output_type": "stream",
          "text": [
            "\n"
          ]
        },
        {
          "name": "stdout",
          "output_type": "stream",
          "text": [
            "Path to dataset files: /root/.cache/kagglehub/datasets/shusrith/imbd-dataset-tokenized/versions/4\n"
          ]
        }
      ],
      "source": [
        "import kagglehub\n",
        "\n",
        "# Download latest version\n",
        "path = kagglehub.dataset_download(\"shusrith/imbd-dataset-tokenized\")\n",
        "\n",
        "print(\"Path to dataset files:\", path)"
      ]
    },
    {
      "cell_type": "code",
      "execution_count": 14,
      "metadata": {
        "colab": {
          "base_uri": "https://localhost:8080/",
          "height": 424
        },
        "id": "le5wOLd3sbza",
        "outputId": "e9aebd1f-2c51-4104-a488-bc223e462611"
      },
      "outputs": [
        {
          "data": {
            "text/html": [
              "<div>\n",
              "<style scoped>\n",
              "    .dataframe tbody tr th:only-of-type {\n",
              "        vertical-align: middle;\n",
              "    }\n",
              "\n",
              "    .dataframe tbody tr th {\n",
              "        vertical-align: top;\n",
              "    }\n",
              "\n",
              "    .dataframe thead th {\n",
              "        text-align: right;\n",
              "    }\n",
              "</style>\n",
              "<table border=\"1\" class=\"dataframe\">\n",
              "  <thead>\n",
              "    <tr style=\"text-align: right;\">\n",
              "      <th></th>\n",
              "      <th>review</th>\n",
              "      <th>sentiment</th>\n",
              "    </tr>\n",
              "  </thead>\n",
              "  <tbody>\n",
              "    <tr>\n",
              "      <th>0</th>\n",
              "      <td>[27, 4, 1, 75, 1944, 44, 1062, 11, 100, 143, 3...</td>\n",
              "      <td>1</td>\n",
              "    </tr>\n",
              "    <tr>\n",
              "      <th>1</th>\n",
              "      <td>[119, 203, 3258, 68, 13, 36, 1581, 8, 12, 2198...</td>\n",
              "      <td>1</td>\n",
              "    </tr>\n",
              "    <tr>\n",
              "      <th>2</th>\n",
              "      <td>[3, 384, 116, 356, 1, 1338, 2937, 6, 51, 17935...</td>\n",
              "      <td>1</td>\n",
              "    </tr>\n",
              "    <tr>\n",
              "      <th>3</th>\n",
              "      <td>[9, 192, 10, 12, 3, 384, 94, 5, 1120, 57, 19, ...</td>\n",
              "      <td>1</td>\n",
              "    </tr>\n",
              "    <tr>\n",
              "      <th>4</th>\n",
              "      <td>[667, 214, 3, 233, 113, 3, 116, 435, 3556, 120...</td>\n",
              "      <td>0</td>\n",
              "    </tr>\n",
              "    <tr>\n",
              "      <th>...</th>\n",
              "      <td>...</td>\n",
              "      <td>...</td>\n",
              "    </tr>\n",
              "    <tr>\n",
              "      <th>79534</th>\n",
              "      <td>[9, 227, 3, 3510, 4325, 7, 0, 8342, 4602, 31, ...</td>\n",
              "      <td>0</td>\n",
              "    </tr>\n",
              "    <tr>\n",
              "      <th>79535</th>\n",
              "      <td>[126, 109, 4, 82, 1, 1587, 4, 6509, 2263, 8903...</td>\n",
              "      <td>0</td>\n",
              "    </tr>\n",
              "    <tr>\n",
              "      <th>79536</th>\n",
              "      <td>[140, 161, 5, 24, 5, 2964, 14, 1, 899, 912, 2,...</td>\n",
              "      <td>0</td>\n",
              "    </tr>\n",
              "    <tr>\n",
              "      <th>79537</th>\n",
              "      <td>[700, 423, 2193, 17142, 1, 0, 11, 12204, 4212,...</td>\n",
              "      <td>0</td>\n",
              "    </tr>\n",
              "    <tr>\n",
              "      <th>79538</th>\n",
              "      <td>[54, 27, 5810, 1, 340, 2145, 91, 5, 25, 318, 5...</td>\n",
              "      <td>0</td>\n",
              "    </tr>\n",
              "  </tbody>\n",
              "</table>\n",
              "<p>79539 rows × 2 columns</p>\n",
              "</div>"
            ],
            "text/plain": [
              "                                                  review  sentiment\n",
              "0      [27, 4, 1, 75, 1944, 44, 1062, 11, 100, 143, 3...          1\n",
              "1      [119, 203, 3258, 68, 13, 36, 1581, 8, 12, 2198...          1\n",
              "2      [3, 384, 116, 356, 1, 1338, 2937, 6, 51, 17935...          1\n",
              "3      [9, 192, 10, 12, 3, 384, 94, 5, 1120, 57, 19, ...          1\n",
              "4      [667, 214, 3, 233, 113, 3, 116, 435, 3556, 120...          0\n",
              "...                                                  ...        ...\n",
              "79534  [9, 227, 3, 3510, 4325, 7, 0, 8342, 4602, 31, ...          0\n",
              "79535  [126, 109, 4, 82, 1, 1587, 4, 6509, 2263, 8903...          0\n",
              "79536  [140, 161, 5, 24, 5, 2964, 14, 1, 899, 912, 2,...          0\n",
              "79537  [700, 423, 2193, 17142, 1, 0, 11, 12204, 4212,...          0\n",
              "79538  [54, 27, 5810, 1, 340, 2145, 91, 5, 25, 318, 5...          0\n",
              "\n",
              "[79539 rows x 2 columns]"
            ]
          },
          "execution_count": 14,
          "metadata": {},
          "output_type": "execute_result"
        }
      ],
      "source": [
        "import pandas as pd\n",
        "df = pd.read_csv(\"data.csv\")\n",
        "df"
      ]
    },
    {
      "cell_type": "code",
      "execution_count": 15,
      "metadata": {
        "colab": {
          "base_uri": "https://localhost:8080/"
        },
        "id": "BFXGGTWmtAqK",
        "outputId": "6c098d47-24dd-4868-a23e-75612760994e"
      },
      "outputs": [
        {
          "data": {
            "text/plain": [
              "list"
            ]
          },
          "execution_count": 15,
          "metadata": {},
          "output_type": "execute_result"
        }
      ],
      "source": [
        "import ast\n",
        "df[\"review\"] = df[\"review\"].apply(lambda x: ast.literal_eval(x))\n",
        "type(df.iloc[0, 0])"
      ]
    },
    {
      "cell_type": "code",
      "execution_count": 16,
      "metadata": {
        "id": "logoQ45stnsJ"
      },
      "outputs": [],
      "source": [
        "import torch.nn as nn\n",
        "import torch\n",
        "\n",
        "\n",
        "class Model(nn.Module):\n",
        "    def __init__(self, embedding_dim, hidden_dim, vocab_size):\n",
        "        super(Model, self).__init__()\n",
        "        self.embedding = nn.Embedding(vocab_size, embedding_dim, padding_idx=0)\n",
        "        self.rnn = nn.RNN(embedding_dim, hidden_dim, batch_first=True)\n",
        "        self.fc = nn.Linear(hidden_dim, 1)\n",
        "        self.hidden_dim = hidden_dim\n",
        "\n",
        "    def forward(self, x, h=None):\n",
        "        x = self.embedding(x)\n",
        "\n",
        "        if h is None:\n",
        "            h = torch.zeros(1, x.size(0), self.hidden_dim).to(\n",
        "                \"cuda\"\n",
        "            )  \n",
        "\n",
        "        x, h = self.rnn(x, h)\n",
        "        x = x[:, -1, :] \n",
        "        x = self.fc(x)\n",
        "        return x, h.detach()  "
      ]
    },
    {
      "cell_type": "code",
      "execution_count": 17,
      "metadata": {
        "id": "2a9HcAsZG93t"
      },
      "outputs": [],
      "source": [
        "model = Model(64, 128, 30522)"
      ]
    },
    {
      "cell_type": "code",
      "execution_count": 18,
      "metadata": {
        "id": "qy6dBhC6HHUi"
      },
      "outputs": [],
      "source": [
        "import torch.optim as optim\n",
        "\n",
        "batch_size = 256\n",
        "seq_len = 200\n",
        "epochs = 10\n",
        "learning_rate = 0.001\n",
        "\n",
        "criterion = nn.BCEWithLogitsLoss()\n",
        "optimizer = optim.Adam(model.parameters(), lr=learning_rate)"
      ]
    },
    {
      "cell_type": "code",
      "execution_count": 19,
      "metadata": {
        "id": "N4zMgtmMIQ82"
      },
      "outputs": [],
      "source": [
        "from torch.utils.data import DataLoader, TensorDataset\n",
        "train = TensorDataset(\n",
        "    torch.tensor(df[\"review\"][:50000].tolist(), dtype=torch.long),\n",
        "    torch.tensor(df[\"sentiment\"][:50000].tolist(), dtype=torch.float32),\n",
        ")\n",
        "test = TensorDataset(\n",
        "    torch.tensor(df[\"review\"][50000:].tolist(), dtype=torch.long),\n",
        "    torch.tensor(df[\"sentiment\"][50000:].tolist(), dtype=torch.float32),\n",
        ")\n",
        "train_loader = DataLoader(train, batch_size=batch_size, shuffle=True)\n",
        "test_loader = DataLoader(test, batch_size=batch_size, shuffle=False)"
      ]
    },
    {
      "cell_type": "code",
      "execution_count": 20,
      "metadata": {
        "id": "RZECYzBCIntY"
      },
      "outputs": [],
      "source": [
        "vocab_size = 30522\n",
        "hidden_dim = 128"
      ]
    },
    {
      "cell_type": "code",
      "execution_count": null,
      "metadata": {
        "colab": {
          "base_uri": "https://localhost:8080/"
        },
        "id": "4kVLXhPGHSEr",
        "outputId": "c0fb46b8-a137-445a-c0e2-1cb4b06972fb"
      },
      "outputs": [],
      "source": [
        "from tqdm import tqdm\n",
        "\n",
        "model = model.to(\"cuda\")\n",
        "\n",
        "for epoch in range(epochs):\n",
        "    model.train()\n",
        "    train_tqdm = tqdm(train_loader, desc=f\"Epoch {epoch+1}/{epochs} [Train]\")\n",
        "\n",
        "    total_train_loss = 0\n",
        "    correct_train = 0\n",
        "    total_train = 0\n",
        "\n",
        "    for train_data, train_labels in train_tqdm:\n",
        "        train_data, train_labels = train_data.to(\"cuda\"), train_labels.to(\"cuda\")\n",
        "\n",
        "        optimizer.zero_grad()\n",
        "        output, _ = model(train_data)\n",
        "        output = output.squeeze()\n",
        "\n",
        "        loss = criterion(output, train_labels)\n",
        "        loss.backward()\n",
        "        optimizer.step()\n",
        "\n",
        "        predictions = (torch.sigmoid(output) > 0.5).float()  \n",
        "        correct_train += (predictions == train_labels).sum().item()\n",
        "        total_train += train_labels.size(0)\n",
        "\n",
        "        total_train_loss += loss.item()\n",
        "        train_tqdm.set_postfix(loss=loss.item())\n",
        "\n",
        "    avg_train_loss = total_train_loss / len(train_loader)\n",
        "    train_acc = correct_train / total_train\n",
        "\n",
        "    # ------------------- Validation Loop -------------------\n",
        "    model.eval()\n",
        "    val_tqdm = tqdm(test_loader, desc=f\"Epoch {epoch+1}/{epochs} [Val]\")\n",
        "\n",
        "    total_val_loss = 0\n",
        "    correct_val = 0\n",
        "    total_val = 0\n",
        "\n",
        "    with torch.no_grad():\n",
        "        for val_data, val_labels in val_tqdm:\n",
        "            val_data, val_labels = val_data.to(\"cuda\"), val_labels.to(\"cuda\")\n",
        "\n",
        "            output, _ = model(val_data)\n",
        "            output = output.squeeze()\n",
        "\n",
        "            loss = criterion(output, val_labels)\n",
        "            total_val_loss += loss.item()\n",
        "\n",
        "            predictions = (torch.sigmoid(output) > 0.5).float()\n",
        "            correct_val += (predictions == val_labels).sum().item()\n",
        "            total_val += val_labels.size(0)\n",
        "\n",
        "            val_tqdm.set_postfix(loss=loss.item())\n",
        "\n",
        "    avg_val_loss = total_val_loss / len(test_loader)\n",
        "    val_acc = correct_val / total_val\n",
        "\n",
        "    print(\n",
        "        f\"Epoch {epoch+1}/{epochs} | Train Loss: {avg_train_loss:.4f} | Train Acc: {train_acc:.4f} | Val Loss: {avg_val_loss:.4f} | Val Acc: {val_acc:.4f}\"\n",
        "    )"
      ]
    },
    {
      "cell_type": "code",
      "execution_count": 35,
      "metadata": {
        "colab": {
          "base_uri": "https://localhost:8080/"
        },
        "id": "zHJ24KFJJQ3K",
        "outputId": "be31bd4d-e521-45a8-a98a-17f34de90527"
      },
      "outputs": [
        {
          "data": {
            "text/plain": [
              "tensor([0.6199, 0.3544], device='cuda:0')"
            ]
          },
          "execution_count": 35,
          "metadata": {},
          "output_type": "execute_result"
        }
      ],
      "source": [
        "torch.nn.functional.sigmoid(output)"
      ]
    },
    {
      "cell_type": "code",
      "execution_count": 61,
      "metadata": {
        "id": "9RfDgb2eLASX"
      },
      "outputs": [
        {
          "name": "stderr",
          "output_type": "stream",
          "text": [
            "2025-03-06 06:21:37.338819: I tensorflow/core/util/port.cc:153] oneDNN custom operations are on. You may see slightly different numerical results due to floating-point round-off errors from different computation orders. To turn them off, set the environment variable `TF_ENABLE_ONEDNN_OPTS=0`.\n",
            "2025-03-06 06:21:37.433953: E external/local_xla/xla/stream_executor/cuda/cuda_fft.cc:485] Unable to register cuFFT factory: Attempting to register factory for plugin cuFFT when one has already been registered\n",
            "2025-03-06 06:21:37.472817: E external/local_xla/xla/stream_executor/cuda/cuda_dnn.cc:8454] Unable to register cuDNN factory: Attempting to register factory for plugin cuDNN when one has already been registered\n",
            "2025-03-06 06:21:37.485991: E external/local_xla/xla/stream_executor/cuda/cuda_blas.cc:1452] Unable to register cuBLAS factory: Attempting to register factory for plugin cuBLAS when one has already been registered\n",
            "2025-03-06 06:21:37.559474: I tensorflow/core/platform/cpu_feature_guard.cc:210] This TensorFlow binary is optimized to use available CPU instructions in performance-critical operations.\n",
            "To enable the following instructions: AVX2 AVX_VNNI FMA, in other operations, rebuild TensorFlow with the appropriate compiler flags.\n",
            "2025-03-06 06:21:38.453346: W tensorflow/compiler/tf2tensorrt/utils/py_utils.cc:38] TF-TRT Warning: Could not find TensorRT\n"
          ]
        },
        {
          "name": "stdout",
          "output_type": "stream",
          "text": [
            "Downloading data from https://storage.googleapis.com/tensorflow/tf-keras-datasets/imdb.npz\n",
            "\u001b[1m17464789/17464789\u001b[0m \u001b[32m━━━━━━━━━━━━━━━━━━━━\u001b[0m\u001b[37m\u001b[0m \u001b[1m3s\u001b[0m 0us/step\n",
            "Epoch 1/5\n"
          ]
        },
        {
          "name": "stderr",
          "output_type": "stream",
          "text": [
            "/home/shusrith/projects/torch/lib/python3.12/site-packages/keras/src/layers/core/embedding.py:90: UserWarning: Argument `input_length` is deprecated. Just remove it.\n",
            "  warnings.warn(\n",
            "WARNING: All log messages before absl::InitializeLog() is called are written to STDERR\n",
            "I0000 00:00:1741222305.679446    6351 cuda_executor.cc:1015] successful NUMA node read from SysFS had negative value (-1), but there must be at least one NUMA node, so returning NUMA node zero. See more at https://github.com/torvalds/linux/blob/v6.0/Documentation/ABI/testing/sysfs-bus-pci#L344-L355\n",
            "2025-03-06 06:21:45.682150: W tensorflow/core/common_runtime/gpu/gpu_device.cc:2343] Cannot dlopen some GPU libraries. Please make sure the missing libraries mentioned above are installed properly if you would like to use GPU. Follow the guide at https://www.tensorflow.org/install/gpu for how to download and setup the required libraries for your platform.\n",
            "Skipping registering GPU devices...\n"
          ]
        },
        {
          "name": "stdout",
          "output_type": "stream",
          "text": [
            "\u001b[1m391/391\u001b[0m \u001b[32m━━━━━━━━━━━━━━━━━━━━\u001b[0m\u001b[37m\u001b[0m \u001b[1m52s\u001b[0m 127ms/step - accuracy: 0.5541 - loss: 0.6772 - val_accuracy: 0.5771 - val_loss: 0.6544\n",
            "Epoch 2/5\n",
            "\u001b[1m391/391\u001b[0m \u001b[32m━━━━━━━━━━━━━━━━━━━━\u001b[0m\u001b[37m\u001b[0m \u001b[1m55s\u001b[0m 140ms/step - accuracy: 0.5220 - loss: 0.6883 - val_accuracy: 0.5375 - val_loss: 0.6902\n",
            "Epoch 3/5\n",
            "\u001b[1m391/391\u001b[0m \u001b[32m━━━━━━━━━━━━━━━━━━━━\u001b[0m\u001b[37m\u001b[0m \u001b[1m54s\u001b[0m 137ms/step - accuracy: 0.5419 - loss: 0.6867 - val_accuracy: 0.5820 - val_loss: 0.6738\n",
            "Epoch 4/5\n",
            "\u001b[1m391/391\u001b[0m \u001b[32m━━━━━━━━━━━━━━━━━━━━\u001b[0m\u001b[37m\u001b[0m \u001b[1m51s\u001b[0m 130ms/step - accuracy: 0.6780 - loss: 0.5948 - val_accuracy: 0.7869 - val_loss: 0.4881\n",
            "Epoch 5/5\n",
            "\u001b[1m391/391\u001b[0m \u001b[32m━━━━━━━━━━━━━━━━━━━━\u001b[0m\u001b[37m\u001b[0m \u001b[1m56s\u001b[0m 143ms/step - accuracy: 0.8356 - loss: 0.3868 - val_accuracy: 0.8398 - val_loss: 0.3737\n",
            "\u001b[1m782/782\u001b[0m \u001b[32m━━━━━━━━━━━━━━━━━━━━\u001b[0m\u001b[37m\u001b[0m \u001b[1m17s\u001b[0m 22ms/step - accuracy: 0.8413 - loss: 0.3729\n",
            "Test Accuracy: 0.8398\n"
          ]
        }
      ],
      "source": [
        "import tensorflow as tf\n",
        "from tensorflow import keras\n",
        "from tensorflow.keras.preprocessing.sequence import pad_sequences\n",
        "from tensorflow.keras.datasets import imdb\n",
        "import numpy as np\n",
        "\n",
        "# Set parameters\n",
        "vocab_size = 10000  # Number of words to keep based on frequency\n",
        "max_length = 200  # Max length of a review\n",
        "embedding_dim = 128  # Embedding vector size\n",
        "lstm_units = 64  # Number of LSTM units\n",
        "batch_size = 64\n",
        "epochs = 5\n",
        "\n",
        "# Load IMDB dataset\n",
        "(x_train, y_train), (x_test, y_test) = imdb.load_data(num_words=vocab_size)\n",
        "\n",
        "# Pad sequences to ensure uniform length\n",
        "x_train = pad_sequences(x_train, maxlen=max_length, padding=\"post\", truncating=\"post\")\n",
        "x_test = pad_sequences(x_test, maxlen=max_length, padding=\"post\", truncating=\"post\")\n",
        "\n",
        "# Build the LSTM model\n",
        "model = keras.Sequential(\n",
        "    [\n",
        "        keras.layers.Embedding(vocab_size, embedding_dim, input_length=max_length),\n",
        "        keras.layers.LSTM(lstm_units, return_sequences=True),\n",
        "        keras.layers.LSTM(lstm_units),\n",
        "        keras.layers.Dense(64, activation=\"relu\"),\n",
        "        keras.layers.Dense(\n",
        "            1, activation=\"sigmoid\"\n",
        "        ),  # Binary classification (positive/negative)\n",
        "    ]\n",
        ")\n",
        "\n",
        "# Compile the model\n",
        "model.compile(optimizer=\"adam\", loss=\"binary_crossentropy\", metrics=[\"accuracy\"])\n",
        "\n",
        "# Train the model\n",
        "model.fit(\n",
        "    x_train,\n",
        "    y_train,\n",
        "    batch_size=batch_size,\n",
        "    epochs=epochs,\n",
        "    validation_data=(x_test, y_test),\n",
        ")\n",
        "\n",
        "# Evaluate the model\n",
        "loss, accuracy = model.evaluate(x_test, y_test)\n",
        "print(f\"Test Accuracy: {accuracy:.4f}\")"
      ]
    },
    {
      "cell_type": "code",
      "execution_count": null,
      "metadata": {},
      "outputs": [],
      "source": []
    }
  ],
  "metadata": {
    "accelerator": "GPU",
    "colab": {
      "gpuType": "T4",
      "provenance": []
    },
    "kernelspec": {
      "display_name": "Python (myenv)",
      "language": "python",
      "name": "torch"
    },
    "language_info": {
      "codemirror_mode": {
        "name": "ipython",
        "version": 3
      },
      "file_extension": ".py",
      "mimetype": "text/x-python",
      "name": "python",
      "nbconvert_exporter": "python",
      "pygments_lexer": "ipython3",
      "version": "3.12.3"
    }
  },
  "nbformat": 4,
  "nbformat_minor": 0
}
