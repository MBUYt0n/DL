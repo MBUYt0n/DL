{
 "cells": [
  {
   "cell_type": "code",
   "execution_count": 1,
   "id": "a9aa6b97",
   "metadata": {
    "_cell_guid": "b1076dfc-b9ad-4769-8c92-a6c4dae69d19",
    "_uuid": "8f2839f25d086af736a60e9eeb907d3b93b6e0e5",
    "execution": {
     "iopub.execute_input": "2025-03-09T07:26:05.095056Z",
     "iopub.status.busy": "2025-03-09T07:26:05.094756Z",
     "iopub.status.idle": "2025-03-09T07:26:07.035029Z",
     "shell.execute_reply": "2025-03-09T07:26:07.034238Z"
    },
    "papermill": {
     "duration": 1.947674,
     "end_time": "2025-03-09T07:26:07.036473",
     "exception": false,
     "start_time": "2025-03-09T07:26:05.088799",
     "status": "completed"
    },
    "tags": []
   },
   "outputs": [
    {
     "data": {
      "text/html": [
       "<div>\n",
       "<style scoped>\n",
       "    .dataframe tbody tr th:only-of-type {\n",
       "        vertical-align: middle;\n",
       "    }\n",
       "\n",
       "    .dataframe tbody tr th {\n",
       "        vertical-align: top;\n",
       "    }\n",
       "\n",
       "    .dataframe thead th {\n",
       "        text-align: right;\n",
       "    }\n",
       "</style>\n",
       "<table border=\"1\" class=\"dataframe\">\n",
       "  <thead>\n",
       "    <tr style=\"text-align: right;\">\n",
       "      <th></th>\n",
       "      <th>review</th>\n",
       "      <th>sentiment</th>\n",
       "    </tr>\n",
       "  </thead>\n",
       "  <tbody>\n",
       "    <tr>\n",
       "      <th>0</th>\n",
       "      <td>One of the other reviewers has mentioned that ...</td>\n",
       "      <td>positive</td>\n",
       "    </tr>\n",
       "    <tr>\n",
       "      <th>1</th>\n",
       "      <td>A wonderful little production. &lt;br /&gt;&lt;br /&gt;The...</td>\n",
       "      <td>positive</td>\n",
       "    </tr>\n",
       "    <tr>\n",
       "      <th>2</th>\n",
       "      <td>I thought this was a wonderful way to spend ti...</td>\n",
       "      <td>positive</td>\n",
       "    </tr>\n",
       "    <tr>\n",
       "      <th>3</th>\n",
       "      <td>Basically there's a family where a little boy ...</td>\n",
       "      <td>negative</td>\n",
       "    </tr>\n",
       "    <tr>\n",
       "      <th>4</th>\n",
       "      <td>Petter Mattei's \"Love in the Time of Money\" is...</td>\n",
       "      <td>positive</td>\n",
       "    </tr>\n",
       "    <tr>\n",
       "      <th>...</th>\n",
       "      <td>...</td>\n",
       "      <td>...</td>\n",
       "    </tr>\n",
       "    <tr>\n",
       "      <th>49995</th>\n",
       "      <td>I thought this movie did a down right good job...</td>\n",
       "      <td>positive</td>\n",
       "    </tr>\n",
       "    <tr>\n",
       "      <th>49996</th>\n",
       "      <td>Bad plot, bad dialogue, bad acting, idiotic di...</td>\n",
       "      <td>negative</td>\n",
       "    </tr>\n",
       "    <tr>\n",
       "      <th>49997</th>\n",
       "      <td>I am a Catholic taught in parochial elementary...</td>\n",
       "      <td>negative</td>\n",
       "    </tr>\n",
       "    <tr>\n",
       "      <th>49998</th>\n",
       "      <td>I'm going to have to disagree with the previou...</td>\n",
       "      <td>negative</td>\n",
       "    </tr>\n",
       "    <tr>\n",
       "      <th>49999</th>\n",
       "      <td>No one expects the Star Trek movies to be high...</td>\n",
       "      <td>negative</td>\n",
       "    </tr>\n",
       "  </tbody>\n",
       "</table>\n",
       "<p>50000 rows × 2 columns</p>\n",
       "</div>"
      ],
      "text/plain": [
       "                                                  review sentiment\n",
       "0      One of the other reviewers has mentioned that ...  positive\n",
       "1      A wonderful little production. <br /><br />The...  positive\n",
       "2      I thought this was a wonderful way to spend ti...  positive\n",
       "3      Basically there's a family where a little boy ...  negative\n",
       "4      Petter Mattei's \"Love in the Time of Money\" is...  positive\n",
       "...                                                  ...       ...\n",
       "49995  I thought this movie did a down right good job...  positive\n",
       "49996  Bad plot, bad dialogue, bad acting, idiotic di...  negative\n",
       "49997  I am a Catholic taught in parochial elementary...  negative\n",
       "49998  I'm going to have to disagree with the previou...  negative\n",
       "49999  No one expects the Star Trek movies to be high...  negative\n",
       "\n",
       "[50000 rows x 2 columns]"
      ]
     },
     "execution_count": 1,
     "metadata": {},
     "output_type": "execute_result"
    }
   ],
   "source": [
    "import pandas as pd\n",
    "df = pd.read_csv('/kaggle/input/imdb-dataset-of-50k-movie-reviews/IMDB Dataset.csv')\n",
    "df\n"
   ]
  },
  {
   "cell_type": "code",
   "execution_count": 2,
   "id": "7806244c",
   "metadata": {
    "execution": {
     "iopub.execute_input": "2025-03-09T07:26:07.046479Z",
     "iopub.status.busy": "2025-03-09T07:26:07.046256Z",
     "iopub.status.idle": "2025-03-09T07:26:08.328598Z",
     "shell.execute_reply": "2025-03-09T07:26:08.327643Z"
    },
    "papermill": {
     "duration": 1.288676,
     "end_time": "2025-03-09T07:26:08.330094",
     "exception": false,
     "start_time": "2025-03-09T07:26:07.041418",
     "status": "completed"
    },
    "tags": []
   },
   "outputs": [
    {
     "data": {
      "text/html": [
       "<div>\n",
       "<style scoped>\n",
       "    .dataframe tbody tr th:only-of-type {\n",
       "        vertical-align: middle;\n",
       "    }\n",
       "\n",
       "    .dataframe tbody tr th {\n",
       "        vertical-align: top;\n",
       "    }\n",
       "\n",
       "    .dataframe thead th {\n",
       "        text-align: right;\n",
       "    }\n",
       "</style>\n",
       "<table border=\"1\" class=\"dataframe\">\n",
       "  <thead>\n",
       "    <tr style=\"text-align: right;\">\n",
       "      <th></th>\n",
       "      <th>review</th>\n",
       "      <th>sentiment</th>\n",
       "    </tr>\n",
       "  </thead>\n",
       "  <tbody>\n",
       "    <tr>\n",
       "      <th>0</th>\n",
       "      <td>one of the other reviewers has mentioned that ...</td>\n",
       "      <td>1</td>\n",
       "    </tr>\n",
       "    <tr>\n",
       "      <th>1</th>\n",
       "      <td>a wonderful little production   the filming te...</td>\n",
       "      <td>1</td>\n",
       "    </tr>\n",
       "    <tr>\n",
       "      <th>2</th>\n",
       "      <td>i thought this was a wonderful way to spend ti...</td>\n",
       "      <td>1</td>\n",
       "    </tr>\n",
       "    <tr>\n",
       "      <th>3</th>\n",
       "      <td>basically theres a family where a little boy j...</td>\n",
       "      <td>0</td>\n",
       "    </tr>\n",
       "    <tr>\n",
       "      <th>4</th>\n",
       "      <td>petter matteis love in the time of money is a ...</td>\n",
       "      <td>1</td>\n",
       "    </tr>\n",
       "    <tr>\n",
       "      <th>...</th>\n",
       "      <td>...</td>\n",
       "      <td>...</td>\n",
       "    </tr>\n",
       "    <tr>\n",
       "      <th>49995</th>\n",
       "      <td>i thought this movie did a down right good job...</td>\n",
       "      <td>1</td>\n",
       "    </tr>\n",
       "    <tr>\n",
       "      <th>49996</th>\n",
       "      <td>bad plot bad dialogue bad acting idiotic direc...</td>\n",
       "      <td>0</td>\n",
       "    </tr>\n",
       "    <tr>\n",
       "      <th>49997</th>\n",
       "      <td>i am a catholic taught in parochial elementary...</td>\n",
       "      <td>0</td>\n",
       "    </tr>\n",
       "    <tr>\n",
       "      <th>49998</th>\n",
       "      <td>im going to have to disagree with the previous...</td>\n",
       "      <td>0</td>\n",
       "    </tr>\n",
       "    <tr>\n",
       "      <th>49999</th>\n",
       "      <td>no one expects the star trek movies to be high...</td>\n",
       "      <td>0</td>\n",
       "    </tr>\n",
       "  </tbody>\n",
       "</table>\n",
       "<p>50000 rows × 2 columns</p>\n",
       "</div>"
      ],
      "text/plain": [
       "                                                  review  sentiment\n",
       "0      one of the other reviewers has mentioned that ...          1\n",
       "1      a wonderful little production   the filming te...          1\n",
       "2      i thought this was a wonderful way to spend ti...          1\n",
       "3      basically theres a family where a little boy j...          0\n",
       "4      petter matteis love in the time of money is a ...          1\n",
       "...                                                  ...        ...\n",
       "49995  i thought this movie did a down right good job...          1\n",
       "49996  bad plot bad dialogue bad acting idiotic direc...          0\n",
       "49997  i am a catholic taught in parochial elementary...          0\n",
       "49998  im going to have to disagree with the previous...          0\n",
       "49999  no one expects the star trek movies to be high...          0\n",
       "\n",
       "[50000 rows x 2 columns]"
      ]
     },
     "execution_count": 2,
     "metadata": {},
     "output_type": "execute_result"
    }
   ],
   "source": [
    "import re\n",
    "\n",
    "\n",
    "def preproc(x):\n",
    "    x = re.sub(r\"<br\\s*/?>\", \" \", x)  \n",
    "    x = re.sub(r\"[^a-zA-Z0-9\\s]\", \"\", x) \n",
    "    x = x.lower()  \n",
    "    return x\n",
    "\n",
    "\n",
    "df[\"review\"] = df[\"review\"].apply(preproc)\n",
    "df[\"sentiment\"] = df[\"sentiment\"].map({\"positive\": 1, \"negative\": 0})\n",
    "df"
   ]
  },
  {
   "cell_type": "code",
   "execution_count": 3,
   "id": "1b3453aa",
   "metadata": {
    "execution": {
     "iopub.execute_input": "2025-03-09T07:26:08.343905Z",
     "iopub.status.busy": "2025-03-09T07:26:08.343611Z",
     "iopub.status.idle": "2025-03-09T07:26:08.412447Z",
     "shell.execute_reply": "2025-03-09T07:26:08.411191Z"
    },
    "papermill": {
     "duration": 0.077168,
     "end_time": "2025-03-09T07:26:08.413992",
     "exception": false,
     "start_time": "2025-03-09T07:26:08.336824",
     "status": "completed"
    },
    "tags": []
   },
   "outputs": [],
   "source": [
    "corpus = \" \".join(df[\"review\"].tolist())"
   ]
  },
  {
   "cell_type": "code",
   "execution_count": 4,
   "id": "c23d05b4",
   "metadata": {
    "execution": {
     "iopub.execute_input": "2025-03-09T07:26:08.431238Z",
     "iopub.status.busy": "2025-03-09T07:26:08.430814Z",
     "iopub.status.idle": "2025-03-09T07:26:11.027049Z",
     "shell.execute_reply": "2025-03-09T07:26:11.026377Z"
    },
    "papermill": {
     "duration": 2.608585,
     "end_time": "2025-03-09T07:26:11.028500",
     "exception": false,
     "start_time": "2025-03-09T07:26:08.419915",
     "status": "completed"
    },
    "tags": []
   },
   "outputs": [],
   "source": [
    "from collections import Counter\n",
    "\n",
    "vocab_size = 20000\n",
    "word_freq = Counter(corpus.split())\n",
    "most_freq = sorted(word_freq.items(), key=lambda x: x[1], reverse=True)\n",
    "most_freq_words = [word for word, freq in most_freq[:vocab_size]]\n",
    "vocab = {word: i + 1 for i, word in enumerate(most_freq_words)}"
   ]
  },
  {
   "cell_type": "code",
   "execution_count": 5,
   "id": "addec3d1",
   "metadata": {
    "execution": {
     "iopub.execute_input": "2025-03-09T07:26:11.038630Z",
     "iopub.status.busy": "2025-03-09T07:26:11.038377Z",
     "iopub.status.idle": "2025-03-09T07:26:11.063057Z",
     "shell.execute_reply": "2025-03-09T07:26:11.062270Z"
    },
    "papermill": {
     "duration": 0.031071,
     "end_time": "2025-03-09T07:26:11.064429",
     "exception": false,
     "start_time": "2025-03-09T07:26:11.033358",
     "status": "completed"
    },
    "tags": []
   },
   "outputs": [],
   "source": [
    "import json\n",
    "with open(\"vocab.json\", \"w\") as f:\n",
    "    json.dump(vocab, f)"
   ]
  },
  {
   "cell_type": "code",
   "execution_count": 6,
   "id": "7b8e0e96",
   "metadata": {
    "execution": {
     "iopub.execute_input": "2025-03-09T07:26:11.074320Z",
     "iopub.status.busy": "2025-03-09T07:26:11.074071Z",
     "iopub.status.idle": "2025-03-09T07:26:13.233556Z",
     "shell.execute_reply": "2025-03-09T07:26:13.232693Z"
    },
    "papermill": {
     "duration": 2.16579,
     "end_time": "2025-03-09T07:26:13.234863",
     "exception": false,
     "start_time": "2025-03-09T07:26:11.069073",
     "status": "completed"
    },
    "tags": []
   },
   "outputs": [
    {
     "data": {
      "text/html": [
       "<div>\n",
       "<style scoped>\n",
       "    .dataframe tbody tr th:only-of-type {\n",
       "        vertical-align: middle;\n",
       "    }\n",
       "\n",
       "    .dataframe tbody tr th {\n",
       "        vertical-align: top;\n",
       "    }\n",
       "\n",
       "    .dataframe thead th {\n",
       "        text-align: right;\n",
       "    }\n",
       "</style>\n",
       "<table border=\"1\" class=\"dataframe\">\n",
       "  <thead>\n",
       "    <tr style=\"text-align: right;\">\n",
       "      <th></th>\n",
       "      <th>review</th>\n",
       "      <th>sentiment</th>\n",
       "    </tr>\n",
       "  </thead>\n",
       "  <tbody>\n",
       "    <tr>\n",
       "      <th>0</th>\n",
       "      <td>[27, 4, 1, 75, 1944, 44, 1062, 11, 100, 143, 3...</td>\n",
       "      <td>1</td>\n",
       "    </tr>\n",
       "    <tr>\n",
       "      <th>1</th>\n",
       "      <td>[3, 384, 116, 356, 1, 1338, 2937, 6, 51, 17935...</td>\n",
       "      <td>1</td>\n",
       "    </tr>\n",
       "    <tr>\n",
       "      <th>2</th>\n",
       "      <td>[9, 192, 10, 12, 3, 384, 94, 5, 1120, 57, 19, ...</td>\n",
       "      <td>1</td>\n",
       "    </tr>\n",
       "    <tr>\n",
       "      <th>3</th>\n",
       "      <td>[667, 214, 3, 233, 113, 3, 116, 435, 3556, 120...</td>\n",
       "      <td>0</td>\n",
       "    </tr>\n",
       "    <tr>\n",
       "      <th>4</th>\n",
       "      <td>[0, 0, 109, 7, 1, 57, 4, 285, 6, 3, 2077, 1375...</td>\n",
       "      <td>1</td>\n",
       "    </tr>\n",
       "    <tr>\n",
       "      <th>...</th>\n",
       "      <td>...</td>\n",
       "      <td>...</td>\n",
       "    </tr>\n",
       "    <tr>\n",
       "      <th>49995</th>\n",
       "      <td>[9, 192, 10, 16, 112, 3, 181, 200, 48, 286, 8,...</td>\n",
       "      <td>1</td>\n",
       "    </tr>\n",
       "    <tr>\n",
       "      <th>49996</th>\n",
       "      <td>[77, 111, 77, 402, 77, 110, 2997, 963, 1, 626,...</td>\n",
       "      <td>0</td>\n",
       "    </tr>\n",
       "    <tr>\n",
       "      <th>49997</th>\n",
       "      <td>[9, 227, 3, 3510, 4325, 7, 0, 8342, 4602, 31, ...</td>\n",
       "      <td>0</td>\n",
       "    </tr>\n",
       "    <tr>\n",
       "      <th>49998</th>\n",
       "      <td>[140, 161, 5, 24, 5, 2964, 14, 1, 899, 912, 2,...</td>\n",
       "      <td>0</td>\n",
       "    </tr>\n",
       "    <tr>\n",
       "      <th>49999</th>\n",
       "      <td>[54, 27, 5810, 1, 340, 2145, 91, 5, 25, 318, 5...</td>\n",
       "      <td>0</td>\n",
       "    </tr>\n",
       "  </tbody>\n",
       "</table>\n",
       "<p>50000 rows × 2 columns</p>\n",
       "</div>"
      ],
      "text/plain": [
       "                                                  review  sentiment\n",
       "0      [27, 4, 1, 75, 1944, 44, 1062, 11, 100, 143, 3...          1\n",
       "1      [3, 384, 116, 356, 1, 1338, 2937, 6, 51, 17935...          1\n",
       "2      [9, 192, 10, 12, 3, 384, 94, 5, 1120, 57, 19, ...          1\n",
       "3      [667, 214, 3, 233, 113, 3, 116, 435, 3556, 120...          0\n",
       "4      [0, 0, 109, 7, 1, 57, 4, 285, 6, 3, 2077, 1375...          1\n",
       "...                                                  ...        ...\n",
       "49995  [9, 192, 10, 16, 112, 3, 181, 200, 48, 286, 8,...          1\n",
       "49996  [77, 111, 77, 402, 77, 110, 2997, 963, 1, 626,...          0\n",
       "49997  [9, 227, 3, 3510, 4325, 7, 0, 8342, 4602, 31, ...          0\n",
       "49998  [140, 161, 5, 24, 5, 2964, 14, 1, 899, 912, 2,...          0\n",
       "49999  [54, 27, 5810, 1, 340, 2145, 91, 5, 25, 318, 5...          0\n",
       "\n",
       "[50000 rows x 2 columns]"
      ]
     },
     "execution_count": 6,
     "metadata": {},
     "output_type": "execute_result"
    }
   ],
   "source": [
    "def encode(text):\n",
    "    return [vocab.get(word, 0) for word in text.split()]\n",
    "\n",
    "df[\"review\"] = df[\"review\"].apply(encode)\n",
    "df"
   ]
  },
  {
   "cell_type": "code",
   "execution_count": 7,
   "id": "7bcee296",
   "metadata": {
    "execution": {
     "iopub.execute_input": "2025-03-09T07:26:13.245469Z",
     "iopub.status.busy": "2025-03-09T07:26:13.245178Z",
     "iopub.status.idle": "2025-03-09T07:26:16.019547Z",
     "shell.execute_reply": "2025-03-09T07:26:16.018821Z"
    },
    "papermill": {
     "duration": 2.781246,
     "end_time": "2025-03-09T07:26:16.021083",
     "exception": false,
     "start_time": "2025-03-09T07:26:13.239837",
     "status": "completed"
    },
    "tags": []
   },
   "outputs": [],
   "source": [
    "max_len = 200  \n",
    "new_data = []\n",
    "\n",
    "for i, row in df.iterrows():\n",
    "    full_review = row[\"review\"]\n",
    "    sentiment = row[\"sentiment\"]\n",
    "    chunks = [full_review[j : j + max_len] for j in range(0, len(full_review), max_len)]\n",
    "\n",
    "    for chunk in chunks:\n",
    "        new_data.append([chunk, sentiment])\n",
    "\n",
    "df = pd.DataFrame(new_data, columns=[\"review\", \"sentiment\"])"
   ]
  },
  {
   "cell_type": "code",
   "execution_count": 8,
   "id": "8de7771e",
   "metadata": {
    "execution": {
     "iopub.execute_input": "2025-03-09T07:26:16.031801Z",
     "iopub.status.busy": "2025-03-09T07:26:16.031568Z",
     "iopub.status.idle": "2025-03-09T07:26:16.690524Z",
     "shell.execute_reply": "2025-03-09T07:26:16.689827Z"
    },
    "papermill": {
     "duration": 0.665694,
     "end_time": "2025-03-09T07:26:16.691988",
     "exception": false,
     "start_time": "2025-03-09T07:26:16.026294",
     "status": "completed"
    },
    "tags": []
   },
   "outputs": [
    {
     "data": {
      "text/plain": [
       "0        200\n",
       "1        200\n",
       "2        200\n",
       "3        200\n",
       "4        200\n",
       "        ... \n",
       "79534    200\n",
       "79535    200\n",
       "79536    200\n",
       "79537    200\n",
       "79538    200\n",
       "Name: review, Length: 79539, dtype: int64"
      ]
     },
     "execution_count": 8,
     "metadata": {},
     "output_type": "execute_result"
    }
   ],
   "source": [
    "max_len = 200\n",
    "def pad(text):\n",
    "    return text + [20001] * (max_len - len(text))\n",
    "\n",
    "df[\"review\"] = df[\"review\"].apply(pad)\n",
    "df[\"review\"].apply(len)"
   ]
  },
  {
   "cell_type": "code",
   "execution_count": 9,
   "id": "5da210f8",
   "metadata": {
    "execution": {
     "iopub.execute_input": "2025-03-09T07:26:16.702774Z",
     "iopub.status.busy": "2025-03-09T07:26:16.702529Z",
     "iopub.status.idle": "2025-03-09T07:26:19.364330Z",
     "shell.execute_reply": "2025-03-09T07:26:19.363621Z"
    },
    "papermill": {
     "duration": 2.668849,
     "end_time": "2025-03-09T07:26:19.365888",
     "exception": false,
     "start_time": "2025-03-09T07:26:16.697039",
     "status": "completed"
    },
    "tags": []
   },
   "outputs": [],
   "source": [
    "df.to_csv(\"data.csv\", index=False)"
   ]
  },
  {
   "cell_type": "code",
   "execution_count": 10,
   "id": "2f118dc0",
   "metadata": {
    "execution": {
     "iopub.execute_input": "2025-03-09T07:26:19.377130Z",
     "iopub.status.busy": "2025-03-09T07:26:19.376875Z",
     "iopub.status.idle": "2025-03-09T07:26:22.887039Z",
     "shell.execute_reply": "2025-03-09T07:26:22.886068Z"
    },
    "papermill": {
     "duration": 3.517529,
     "end_time": "2025-03-09T07:26:22.888696",
     "exception": false,
     "start_time": "2025-03-09T07:26:19.371167",
     "status": "completed"
    },
    "tags": []
   },
   "outputs": [],
   "source": [
    "import torch.nn as nn\n",
    "import torch\n",
    "\n",
    "\n",
    "class RNNModel(nn.Module):\n",
    "    def __init__(self, embedding_dim, hidden_dim, vocab_size):\n",
    "        super(RNNModel, self).__init__()\n",
    "        self.embedding = nn.Embedding(vocab_size, embedding_dim, padding_idx=20001)\n",
    "        self.rnn = nn.RNN(embedding_dim, hidden_dim, batch_first=True)\n",
    "        self.fc = nn.Linear(hidden_dim, 1)\n",
    "        self.hidden_dim = hidden_dim\n",
    "\n",
    "    def forward(self, x, h=None):\n",
    "        x = self.embedding(x)\n",
    "\n",
    "        if h is None:\n",
    "            h = torch.zeros(1, x.size(0), self.hidden_dim).to(\"cuda\")\n",
    "        x, h = self.rnn(x, h)\n",
    "        x = x[:, -1, :]\n",
    "        x = self.fc(x)\n",
    "        return x, h.detach()"
   ]
  },
  {
   "cell_type": "code",
   "execution_count": 11,
   "id": "5e8aa1f6",
   "metadata": {
    "execution": {
     "iopub.execute_input": "2025-03-09T07:26:22.899523Z",
     "iopub.status.busy": "2025-03-09T07:26:22.899133Z",
     "iopub.status.idle": "2025-03-09T07:26:22.904915Z",
     "shell.execute_reply": "2025-03-09T07:26:22.904129Z"
    },
    "papermill": {
     "duration": 0.012522,
     "end_time": "2025-03-09T07:26:22.906286",
     "exception": false,
     "start_time": "2025-03-09T07:26:22.893764",
     "status": "completed"
    },
    "tags": []
   },
   "outputs": [],
   "source": [
    "import torch.nn as nn\n",
    "import torch\n",
    "\n",
    "\n",
    "class LSTMModel(nn.Module):\n",
    "    def __init__(self, embedding_dim, hidden_dim, vocab_size):\n",
    "        super(LSTMModel, self).__init__()\n",
    "        self.embedding = nn.Embedding(vocab_size, embedding_dim, padding_idx=20001)\n",
    "        self.lstm = nn.LSTM(embedding_dim, hidden_dim, batch_first=True)\n",
    "        self.fc = nn.Linear(hidden_dim, 1)\n",
    "        self.hidden_dim = hidden_dim\n",
    "\n",
    "    def forward(self, x, h=None):\n",
    "        x = self.embedding(x)\n",
    "\n",
    "        if h is None:\n",
    "            h = (\n",
    "                torch.zeros(1, x.size(0), self.hidden_dim).to(\"cuda\"),\n",
    "                torch.zeros(1, x.size(0), self.hidden_dim).to(\"cuda\"),\n",
    "            )\n",
    "        x, h = self.lstm(x, h)\n",
    "        x = x[:, -1, :]\n",
    "        x = self.fc(x)\n",
    "        return x, (h[0].detach(), h[1].detach())"
   ]
  },
  {
   "cell_type": "code",
   "execution_count": 12,
   "id": "1f4a23ee",
   "metadata": {
    "execution": {
     "iopub.execute_input": "2025-03-09T07:26:22.916695Z",
     "iopub.status.busy": "2025-03-09T07:26:22.916487Z",
     "iopub.status.idle": "2025-03-09T07:26:22.921281Z",
     "shell.execute_reply": "2025-03-09T07:26:22.920682Z"
    },
    "papermill": {
     "duration": 0.011248,
     "end_time": "2025-03-09T07:26:22.922517",
     "exception": false,
     "start_time": "2025-03-09T07:26:22.911269",
     "status": "completed"
    },
    "tags": []
   },
   "outputs": [],
   "source": [
    "import torch\n",
    "import torch.nn as nn\n",
    "\n",
    "class GRUModel(nn.Module):\n",
    "    def __init__(self, embedding_dim, hidden_dim, vocab_size):\n",
    "        super(GRUModel, self).__init__()\n",
    "        self.embedding = nn.Embedding(vocab_size, embedding_dim, padding_idx=20001)\n",
    "        self.gru = nn.GRU(embedding_dim, hidden_dim, batch_first=True)\n",
    "        self.fc = nn.Linear(hidden_dim, 1)\n",
    "        self.hidden_dim = hidden_dim\n",
    "\n",
    "    def forward(self, x, h=None):\n",
    "        x = self.embedding(x)\n",
    "        if h is None:\n",
    "            h = torch.zeros(1, x.size(0), self.hidden_dim).to(\"cuda\")\n",
    "        x, h = self.gru(x, h)\n",
    "        x = x[:, -1, :]\n",
    "        x = self.fc(x)\n",
    "        return x, h.detach()"
   ]
  },
  {
   "cell_type": "code",
   "execution_count": 13,
   "id": "ef1b8b54",
   "metadata": {
    "execution": {
     "iopub.execute_input": "2025-03-09T07:26:22.932701Z",
     "iopub.status.busy": "2025-03-09T07:26:22.932507Z",
     "iopub.status.idle": "2025-03-09T07:26:22.937569Z",
     "shell.execute_reply": "2025-03-09T07:26:22.936948Z"
    },
    "papermill": {
     "duration": 0.01145,
     "end_time": "2025-03-09T07:26:22.938692",
     "exception": false,
     "start_time": "2025-03-09T07:26:22.927242",
     "status": "completed"
    },
    "tags": []
   },
   "outputs": [],
   "source": [
    "import torch\n",
    "import torch.nn as nn\n",
    "\n",
    "class BiLSTMModel(nn.Module):\n",
    "    def __init__(self, embedding_dim, hidden_dim, vocab_size):\n",
    "        super(BiLSTMModel, self).__init__()\n",
    "        self.embedding = nn.Embedding(vocab_size, embedding_dim, padding_idx=20001)\n",
    "        self.bilstm = nn.LSTM(embedding_dim, hidden_dim, batch_first=True, bidirectional=True)\n",
    "        self.fc = nn.Linear(hidden_dim * 2, 1)\n",
    "\n",
    "    def forward(self, x, h=None):\n",
    "        x = self.embedding(x)\n",
    "        if h is None:\n",
    "            h = (\n",
    "                torch.zeros(2, x.size(0), self.bilstm.hidden_size).to(\"cuda\"),\n",
    "                torch.zeros(2, x.size(0), self.bilstm.hidden_size).to(\"cuda\"),\n",
    "            )\n",
    "        x, h = self.bilstm(x, h)\n",
    "        x = x[:, -1, :]\n",
    "        x = self.fc(x)\n",
    "        return x, (h[0].detach(), h[1].detach())"
   ]
  },
  {
   "cell_type": "code",
   "execution_count": 14,
   "id": "486755d8",
   "metadata": {
    "execution": {
     "iopub.execute_input": "2025-03-09T07:26:22.948915Z",
     "iopub.status.busy": "2025-03-09T07:26:22.948725Z",
     "iopub.status.idle": "2025-03-09T07:26:22.954879Z",
     "shell.execute_reply": "2025-03-09T07:26:22.954305Z"
    },
    "papermill": {
     "duration": 0.012743,
     "end_time": "2025-03-09T07:26:22.956093",
     "exception": false,
     "start_time": "2025-03-09T07:26:22.943350",
     "status": "completed"
    },
    "tags": []
   },
   "outputs": [],
   "source": [
    "import torch\n",
    "import torch.nn as nn\n",
    "import torch\n",
    "import torch.nn as nn\n",
    "\n",
    "class StackedLSTMModel(nn.Module):\n",
    "    def __init__(self, embedding_dim, hidden_dim1, hidden_dim2, vocab_size):\n",
    "        super(StackedLSTMModel, self).__init__()\n",
    "        self.embedding = nn.Embedding(vocab_size, embedding_dim, padding_idx=20001)\n",
    "        self.lstm1 = nn.LSTM(embedding_dim, hidden_dim1, batch_first=True)\n",
    "        self.lstm2 = nn.LSTM(hidden_dim1, hidden_dim2, batch_first=True)\n",
    "        self.fc = nn.Linear(hidden_dim2, 1)  \n",
    "        self.hidden_dim1 = hidden_dim1\n",
    "        self.hidden_dim2 = hidden_dim2\n",
    "\n",
    "    def forward(self, x, h=None):\n",
    "        x = self.embedding(x)\n",
    "        if h is None:\n",
    "            h1 = (\n",
    "                torch.zeros(1, x.size(0), self.hidden_dim1, device=x.device),\n",
    "                torch.zeros(1, x.size(0), self.hidden_dim1, device=x.device),\n",
    "            )\n",
    "            h2 = (\n",
    "                torch.zeros(1, x.size(0), self.hidden_dim2, device=x.device),\n",
    "                torch.zeros(1, x.size(0), self.hidden_dim2, device=x.device),\n",
    "            )\n",
    "        else:\n",
    "            h1 = h[:2]\n",
    "            h2 = h[2:]\n",
    "        x, h1 = self.lstm1(x, h1)\n",
    "        x, h2 = self.lstm2(x, h2)\n",
    "        x = x[:, -1, :]\n",
    "        x = self.fc(x)\n",
    "        return x, (h1[0].detach(), h1[1].detach(), h2[0].detach(), h2[1].detach())"
   ]
  },
  {
   "cell_type": "code",
   "execution_count": 15,
   "id": "7cd5c9c2",
   "metadata": {
    "execution": {
     "iopub.execute_input": "2025-03-09T07:26:22.966353Z",
     "iopub.status.busy": "2025-03-09T07:26:22.966117Z",
     "iopub.status.idle": "2025-03-09T07:26:22.972143Z",
     "shell.execute_reply": "2025-03-09T07:26:22.971608Z"
    },
    "papermill": {
     "duration": 0.012479,
     "end_time": "2025-03-09T07:26:22.973364",
     "exception": false,
     "start_time": "2025-03-09T07:26:22.960885",
     "status": "completed"
    },
    "tags": []
   },
   "outputs": [],
   "source": [
    "import torch\n",
    "import torch.nn as nn\n",
    "\n",
    "class StackedBiLSTMModel(nn.Module):\n",
    "    def __init__(self, embedding_dim, hidden_dim1, hidden_dim2, vocab_size):\n",
    "        super(StackedBiLSTMModel, self).__init__()\n",
    "        self.embedding = nn.Embedding(vocab_size, embedding_dim, padding_idx=20001)\n",
    "        self.bilstm1 = nn.LSTM(embedding_dim, hidden_dim1, batch_first=True, bidirectional=True)\n",
    "        self.bilstm2 = nn.LSTM(hidden_dim1 * 2, hidden_dim2, batch_first=True, bidirectional=True)\n",
    "        self.fc = nn.Linear(hidden_dim2 * 2, 1)\n",
    "\n",
    "    def forward(self, x, h=None):\n",
    "        x = self.embedding(x)\n",
    "        if h is None:\n",
    "            h1 = (\n",
    "                torch.zeros(2, x.size(0), self.bilstm1.hidden_size, device=x.device),\n",
    "                torch.zeros(2, x.size(0), self.bilstm1.hidden_size, device=x.device),\n",
    "            )\n",
    "            h2 = (\n",
    "                torch.zeros(2, x.size(0), self.bilstm2.hidden_size, device=x.device),\n",
    "                torch.zeros(2, x.size(0), self.bilstm2.hidden_size, device=x.device),\n",
    "            )\n",
    "        else:\n",
    "            h1 = h[:2] \n",
    "            h2 = h[2:]  \n",
    "        x, h1 = self.bilstm1(x, h1)\n",
    "        x, h2 = self.bilstm2(x, h2)\n",
    "        x = x[:, -1, :]\n",
    "        x = self.fc(x)\n",
    "        return x, (h1[0].detach(), h1[1].detach(), h2[0].detach(), h2[1].detach())"
   ]
  },
  {
   "cell_type": "code",
   "execution_count": 16,
   "id": "8994ca2c",
   "metadata": {
    "execution": {
     "iopub.execute_input": "2025-03-09T07:26:22.983402Z",
     "iopub.status.busy": "2025-03-09T07:26:22.983167Z",
     "iopub.status.idle": "2025-03-09T07:26:22.986439Z",
     "shell.execute_reply": "2025-03-09T07:26:22.985835Z"
    },
    "papermill": {
     "duration": 0.009584,
     "end_time": "2025-03-09T07:26:22.987710",
     "exception": false,
     "start_time": "2025-03-09T07:26:22.978126",
     "status": "completed"
    },
    "tags": []
   },
   "outputs": [],
   "source": [
    "import torch.optim as optim\n",
    "\n",
    "batch_size = 256\n",
    "seq_len = 200\n",
    "learning_rate = 0.001\n",
    "vocab_size = 20002\n",
    "hidden_dim = 128\n",
    "\n",
    "criterion = nn.BCEWithLogitsLoss()"
   ]
  },
  {
   "cell_type": "code",
   "execution_count": 17,
   "id": "4e500814",
   "metadata": {
    "execution": {
     "iopub.execute_input": "2025-03-09T07:26:22.997872Z",
     "iopub.status.busy": "2025-03-09T07:26:22.997670Z",
     "iopub.status.idle": "2025-03-09T07:26:24.208333Z",
     "shell.execute_reply": "2025-03-09T07:26:24.207346Z"
    },
    "papermill": {
     "duration": 1.217472,
     "end_time": "2025-03-09T07:26:24.209941",
     "exception": false,
     "start_time": "2025-03-09T07:26:22.992469",
     "status": "completed"
    },
    "tags": []
   },
   "outputs": [],
   "source": [
    "from torch.utils.data import DataLoader, TensorDataset\n",
    "train = TensorDataset(\n",
    "    torch.tensor(df[\"review\"][:50000].tolist(), dtype=torch.long),\n",
    "    torch.tensor(df[\"sentiment\"][:50000].tolist(), dtype=torch.float32),\n",
    ")\n",
    "test = TensorDataset(\n",
    "    torch.tensor(df[\"review\"][50000:].tolist(), dtype=torch.long),\n",
    "    torch.tensor(df[\"sentiment\"][50000:].tolist(), dtype=torch.float32),\n",
    ")\n",
    "train_loader = DataLoader(train, batch_size=batch_size, shuffle=True)\n",
    "test_loader = DataLoader(test, batch_size=batch_size, shuffle=False)"
   ]
  },
  {
   "cell_type": "code",
   "execution_count": 18,
   "id": "080cbd88",
   "metadata": {
    "execution": {
     "iopub.execute_input": "2025-03-09T07:26:24.220733Z",
     "iopub.status.busy": "2025-03-09T07:26:24.220485Z",
     "iopub.status.idle": "2025-03-09T07:26:37.386533Z",
     "shell.execute_reply": "2025-03-09T07:26:37.385807Z"
    },
    "papermill": {
     "duration": 13.172928,
     "end_time": "2025-03-09T07:26:37.388193",
     "exception": false,
     "start_time": "2025-03-09T07:26:24.215265",
     "status": "completed"
    },
    "tags": []
   },
   "outputs": [],
   "source": [
    "from tqdm import tqdm\n",
    "from torch.utils.tensorboard import SummaryWriter\n",
    "import torch\n",
    "import torch.nn.functional as F\n",
    "from sklearn.metrics import accuracy_score, precision_score, recall_score, f1_score, confusion_matrix\n",
    "\n",
    "\n",
    "def train_loop(model, bidir, epochs, model_name):\n",
    "    model = model.to(\"cuda\")\n",
    "    writer = SummaryWriter(log_dir=f\"runs/{model_name}\")\n",
    "\n",
    "    for epoch in range(epochs):\n",
    "        hidden_state = None\n",
    "        model.train()\n",
    "        train_tqdm = tqdm(train_loader, desc=f\"Epoch {epoch+1}/{epochs} [Train]\")\n",
    "        \n",
    "        total_train_loss = 0\n",
    "        train_preds, train_labels_list = [], []\n",
    "    \n",
    "        for i, (train_data, train_labels) in enumerate(train_tqdm):\n",
    "            train_data, train_labels = train_data.to(\"cuda\"), train_labels.to(\"cuda\")\n",
    "            if i == len(train_loader) - 1:  \n",
    "                hidden_state = None\n",
    "                \n",
    "            optimizer.zero_grad()\n",
    "            output, hidden_state = model(train_data, hidden_state)\n",
    "            output = output.squeeze()\n",
    "            \n",
    "            if bidir:\n",
    "                hidden_state = tuple(h.detach() for h in hidden_state)\n",
    "            else:\n",
    "                hidden_state = hidden_state.detach()\n",
    "            \n",
    "            loss = criterion(output, train_labels)\n",
    "            loss.backward()\n",
    "            optimizer.step()\n",
    "    \n",
    "            preds = (torch.sigmoid(output) > 0.5).cpu().numpy()\n",
    "            train_preds.extend(preds)\n",
    "            train_labels_list.extend(train_labels.cpu().numpy())\n",
    "\n",
    "            total_train_loss += loss.item()\n",
    "            train_tqdm.set_postfix(loss=loss.item())\n",
    "    \n",
    "        avg_train_loss = total_train_loss / len(train_loader)\n",
    "        train_acc = accuracy_score(train_labels_list, train_preds)\n",
    "\n",
    "        writer.add_scalar(f\"{model_name}/trainLoss\", avg_train_loss, epoch+1)\n",
    "        writer.add_scalar(f\"{model_name}/trainAcc\", train_acc, epoch+1)\n",
    "\n",
    "        # ------------------- Validation Loop -------------------\n",
    "        model.eval()\n",
    "        val_tqdm = tqdm(test_loader, desc=f\"Epoch {epoch+1}/{epochs} [Val]\")\n",
    "    \n",
    "        total_val_loss = 0\n",
    "        val_preds, val_labels_list = [], []\n",
    "        hidden_state = None\n",
    "        with torch.no_grad():\n",
    "            for i, (val_data, val_labels) in enumerate(val_tqdm):\n",
    "                val_data, val_labels = val_data.to(\"cuda\"), val_labels.to(\"cuda\")\n",
    "                if i == len(test_loader) - 1:\n",
    "                    hidden_state = None\n",
    "                \n",
    "                output, hidden_state = model(val_data, hidden_state)\n",
    "                output = output.squeeze()\n",
    "                \n",
    "                if bidir:\n",
    "                    hidden_state = tuple(h.detach() for h in hidden_state)\n",
    "                else:\n",
    "                    hidden_state = hidden_state.detach()\n",
    "                \n",
    "                loss = criterion(output, val_labels)\n",
    "                total_val_loss += loss.item()\n",
    "    \n",
    "                preds = (torch.sigmoid(output) > 0.5).cpu().numpy()\n",
    "                val_preds.extend(preds)\n",
    "                val_labels_list.extend(val_labels.cpu().numpy())\n",
    "\n",
    "                val_tqdm.set_postfix(loss=loss.item())\n",
    "    \n",
    "        avg_val_loss = total_val_loss / len(test_loader)\n",
    "        val_acc = accuracy_score(val_labels_list, val_preds)\n",
    "\n",
    "        writer.add_scalar(f\"{model_name}/valLoss\", avg_val_loss, epoch+1)\n",
    "        writer.add_scalar(f\"{model_name}/valAcc\", val_acc, epoch+1)\n",
    "    \n",
    "        print(\n",
    "            f\"Epoch {epoch+1}/{epochs} | Train Loss: {avg_train_loss:.4f} | Train Acc: {train_acc:.4f} | Val Loss: {avg_val_loss:.4f} | Val Acc: {val_acc:.4f}\"\n",
    "        )\n",
    "\n",
    "    writer.close()  \n",
    "\n",
    "    # ------------------- Final Metrics -------------------\n",
    "    precision = precision_score(val_labels_list, val_preds)\n",
    "    recall = recall_score(val_labels_list, val_preds)\n",
    "    f1 = f1_score(val_labels_list, val_preds)\n",
    "    conf_matrix = confusion_matrix(val_labels_list, val_preds)\n",
    "\n",
    "    print(\"\\nFinal Validation Metrics:\")\n",
    "    print(f\"Accuracy:  {val_acc:.4f}\")\n",
    "    print(f\"Precision: {precision:.4f}\")\n",
    "    print(f\"Recall:    {recall:.4f}\")\n",
    "    print(f\"F1-score:  {f1:.4f}\")\n",
    "    print(conf_matrix)"
   ]
  },
  {
   "cell_type": "code",
   "execution_count": 19,
   "id": "28a79f90",
   "metadata": {
    "execution": {
     "iopub.execute_input": "2025-03-09T07:26:37.399019Z",
     "iopub.status.busy": "2025-03-09T07:26:37.398567Z",
     "iopub.status.idle": "2025-03-09T07:28:31.176495Z",
     "shell.execute_reply": "2025-03-09T07:28:31.175520Z"
    },
    "papermill": {
     "duration": 113.784281,
     "end_time": "2025-03-09T07:28:31.177729",
     "exception": false,
     "start_time": "2025-03-09T07:26:37.393448",
     "status": "completed"
    },
    "tags": []
   },
   "outputs": [
    {
     "name": "stderr",
     "output_type": "stream",
     "text": [
      "Epoch 1/50 [Train]: 100%|██████████| 196/196 [00:02<00:00, 80.83it/s, loss=0.7] \n",
      "Epoch 1/50 [Val]: 100%|██████████| 116/116 [00:00<00:00, 219.02it/s, loss=0.71]\n"
     ]
    },
    {
     "name": "stdout",
     "output_type": "stream",
     "text": [
      "Epoch 1/50 | Train Loss: 0.6951 | Train Acc: 0.5025 | Val Loss: 0.6931 | Val Acc: 0.5073\n"
     ]
    },
    {
     "name": "stderr",
     "output_type": "stream",
     "text": [
      "Epoch 2/50 [Train]: 100%|██████████| 196/196 [00:01<00:00, 125.15it/s, loss=0.695]\n",
      "Epoch 2/50 [Val]: 100%|██████████| 116/116 [00:00<00:00, 228.60it/s, loss=0.716]\n"
     ]
    },
    {
     "name": "stdout",
     "output_type": "stream",
     "text": [
      "Epoch 2/50 | Train Loss: 0.6907 | Train Acc: 0.5213 | Val Loss: 0.6945 | Val Acc: 0.5061\n"
     ]
    },
    {
     "name": "stderr",
     "output_type": "stream",
     "text": [
      "Epoch 3/50 [Train]: 100%|██████████| 196/196 [00:02<00:00, 91.16it/s, loss=0.694] \n",
      "Epoch 3/50 [Val]: 100%|██████████| 116/116 [00:00<00:00, 225.33it/s, loss=0.697]\n"
     ]
    },
    {
     "name": "stdout",
     "output_type": "stream",
     "text": [
      "Epoch 3/50 | Train Loss: 0.6896 | Train Acc: 0.5273 | Val Loss: 0.6956 | Val Acc: 0.5053\n"
     ]
    },
    {
     "name": "stderr",
     "output_type": "stream",
     "text": [
      "Epoch 4/50 [Train]: 100%|██████████| 196/196 [00:01<00:00, 125.49it/s, loss=0.706]\n",
      "Epoch 4/50 [Val]: 100%|██████████| 116/116 [00:00<00:00, 224.52it/s, loss=0.697]\n"
     ]
    },
    {
     "name": "stdout",
     "output_type": "stream",
     "text": [
      "Epoch 4/50 | Train Loss: 0.6839 | Train Acc: 0.5435 | Val Loss: 0.6923 | Val Acc: 0.5153\n"
     ]
    },
    {
     "name": "stderr",
     "output_type": "stream",
     "text": [
      "Epoch 5/50 [Train]: 100%|██████████| 196/196 [00:01<00:00, 124.40it/s, loss=0.685]\n",
      "Epoch 5/50 [Val]: 100%|██████████| 116/116 [00:00<00:00, 206.22it/s, loss=0.724]\n"
     ]
    },
    {
     "name": "stdout",
     "output_type": "stream",
     "text": [
      "Epoch 5/50 | Train Loss: 0.6871 | Train Acc: 0.5310 | Val Loss: 0.6939 | Val Acc: 0.5143\n"
     ]
    },
    {
     "name": "stderr",
     "output_type": "stream",
     "text": [
      "Epoch 6/50 [Train]: 100%|██████████| 196/196 [00:01<00:00, 124.24it/s, loss=0.699]\n",
      "Epoch 6/50 [Val]: 100%|██████████| 116/116 [00:00<00:00, 232.16it/s, loss=0.697]\n"
     ]
    },
    {
     "name": "stdout",
     "output_type": "stream",
     "text": [
      "Epoch 6/50 | Train Loss: 0.6822 | Train Acc: 0.5435 | Val Loss: 0.6917 | Val Acc: 0.5165\n"
     ]
    },
    {
     "name": "stderr",
     "output_type": "stream",
     "text": [
      "Epoch 7/50 [Train]: 100%|██████████| 196/196 [00:01<00:00, 125.58it/s, loss=0.692]\n",
      "Epoch 7/50 [Val]: 100%|██████████| 116/116 [00:00<00:00, 229.67it/s, loss=0.727]\n"
     ]
    },
    {
     "name": "stdout",
     "output_type": "stream",
     "text": [
      "Epoch 7/50 | Train Loss: 0.6837 | Train Acc: 0.5372 | Val Loss: 0.6928 | Val Acc: 0.5221\n"
     ]
    },
    {
     "name": "stderr",
     "output_type": "stream",
     "text": [
      "Epoch 8/50 [Train]: 100%|██████████| 196/196 [00:01<00:00, 122.92it/s, loss=0.653]\n",
      "Epoch 8/50 [Val]: 100%|██████████| 116/116 [00:00<00:00, 224.59it/s, loss=0.699]\n"
     ]
    },
    {
     "name": "stdout",
     "output_type": "stream",
     "text": [
      "Epoch 8/50 | Train Loss: 0.6785 | Train Acc: 0.5494 | Val Loss: 0.6911 | Val Acc: 0.5232\n"
     ]
    },
    {
     "name": "stderr",
     "output_type": "stream",
     "text": [
      "Epoch 9/50 [Train]: 100%|██████████| 196/196 [00:01<00:00, 126.94it/s, loss=0.68]\n",
      "Epoch 9/50 [Val]: 100%|██████████| 116/116 [00:00<00:00, 229.95it/s, loss=0.706]\n"
     ]
    },
    {
     "name": "stdout",
     "output_type": "stream",
     "text": [
      "Epoch 9/50 | Train Loss: 0.6859 | Train Acc: 0.5477 | Val Loss: 0.6915 | Val Acc: 0.5223\n"
     ]
    },
    {
     "name": "stderr",
     "output_type": "stream",
     "text": [
      "Epoch 10/50 [Train]: 100%|██████████| 196/196 [00:01<00:00, 127.15it/s, loss=0.67]\n",
      "Epoch 10/50 [Val]: 100%|██████████| 116/116 [00:00<00:00, 226.12it/s, loss=0.722]\n"
     ]
    },
    {
     "name": "stdout",
     "output_type": "stream",
     "text": [
      "Epoch 10/50 | Train Loss: 0.6781 | Train Acc: 0.5483 | Val Loss: 0.6949 | Val Acc: 0.5197\n"
     ]
    },
    {
     "name": "stderr",
     "output_type": "stream",
     "text": [
      "Epoch 11/50 [Train]: 100%|██████████| 196/196 [00:01<00:00, 125.08it/s, loss=0.669]\n",
      "Epoch 11/50 [Val]: 100%|██████████| 116/116 [00:00<00:00, 228.23it/s, loss=0.723]\n"
     ]
    },
    {
     "name": "stdout",
     "output_type": "stream",
     "text": [
      "Epoch 11/50 | Train Loss: 0.6776 | Train Acc: 0.5538 | Val Loss: 0.6942 | Val Acc: 0.5193\n"
     ]
    },
    {
     "name": "stderr",
     "output_type": "stream",
     "text": [
      "Epoch 12/50 [Train]: 100%|██████████| 196/196 [00:01<00:00, 125.59it/s, loss=0.661]\n",
      "Epoch 12/50 [Val]: 100%|██████████| 116/116 [00:00<00:00, 214.98it/s, loss=0.728]\n"
     ]
    },
    {
     "name": "stdout",
     "output_type": "stream",
     "text": [
      "Epoch 12/50 | Train Loss: 0.6656 | Train Acc: 0.5631 | Val Loss: 0.7175 | Val Acc: 0.5241\n"
     ]
    },
    {
     "name": "stderr",
     "output_type": "stream",
     "text": [
      "Epoch 13/50 [Train]: 100%|██████████| 196/196 [00:01<00:00, 124.83it/s, loss=0.678]\n",
      "Epoch 13/50 [Val]: 100%|██████████| 116/116 [00:00<00:00, 227.40it/s, loss=0.736]\n"
     ]
    },
    {
     "name": "stdout",
     "output_type": "stream",
     "text": [
      "Epoch 13/50 | Train Loss: 0.6705 | Train Acc: 0.5585 | Val Loss: 0.6989 | Val Acc: 0.5213\n"
     ]
    },
    {
     "name": "stderr",
     "output_type": "stream",
     "text": [
      "Epoch 14/50 [Train]: 100%|██████████| 196/196 [00:01<00:00, 125.84it/s, loss=0.628]\n",
      "Epoch 14/50 [Val]: 100%|██████████| 116/116 [00:01<00:00, 110.57it/s, loss=0.728]\n"
     ]
    },
    {
     "name": "stdout",
     "output_type": "stream",
     "text": [
      "Epoch 14/50 | Train Loss: 0.6530 | Train Acc: 0.5790 | Val Loss: 0.7038 | Val Acc: 0.5276\n"
     ]
    },
    {
     "name": "stderr",
     "output_type": "stream",
     "text": [
      "Epoch 15/50 [Train]: 100%|██████████| 196/196 [00:01<00:00, 126.50it/s, loss=0.671]\n",
      "Epoch 15/50 [Val]: 100%|██████████| 116/116 [00:00<00:00, 227.18it/s, loss=0.707]\n"
     ]
    },
    {
     "name": "stdout",
     "output_type": "stream",
     "text": [
      "Epoch 15/50 | Train Loss: 0.6656 | Train Acc: 0.5720 | Val Loss: 0.6917 | Val Acc: 0.5201\n"
     ]
    },
    {
     "name": "stderr",
     "output_type": "stream",
     "text": [
      "Epoch 16/50 [Train]: 100%|██████████| 196/196 [00:01<00:00, 128.09it/s, loss=0.636]\n",
      "Epoch 16/50 [Val]: 100%|██████████| 116/116 [00:00<00:00, 232.24it/s, loss=0.751]\n"
     ]
    },
    {
     "name": "stdout",
     "output_type": "stream",
     "text": [
      "Epoch 16/50 | Train Loss: 0.6564 | Train Acc: 0.5760 | Val Loss: 0.7133 | Val Acc: 0.5286\n"
     ]
    },
    {
     "name": "stderr",
     "output_type": "stream",
     "text": [
      "Epoch 17/50 [Train]: 100%|██████████| 196/196 [00:01<00:00, 125.46it/s, loss=0.636]\n",
      "Epoch 17/50 [Val]: 100%|██████████| 116/116 [00:00<00:00, 224.58it/s, loss=0.737]\n"
     ]
    },
    {
     "name": "stdout",
     "output_type": "stream",
     "text": [
      "Epoch 17/50 | Train Loss: 0.6454 | Train Acc: 0.5838 | Val Loss: 0.7070 | Val Acc: 0.5309\n"
     ]
    },
    {
     "name": "stderr",
     "output_type": "stream",
     "text": [
      "Epoch 18/50 [Train]: 100%|██████████| 196/196 [00:01<00:00, 126.87it/s, loss=0.581]\n",
      "Epoch 18/50 [Val]: 100%|██████████| 116/116 [00:00<00:00, 231.65it/s, loss=0.759]\n"
     ]
    },
    {
     "name": "stdout",
     "output_type": "stream",
     "text": [
      "Epoch 18/50 | Train Loss: 0.6327 | Train Acc: 0.5932 | Val Loss: 0.7113 | Val Acc: 0.5367\n"
     ]
    },
    {
     "name": "stderr",
     "output_type": "stream",
     "text": [
      "Epoch 19/50 [Train]: 100%|██████████| 196/196 [00:01<00:00, 128.34it/s, loss=0.655]\n",
      "Epoch 19/50 [Val]: 100%|██████████| 116/116 [00:00<00:00, 240.93it/s, loss=0.742]\n"
     ]
    },
    {
     "name": "stdout",
     "output_type": "stream",
     "text": [
      "Epoch 19/50 | Train Loss: 0.6562 | Train Acc: 0.5774 | Val Loss: 0.7167 | Val Acc: 0.5278\n"
     ]
    },
    {
     "name": "stderr",
     "output_type": "stream",
     "text": [
      "Epoch 20/50 [Train]: 100%|██████████| 196/196 [00:01<00:00, 121.57it/s, loss=0.614]\n",
      "Epoch 20/50 [Val]: 100%|██████████| 116/116 [00:00<00:00, 209.16it/s, loss=0.752]\n"
     ]
    },
    {
     "name": "stdout",
     "output_type": "stream",
     "text": [
      "Epoch 20/50 | Train Loss: 0.6262 | Train Acc: 0.5977 | Val Loss: 0.7207 | Val Acc: 0.5291\n"
     ]
    },
    {
     "name": "stderr",
     "output_type": "stream",
     "text": [
      "Epoch 21/50 [Train]: 100%|██████████| 196/196 [00:01<00:00, 126.24it/s, loss=0.661]\n",
      "Epoch 21/50 [Val]: 100%|██████████| 116/116 [00:00<00:00, 226.89it/s, loss=0.736]\n"
     ]
    },
    {
     "name": "stdout",
     "output_type": "stream",
     "text": [
      "Epoch 21/50 | Train Loss: 0.6256 | Train Acc: 0.6041 | Val Loss: 0.7325 | Val Acc: 0.5028\n"
     ]
    },
    {
     "name": "stderr",
     "output_type": "stream",
     "text": [
      "Epoch 22/50 [Train]: 100%|██████████| 196/196 [00:01<00:00, 125.99it/s, loss=0.619]\n",
      "Epoch 22/50 [Val]: 100%|██████████| 116/116 [00:00<00:00, 227.91it/s, loss=0.753]\n"
     ]
    },
    {
     "name": "stdout",
     "output_type": "stream",
     "text": [
      "Epoch 22/50 | Train Loss: 0.6443 | Train Acc: 0.5833 | Val Loss: 0.7171 | Val Acc: 0.5193\n"
     ]
    },
    {
     "name": "stderr",
     "output_type": "stream",
     "text": [
      "Epoch 23/50 [Train]: 100%|██████████| 196/196 [00:01<00:00, 125.88it/s, loss=0.608]\n",
      "Epoch 23/50 [Val]: 100%|██████████| 116/116 [00:00<00:00, 225.65it/s, loss=0.767]\n"
     ]
    },
    {
     "name": "stdout",
     "output_type": "stream",
     "text": [
      "Epoch 23/50 | Train Loss: 0.6196 | Train Acc: 0.6040 | Val Loss: 0.7356 | Val Acc: 0.5320\n"
     ]
    },
    {
     "name": "stderr",
     "output_type": "stream",
     "text": [
      "Epoch 24/50 [Train]: 100%|██████████| 196/196 [00:01<00:00, 126.61it/s, loss=0.658]\n",
      "Epoch 24/50 [Val]: 100%|██████████| 116/116 [00:00<00:00, 228.96it/s, loss=0.716]\n"
     ]
    },
    {
     "name": "stdout",
     "output_type": "stream",
     "text": [
      "Epoch 24/50 | Train Loss: 0.6234 | Train Acc: 0.6138 | Val Loss: 0.7134 | Val Acc: 0.5154\n"
     ]
    },
    {
     "name": "stderr",
     "output_type": "stream",
     "text": [
      "Epoch 25/50 [Train]: 100%|██████████| 196/196 [00:01<00:00, 125.86it/s, loss=0.547]\n",
      "Epoch 25/50 [Val]: 100%|██████████| 116/116 [00:00<00:00, 227.84it/s, loss=0.783]\n"
     ]
    },
    {
     "name": "stdout",
     "output_type": "stream",
     "text": [
      "Epoch 25/50 | Train Loss: 0.6197 | Train Acc: 0.6027 | Val Loss: 0.7555 | Val Acc: 0.5435\n"
     ]
    },
    {
     "name": "stderr",
     "output_type": "stream",
     "text": [
      "Epoch 26/50 [Train]: 100%|██████████| 196/196 [00:02<00:00, 91.67it/s, loss=0.63] \n",
      "Epoch 26/50 [Val]: 100%|██████████| 116/116 [00:00<00:00, 225.26it/s, loss=0.771]\n"
     ]
    },
    {
     "name": "stdout",
     "output_type": "stream",
     "text": [
      "Epoch 26/50 | Train Loss: 0.6633 | Train Acc: 0.5904 | Val Loss: 0.7148 | Val Acc: 0.5151\n"
     ]
    },
    {
     "name": "stderr",
     "output_type": "stream",
     "text": [
      "Epoch 27/50 [Train]: 100%|██████████| 196/196 [00:01<00:00, 126.46it/s, loss=0.687]\n",
      "Epoch 27/50 [Val]: 100%|██████████| 116/116 [00:00<00:00, 227.89it/s, loss=0.763]\n"
     ]
    },
    {
     "name": "stdout",
     "output_type": "stream",
     "text": [
      "Epoch 27/50 | Train Loss: 0.6437 | Train Acc: 0.5830 | Val Loss: 0.7117 | Val Acc: 0.5129\n"
     ]
    },
    {
     "name": "stderr",
     "output_type": "stream",
     "text": [
      "Epoch 28/50 [Train]: 100%|██████████| 196/196 [00:01<00:00, 127.38it/s, loss=0.639]\n",
      "Epoch 28/50 [Val]: 100%|██████████| 116/116 [00:00<00:00, 233.72it/s, loss=0.755]\n"
     ]
    },
    {
     "name": "stdout",
     "output_type": "stream",
     "text": [
      "Epoch 28/50 | Train Loss: 0.6513 | Train Acc: 0.5711 | Val Loss: 0.7126 | Val Acc: 0.5138\n"
     ]
    },
    {
     "name": "stderr",
     "output_type": "stream",
     "text": [
      "Epoch 29/50 [Train]: 100%|██████████| 196/196 [00:01<00:00, 125.41it/s, loss=0.628]\n",
      "Epoch 29/50 [Val]: 100%|██████████| 116/116 [00:00<00:00, 226.61it/s, loss=0.771]\n"
     ]
    },
    {
     "name": "stdout",
     "output_type": "stream",
     "text": [
      "Epoch 29/50 | Train Loss: 0.6553 | Train Acc: 0.5674 | Val Loss: 0.7096 | Val Acc: 0.5136\n"
     ]
    },
    {
     "name": "stderr",
     "output_type": "stream",
     "text": [
      "Epoch 30/50 [Train]: 100%|██████████| 196/196 [00:01<00:00, 127.76it/s, loss=0.655]\n",
      "Epoch 30/50 [Val]: 100%|██████████| 116/116 [00:00<00:00, 230.04it/s, loss=0.748]\n"
     ]
    },
    {
     "name": "stdout",
     "output_type": "stream",
     "text": [
      "Epoch 30/50 | Train Loss: 0.6523 | Train Acc: 0.5698 | Val Loss: 0.7102 | Val Acc: 0.5187\n"
     ]
    },
    {
     "name": "stderr",
     "output_type": "stream",
     "text": [
      "Epoch 31/50 [Train]: 100%|██████████| 196/196 [00:01<00:00, 124.35it/s, loss=0.629]\n",
      "Epoch 31/50 [Val]: 100%|██████████| 116/116 [00:00<00:00, 230.58it/s, loss=0.731]\n"
     ]
    },
    {
     "name": "stdout",
     "output_type": "stream",
     "text": [
      "Epoch 31/50 | Train Loss: 0.6511 | Train Acc: 0.5737 | Val Loss: 0.7127 | Val Acc: 0.5150\n"
     ]
    },
    {
     "name": "stderr",
     "output_type": "stream",
     "text": [
      "Epoch 32/50 [Train]: 100%|██████████| 196/196 [00:01<00:00, 126.37it/s, loss=0.663]\n",
      "Epoch 32/50 [Val]: 100%|██████████| 116/116 [00:00<00:00, 231.58it/s, loss=0.742]\n"
     ]
    },
    {
     "name": "stdout",
     "output_type": "stream",
     "text": [
      "Epoch 32/50 | Train Loss: 0.6484 | Train Acc: 0.5721 | Val Loss: 0.7141 | Val Acc: 0.5126\n"
     ]
    },
    {
     "name": "stderr",
     "output_type": "stream",
     "text": [
      "Epoch 33/50 [Train]: 100%|██████████| 196/196 [00:01<00:00, 124.78it/s, loss=0.622]\n",
      "Epoch 33/50 [Val]: 100%|██████████| 116/116 [00:00<00:00, 230.89it/s, loss=0.783]\n"
     ]
    },
    {
     "name": "stdout",
     "output_type": "stream",
     "text": [
      "Epoch 33/50 | Train Loss: 0.6452 | Train Acc: 0.5734 | Val Loss: 0.7173 | Val Acc: 0.5174\n"
     ]
    },
    {
     "name": "stderr",
     "output_type": "stream",
     "text": [
      "Epoch 34/50 [Train]: 100%|██████████| 196/196 [00:01<00:00, 126.74it/s, loss=0.617]\n",
      "Epoch 34/50 [Val]: 100%|██████████| 116/116 [00:00<00:00, 230.16it/s, loss=0.789]\n"
     ]
    },
    {
     "name": "stdout",
     "output_type": "stream",
     "text": [
      "Epoch 34/50 | Train Loss: 0.6451 | Train Acc: 0.5751 | Val Loss: 0.7185 | Val Acc: 0.5162\n"
     ]
    },
    {
     "name": "stderr",
     "output_type": "stream",
     "text": [
      "Epoch 35/50 [Train]: 100%|██████████| 196/196 [00:01<00:00, 119.93it/s, loss=0.644]\n",
      "Epoch 35/50 [Val]: 100%|██████████| 116/116 [00:00<00:00, 225.05it/s, loss=0.776]\n"
     ]
    },
    {
     "name": "stdout",
     "output_type": "stream",
     "text": [
      "Epoch 35/50 | Train Loss: 0.6438 | Train Acc: 0.5764 | Val Loss: 0.7199 | Val Acc: 0.5133\n"
     ]
    },
    {
     "name": "stderr",
     "output_type": "stream",
     "text": [
      "Epoch 36/50 [Train]: 100%|██████████| 196/196 [00:01<00:00, 125.51it/s, loss=0.667]\n",
      "Epoch 36/50 [Val]: 100%|██████████| 116/116 [00:00<00:00, 226.23it/s, loss=0.776]\n"
     ]
    },
    {
     "name": "stdout",
     "output_type": "stream",
     "text": [
      "Epoch 36/50 | Train Loss: 0.6415 | Train Acc: 0.5749 | Val Loss: 0.7227 | Val Acc: 0.5158\n"
     ]
    },
    {
     "name": "stderr",
     "output_type": "stream",
     "text": [
      "Epoch 37/50 [Train]: 100%|██████████| 196/196 [00:01<00:00, 127.07it/s, loss=0.699]\n",
      "Epoch 37/50 [Val]: 100%|██████████| 116/116 [00:01<00:00, 109.99it/s, loss=0.786]\n"
     ]
    },
    {
     "name": "stdout",
     "output_type": "stream",
     "text": [
      "Epoch 37/50 | Train Loss: 0.6388 | Train Acc: 0.5810 | Val Loss: 0.7294 | Val Acc: 0.5181\n"
     ]
    },
    {
     "name": "stderr",
     "output_type": "stream",
     "text": [
      "Epoch 38/50 [Train]: 100%|██████████| 196/196 [00:01<00:00, 124.30it/s, loss=0.551]\n",
      "Epoch 38/50 [Val]: 100%|██████████| 116/116 [00:00<00:00, 230.74it/s, loss=0.795]\n"
     ]
    },
    {
     "name": "stdout",
     "output_type": "stream",
     "text": [
      "Epoch 38/50 | Train Loss: 0.6349 | Train Acc: 0.5793 | Val Loss: 0.7297 | Val Acc: 0.5153\n"
     ]
    },
    {
     "name": "stderr",
     "output_type": "stream",
     "text": [
      "Epoch 39/50 [Train]: 100%|██████████| 196/196 [00:01<00:00, 123.46it/s, loss=0.606]\n",
      "Epoch 39/50 [Val]: 100%|██████████| 116/116 [00:00<00:00, 229.82it/s, loss=0.769]\n"
     ]
    },
    {
     "name": "stdout",
     "output_type": "stream",
     "text": [
      "Epoch 39/50 | Train Loss: 0.6323 | Train Acc: 0.5834 | Val Loss: 0.7376 | Val Acc: 0.5146\n"
     ]
    },
    {
     "name": "stderr",
     "output_type": "stream",
     "text": [
      "Epoch 40/50 [Train]: 100%|██████████| 196/196 [00:01<00:00, 123.48it/s, loss=0.593]\n",
      "Epoch 40/50 [Val]: 100%|██████████| 116/116 [00:00<00:00, 227.51it/s, loss=0.761]\n"
     ]
    },
    {
     "name": "stdout",
     "output_type": "stream",
     "text": [
      "Epoch 40/50 | Train Loss: 0.6297 | Train Acc: 0.5887 | Val Loss: 0.7430 | Val Acc: 0.5185\n"
     ]
    },
    {
     "name": "stderr",
     "output_type": "stream",
     "text": [
      "Epoch 41/50 [Train]: 100%|██████████| 196/196 [00:01<00:00, 125.20it/s, loss=0.618]\n",
      "Epoch 41/50 [Val]: 100%|██████████| 116/116 [00:00<00:00, 233.73it/s, loss=0.785]\n"
     ]
    },
    {
     "name": "stdout",
     "output_type": "stream",
     "text": [
      "Epoch 41/50 | Train Loss: 0.6269 | Train Acc: 0.5926 | Val Loss: 0.7445 | Val Acc: 0.5191\n"
     ]
    },
    {
     "name": "stderr",
     "output_type": "stream",
     "text": [
      "Epoch 42/50 [Train]: 100%|██████████| 196/196 [00:01<00:00, 124.83it/s, loss=0.671]\n",
      "Epoch 42/50 [Val]: 100%|██████████| 116/116 [00:00<00:00, 229.49it/s, loss=0.796]\n"
     ]
    },
    {
     "name": "stdout",
     "output_type": "stream",
     "text": [
      "Epoch 42/50 | Train Loss: 0.6226 | Train Acc: 0.5969 | Val Loss: 0.7449 | Val Acc: 0.5187\n"
     ]
    },
    {
     "name": "stderr",
     "output_type": "stream",
     "text": [
      "Epoch 43/50 [Train]: 100%|██████████| 196/196 [00:01<00:00, 125.40it/s, loss=0.586]\n",
      "Epoch 43/50 [Val]: 100%|██████████| 116/116 [00:00<00:00, 229.17it/s, loss=0.761]\n"
     ]
    },
    {
     "name": "stdout",
     "output_type": "stream",
     "text": [
      "Epoch 43/50 | Train Loss: 0.6180 | Train Acc: 0.5985 | Val Loss: 0.7451 | Val Acc: 0.5327\n"
     ]
    },
    {
     "name": "stderr",
     "output_type": "stream",
     "text": [
      "Epoch 44/50 [Train]: 100%|██████████| 196/196 [00:01<00:00, 124.63it/s, loss=0.62]\n",
      "Epoch 44/50 [Val]: 100%|██████████| 116/116 [00:00<00:00, 232.27it/s, loss=0.78]\n"
     ]
    },
    {
     "name": "stdout",
     "output_type": "stream",
     "text": [
      "Epoch 44/50 | Train Loss: 0.6230 | Train Acc: 0.6012 | Val Loss: 0.7423 | Val Acc: 0.5243\n"
     ]
    },
    {
     "name": "stderr",
     "output_type": "stream",
     "text": [
      "Epoch 45/50 [Train]: 100%|██████████| 196/196 [00:01<00:00, 124.08it/s, loss=0.627]\n",
      "Epoch 45/50 [Val]: 100%|██████████| 116/116 [00:00<00:00, 229.97it/s, loss=0.799]\n"
     ]
    },
    {
     "name": "stdout",
     "output_type": "stream",
     "text": [
      "Epoch 45/50 | Train Loss: 0.6168 | Train Acc: 0.6035 | Val Loss: 0.7438 | Val Acc: 0.5405\n"
     ]
    },
    {
     "name": "stderr",
     "output_type": "stream",
     "text": [
      "Epoch 46/50 [Train]: 100%|██████████| 196/196 [00:01<00:00, 124.76it/s, loss=0.672]\n",
      "Epoch 46/50 [Val]: 100%|██████████| 116/116 [00:00<00:00, 230.91it/s, loss=0.768]\n"
     ]
    },
    {
     "name": "stdout",
     "output_type": "stream",
     "text": [
      "Epoch 46/50 | Train Loss: 0.6129 | Train Acc: 0.6158 | Val Loss: 0.7459 | Val Acc: 0.5204\n"
     ]
    },
    {
     "name": "stderr",
     "output_type": "stream",
     "text": [
      "Epoch 47/50 [Train]: 100%|██████████| 196/196 [00:01<00:00, 126.01it/s, loss=0.593]\n",
      "Epoch 47/50 [Val]: 100%|██████████| 116/116 [00:00<00:00, 231.75it/s, loss=0.783]\n"
     ]
    },
    {
     "name": "stdout",
     "output_type": "stream",
     "text": [
      "Epoch 47/50 | Train Loss: 0.6085 | Train Acc: 0.6104 | Val Loss: 0.7484 | Val Acc: 0.5316\n"
     ]
    },
    {
     "name": "stderr",
     "output_type": "stream",
     "text": [
      "Epoch 48/50 [Train]: 100%|██████████| 196/196 [00:01<00:00, 124.29it/s, loss=0.591]\n",
      "Epoch 48/50 [Val]: 100%|██████████| 116/116 [00:00<00:00, 226.21it/s, loss=0.741]\n"
     ]
    },
    {
     "name": "stdout",
     "output_type": "stream",
     "text": [
      "Epoch 48/50 | Train Loss: 0.6238 | Train Acc: 0.5995 | Val Loss: 0.7399 | Val Acc: 0.5186\n"
     ]
    },
    {
     "name": "stderr",
     "output_type": "stream",
     "text": [
      "Epoch 49/50 [Train]: 100%|██████████| 196/196 [00:02<00:00, 90.31it/s, loss=0.645]\n",
      "Epoch 49/50 [Val]: 100%|██████████| 116/116 [00:00<00:00, 194.06it/s, loss=0.76]\n"
     ]
    },
    {
     "name": "stdout",
     "output_type": "stream",
     "text": [
      "Epoch 49/50 | Train Loss: 0.6172 | Train Acc: 0.5993 | Val Loss: 0.7486 | Val Acc: 0.5231\n"
     ]
    },
    {
     "name": "stderr",
     "output_type": "stream",
     "text": [
      "Epoch 50/50 [Train]: 100%|██████████| 196/196 [00:01<00:00, 124.96it/s, loss=0.611]\n",
      "Epoch 50/50 [Val]: 100%|██████████| 116/116 [00:00<00:00, 219.96it/s, loss=0.797]\n"
     ]
    },
    {
     "name": "stdout",
     "output_type": "stream",
     "text": [
      "Epoch 50/50 | Train Loss: 0.6125 | Train Acc: 0.6022 | Val Loss: 0.7550 | Val Acc: 0.5300\n",
      "\n",
      "Final Validation Metrics:\n",
      "Accuracy:  0.5300\n",
      "Precision: 0.5322\n",
      "Recall:    0.5568\n",
      "F1-score:  0.5442\n",
      "[[7367 7286]\n",
      " [6598 8288]]\n"
     ]
    }
   ],
   "source": [
    "model = RNNModel(64, 128, 20002)\n",
    "optimizer = optim.Adam(model.parameters(), lr=learning_rate)\n",
    "train_loop(model, False, 50, \"RNN\")"
   ]
  },
  {
   "cell_type": "code",
   "execution_count": 20,
   "id": "fe1c6318",
   "metadata": {
    "execution": {
     "iopub.execute_input": "2025-03-09T07:28:32.782296Z",
     "iopub.status.busy": "2025-03-09T07:28:32.781692Z",
     "iopub.status.idle": "2025-03-09T07:33:02.121882Z",
     "shell.execute_reply": "2025-03-09T07:33:02.120850Z"
    },
    "papermill": {
     "duration": 270.167677,
     "end_time": "2025-03-09T07:33:02.123305",
     "exception": false,
     "start_time": "2025-03-09T07:28:31.955628",
     "status": "completed"
    },
    "tags": []
   },
   "outputs": [
    {
     "name": "stderr",
     "output_type": "stream",
     "text": [
      "Epoch 1/50 [Train]: 100%|██████████| 196/196 [00:04<00:00, 48.52it/s, loss=0.689]\n",
      "Epoch 1/50 [Val]: 100%|██████████| 116/116 [00:01<00:00, 108.27it/s, loss=0.69]\n"
     ]
    },
    {
     "name": "stdout",
     "output_type": "stream",
     "text": [
      "Epoch 1/50 | Train Loss: 0.6921 | Train Acc: 0.5147 | Val Loss: 0.6892 | Val Acc: 0.5273\n"
     ]
    },
    {
     "name": "stderr",
     "output_type": "stream",
     "text": [
      "Epoch 2/50 [Train]: 100%|██████████| 196/196 [00:03<00:00, 49.57it/s, loss=0.664]\n",
      "Epoch 2/50 [Val]: 100%|██████████| 116/116 [00:01<00:00, 107.19it/s, loss=0.653]\n"
     ]
    },
    {
     "name": "stdout",
     "output_type": "stream",
     "text": [
      "Epoch 2/50 | Train Loss: 0.6754 | Train Acc: 0.5753 | Val Loss: 0.6469 | Val Acc: 0.6464\n"
     ]
    },
    {
     "name": "stderr",
     "output_type": "stream",
     "text": [
      "Epoch 3/50 [Train]: 100%|██████████| 196/196 [00:03<00:00, 49.46it/s, loss=0.608]\n",
      "Epoch 3/50 [Val]: 100%|██████████| 116/116 [00:01<00:00, 107.42it/s, loss=0.652]\n"
     ]
    },
    {
     "name": "stdout",
     "output_type": "stream",
     "text": [
      "Epoch 3/50 | Train Loss: 0.6441 | Train Acc: 0.6482 | Val Loss: 0.6363 | Val Acc: 0.6644\n"
     ]
    },
    {
     "name": "stderr",
     "output_type": "stream",
     "text": [
      "Epoch 4/50 [Train]: 100%|██████████| 196/196 [00:03<00:00, 49.38it/s, loss=0.686]\n",
      "Epoch 4/50 [Val]: 100%|██████████| 116/116 [00:01<00:00, 107.75it/s, loss=0.68]\n"
     ]
    },
    {
     "name": "stdout",
     "output_type": "stream",
     "text": [
      "Epoch 4/50 | Train Loss: 0.6858 | Train Acc: 0.5440 | Val Loss: 0.6878 | Val Acc: 0.5402\n"
     ]
    },
    {
     "name": "stderr",
     "output_type": "stream",
     "text": [
      "Epoch 5/50 [Train]: 100%|██████████| 196/196 [00:03<00:00, 49.65it/s, loss=0.681]\n",
      "Epoch 5/50 [Val]: 100%|██████████| 116/116 [00:01<00:00, 107.69it/s, loss=0.713]\n"
     ]
    },
    {
     "name": "stdout",
     "output_type": "stream",
     "text": [
      "Epoch 5/50 | Train Loss: 0.6864 | Train Acc: 0.5416 | Val Loss: 0.6909 | Val Acc: 0.5222\n"
     ]
    },
    {
     "name": "stderr",
     "output_type": "stream",
     "text": [
      "Epoch 6/50 [Train]: 100%|██████████| 196/196 [00:04<00:00, 48.44it/s, loss=0.749]\n",
      "Epoch 6/50 [Val]: 100%|██████████| 116/116 [00:01<00:00, 107.83it/s, loss=0.787]\n"
     ]
    },
    {
     "name": "stdout",
     "output_type": "stream",
     "text": [
      "Epoch 6/50 | Train Loss: 0.6828 | Train Acc: 0.5505 | Val Loss: 0.6997 | Val Acc: 0.5221\n"
     ]
    },
    {
     "name": "stderr",
     "output_type": "stream",
     "text": [
      "Epoch 7/50 [Train]: 100%|██████████| 196/196 [00:04<00:00, 48.71it/s, loss=0.67]\n",
      "Epoch 7/50 [Val]: 100%|██████████| 116/116 [00:01<00:00, 106.13it/s, loss=0.697]\n"
     ]
    },
    {
     "name": "stdout",
     "output_type": "stream",
     "text": [
      "Epoch 7/50 | Train Loss: 0.6819 | Train Acc: 0.5554 | Val Loss: 0.6806 | Val Acc: 0.5416\n"
     ]
    },
    {
     "name": "stderr",
     "output_type": "stream",
     "text": [
      "Epoch 8/50 [Train]: 100%|██████████| 196/196 [00:04<00:00, 48.71it/s, loss=0.703]\n",
      "Epoch 8/50 [Val]: 100%|██████████| 116/116 [00:01<00:00, 107.58it/s, loss=0.612]\n"
     ]
    },
    {
     "name": "stdout",
     "output_type": "stream",
     "text": [
      "Epoch 8/50 | Train Loss: 0.6570 | Train Acc: 0.6116 | Val Loss: 0.7713 | Val Acc: 0.5054\n"
     ]
    },
    {
     "name": "stderr",
     "output_type": "stream",
     "text": [
      "Epoch 9/50 [Train]: 100%|██████████| 196/196 [00:04<00:00, 48.30it/s, loss=0.706]\n",
      "Epoch 9/50 [Val]: 100%|██████████| 116/116 [00:01<00:00, 105.70it/s, loss=0.665]\n"
     ]
    },
    {
     "name": "stdout",
     "output_type": "stream",
     "text": [
      "Epoch 9/50 | Train Loss: 0.6798 | Train Acc: 0.5612 | Val Loss: 0.6759 | Val Acc: 0.5568\n"
     ]
    },
    {
     "name": "stderr",
     "output_type": "stream",
     "text": [
      "Epoch 10/50 [Train]: 100%|██████████| 196/196 [00:04<00:00, 48.09it/s, loss=0.552]\n",
      "Epoch 10/50 [Val]: 100%|██████████| 116/116 [00:01<00:00, 106.25it/s, loss=0.617]\n"
     ]
    },
    {
     "name": "stdout",
     "output_type": "stream",
     "text": [
      "Epoch 10/50 | Train Loss: 0.6335 | Train Acc: 0.6394 | Val Loss: 0.6004 | Val Acc: 0.6944\n"
     ]
    },
    {
     "name": "stderr",
     "output_type": "stream",
     "text": [
      "Epoch 11/50 [Train]: 100%|██████████| 196/196 [00:04<00:00, 42.40it/s, loss=0.679]\n",
      "Epoch 11/50 [Val]: 100%|██████████| 116/116 [00:01<00:00, 106.78it/s, loss=0.695]\n"
     ]
    },
    {
     "name": "stdout",
     "output_type": "stream",
     "text": [
      "Epoch 11/50 | Train Loss: 0.6536 | Train Acc: 0.6071 | Val Loss: 0.6923 | Val Acc: 0.5161\n"
     ]
    },
    {
     "name": "stderr",
     "output_type": "stream",
     "text": [
      "Epoch 12/50 [Train]: 100%|██████████| 196/196 [00:04<00:00, 47.52it/s, loss=0.655]\n",
      "Epoch 12/50 [Val]: 100%|██████████| 116/116 [00:01<00:00, 105.37it/s, loss=0.637]\n"
     ]
    },
    {
     "name": "stdout",
     "output_type": "stream",
     "text": [
      "Epoch 12/50 | Train Loss: 0.6616 | Train Acc: 0.5956 | Val Loss: 0.6754 | Val Acc: 0.5631\n"
     ]
    },
    {
     "name": "stderr",
     "output_type": "stream",
     "text": [
      "Epoch 13/50 [Train]: 100%|██████████| 196/196 [00:04<00:00, 47.75it/s, loss=0.683]\n",
      "Epoch 13/50 [Val]: 100%|██████████| 116/116 [00:01<00:00, 106.38it/s, loss=0.63]\n"
     ]
    },
    {
     "name": "stdout",
     "output_type": "stream",
     "text": [
      "Epoch 13/50 | Train Loss: 0.6244 | Train Acc: 0.6475 | Val Loss: 0.7035 | Val Acc: 0.5170\n"
     ]
    },
    {
     "name": "stderr",
     "output_type": "stream",
     "text": [
      "Epoch 14/50 [Train]: 100%|██████████| 196/196 [00:04<00:00, 47.43it/s, loss=0.526]\n",
      "Epoch 14/50 [Val]: 100%|██████████| 116/116 [00:01<00:00, 105.91it/s, loss=0.494]\n"
     ]
    },
    {
     "name": "stdout",
     "output_type": "stream",
     "text": [
      "Epoch 14/50 | Train Loss: 0.5593 | Train Acc: 0.7249 | Val Loss: 0.5727 | Val Acc: 0.7362\n"
     ]
    },
    {
     "name": "stderr",
     "output_type": "stream",
     "text": [
      "Epoch 15/50 [Train]: 100%|██████████| 196/196 [00:04<00:00, 47.23it/s, loss=0.831]\n",
      "Epoch 15/50 [Val]: 100%|██████████| 116/116 [00:01<00:00, 104.93it/s, loss=0.963]\n"
     ]
    },
    {
     "name": "stdout",
     "output_type": "stream",
     "text": [
      "Epoch 15/50 | Train Loss: 0.5883 | Train Acc: 0.7100 | Val Loss: 0.7836 | Val Acc: 0.5106\n"
     ]
    },
    {
     "name": "stderr",
     "output_type": "stream",
     "text": [
      "Epoch 16/50 [Train]: 100%|██████████| 196/196 [00:04<00:00, 47.21it/s, loss=0.622]\n",
      "Epoch 16/50 [Val]: 100%|██████████| 116/116 [00:01<00:00, 105.74it/s, loss=0.586]\n"
     ]
    },
    {
     "name": "stdout",
     "output_type": "stream",
     "text": [
      "Epoch 16/50 | Train Loss: 0.6117 | Train Acc: 0.6499 | Val Loss: 0.6466 | Val Acc: 0.5609\n"
     ]
    },
    {
     "name": "stderr",
     "output_type": "stream",
     "text": [
      "Epoch 17/50 [Train]: 100%|██████████| 196/196 [00:04<00:00, 46.81it/s, loss=0.486]\n",
      "Epoch 17/50 [Val]: 100%|██████████| 116/116 [00:01<00:00, 105.30it/s, loss=0.555]\n"
     ]
    },
    {
     "name": "stdout",
     "output_type": "stream",
     "text": [
      "Epoch 17/50 | Train Loss: 0.4975 | Train Acc: 0.7788 | Val Loss: 0.5381 | Val Acc: 0.7628\n"
     ]
    },
    {
     "name": "stderr",
     "output_type": "stream",
     "text": [
      "Epoch 18/50 [Train]: 100%|██████████| 196/196 [00:04<00:00, 46.71it/s, loss=0.457]\n",
      "Epoch 18/50 [Val]: 100%|██████████| 116/116 [00:01<00:00, 105.27it/s, loss=0.635]\n"
     ]
    },
    {
     "name": "stdout",
     "output_type": "stream",
     "text": [
      "Epoch 18/50 | Train Loss: 0.4926 | Train Acc: 0.7774 | Val Loss: 0.5402 | Val Acc: 0.7365\n"
     ]
    },
    {
     "name": "stderr",
     "output_type": "stream",
     "text": [
      "Epoch 19/50 [Train]: 100%|██████████| 196/196 [00:04<00:00, 46.71it/s, loss=0.39]\n",
      "Epoch 19/50 [Val]: 100%|██████████| 116/116 [00:01<00:00, 106.37it/s, loss=0.55]\n"
     ]
    },
    {
     "name": "stdout",
     "output_type": "stream",
     "text": [
      "Epoch 19/50 | Train Loss: 0.4535 | Train Acc: 0.8036 | Val Loss: 0.5182 | Val Acc: 0.7617\n"
     ]
    },
    {
     "name": "stderr",
     "output_type": "stream",
     "text": [
      "Epoch 20/50 [Train]: 100%|██████████| 196/196 [00:04<00:00, 46.63it/s, loss=0.654]\n",
      "Epoch 20/50 [Val]: 100%|██████████| 116/116 [00:01<00:00, 104.99it/s, loss=0.708]\n"
     ]
    },
    {
     "name": "stdout",
     "output_type": "stream",
     "text": [
      "Epoch 20/50 | Train Loss: 0.6024 | Train Acc: 0.6426 | Val Loss: 0.6997 | Val Acc: 0.5430\n"
     ]
    },
    {
     "name": "stderr",
     "output_type": "stream",
     "text": [
      "Epoch 21/50 [Train]: 100%|██████████| 196/196 [00:04<00:00, 46.46it/s, loss=0.655]\n",
      "Epoch 21/50 [Val]: 100%|██████████| 116/116 [00:01<00:00, 105.81it/s, loss=0.633]\n"
     ]
    },
    {
     "name": "stdout",
     "output_type": "stream",
     "text": [
      "Epoch 21/50 | Train Loss: 0.6323 | Train Acc: 0.5976 | Val Loss: 0.6301 | Val Acc: 0.6676\n"
     ]
    },
    {
     "name": "stderr",
     "output_type": "stream",
     "text": [
      "Epoch 22/50 [Train]: 100%|██████████| 196/196 [00:04<00:00, 46.52it/s, loss=0.305]\n",
      "Epoch 22/50 [Val]: 100%|██████████| 116/116 [00:01<00:00, 69.89it/s, loss=0.606]\n"
     ]
    },
    {
     "name": "stdout",
     "output_type": "stream",
     "text": [
      "Epoch 22/50 | Train Loss: 0.4897 | Train Acc: 0.7777 | Val Loss: 0.5236 | Val Acc: 0.7734\n"
     ]
    },
    {
     "name": "stderr",
     "output_type": "stream",
     "text": [
      "Epoch 23/50 [Train]: 100%|██████████| 196/196 [00:04<00:00, 46.66it/s, loss=0.342]\n",
      "Epoch 23/50 [Val]: 100%|██████████| 116/116 [00:01<00:00, 102.64it/s, loss=0.562]\n"
     ]
    },
    {
     "name": "stdout",
     "output_type": "stream",
     "text": [
      "Epoch 23/50 | Train Loss: 0.4692 | Train Acc: 0.7805 | Val Loss: 0.5242 | Val Acc: 0.7526\n"
     ]
    },
    {
     "name": "stderr",
     "output_type": "stream",
     "text": [
      "Epoch 24/50 [Train]: 100%|██████████| 196/196 [00:04<00:00, 46.36it/s, loss=0.505]\n",
      "Epoch 24/50 [Val]: 100%|██████████| 116/116 [00:01<00:00, 105.10it/s, loss=0.487]\n"
     ]
    },
    {
     "name": "stdout",
     "output_type": "stream",
     "text": [
      "Epoch 24/50 | Train Loss: 0.4408 | Train Acc: 0.8101 | Val Loss: 0.5026 | Val Acc: 0.7782\n"
     ]
    },
    {
     "name": "stderr",
     "output_type": "stream",
     "text": [
      "Epoch 25/50 [Train]: 100%|██████████| 196/196 [00:04<00:00, 46.44it/s, loss=0.468]\n",
      "Epoch 25/50 [Val]: 100%|██████████| 116/116 [00:01<00:00, 104.87it/s, loss=0.537]\n"
     ]
    },
    {
     "name": "stdout",
     "output_type": "stream",
     "text": [
      "Epoch 25/50 | Train Loss: 0.4323 | Train Acc: 0.8205 | Val Loss: 0.5177 | Val Acc: 0.7780\n"
     ]
    },
    {
     "name": "stderr",
     "output_type": "stream",
     "text": [
      "Epoch 26/50 [Train]: 100%|██████████| 196/196 [00:04<00:00, 46.21it/s, loss=0.398]\n",
      "Epoch 26/50 [Val]: 100%|██████████| 116/116 [00:01<00:00, 104.67it/s, loss=0.526]\n"
     ]
    },
    {
     "name": "stdout",
     "output_type": "stream",
     "text": [
      "Epoch 26/50 | Train Loss: 0.4049 | Train Acc: 0.8273 | Val Loss: 0.4862 | Val Acc: 0.7866\n"
     ]
    },
    {
     "name": "stderr",
     "output_type": "stream",
     "text": [
      "Epoch 27/50 [Train]: 100%|██████████| 196/196 [00:04<00:00, 46.20it/s, loss=0.333]\n",
      "Epoch 27/50 [Val]: 100%|██████████| 116/116 [00:01<00:00, 104.37it/s, loss=0.527]\n"
     ]
    },
    {
     "name": "stdout",
     "output_type": "stream",
     "text": [
      "Epoch 27/50 | Train Loss: 0.3689 | Train Acc: 0.8414 | Val Loss: 0.4829 | Val Acc: 0.7886\n"
     ]
    },
    {
     "name": "stderr",
     "output_type": "stream",
     "text": [
      "Epoch 28/50 [Train]: 100%|██████████| 196/196 [00:04<00:00, 46.08it/s, loss=0.34]\n",
      "Epoch 28/50 [Val]: 100%|██████████| 116/116 [00:01<00:00, 105.17it/s, loss=0.487]\n"
     ]
    },
    {
     "name": "stdout",
     "output_type": "stream",
     "text": [
      "Epoch 28/50 | Train Loss: 0.3529 | Train Acc: 0.8482 | Val Loss: 0.4745 | Val Acc: 0.7957\n"
     ]
    },
    {
     "name": "stderr",
     "output_type": "stream",
     "text": [
      "Epoch 29/50 [Train]: 100%|██████████| 196/196 [00:04<00:00, 45.86it/s, loss=0.347]\n",
      "Epoch 29/50 [Val]: 100%|██████████| 116/116 [00:01<00:00, 102.68it/s, loss=0.505]\n"
     ]
    },
    {
     "name": "stdout",
     "output_type": "stream",
     "text": [
      "Epoch 29/50 | Train Loss: 0.3479 | Train Acc: 0.8515 | Val Loss: 0.4796 | Val Acc: 0.7959\n"
     ]
    },
    {
     "name": "stderr",
     "output_type": "stream",
     "text": [
      "Epoch 30/50 [Train]: 100%|██████████| 196/196 [00:04<00:00, 45.81it/s, loss=0.419]\n",
      "Epoch 30/50 [Val]: 100%|██████████| 116/116 [00:01<00:00, 104.15it/s, loss=0.505]\n"
     ]
    },
    {
     "name": "stdout",
     "output_type": "stream",
     "text": [
      "Epoch 30/50 | Train Loss: 0.3868 | Train Acc: 0.8384 | Val Loss: 0.4968 | Val Acc: 0.7774\n"
     ]
    },
    {
     "name": "stderr",
     "output_type": "stream",
     "text": [
      "Epoch 31/50 [Train]: 100%|██████████| 196/196 [00:04<00:00, 45.98it/s, loss=0.385]\n",
      "Epoch 31/50 [Val]: 100%|██████████| 116/116 [00:01<00:00, 104.56it/s, loss=0.531]\n"
     ]
    },
    {
     "name": "stdout",
     "output_type": "stream",
     "text": [
      "Epoch 31/50 | Train Loss: 0.3497 | Train Acc: 0.8540 | Val Loss: 0.4806 | Val Acc: 0.7942\n"
     ]
    },
    {
     "name": "stderr",
     "output_type": "stream",
     "text": [
      "Epoch 32/50 [Train]: 100%|██████████| 196/196 [00:04<00:00, 46.00it/s, loss=0.256]\n",
      "Epoch 32/50 [Val]: 100%|██████████| 116/116 [00:01<00:00, 104.70it/s, loss=0.521]\n"
     ]
    },
    {
     "name": "stdout",
     "output_type": "stream",
     "text": [
      "Epoch 32/50 | Train Loss: 0.3352 | Train Acc: 0.8536 | Val Loss: 0.4755 | Val Acc: 0.7969\n"
     ]
    },
    {
     "name": "stderr",
     "output_type": "stream",
     "text": [
      "Epoch 33/50 [Train]: 100%|██████████| 196/196 [00:04<00:00, 46.08it/s, loss=0.455]\n",
      "Epoch 33/50 [Val]: 100%|██████████| 116/116 [00:01<00:00, 105.69it/s, loss=0.549]\n"
     ]
    },
    {
     "name": "stdout",
     "output_type": "stream",
     "text": [
      "Epoch 33/50 | Train Loss: 0.3967 | Train Acc: 0.8228 | Val Loss: 0.4995 | Val Acc: 0.7796\n"
     ]
    },
    {
     "name": "stderr",
     "output_type": "stream",
     "text": [
      "Epoch 34/50 [Train]: 100%|██████████| 196/196 [00:04<00:00, 40.93it/s, loss=0.296]\n",
      "Epoch 34/50 [Val]: 100%|██████████| 116/116 [00:01<00:00, 104.82it/s, loss=0.41]\n"
     ]
    },
    {
     "name": "stdout",
     "output_type": "stream",
     "text": [
      "Epoch 34/50 | Train Loss: 0.3360 | Train Acc: 0.8553 | Val Loss: 0.4707 | Val Acc: 0.7941\n"
     ]
    },
    {
     "name": "stderr",
     "output_type": "stream",
     "text": [
      "Epoch 35/50 [Train]: 100%|██████████| 196/196 [00:04<00:00, 45.93it/s, loss=0.394]\n",
      "Epoch 35/50 [Val]: 100%|██████████| 116/116 [00:01<00:00, 105.15it/s, loss=0.503]\n"
     ]
    },
    {
     "name": "stdout",
     "output_type": "stream",
     "text": [
      "Epoch 35/50 | Train Loss: 0.3057 | Train Acc: 0.8694 | Val Loss: 0.4732 | Val Acc: 0.7936\n"
     ]
    },
    {
     "name": "stderr",
     "output_type": "stream",
     "text": [
      "Epoch 36/50 [Train]: 100%|██████████| 196/196 [00:04<00:00, 46.04it/s, loss=0.29]\n",
      "Epoch 36/50 [Val]: 100%|██████████| 116/116 [00:01<00:00, 104.62it/s, loss=0.443]\n"
     ]
    },
    {
     "name": "stdout",
     "output_type": "stream",
     "text": [
      "Epoch 36/50 | Train Loss: 0.2899 | Train Acc: 0.8768 | Val Loss: 0.4783 | Val Acc: 0.8044\n"
     ]
    },
    {
     "name": "stderr",
     "output_type": "stream",
     "text": [
      "Epoch 37/50 [Train]: 100%|██████████| 196/196 [00:04<00:00, 46.06it/s, loss=0.3]\n",
      "Epoch 37/50 [Val]: 100%|██████████| 116/116 [00:01<00:00, 105.00it/s, loss=0.466]\n"
     ]
    },
    {
     "name": "stdout",
     "output_type": "stream",
     "text": [
      "Epoch 37/50 | Train Loss: 0.2777 | Train Acc: 0.8840 | Val Loss: 0.4783 | Val Acc: 0.8039\n"
     ]
    },
    {
     "name": "stderr",
     "output_type": "stream",
     "text": [
      "Epoch 38/50 [Train]: 100%|██████████| 196/196 [00:04<00:00, 46.00it/s, loss=0.263]\n",
      "Epoch 38/50 [Val]: 100%|██████████| 116/116 [00:01<00:00, 103.71it/s, loss=0.519]\n"
     ]
    },
    {
     "name": "stdout",
     "output_type": "stream",
     "text": [
      "Epoch 38/50 | Train Loss: 0.2663 | Train Acc: 0.8888 | Val Loss: 0.4889 | Val Acc: 0.8051\n"
     ]
    },
    {
     "name": "stderr",
     "output_type": "stream",
     "text": [
      "Epoch 39/50 [Train]: 100%|██████████| 196/196 [00:04<00:00, 45.72it/s, loss=0.222]\n",
      "Epoch 39/50 [Val]: 100%|██████████| 116/116 [00:01<00:00, 103.97it/s, loss=0.462]\n"
     ]
    },
    {
     "name": "stdout",
     "output_type": "stream",
     "text": [
      "Epoch 39/50 | Train Loss: 0.2543 | Train Acc: 0.8949 | Val Loss: 0.4775 | Val Acc: 0.8089\n"
     ]
    },
    {
     "name": "stderr",
     "output_type": "stream",
     "text": [
      "Epoch 40/50 [Train]: 100%|██████████| 196/196 [00:04<00:00, 46.02it/s, loss=0.278]\n",
      "Epoch 40/50 [Val]: 100%|██████████| 116/116 [00:01<00:00, 105.25it/s, loss=0.499]\n"
     ]
    },
    {
     "name": "stdout",
     "output_type": "stream",
     "text": [
      "Epoch 40/50 | Train Loss: 0.2432 | Train Acc: 0.9018 | Val Loss: 0.4955 | Val Acc: 0.8094\n"
     ]
    },
    {
     "name": "stderr",
     "output_type": "stream",
     "text": [
      "Epoch 41/50 [Train]: 100%|██████████| 196/196 [00:04<00:00, 45.52it/s, loss=0.294]\n",
      "Epoch 41/50 [Val]: 100%|██████████| 116/116 [00:01<00:00, 104.67it/s, loss=0.498]\n"
     ]
    },
    {
     "name": "stdout",
     "output_type": "stream",
     "text": [
      "Epoch 41/50 | Train Loss: 0.2340 | Train Acc: 0.9057 | Val Loss: 0.5166 | Val Acc: 0.8103\n"
     ]
    },
    {
     "name": "stderr",
     "output_type": "stream",
     "text": [
      "Epoch 42/50 [Train]: 100%|██████████| 196/196 [00:04<00:00, 45.82it/s, loss=0.108]\n",
      "Epoch 42/50 [Val]: 100%|██████████| 116/116 [00:01<00:00, 104.86it/s, loss=0.432]\n"
     ]
    },
    {
     "name": "stdout",
     "output_type": "stream",
     "text": [
      "Epoch 42/50 | Train Loss: 0.2276 | Train Acc: 0.9078 | Val Loss: 0.5123 | Val Acc: 0.8064\n"
     ]
    },
    {
     "name": "stderr",
     "output_type": "stream",
     "text": [
      "Epoch 43/50 [Train]: 100%|██████████| 196/196 [00:04<00:00, 46.02it/s, loss=0.256]\n",
      "Epoch 43/50 [Val]: 100%|██████████| 116/116 [00:01<00:00, 105.33it/s, loss=0.489]\n"
     ]
    },
    {
     "name": "stdout",
     "output_type": "stream",
     "text": [
      "Epoch 43/50 | Train Loss: 0.2175 | Train Acc: 0.9131 | Val Loss: 0.5085 | Val Acc: 0.8082\n"
     ]
    },
    {
     "name": "stderr",
     "output_type": "stream",
     "text": [
      "Epoch 44/50 [Train]: 100%|██████████| 196/196 [00:04<00:00, 45.84it/s, loss=0.0954]\n",
      "Epoch 44/50 [Val]: 100%|██████████| 116/116 [00:01<00:00, 103.92it/s, loss=0.49]\n"
     ]
    },
    {
     "name": "stdout",
     "output_type": "stream",
     "text": [
      "Epoch 44/50 | Train Loss: 0.2114 | Train Acc: 0.9149 | Val Loss: 0.5082 | Val Acc: 0.8098\n"
     ]
    },
    {
     "name": "stderr",
     "output_type": "stream",
     "text": [
      "Epoch 45/50 [Train]: 100%|██████████| 196/196 [00:04<00:00, 45.44it/s, loss=0.202]\n",
      "Epoch 45/50 [Val]: 100%|██████████| 116/116 [00:01<00:00, 69.24it/s, loss=0.451]\n"
     ]
    },
    {
     "name": "stdout",
     "output_type": "stream",
     "text": [
      "Epoch 45/50 | Train Loss: 0.2009 | Train Acc: 0.9188 | Val Loss: 0.5267 | Val Acc: 0.8089\n"
     ]
    },
    {
     "name": "stderr",
     "output_type": "stream",
     "text": [
      "Epoch 46/50 [Train]: 100%|██████████| 196/196 [00:04<00:00, 45.57it/s, loss=0.218]\n",
      "Epoch 46/50 [Val]: 100%|██████████| 116/116 [00:01<00:00, 101.34it/s, loss=0.531]\n"
     ]
    },
    {
     "name": "stdout",
     "output_type": "stream",
     "text": [
      "Epoch 46/50 | Train Loss: 0.1951 | Train Acc: 0.9209 | Val Loss: 0.5429 | Val Acc: 0.8098\n"
     ]
    },
    {
     "name": "stderr",
     "output_type": "stream",
     "text": [
      "Epoch 47/50 [Train]: 100%|██████████| 196/196 [00:04<00:00, 45.08it/s, loss=0.217]\n",
      "Epoch 47/50 [Val]: 100%|██████████| 116/116 [00:01<00:00, 103.61it/s, loss=0.449]\n"
     ]
    },
    {
     "name": "stdout",
     "output_type": "stream",
     "text": [
      "Epoch 47/50 | Train Loss: 0.1949 | Train Acc: 0.9208 | Val Loss: 0.5399 | Val Acc: 0.8073\n"
     ]
    },
    {
     "name": "stderr",
     "output_type": "stream",
     "text": [
      "Epoch 48/50 [Train]: 100%|██████████| 196/196 [00:04<00:00, 44.96it/s, loss=0.107]\n",
      "Epoch 48/50 [Val]: 100%|██████████| 116/116 [00:01<00:00, 103.92it/s, loss=0.471]\n"
     ]
    },
    {
     "name": "stdout",
     "output_type": "stream",
     "text": [
      "Epoch 48/50 | Train Loss: 0.1843 | Train Acc: 0.9251 | Val Loss: 0.5503 | Val Acc: 0.8106\n"
     ]
    },
    {
     "name": "stderr",
     "output_type": "stream",
     "text": [
      "Epoch 49/50 [Train]: 100%|██████████| 196/196 [00:04<00:00, 44.95it/s, loss=0.285]\n",
      "Epoch 49/50 [Val]: 100%|██████████| 116/116 [00:01<00:00, 102.33it/s, loss=0.465]\n"
     ]
    },
    {
     "name": "stdout",
     "output_type": "stream",
     "text": [
      "Epoch 49/50 | Train Loss: 0.1751 | Train Acc: 0.9301 | Val Loss: 0.5643 | Val Acc: 0.8123\n"
     ]
    },
    {
     "name": "stderr",
     "output_type": "stream",
     "text": [
      "Epoch 50/50 [Train]: 100%|██████████| 196/196 [00:04<00:00, 44.60it/s, loss=0.0783]\n",
      "Epoch 50/50 [Val]: 100%|██████████| 116/116 [00:01<00:00, 103.65it/s, loss=0.466]\n"
     ]
    },
    {
     "name": "stdout",
     "output_type": "stream",
     "text": [
      "Epoch 50/50 | Train Loss: 0.1797 | Train Acc: 0.9262 | Val Loss: 0.5828 | Val Acc: 0.8107\n",
      "\n",
      "Final Validation Metrics:\n",
      "Accuracy:  0.8107\n",
      "Precision: 0.8337\n",
      "Recall:    0.7799\n",
      "F1-score:  0.8059\n",
      "[[12338  2315]\n",
      " [ 3277 11609]]\n"
     ]
    }
   ],
   "source": [
    "model = LSTMModel(64, 128, 20002)\n",
    "optimizer = optim.Adam(model.parameters(), lr=learning_rate)\n",
    "train_loop(model, True, 50, \"LSTM\")"
   ]
  },
  {
   "cell_type": "code",
   "execution_count": 21,
   "id": "bedd456b",
   "metadata": {
    "execution": {
     "iopub.execute_input": "2025-03-09T07:33:05.586125Z",
     "iopub.status.busy": "2025-03-09T07:33:05.585833Z",
     "iopub.status.idle": "2025-03-09T07:36:24.959416Z",
     "shell.execute_reply": "2025-03-09T07:36:24.958712Z"
    },
    "papermill": {
     "duration": 201.081216,
     "end_time": "2025-03-09T07:36:24.960621",
     "exception": false,
     "start_time": "2025-03-09T07:33:03.879405",
     "status": "completed"
    },
    "tags": []
   },
   "outputs": [
    {
     "name": "stderr",
     "output_type": "stream",
     "text": [
      "Epoch 1/50 [Train]: 100%|██████████| 196/196 [00:03<00:00, 62.55it/s, loss=0.7]\n",
      "Epoch 1/50 [Val]: 100%|██████████| 116/116 [00:00<00:00, 139.56it/s, loss=0.701]\n"
     ]
    },
    {
     "name": "stdout",
     "output_type": "stream",
     "text": [
      "Epoch 1/50 | Train Loss: 0.6918 | Train Acc: 0.5117 | Val Loss: 0.6891 | Val Acc: 0.5225\n"
     ]
    },
    {
     "name": "stderr",
     "output_type": "stream",
     "text": [
      "Epoch 2/50 [Train]: 100%|██████████| 196/196 [00:03<00:00, 63.58it/s, loss=0.689]\n",
      "Epoch 2/50 [Val]: 100%|██████████| 116/116 [00:00<00:00, 140.83it/s, loss=0.668]\n"
     ]
    },
    {
     "name": "stdout",
     "output_type": "stream",
     "text": [
      "Epoch 2/50 | Train Loss: 0.6811 | Train Acc: 0.5493 | Val Loss: 0.6855 | Val Acc: 0.5378\n"
     ]
    },
    {
     "name": "stderr",
     "output_type": "stream",
     "text": [
      "Epoch 3/50 [Train]: 100%|██████████| 196/196 [00:03<00:00, 63.86it/s, loss=0.694]\n",
      "Epoch 3/50 [Val]: 100%|██████████| 116/116 [00:00<00:00, 139.34it/s, loss=0.59]\n"
     ]
    },
    {
     "name": "stdout",
     "output_type": "stream",
     "text": [
      "Epoch 3/50 | Train Loss: 0.6687 | Train Acc: 0.5778 | Val Loss: 0.6458 | Val Acc: 0.6661\n"
     ]
    },
    {
     "name": "stderr",
     "output_type": "stream",
     "text": [
      "Epoch 4/50 [Train]: 100%|██████████| 196/196 [00:03<00:00, 63.55it/s, loss=0.697]\n",
      "Epoch 4/50 [Val]: 100%|██████████| 116/116 [00:00<00:00, 137.65it/s, loss=0.606]\n"
     ]
    },
    {
     "name": "stdout",
     "output_type": "stream",
     "text": [
      "Epoch 4/50 | Train Loss: 0.6403 | Train Acc: 0.6482 | Val Loss: 0.6085 | Val Acc: 0.6884\n"
     ]
    },
    {
     "name": "stderr",
     "output_type": "stream",
     "text": [
      "Epoch 5/50 [Train]: 100%|██████████| 196/196 [00:03<00:00, 63.69it/s, loss=0.598]\n",
      "Epoch 5/50 [Val]: 100%|██████████| 116/116 [00:00<00:00, 140.04it/s, loss=0.64]\n"
     ]
    },
    {
     "name": "stdout",
     "output_type": "stream",
     "text": [
      "Epoch 5/50 | Train Loss: 0.6132 | Train Acc: 0.6812 | Val Loss: 0.6228 | Val Acc: 0.6773\n"
     ]
    },
    {
     "name": "stderr",
     "output_type": "stream",
     "text": [
      "Epoch 6/50 [Train]: 100%|██████████| 196/196 [00:03<00:00, 63.57it/s, loss=0.642]\n",
      "Epoch 6/50 [Val]: 100%|██████████| 116/116 [00:00<00:00, 141.13it/s, loss=0.588]\n"
     ]
    },
    {
     "name": "stdout",
     "output_type": "stream",
     "text": [
      "Epoch 6/50 | Train Loss: 0.5669 | Train Acc: 0.7326 | Val Loss: 0.6592 | Val Acc: 0.6299\n"
     ]
    },
    {
     "name": "stderr",
     "output_type": "stream",
     "text": [
      "Epoch 7/50 [Train]: 100%|██████████| 196/196 [00:03<00:00, 53.94it/s, loss=0.41]\n",
      "Epoch 7/50 [Val]: 100%|██████████| 116/116 [00:00<00:00, 139.74it/s, loss=0.487]\n"
     ]
    },
    {
     "name": "stdout",
     "output_type": "stream",
     "text": [
      "Epoch 7/50 | Train Loss: 0.5386 | Train Acc: 0.7524 | Val Loss: 0.5969 | Val Acc: 0.7244\n"
     ]
    },
    {
     "name": "stderr",
     "output_type": "stream",
     "text": [
      "Epoch 8/50 [Train]: 100%|██████████| 196/196 [00:03<00:00, 63.69it/s, loss=0.578]\n",
      "Epoch 8/50 [Val]: 100%|██████████| 116/116 [00:00<00:00, 136.76it/s, loss=0.415]\n"
     ]
    },
    {
     "name": "stdout",
     "output_type": "stream",
     "text": [
      "Epoch 8/50 | Train Loss: 0.5059 | Train Acc: 0.7769 | Val Loss: 0.5526 | Val Acc: 0.7591\n"
     ]
    },
    {
     "name": "stderr",
     "output_type": "stream",
     "text": [
      "Epoch 9/50 [Train]: 100%|██████████| 196/196 [00:03<00:00, 63.55it/s, loss=0.287]\n",
      "Epoch 9/50 [Val]: 100%|██████████| 116/116 [00:00<00:00, 138.91it/s, loss=0.37]\n"
     ]
    },
    {
     "name": "stdout",
     "output_type": "stream",
     "text": [
      "Epoch 9/50 | Train Loss: 0.4422 | Train Acc: 0.8069 | Val Loss: 0.4774 | Val Acc: 0.7852\n"
     ]
    },
    {
     "name": "stderr",
     "output_type": "stream",
     "text": [
      "Epoch 10/50 [Train]: 100%|██████████| 196/196 [00:03<00:00, 62.98it/s, loss=0.279]\n",
      "Epoch 10/50 [Val]: 100%|██████████| 116/116 [00:00<00:00, 138.95it/s, loss=0.379]\n"
     ]
    },
    {
     "name": "stdout",
     "output_type": "stream",
     "text": [
      "Epoch 10/50 | Train Loss: 0.3908 | Train Acc: 0.8311 | Val Loss: 0.4491 | Val Acc: 0.7963\n"
     ]
    },
    {
     "name": "stderr",
     "output_type": "stream",
     "text": [
      "Epoch 11/50 [Train]: 100%|██████████| 196/196 [00:03<00:00, 63.80it/s, loss=0.287]\n",
      "Epoch 11/50 [Val]: 100%|██████████| 116/116 [00:00<00:00, 140.81it/s, loss=0.343]\n"
     ]
    },
    {
     "name": "stdout",
     "output_type": "stream",
     "text": [
      "Epoch 11/50 | Train Loss: 0.3549 | Train Acc: 0.8470 | Val Loss: 0.4396 | Val Acc: 0.8055\n"
     ]
    },
    {
     "name": "stderr",
     "output_type": "stream",
     "text": [
      "Epoch 12/50 [Train]: 100%|██████████| 196/196 [00:03<00:00, 63.92it/s, loss=0.214]\n",
      "Epoch 12/50 [Val]: 100%|██████████| 116/116 [00:00<00:00, 139.03it/s, loss=0.332]\n"
     ]
    },
    {
     "name": "stdout",
     "output_type": "stream",
     "text": [
      "Epoch 12/50 | Train Loss: 0.3270 | Train Acc: 0.8618 | Val Loss: 0.4534 | Val Acc: 0.8084\n"
     ]
    },
    {
     "name": "stderr",
     "output_type": "stream",
     "text": [
      "Epoch 13/50 [Train]: 100%|██████████| 196/196 [00:03<00:00, 64.09it/s, loss=0.312]\n",
      "Epoch 13/50 [Val]: 100%|██████████| 116/116 [00:00<00:00, 137.47it/s, loss=0.359]\n"
     ]
    },
    {
     "name": "stdout",
     "output_type": "stream",
     "text": [
      "Epoch 13/50 | Train Loss: 0.3049 | Train Acc: 0.8727 | Val Loss: 0.4475 | Val Acc: 0.8118\n"
     ]
    },
    {
     "name": "stderr",
     "output_type": "stream",
     "text": [
      "Epoch 14/50 [Train]: 100%|██████████| 196/196 [00:03<00:00, 63.90it/s, loss=0.255]\n",
      "Epoch 14/50 [Val]: 100%|██████████| 116/116 [00:00<00:00, 138.40it/s, loss=0.412]\n"
     ]
    },
    {
     "name": "stdout",
     "output_type": "stream",
     "text": [
      "Epoch 14/50 | Train Loss: 0.2836 | Train Acc: 0.8834 | Val Loss: 0.4464 | Val Acc: 0.8119\n"
     ]
    },
    {
     "name": "stderr",
     "output_type": "stream",
     "text": [
      "Epoch 15/50 [Train]: 100%|██████████| 196/196 [00:03<00:00, 63.91it/s, loss=0.244]\n",
      "Epoch 15/50 [Val]: 100%|██████████| 116/116 [00:00<00:00, 138.23it/s, loss=0.378]\n"
     ]
    },
    {
     "name": "stdout",
     "output_type": "stream",
     "text": [
      "Epoch 15/50 | Train Loss: 0.2640 | Train Acc: 0.8932 | Val Loss: 0.4485 | Val Acc: 0.8177\n"
     ]
    },
    {
     "name": "stderr",
     "output_type": "stream",
     "text": [
      "Epoch 16/50 [Train]: 100%|██████████| 196/196 [00:03<00:00, 63.90it/s, loss=0.178]\n",
      "Epoch 16/50 [Val]: 100%|██████████| 116/116 [00:00<00:00, 138.74it/s, loss=0.335]\n"
     ]
    },
    {
     "name": "stdout",
     "output_type": "stream",
     "text": [
      "Epoch 16/50 | Train Loss: 0.2430 | Train Acc: 0.9003 | Val Loss: 0.4617 | Val Acc: 0.8207\n"
     ]
    },
    {
     "name": "stderr",
     "output_type": "stream",
     "text": [
      "Epoch 17/50 [Train]: 100%|██████████| 196/196 [00:03<00:00, 63.89it/s, loss=0.171]\n",
      "Epoch 17/50 [Val]: 100%|██████████| 116/116 [00:00<00:00, 138.17it/s, loss=0.4]\n"
     ]
    },
    {
     "name": "stdout",
     "output_type": "stream",
     "text": [
      "Epoch 17/50 | Train Loss: 0.2254 | Train Acc: 0.9100 | Val Loss: 0.4728 | Val Acc: 0.8176\n"
     ]
    },
    {
     "name": "stderr",
     "output_type": "stream",
     "text": [
      "Epoch 18/50 [Train]: 100%|██████████| 196/196 [00:03<00:00, 63.41it/s, loss=0.27]\n",
      "Epoch 18/50 [Val]: 100%|██████████| 116/116 [00:01<00:00, 83.82it/s, loss=0.401]\n"
     ]
    },
    {
     "name": "stdout",
     "output_type": "stream",
     "text": [
      "Epoch 18/50 | Train Loss: 0.2119 | Train Acc: 0.9151 | Val Loss: 0.4890 | Val Acc: 0.8191\n"
     ]
    },
    {
     "name": "stderr",
     "output_type": "stream",
     "text": [
      "Epoch 19/50 [Train]: 100%|██████████| 196/196 [00:03<00:00, 63.94it/s, loss=0.147]\n",
      "Epoch 19/50 [Val]: 100%|██████████| 116/116 [00:00<00:00, 136.86it/s, loss=0.391]\n"
     ]
    },
    {
     "name": "stdout",
     "output_type": "stream",
     "text": [
      "Epoch 19/50 | Train Loss: 0.1976 | Train Acc: 0.9208 | Val Loss: 0.4879 | Val Acc: 0.8209\n"
     ]
    },
    {
     "name": "stderr",
     "output_type": "stream",
     "text": [
      "Epoch 20/50 [Train]: 100%|██████████| 196/196 [00:03<00:00, 64.14it/s, loss=0.14]\n",
      "Epoch 20/50 [Val]: 100%|██████████| 116/116 [00:00<00:00, 139.37it/s, loss=0.406]\n"
     ]
    },
    {
     "name": "stdout",
     "output_type": "stream",
     "text": [
      "Epoch 20/50 | Train Loss: 0.1777 | Train Acc: 0.9288 | Val Loss: 0.5395 | Val Acc: 0.8202\n"
     ]
    },
    {
     "name": "stderr",
     "output_type": "stream",
     "text": [
      "Epoch 21/50 [Train]: 100%|██████████| 196/196 [00:03<00:00, 64.19it/s, loss=0.182]\n",
      "Epoch 21/50 [Val]: 100%|██████████| 116/116 [00:00<00:00, 139.87it/s, loss=0.374]\n"
     ]
    },
    {
     "name": "stdout",
     "output_type": "stream",
     "text": [
      "Epoch 21/50 | Train Loss: 0.1688 | Train Acc: 0.9327 | Val Loss: 0.5212 | Val Acc: 0.8143\n"
     ]
    },
    {
     "name": "stderr",
     "output_type": "stream",
     "text": [
      "Epoch 22/50 [Train]: 100%|██████████| 196/196 [00:03<00:00, 63.94it/s, loss=0.166]\n",
      "Epoch 22/50 [Val]: 100%|██████████| 116/116 [00:00<00:00, 138.64it/s, loss=0.409]\n"
     ]
    },
    {
     "name": "stdout",
     "output_type": "stream",
     "text": [
      "Epoch 22/50 | Train Loss: 0.1556 | Train Acc: 0.9368 | Val Loss: 0.5504 | Val Acc: 0.8094\n"
     ]
    },
    {
     "name": "stderr",
     "output_type": "stream",
     "text": [
      "Epoch 23/50 [Train]: 100%|██████████| 196/196 [00:03<00:00, 64.14it/s, loss=0.131]\n",
      "Epoch 23/50 [Val]: 100%|██████████| 116/116 [00:00<00:00, 139.30it/s, loss=0.535]\n"
     ]
    },
    {
     "name": "stdout",
     "output_type": "stream",
     "text": [
      "Epoch 23/50 | Train Loss: 0.1468 | Train Acc: 0.9415 | Val Loss: 0.5899 | Val Acc: 0.8078\n"
     ]
    },
    {
     "name": "stderr",
     "output_type": "stream",
     "text": [
      "Epoch 24/50 [Train]: 100%|██████████| 196/196 [00:03<00:00, 63.84it/s, loss=0.121]\n",
      "Epoch 24/50 [Val]: 100%|██████████| 116/116 [00:00<00:00, 139.30it/s, loss=0.486]\n"
     ]
    },
    {
     "name": "stdout",
     "output_type": "stream",
     "text": [
      "Epoch 24/50 | Train Loss: 0.1345 | Train Acc: 0.9459 | Val Loss: 0.5898 | Val Acc: 0.8146\n"
     ]
    },
    {
     "name": "stderr",
     "output_type": "stream",
     "text": [
      "Epoch 25/50 [Train]: 100%|██████████| 196/196 [00:03<00:00, 63.97it/s, loss=0.151]\n",
      "Epoch 25/50 [Val]: 100%|██████████| 116/116 [00:00<00:00, 134.08it/s, loss=0.378]\n"
     ]
    },
    {
     "name": "stdout",
     "output_type": "stream",
     "text": [
      "Epoch 25/50 | Train Loss: 0.1240 | Train Acc: 0.9507 | Val Loss: 0.6102 | Val Acc: 0.8133\n"
     ]
    },
    {
     "name": "stderr",
     "output_type": "stream",
     "text": [
      "Epoch 26/50 [Train]: 100%|██████████| 196/196 [00:03<00:00, 63.43it/s, loss=0.0867]\n",
      "Epoch 26/50 [Val]: 100%|██████████| 116/116 [00:00<00:00, 139.51it/s, loss=0.471]\n"
     ]
    },
    {
     "name": "stdout",
     "output_type": "stream",
     "text": [
      "Epoch 26/50 | Train Loss: 0.1183 | Train Acc: 0.9514 | Val Loss: 0.6078 | Val Acc: 0.8179\n"
     ]
    },
    {
     "name": "stderr",
     "output_type": "stream",
     "text": [
      "Epoch 27/50 [Train]: 100%|██████████| 196/196 [00:03<00:00, 63.81it/s, loss=0.0617]\n",
      "Epoch 27/50 [Val]: 100%|██████████| 116/116 [00:00<00:00, 138.71it/s, loss=0.598]\n"
     ]
    },
    {
     "name": "stdout",
     "output_type": "stream",
     "text": [
      "Epoch 27/50 | Train Loss: 0.1116 | Train Acc: 0.9544 | Val Loss: 0.7070 | Val Acc: 0.8102\n"
     ]
    },
    {
     "name": "stderr",
     "output_type": "stream",
     "text": [
      "Epoch 28/50 [Train]: 100%|██████████| 196/196 [00:03<00:00, 64.08it/s, loss=0.104]\n",
      "Epoch 28/50 [Val]: 100%|██████████| 116/116 [00:00<00:00, 139.45it/s, loss=0.399]\n"
     ]
    },
    {
     "name": "stdout",
     "output_type": "stream",
     "text": [
      "Epoch 28/50 | Train Loss: 0.1096 | Train Acc: 0.9557 | Val Loss: 0.6381 | Val Acc: 0.8199\n"
     ]
    },
    {
     "name": "stderr",
     "output_type": "stream",
     "text": [
      "Epoch 29/50 [Train]: 100%|██████████| 196/196 [00:03<00:00, 64.01it/s, loss=0.101]\n",
      "Epoch 29/50 [Val]: 100%|██████████| 116/116 [00:00<00:00, 140.46it/s, loss=0.501]\n"
     ]
    },
    {
     "name": "stdout",
     "output_type": "stream",
     "text": [
      "Epoch 29/50 | Train Loss: 0.1055 | Train Acc: 0.9570 | Val Loss: 0.7033 | Val Acc: 0.8180\n"
     ]
    },
    {
     "name": "stderr",
     "output_type": "stream",
     "text": [
      "Epoch 30/50 [Train]: 100%|██████████| 196/196 [00:03<00:00, 54.63it/s, loss=0.0411]\n",
      "Epoch 30/50 [Val]: 100%|██████████| 116/116 [00:00<00:00, 140.88it/s, loss=0.492]\n"
     ]
    },
    {
     "name": "stdout",
     "output_type": "stream",
     "text": [
      "Epoch 30/50 | Train Loss: 0.0914 | Train Acc: 0.9623 | Val Loss: 0.7515 | Val Acc: 0.8148\n"
     ]
    },
    {
     "name": "stderr",
     "output_type": "stream",
     "text": [
      "Epoch 31/50 [Train]: 100%|██████████| 196/196 [00:03<00:00, 64.34it/s, loss=0.16]\n",
      "Epoch 31/50 [Val]: 100%|██████████| 116/116 [00:00<00:00, 140.23it/s, loss=0.482]\n"
     ]
    },
    {
     "name": "stdout",
     "output_type": "stream",
     "text": [
      "Epoch 31/50 | Train Loss: 0.0919 | Train Acc: 0.9621 | Val Loss: 0.7270 | Val Acc: 0.8118\n"
     ]
    },
    {
     "name": "stderr",
     "output_type": "stream",
     "text": [
      "Epoch 32/50 [Train]: 100%|██████████| 196/196 [00:03<00:00, 64.26it/s, loss=0.0454]\n",
      "Epoch 32/50 [Val]: 100%|██████████| 116/116 [00:00<00:00, 141.36it/s, loss=0.594]\n"
     ]
    },
    {
     "name": "stdout",
     "output_type": "stream",
     "text": [
      "Epoch 32/50 | Train Loss: 0.0884 | Train Acc: 0.9631 | Val Loss: 0.7481 | Val Acc: 0.8174\n"
     ]
    },
    {
     "name": "stderr",
     "output_type": "stream",
     "text": [
      "Epoch 33/50 [Train]: 100%|██████████| 196/196 [00:03<00:00, 64.24it/s, loss=0.0964]\n",
      "Epoch 33/50 [Val]: 100%|██████████| 116/116 [00:00<00:00, 129.96it/s, loss=0.647]\n"
     ]
    },
    {
     "name": "stdout",
     "output_type": "stream",
     "text": [
      "Epoch 33/50 | Train Loss: 0.0847 | Train Acc: 0.9645 | Val Loss: 0.7154 | Val Acc: 0.8036\n"
     ]
    },
    {
     "name": "stderr",
     "output_type": "stream",
     "text": [
      "Epoch 34/50 [Train]: 100%|██████████| 196/196 [00:03<00:00, 64.14it/s, loss=0.0495]\n",
      "Epoch 34/50 [Val]: 100%|██████████| 116/116 [00:00<00:00, 140.18it/s, loss=0.618]\n"
     ]
    },
    {
     "name": "stdout",
     "output_type": "stream",
     "text": [
      "Epoch 34/50 | Train Loss: 0.0828 | Train Acc: 0.9653 | Val Loss: 0.7512 | Val Acc: 0.8159\n"
     ]
    },
    {
     "name": "stderr",
     "output_type": "stream",
     "text": [
      "Epoch 35/50 [Train]: 100%|██████████| 196/196 [00:03<00:00, 64.55it/s, loss=0.149]\n",
      "Epoch 35/50 [Val]: 100%|██████████| 116/116 [00:00<00:00, 139.84it/s, loss=0.583]\n"
     ]
    },
    {
     "name": "stdout",
     "output_type": "stream",
     "text": [
      "Epoch 35/50 | Train Loss: 0.0760 | Train Acc: 0.9689 | Val Loss: 0.8252 | Val Acc: 0.8140\n"
     ]
    },
    {
     "name": "stderr",
     "output_type": "stream",
     "text": [
      "Epoch 36/50 [Train]: 100%|██████████| 196/196 [00:03<00:00, 64.31it/s, loss=0.0528]\n",
      "Epoch 36/50 [Val]: 100%|██████████| 116/116 [00:00<00:00, 139.73it/s, loss=0.817]\n"
     ]
    },
    {
     "name": "stdout",
     "output_type": "stream",
     "text": [
      "Epoch 36/50 | Train Loss: 0.0747 | Train Acc: 0.9694 | Val Loss: 0.7968 | Val Acc: 0.8109\n"
     ]
    },
    {
     "name": "stderr",
     "output_type": "stream",
     "text": [
      "Epoch 37/50 [Train]: 100%|██████████| 196/196 [00:03<00:00, 64.51it/s, loss=0.0385]\n",
      "Epoch 37/50 [Val]: 100%|██████████| 116/116 [00:00<00:00, 141.26it/s, loss=0.689]\n"
     ]
    },
    {
     "name": "stdout",
     "output_type": "stream",
     "text": [
      "Epoch 37/50 | Train Loss: 0.0674 | Train Acc: 0.9716 | Val Loss: 0.8059 | Val Acc: 0.8155\n"
     ]
    },
    {
     "name": "stderr",
     "output_type": "stream",
     "text": [
      "Epoch 38/50 [Train]: 100%|██████████| 196/196 [00:03<00:00, 64.75it/s, loss=0.0052]\n",
      "Epoch 38/50 [Val]: 100%|██████████| 116/116 [00:00<00:00, 139.11it/s, loss=0.603]\n"
     ]
    },
    {
     "name": "stdout",
     "output_type": "stream",
     "text": [
      "Epoch 38/50 | Train Loss: 0.0637 | Train Acc: 0.9726 | Val Loss: 0.9179 | Val Acc: 0.8146\n"
     ]
    },
    {
     "name": "stderr",
     "output_type": "stream",
     "text": [
      "Epoch 39/50 [Train]: 100%|██████████| 196/196 [00:03<00:00, 64.56it/s, loss=0.031]\n",
      "Epoch 39/50 [Val]: 100%|██████████| 116/116 [00:00<00:00, 140.32it/s, loss=0.708]\n"
     ]
    },
    {
     "name": "stdout",
     "output_type": "stream",
     "text": [
      "Epoch 39/50 | Train Loss: 0.0594 | Train Acc: 0.9743 | Val Loss: 0.9000 | Val Acc: 0.8149\n"
     ]
    },
    {
     "name": "stderr",
     "output_type": "stream",
     "text": [
      "Epoch 40/50 [Train]: 100%|██████████| 196/196 [00:03<00:00, 64.68it/s, loss=0.0558]\n",
      "Epoch 40/50 [Val]: 100%|██████████| 116/116 [00:00<00:00, 141.72it/s, loss=0.819]\n"
     ]
    },
    {
     "name": "stdout",
     "output_type": "stream",
     "text": [
      "Epoch 40/50 | Train Loss: 0.0588 | Train Acc: 0.9742 | Val Loss: 0.9264 | Val Acc: 0.8127\n"
     ]
    },
    {
     "name": "stderr",
     "output_type": "stream",
     "text": [
      "Epoch 41/50 [Train]: 100%|██████████| 196/196 [00:03<00:00, 64.49it/s, loss=0.0589]\n",
      "Epoch 41/50 [Val]: 100%|██████████| 116/116 [00:01<00:00, 80.10it/s, loss=0.659]\n"
     ]
    },
    {
     "name": "stdout",
     "output_type": "stream",
     "text": [
      "Epoch 41/50 | Train Loss: 0.0562 | Train Acc: 0.9755 | Val Loss: 0.8943 | Val Acc: 0.8152\n"
     ]
    },
    {
     "name": "stderr",
     "output_type": "stream",
     "text": [
      "Epoch 42/50 [Train]: 100%|██████████| 196/196 [00:03<00:00, 64.46it/s, loss=0.0539]\n",
      "Epoch 42/50 [Val]: 100%|██████████| 116/116 [00:00<00:00, 140.24it/s, loss=0.806]\n"
     ]
    },
    {
     "name": "stdout",
     "output_type": "stream",
     "text": [
      "Epoch 42/50 | Train Loss: 0.0557 | Train Acc: 0.9762 | Val Loss: 0.9682 | Val Acc: 0.8121\n"
     ]
    },
    {
     "name": "stderr",
     "output_type": "stream",
     "text": [
      "Epoch 43/50 [Train]: 100%|██████████| 196/196 [00:03<00:00, 64.65it/s, loss=0.0403]\n",
      "Epoch 43/50 [Val]: 100%|██████████| 116/116 [00:00<00:00, 140.80it/s, loss=0.622]\n"
     ]
    },
    {
     "name": "stdout",
     "output_type": "stream",
     "text": [
      "Epoch 43/50 | Train Loss: 0.0577 | Train Acc: 0.9755 | Val Loss: 0.9199 | Val Acc: 0.8148\n"
     ]
    },
    {
     "name": "stderr",
     "output_type": "stream",
     "text": [
      "Epoch 44/50 [Train]: 100%|██████████| 196/196 [00:03<00:00, 64.10it/s, loss=0.0922]\n",
      "Epoch 44/50 [Val]: 100%|██████████| 116/116 [00:00<00:00, 137.73it/s, loss=0.69]\n"
     ]
    },
    {
     "name": "stdout",
     "output_type": "stream",
     "text": [
      "Epoch 44/50 | Train Loss: 0.0533 | Train Acc: 0.9776 | Val Loss: 0.9914 | Val Acc: 0.8142\n"
     ]
    },
    {
     "name": "stderr",
     "output_type": "stream",
     "text": [
      "Epoch 45/50 [Train]: 100%|██████████| 196/196 [00:03<00:00, 64.19it/s, loss=0.00983]\n",
      "Epoch 45/50 [Val]: 100%|██████████| 116/116 [00:00<00:00, 137.80it/s, loss=0.673]\n"
     ]
    },
    {
     "name": "stdout",
     "output_type": "stream",
     "text": [
      "Epoch 45/50 | Train Loss: 0.0477 | Train Acc: 0.9794 | Val Loss: 0.9572 | Val Acc: 0.8133\n"
     ]
    },
    {
     "name": "stderr",
     "output_type": "stream",
     "text": [
      "Epoch 46/50 [Train]: 100%|██████████| 196/196 [00:03<00:00, 64.28it/s, loss=0.071]\n",
      "Epoch 46/50 [Val]: 100%|██████████| 116/116 [00:00<00:00, 137.45it/s, loss=0.818]\n"
     ]
    },
    {
     "name": "stdout",
     "output_type": "stream",
     "text": [
      "Epoch 46/50 | Train Loss: 0.0442 | Train Acc: 0.9805 | Val Loss: 1.0188 | Val Acc: 0.8117\n"
     ]
    },
    {
     "name": "stderr",
     "output_type": "stream",
     "text": [
      "Epoch 47/50 [Train]: 100%|██████████| 196/196 [00:03<00:00, 63.65it/s, loss=0.0233]\n",
      "Epoch 47/50 [Val]: 100%|██████████| 116/116 [00:00<00:00, 138.22it/s, loss=0.884]\n"
     ]
    },
    {
     "name": "stdout",
     "output_type": "stream",
     "text": [
      "Epoch 47/50 | Train Loss: 0.0434 | Train Acc: 0.9811 | Val Loss: 1.0964 | Val Acc: 0.8098\n"
     ]
    },
    {
     "name": "stderr",
     "output_type": "stream",
     "text": [
      "Epoch 48/50 [Train]: 100%|██████████| 196/196 [00:03<00:00, 64.45it/s, loss=0.0413]\n",
      "Epoch 48/50 [Val]: 100%|██████████| 116/116 [00:00<00:00, 139.58it/s, loss=0.749]\n"
     ]
    },
    {
     "name": "stdout",
     "output_type": "stream",
     "text": [
      "Epoch 48/50 | Train Loss: 0.0383 | Train Acc: 0.9828 | Val Loss: 1.1231 | Val Acc: 0.8089\n"
     ]
    },
    {
     "name": "stderr",
     "output_type": "stream",
     "text": [
      "Epoch 49/50 [Train]: 100%|██████████| 196/196 [00:03<00:00, 63.62it/s, loss=0.0337]\n",
      "Epoch 49/50 [Val]: 100%|██████████| 116/116 [00:00<00:00, 127.44it/s, loss=0.711]\n"
     ]
    },
    {
     "name": "stdout",
     "output_type": "stream",
     "text": [
      "Epoch 49/50 | Train Loss: 0.0375 | Train Acc: 0.9840 | Val Loss: 1.0561 | Val Acc: 0.8155\n"
     ]
    },
    {
     "name": "stderr",
     "output_type": "stream",
     "text": [
      "Epoch 50/50 [Train]: 100%|██████████| 196/196 [00:03<00:00, 63.95it/s, loss=0.0214]\n",
      "Epoch 50/50 [Val]: 100%|██████████| 116/116 [00:00<00:00, 139.81it/s, loss=0.891]\n"
     ]
    },
    {
     "name": "stdout",
     "output_type": "stream",
     "text": [
      "Epoch 50/50 | Train Loss: 0.0438 | Train Acc: 0.9820 | Val Loss: 1.0772 | Val Acc: 0.8075\n",
      "\n",
      "Final Validation Metrics:\n",
      "Accuracy:  0.8075\n",
      "Precision: 0.8214\n",
      "Recall:    0.7897\n",
      "F1-score:  0.8053\n",
      "[[12097  2556]\n",
      " [ 3130 11756]]\n"
     ]
    }
   ],
   "source": [
    "model = GRUModel(64, 128, 20002)\n",
    "optimizer = optim.Adam(model.parameters(), lr=learning_rate)\n",
    "train_loop(model, False, 50, \"GRU\")"
   ]
  },
  {
   "cell_type": "code",
   "execution_count": 22,
   "id": "780eb0a3",
   "metadata": {
    "execution": {
     "iopub.execute_input": "2025-03-09T07:36:30.119554Z",
     "iopub.status.busy": "2025-03-09T07:36:30.119262Z",
     "iopub.status.idle": "2025-03-09T07:44:45.566969Z",
     "shell.execute_reply": "2025-03-09T07:44:45.566240Z"
    },
    "papermill": {
     "duration": 498.047409,
     "end_time": "2025-03-09T07:44:45.568187",
     "exception": false,
     "start_time": "2025-03-09T07:36:27.520778",
     "status": "completed"
    },
    "tags": []
   },
   "outputs": [
    {
     "name": "stderr",
     "output_type": "stream",
     "text": [
      "Epoch 1/50 [Train]: 100%|██████████| 196/196 [00:07<00:00, 24.53it/s, loss=0.684]\n",
      "Epoch 1/50 [Val]: 100%|██████████| 116/116 [00:01<00:00, 61.05it/s, loss=0.715]\n"
     ]
    },
    {
     "name": "stdout",
     "output_type": "stream",
     "text": [
      "Epoch 1/50 | Train Loss: 0.6943 | Train Acc: 0.5036 | Val Loss: 0.6927 | Val Acc: 0.5145\n"
     ]
    },
    {
     "name": "stderr",
     "output_type": "stream",
     "text": [
      "Epoch 2/50 [Train]: 100%|██████████| 196/196 [00:07<00:00, 24.83it/s, loss=0.689]\n",
      "Epoch 2/50 [Val]: 100%|██████████| 116/116 [00:01<00:00, 60.95it/s, loss=0.7]\n"
     ]
    },
    {
     "name": "stdout",
     "output_type": "stream",
     "text": [
      "Epoch 2/50 | Train Loss: 0.6923 | Train Acc: 0.5122 | Val Loss: 0.6925 | Val Acc: 0.5123\n"
     ]
    },
    {
     "name": "stderr",
     "output_type": "stream",
     "text": [
      "Epoch 3/50 [Train]: 100%|██████████| 196/196 [00:08<00:00, 23.25it/s, loss=0.715]\n",
      "Epoch 3/50 [Val]: 100%|██████████| 116/116 [00:01<00:00, 61.31it/s, loss=0.691]\n"
     ]
    },
    {
     "name": "stdout",
     "output_type": "stream",
     "text": [
      "Epoch 3/50 | Train Loss: 0.6889 | Train Acc: 0.5322 | Val Loss: 0.6756 | Val Acc: 0.5892\n"
     ]
    },
    {
     "name": "stderr",
     "output_type": "stream",
     "text": [
      "Epoch 4/50 [Train]: 100%|██████████| 196/196 [00:07<00:00, 24.80it/s, loss=0.68]\n",
      "Epoch 4/50 [Val]: 100%|██████████| 116/116 [00:01<00:00, 60.85it/s, loss=0.717]\n"
     ]
    },
    {
     "name": "stdout",
     "output_type": "stream",
     "text": [
      "Epoch 4/50 | Train Loss: 0.6870 | Train Acc: 0.5350 | Val Loss: 0.6944 | Val Acc: 0.5114\n"
     ]
    },
    {
     "name": "stderr",
     "output_type": "stream",
     "text": [
      "Epoch 5/50 [Train]: 100%|██████████| 196/196 [00:07<00:00, 24.75it/s, loss=0.667]\n",
      "Epoch 5/50 [Val]: 100%|██████████| 116/116 [00:01<00:00, 61.04it/s, loss=0.704]\n"
     ]
    },
    {
     "name": "stdout",
     "output_type": "stream",
     "text": [
      "Epoch 5/50 | Train Loss: 0.6841 | Train Acc: 0.5336 | Val Loss: 0.6951 | Val Acc: 0.5145\n"
     ]
    },
    {
     "name": "stderr",
     "output_type": "stream",
     "text": [
      "Epoch 6/50 [Train]: 100%|██████████| 196/196 [00:07<00:00, 24.83it/s, loss=0.67]\n",
      "Epoch 6/50 [Val]: 100%|██████████| 116/116 [00:01<00:00, 61.25it/s, loss=0.721]\n"
     ]
    },
    {
     "name": "stdout",
     "output_type": "stream",
     "text": [
      "Epoch 6/50 | Train Loss: 0.6792 | Train Acc: 0.5468 | Val Loss: 0.6983 | Val Acc: 0.5092\n"
     ]
    },
    {
     "name": "stderr",
     "output_type": "stream",
     "text": [
      "Epoch 7/50 [Train]: 100%|██████████| 196/196 [00:07<00:00, 24.80it/s, loss=0.653]\n",
      "Epoch 7/50 [Val]: 100%|██████████| 116/116 [00:01<00:00, 60.92it/s, loss=0.717]\n"
     ]
    },
    {
     "name": "stdout",
     "output_type": "stream",
     "text": [
      "Epoch 7/50 | Train Loss: 0.6781 | Train Acc: 0.5379 | Val Loss: 0.7006 | Val Acc: 0.5167\n"
     ]
    },
    {
     "name": "stderr",
     "output_type": "stream",
     "text": [
      "Epoch 8/50 [Train]: 100%|██████████| 196/196 [00:07<00:00, 24.77it/s, loss=0.722]\n",
      "Epoch 8/50 [Val]: 100%|██████████| 116/116 [00:01<00:00, 61.28it/s, loss=0.705]\n"
     ]
    },
    {
     "name": "stdout",
     "output_type": "stream",
     "text": [
      "Epoch 8/50 | Train Loss: 0.6705 | Train Acc: 0.5516 | Val Loss: 0.7056 | Val Acc: 0.5145\n"
     ]
    },
    {
     "name": "stderr",
     "output_type": "stream",
     "text": [
      "Epoch 9/50 [Train]: 100%|██████████| 196/196 [00:07<00:00, 24.83it/s, loss=0.647]\n",
      "Epoch 9/50 [Val]: 100%|██████████| 116/116 [00:01<00:00, 60.86it/s, loss=0.699]\n"
     ]
    },
    {
     "name": "stdout",
     "output_type": "stream",
     "text": [
      "Epoch 9/50 | Train Loss: 0.6653 | Train Acc: 0.5608 | Val Loss: 0.7025 | Val Acc: 0.5206\n"
     ]
    },
    {
     "name": "stderr",
     "output_type": "stream",
     "text": [
      "Epoch 10/50 [Train]: 100%|██████████| 196/196 [00:07<00:00, 24.82it/s, loss=0.578]\n",
      "Epoch 10/50 [Val]: 100%|██████████| 116/116 [00:01<00:00, 60.65it/s, loss=0.563]\n"
     ]
    },
    {
     "name": "stdout",
     "output_type": "stream",
     "text": [
      "Epoch 10/50 | Train Loss: 0.6106 | Train Acc: 0.6558 | Val Loss: 0.6136 | Val Acc: 0.6718\n"
     ]
    },
    {
     "name": "stderr",
     "output_type": "stream",
     "text": [
      "Epoch 11/50 [Train]: 100%|██████████| 196/196 [00:07<00:00, 24.84it/s, loss=0.556]\n",
      "Epoch 11/50 [Val]: 100%|██████████| 116/116 [00:01<00:00, 60.02it/s, loss=0.559]\n"
     ]
    },
    {
     "name": "stdout",
     "output_type": "stream",
     "text": [
      "Epoch 11/50 | Train Loss: 0.5629 | Train Acc: 0.7198 | Val Loss: 0.5831 | Val Acc: 0.7084\n"
     ]
    },
    {
     "name": "stderr",
     "output_type": "stream",
     "text": [
      "Epoch 12/50 [Train]: 100%|██████████| 196/196 [00:07<00:00, 24.87it/s, loss=0.46]\n",
      "Epoch 12/50 [Val]: 100%|██████████| 116/116 [00:01<00:00, 59.82it/s, loss=0.55]\n"
     ]
    },
    {
     "name": "stdout",
     "output_type": "stream",
     "text": [
      "Epoch 12/50 | Train Loss: 0.5359 | Train Acc: 0.7419 | Val Loss: 0.5824 | Val Acc: 0.6937\n"
     ]
    },
    {
     "name": "stderr",
     "output_type": "stream",
     "text": [
      "Epoch 13/50 [Train]: 100%|██████████| 196/196 [00:07<00:00, 24.91it/s, loss=0.426]\n",
      "Epoch 13/50 [Val]: 100%|██████████| 116/116 [00:01<00:00, 60.12it/s, loss=0.485]\n"
     ]
    },
    {
     "name": "stdout",
     "output_type": "stream",
     "text": [
      "Epoch 13/50 | Train Loss: 0.4886 | Train Acc: 0.7676 | Val Loss: 0.5677 | Val Acc: 0.7270\n"
     ]
    },
    {
     "name": "stderr",
     "output_type": "stream",
     "text": [
      "Epoch 14/50 [Train]: 100%|██████████| 196/196 [00:07<00:00, 24.90it/s, loss=0.351]\n",
      "Epoch 14/50 [Val]: 100%|██████████| 116/116 [00:01<00:00, 60.40it/s, loss=0.464]\n"
     ]
    },
    {
     "name": "stdout",
     "output_type": "stream",
     "text": [
      "Epoch 14/50 | Train Loss: 0.4930 | Train Acc: 0.7612 | Val Loss: 0.5573 | Val Acc: 0.7288\n"
     ]
    },
    {
     "name": "stderr",
     "output_type": "stream",
     "text": [
      "Epoch 15/50 [Train]: 100%|██████████| 196/196 [00:08<00:00, 23.30it/s, loss=0.354]\n",
      "Epoch 15/50 [Val]: 100%|██████████| 116/116 [00:01<00:00, 60.04it/s, loss=0.476]\n"
     ]
    },
    {
     "name": "stdout",
     "output_type": "stream",
     "text": [
      "Epoch 15/50 | Train Loss: 0.4454 | Train Acc: 0.7925 | Val Loss: 0.5325 | Val Acc: 0.7586\n"
     ]
    },
    {
     "name": "stderr",
     "output_type": "stream",
     "text": [
      "Epoch 16/50 [Train]: 100%|██████████| 196/196 [00:07<00:00, 24.83it/s, loss=0.315]\n",
      "Epoch 16/50 [Val]: 100%|██████████| 116/116 [00:01<00:00, 60.90it/s, loss=0.514]\n"
     ]
    },
    {
     "name": "stdout",
     "output_type": "stream",
     "text": [
      "Epoch 16/50 | Train Loss: 0.4151 | Train Acc: 0.8133 | Val Loss: 0.5530 | Val Acc: 0.7505\n"
     ]
    },
    {
     "name": "stderr",
     "output_type": "stream",
     "text": [
      "Epoch 17/50 [Train]: 100%|██████████| 196/196 [00:07<00:00, 24.78it/s, loss=0.59]\n",
      "Epoch 17/50 [Val]: 100%|██████████| 116/116 [00:01<00:00, 60.96it/s, loss=0.79]\n"
     ]
    },
    {
     "name": "stdout",
     "output_type": "stream",
     "text": [
      "Epoch 17/50 | Train Loss: 0.4877 | Train Acc: 0.7789 | Val Loss: 0.7104 | Val Acc: 0.5461\n"
     ]
    },
    {
     "name": "stderr",
     "output_type": "stream",
     "text": [
      "Epoch 18/50 [Train]: 100%|██████████| 196/196 [00:07<00:00, 24.81it/s, loss=0.373]\n",
      "Epoch 18/50 [Val]: 100%|██████████| 116/116 [00:01<00:00, 60.19it/s, loss=0.523]\n"
     ]
    },
    {
     "name": "stdout",
     "output_type": "stream",
     "text": [
      "Epoch 18/50 | Train Loss: 0.4927 | Train Acc: 0.7643 | Val Loss: 0.5248 | Val Acc: 0.7667\n"
     ]
    },
    {
     "name": "stderr",
     "output_type": "stream",
     "text": [
      "Epoch 19/50 [Train]: 100%|██████████| 196/196 [00:07<00:00, 24.80it/s, loss=0.403]\n",
      "Epoch 19/50 [Val]: 100%|██████████| 116/116 [00:01<00:00, 60.68it/s, loss=0.57]\n"
     ]
    },
    {
     "name": "stdout",
     "output_type": "stream",
     "text": [
      "Epoch 19/50 | Train Loss: 0.3921 | Train Acc: 0.8299 | Val Loss: 0.5150 | Val Acc: 0.7699\n"
     ]
    },
    {
     "name": "stderr",
     "output_type": "stream",
     "text": [
      "Epoch 20/50 [Train]: 100%|██████████| 196/196 [00:07<00:00, 24.91it/s, loss=0.308]\n",
      "Epoch 20/50 [Val]: 100%|██████████| 116/116 [00:01<00:00, 60.10it/s, loss=0.617]\n"
     ]
    },
    {
     "name": "stdout",
     "output_type": "stream",
     "text": [
      "Epoch 20/50 | Train Loss: 0.3823 | Train Acc: 0.8353 | Val Loss: 0.5434 | Val Acc: 0.7632\n"
     ]
    },
    {
     "name": "stderr",
     "output_type": "stream",
     "text": [
      "Epoch 21/50 [Train]: 100%|██████████| 196/196 [00:07<00:00, 24.89it/s, loss=0.49]\n",
      "Epoch 21/50 [Val]: 100%|██████████| 116/116 [00:01<00:00, 59.77it/s, loss=0.643]\n"
     ]
    },
    {
     "name": "stdout",
     "output_type": "stream",
     "text": [
      "Epoch 21/50 | Train Loss: 0.4824 | Train Acc: 0.7811 | Val Loss: 0.6060 | Val Acc: 0.6771\n"
     ]
    },
    {
     "name": "stderr",
     "output_type": "stream",
     "text": [
      "Epoch 22/50 [Train]: 100%|██████████| 196/196 [00:07<00:00, 24.80it/s, loss=0.361]\n",
      "Epoch 22/50 [Val]: 100%|██████████| 116/116 [00:01<00:00, 59.45it/s, loss=0.557]\n"
     ]
    },
    {
     "name": "stdout",
     "output_type": "stream",
     "text": [
      "Epoch 22/50 | Train Loss: 0.4541 | Train Acc: 0.8000 | Val Loss: 0.5331 | Val Acc: 0.7651\n"
     ]
    },
    {
     "name": "stderr",
     "output_type": "stream",
     "text": [
      "Epoch 23/50 [Train]: 100%|██████████| 196/196 [00:07<00:00, 24.86it/s, loss=0.317]\n",
      "Epoch 23/50 [Val]: 100%|██████████| 116/116 [00:01<00:00, 59.71it/s, loss=0.586]\n"
     ]
    },
    {
     "name": "stdout",
     "output_type": "stream",
     "text": [
      "Epoch 23/50 | Train Loss: 0.4337 | Train Acc: 0.8014 | Val Loss: 0.5336 | Val Acc: 0.7536\n"
     ]
    },
    {
     "name": "stderr",
     "output_type": "stream",
     "text": [
      "Epoch 24/50 [Train]: 100%|██████████| 196/196 [00:07<00:00, 24.82it/s, loss=0.292]\n",
      "Epoch 24/50 [Val]: 100%|██████████| 116/116 [00:01<00:00, 59.66it/s, loss=0.531]\n"
     ]
    },
    {
     "name": "stdout",
     "output_type": "stream",
     "text": [
      "Epoch 24/50 | Train Loss: 0.3833 | Train Acc: 0.8344 | Val Loss: 0.5320 | Val Acc: 0.7644\n"
     ]
    },
    {
     "name": "stderr",
     "output_type": "stream",
     "text": [
      "Epoch 25/50 [Train]: 100%|██████████| 196/196 [00:07<00:00, 24.88it/s, loss=0.425]\n",
      "Epoch 25/50 [Val]: 100%|██████████| 116/116 [00:01<00:00, 60.03it/s, loss=0.533]\n"
     ]
    },
    {
     "name": "stdout",
     "output_type": "stream",
     "text": [
      "Epoch 25/50 | Train Loss: 0.3626 | Train Acc: 0.8423 | Val Loss: 0.5218 | Val Acc: 0.7709\n"
     ]
    },
    {
     "name": "stderr",
     "output_type": "stream",
     "text": [
      "Epoch 26/50 [Train]: 100%|██████████| 196/196 [00:07<00:00, 24.87it/s, loss=0.399]\n",
      "Epoch 26/50 [Val]: 100%|██████████| 116/116 [00:01<00:00, 59.93it/s, loss=0.564]\n"
     ]
    },
    {
     "name": "stdout",
     "output_type": "stream",
     "text": [
      "Epoch 26/50 | Train Loss: 0.3491 | Train Acc: 0.8489 | Val Loss: 0.5231 | Val Acc: 0.7715\n"
     ]
    },
    {
     "name": "stderr",
     "output_type": "stream",
     "text": [
      "Epoch 27/50 [Train]: 100%|██████████| 196/196 [00:08<00:00, 23.30it/s, loss=0.338]\n",
      "Epoch 27/50 [Val]: 100%|██████████| 116/116 [00:01<00:00, 60.17it/s, loss=0.588]\n"
     ]
    },
    {
     "name": "stdout",
     "output_type": "stream",
     "text": [
      "Epoch 27/50 | Train Loss: 0.3733 | Train Acc: 0.8440 | Val Loss: 0.5346 | Val Acc: 0.7786\n"
     ]
    },
    {
     "name": "stderr",
     "output_type": "stream",
     "text": [
      "Epoch 28/50 [Train]: 100%|██████████| 196/196 [00:07<00:00, 24.89it/s, loss=0.31]\n",
      "Epoch 28/50 [Val]: 100%|██████████| 116/116 [00:01<00:00, 60.20it/s, loss=0.562]\n"
     ]
    },
    {
     "name": "stdout",
     "output_type": "stream",
     "text": [
      "Epoch 28/50 | Train Loss: 0.3364 | Train Acc: 0.8586 | Val Loss: 0.5294 | Val Acc: 0.7809\n"
     ]
    },
    {
     "name": "stderr",
     "output_type": "stream",
     "text": [
      "Epoch 29/50 [Train]: 100%|██████████| 196/196 [00:07<00:00, 24.88it/s, loss=0.196]\n",
      "Epoch 29/50 [Val]: 100%|██████████| 116/116 [00:01<00:00, 60.03it/s, loss=0.555]\n"
     ]
    },
    {
     "name": "stdout",
     "output_type": "stream",
     "text": [
      "Epoch 29/50 | Train Loss: 0.3277 | Train Acc: 0.8613 | Val Loss: 0.5331 | Val Acc: 0.7826\n"
     ]
    },
    {
     "name": "stderr",
     "output_type": "stream",
     "text": [
      "Epoch 30/50 [Train]: 100%|██████████| 196/196 [00:07<00:00, 24.90it/s, loss=0.325]\n",
      "Epoch 30/50 [Val]: 100%|██████████| 116/116 [00:01<00:00, 59.80it/s, loss=0.552]\n"
     ]
    },
    {
     "name": "stdout",
     "output_type": "stream",
     "text": [
      "Epoch 30/50 | Train Loss: 0.3213 | Train Acc: 0.8666 | Val Loss: 0.5379 | Val Acc: 0.7815\n"
     ]
    },
    {
     "name": "stderr",
     "output_type": "stream",
     "text": [
      "Epoch 31/50 [Train]: 100%|██████████| 196/196 [00:07<00:00, 24.83it/s, loss=0.258]\n",
      "Epoch 31/50 [Val]: 100%|██████████| 116/116 [00:01<00:00, 59.40it/s, loss=0.552]\n"
     ]
    },
    {
     "name": "stdout",
     "output_type": "stream",
     "text": [
      "Epoch 31/50 | Train Loss: 0.3179 | Train Acc: 0.8673 | Val Loss: 0.5327 | Val Acc: 0.7862\n"
     ]
    },
    {
     "name": "stderr",
     "output_type": "stream",
     "text": [
      "Epoch 32/50 [Train]: 100%|██████████| 196/196 [00:07<00:00, 24.80it/s, loss=0.215]\n",
      "Epoch 32/50 [Val]: 100%|██████████| 116/116 [00:01<00:00, 59.76it/s, loss=0.494]\n"
     ]
    },
    {
     "name": "stdout",
     "output_type": "stream",
     "text": [
      "Epoch 32/50 | Train Loss: 0.3028 | Train Acc: 0.8717 | Val Loss: 0.5335 | Val Acc: 0.7899\n"
     ]
    },
    {
     "name": "stderr",
     "output_type": "stream",
     "text": [
      "Epoch 33/50 [Train]: 100%|██████████| 196/196 [00:07<00:00, 24.87it/s, loss=0.366]\n",
      "Epoch 33/50 [Val]: 100%|██████████| 116/116 [00:01<00:00, 59.67it/s, loss=0.529]\n"
     ]
    },
    {
     "name": "stdout",
     "output_type": "stream",
     "text": [
      "Epoch 33/50 | Train Loss: 0.3021 | Train Acc: 0.8708 | Val Loss: 0.5361 | Val Acc: 0.7807\n"
     ]
    },
    {
     "name": "stderr",
     "output_type": "stream",
     "text": [
      "Epoch 34/50 [Train]: 100%|██████████| 196/196 [00:07<00:00, 24.87it/s, loss=0.268]\n",
      "Epoch 34/50 [Val]: 100%|██████████| 116/116 [00:01<00:00, 58.70it/s, loss=0.504]\n"
     ]
    },
    {
     "name": "stdout",
     "output_type": "stream",
     "text": [
      "Epoch 34/50 | Train Loss: 0.2908 | Train Acc: 0.8779 | Val Loss: 0.5836 | Val Acc: 0.7837\n"
     ]
    },
    {
     "name": "stderr",
     "output_type": "stream",
     "text": [
      "Epoch 35/50 [Train]: 100%|██████████| 196/196 [00:07<00:00, 24.92it/s, loss=0.233]\n",
      "Epoch 35/50 [Val]: 100%|██████████| 116/116 [00:01<00:00, 59.65it/s, loss=0.553]\n"
     ]
    },
    {
     "name": "stdout",
     "output_type": "stream",
     "text": [
      "Epoch 35/50 | Train Loss: 0.2830 | Train Acc: 0.8822 | Val Loss: 0.5448 | Val Acc: 0.7897\n"
     ]
    },
    {
     "name": "stderr",
     "output_type": "stream",
     "text": [
      "Epoch 36/50 [Train]: 100%|██████████| 196/196 [00:07<00:00, 24.89it/s, loss=0.216]\n",
      "Epoch 36/50 [Val]: 100%|██████████| 116/116 [00:01<00:00, 59.92it/s, loss=0.574]\n"
     ]
    },
    {
     "name": "stdout",
     "output_type": "stream",
     "text": [
      "Epoch 36/50 | Train Loss: 0.2786 | Train Acc: 0.8815 | Val Loss: 0.5623 | Val Acc: 0.7840\n"
     ]
    },
    {
     "name": "stderr",
     "output_type": "stream",
     "text": [
      "Epoch 37/50 [Train]: 100%|██████████| 196/196 [00:07<00:00, 24.92it/s, loss=0.269]\n",
      "Epoch 37/50 [Val]: 100%|██████████| 116/116 [00:01<00:00, 59.86it/s, loss=0.586]\n"
     ]
    },
    {
     "name": "stdout",
     "output_type": "stream",
     "text": [
      "Epoch 37/50 | Train Loss: 0.2689 | Train Acc: 0.8840 | Val Loss: 0.5421 | Val Acc: 0.7869\n"
     ]
    },
    {
     "name": "stderr",
     "output_type": "stream",
     "text": [
      "Epoch 38/50 [Train]: 100%|██████████| 196/196 [00:07<00:00, 24.87it/s, loss=0.263]\n",
      "Epoch 38/50 [Val]: 100%|██████████| 116/116 [00:02<00:00, 46.37it/s, loss=0.613]\n"
     ]
    },
    {
     "name": "stdout",
     "output_type": "stream",
     "text": [
      "Epoch 38/50 | Train Loss: 0.2579 | Train Acc: 0.8875 | Val Loss: 0.5451 | Val Acc: 0.7902\n"
     ]
    },
    {
     "name": "stderr",
     "output_type": "stream",
     "text": [
      "Epoch 39/50 [Train]: 100%|██████████| 196/196 [00:07<00:00, 24.91it/s, loss=0.285]\n",
      "Epoch 39/50 [Val]: 100%|██████████| 116/116 [00:01<00:00, 59.93it/s, loss=0.609]\n"
     ]
    },
    {
     "name": "stdout",
     "output_type": "stream",
     "text": [
      "Epoch 39/50 | Train Loss: 0.2603 | Train Acc: 0.8904 | Val Loss: 0.5446 | Val Acc: 0.7858\n"
     ]
    },
    {
     "name": "stderr",
     "output_type": "stream",
     "text": [
      "Epoch 40/50 [Train]: 100%|██████████| 196/196 [00:07<00:00, 24.90it/s, loss=0.322]\n",
      "Epoch 40/50 [Val]: 100%|██████████| 116/116 [00:01<00:00, 60.06it/s, loss=0.597]\n"
     ]
    },
    {
     "name": "stdout",
     "output_type": "stream",
     "text": [
      "Epoch 40/50 | Train Loss: 0.2574 | Train Acc: 0.8897 | Val Loss: 0.5755 | Val Acc: 0.7936\n"
     ]
    },
    {
     "name": "stderr",
     "output_type": "stream",
     "text": [
      "Epoch 41/50 [Train]: 100%|██████████| 196/196 [00:07<00:00, 24.89it/s, loss=0.226]\n",
      "Epoch 41/50 [Val]: 100%|██████████| 116/116 [00:01<00:00, 60.39it/s, loss=0.629]\n"
     ]
    },
    {
     "name": "stdout",
     "output_type": "stream",
     "text": [
      "Epoch 41/50 | Train Loss: 0.2452 | Train Acc: 0.8964 | Val Loss: 0.5566 | Val Acc: 0.7950\n"
     ]
    },
    {
     "name": "stderr",
     "output_type": "stream",
     "text": [
      "Epoch 42/50 [Train]: 100%|██████████| 196/196 [00:07<00:00, 24.87it/s, loss=0.18]\n",
      "Epoch 42/50 [Val]: 100%|██████████| 116/116 [00:01<00:00, 60.38it/s, loss=0.586]\n"
     ]
    },
    {
     "name": "stdout",
     "output_type": "stream",
     "text": [
      "Epoch 42/50 | Train Loss: 0.2357 | Train Acc: 0.9000 | Val Loss: 0.5454 | Val Acc: 0.7958\n"
     ]
    },
    {
     "name": "stderr",
     "output_type": "stream",
     "text": [
      "Epoch 43/50 [Train]: 100%|██████████| 196/196 [00:07<00:00, 24.85it/s, loss=0.186]\n",
      "Epoch 43/50 [Val]: 100%|██████████| 116/116 [00:01<00:00, 60.45it/s, loss=0.638]\n"
     ]
    },
    {
     "name": "stdout",
     "output_type": "stream",
     "text": [
      "Epoch 43/50 | Train Loss: 0.2252 | Train Acc: 0.9032 | Val Loss: 0.5706 | Val Acc: 0.7949\n"
     ]
    },
    {
     "name": "stderr",
     "output_type": "stream",
     "text": [
      "Epoch 44/50 [Train]: 100%|██████████| 196/196 [00:07<00:00, 24.90it/s, loss=0.235]\n",
      "Epoch 44/50 [Val]: 100%|██████████| 116/116 [00:01<00:00, 60.46it/s, loss=0.637]\n"
     ]
    },
    {
     "name": "stdout",
     "output_type": "stream",
     "text": [
      "Epoch 44/50 | Train Loss: 0.2238 | Train Acc: 0.9011 | Val Loss: 0.5768 | Val Acc: 0.7978\n"
     ]
    },
    {
     "name": "stderr",
     "output_type": "stream",
     "text": [
      "Epoch 45/50 [Train]: 100%|██████████| 196/196 [00:07<00:00, 24.88it/s, loss=0.261]\n",
      "Epoch 45/50 [Val]: 100%|██████████| 116/116 [00:01<00:00, 60.77it/s, loss=0.554]\n"
     ]
    },
    {
     "name": "stdout",
     "output_type": "stream",
     "text": [
      "Epoch 45/50 | Train Loss: 0.2187 | Train Acc: 0.9065 | Val Loss: 0.5620 | Val Acc: 0.7991\n"
     ]
    },
    {
     "name": "stderr",
     "output_type": "stream",
     "text": [
      "Epoch 46/50 [Train]: 100%|██████████| 196/196 [00:07<00:00, 24.83it/s, loss=0.217]\n",
      "Epoch 46/50 [Val]: 100%|██████████| 116/116 [00:01<00:00, 60.79it/s, loss=0.608]\n"
     ]
    },
    {
     "name": "stdout",
     "output_type": "stream",
     "text": [
      "Epoch 46/50 | Train Loss: 0.2106 | Train Acc: 0.9102 | Val Loss: 0.5960 | Val Acc: 0.7978\n"
     ]
    },
    {
     "name": "stderr",
     "output_type": "stream",
     "text": [
      "Epoch 47/50 [Train]: 100%|██████████| 196/196 [00:07<00:00, 24.87it/s, loss=0.177]\n",
      "Epoch 47/50 [Val]: 100%|██████████| 116/116 [00:01<00:00, 60.36it/s, loss=0.639]\n"
     ]
    },
    {
     "name": "stdout",
     "output_type": "stream",
     "text": [
      "Epoch 47/50 | Train Loss: 0.2027 | Train Acc: 0.9140 | Val Loss: 0.6095 | Val Acc: 0.8021\n"
     ]
    },
    {
     "name": "stderr",
     "output_type": "stream",
     "text": [
      "Epoch 48/50 [Train]: 100%|██████████| 196/196 [00:07<00:00, 24.88it/s, loss=0.253]\n",
      "Epoch 48/50 [Val]: 100%|██████████| 116/116 [00:01<00:00, 60.18it/s, loss=0.63]\n"
     ]
    },
    {
     "name": "stdout",
     "output_type": "stream",
     "text": [
      "Epoch 48/50 | Train Loss: 0.1991 | Train Acc: 0.9147 | Val Loss: 0.6133 | Val Acc: 0.7982\n"
     ]
    },
    {
     "name": "stderr",
     "output_type": "stream",
     "text": [
      "Epoch 49/50 [Train]: 100%|██████████| 196/196 [00:07<00:00, 24.89it/s, loss=0.297]\n",
      "Epoch 49/50 [Val]: 100%|██████████| 116/116 [00:01<00:00, 60.16it/s, loss=0.463]\n"
     ]
    },
    {
     "name": "stdout",
     "output_type": "stream",
     "text": [
      "Epoch 49/50 | Train Loss: 0.1962 | Train Acc: 0.9183 | Val Loss: 0.7870 | Val Acc: 0.7851\n"
     ]
    },
    {
     "name": "stderr",
     "output_type": "stream",
     "text": [
      "Epoch 50/50 [Train]: 100%|██████████| 196/196 [00:07<00:00, 24.90it/s, loss=0.136]\n",
      "Epoch 50/50 [Val]: 100%|██████████| 116/116 [00:02<00:00, 46.52it/s, loss=0.652]\n"
     ]
    },
    {
     "name": "stdout",
     "output_type": "stream",
     "text": [
      "Epoch 50/50 | Train Loss: 0.1929 | Train Acc: 0.9179 | Val Loss: 0.6283 | Val Acc: 0.8035\n",
      "\n",
      "Final Validation Metrics:\n",
      "Accuracy:  0.8035\n",
      "Precision: 0.8006\n",
      "Recall:    0.8124\n",
      "F1-score:  0.8065\n",
      "[[11641  3012]\n",
      " [ 2792 12094]]\n"
     ]
    }
   ],
   "source": [
    "model = BiLSTMModel(64, 128, 20002)\n",
    "optimizer = optim.Adam(model.parameters(), lr=learning_rate)\n",
    "train_loop(model, True, 50, \"BiLSTM\")"
   ]
  },
  {
   "cell_type": "code",
   "execution_count": 23,
   "id": "7cecd953",
   "metadata": {
    "execution": {
     "iopub.execute_input": "2025-03-09T07:44:52.671441Z",
     "iopub.status.busy": "2025-03-09T07:44:52.671105Z",
     "iopub.status.idle": "2025-03-09T07:50:44.503690Z",
     "shell.execute_reply": "2025-03-09T07:50:44.502984Z"
    },
    "papermill": {
     "duration": 355.273672,
     "end_time": "2025-03-09T07:50:44.504865",
     "exception": false,
     "start_time": "2025-03-09T07:44:49.231193",
     "status": "completed"
    },
    "tags": []
   },
   "outputs": [
    {
     "name": "stderr",
     "output_type": "stream",
     "text": [
      "Epoch 1/50 [Train]: 100%|██████████| 196/196 [00:05<00:00, 35.24it/s, loss=0.692]\n",
      "Epoch 1/50 [Val]: 100%|██████████| 116/116 [00:01<00:00, 87.90it/s, loss=0.703]\n"
     ]
    },
    {
     "name": "stdout",
     "output_type": "stream",
     "text": [
      "Epoch 1/50 | Train Loss: 0.6921 | Train Acc: 0.5152 | Val Loss: 0.6900 | Val Acc: 0.5266\n"
     ]
    },
    {
     "name": "stderr",
     "output_type": "stream",
     "text": [
      "Epoch 2/50 [Train]: 100%|██████████| 196/196 [00:05<00:00, 35.78it/s, loss=0.692]\n",
      "Epoch 2/50 [Val]: 100%|██████████| 116/116 [00:01<00:00, 86.90it/s, loss=0.695]\n"
     ]
    },
    {
     "name": "stdout",
     "output_type": "stream",
     "text": [
      "Epoch 2/50 | Train Loss: 0.6881 | Train Acc: 0.5359 | Val Loss: 0.6932 | Val Acc: 0.4960\n"
     ]
    },
    {
     "name": "stderr",
     "output_type": "stream",
     "text": [
      "Epoch 3/50 [Train]: 100%|██████████| 196/196 [00:05<00:00, 35.47it/s, loss=0.691]\n",
      "Epoch 3/50 [Val]: 100%|██████████| 116/116 [00:01<00:00, 87.77it/s, loss=0.702]\n"
     ]
    },
    {
     "name": "stdout",
     "output_type": "stream",
     "text": [
      "Epoch 3/50 | Train Loss: 0.6932 | Train Acc: 0.5051 | Val Loss: 0.6931 | Val Acc: 0.5039\n"
     ]
    },
    {
     "name": "stderr",
     "output_type": "stream",
     "text": [
      "Epoch 4/50 [Train]: 100%|██████████| 196/196 [00:05<00:00, 35.32it/s, loss=0.691]\n",
      "Epoch 4/50 [Val]: 100%|██████████| 116/116 [00:01<00:00, 87.26it/s, loss=0.688]\n"
     ]
    },
    {
     "name": "stdout",
     "output_type": "stream",
     "text": [
      "Epoch 4/50 | Train Loss: 0.6927 | Train Acc: 0.5091 | Val Loss: 0.6935 | Val Acc: 0.4960\n"
     ]
    },
    {
     "name": "stderr",
     "output_type": "stream",
     "text": [
      "Epoch 5/50 [Train]: 100%|██████████| 196/196 [00:05<00:00, 35.41it/s, loss=0.69]\n",
      "Epoch 5/50 [Val]: 100%|██████████| 116/116 [00:01<00:00, 86.79it/s, loss=0.705]\n"
     ]
    },
    {
     "name": "stdout",
     "output_type": "stream",
     "text": [
      "Epoch 5/50 | Train Loss: 0.6927 | Train Acc: 0.5113 | Val Loss: 0.6930 | Val Acc: 0.5071\n"
     ]
    },
    {
     "name": "stderr",
     "output_type": "stream",
     "text": [
      "Epoch 6/50 [Train]: 100%|██████████| 196/196 [00:05<00:00, 35.40it/s, loss=0.69]\n",
      "Epoch 6/50 [Val]: 100%|██████████| 116/116 [00:01<00:00, 87.32it/s, loss=0.718]\n"
     ]
    },
    {
     "name": "stdout",
     "output_type": "stream",
     "text": [
      "Epoch 6/50 | Train Loss: 0.6918 | Train Acc: 0.5170 | Val Loss: 0.6910 | Val Acc: 0.5172\n"
     ]
    },
    {
     "name": "stderr",
     "output_type": "stream",
     "text": [
      "Epoch 7/50 [Train]: 100%|██████████| 196/196 [00:05<00:00, 35.31it/s, loss=0.682]\n",
      "Epoch 7/50 [Val]: 100%|██████████| 116/116 [00:01<00:00, 87.11it/s, loss=0.711]\n"
     ]
    },
    {
     "name": "stdout",
     "output_type": "stream",
     "text": [
      "Epoch 7/50 | Train Loss: 0.6842 | Train Acc: 0.5486 | Val Loss: 0.6932 | Val Acc: 0.5039\n"
     ]
    },
    {
     "name": "stderr",
     "output_type": "stream",
     "text": [
      "Epoch 8/50 [Train]: 100%|██████████| 196/196 [00:05<00:00, 35.24it/s, loss=0.564]\n",
      "Epoch 8/50 [Val]: 100%|██████████| 116/116 [00:01<00:00, 86.17it/s, loss=0.546]\n"
     ]
    },
    {
     "name": "stdout",
     "output_type": "stream",
     "text": [
      "Epoch 8/50 | Train Loss: 0.6644 | Train Acc: 0.5967 | Val Loss: 0.6089 | Val Acc: 0.6827\n"
     ]
    },
    {
     "name": "stderr",
     "output_type": "stream",
     "text": [
      "Epoch 9/50 [Train]: 100%|██████████| 196/196 [00:05<00:00, 35.26it/s, loss=0.515]\n",
      "Epoch 9/50 [Val]: 100%|██████████| 116/116 [00:01<00:00, 86.83it/s, loss=0.541]\n"
     ]
    },
    {
     "name": "stdout",
     "output_type": "stream",
     "text": [
      "Epoch 9/50 | Train Loss: 0.6693 | Train Acc: 0.5988 | Val Loss: 0.5991 | Val Acc: 0.6891\n"
     ]
    },
    {
     "name": "stderr",
     "output_type": "stream",
     "text": [
      "Epoch 10/50 [Train]: 100%|██████████| 196/196 [00:05<00:00, 35.03it/s, loss=0.477]\n",
      "Epoch 10/50 [Val]: 100%|██████████| 116/116 [00:01<00:00, 87.48it/s, loss=0.495]\n"
     ]
    },
    {
     "name": "stdout",
     "output_type": "stream",
     "text": [
      "Epoch 10/50 | Train Loss: 0.5034 | Train Acc: 0.7738 | Val Loss: 0.4879 | Val Acc: 0.7801\n"
     ]
    },
    {
     "name": "stderr",
     "output_type": "stream",
     "text": [
      "Epoch 11/50 [Train]: 100%|██████████| 196/196 [00:05<00:00, 34.93it/s, loss=0.457]\n",
      "Epoch 11/50 [Val]: 100%|██████████| 116/116 [00:01<00:00, 85.89it/s, loss=0.458]\n"
     ]
    },
    {
     "name": "stdout",
     "output_type": "stream",
     "text": [
      "Epoch 11/50 | Train Loss: 0.4207 | Train Acc: 0.8215 | Val Loss: 0.4539 | Val Acc: 0.7905\n"
     ]
    },
    {
     "name": "stderr",
     "output_type": "stream",
     "text": [
      "Epoch 12/50 [Train]: 100%|██████████| 196/196 [00:06<00:00, 31.94it/s, loss=0.408]\n",
      "Epoch 12/50 [Val]: 100%|██████████| 116/116 [00:01<00:00, 86.75it/s, loss=0.504]\n"
     ]
    },
    {
     "name": "stdout",
     "output_type": "stream",
     "text": [
      "Epoch 12/50 | Train Loss: 0.3716 | Train Acc: 0.8444 | Val Loss: 0.4692 | Val Acc: 0.7941\n"
     ]
    },
    {
     "name": "stderr",
     "output_type": "stream",
     "text": [
      "Epoch 13/50 [Train]: 100%|██████████| 196/196 [00:05<00:00, 34.96it/s, loss=0.302]\n",
      "Epoch 13/50 [Val]: 100%|██████████| 116/116 [00:01<00:00, 87.22it/s, loss=0.354]\n"
     ]
    },
    {
     "name": "stdout",
     "output_type": "stream",
     "text": [
      "Epoch 13/50 | Train Loss: 0.3308 | Train Acc: 0.8627 | Val Loss: 0.4214 | Val Acc: 0.8166\n"
     ]
    },
    {
     "name": "stderr",
     "output_type": "stream",
     "text": [
      "Epoch 14/50 [Train]: 100%|██████████| 196/196 [00:05<00:00, 35.17it/s, loss=0.425]\n",
      "Epoch 14/50 [Val]: 100%|██████████| 116/116 [00:01<00:00, 87.15it/s, loss=0.357]\n"
     ]
    },
    {
     "name": "stdout",
     "output_type": "stream",
     "text": [
      "Epoch 14/50 | Train Loss: 0.2991 | Train Acc: 0.8807 | Val Loss: 0.4265 | Val Acc: 0.8217\n"
     ]
    },
    {
     "name": "stderr",
     "output_type": "stream",
     "text": [
      "Epoch 15/50 [Train]: 100%|██████████| 196/196 [00:05<00:00, 35.22it/s, loss=0.303]\n",
      "Epoch 15/50 [Val]: 100%|██████████| 116/116 [00:01<00:00, 87.17it/s, loss=0.331]\n"
     ]
    },
    {
     "name": "stdout",
     "output_type": "stream",
     "text": [
      "Epoch 15/50 | Train Loss: 0.2861 | Train Acc: 0.8859 | Val Loss: 0.4099 | Val Acc: 0.8218\n"
     ]
    },
    {
     "name": "stderr",
     "output_type": "stream",
     "text": [
      "Epoch 16/50 [Train]: 100%|██████████| 196/196 [00:05<00:00, 35.16it/s, loss=0.263]\n",
      "Epoch 16/50 [Val]: 100%|██████████| 116/116 [00:01<00:00, 87.11it/s, loss=0.395]\n"
     ]
    },
    {
     "name": "stdout",
     "output_type": "stream",
     "text": [
      "Epoch 16/50 | Train Loss: 0.2576 | Train Acc: 0.8976 | Val Loss: 0.4386 | Val Acc: 0.8188\n"
     ]
    },
    {
     "name": "stderr",
     "output_type": "stream",
     "text": [
      "Epoch 17/50 [Train]: 100%|██████████| 196/196 [00:05<00:00, 35.19it/s, loss=0.317]\n",
      "Epoch 17/50 [Val]: 100%|██████████| 116/116 [00:01<00:00, 86.84it/s, loss=0.547]\n"
     ]
    },
    {
     "name": "stdout",
     "output_type": "stream",
     "text": [
      "Epoch 17/50 | Train Loss: 0.2761 | Train Acc: 0.8937 | Val Loss: 0.4816 | Val Acc: 0.7993\n"
     ]
    },
    {
     "name": "stderr",
     "output_type": "stream",
     "text": [
      "Epoch 18/50 [Train]: 100%|██████████| 196/196 [00:05<00:00, 35.17it/s, loss=0.261]\n",
      "Epoch 18/50 [Val]: 100%|██████████| 116/116 [00:01<00:00, 86.55it/s, loss=0.363]\n"
     ]
    },
    {
     "name": "stdout",
     "output_type": "stream",
     "text": [
      "Epoch 18/50 | Train Loss: 0.2591 | Train Acc: 0.8994 | Val Loss: 0.4440 | Val Acc: 0.8239\n"
     ]
    },
    {
     "name": "stderr",
     "output_type": "stream",
     "text": [
      "Epoch 19/50 [Train]: 100%|██████████| 196/196 [00:05<00:00, 35.13it/s, loss=0.253]\n",
      "Epoch 19/50 [Val]: 100%|██████████| 116/116 [00:01<00:00, 87.20it/s, loss=0.364]\n"
     ]
    },
    {
     "name": "stdout",
     "output_type": "stream",
     "text": [
      "Epoch 19/50 | Train Loss: 0.2208 | Train Acc: 0.9148 | Val Loss: 0.4480 | Val Acc: 0.8233\n"
     ]
    },
    {
     "name": "stderr",
     "output_type": "stream",
     "text": [
      "Epoch 20/50 [Train]: 100%|██████████| 196/196 [00:05<00:00, 34.89it/s, loss=0.254]\n",
      "Epoch 20/50 [Val]: 100%|██████████| 116/116 [00:01<00:00, 86.61it/s, loss=0.389]\n"
     ]
    },
    {
     "name": "stdout",
     "output_type": "stream",
     "text": [
      "Epoch 20/50 | Train Loss: 0.2137 | Train Acc: 0.9194 | Val Loss: 0.4621 | Val Acc: 0.8243\n"
     ]
    },
    {
     "name": "stderr",
     "output_type": "stream",
     "text": [
      "Epoch 21/50 [Train]: 100%|██████████| 196/196 [00:05<00:00, 34.97it/s, loss=0.304]\n",
      "Epoch 21/50 [Val]: 100%|██████████| 116/116 [00:01<00:00, 86.11it/s, loss=0.377]\n"
     ]
    },
    {
     "name": "stdout",
     "output_type": "stream",
     "text": [
      "Epoch 21/50 | Train Loss: 0.1973 | Train Acc: 0.9254 | Val Loss: 0.4570 | Val Acc: 0.8217\n"
     ]
    },
    {
     "name": "stderr",
     "output_type": "stream",
     "text": [
      "Epoch 22/50 [Train]: 100%|██████████| 196/196 [00:05<00:00, 34.68it/s, loss=0.223]\n",
      "Epoch 22/50 [Val]: 100%|██████████| 116/116 [00:01<00:00, 86.71it/s, loss=0.404]\n"
     ]
    },
    {
     "name": "stdout",
     "output_type": "stream",
     "text": [
      "Epoch 22/50 | Train Loss: 0.1862 | Train Acc: 0.9295 | Val Loss: 0.4792 | Val Acc: 0.8215\n"
     ]
    },
    {
     "name": "stderr",
     "output_type": "stream",
     "text": [
      "Epoch 23/50 [Train]: 100%|██████████| 196/196 [00:05<00:00, 34.81it/s, loss=0.374]\n",
      "Epoch 23/50 [Val]: 100%|██████████| 116/116 [00:01<00:00, 86.26it/s, loss=0.386]\n"
     ]
    },
    {
     "name": "stdout",
     "output_type": "stream",
     "text": [
      "Epoch 23/50 | Train Loss: 0.1812 | Train Acc: 0.9338 | Val Loss: 0.4950 | Val Acc: 0.8228\n"
     ]
    },
    {
     "name": "stderr",
     "output_type": "stream",
     "text": [
      "Epoch 24/50 [Train]: 100%|██████████| 196/196 [00:06<00:00, 31.76it/s, loss=0.157]\n",
      "Epoch 24/50 [Val]: 100%|██████████| 116/116 [00:01<00:00, 86.72it/s, loss=0.474]\n"
     ]
    },
    {
     "name": "stdout",
     "output_type": "stream",
     "text": [
      "Epoch 24/50 | Train Loss: 0.1806 | Train Acc: 0.9327 | Val Loss: 0.5112 | Val Acc: 0.8189\n"
     ]
    },
    {
     "name": "stderr",
     "output_type": "stream",
     "text": [
      "Epoch 25/50 [Train]: 100%|██████████| 196/196 [00:05<00:00, 34.84it/s, loss=0.135]\n",
      "Epoch 25/50 [Val]: 100%|██████████| 116/116 [00:01<00:00, 86.80it/s, loss=0.397]\n"
     ]
    },
    {
     "name": "stdout",
     "output_type": "stream",
     "text": [
      "Epoch 25/50 | Train Loss: 0.1645 | Train Acc: 0.9408 | Val Loss: 0.5061 | Val Acc: 0.8231\n"
     ]
    },
    {
     "name": "stderr",
     "output_type": "stream",
     "text": [
      "Epoch 26/50 [Train]: 100%|██████████| 196/196 [00:05<00:00, 34.68it/s, loss=0.245]\n",
      "Epoch 26/50 [Val]: 100%|██████████| 116/116 [00:01<00:00, 86.47it/s, loss=0.462]\n"
     ]
    },
    {
     "name": "stdout",
     "output_type": "stream",
     "text": [
      "Epoch 26/50 | Train Loss: 0.1565 | Train Acc: 0.9440 | Val Loss: 0.5173 | Val Acc: 0.8221\n"
     ]
    },
    {
     "name": "stderr",
     "output_type": "stream",
     "text": [
      "Epoch 27/50 [Train]: 100%|██████████| 196/196 [00:05<00:00, 34.76it/s, loss=0.103]\n",
      "Epoch 27/50 [Val]: 100%|██████████| 116/116 [00:01<00:00, 85.96it/s, loss=0.41]\n"
     ]
    },
    {
     "name": "stdout",
     "output_type": "stream",
     "text": [
      "Epoch 27/50 | Train Loss: 0.1504 | Train Acc: 0.9460 | Val Loss: 0.5111 | Val Acc: 0.8220\n"
     ]
    },
    {
     "name": "stderr",
     "output_type": "stream",
     "text": [
      "Epoch 28/50 [Train]: 100%|██████████| 196/196 [00:05<00:00, 34.76it/s, loss=0.207]\n",
      "Epoch 28/50 [Val]: 100%|██████████| 116/116 [00:01<00:00, 85.70it/s, loss=0.446]\n"
     ]
    },
    {
     "name": "stdout",
     "output_type": "stream",
     "text": [
      "Epoch 28/50 | Train Loss: 0.1521 | Train Acc: 0.9465 | Val Loss: 0.5239 | Val Acc: 0.8183\n"
     ]
    },
    {
     "name": "stderr",
     "output_type": "stream",
     "text": [
      "Epoch 29/50 [Train]: 100%|██████████| 196/196 [00:05<00:00, 34.66it/s, loss=0.192]\n",
      "Epoch 29/50 [Val]: 100%|██████████| 116/116 [00:01<00:00, 86.21it/s, loss=0.418]\n"
     ]
    },
    {
     "name": "stdout",
     "output_type": "stream",
     "text": [
      "Epoch 29/50 | Train Loss: 0.1379 | Train Acc: 0.9519 | Val Loss: 0.5288 | Val Acc: 0.8236\n"
     ]
    },
    {
     "name": "stderr",
     "output_type": "stream",
     "text": [
      "Epoch 30/50 [Train]: 100%|██████████| 196/196 [00:05<00:00, 34.65it/s, loss=0.118]\n",
      "Epoch 30/50 [Val]: 100%|██████████| 116/116 [00:01<00:00, 85.94it/s, loss=0.401]\n"
     ]
    },
    {
     "name": "stdout",
     "output_type": "stream",
     "text": [
      "Epoch 30/50 | Train Loss: 0.1330 | Train Acc: 0.9535 | Val Loss: 0.5505 | Val Acc: 0.8230\n"
     ]
    },
    {
     "name": "stderr",
     "output_type": "stream",
     "text": [
      "Epoch 31/50 [Train]: 100%|██████████| 196/196 [00:05<00:00, 34.27it/s, loss=0.225]\n",
      "Epoch 31/50 [Val]: 100%|██████████| 116/116 [00:01<00:00, 86.09it/s, loss=0.38]\n"
     ]
    },
    {
     "name": "stdout",
     "output_type": "stream",
     "text": [
      "Epoch 31/50 | Train Loss: 0.1306 | Train Acc: 0.9538 | Val Loss: 0.5549 | Val Acc: 0.8239\n"
     ]
    },
    {
     "name": "stderr",
     "output_type": "stream",
     "text": [
      "Epoch 32/50 [Train]: 100%|██████████| 196/196 [00:05<00:00, 34.58it/s, loss=0.0593]\n",
      "Epoch 32/50 [Val]: 100%|██████████| 116/116 [00:01<00:00, 86.29it/s, loss=0.431]\n"
     ]
    },
    {
     "name": "stdout",
     "output_type": "stream",
     "text": [
      "Epoch 32/50 | Train Loss: 0.1229 | Train Acc: 0.9576 | Val Loss: 0.5664 | Val Acc: 0.8211\n"
     ]
    },
    {
     "name": "stderr",
     "output_type": "stream",
     "text": [
      "Epoch 33/50 [Train]: 100%|██████████| 196/196 [00:05<00:00, 34.36it/s, loss=0.208]\n",
      "Epoch 33/50 [Val]: 100%|██████████| 116/116 [00:01<00:00, 86.60it/s, loss=0.425]\n"
     ]
    },
    {
     "name": "stdout",
     "output_type": "stream",
     "text": [
      "Epoch 33/50 | Train Loss: 0.1205 | Train Acc: 0.9584 | Val Loss: 0.5878 | Val Acc: 0.8222\n"
     ]
    },
    {
     "name": "stderr",
     "output_type": "stream",
     "text": [
      "Epoch 34/50 [Train]: 100%|██████████| 196/196 [00:05<00:00, 34.72it/s, loss=0.21]\n",
      "Epoch 34/50 [Val]: 100%|██████████| 116/116 [00:01<00:00, 86.34it/s, loss=0.406]\n"
     ]
    },
    {
     "name": "stdout",
     "output_type": "stream",
     "text": [
      "Epoch 34/50 | Train Loss: 0.1318 | Train Acc: 0.9565 | Val Loss: 0.5889 | Val Acc: 0.8230\n"
     ]
    },
    {
     "name": "stderr",
     "output_type": "stream",
     "text": [
      "Epoch 35/50 [Train]: 100%|██████████| 196/196 [00:05<00:00, 34.45it/s, loss=0.119]\n",
      "Epoch 35/50 [Val]: 100%|██████████| 116/116 [00:01<00:00, 60.76it/s, loss=0.484]\n"
     ]
    },
    {
     "name": "stdout",
     "output_type": "stream",
     "text": [
      "Epoch 35/50 | Train Loss: 0.1129 | Train Acc: 0.9607 | Val Loss: 0.5984 | Val Acc: 0.8190\n"
     ]
    },
    {
     "name": "stderr",
     "output_type": "stream",
     "text": [
      "Epoch 36/50 [Train]: 100%|██████████| 196/196 [00:05<00:00, 34.78it/s, loss=0.05]\n",
      "Epoch 36/50 [Val]: 100%|██████████| 116/116 [00:01<00:00, 86.83it/s, loss=0.555]\n"
     ]
    },
    {
     "name": "stdout",
     "output_type": "stream",
     "text": [
      "Epoch 36/50 | Train Loss: 0.1075 | Train Acc: 0.9637 | Val Loss: 0.6179 | Val Acc: 0.8145\n"
     ]
    },
    {
     "name": "stderr",
     "output_type": "stream",
     "text": [
      "Epoch 37/50 [Train]: 100%|██████████| 196/196 [00:05<00:00, 34.76it/s, loss=0.14]\n",
      "Epoch 37/50 [Val]: 100%|██████████| 116/116 [00:01<00:00, 86.44it/s, loss=0.483]\n"
     ]
    },
    {
     "name": "stdout",
     "output_type": "stream",
     "text": [
      "Epoch 37/50 | Train Loss: 0.1081 | Train Acc: 0.9629 | Val Loss: 0.5952 | Val Acc: 0.8165\n"
     ]
    },
    {
     "name": "stderr",
     "output_type": "stream",
     "text": [
      "Epoch 38/50 [Train]: 100%|██████████| 196/196 [00:05<00:00, 34.87it/s, loss=0.139]\n",
      "Epoch 38/50 [Val]: 100%|██████████| 116/116 [00:01<00:00, 86.34it/s, loss=0.404]\n"
     ]
    },
    {
     "name": "stdout",
     "output_type": "stream",
     "text": [
      "Epoch 38/50 | Train Loss: 0.1040 | Train Acc: 0.9650 | Val Loss: 0.6011 | Val Acc: 0.8187\n"
     ]
    },
    {
     "name": "stderr",
     "output_type": "stream",
     "text": [
      "Epoch 39/50 [Train]: 100%|██████████| 196/196 [00:05<00:00, 34.75it/s, loss=0.0983]\n",
      "Epoch 39/50 [Val]: 100%|██████████| 116/116 [00:01<00:00, 83.63it/s, loss=0.455]\n"
     ]
    },
    {
     "name": "stdout",
     "output_type": "stream",
     "text": [
      "Epoch 39/50 | Train Loss: 0.1032 | Train Acc: 0.9650 | Val Loss: 0.6216 | Val Acc: 0.8170\n"
     ]
    },
    {
     "name": "stderr",
     "output_type": "stream",
     "text": [
      "Epoch 40/50 [Train]: 100%|██████████| 196/196 [00:05<00:00, 34.80it/s, loss=0.15]\n",
      "Epoch 40/50 [Val]: 100%|██████████| 116/116 [00:01<00:00, 86.72it/s, loss=0.461]\n"
     ]
    },
    {
     "name": "stdout",
     "output_type": "stream",
     "text": [
      "Epoch 40/50 | Train Loss: 0.1187 | Train Acc: 0.9607 | Val Loss: 0.6080 | Val Acc: 0.8171\n"
     ]
    },
    {
     "name": "stderr",
     "output_type": "stream",
     "text": [
      "Epoch 41/50 [Train]: 100%|██████████| 196/196 [00:05<00:00, 34.82it/s, loss=0.0353]\n",
      "Epoch 41/50 [Val]: 100%|██████████| 116/116 [00:01<00:00, 86.50it/s, loss=0.384]\n"
     ]
    },
    {
     "name": "stdout",
     "output_type": "stream",
     "text": [
      "Epoch 41/50 | Train Loss: 0.1083 | Train Acc: 0.9632 | Val Loss: 0.6259 | Val Acc: 0.8187\n"
     ]
    },
    {
     "name": "stderr",
     "output_type": "stream",
     "text": [
      "Epoch 42/50 [Train]: 100%|██████████| 196/196 [00:05<00:00, 34.75it/s, loss=0.109]\n",
      "Epoch 42/50 [Val]: 100%|██████████| 116/116 [00:01<00:00, 85.52it/s, loss=0.403]\n"
     ]
    },
    {
     "name": "stdout",
     "output_type": "stream",
     "text": [
      "Epoch 42/50 | Train Loss: 0.1002 | Train Acc: 0.9661 | Val Loss: 0.6408 | Val Acc: 0.8241\n"
     ]
    },
    {
     "name": "stderr",
     "output_type": "stream",
     "text": [
      "Epoch 43/50 [Train]: 100%|██████████| 196/196 [00:05<00:00, 34.57it/s, loss=0.115]\n",
      "Epoch 43/50 [Val]: 100%|██████████| 116/116 [00:01<00:00, 86.64it/s, loss=0.489]\n"
     ]
    },
    {
     "name": "stdout",
     "output_type": "stream",
     "text": [
      "Epoch 43/50 | Train Loss: 0.0910 | Train Acc: 0.9696 | Val Loss: 0.6606 | Val Acc: 0.8179\n"
     ]
    },
    {
     "name": "stderr",
     "output_type": "stream",
     "text": [
      "Epoch 44/50 [Train]: 100%|██████████| 196/196 [00:05<00:00, 34.28it/s, loss=0.0944]\n",
      "Epoch 44/50 [Val]: 100%|██████████| 116/116 [00:01<00:00, 86.27it/s, loss=0.516]\n"
     ]
    },
    {
     "name": "stdout",
     "output_type": "stream",
     "text": [
      "Epoch 44/50 | Train Loss: 0.0871 | Train Acc: 0.9714 | Val Loss: 0.6716 | Val Acc: 0.8194\n"
     ]
    },
    {
     "name": "stderr",
     "output_type": "stream",
     "text": [
      "Epoch 45/50 [Train]: 100%|██████████| 196/196 [00:05<00:00, 34.85it/s, loss=0.169]\n",
      "Epoch 45/50 [Val]: 100%|██████████| 116/116 [00:01<00:00, 86.04it/s, loss=0.587]\n"
     ]
    },
    {
     "name": "stdout",
     "output_type": "stream",
     "text": [
      "Epoch 45/50 | Train Loss: 0.0880 | Train Acc: 0.9709 | Val Loss: 0.6794 | Val Acc: 0.8162\n"
     ]
    },
    {
     "name": "stderr",
     "output_type": "stream",
     "text": [
      "Epoch 46/50 [Train]: 100%|██████████| 196/196 [00:05<00:00, 35.05it/s, loss=0.0967]\n",
      "Epoch 46/50 [Val]: 100%|██████████| 116/116 [00:01<00:00, 86.36it/s, loss=0.537]\n"
     ]
    },
    {
     "name": "stdout",
     "output_type": "stream",
     "text": [
      "Epoch 46/50 | Train Loss: 0.0821 | Train Acc: 0.9722 | Val Loss: 0.6932 | Val Acc: 0.8130\n"
     ]
    },
    {
     "name": "stderr",
     "output_type": "stream",
     "text": [
      "Epoch 47/50 [Train]: 100%|██████████| 196/196 [00:06<00:00, 31.92it/s, loss=0.0377]\n",
      "Epoch 47/50 [Val]: 100%|██████████| 116/116 [00:01<00:00, 87.11it/s, loss=0.645]\n"
     ]
    },
    {
     "name": "stdout",
     "output_type": "stream",
     "text": [
      "Epoch 47/50 | Train Loss: 0.0785 | Train Acc: 0.9730 | Val Loss: 0.7396 | Val Acc: 0.8184\n"
     ]
    },
    {
     "name": "stderr",
     "output_type": "stream",
     "text": [
      "Epoch 48/50 [Train]: 100%|██████████| 196/196 [00:05<00:00, 35.08it/s, loss=0.116]\n",
      "Epoch 48/50 [Val]: 100%|██████████| 116/116 [00:01<00:00, 83.51it/s, loss=0.634]\n"
     ]
    },
    {
     "name": "stdout",
     "output_type": "stream",
     "text": [
      "Epoch 48/50 | Train Loss: 0.0805 | Train Acc: 0.9729 | Val Loss: 0.7415 | Val Acc: 0.8166\n"
     ]
    },
    {
     "name": "stderr",
     "output_type": "stream",
     "text": [
      "Epoch 49/50 [Train]: 100%|██████████| 196/196 [00:05<00:00, 35.27it/s, loss=0.145]\n",
      "Epoch 49/50 [Val]: 100%|██████████| 116/116 [00:01<00:00, 86.45it/s, loss=0.579]\n"
     ]
    },
    {
     "name": "stdout",
     "output_type": "stream",
     "text": [
      "Epoch 49/50 | Train Loss: 0.0771 | Train Acc: 0.9738 | Val Loss: 0.7196 | Val Acc: 0.8149\n"
     ]
    },
    {
     "name": "stderr",
     "output_type": "stream",
     "text": [
      "Epoch 50/50 [Train]: 100%|██████████| 196/196 [00:05<00:00, 35.01it/s, loss=0.0441]\n",
      "Epoch 50/50 [Val]: 100%|██████████| 116/116 [00:01<00:00, 87.01it/s, loss=0.608]\n"
     ]
    },
    {
     "name": "stdout",
     "output_type": "stream",
     "text": [
      "Epoch 50/50 | Train Loss: 0.0729 | Train Acc: 0.9751 | Val Loss: 0.7327 | Val Acc: 0.8189\n",
      "\n",
      "Final Validation Metrics:\n",
      "Accuracy:  0.8189\n",
      "Precision: 0.8130\n",
      "Recall:    0.8321\n",
      "F1-score:  0.8224\n",
      "[[11804  2849]\n",
      " [ 2500 12386]]\n"
     ]
    }
   ],
   "source": [
    "model = StackedLSTMModel(64, 128, 64, 20002)\n",
    "optimizer = optim.Adam(model.parameters(), lr=learning_rate)\n",
    "train_loop(model, True, 50, \"StackedLSTM\")"
   ]
  },
  {
   "cell_type": "code",
   "execution_count": 24,
   "id": "f48e2d14",
   "metadata": {
    "execution": {
     "iopub.execute_input": "2025-03-09T07:50:53.527951Z",
     "iopub.status.busy": "2025-03-09T07:50:53.527631Z",
     "iopub.status.idle": "2025-03-09T08:03:00.362686Z",
     "shell.execute_reply": "2025-03-09T08:03:00.361907Z"
    },
    "papermill": {
     "duration": 731.395755,
     "end_time": "2025-03-09T08:03:00.364049",
     "exception": false,
     "start_time": "2025-03-09T07:50:48.968294",
     "status": "completed"
    },
    "tags": []
   },
   "outputs": [
    {
     "name": "stderr",
     "output_type": "stream",
     "text": [
      "Epoch 1/50 [Train]: 100%|██████████| 196/196 [00:11<00:00, 16.46it/s, loss=0.704]\n",
      "Epoch 1/50 [Val]: 100%|██████████| 116/116 [00:02<00:00, 44.83it/s, loss=0.637]\n"
     ]
    },
    {
     "name": "stdout",
     "output_type": "stream",
     "text": [
      "Epoch 1/50 | Train Loss: 0.6917 | Train Acc: 0.5217 | Val Loss: 0.6997 | Val Acc: 0.5010\n"
     ]
    },
    {
     "name": "stderr",
     "output_type": "stream",
     "text": [
      "Epoch 2/50 [Train]: 100%|██████████| 196/196 [00:11<00:00, 16.54it/s, loss=0.691]\n",
      "Epoch 2/50 [Val]: 100%|██████████| 116/116 [00:02<00:00, 44.20it/s, loss=0.691]\n"
     ]
    },
    {
     "name": "stdout",
     "output_type": "stream",
     "text": [
      "Epoch 2/50 | Train Loss: 0.6897 | Train Acc: 0.5264 | Val Loss: 0.6928 | Val Acc: 0.5062\n"
     ]
    },
    {
     "name": "stderr",
     "output_type": "stream",
     "text": [
      "Epoch 3/50 [Train]: 100%|██████████| 196/196 [00:11<00:00, 16.58it/s, loss=0.697]\n",
      "Epoch 3/50 [Val]: 100%|██████████| 116/116 [00:02<00:00, 44.64it/s, loss=0.683]\n"
     ]
    },
    {
     "name": "stdout",
     "output_type": "stream",
     "text": [
      "Epoch 3/50 | Train Loss: 0.6916 | Train Acc: 0.5173 | Val Loss: 0.6863 | Val Acc: 0.5488\n"
     ]
    },
    {
     "name": "stderr",
     "output_type": "stream",
     "text": [
      "Epoch 4/50 [Train]: 100%|██████████| 196/196 [00:11<00:00, 16.53it/s, loss=0.685]\n",
      "Epoch 4/50 [Val]: 100%|██████████| 116/116 [00:02<00:00, 45.32it/s, loss=0.675]\n"
     ]
    },
    {
     "name": "stdout",
     "output_type": "stream",
     "text": [
      "Epoch 4/50 | Train Loss: 0.6773 | Train Acc: 0.5742 | Val Loss: 0.6934 | Val Acc: 0.5016\n"
     ]
    },
    {
     "name": "stderr",
     "output_type": "stream",
     "text": [
      "Epoch 5/50 [Train]: 100%|██████████| 196/196 [00:11<00:00, 16.53it/s, loss=0.721]\n",
      "Epoch 5/50 [Val]: 100%|██████████| 116/116 [00:02<00:00, 45.31it/s, loss=0.691]\n"
     ]
    },
    {
     "name": "stdout",
     "output_type": "stream",
     "text": [
      "Epoch 5/50 | Train Loss: 0.6837 | Train Acc: 0.5436 | Val Loss: 0.6909 | Val Acc: 0.5293\n"
     ]
    },
    {
     "name": "stderr",
     "output_type": "stream",
     "text": [
      "Epoch 6/50 [Train]: 100%|██████████| 196/196 [00:11<00:00, 16.55it/s, loss=0.603]\n",
      "Epoch 6/50 [Val]: 100%|██████████| 116/116 [00:02<00:00, 45.19it/s, loss=0.656]\n"
     ]
    },
    {
     "name": "stdout",
     "output_type": "stream",
     "text": [
      "Epoch 6/50 | Train Loss: 0.6575 | Train Acc: 0.6160 | Val Loss: 0.6471 | Val Acc: 0.6576\n"
     ]
    },
    {
     "name": "stderr",
     "output_type": "stream",
     "text": [
      "Epoch 7/50 [Train]: 100%|██████████| 196/196 [00:11<00:00, 16.56it/s, loss=0.581]\n",
      "Epoch 7/50 [Val]: 100%|██████████| 116/116 [00:02<00:00, 45.01it/s, loss=0.617]\n"
     ]
    },
    {
     "name": "stdout",
     "output_type": "stream",
     "text": [
      "Epoch 7/50 | Train Loss: 0.6432 | Train Acc: 0.6332 | Val Loss: 0.6046 | Val Acc: 0.6828\n"
     ]
    },
    {
     "name": "stderr",
     "output_type": "stream",
     "text": [
      "Epoch 8/50 [Train]: 100%|██████████| 196/196 [00:11<00:00, 16.54it/s, loss=0.586]\n",
      "Epoch 8/50 [Val]: 100%|██████████| 116/116 [00:02<00:00, 44.99it/s, loss=0.559]\n"
     ]
    },
    {
     "name": "stdout",
     "output_type": "stream",
     "text": [
      "Epoch 8/50 | Train Loss: 0.6223 | Train Acc: 0.6671 | Val Loss: 0.6149 | Val Acc: 0.6825\n"
     ]
    },
    {
     "name": "stderr",
     "output_type": "stream",
     "text": [
      "Epoch 9/50 [Train]: 100%|██████████| 196/196 [00:12<00:00, 15.80it/s, loss=0.677]\n",
      "Epoch 9/50 [Val]: 100%|██████████| 116/116 [00:02<00:00, 44.90it/s, loss=0.647]\n"
     ]
    },
    {
     "name": "stdout",
     "output_type": "stream",
     "text": [
      "Epoch 9/50 | Train Loss: 0.6664 | Train Acc: 0.5857 | Val Loss: 0.6931 | Val Acc: 0.5082\n"
     ]
    },
    {
     "name": "stderr",
     "output_type": "stream",
     "text": [
      "Epoch 10/50 [Train]: 100%|██████████| 196/196 [00:11<00:00, 16.55it/s, loss=0.604]\n",
      "Epoch 10/50 [Val]: 100%|██████████| 116/116 [00:02<00:00, 44.60it/s, loss=0.541]\n"
     ]
    },
    {
     "name": "stdout",
     "output_type": "stream",
     "text": [
      "Epoch 10/50 | Train Loss: 0.6591 | Train Acc: 0.6007 | Val Loss: 0.6267 | Val Acc: 0.6876\n"
     ]
    },
    {
     "name": "stderr",
     "output_type": "stream",
     "text": [
      "Epoch 11/50 [Train]: 100%|██████████| 196/196 [00:11<00:00, 16.56it/s, loss=0.512]\n",
      "Epoch 11/50 [Val]: 100%|██████████| 116/116 [00:02<00:00, 44.55it/s, loss=0.494]\n"
     ]
    },
    {
     "name": "stdout",
     "output_type": "stream",
     "text": [
      "Epoch 11/50 | Train Loss: 0.5687 | Train Acc: 0.7174 | Val Loss: 0.5632 | Val Acc: 0.7197\n"
     ]
    },
    {
     "name": "stderr",
     "output_type": "stream",
     "text": [
      "Epoch 12/50 [Train]: 100%|██████████| 196/196 [00:11<00:00, 16.57it/s, loss=0.431]\n",
      "Epoch 12/50 [Val]: 100%|██████████| 116/116 [00:02<00:00, 44.65it/s, loss=0.437]\n"
     ]
    },
    {
     "name": "stdout",
     "output_type": "stream",
     "text": [
      "Epoch 12/50 | Train Loss: 0.5038 | Train Acc: 0.7671 | Val Loss: 0.5635 | Val Acc: 0.7249\n"
     ]
    },
    {
     "name": "stderr",
     "output_type": "stream",
     "text": [
      "Epoch 13/50 [Train]: 100%|██████████| 196/196 [00:11<00:00, 16.54it/s, loss=0.402]\n",
      "Epoch 13/50 [Val]: 100%|██████████| 116/116 [00:02<00:00, 45.15it/s, loss=0.388]\n"
     ]
    },
    {
     "name": "stdout",
     "output_type": "stream",
     "text": [
      "Epoch 13/50 | Train Loss: 0.4583 | Train Acc: 0.7949 | Val Loss: 0.4993 | Val Acc: 0.7732\n"
     ]
    },
    {
     "name": "stderr",
     "output_type": "stream",
     "text": [
      "Epoch 14/50 [Train]: 100%|██████████| 196/196 [00:11<00:00, 16.55it/s, loss=0.503]\n",
      "Epoch 14/50 [Val]: 100%|██████████| 116/116 [00:02<00:00, 45.49it/s, loss=0.407]\n"
     ]
    },
    {
     "name": "stdout",
     "output_type": "stream",
     "text": [
      "Epoch 14/50 | Train Loss: 0.4395 | Train Acc: 0.8072 | Val Loss: 0.4561 | Val Acc: 0.7902\n"
     ]
    },
    {
     "name": "stderr",
     "output_type": "stream",
     "text": [
      "Epoch 15/50 [Train]: 100%|██████████| 196/196 [00:11<00:00, 16.55it/s, loss=0.444]\n",
      "Epoch 15/50 [Val]: 100%|██████████| 116/116 [00:02<00:00, 45.68it/s, loss=0.393]\n"
     ]
    },
    {
     "name": "stdout",
     "output_type": "stream",
     "text": [
      "Epoch 15/50 | Train Loss: 0.4030 | Train Acc: 0.8253 | Val Loss: 0.4650 | Val Acc: 0.7895\n"
     ]
    },
    {
     "name": "stderr",
     "output_type": "stream",
     "text": [
      "Epoch 16/50 [Train]: 100%|██████████| 196/196 [00:11<00:00, 16.55it/s, loss=0.318]\n",
      "Epoch 16/50 [Val]: 100%|██████████| 116/116 [00:02<00:00, 45.35it/s, loss=0.372]\n"
     ]
    },
    {
     "name": "stdout",
     "output_type": "stream",
     "text": [
      "Epoch 16/50 | Train Loss: 0.3880 | Train Acc: 0.8329 | Val Loss: 0.4475 | Val Acc: 0.7970\n"
     ]
    },
    {
     "name": "stderr",
     "output_type": "stream",
     "text": [
      "Epoch 17/50 [Train]: 100%|██████████| 196/196 [00:11<00:00, 16.54it/s, loss=0.336]\n",
      "Epoch 17/50 [Val]: 100%|██████████| 116/116 [00:02<00:00, 44.92it/s, loss=0.45]\n"
     ]
    },
    {
     "name": "stdout",
     "output_type": "stream",
     "text": [
      "Epoch 17/50 | Train Loss: 0.3816 | Train Acc: 0.8371 | Val Loss: 0.4798 | Val Acc: 0.7826\n"
     ]
    },
    {
     "name": "stderr",
     "output_type": "stream",
     "text": [
      "Epoch 18/50 [Train]: 100%|██████████| 196/196 [00:11<00:00, 16.54it/s, loss=0.405]\n",
      "Epoch 18/50 [Val]: 100%|██████████| 116/116 [00:02<00:00, 44.54it/s, loss=0.454]\n"
     ]
    },
    {
     "name": "stdout",
     "output_type": "stream",
     "text": [
      "Epoch 18/50 | Train Loss: 0.3759 | Train Acc: 0.8417 | Val Loss: 0.5246 | Val Acc: 0.7671\n"
     ]
    },
    {
     "name": "stderr",
     "output_type": "stream",
     "text": [
      "Epoch 19/50 [Train]: 100%|██████████| 196/196 [00:11<00:00, 16.55it/s, loss=0.404]\n",
      "Epoch 19/50 [Val]: 100%|██████████| 116/116 [00:02<00:00, 44.16it/s, loss=0.355]\n"
     ]
    },
    {
     "name": "stdout",
     "output_type": "stream",
     "text": [
      "Epoch 19/50 | Train Loss: 0.3750 | Train Acc: 0.8409 | Val Loss: 0.4607 | Val Acc: 0.8001\n"
     ]
    },
    {
     "name": "stderr",
     "output_type": "stream",
     "text": [
      "Epoch 20/50 [Train]: 100%|██████████| 196/196 [00:11<00:00, 16.57it/s, loss=0.31]\n",
      "Epoch 20/50 [Val]: 100%|██████████| 116/116 [00:02<00:00, 44.06it/s, loss=0.453]\n"
     ]
    },
    {
     "name": "stdout",
     "output_type": "stream",
     "text": [
      "Epoch 20/50 | Train Loss: 0.3389 | Train Acc: 0.8588 | Val Loss: 0.5090 | Val Acc: 0.7895\n"
     ]
    },
    {
     "name": "stderr",
     "output_type": "stream",
     "text": [
      "Epoch 21/50 [Train]: 100%|██████████| 196/196 [00:12<00:00, 15.83it/s, loss=0.289]\n",
      "Epoch 21/50 [Val]: 100%|██████████| 116/116 [00:02<00:00, 44.46it/s, loss=0.452]\n"
     ]
    },
    {
     "name": "stdout",
     "output_type": "stream",
     "text": [
      "Epoch 21/50 | Train Loss: 0.3502 | Train Acc: 0.8507 | Val Loss: 0.4498 | Val Acc: 0.8031\n"
     ]
    },
    {
     "name": "stderr",
     "output_type": "stream",
     "text": [
      "Epoch 22/50 [Train]: 100%|██████████| 196/196 [00:11<00:00, 16.54it/s, loss=0.347]\n",
      "Epoch 22/50 [Val]: 100%|██████████| 116/116 [00:02<00:00, 44.92it/s, loss=0.433]\n"
     ]
    },
    {
     "name": "stdout",
     "output_type": "stream",
     "text": [
      "Epoch 22/50 | Train Loss: 0.3281 | Train Acc: 0.8654 | Val Loss: 0.4398 | Val Acc: 0.8104\n"
     ]
    },
    {
     "name": "stderr",
     "output_type": "stream",
     "text": [
      "Epoch 23/50 [Train]: 100%|██████████| 196/196 [00:11<00:00, 16.53it/s, loss=0.332]\n",
      "Epoch 23/50 [Val]: 100%|██████████| 116/116 [00:02<00:00, 45.26it/s, loss=0.417]\n"
     ]
    },
    {
     "name": "stdout",
     "output_type": "stream",
     "text": [
      "Epoch 23/50 | Train Loss: 0.3309 | Train Acc: 0.8647 | Val Loss: 0.4388 | Val Acc: 0.8012\n"
     ]
    },
    {
     "name": "stderr",
     "output_type": "stream",
     "text": [
      "Epoch 24/50 [Train]: 100%|██████████| 196/196 [00:11<00:00, 16.55it/s, loss=0.404]\n",
      "Epoch 24/50 [Val]: 100%|██████████| 116/116 [00:02<00:00, 45.25it/s, loss=0.439]\n"
     ]
    },
    {
     "name": "stdout",
     "output_type": "stream",
     "text": [
      "Epoch 24/50 | Train Loss: 0.3283 | Train Acc: 0.8656 | Val Loss: 0.4519 | Val Acc: 0.8065\n"
     ]
    },
    {
     "name": "stderr",
     "output_type": "stream",
     "text": [
      "Epoch 25/50 [Train]: 100%|██████████| 196/196 [00:11<00:00, 16.56it/s, loss=0.376]\n",
      "Epoch 25/50 [Val]: 100%|██████████| 116/116 [00:02<00:00, 44.69it/s, loss=0.405]\n"
     ]
    },
    {
     "name": "stdout",
     "output_type": "stream",
     "text": [
      "Epoch 25/50 | Train Loss: 0.3236 | Train Acc: 0.8674 | Val Loss: 0.4889 | Val Acc: 0.7858\n"
     ]
    },
    {
     "name": "stderr",
     "output_type": "stream",
     "text": [
      "Epoch 26/50 [Train]: 100%|██████████| 196/196 [00:11<00:00, 16.55it/s, loss=0.276]\n",
      "Epoch 26/50 [Val]: 100%|██████████| 116/116 [00:02<00:00, 44.09it/s, loss=0.436]\n"
     ]
    },
    {
     "name": "stdout",
     "output_type": "stream",
     "text": [
      "Epoch 26/50 | Train Loss: 0.3226 | Train Acc: 0.8639 | Val Loss: 0.5000 | Val Acc: 0.7883\n"
     ]
    },
    {
     "name": "stderr",
     "output_type": "stream",
     "text": [
      "Epoch 27/50 [Train]: 100%|██████████| 196/196 [00:11<00:00, 16.54it/s, loss=0.367]\n",
      "Epoch 27/50 [Val]: 100%|██████████| 116/116 [00:02<00:00, 44.43it/s, loss=0.419]\n"
     ]
    },
    {
     "name": "stdout",
     "output_type": "stream",
     "text": [
      "Epoch 27/50 | Train Loss: 0.3056 | Train Acc: 0.8765 | Val Loss: 0.4472 | Val Acc: 0.8121\n"
     ]
    },
    {
     "name": "stderr",
     "output_type": "stream",
     "text": [
      "Epoch 28/50 [Train]: 100%|██████████| 196/196 [00:11<00:00, 16.55it/s, loss=0.218]\n",
      "Epoch 28/50 [Val]: 100%|██████████| 116/116 [00:02<00:00, 44.53it/s, loss=0.437]\n"
     ]
    },
    {
     "name": "stdout",
     "output_type": "stream",
     "text": [
      "Epoch 28/50 | Train Loss: 0.2936 | Train Acc: 0.8833 | Val Loss: 0.4483 | Val Acc: 0.8143\n"
     ]
    },
    {
     "name": "stderr",
     "output_type": "stream",
     "text": [
      "Epoch 29/50 [Train]: 100%|██████████| 196/196 [00:11<00:00, 16.56it/s, loss=0.213]\n",
      "Epoch 29/50 [Val]: 100%|██████████| 116/116 [00:02<00:00, 45.10it/s, loss=0.364]\n"
     ]
    },
    {
     "name": "stdout",
     "output_type": "stream",
     "text": [
      "Epoch 29/50 | Train Loss: 0.2842 | Train Acc: 0.8850 | Val Loss: 0.4470 | Val Acc: 0.8145\n"
     ]
    },
    {
     "name": "stderr",
     "output_type": "stream",
     "text": [
      "Epoch 30/50 [Train]: 100%|██████████| 196/196 [00:11<00:00, 16.55it/s, loss=0.184]\n",
      "Epoch 30/50 [Val]: 100%|██████████| 116/116 [00:02<00:00, 44.96it/s, loss=0.52]\n"
     ]
    },
    {
     "name": "stdout",
     "output_type": "stream",
     "text": [
      "Epoch 30/50 | Train Loss: 0.2708 | Train Acc: 0.8930 | Val Loss: 0.4903 | Val Acc: 0.8047\n"
     ]
    },
    {
     "name": "stderr",
     "output_type": "stream",
     "text": [
      "Epoch 31/50 [Train]: 100%|██████████| 196/196 [00:11<00:00, 16.56it/s, loss=0.287]\n",
      "Epoch 31/50 [Val]: 100%|██████████| 116/116 [00:02<00:00, 44.43it/s, loss=0.448]\n"
     ]
    },
    {
     "name": "stdout",
     "output_type": "stream",
     "text": [
      "Epoch 31/50 | Train Loss: 0.2663 | Train Acc: 0.8945 | Val Loss: 0.4467 | Val Acc: 0.8151\n"
     ]
    },
    {
     "name": "stderr",
     "output_type": "stream",
     "text": [
      "Epoch 32/50 [Train]: 100%|██████████| 196/196 [00:11<00:00, 16.51it/s, loss=0.346]\n",
      "Epoch 32/50 [Val]: 100%|██████████| 116/116 [00:02<00:00, 44.42it/s, loss=0.42]\n"
     ]
    },
    {
     "name": "stdout",
     "output_type": "stream",
     "text": [
      "Epoch 32/50 | Train Loss: 0.2812 | Train Acc: 0.8888 | Val Loss: 0.4556 | Val Acc: 0.8138\n"
     ]
    },
    {
     "name": "stderr",
     "output_type": "stream",
     "text": [
      "Epoch 33/50 [Train]: 100%|██████████| 196/196 [00:12<00:00, 15.84it/s, loss=0.382]\n",
      "Epoch 33/50 [Val]: 100%|██████████| 116/116 [00:02<00:00, 44.05it/s, loss=0.425]\n"
     ]
    },
    {
     "name": "stdout",
     "output_type": "stream",
     "text": [
      "Epoch 33/50 | Train Loss: 0.2587 | Train Acc: 0.8985 | Val Loss: 0.4446 | Val Acc: 0.8204\n"
     ]
    },
    {
     "name": "stderr",
     "output_type": "stream",
     "text": [
      "Epoch 34/50 [Train]: 100%|██████████| 196/196 [00:11<00:00, 16.55it/s, loss=0.316]\n",
      "Epoch 34/50 [Val]: 100%|██████████| 116/116 [00:02<00:00, 44.30it/s, loss=0.385]\n"
     ]
    },
    {
     "name": "stdout",
     "output_type": "stream",
     "text": [
      "Epoch 34/50 | Train Loss: 0.2489 | Train Acc: 0.9035 | Val Loss: 0.4466 | Val Acc: 0.8204\n"
     ]
    },
    {
     "name": "stderr",
     "output_type": "stream",
     "text": [
      "Epoch 35/50 [Train]: 100%|██████████| 196/196 [00:11<00:00, 16.56it/s, loss=0.361]\n",
      "Epoch 35/50 [Val]: 100%|██████████| 116/116 [00:02<00:00, 44.34it/s, loss=0.445]\n"
     ]
    },
    {
     "name": "stdout",
     "output_type": "stream",
     "text": [
      "Epoch 35/50 | Train Loss: 0.2396 | Train Acc: 0.9075 | Val Loss: 0.4487 | Val Acc: 0.8226\n"
     ]
    },
    {
     "name": "stderr",
     "output_type": "stream",
     "text": [
      "Epoch 36/50 [Train]: 100%|██████████| 196/196 [00:11<00:00, 16.54it/s, loss=0.212]\n",
      "Epoch 36/50 [Val]: 100%|██████████| 116/116 [00:02<00:00, 44.39it/s, loss=0.417]\n"
     ]
    },
    {
     "name": "stdout",
     "output_type": "stream",
     "text": [
      "Epoch 36/50 | Train Loss: 0.2367 | Train Acc: 0.9088 | Val Loss: 0.4665 | Val Acc: 0.8165\n"
     ]
    },
    {
     "name": "stderr",
     "output_type": "stream",
     "text": [
      "Epoch 37/50 [Train]: 100%|██████████| 196/196 [00:11<00:00, 16.53it/s, loss=0.135]\n",
      "Epoch 37/50 [Val]: 100%|██████████| 116/116 [00:02<00:00, 44.05it/s, loss=0.462]\n"
     ]
    },
    {
     "name": "stdout",
     "output_type": "stream",
     "text": [
      "Epoch 37/50 | Train Loss: 0.2291 | Train Acc: 0.9120 | Val Loss: 0.4800 | Val Acc: 0.8194\n"
     ]
    },
    {
     "name": "stderr",
     "output_type": "stream",
     "text": [
      "Epoch 38/50 [Train]: 100%|██████████| 196/196 [00:11<00:00, 16.55it/s, loss=0.148]\n",
      "Epoch 38/50 [Val]: 100%|██████████| 116/116 [00:02<00:00, 43.46it/s, loss=0.461]\n"
     ]
    },
    {
     "name": "stdout",
     "output_type": "stream",
     "text": [
      "Epoch 38/50 | Train Loss: 0.2145 | Train Acc: 0.9183 | Val Loss: 0.4620 | Val Acc: 0.8253\n"
     ]
    },
    {
     "name": "stderr",
     "output_type": "stream",
     "text": [
      "Epoch 39/50 [Train]: 100%|██████████| 196/196 [00:11<00:00, 16.56it/s, loss=0.199]\n",
      "Epoch 39/50 [Val]: 100%|██████████| 116/116 [00:02<00:00, 43.23it/s, loss=0.443]\n"
     ]
    },
    {
     "name": "stdout",
     "output_type": "stream",
     "text": [
      "Epoch 39/50 | Train Loss: 0.2074 | Train Acc: 0.9221 | Val Loss: 0.4721 | Val Acc: 0.8252\n"
     ]
    },
    {
     "name": "stderr",
     "output_type": "stream",
     "text": [
      "Epoch 40/50 [Train]: 100%|██████████| 196/196 [00:11<00:00, 16.57it/s, loss=0.221]\n",
      "Epoch 40/50 [Val]: 100%|██████████| 116/116 [00:02<00:00, 43.93it/s, loss=0.462]\n"
     ]
    },
    {
     "name": "stdout",
     "output_type": "stream",
     "text": [
      "Epoch 40/50 | Train Loss: 0.1976 | Train Acc: 0.9265 | Val Loss: 0.4729 | Val Acc: 0.8273\n"
     ]
    },
    {
     "name": "stderr",
     "output_type": "stream",
     "text": [
      "Epoch 41/50 [Train]: 100%|██████████| 196/196 [00:11<00:00, 16.55it/s, loss=0.148]\n",
      "Epoch 41/50 [Val]: 100%|██████████| 116/116 [00:02<00:00, 44.07it/s, loss=0.47]\n"
     ]
    },
    {
     "name": "stdout",
     "output_type": "stream",
     "text": [
      "Epoch 41/50 | Train Loss: 0.1958 | Train Acc: 0.9263 | Val Loss: 0.4805 | Val Acc: 0.8201\n"
     ]
    },
    {
     "name": "stderr",
     "output_type": "stream",
     "text": [
      "Epoch 42/50 [Train]: 100%|██████████| 196/196 [00:11<00:00, 16.52it/s, loss=0.202]\n",
      "Epoch 42/50 [Val]: 100%|██████████| 116/116 [00:02<00:00, 44.14it/s, loss=0.45]\n"
     ]
    },
    {
     "name": "stdout",
     "output_type": "stream",
     "text": [
      "Epoch 42/50 | Train Loss: 0.1824 | Train Acc: 0.9331 | Val Loss: 0.4682 | Val Acc: 0.8307\n"
     ]
    },
    {
     "name": "stderr",
     "output_type": "stream",
     "text": [
      "Epoch 43/50 [Train]: 100%|██████████| 196/196 [00:11<00:00, 16.55it/s, loss=0.142]\n",
      "Epoch 43/50 [Val]: 100%|██████████| 116/116 [00:02<00:00, 44.02it/s, loss=0.518]\n"
     ]
    },
    {
     "name": "stdout",
     "output_type": "stream",
     "text": [
      "Epoch 43/50 | Train Loss: 0.1691 | Train Acc: 0.9393 | Val Loss: 0.5008 | Val Acc: 0.8290\n"
     ]
    },
    {
     "name": "stderr",
     "output_type": "stream",
     "text": [
      "Epoch 44/50 [Train]: 100%|██████████| 196/196 [00:11<00:00, 16.57it/s, loss=0.428]\n",
      "Epoch 44/50 [Val]: 100%|██████████| 116/116 [00:02<00:00, 43.58it/s, loss=0.544]\n"
     ]
    },
    {
     "name": "stdout",
     "output_type": "stream",
     "text": [
      "Epoch 44/50 | Train Loss: 0.1619 | Train Acc: 0.9431 | Val Loss: 0.5094 | Val Acc: 0.8277\n"
     ]
    },
    {
     "name": "stderr",
     "output_type": "stream",
     "text": [
      "Epoch 45/50 [Train]: 100%|██████████| 196/196 [00:12<00:00, 15.84it/s, loss=0.111]\n",
      "Epoch 45/50 [Val]: 100%|██████████| 116/116 [00:02<00:00, 43.95it/s, loss=0.529]\n"
     ]
    },
    {
     "name": "stdout",
     "output_type": "stream",
     "text": [
      "Epoch 45/50 | Train Loss: 0.1506 | Train Acc: 0.9466 | Val Loss: 0.5127 | Val Acc: 0.8296\n"
     ]
    },
    {
     "name": "stderr",
     "output_type": "stream",
     "text": [
      "Epoch 46/50 [Train]: 100%|██████████| 196/196 [00:11<00:00, 16.54it/s, loss=0.172]\n",
      "Epoch 46/50 [Val]: 100%|██████████| 116/116 [00:02<00:00, 43.41it/s, loss=0.613]\n"
     ]
    },
    {
     "name": "stdout",
     "output_type": "stream",
     "text": [
      "Epoch 46/50 | Train Loss: 0.1452 | Train Acc: 0.9489 | Val Loss: 0.5465 | Val Acc: 0.8262\n"
     ]
    },
    {
     "name": "stderr",
     "output_type": "stream",
     "text": [
      "Epoch 47/50 [Train]: 100%|██████████| 196/196 [00:11<00:00, 16.54it/s, loss=0.153]\n",
      "Epoch 47/50 [Val]: 100%|██████████| 116/116 [00:02<00:00, 43.96it/s, loss=0.69]\n"
     ]
    },
    {
     "name": "stdout",
     "output_type": "stream",
     "text": [
      "Epoch 47/50 | Train Loss: 0.1389 | Train Acc: 0.9517 | Val Loss: 0.6123 | Val Acc: 0.8191\n"
     ]
    },
    {
     "name": "stderr",
     "output_type": "stream",
     "text": [
      "Epoch 48/50 [Train]: 100%|██████████| 196/196 [00:11<00:00, 16.56it/s, loss=0.189]\n",
      "Epoch 48/50 [Val]: 100%|██████████| 116/116 [00:02<00:00, 43.91it/s, loss=0.579]\n"
     ]
    },
    {
     "name": "stdout",
     "output_type": "stream",
     "text": [
      "Epoch 48/50 | Train Loss: 0.1473 | Train Acc: 0.9477 | Val Loss: 0.5569 | Val Acc: 0.8225\n"
     ]
    },
    {
     "name": "stderr",
     "output_type": "stream",
     "text": [
      "Epoch 49/50 [Train]: 100%|██████████| 196/196 [00:11<00:00, 16.57it/s, loss=0.0942]\n",
      "Epoch 49/50 [Val]: 100%|██████████| 116/116 [00:02<00:00, 43.95it/s, loss=0.575]\n"
     ]
    },
    {
     "name": "stdout",
     "output_type": "stream",
     "text": [
      "Epoch 49/50 | Train Loss: 0.1329 | Train Acc: 0.9539 | Val Loss: 0.5596 | Val Acc: 0.8231\n"
     ]
    },
    {
     "name": "stderr",
     "output_type": "stream",
     "text": [
      "Epoch 50/50 [Train]: 100%|██████████| 196/196 [00:11<00:00, 16.55it/s, loss=0.106]\n",
      "Epoch 50/50 [Val]: 100%|██████████| 116/116 [00:02<00:00, 44.01it/s, loss=0.516]\n"
     ]
    },
    {
     "name": "stdout",
     "output_type": "stream",
     "text": [
      "Epoch 50/50 | Train Loss: 0.1229 | Train Acc: 0.9587 | Val Loss: 0.5885 | Val Acc: 0.8234\n",
      "\n",
      "Final Validation Metrics:\n",
      "Accuracy:  0.8234\n",
      "Precision: 0.8404\n",
      "Recall:    0.8019\n",
      "F1-score:  0.8207\n",
      "[[12386  2267]\n",
      " [ 2949 11937]]\n"
     ]
    }
   ],
   "source": [
    "model = StackedBiLSTMModel(64, 128, 64, 20002)\n",
    "optimizer = optim.Adam(model.parameters(), lr=learning_rate)\n",
    "train_loop(model, True, 50, \"StackedBiLSTM\")"
   ]
  }
 ],
 "metadata": {
  "kaggle": {
   "accelerator": "nvidiaTeslaT4",
   "dataSources": [
    {
     "datasetId": 134715,
     "sourceId": 320111,
     "sourceType": "datasetVersion"
    }
   ],
   "dockerImageVersionId": 30919,
   "isGpuEnabled": true,
   "isInternetEnabled": true,
   "language": "python",
   "sourceType": "notebook"
  },
  "kernelspec": {
   "display_name": "Python 3",
   "language": "python",
   "name": "python3"
  },
  "language_info": {
   "codemirror_mode": {
    "name": "ipython",
    "version": 3
   },
   "file_extension": ".py",
   "mimetype": "text/x-python",
   "name": "python",
   "nbconvert_exporter": "python",
   "pygments_lexer": "ipython3",
   "version": "3.10.12"
  },
  "papermill": {
   "default_parameters": {},
   "duration": 2226.877889,
   "end_time": "2025-03-09T08:03:09.334776",
   "environment_variables": {},
   "exception": null,
   "input_path": "__notebook__.ipynb",
   "output_path": "__notebook__.ipynb",
   "parameters": {},
   "start_time": "2025-03-09T07:26:02.456887",
   "version": "2.6.0"
  }
 },
 "nbformat": 4,
 "nbformat_minor": 5
}
